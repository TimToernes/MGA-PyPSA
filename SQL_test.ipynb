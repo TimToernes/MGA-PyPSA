{
 "cells": [
  {
   "cell_type": "code",
   "execution_count": 1,
   "metadata": {},
   "outputs": [],
   "source": [
    "import mysql.connector"
   ]
  },
  {
   "cell_type": "code",
   "execution_count": 3,
   "metadata": {},
   "outputs": [
    {
     "name": "stdout",
     "output_type": "stream",
     "text": [
      "<mysql.connector.connection_cext.CMySQLConnection object at 0x00000234DBA32518>\n"
     ]
    }
   ],
   "source": [
    "mydb = mysql.connector.connect(\n",
    "  host=\"localhost\",\n",
    "  user=\"root\",\n",
    "  passwd=\"AarhusUniversitet2019\"\n",
    ")\n",
    "\n",
    "print(mydb) "
   ]
  },
  {
   "cell_type": "code",
   "execution_count": 4,
   "metadata": {},
   "outputs": [
    {
     "name": "stdout",
     "output_type": "stream",
     "text": [
      "('classicmodels',)\n",
      "('information_schema',)\n",
      "('mysql',)\n",
      "('performance_schema',)\n",
      "('sakila',)\n",
      "('sys',)\n",
      "('world',)\n"
     ]
    }
   ],
   "source": [
    "mycursor = mydb.cursor()\n",
    "\n",
    "mycursor.execute(\"SHOW DATABASES\")\n",
    "\n",
    "for x in mycursor:\n",
    "  print(x) "
   ]
  },
  {
   "cell_type": "code",
   "execution_count": 18,
   "metadata": {},
   "outputs": [
    {
     "name": "stdout",
     "output_type": "stream",
     "text": [
      "('customerNumber', 'int(11)', 'NO', 'PRI', None, '')\n",
      "('customerName', 'varchar(50)', 'NO', '', None, '')\n",
      "('contactLastName', 'varchar(50)', 'NO', '', None, '')\n",
      "('contactFirstName', 'varchar(50)', 'NO', '', None, '')\n",
      "('phone', 'varchar(50)', 'NO', '', None, '')\n",
      "('addressLine1', 'varchar(50)', 'NO', '', None, '')\n",
      "('addressLine2', 'varchar(50)', 'YES', '', None, '')\n",
      "('city', 'varchar(50)', 'NO', '', None, '')\n",
      "('state', 'varchar(50)', 'YES', '', None, '')\n",
      "('postalCode', 'varchar(15)', 'YES', '', None, '')\n",
      "('country', 'varchar(50)', 'NO', '', None, '')\n",
      "('salesRepEmployeeNumber', 'int(11)', 'YES', 'MUL', None, '')\n",
      "('creditLimit', 'decimal(10,2)', 'YES', '', None, '')\n"
     ]
    }
   ],
   "source": [
    "# Select Database\n",
    "mycursor.execute('USE classicmodels')\n",
    "# query column names from customers table\n",
    "mycursor.execute(\"desc customers\")\n",
    "\n",
    "myresult = mycursor.fetchall()\n",
    "for x in myresult:\n",
    "  print(x)"
   ]
  },
  {
   "cell_type": "code",
   "execution_count": 20,
   "metadata": {},
   "outputs": [
    {
     "name": "stdout",
     "output_type": "stream",
     "text": [
      "(103, '54, rue Royale')\n",
      "(112, '8489 Strong St.')\n",
      "(114, '636 St Kilda Road')\n",
      "(119, '67, rue des Cinquante Otages')\n",
      "(121, 'Erling Skakkes gate 78')\n",
      "(124, '5677 Strong St.')\n",
      "(125, 'ul. Filtrowa 68')\n",
      "(128, 'Lyonerstr. 34')\n",
      "(129, '5557 North Pendale Street')\n",
      "(131, '897 Long Airport Avenue')\n",
      "(141, 'C/ Moralzarzal, 86')\n",
      "(144, 'Berguvsvägen  8')\n",
      "(145, 'Vinbæltet 34')\n",
      "(146, '2, rue du Commerce')\n",
      "(148, 'Bronz Sok.')\n",
      "(151, '4092 Furth Circle')\n",
      "(157, '7586 Pompton St.')\n",
      "(161, '9408 Furth Circle')\n",
      "(166, '106 Linden Road Sandown')\n",
      "(167, 'Brehmen St. 121')\n",
      "(168, '149 Spinnaker Dr.')\n",
      "(169, 'Estrada da saúde n. 58')\n",
      "(171, '184, chaussée de Tournai')\n",
      "(172, '265, boulevard Charonne')\n",
      "(173, '4658 Baden Av.')\n",
      "(175, '25593 South Bay Ln.')\n",
      "(177, '1-6-20 Dojima')\n",
      "(181, '2678 Kingston Rd.')\n",
      "(186, 'Keskuskatu 45')\n",
      "(187, 'Fauntleroy Circus')\n",
      "(189, '25 Maiden Lane')\n",
      "(198, '16780 Pompton St.')\n",
      "(201, '12, Berkeley Gardens Blvd')\n",
      "(202, '1900 Oak St.')\n",
      "(204, '7635 Spinnaker Dr.')\n",
      "(205, '78934 Hillside Dr.')\n",
      "(206, 'Suntec Tower Three')\n",
      "(209, '24, place Kléber')\n",
      "(211, 'Bank of China Tower')\n",
      "(216, 'Rambla de Cataluña, 23')\n",
      "(219, '4097 Douglas Av.')\n",
      "(223, 'Taucherstraße 10')\n",
      "(227, 'Smagsloget 45')\n",
      "(233, '43 rue St. Laurent')\n",
      "(237, 'Gran Vía, 1')\n",
      "(239, '361 Furth Circle')\n",
      "(240, 'Garden House')\n",
      "(242, '1 rue Alsace-Lorraine')\n",
      "(247, 'Magazinweg 7')\n",
      "(249, 'Via Monte Bianco 34')\n",
      "(250, '27 rue du Colonel Pierre Avia')\n",
      "(256, \"67, avenue de l'Europe\")\n",
      "(259, 'Mehrheimerstr. 369')\n",
      "(260, '23 Tsawassen Blvd.')\n",
      "(273, 'Berliner Platz 43')\n",
      "(276, '201 Miller Street')\n",
      "(278, 'Via Ludovico il Moro 22')\n",
      "(282, 'Monitor Money Building')\n",
      "(286, '39323 Spinnaker Dr.')\n",
      "(293, 'Rte des Arsenaux 41 ')\n",
      "(298, 'Grenzacherweg 237')\n",
      "(299, 'Drammensveien 126A')\n",
      "(303, 'Kingsfordweg 151')\n",
      "(307, 'Obere Str. 57')\n",
      "(311, 'Torikatu 38')\n",
      "(314, 'Rue Joseph-Bens 532')\n",
      "(319, '3758 North Pendale Street')\n",
      "(320, '4575 Hillside Dr.')\n",
      "(321, '7734 Strong St.')\n",
      "(323, '162-164 Grafton Road')\n",
      "(324, '35 King George')\n",
      "(328, '7476 Moss Rd.')\n",
      "(333, '31 Duncan St. West End')\n",
      "(334, 'Software Engineering Center')\n",
      "(335, 'Maubelstr. 90')\n",
      "(339, '782 First Street')\n",
      "(344, 'Merchants House')\n",
      "(347, '6047 Douglas Av.')\n",
      "(348, '8 Johnstown Road')\n",
      "(350, '12, rue des Bouchers')\n",
      "(353, \"59 rue de l'Abbaye\")\n",
      "(356, '1250 Pretorius Street')\n",
      "(357, '199 Great North Road')\n",
      "(361, 'Luisenstr. 48')\n",
      "(362, '8616 Spinnaker Dr.')\n",
      "(363, '2304 Long Airport Avenue')\n",
      "(369, 'Jardim das rosas n. 32')\n",
      "(376, 'Hauptstr. 29')\n",
      "(379, '7825 Douglas Av.')\n",
      "(381, 'Boulevard Tirou, 255')\n",
      "(382, 'Geislweg 14')\n",
      "(385, '15 McCallum Street')\n",
      "(386, 'Strada Provinciale 124')\n",
      "(398, '2-2-8 Roppongi')\n",
      "(406, '25, rue Lauriston')\n",
      "(409, 'Adenauerallee 900')\n",
      "(412, '101 Lambton Quay')\n",
      "(415, 'Hansastr. 15')\n",
      "(424, '5905 Pompton St.')\n",
      "(443, 'Heerstr. 22')\n",
      "(447, '2440 Pompton St.')\n",
      "(448, 'Åkergatan 24')\n",
      "(450, '3086 Ingle Ln.')\n",
      "(452, 'Kirchgasse 6')\n",
      "(455, '567 North Pendale Street')\n",
      "(456, '5290 North Pendale Street')\n",
      "(458, 'C/ Araquil, 67')\n",
      "(459, 'Walserweg 21')\n",
      "(462, '1785 First Street')\n",
      "(465, 'c/ Gobelas, 19-1 Urb. La Florida')\n",
      "(471, '7 Allen Street')\n",
      "(473, '20093 Cologno Monzese')\n",
      "(475, '3675 Furth Circle')\n",
      "(477, 'Forsterstr. 57')\n",
      "(480, '2 Pobedy Square')\n",
      "(481, '3 Hagalim Blv.')\n",
      "(484, 'C/ Romero, 33')\n",
      "(486, '11328 Douglas Av.')\n",
      "(487, '2793 Furth Circle')\n",
      "(489, '120 Hanover Sq.')\n",
      "(495, '6251 Ingle Ln.')\n",
      "(496, \"Arenales 1938 3'A'\")\n"
     ]
    }
   ],
   "source": [
    "\n",
    "mycursor.execute(\"SELECT customerNumber, addressLine1 FROM customers\")\n",
    "\n",
    "myresult = mycursor.fetchall()\n",
    "for x in myresult:\n",
    "  print(x)"
   ]
  },
  {
   "cell_type": "code",
   "execution_count": 26,
   "metadata": {},
   "outputs": [
    {
     "name": "stdout",
     "output_type": "stream",
     "text": [
      "('4092 Furth Circle',)\n",
      "('9408 Furth Circle',)\n",
      "('361 Furth Circle',)\n",
      "('3675 Furth Circle',)\n",
      "('2793 Furth Circle',)\n"
     ]
    }
   ],
   "source": [
    "mycursor.execute(\"SELECT addressLine1 FROM customers WHERE addressLine1 LIKE '%circle%'\")\n",
    "\n",
    "myresult = mycursor.fetchall()\n",
    "for x in myresult:\n",
    "  print(x)"
   ]
  },
  {
   "cell_type": "code",
   "execution_count": null,
   "metadata": {},
   "outputs": [],
   "source": []
  }
 ],
 "metadata": {
  "kernelspec": {
   "display_name": "Python 3",
   "language": "python",
   "name": "python3"
  },
  "language_info": {
   "codemirror_mode": {
    "name": "ipython",
    "version": 3
   },
   "file_extension": ".py",
   "mimetype": "text/x-python",
   "name": "python",
   "nbconvert_exporter": "python",
   "pygments_lexer": "ipython3",
   "version": "3.7.3"
  },
  "varInspector": {
   "cols": {
    "lenName": 16,
    "lenType": 16,
    "lenVar": 40
   },
   "kernels_config": {
    "python": {
     "delete_cmd_postfix": "",
     "delete_cmd_prefix": "del ",
     "library": "var_list.py",
     "varRefreshCmd": "print(var_dic_list())"
    },
    "r": {
     "delete_cmd_postfix": ") ",
     "delete_cmd_prefix": "rm(",
     "library": "var_list.r",
     "varRefreshCmd": "cat(var_dic_list()) "
    }
   },
   "types_to_exclude": [
    "module",
    "function",
    "builtin_function_or_method",
    "instance",
    "_Feature"
   ],
   "window_display": false
  }
 },
 "nbformat": 4,
 "nbformat_minor": 2
}
