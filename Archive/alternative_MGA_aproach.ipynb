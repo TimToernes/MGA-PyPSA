{
 "cells": [
  {
   "cell_type": "markdown",
   "metadata": {},
   "source": [
    "## Alternative aproach to MGA using euclidean distance"
   ]
  },
  {
   "cell_type": "code",
   "execution_count": 1,
   "metadata": {},
   "outputs": [],
   "source": [
    "import pypsa\n",
    "import pandas as pd\n",
    "import numpy as np"
   ]
  },
  {
   "cell_type": "markdown",
   "metadata": {},
   "source": [
    "In this section a series of coppies of seperate disconected busses/networks is generated. They are all in the same PyPSA model, but will not influence each other"
   ]
  },
  {
   "cell_type": "markdown",
   "metadata": {},
   "source": [
    "### Network 1\n",
    "This is a simple network with a limited number of variables"
   ]
  },
  {
   "cell_type": "code",
   "execution_count": 35,
   "metadata": {},
   "outputs": [],
   "source": [
    "# Creating a networks and adding a MGA class to the network object\n",
    "network1 = pypsa.Network()\n",
    "class MGA:\n",
    "    pass\n",
    "network1.MGA = MGA\n",
    "network1.MGA.nr_of_networks = 5\n",
    "\n",
    "# Setting number of snapshots to simulate\n",
    "network1.set_snapshots(range(2))\n",
    "# Looping over the number of networks to be created,\n",
    "# and altering the bus name and the generator names.\n",
    "# The last number in the generator name indicates which instance\n",
    "# of the networks they belong to\n",
    "for i in range(network1.MGA.nr_of_networks):\n",
    "    \n",
    "    # Add a bus to the network.\n",
    "    bus_nr = 'bus'+str(i+1)\n",
    "    network1.add(\"Bus\",bus_nr,x=i,y=i%2)\n",
    "\n",
    "    # Add a coal power plant to the bus.\n",
    "    network1.add(\"Generator\",'coal'+str(i+1),bus=bus_nr,\n",
    "           type = 'coal',\n",
    "           committable=True,\n",
    "           p_min_pu=0.2,\n",
    "           marginal_cost=15,\n",
    "           capital_cost = 100,\n",
    "           p_nom_extendable=True)\n",
    "\n",
    "    # Add a gas power plant to the bus.\n",
    "    network1.add(\"Generator\",'gas'+str(i+1),bus=bus_nr,\n",
    "           type = 'gas',\n",
    "           committable=True,\n",
    "           marginal_cost=20,\n",
    "           capital_cost = 75,\n",
    "           p_min_pu=0,\n",
    "           p_nom_extendable=True)\n",
    "    \n",
    "    # Add a gas power plant to the bus.\n",
    "    network1.add(\"Generator\",'bio'+str(i+1),bus=bus_nr,\n",
    "           type = 'bio',\n",
    "           committable=True,\n",
    "           marginal_cost=18,\n",
    "           capital_cost = 115,\n",
    "           p_min_pu=0,\n",
    "           p_nom_extendable=True)\n",
    "    # Add load to the bus.\n",
    "    network1.add(\"Load\",'load'+str(i+1),bus=bus_nr,p_set=[6000,1200])"
   ]
  },
  {
   "cell_type": "code",
   "execution_count": 36,
   "metadata": {
    "scrolled": false
   },
   "outputs": [
    {
     "data": {
      "text/plain": [
       "(<matplotlib.collections.PathCollection at 0x1698a5f5b70>,)"
      ]
     },
     "execution_count": 36,
     "metadata": {},
     "output_type": "execute_result"
    },
    {
     "data": {
      "image/png": "[encoded data removed]",
      "text/plain": [
       "<Figure size 432x288 with 1 Axes>"
      ]
     },
     "metadata": {
      "needs_background": "light"
     },
     "output_type": "display_data"
    }
   ],
   "source": [
    "network1.plot()"
   ]
  },
  {
   "cell_type": "markdown",
   "metadata": {},
   "source": [
    "### Network 2\n",
    "A much more complex network, simulating an entire year of production with hourly data"
   ]
  },
  {
   "cell_type": "code",
   "execution_count": 37,
   "metadata": {},
   "outputs": [],
   "source": [
    "def annuity(n,r):\n",
    "    \"\"\"Calculate the annuity factor for an asset with lifetime n years and\n",
    "    discount rate of r, e.g. annuity(20,0.05)*20 = 1.6\"\"\"\n",
    "\n",
    "    if r > 0:\n",
    "        return r/(1. - 1./(1.+r)**n)\n",
    "    else:\n",
    "        return 1/n\n",
    "    \n",
    "# Create network\n",
    "network2 = pypsa.Network()\n",
    "class MGA:\n",
    "    pass\n",
    "network2.MGA = MGA\n",
    "network2.MGA.nr_of_networks = 5\n",
    "\n",
    "# Import of data\n",
    "hours_in_2018=pd.date_range('2017-06-01T00:00Z','2017-07-01T00:00Z',freq='H') #'2017-12-31T23:00Z'\n",
    "network2.set_snapshots(hours_in_2018)\n",
    "# wind data\n",
    "df_onshorewind = pd.read_csv('data/onshore_wind_1979-2017.csv',sep=';',index_col=0)\n",
    "CF_wind=df_onshorewind['ESP'][[hour.strftime(\"%Y-%m-%dT%H:%M:%SZ\") for hour in network2.snapshots]]\n",
    "capital_cost_onshorewind=annuity(30,0.07)*910000*(1+0.033) # in €/MW\n",
    "# solar data\n",
    "df_solar = pd.read_csv('data/pv_optimal.csv',sep=';',index_col=0)\n",
    "CF_solar=df_solar['ESP'][[hour.strftime(\"%Y-%m-%dT%H:%M:%SZ\") for hour in network2.snapshots]]\n",
    "capital_cost_solar=annuity(25,0.07)*425000*(1+0.03) # in €/MW\n",
    "# OCGT data\n",
    "capital_cost_OCGT=annuity(25,0.07)*560000*(1+0.033) # in €/MW\n",
    "fuel_cost=21.6 # in €/MWh_th\n",
    "efficiency=0.39\n",
    "marginal_cost_OCGT=fuel_cost/efficiency # in €/MWh_el\n",
    "\n",
    "# electricity demand data\n",
    "df_elec = pd.read_csv('data/Total Load - Day Ahead _ Actual_DK_201701010000-201801010000.csv',sep=',',index_col=0) # in MWh\n",
    "df_elec = df_elec[:network2.snapshots.size]\n",
    "\n",
    "# As with network1, i loop over the number of networks to be generated, \n",
    "# altering the index on the names\n",
    "for i in range(network2.MGA.nr_of_networks):\n",
    "\n",
    "    # Add a electricity bus to the network\n",
    "    bus_nr = 'bus'+str(i+1)\n",
    "    network2.add(\"Bus\",bus_nr)\n",
    "\n",
    "    # add load to the bus\n",
    "    network2.add(\"Load\",\"load\"+str(i+1), \n",
    "                bus=bus_nr, \n",
    "                p_set=df_elec['Actual Total Load [MW] - Denmark (DK)'].tolist())\n",
    "    \n",
    "    # add onshore wind generator\n",
    "    network2.add(\"Generator\",\n",
    "                \"onshorewind\"+str(i+1),\n",
    "                bus=bus_nr,\n",
    "                p_nom_extendable=True,\n",
    "                #carrier=\"onshorewind\",\n",
    "                #p_nom_max=1000,\n",
    "                capital_cost = capital_cost_onshorewind,\n",
    "                marginal_cost = 0,\n",
    "                p_max_pu = CF_wind)\n",
    "\n",
    "    # add solar PV generator\n",
    "    network2.add(\"Generator\",\n",
    "                \"solar\"+str(i+1),\n",
    "                bus=bus_nr,\n",
    "                p_nom_extendable=True,\n",
    "                #carrier=\"solar\",\n",
    "                #p_nom_max=1000,\n",
    "                capital_cost = capital_cost_solar,\n",
    "                marginal_cost = 0,\n",
    "                p_max_pu = CF_solar)\n",
    "\n",
    "\n",
    "    network2.add(\"Generator\",\n",
    "                \"OCGT\"+str(i+1),\n",
    "                bus=bus_nr,\n",
    "                p_nom_extendable=True,\n",
    "                #carrier=\"gas\",\n",
    "                p_nom_max=4000,\n",
    "                capital_cost = capital_cost_OCGT,\n",
    "                marginal_cost = marginal_cost_OCGT\n",
    "               )"
   ]
  },
  {
   "cell_type": "code",
   "execution_count": null,
   "metadata": {},
   "outputs": [],
   "source": []
  },
  {
   "cell_type": "markdown",
   "metadata": {},
   "source": [
    "As with the regular MGA aproach the network is first solved without the new objective function"
   ]
  },
  {
   "cell_type": "code",
   "execution_count": 55,
   "metadata": {
    "scrolled": false
   },
   "outputs": [
    {
     "name": "stderr",
     "output_type": "stream",
     "text": [
      "INFO:pypsa.pf:Slack bus for sub-network 0 is bus1\n",
      "INFO:pypsa.pf:Slack bus for sub-network 1 is bus2\n",
      "INFO:pypsa.pf:Slack bus for sub-network 2 is bus3\n",
      "INFO:pypsa.pf:Slack bus for sub-network 3 is bus4\n",
      "INFO:pypsa.pf:Slack bus for sub-network 4 is bus5\n",
      "INFO:pypsa.opf:Performed preliminary steps\n",
      "INFO:pypsa.opf:Building pyomo model using `angles` formulation\n",
      "INFO:pypsa.opf:Solving model using gurobi\n",
      "INFO:pypsa.opf:Optimization successful\n"
     ]
    },
    {
     "name": "stdout",
     "output_type": "stream",
     "text": [
      "# ==========================================================\n",
      "# = Solver Results                                         =\n",
      "# ==========================================================\n",
      "# ----------------------------------------------------------\n",
      "#   Problem Information\n",
      "# ----------------------------------------------------------\n",
      "Problem: \n",
      "- Name: x14436_copy\n",
      "  Lower bound: 5125790576.703593\n",
      "  Upper bound: 5125790576.703593\n",
      "  Number of objectives: 1\n",
      "  Number of constraints: 28841\n",
      "  Number of variables: 14436\n",
      "  Number of binary variables: 0\n",
      "  Number of integer variables: 0\n",
      "  Number of continuous variables: 14436\n",
      "  Number of nonzeros: 45511\n",
      "  Sense: minimize\n",
      "# ----------------------------------------------------------\n",
      "#   Solver Information\n",
      "# ----------------------------------------------------------\n",
      "Solver: \n",
      "- Status: ok\n",
      "  Return code: 0\n",
      "  Message: Model was solved to optimality (subject to tolerances), and an optimal solution is available.\n",
      "  Termination condition: optimal\n",
      "  Termination message: Model was solved to optimality (subject to tolerances), and an optimal solution is available.\n",
      "  Wall time: 0.16990089416503906\n",
      "  Error rc: 0\n",
      "  Time: 0.704592227935791\n",
      "# ----------------------------------------------------------\n",
      "#   Solution Information\n",
      "# ----------------------------------------------------------\n",
      "Solution: \n",
      "- number of solutions: 0\n",
      "  number of solutions displayed: 0\n"
     ]
    },
    {
     "data": {
      "text/plain": [
       "('ok', 'optimal')"
      ]
     },
     "execution_count": 55,
     "metadata": {},
     "output_type": "execute_result"
    }
   ],
   "source": [
    "    # Initial solution of network, with non MGA objective function \n",
    "    network = network2\n",
    "    network.lopf(network.snapshots,solver_name='gurobi')"
   ]
  },
  {
   "cell_type": "markdown",
   "metadata": {},
   "source": [
    "The initial solution will alway contain a set of identical networks. The last number in the generators describe which network they belong to"
   ]
  },
  {
   "cell_type": "code",
   "execution_count": 67,
   "metadata": {
    "scrolled": true
   },
   "outputs": [
    {
     "data": {
      "text/plain": [
       "onshorewind1    9273.042875\n",
       "solar1          1187.293873\n",
       "OCGT1           4000.000000\n",
       "onshorewind2    9273.042875\n",
       "solar2          1187.293873\n",
       "OCGT2           4000.000000\n",
       "onshorewind3    9273.042875\n",
       "solar3          1187.293873\n",
       "OCGT3           4000.000000\n",
       "onshorewind4    9273.042875\n",
       "solar4          1187.293873\n",
       "OCGT4           4000.000000\n",
       "onshorewind5    9273.042875\n",
       "solar5          1187.293873\n",
       "OCGT5           4000.000000\n",
       "Name: p_nom_opt, dtype: float64"
      ]
     },
     "execution_count": 67,
     "metadata": {},
     "output_type": "execute_result"
    }
   ],
   "source": [
    "network.generators.p_nom_opt"
   ]
  },
  {
   "cell_type": "code",
   "execution_count": 57,
   "metadata": {
    "scrolled": true
   },
   "outputs": [
    {
     "data": {
      "text/plain": [
       "1025.1581153407194"
      ]
     },
     "execution_count": 57,
     "metadata": {},
     "output_type": "execute_result"
    }
   ],
   "source": [
    "    # Saving the value of the old objective function.\n",
    "    old_objective_value = network.model.objective()\n",
    "    old_objective_value/network.MGA.nr_of_networks/1000000"
   ]
  },
  {
   "cell_type": "markdown",
   "metadata": {},
   "source": [
    "## Defining an alternative objective function \n",
    "\n",
    "In this alternative aproach, the MGA objective function seeks to maximize the distance between a number $N$ of networks with $K$ variables. The distance between the networks can be described with the squared euqlidian distance for an $n$ dimentional vector. \n",
    "\n",
    "$ d = \\sum_{i=1}^n{(x_{i}-x_{i})^2} $\n",
    "\n",
    "By summing the distance from each network to all other networks, an expression describing the distinction between the networks is found. The following objective function will try to maximize the distance between all networks:\n",
    "\n",
    "$N$ : Number of independent networks \n",
    "\n",
    "$K$ : Number of variables in each network\n",
    "\n",
    "$x$ : 2D vector containing all variables. 1st index specifies the variable and 2nd index specifies the network\n",
    "\n",
    "$ p= - \\frac{1}{2}  \\sum_i^N{\\sum_j^N{\\sum_k^K{(x_{k,i}-x_{k,j})^2}}}  $ \n",
    "\n",
    "The drawback is that the objective function is now a square function, increasing computation time, however gurobi is capable of handeling it, at least for smaller energy systems"
   ]
  },
  {
   "cell_type": "code",
   "execution_count": 58,
   "metadata": {},
   "outputs": [],
   "source": [
    "def extra_functionality(network, snapshots,  MGA_slack = 0.05):\n",
    "    # Defining exstra functionality, that updates the objective function of the network\n",
    "    # Default value for MGA_slack is 0.05 if nothing else is specified \n",
    "    import pyomo.environ as pyomo_env\n",
    "\n",
    "    # Number of networks\n",
    "    #N = int(list(network.generators_t.p.columns)[-1][-1]) \n",
    "    N = network.MGA.nr_of_networks\n",
    "    # Generating a list of variables sorted after their variable index and network number\n",
    "    # First index: Variable nr\n",
    "    # Second index: Network number    \n",
    "    gen_p_list = [[] for i in range(N)]\n",
    "    for gen_p in network.model.generator_p:\n",
    "        gen_p_network_idx = int(gen_p[0][-1])-1\n",
    "        gen_p_list[gen_p_network_idx].append(gen_p)\n",
    "    # Number of variables in each network\n",
    "    K = len(gen_p_list[0]) \n",
    "\n",
    "    # Creating the MGA objective function\n",
    "    MGA_objective = 0\n",
    "    for i in range(N):\n",
    "        for j in range(N):\n",
    "            for k in range(K):\n",
    "                if i < j:\n",
    "                    gen_p1 = network.model.generator_p[gen_p_list[i][k]]\n",
    "                    gen_p2 = network.model.generator_p[gen_p_list[j][k]]\n",
    "                    MGA_objective += (gen_p1**2 + gen_p2**2 - 2*gen_p1*gen_p2 )\n",
    "    # Changing sign of objective function to make it a minimization problem\n",
    "    MGA_objective = - MGA_objective \n",
    "    #print (MGA_objective)\n",
    "\n",
    "    # Adding new MGA objective function to network \n",
    "    network.model.mga_objective = pyomo_env.Objective(expr=MGA_objective)\n",
    "    # Deactivate the old objective function and activate the MGA objective function.\n",
    "    network.model.objective.deactivate()\n",
    "    network.model.mga_objective.activate()\n",
    "    # Add the MGA slack constraint.\n",
    "    #network.model.mga_constraint = pyomo_env.Constraint(expr=network.model.objective.expr <= \n",
    "    #                                      (1 + MGA_slack) * old_objective_value)\n",
    "\n",
    "\n",
    "    constraint0 = 0\n",
    "    constraint1 = 0\n",
    "    constraint2 = 0\n",
    "    constraint3 = 0\n",
    "    constraint4 = 0\n",
    "    for i in range(3):\n",
    "        constraint0 += network.generators.ix[i,'marginal_cost']*network.model.generator_p[gen_p_list[0][i]]\n",
    "        constraint0 += network.generators.ix[i,'capital_cost']*network.model.generator_p[gen_p_list[0][i]]\n",
    "        constraint1 += network.generators.ix[i,'marginal_cost']*network.model.generator_p[gen_p_list[1][i]]\n",
    "        constraint1 += network.generators.ix[i,'capital_cost']*network.model.generator_p[gen_p_list[1][i]]\n",
    "        constraint2 += network.generators.ix[i,'marginal_cost']*network.model.generator_p[gen_p_list[2][i]]\n",
    "        constraint2 += network.generators.ix[i,'capital_cost']*network.model.generator_p[gen_p_list[2][i]]\n",
    "        constraint3 += network.generators.ix[i,'marginal_cost']*network.model.generator_p[gen_p_list[3][i]]\n",
    "        constraint3 += network.generators.ix[i,'capital_cost']*network.model.generator_p[gen_p_list[3][i]]\n",
    "        constraint4 += network.generators.ix[i,'marginal_cost']*network.model.generator_p[gen_p_list[4][i]]\n",
    "        constraint4 += network.generators.ix[i,'capital_cost']*network.model.generator_p[gen_p_list[4][i]]\n",
    "    \n",
    "    network.model.mga_constraint0 = pyomo_env.Constraint(expr = constraint0<= (1 + MGA_slack) * old_objective_value/5)\n",
    "    network.model.mga_constraint1 = pyomo_env.Constraint(expr = constraint1<= (1 + MGA_slack) * old_objective_value/5)\n",
    "    network.model.mga_constraint2 = pyomo_env.Constraint(expr = constraint2<= (1 + MGA_slack) * old_objective_value/5)\n",
    "    network.model.mga_constraint3 = pyomo_env.Constraint(expr = constraint3<= (1 + MGA_slack) * old_objective_value/5)\n",
    "    network.model.mga_constraint4 = pyomo_env.Constraint(expr = constraint4<= (1 + MGA_slack) * old_objective_value/5)"
   ]
  },
  {
   "cell_type": "code",
   "execution_count": 71,
   "metadata": {},
   "outputs": [],
   "source": [
    "def extra_functionality3(network, snapshots,  MGA_slack = 0.05):\n",
    "    # Defining exstra functionality, that updates the objective function of the network\n",
    "    # Default value for MGA_slack is 0.05 if nothing else is specified \n",
    "    import pyomo.environ as pyomo_env\n",
    "\n",
    "    \n",
    "    # Number of networks\n",
    "    N = int(list(network.generators_t.p.columns)[-1][-1]) \n",
    "    # Generating a list of variables sorted after their variable index and network number\n",
    "    # First index: Variable nr\n",
    "    # Second index: Network number    \n",
    "    gen_p_list = [[] for i in range(N)]\n",
    "    for gen_p in network.model.generator_p:\n",
    "        gen_p_network_idx = int(gen_p[0][-1])-1\n",
    "        gen_p_list[gen_p_network_idx].append(gen_p)\n",
    "    # Number of variables in each network\n",
    "    K = len(gen_p_list[0]) \n",
    "\n",
    "    # Creating the MGA objective function\n",
    "    MGA_objective = 0\n",
    "\n",
    "    for i in range(N):\n",
    "        for j in range(N):\n",
    "            for k in range(K):\n",
    "                if i < j:\n",
    "                    gen_p1 = network.model.generator_p[gen_p_list[i][k]]\n",
    "                    gen_p2 = network.model.generator_p[gen_p_list[j][k]]\n",
    "                    MGA_objective += (gen_p1**2 + gen_p2**2 - 2*gen_p1*gen_p2 )\n",
    "    # Changing sign of objective function to make it a minimization problem\n",
    "    MGA_objective = - MGA_objective \n",
    "    print (MGA_objective)\n",
    "    \n",
    "    # Adding new MGA objective function to network \n",
    "    network.model.mga_objective = pyomo_env.Objective(expr=MGA_objective)\n",
    "    # Deactivate the old objective function and activate the MGA objective function.\n",
    "    network.model.objective.deactivate()\n",
    "    network.model.mga_objective.activate()\n",
    "    # Add the MGA slack constraint.\n",
    "    network.model.mga_constraint = pyomo_env.Constraint(expr=network.model.objective.expr <= \n",
    "                                          (1 + MGA_slack) * old_objective_value)\n",
    "\n"
   ]
  },
  {
   "cell_type": "code",
   "execution_count": 59,
   "metadata": {},
   "outputs": [],
   "source": [
    "def extra_functionality2(network, snapshots,  MGA_slack = 0.05):\n",
    "    # Defining exstra functionality, that updates the objective function of the network\n",
    "    # Default value for MGA_slack is 0.05 if nothing else is specified \n",
    "    import pyomo.environ as pyomo_env\n",
    "\n",
    "    # Number of networks\n",
    "    #N = int(list(network.generators_t.p.columns)[-1][-1]) \n",
    "    N = network.MGA.nr_of_networks\n",
    "    # Generating a list of variables sorted after their variable index and network number\n",
    "    # First index: Variable nr\n",
    "    # Second index: Network number    \n",
    "    gen_p_list = [[] for i in range(N)]\n",
    "    for gen_p in network.model.generator_p_nom:\n",
    "        gen_p_network_idx = int(gen_p[-1])-1\n",
    "        gen_p_list[gen_p_network_idx].append(gen_p)\n",
    "\n",
    "\n",
    "\n",
    "    gen_p_list_old = [[] for i in range(N)]\n",
    "    for gen_p in network.model.generator_p:\n",
    "        gen_p_network_idx = int(gen_p[0][-1])-1\n",
    "        gen_p_list_old[gen_p_network_idx].append(gen_p)\n",
    "    # Number of variables in each network\n",
    "    K = len(gen_p_list[0]) \n",
    "\n",
    "    # Creating the MGA objective function\n",
    "    MGA_objective = 0\n",
    "    for i in range(N):\n",
    "        for j in range(N):\n",
    "            for k in range(K):\n",
    "                if i < j:\n",
    "                    gen_p1 = network.model.generator_p_nom[gen_p_list[i][k]]\n",
    "                    gen_p2 = network.model.generator_p_nom[gen_p_list[j][k]]\n",
    "                    MGA_objective += (gen_p1**2 + gen_p2**2 - 2*gen_p1*gen_p2 )\n",
    "    # Changing sign of objective function to make it a minimization problem\n",
    "    MGA_objective =  -MGA_objective \n",
    "    print (MGA_objective)\n",
    "\n",
    "    # Adding new MGA objective function to network \n",
    "    network.model.mga_objective = pyomo_env.Objective(expr=MGA_objective)\n",
    "    # Deactivate the old objective function and activate the MGA objective function.\n",
    "    network.model.objective.deactivate()\n",
    "    network.model.mga_objective.activate()\n",
    "    # Add the MGA slack constraint.\n",
    "    network.model.mga_constraint = pyomo_env.Constraint(expr=network.model.objective.expr <= \n",
    "                                          (1 + MGA_slack) * old_objective_value)\n",
    "\n",
    "\n",
    "    constraint0 = 0\n",
    "    constraint1 = 0\n",
    "    constraint2 = 0\n",
    "    constraint3 = 0\n",
    "    constraint4 = 0\n",
    "    for i in range(6):\n",
    "        constraint0 += network.generators.ix[int(i/2),'marginal_cost']*network.model.generator_p[gen_p_list_old[0][i]]\n",
    "        constraint1 += network.generators.ix[int(i/2),'marginal_cost']*network.model.generator_p[gen_p_list_old[1][i]]\n",
    "        constraint2 += network.generators.ix[int(i/2),'marginal_cost']*network.model.generator_p[gen_p_list_old[2][i]]\n",
    "        constraint3 += network.generators.ix[int(i/2),'marginal_cost']*network.model.generator_p[gen_p_list_old[3][i]]\n",
    "        constraint4 += network.generators.ix[int(i/2),'marginal_cost']*network.model.generator_p[gen_p_list_old[4][i]]\n",
    "    for i in range(3):\n",
    "        constraint0 += network.generators.ix[i,'capital_cost']*network.model.generator_p_nom[gen_p_list[0][i]]\n",
    "        constraint1 += network.generators.ix[i,'capital_cost']*network.model.generator_p_nom[gen_p_list[1][i]]\n",
    "        constraint2 += network.generators.ix[i,'capital_cost']*network.model.generator_p_nom[gen_p_list[2][i]]\n",
    "        constraint3 += network.generators.ix[i,'capital_cost']*network.model.generator_p_nom[gen_p_list[3][i]]\n",
    "        constraint4 += network.generators.ix[i,'capital_cost']*network.model.generator_p_nom[gen_p_list[4][i]]\n",
    "        \n",
    "   \n",
    "    print('#########################')\n",
    "    print(constraint0)\n",
    "    #network.model.mga_constraint0 = pyomo_env.Constraint(expr = constraint0<= (1 + MGA_slack) * old_objective_value/5)\n",
    "    #network.model.mga_constraint1 = pyomo_env.Constraint(expr = constraint1<= (1 + MGA_slack) * old_objective_value/5)\n",
    "    #network.model.mga_constraint2 = pyomo_env.Constraint(expr = constraint2<= (1 + MGA_slack) * old_objective_value/5)\n",
    "    #network.model.mga_constraint3 = pyomo_env.Constraint(expr = constraint3<= (1 + MGA_slack) * old_objective_value/5)\n",
    "    #network.model.mga_constraint4 = pyomo_env.Constraint(expr = constraint4<= (1 + MGA_slack) * old_objective_value/5)"
   ]
  },
  {
   "cell_type": "markdown",
   "metadata": {},
   "source": [
    "### Solving network with MGA objective function"
   ]
  },
  {
   "cell_type": "code",
   "execution_count": 72,
   "metadata": {
    "scrolled": true
   },
   "outputs": [
    {
     "name": "stderr",
     "output_type": "stream",
     "text": [
      "INFO:pypsa.pf:Slack bus for sub-network 0 is bus1\n",
      "INFO:pypsa.pf:Slack bus for sub-network 1 is bus2\n",
      "INFO:pypsa.pf:Slack bus for sub-network 2 is bus3\n",
      "INFO:pypsa.pf:Slack bus for sub-network 3 is bus4\n",
      "INFO:pypsa.pf:Slack bus for sub-network 4 is bus5\n",
      "INFO:pypsa.opf:Performed preliminary steps\n",
      "INFO:pypsa.opf:Building pyomo model using `angles` formulation\n",
      "INFO:pypsa.opf:Solving model using gurobi\n",
      "IOPub data rate exceeded.\n",
      "The notebook server will temporarily stop sending output\n",
      "to the client in order to avoid crashing it.\n",
      "To change this limit, set the config variable\n",
      "`--NotebookApp.iopub_data_rate_limit`.\n",
      "\n",
      "Current values:\n",
      "NotebookApp.iopub_data_rate_limit=1000000.0 (bytes/sec)\n",
      "NotebookApp.rate_limit_window=3.0 (secs)\n",
      "\n",
      "ERROR:pyomo.opt:Solver (gurobi) returned non-zero return code (1)\n",
      "ERROR:pyomo.opt:Solver log:\n",
      "Academic license - for non-commercial use only\n",
      "Read LP format model from file C:\\Users\\Tim\\AppData\\Local\\Temp\\tmph7wq7xth.pyomo.lp\n",
      "Reading time = 0.13 seconds\n",
      "x14436: 28842 rows, 14436 columns, 49131 nonzeros\n",
      "Changed value of parameter QCPDual to 1\n",
      "   Prev: 0  Min: 0  Max: 1  Default: 0\n",
      "Changed value of parameter psdtol to 0.1\n",
      "   Prev: 1e-06  Min: 0.0  Max: 1e+100  Default: 1e-06\n",
      "Parameter presolve unchanged\n",
      "   Value: -1  Min: -1  Max: 2  Default: -1\n",
      "Optimize a model with 28842 rows, 14436 columns and 49131 nonzeros\n",
      "Model has 32445 quadratic objective terms\n",
      "Coefficient statistics:\n",
      "  Matrix range     [2e-03, 8e+04]\n",
      "  Objective range  [0e+00, 0e+00]\n",
      "  QObjective range [4e+00, 8e+00]\n",
      "  Bounds range     [4e+03, 4e+03]\n",
      "  RHS range        [1e+00, 6e+09]\n",
      "Warning: Model contains large rhs\n",
      "         Consider reformulating model or setting NumericFocus parameter\n",
      "         to avoid numerical issues.\n",
      "Presolve removed 15776 rows and 4961 columns\n",
      "Traceback (most recent call last):\n",
      "  File \"<stdin>\", line 5, in <module>\n",
      "  File \"C:\\Users\\Tim\\Anaconda3\\lib\\site-packages\\pyomo\\solvers\\plugins\\solvers\\GUROBI_RUN.py\", line 114, in gurobi_run\n",
      "    model.optimize()\n",
      "  File \"model.pxi\", line 727, in gurobipy.Model.optimize\n",
      "gurobipy.GurobiError: Objective Q not PSD (negative diagonal entry)\n",
      "\n"
     ]
    },
    {
     "name": "stdout",
     "output_type": "stream",
     "text": [
      "ERROR: Solver (gurobi) returned non-zero return code (1)\n",
      "ERROR: Solver log: Academic license - for non-commercial use only Read LP\n",
      "    format model from file\n",
      "    C:\\Users\\Tim\\AppData\\Local\\Temp\\tmph7wq7xth.pyomo.lp Reading time = 0.13\n",
      "    seconds x14436: 28842 rows, 14436 columns, 49131 nonzeros Changed value of\n",
      "    parameter QCPDual to 1\n",
      "       Prev: 0  Min: 0  Max: 1  Default: 0\n",
      "    Changed value of parameter psdtol to 0.1\n",
      "       Prev: 1e-06  Min: 0.0  Max: 1e+100  Default: 1e-06\n",
      "    Parameter presolve unchanged\n",
      "       Value: -1  Min: -1  Max: 2  Default: -1\n",
      "    Optimize a model with 28842 rows, 14436 columns and 49131 nonzeros Model\n",
      "    has 32445 quadratic objective terms Coefficient statistics:\n",
      "      Matrix range     [2e-03, 8e+04] Objective range  [0e+00, 0e+00]\n",
      "      QObjective range [4e+00, 8e+00] Bounds range     [4e+03, 4e+03] RHS\n",
      "      range        [1e+00, 6e+09]\n",
      "    Warning: Model contains large rhs\n",
      "             Consider reformulating model or setting NumericFocus parameter to\n",
      "             avoid numerical issues.\n",
      "    Presolve removed 15776 rows and 4961 columns Traceback (most recent call\n",
      "    last):\n",
      "      File \"<stdin>\", line 5, in <module> File\n",
      "      \"C:\\Users\\Tim\\Anaconda3\\lib\\site-\n",
      "      packages\\pyomo\\solvers\\plugins\\solvers\\GUROBI_RUN.py\", line 114, in\n",
      "      gurobi_run\n",
      "        model.optimize()\n",
      "      File \"model.pxi\", line 727, in gurobipy.Model.optimize\n",
      "    gurobipy.GurobiError: Objective Q not PSD (negative diagonal entry)\n"
     ]
    },
    {
     "ename": "ApplicationError",
     "evalue": "Solver (gurobi) did not exit normally",
     "output_type": "error",
     "traceback": [
      "\u001b[1;31m---------------------------------------------------------------------------\u001b[0m",
      "\u001b[1;31mApplicationError\u001b[0m                          Traceback (most recent call last)",
      "\u001b[1;32m<ipython-input-72-d01ecc0ee5aa>\u001b[0m in \u001b[0;36m<module>\u001b[1;34m\u001b[0m\n\u001b[0;32m      5\u001b[0m              \u001b[0mextra_functionality\u001b[0m\u001b[1;33m=\u001b[0m\u001b[1;32mlambda\u001b[0m \u001b[0mnetwork\u001b[0m\u001b[1;33m,\u001b[0m\u001b[0;31m\\\u001b[0m\u001b[1;33m\u001b[0m\u001b[1;33m\u001b[0m\u001b[0m\n\u001b[0;32m      6\u001b[0m              \u001b[0msnapshots\u001b[0m\u001b[1;33m:\u001b[0m \u001b[0mextra_functionality3\u001b[0m\u001b[1;33m(\u001b[0m\u001b[0mnetwork\u001b[0m\u001b[1;33m,\u001b[0m \u001b[0msnapshots\u001b[0m\u001b[1;33m,\u001b[0m \u001b[0mMGA_slack\u001b[0m\u001b[1;33m)\u001b[0m\u001b[1;33m,\u001b[0m\u001b[1;33m\u001b[0m\u001b[1;33m\u001b[0m\u001b[0m\n\u001b[1;32m----> 7\u001b[1;33m              solver_options = {'psdtol':0.1,'presolve':-1}) \n\u001b[0m",
      "\u001b[1;32m~\\Anaconda3\\lib\\site-packages\\pypsa\\opf.py\u001b[0m in \u001b[0;36mnetwork_lopf\u001b[1;34m(network, snapshots, solver_name, solver_io, skip_pre, extra_functionality, solver_logfile, solver_options, keep_files, formulation, ptdf_tolerance, free_memory, extra_postprocessing)\u001b[0m\n\u001b[0;32m   1572\u001b[0m                               \u001b[0msolver_logfile\u001b[0m\u001b[1;33m=\u001b[0m\u001b[0msolver_logfile\u001b[0m\u001b[1;33m,\u001b[0m \u001b[0msolver_options\u001b[0m\u001b[1;33m=\u001b[0m\u001b[0msolver_options\u001b[0m\u001b[1;33m,\u001b[0m\u001b[1;33m\u001b[0m\u001b[1;33m\u001b[0m\u001b[0m\n\u001b[0;32m   1573\u001b[0m                               \u001b[0mkeep_files\u001b[0m\u001b[1;33m=\u001b[0m\u001b[0mkeep_files\u001b[0m\u001b[1;33m,\u001b[0m \u001b[0mfree_memory\u001b[0m\u001b[1;33m=\u001b[0m\u001b[0mfree_memory\u001b[0m\u001b[1;33m,\u001b[0m\u001b[1;33m\u001b[0m\u001b[1;33m\u001b[0m\u001b[0m\n\u001b[1;32m-> 1574\u001b[1;33m                               extra_postprocessing=extra_postprocessing)\n\u001b[0m",
      "\u001b[1;32m~\\Anaconda3\\lib\\site-packages\\pypsa\\opf.py\u001b[0m in \u001b[0;36mnetwork_lopf_solve\u001b[1;34m(network, snapshots, formulation, solver_options, solver_logfile, keep_files, free_memory, extra_postprocessing)\u001b[0m\n\u001b[0;32m   1479\u001b[0m             \u001b[0mnetwork\u001b[0m\u001b[1;33m.\u001b[0m\u001b[0mresults\u001b[0m \u001b[1;33m=\u001b[0m \u001b[0mnetwork\u001b[0m\u001b[1;33m.\u001b[0m\u001b[0mopt\u001b[0m\u001b[1;33m.\u001b[0m\u001b[0msolve\u001b[0m\u001b[1;33m(\u001b[0m\u001b[1;33m*\u001b[0m\u001b[0margs\u001b[0m\u001b[1;33m,\u001b[0m \u001b[0msuffixes\u001b[0m\u001b[1;33m=\u001b[0m\u001b[1;33m[\u001b[0m\u001b[1;34m\"dual\"\u001b[0m\u001b[1;33m]\u001b[0m\u001b[1;33m,\u001b[0m \u001b[0mkeepfiles\u001b[0m\u001b[1;33m=\u001b[0m\u001b[0mkeep_files\u001b[0m\u001b[1;33m,\u001b[0m \u001b[0mlogfile\u001b[0m\u001b[1;33m=\u001b[0m\u001b[0msolver_logfile\u001b[0m\u001b[1;33m,\u001b[0m \u001b[0moptions\u001b[0m\u001b[1;33m=\u001b[0m\u001b[0msolver_options\u001b[0m\u001b[1;33m)\u001b[0m\u001b[1;33m\u001b[0m\u001b[1;33m\u001b[0m\u001b[0m\n\u001b[0;32m   1480\u001b[0m     \u001b[1;32melse\u001b[0m\u001b[1;33m:\u001b[0m\u001b[1;33m\u001b[0m\u001b[1;33m\u001b[0m\u001b[0m\n\u001b[1;32m-> 1481\u001b[1;33m         \u001b[0mnetwork\u001b[0m\u001b[1;33m.\u001b[0m\u001b[0mresults\u001b[0m \u001b[1;33m=\u001b[0m \u001b[0mnetwork\u001b[0m\u001b[1;33m.\u001b[0m\u001b[0mopt\u001b[0m\u001b[1;33m.\u001b[0m\u001b[0msolve\u001b[0m\u001b[1;33m(\u001b[0m\u001b[1;33m*\u001b[0m\u001b[0margs\u001b[0m\u001b[1;33m,\u001b[0m \u001b[0msuffixes\u001b[0m\u001b[1;33m=\u001b[0m\u001b[1;33m[\u001b[0m\u001b[1;34m\"dual\"\u001b[0m\u001b[1;33m]\u001b[0m\u001b[1;33m,\u001b[0m \u001b[0mkeepfiles\u001b[0m\u001b[1;33m=\u001b[0m\u001b[0mkeep_files\u001b[0m\u001b[1;33m,\u001b[0m \u001b[0mlogfile\u001b[0m\u001b[1;33m=\u001b[0m\u001b[0msolver_logfile\u001b[0m\u001b[1;33m,\u001b[0m \u001b[0moptions\u001b[0m\u001b[1;33m=\u001b[0m\u001b[0msolver_options\u001b[0m\u001b[1;33m)\u001b[0m\u001b[1;33m\u001b[0m\u001b[1;33m\u001b[0m\u001b[0m\n\u001b[0m\u001b[0;32m   1482\u001b[0m \u001b[1;33m\u001b[0m\u001b[0m\n\u001b[0;32m   1483\u001b[0m     \u001b[1;32mif\u001b[0m \u001b[0mlogger\u001b[0m\u001b[1;33m.\u001b[0m\u001b[0misEnabledFor\u001b[0m\u001b[1;33m(\u001b[0m\u001b[0mlogging\u001b[0m\u001b[1;33m.\u001b[0m\u001b[0mINFO\u001b[0m\u001b[1;33m)\u001b[0m\u001b[1;33m:\u001b[0m\u001b[1;33m\u001b[0m\u001b[1;33m\u001b[0m\u001b[0m\n",
      "\u001b[1;32m~\\Anaconda3\\lib\\site-packages\\pyomo\\opt\\base\\solvers.py\u001b[0m in \u001b[0;36msolve\u001b[1;34m(self, *args, **kwds)\u001b[0m\n\u001b[0;32m    598\u001b[0m                     \u001b[0mlogger\u001b[0m\u001b[1;33m.\u001b[0m\u001b[0merror\u001b[0m\u001b[1;33m(\u001b[0m\u001b[1;34m\"Solver log:\\n\"\u001b[0m \u001b[1;33m+\u001b[0m \u001b[0mstr\u001b[0m\u001b[1;33m(\u001b[0m\u001b[0m_status\u001b[0m\u001b[1;33m.\u001b[0m\u001b[0mlog\u001b[0m\u001b[1;33m)\u001b[0m\u001b[1;33m)\u001b[0m\u001b[1;33m\u001b[0m\u001b[1;33m\u001b[0m\u001b[0m\n\u001b[0;32m    599\u001b[0m                 raise pyutilib.common.ApplicationError(\n\u001b[1;32m--> 600\u001b[1;33m                     \"Solver (%s) did not exit normally\" % self.name)\n\u001b[0m\u001b[0;32m    601\u001b[0m             \u001b[0msolve_completion_time\u001b[0m \u001b[1;33m=\u001b[0m \u001b[0mtime\u001b[0m\u001b[1;33m.\u001b[0m\u001b[0mtime\u001b[0m\u001b[1;33m(\u001b[0m\u001b[1;33m)\u001b[0m\u001b[1;33m\u001b[0m\u001b[1;33m\u001b[0m\u001b[0m\n\u001b[0;32m    602\u001b[0m             \u001b[1;32mif\u001b[0m \u001b[0mself\u001b[0m\u001b[1;33m.\u001b[0m\u001b[0m_report_timing\u001b[0m\u001b[1;33m:\u001b[0m\u001b[1;33m\u001b[0m\u001b[1;33m\u001b[0m\u001b[0m\n",
      "\u001b[1;31mApplicationError\u001b[0m: Solver (gurobi) did not exit normally"
     ]
    }
   ],
   "source": [
    "MGA_slack = 0.1\n",
    "#Solve network with updated objective function\n",
    "network.lopf(network.snapshots,\\\n",
    "             solver_name='gurobi',\\\n",
    "             extra_functionality=lambda network,\\\n",
    "             snapshots: extra_functionality3(network, snapshots, MGA_slack),\n",
    "             solver_options = {'psdtol':0.1,'presolve':-1}) "
   ]
  },
  {
   "cell_type": "code",
   "execution_count": 73,
   "metadata": {},
   "outputs": [
    {
     "data": {
      "text/plain": [
       "onshorewind1    9273.042875\n",
       "solar1          1187.293873\n",
       "OCGT1           4000.000000\n",
       "onshorewind2    9273.042875\n",
       "solar2          1187.293873\n",
       "OCGT2           4000.000000\n",
       "onshorewind3    9273.042875\n",
       "solar3          1187.293873\n",
       "OCGT3           4000.000000\n",
       "onshorewind4    9273.042875\n",
       "solar4          1187.293873\n",
       "OCGT4           4000.000000\n",
       "onshorewind5    9273.042875\n",
       "solar5          1187.293873\n",
       "OCGT5           4000.000000\n",
       "Name: p_nom_opt, dtype: float64"
      ]
     },
     "execution_count": 73,
     "metadata": {},
     "output_type": "execute_result"
    }
   ],
   "source": [
    "network.generators.p_nom_opt"
   ]
  },
  {
   "cell_type": "markdown",
   "metadata": {},
   "source": [
    "### Plotting funciton "
   ]
  },
  {
   "cell_type": "code",
   "execution_count": 70,
   "metadata": {},
   "outputs": [
    {
     "data": {
      "image/png": "[encoded data removed]",
      "text/plain": [
       "<Figure size 648x216 with 2 Axes>"
      ]
     },
     "metadata": {
      "needs_background": "light"
     },
     "output_type": "display_data"
    },
    {
     "data": {
      "image/png": "[encoded data removed]",
      "text/plain": [
       "<Figure size 648x216 with 2 Axes>"
      ]
     },
     "metadata": {
      "needs_background": "light"
     },
     "output_type": "display_data"
    },
    {
     "data": {
      "image/png": "[encoded data removed]",
      "text/plain": [
       "<Figure size 648x216 with 2 Axes>"
      ]
     },
     "metadata": {
      "needs_background": "light"
     },
     "output_type": "display_data"
    },
    {
     "data": {
      "image/png": "[encoded data removed]",
      "text/plain": [
       "<Figure size 648x216 with 2 Axes>"
      ]
     },
     "metadata": {
      "needs_background": "light"
     },
     "output_type": "display_data"
    },
    {
     "data": {
      "image/png": "[encoded data removed]",
      "text/plain": [
       "<Figure size 648x216 with 2 Axes>"
      ]
     },
     "metadata": {
      "needs_background": "light"
     },
     "output_type": "display_data"
    }
   ],
   "source": [
    "import matplotlib.pyplot as plt\n",
    "labels = network.generators.index.tolist()\n",
    "productions = [] # Production in MWh per technology\n",
    "for generator in network.generators.index.tolist():\n",
    "    productions.append(network.generators_t.p[generator].sum())\n",
    "\n",
    "sizes=network.generators['p_nom_opt'] # Plant sizes in MW\n",
    "\n",
    "generator_cost = network.generators['capital_cost']*sizes+productions*network.generators['marginal_cost']\n",
    "network_cost = [] # Total cost for one year of opperation\n",
    "for i in range(network.MGA.nr_of_networks):\n",
    "    network_cost.append( int(sum(generator_cost[i*3:i*3+3])/1000000))\n",
    "    \n",
    "for idx in range(network.MGA.nr_of_networks):\n",
    "    colors=['blue', 'orange', 'brown']\n",
    "    fig, axs = plt.subplots(1, 2, figsize=(9, 3), sharey=False)\n",
    "    #plt.figure(idx+1)\n",
    "    \n",
    "    fig.suptitle('Solution '+str(idx+1) + ', Cost: ' + str(network_cost[idx]),y=1.1)\n",
    "    \n",
    "    axs[0].pie(productions[3*idx:3*idx+3], \n",
    "            colors=colors, \n",
    "            labels=labels[3*idx:3*idx+3], \n",
    "            wedgeprops={'linewidth':0})\n",
    "    axs[0].axis('equal')\n",
    "    axs[0].set_title('Electricity mix [MWh]', y=1)\n",
    "    \n",
    "    axs[1].bar([0,1,2],\n",
    "               sizes[3*idx:3*idx+3], \n",
    "               width=0.8,\n",
    "               bottom=-1)\n",
    "    axs[1].set_ylim(0,max(sizes)*1.1)\n",
    "    axs[1].set_xticks([0,1,2])\n",
    "    axs[1].set_xticklabels(labels[3*idx:3*idx+3])\n",
    "    axs[1].set_title('Generator sizes [MW]', y=1)"
   ]
  },
  {
   "cell_type": "code",
   "execution_count": 64,
   "metadata": {},
   "outputs": [
    {
     "ename": "TypeError",
     "evalue": "cannot do index indexing on <class 'pandas.core.indexes.datetimes.DatetimeIndex'> with these indexers [1] of <class 'int'>",
     "output_type": "error",
     "traceback": [
      "\u001b[1;31m---------------------------------------------------------------------------\u001b[0m",
      "\u001b[1;31mTypeError\u001b[0m                                 Traceback (most recent call last)",
      "\u001b[1;32m<ipython-input-64-371e8d49bfcf>\u001b[0m in \u001b[0;36m<module>\u001b[1;34m\u001b[0m\n\u001b[1;32m----> 1\u001b[1;33m \u001b[0mnetwork\u001b[0m\u001b[1;33m.\u001b[0m\u001b[0mgenerators_t\u001b[0m\u001b[1;33m.\u001b[0m\u001b[0mp\u001b[0m\u001b[1;33m.\u001b[0m\u001b[0mloc\u001b[0m\u001b[1;33m[\u001b[0m\u001b[1;36m1\u001b[0m\u001b[1;33m]\u001b[0m\u001b[1;33m.\u001b[0m\u001b[0msum\u001b[0m\u001b[1;33m(\u001b[0m\u001b[1;33m)\u001b[0m\u001b[1;33m\u001b[0m\u001b[1;33m\u001b[0m\u001b[0m\n\u001b[0m",
      "\u001b[1;32m~\\Anaconda3\\lib\\site-packages\\pandas\\core\\indexing.py\u001b[0m in \u001b[0;36m__getitem__\u001b[1;34m(self, key)\u001b[0m\n\u001b[0;32m   1498\u001b[0m \u001b[1;33m\u001b[0m\u001b[0m\n\u001b[0;32m   1499\u001b[0m             \u001b[0mmaybe_callable\u001b[0m \u001b[1;33m=\u001b[0m \u001b[0mcom\u001b[0m\u001b[1;33m.\u001b[0m\u001b[0mapply_if_callable\u001b[0m\u001b[1;33m(\u001b[0m\u001b[0mkey\u001b[0m\u001b[1;33m,\u001b[0m \u001b[0mself\u001b[0m\u001b[1;33m.\u001b[0m\u001b[0mobj\u001b[0m\u001b[1;33m)\u001b[0m\u001b[1;33m\u001b[0m\u001b[1;33m\u001b[0m\u001b[0m\n\u001b[1;32m-> 1500\u001b[1;33m             \u001b[1;32mreturn\u001b[0m \u001b[0mself\u001b[0m\u001b[1;33m.\u001b[0m\u001b[0m_getitem_axis\u001b[0m\u001b[1;33m(\u001b[0m\u001b[0mmaybe_callable\u001b[0m\u001b[1;33m,\u001b[0m \u001b[0maxis\u001b[0m\u001b[1;33m=\u001b[0m\u001b[0maxis\u001b[0m\u001b[1;33m)\u001b[0m\u001b[1;33m\u001b[0m\u001b[1;33m\u001b[0m\u001b[0m\n\u001b[0m\u001b[0;32m   1501\u001b[0m \u001b[1;33m\u001b[0m\u001b[0m\n\u001b[0;32m   1502\u001b[0m     \u001b[1;32mdef\u001b[0m \u001b[0m_is_scalar_access\u001b[0m\u001b[1;33m(\u001b[0m\u001b[0mself\u001b[0m\u001b[1;33m,\u001b[0m \u001b[0mkey\u001b[0m\u001b[1;33m)\u001b[0m\u001b[1;33m:\u001b[0m\u001b[1;33m\u001b[0m\u001b[1;33m\u001b[0m\u001b[0m\n",
      "\u001b[1;32m~\\Anaconda3\\lib\\site-packages\\pandas\\core\\indexing.py\u001b[0m in \u001b[0;36m_getitem_axis\u001b[1;34m(self, key, axis)\u001b[0m\n\u001b[0;32m   1910\u001b[0m \u001b[1;33m\u001b[0m\u001b[0m\n\u001b[0;32m   1911\u001b[0m         \u001b[1;31m# fall thru to straight lookup\u001b[0m\u001b[1;33m\u001b[0m\u001b[1;33m\u001b[0m\u001b[1;33m\u001b[0m\u001b[0m\n\u001b[1;32m-> 1912\u001b[1;33m         \u001b[0mself\u001b[0m\u001b[1;33m.\u001b[0m\u001b[0m_validate_key\u001b[0m\u001b[1;33m(\u001b[0m\u001b[0mkey\u001b[0m\u001b[1;33m,\u001b[0m \u001b[0maxis\u001b[0m\u001b[1;33m)\u001b[0m\u001b[1;33m\u001b[0m\u001b[1;33m\u001b[0m\u001b[0m\n\u001b[0m\u001b[0;32m   1913\u001b[0m         \u001b[1;32mreturn\u001b[0m \u001b[0mself\u001b[0m\u001b[1;33m.\u001b[0m\u001b[0m_get_label\u001b[0m\u001b[1;33m(\u001b[0m\u001b[0mkey\u001b[0m\u001b[1;33m,\u001b[0m \u001b[0maxis\u001b[0m\u001b[1;33m=\u001b[0m\u001b[0maxis\u001b[0m\u001b[1;33m)\u001b[0m\u001b[1;33m\u001b[0m\u001b[1;33m\u001b[0m\u001b[0m\n\u001b[0;32m   1914\u001b[0m \u001b[1;33m\u001b[0m\u001b[0m\n",
      "\u001b[1;32m~\\Anaconda3\\lib\\site-packages\\pandas\\core\\indexing.py\u001b[0m in \u001b[0;36m_validate_key\u001b[1;34m(self, key, axis)\u001b[0m\n\u001b[0;32m   1797\u001b[0m \u001b[1;33m\u001b[0m\u001b[0m\n\u001b[0;32m   1798\u001b[0m         \u001b[1;32mif\u001b[0m \u001b[1;32mnot\u001b[0m \u001b[0mis_list_like_indexer\u001b[0m\u001b[1;33m(\u001b[0m\u001b[0mkey\u001b[0m\u001b[1;33m)\u001b[0m\u001b[1;33m:\u001b[0m\u001b[1;33m\u001b[0m\u001b[1;33m\u001b[0m\u001b[0m\n\u001b[1;32m-> 1799\u001b[1;33m             \u001b[0mself\u001b[0m\u001b[1;33m.\u001b[0m\u001b[0m_convert_scalar_indexer\u001b[0m\u001b[1;33m(\u001b[0m\u001b[0mkey\u001b[0m\u001b[1;33m,\u001b[0m \u001b[0maxis\u001b[0m\u001b[1;33m)\u001b[0m\u001b[1;33m\u001b[0m\u001b[1;33m\u001b[0m\u001b[0m\n\u001b[0m\u001b[0;32m   1800\u001b[0m \u001b[1;33m\u001b[0m\u001b[0m\n\u001b[0;32m   1801\u001b[0m     \u001b[1;32mdef\u001b[0m \u001b[0m_is_scalar_access\u001b[0m\u001b[1;33m(\u001b[0m\u001b[0mself\u001b[0m\u001b[1;33m,\u001b[0m \u001b[0mkey\u001b[0m\u001b[1;33m)\u001b[0m\u001b[1;33m:\u001b[0m\u001b[1;33m\u001b[0m\u001b[1;33m\u001b[0m\u001b[0m\n",
      "\u001b[1;32m~\\Anaconda3\\lib\\site-packages\\pandas\\core\\indexing.py\u001b[0m in \u001b[0;36m_convert_scalar_indexer\u001b[1;34m(self, key, axis)\u001b[0m\n\u001b[0;32m    260\u001b[0m         \u001b[0max\u001b[0m \u001b[1;33m=\u001b[0m \u001b[0mself\u001b[0m\u001b[1;33m.\u001b[0m\u001b[0mobj\u001b[0m\u001b[1;33m.\u001b[0m\u001b[0m_get_axis\u001b[0m\u001b[1;33m(\u001b[0m\u001b[0mmin\u001b[0m\u001b[1;33m(\u001b[0m\u001b[0maxis\u001b[0m\u001b[1;33m,\u001b[0m \u001b[0mself\u001b[0m\u001b[1;33m.\u001b[0m\u001b[0mndim\u001b[0m \u001b[1;33m-\u001b[0m \u001b[1;36m1\u001b[0m\u001b[1;33m)\u001b[0m\u001b[1;33m)\u001b[0m\u001b[1;33m\u001b[0m\u001b[1;33m\u001b[0m\u001b[0m\n\u001b[0;32m    261\u001b[0m         \u001b[1;31m# a scalar\u001b[0m\u001b[1;33m\u001b[0m\u001b[1;33m\u001b[0m\u001b[1;33m\u001b[0m\u001b[0m\n\u001b[1;32m--> 262\u001b[1;33m         \u001b[1;32mreturn\u001b[0m \u001b[0max\u001b[0m\u001b[1;33m.\u001b[0m\u001b[0m_convert_scalar_indexer\u001b[0m\u001b[1;33m(\u001b[0m\u001b[0mkey\u001b[0m\u001b[1;33m,\u001b[0m \u001b[0mkind\u001b[0m\u001b[1;33m=\u001b[0m\u001b[0mself\u001b[0m\u001b[1;33m.\u001b[0m\u001b[0mname\u001b[0m\u001b[1;33m)\u001b[0m\u001b[1;33m\u001b[0m\u001b[1;33m\u001b[0m\u001b[0m\n\u001b[0m\u001b[0;32m    263\u001b[0m \u001b[1;33m\u001b[0m\u001b[0m\n\u001b[0;32m    264\u001b[0m     \u001b[1;32mdef\u001b[0m \u001b[0m_convert_slice_indexer\u001b[0m\u001b[1;33m(\u001b[0m\u001b[0mself\u001b[0m\u001b[1;33m,\u001b[0m \u001b[0mkey\u001b[0m\u001b[1;33m,\u001b[0m \u001b[0maxis\u001b[0m\u001b[1;33m)\u001b[0m\u001b[1;33m:\u001b[0m\u001b[1;33m\u001b[0m\u001b[1;33m\u001b[0m\u001b[0m\n",
      "\u001b[1;32m~\\Anaconda3\\lib\\site-packages\\pandas\\core\\indexes\\datetimelike.py\u001b[0m in \u001b[0;36m_convert_scalar_indexer\u001b[1;34m(self, key, kind)\u001b[0m\n\u001b[0;32m    471\u001b[0m             \u001b[0mis_flt\u001b[0m \u001b[1;33m=\u001b[0m \u001b[0mis_float\u001b[0m\u001b[1;33m(\u001b[0m\u001b[0mkey\u001b[0m\u001b[1;33m)\u001b[0m\u001b[1;33m\u001b[0m\u001b[1;33m\u001b[0m\u001b[0m\n\u001b[0;32m    472\u001b[0m             \u001b[1;32mif\u001b[0m \u001b[0mkind\u001b[0m \u001b[1;32min\u001b[0m \u001b[1;33m[\u001b[0m\u001b[1;34m'loc'\u001b[0m\u001b[1;33m]\u001b[0m \u001b[1;32mand\u001b[0m \u001b[1;33m(\u001b[0m\u001b[0mis_int\u001b[0m \u001b[1;32mor\u001b[0m \u001b[0mis_flt\u001b[0m\u001b[1;33m)\u001b[0m\u001b[1;33m:\u001b[0m\u001b[1;33m\u001b[0m\u001b[1;33m\u001b[0m\u001b[0m\n\u001b[1;32m--> 473\u001b[1;33m                 \u001b[0mself\u001b[0m\u001b[1;33m.\u001b[0m\u001b[0m_invalid_indexer\u001b[0m\u001b[1;33m(\u001b[0m\u001b[1;34m'index'\u001b[0m\u001b[1;33m,\u001b[0m \u001b[0mkey\u001b[0m\u001b[1;33m)\u001b[0m\u001b[1;33m\u001b[0m\u001b[1;33m\u001b[0m\u001b[0m\n\u001b[0m\u001b[0;32m    474\u001b[0m             \u001b[1;32melif\u001b[0m \u001b[0mkind\u001b[0m \u001b[1;32min\u001b[0m \u001b[1;33m[\u001b[0m\u001b[1;34m'ix'\u001b[0m\u001b[1;33m,\u001b[0m \u001b[1;34m'getitem'\u001b[0m\u001b[1;33m]\u001b[0m \u001b[1;32mand\u001b[0m \u001b[0mis_flt\u001b[0m\u001b[1;33m:\u001b[0m\u001b[1;33m\u001b[0m\u001b[1;33m\u001b[0m\u001b[0m\n\u001b[0;32m    475\u001b[0m                 \u001b[0mself\u001b[0m\u001b[1;33m.\u001b[0m\u001b[0m_invalid_indexer\u001b[0m\u001b[1;33m(\u001b[0m\u001b[1;34m'index'\u001b[0m\u001b[1;33m,\u001b[0m \u001b[0mkey\u001b[0m\u001b[1;33m)\u001b[0m\u001b[1;33m\u001b[0m\u001b[1;33m\u001b[0m\u001b[0m\n",
      "\u001b[1;32m~\\Anaconda3\\lib\\site-packages\\pandas\\core\\indexes\\base.py\u001b[0m in \u001b[0;36m_invalid_indexer\u001b[1;34m(self, form, key)\u001b[0m\n\u001b[0;32m   3065\u001b[0m                         \"indexers [{key}] of {kind}\".format(\n\u001b[0;32m   3066\u001b[0m                             \u001b[0mform\u001b[0m\u001b[1;33m=\u001b[0m\u001b[0mform\u001b[0m\u001b[1;33m,\u001b[0m \u001b[0mklass\u001b[0m\u001b[1;33m=\u001b[0m\u001b[0mtype\u001b[0m\u001b[1;33m(\u001b[0m\u001b[0mself\u001b[0m\u001b[1;33m)\u001b[0m\u001b[1;33m,\u001b[0m \u001b[0mkey\u001b[0m\u001b[1;33m=\u001b[0m\u001b[0mkey\u001b[0m\u001b[1;33m,\u001b[0m\u001b[1;33m\u001b[0m\u001b[1;33m\u001b[0m\u001b[0m\n\u001b[1;32m-> 3067\u001b[1;33m                             kind=type(key)))\n\u001b[0m\u001b[0;32m   3068\u001b[0m \u001b[1;33m\u001b[0m\u001b[0m\n\u001b[0;32m   3069\u001b[0m     \u001b[1;31m# --------------------------------------------------------------------\u001b[0m\u001b[1;33m\u001b[0m\u001b[1;33m\u001b[0m\u001b[1;33m\u001b[0m\u001b[0m\n",
      "\u001b[1;31mTypeError\u001b[0m: cannot do index indexing on <class 'pandas.core.indexes.datetimes.DatetimeIndex'> with these indexers [1] of <class 'int'>"
     ]
    }
   ],
   "source": [
    "network.generators_t.p.loc[1].sum()"
   ]
  },
  {
   "cell_type": "code",
   "execution_count": 65,
   "metadata": {},
   "outputs": [
    {
     "data": {
      "text/html": [
       "<div>\n",
       "<style scoped>\n",
       "    .dataframe tbody tr th:only-of-type {\n",
       "        vertical-align: middle;\n",
       "    }\n",
       "\n",
       "    .dataframe tbody tr th {\n",
       "        vertical-align: top;\n",
       "    }\n",
       "\n",
       "    .dataframe thead th {\n",
       "        text-align: right;\n",
       "    }\n",
       "</style>\n",
       "<table border=\"1\" class=\"dataframe\">\n",
       "  <thead>\n",
       "    <tr style=\"text-align: right;\">\n",
       "      <th>attribute</th>\n",
       "      <th>bus</th>\n",
       "      <th>control</th>\n",
       "      <th>type</th>\n",
       "      <th>p_nom</th>\n",
       "      <th>p_nom_extendable</th>\n",
       "      <th>p_nom_min</th>\n",
       "      <th>p_nom_max</th>\n",
       "      <th>p_min_pu</th>\n",
       "      <th>p_max_pu</th>\n",
       "      <th>p_set</th>\n",
       "      <th>...</th>\n",
       "      <th>start_up_cost</th>\n",
       "      <th>shut_down_cost</th>\n",
       "      <th>min_up_time</th>\n",
       "      <th>min_down_time</th>\n",
       "      <th>initial_status</th>\n",
       "      <th>ramp_limit_up</th>\n",
       "      <th>ramp_limit_down</th>\n",
       "      <th>ramp_limit_start_up</th>\n",
       "      <th>ramp_limit_shut_down</th>\n",
       "      <th>p_nom_opt</th>\n",
       "    </tr>\n",
       "  </thead>\n",
       "  <tbody>\n",
       "  </tbody>\n",
       "</table>\n",
       "<p>0 rows × 27 columns</p>\n",
       "</div>"
      ],
      "text/plain": [
       "Empty DataFrame\n",
       "Columns: [bus, control, type, p_nom, p_nom_extendable, p_nom_min, p_nom_max, p_min_pu, p_max_pu, p_set, q_set, sign, carrier, marginal_cost, capital_cost, efficiency, committable, start_up_cost, shut_down_cost, min_up_time, min_down_time, initial_status, ramp_limit_up, ramp_limit_down, ramp_limit_start_up, ramp_limit_shut_down, p_nom_opt]\n",
       "Index: []\n",
       "\n",
       "[0 rows x 27 columns]"
      ]
     },
     "execution_count": 65,
     "metadata": {},
     "output_type": "execute_result"
    }
   ],
   "source": [
    "network.generators[network.generators['type']=='bio']"
   ]
  },
  {
   "cell_type": "code",
   "execution_count": 63,
   "metadata": {},
   "outputs": [
    {
     "data": {
      "text/plain": [
       "0.6468"
      ]
     },
     "execution_count": 63,
     "metadata": {},
     "output_type": "execute_result"
    }
   ],
   "source": [
    "(1+MGA_slack)*old_objective_value/5000000"
   ]
  },
  {
   "cell_type": "code",
   "execution_count": 64,
   "metadata": {},
   "outputs": [
    {
     "ename": "AttributeError",
     "evalue": "'ConcreteModel' object has no attribute 'mga_constraint0'",
     "output_type": "error",
     "traceback": [
      "\u001b[1;31m---------------------------------------------------------------------------\u001b[0m",
      "\u001b[1;31mAttributeError\u001b[0m                            Traceback (most recent call last)",
      "\u001b[1;32m<ipython-input-64-7eba8ff87521>\u001b[0m in \u001b[0;36m<module>\u001b[1;34m\u001b[0m\n\u001b[1;32m----> 1\u001b[1;33m \u001b[0mprint\u001b[0m\u001b[1;33m(\u001b[0m\u001b[0mnetwork\u001b[0m\u001b[1;33m.\u001b[0m\u001b[0mmodel\u001b[0m\u001b[1;33m.\u001b[0m\u001b[0mmga_constraint0\u001b[0m\u001b[1;33m.\u001b[0m\u001b[0mexpr\u001b[0m\u001b[1;33m)\u001b[0m\u001b[1;33m\u001b[0m\u001b[1;33m\u001b[0m\u001b[0m\n\u001b[0m\u001b[0;32m      2\u001b[0m \u001b[0mprint\u001b[0m\u001b[1;33m(\u001b[0m\u001b[0mnetwork\u001b[0m\u001b[1;33m.\u001b[0m\u001b[0mmodel\u001b[0m\u001b[1;33m.\u001b[0m\u001b[0mobjective\u001b[0m\u001b[1;33m.\u001b[0m\u001b[0mexpr\u001b[0m\u001b[1;33m)\u001b[0m\u001b[1;33m\u001b[0m\u001b[1;33m\u001b[0m\u001b[0m\n",
      "\u001b[1;32m~\\Anaconda3\\lib\\site-packages\\pyomo\\core\\base\\block.py\u001b[0m in \u001b[0;36m__getattr__\u001b[1;34m(self, val)\u001b[0m\n\u001b[0;32m    547\u001b[0m         \u001b[1;31m# throw the \"normal\" AttributeError\u001b[0m\u001b[1;33m\u001b[0m\u001b[1;33m\u001b[0m\u001b[1;33m\u001b[0m\u001b[0m\n\u001b[0;32m    548\u001b[0m         raise AttributeError(\"'%s' object has no attribute '%s'\"\n\u001b[1;32m--> 549\u001b[1;33m                              % (self.__class__.__name__, val))\n\u001b[0m\u001b[0;32m    550\u001b[0m \u001b[1;33m\u001b[0m\u001b[0m\n\u001b[0;32m    551\u001b[0m     \u001b[1;32mdef\u001b[0m \u001b[0m__setattr__\u001b[0m\u001b[1;33m(\u001b[0m\u001b[0mself\u001b[0m\u001b[1;33m,\u001b[0m \u001b[0mname\u001b[0m\u001b[1;33m,\u001b[0m \u001b[0mval\u001b[0m\u001b[1;33m)\u001b[0m\u001b[1;33m:\u001b[0m\u001b[1;33m\u001b[0m\u001b[1;33m\u001b[0m\u001b[0m\n",
      "\u001b[1;31mAttributeError\u001b[0m: 'ConcreteModel' object has no attribute 'mga_constraint0'"
     ]
    }
   ],
   "source": [
    "print(network.model.mga_constraint0.expr)\n",
    "print(network.model.objective.expr)"
   ]
  },
  {
   "cell_type": "code",
   "execution_count": 43,
   "metadata": {},
   "outputs": [
    {
     "name": "stdout",
     "output_type": "stream",
     "text": [
      "generator_p_nom\n"
     ]
    }
   ],
   "source": [
    "print(network.model.generator_p_nom)"
   ]
  },
  {
   "cell_type": "code",
   "execution_count": 49,
   "metadata": {},
   "outputs": [
    {
     "data": {
      "text/plain": [
       "coal1    3427.946693\n",
       "gas1     2000.000000\n",
       "bio1     3000.000000\n",
       "coal2    3003.677437\n",
       "gas2     2000.000000\n",
       "bio2     3000.000000\n",
       "coal3    3003.677135\n",
       "gas3     2000.000000\n",
       "bio3     3000.000000\n",
       "coal4    3003.677591\n",
       "gas4     2000.000000\n",
       "bio4     3000.000000\n",
       "coal5    1350.554709\n",
       "gas5     2000.000000\n",
       "bio5     3000.000000\n",
       "Name: p_nom_opt, dtype: float64"
      ]
     },
     "execution_count": 49,
     "metadata": {},
     "output_type": "execute_result"
    }
   ],
   "source": [
    "network.generators['p_nom_opt']"
   ]
  },
  {
   "cell_type": "code",
   "execution_count": null,
   "metadata": {},
   "outputs": [],
   "source": []
  }
 ],
 "metadata": {
  "kernelspec": {
   "display_name": "Python 3",
   "language": "python",
   "name": "python3"
  },
  "language_info": {
   "codemirror_mode": {
    "name": "ipython",
    "version": 3
   },
   "file_extension": ".py",
   "mimetype": "text/x-python",
   "name": "python",
   "nbconvert_exporter": "python",
   "pygments_lexer": "ipython3",
   "version": "3.7.3"
  },
  "varInspector": {
   "cols": {
    "lenName": 16,
    "lenType": 16,
    "lenVar": 40
   },
   "kernels_config": {
    "python": {
     "delete_cmd_postfix": "",
     "delete_cmd_prefix": "del ",
     "library": "var_list.py",
     "varRefreshCmd": "print(var_dic_list())"
    },
    "r": {
     "delete_cmd_postfix": ") ",
     "delete_cmd_prefix": "rm(",
     "library": "var_list.r",
     "varRefreshCmd": "cat(var_dic_list()) "
    }
   },
   "types_to_exclude": [
    "module",
    "function",
    "builtin_function_or_method",
    "instance",
    "_Feature"
   ],
   "window_display": false
  }
 },
 "nbformat": 4,
 "nbformat_minor": 2
}
