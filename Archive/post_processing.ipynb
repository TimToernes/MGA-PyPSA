{
 "cells": [
  {
   "cell_type": "code",
   "execution_count": 1,
   "metadata": {},
   "outputs": [],
   "source": [
    "import numpy as np\n",
    "import matplotlib.pyplot as plt\n",
    "from mpl_toolkits.mplot3d import Axes3D\n",
    "import pandas as pd"
   ]
  },
  {
   "cell_type": "code",
   "execution_count": 2,
   "metadata": {},
   "outputs": [],
   "source": [
    "class grid:\n",
    "    pass\n",
    "grid.feasable  = np.load('feasable_points.npy')"
   ]
  },
  {
   "cell_type": "code",
   "execution_count": 3,
   "metadata": {},
   "outputs": [
    {
     "data": {
      "application/vnd.jupyter.widget-view+json": {
       "model_id": "7323cb6b817f4829b319c4f4197233c6",
       "version_major": 2,
       "version_minor": 0
      },
      "text/plain": [
       "Canvas(toolbar=Toolbar(toolitems=[('Home', 'Reset original view', 'home', 'home'), ('Back', 'Back to previous …"
      ]
     },
     "metadata": {},
     "output_type": "display_data"
    },
    {
     "data": {
      "text/plain": [
       "Text(0.5, 0, 'Solar')"
      ]
     },
     "execution_count": 3,
     "metadata": {},
     "output_type": "execute_result"
    }
   ],
   "source": [
    "%matplotlib widget\n",
    "\n",
    "fig = plt.figure()\n",
    "ax = fig.add_subplot(111, projection='3d')\n",
    "\n",
    "\n",
    "#for i in range(len(max_min_points)):\n",
    "#       ax.plot([max_min_points[i][0]],[max_min_points[i][1]],[max_min_points[i][2]], \"go\",markersize=10)\n",
    "\n",
    "\n",
    "ax.plot(grid.feasable[:,0],grid.feasable[:,1],grid.feasable[:,2], \"bo\",markersize=7)\n",
    "\n",
    "    \n",
    "    \n",
    "plt.show();\n",
    "ax.set_xlabel('Gas')\n",
    "ax.set_ylabel('Wind')\n",
    "ax.set_zlabel('Solar')"
   ]
  },
  {
   "cell_type": "code",
   "execution_count": 4,
   "metadata": {},
   "outputs": [],
   "source": [
    "from scipy.spatial import ConvexHull, convex_hull_plot_2d, Delaunay\n",
    "points = np.array(grid.feasable)\n",
    "hull = ConvexHull(points)\n",
    "dhull = Delaunay(points)"
   ]
  },
  {
   "cell_type": "code",
   "execution_count": 5,
   "metadata": {
    "scrolled": true
   },
   "outputs": [
    {
     "data": {
      "application/vnd.jupyter.widget-view+json": {
       "model_id": "2d1bbc75363f4e59bbadfd9a7916d9ef",
       "version_major": 2,
       "version_minor": 0
      },
      "text/plain": [
       "Canvas(toolbar=Toolbar(toolitems=[('Home', 'Reset original view', 'home', 'home'), ('Back', 'Back to previous …"
      ]
     },
     "metadata": {},
     "output_type": "display_data"
    }
   ],
   "source": [
    "import matplotlib.pyplot as plt\n",
    "from mpl_toolkits.mplot3d import Axes3D\n",
    "fig = plt.figure()\n",
    "ax = fig.add_subplot(111, projection='3d')\n",
    "\n",
    "# Plot defining corner points\n",
    "ax.plot(points.T[0], points.T[1], points.T[2], \"ko\")\n",
    "\n",
    "# 12 = 2 * 6 faces are the simplices (2 simplices per square face)\n",
    "for s in hull.simplices:\n",
    "    \n",
    "    s = np.append(s, s[0])  # Here we cycle back to the first coordinate\n",
    "    ax.plot(points[s, 0], points[s, 1], points[s, 2], \"r-\")\n",
    "\n",
    "ax.set_xlabel('Gas')\n",
    "ax.set_ylabel('Wind')\n",
    "ax.set_zlabel('Solar')\n",
    "plt.show()"
   ]
  },
  {
   "cell_type": "code",
   "execution_count": 6,
   "metadata": {},
   "outputs": [],
   "source": [
    "def in_hull(p, hull):\n",
    "    \"\"\"\n",
    "    Test if points in `p` are in `hull`\n",
    "\n",
    "    `p` should be a `NxK` coordinates of `N` points in `K` dimensions\n",
    "    `hull` is either a scipy.spatial.Delaunay object or the `MxK` array of the \n",
    "    coordinates of `M` points in `K`dimensions for which Delaunay triangulation\n",
    "    will be computed\n",
    "    \"\"\"\n",
    "    from scipy.spatial import Delaunay\n",
    "    if not isinstance(hull,Delaunay):\n",
    "        hull = Delaunay(hull)\n",
    "\n",
    "    return hull.find_simplex(p)>=0"
   ]
  },
  {
   "cell_type": "code",
   "execution_count": 7,
   "metadata": {},
   "outputs": [],
   "source": [
    "dens = 50\n",
    "h_min = hull.min_bound\n",
    "h_max = hull.max_bound\n",
    "x,y,z = np.meshgrid(np.linspace(h_min[0],h_max[0],dens),np.linspace(h_min[1],h_max[1],dens),np.linspace(h_min[2],h_max[2],dens))\n",
    "x = x.reshape((dens)**3)\n",
    "y = y.reshape((dens)**3)\n",
    "z = z.reshape((dens)**3)\n",
    "\n",
    "grid = [[x_,y_,z_] for x_,y_,z_ in zip(x,y,z)]"
   ]
  },
  {
   "cell_type": "code",
   "execution_count": 8,
   "metadata": {},
   "outputs": [],
   "source": [
    "grid_in = [point for point in grid if all(in_hull([point],dhull))]\n"
   ]
  },
  {
   "cell_type": "code",
   "execution_count": 9,
   "metadata": {},
   "outputs": [],
   "source": [
    "grid_in = np.array(grid_in)"
   ]
  },
  {
   "cell_type": "code",
   "execution_count": 10,
   "metadata": {},
   "outputs": [
    {
     "data": {
      "application/vnd.jupyter.widget-view+json": {
       "model_id": "",
       "version_major": 2,
       "version_minor": 0
      },
      "text/plain": [
       "Canvas(toolbar=Toolbar(toolitems=[('Home', 'Reset original view', 'home', 'home'), ('Back', 'Back to previous …"
      ]
     },
     "metadata": {},
     "output_type": "display_data"
    },
    {
     "data": {
      "text/plain": [
       "Text(0.5, 0, 'Solar')"
      ]
     },
     "execution_count": 10,
     "metadata": {},
     "output_type": "execute_result"
    }
   ],
   "source": [
    "fig = plt.figure()\n",
    "ax = fig.add_subplot(111, projection='3d')\n",
    "\n",
    "\n",
    "#for i in range(len(max_min_points)):\n",
    "#       ax.plot([max_min_points[i][0]],[max_min_points[i][1]],[max_min_points[i][2]], \"go\",markersize=10)\n",
    "\n",
    "\n",
    "ax.plot(grid_in[:,0],grid_in[:,1],grid_in[:,2], \"bo\",markersize=7)\n",
    "\n",
    "    \n",
    "ax.axis('equal')\n",
    "plt.show();\n",
    "ax.set_xlabel('Gas')\n",
    "ax.set_ylabel('Wind')\n",
    "ax.set_zlabel('Solar')"
   ]
  },
  {
   "cell_type": "code",
   "execution_count": 11,
   "metadata": {},
   "outputs": [
    {
     "data": {
      "application/vnd.jupyter.widget-view+json": {
       "model_id": "",
       "version_major": 2,
       "version_minor": 0
      },
      "text/plain": [
       "Canvas(toolbar=Toolbar(toolitems=[('Home', 'Reset original view', 'home', 'home'), ('Back', 'Back to previous …"
      ]
     },
     "metadata": {},
     "output_type": "display_data"
    }
   ],
   "source": [
    "fig = plt.figure()\n",
    "ax1 = fig.add_subplot()\n",
    "ax2 = fig.add_subplot()\n",
    "ax3 = fig.add_subplot()\n",
    "ax1 = plt.hist(grid_in[:,:],20,alpha = 1,density=True)\n",
    "#ax2 = plt.hist(grid_in[:,1],20,alpha = 0.5)\n",
    "#ax3 = plt.hist(grid_in[:,2],20,alpha = 0.5)\n",
    "\n",
    "fig.legend(['gas','wind','solar']);\n",
    "plt.xlabel('MW capacity');"
   ]
  },
  {
   "cell_type": "code",
   "execution_count": 12,
   "metadata": {
    "scrolled": true
   },
   "outputs": [
    {
     "data": {
      "text/plain": [
       "0.00218"
      ]
     },
     "execution_count": 12,
     "metadata": {},
     "output_type": "execute_result"
    }
   ],
   "source": [
    "0.0003+0.0018+0.00008"
   ]
  },
  {
   "cell_type": "code",
   "execution_count": 13,
   "metadata": {
    "scrolled": false
   },
   "outputs": [
    {
     "data": {
      "text/html": [
       "<div>\n",
       "<style scoped>\n",
       "    .dataframe tbody tr th:only-of-type {\n",
       "        vertical-align: middle;\n",
       "    }\n",
       "\n",
       "    .dataframe tbody tr th {\n",
       "        vertical-align: top;\n",
       "    }\n",
       "\n",
       "    .dataframe thead th {\n",
       "        text-align: right;\n",
       "    }\n",
       "</style>\n",
       "<table border=\"1\" class=\"dataframe\">\n",
       "  <thead>\n",
       "    <tr style=\"text-align: right;\">\n",
       "      <th></th>\n",
       "      <th>ocgt</th>\n",
       "      <th>wind</th>\n",
       "      <th>solar</th>\n",
       "    </tr>\n",
       "  </thead>\n",
       "  <tbody>\n",
       "    <tr>\n",
       "      <th>min</th>\n",
       "      <td>30705.46</td>\n",
       "      <td>0.00</td>\n",
       "      <td>0.00</td>\n",
       "    </tr>\n",
       "    <tr>\n",
       "      <th>max</th>\n",
       "      <td>39667.04</td>\n",
       "      <td>6463.23</td>\n",
       "      <td>13490.80</td>\n",
       "    </tr>\n",
       "    <tr>\n",
       "      <th>mean</th>\n",
       "      <td>33220.51</td>\n",
       "      <td>1882.78</td>\n",
       "      <td>3923.22</td>\n",
       "    </tr>\n",
       "    <tr>\n",
       "      <th>std</th>\n",
       "      <td>1781.57</td>\n",
       "      <td>1408.03</td>\n",
       "      <td>2924.24</td>\n",
       "    </tr>\n",
       "  </tbody>\n",
       "</table>\n",
       "</div>"
      ],
      "text/plain": [
       "          ocgt     wind     solar\n",
       "min   30705.46     0.00      0.00\n",
       "max   39667.04  6463.23  13490.80\n",
       "mean  33220.51  1882.78   3923.22\n",
       "std    1781.57  1408.03   2924.24"
      ]
     },
     "execution_count": 13,
     "metadata": {},
     "output_type": "execute_result"
    }
   ],
   "source": [
    "test = pd.DataFrame(grid_in[:,:],columns=['ocgt','wind','solar'])\n",
    "test.agg(['min', 'max', 'mean', 'std']).round(decimals=2)"
   ]
  },
  {
   "cell_type": "code",
   "execution_count": 14,
   "metadata": {},
   "outputs": [
    {
     "data": {
      "application/vnd.jupyter.widget-view+json": {
       "model_id": "",
       "version_major": 2,
       "version_minor": 0
      },
      "text/plain": [
       "Canvas(toolbar=Toolbar(toolitems=[('Home', 'Reset original view', 'home', 'home'), ('Back', 'Back to previous …"
      ]
     },
     "metadata": {},
     "output_type": "display_data"
    }
   ],
   "source": [
    "fig, ax = plt.subplots()\n",
    "test.plot.kde(ax=ax, legend=False, title='Technology comparison',colormap='summer')\n",
    "test.plot.hist(density=True,bins=30, ax=ax,colormap='summer',alpha=0.6)\n",
    "ax.set_ylabel('Probability')\n",
    "ax.set_xlabel('MW installed capacity')\n",
    "ax.grid(axis='y')\n",
    "ax.set_facecolor('#d8dcd6')"
   ]
  },
  {
   "cell_type": "code",
   "execution_count": null,
   "metadata": {},
   "outputs": [],
   "source": []
  }
 ],
 "metadata": {
  "kernelspec": {
   "display_name": "Python 3",
   "language": "python",
   "name": "python3"
  },
  "language_info": {
   "codemirror_mode": {
    "name": "ipython",
    "version": 3
   },
   "file_extension": ".py",
   "mimetype": "text/x-python",
   "name": "python",
   "nbconvert_exporter": "python",
   "pygments_lexer": "ipython3",
   "version": "3.7.3"
  },
  "varInspector": {
   "cols": {
    "lenName": 16,
    "lenType": 16,
    "lenVar": 40
   },
   "kernels_config": {
    "python": {
     "delete_cmd_postfix": "",
     "delete_cmd_prefix": "del ",
     "library": "var_list.py",
     "varRefreshCmd": "print(var_dic_list())"
    },
    "r": {
     "delete_cmd_postfix": ") ",
     "delete_cmd_prefix": "rm(",
     "library": "var_list.r",
     "varRefreshCmd": "cat(var_dic_list()) "
    }
   },
   "types_to_exclude": [
    "module",
    "function",
    "builtin_function_or_method",
    "instance",
    "_Feature"
   ],
   "window_display": false
  }
 },
 "nbformat": 4,
 "nbformat_minor": 2
}
