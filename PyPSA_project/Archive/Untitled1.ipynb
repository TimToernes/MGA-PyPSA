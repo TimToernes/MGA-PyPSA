{
 "cells": [
  {
   "cell_type": "code",
   "execution_count": 13,
   "metadata": {},
   "outputs": [],
   "source": [
    "import numpy as np\n",
    "import matplotlib.pyplot as plt\n",
    "from mpl_toolkits.mplot3d import Axes3D"
   ]
  },
  {
   "cell_type": "code",
   "execution_count": 18,
   "metadata": {},
   "outputs": [],
   "source": [
    "dens = 10\n",
    "\n",
    "alpha,beta,theta = np.meshgrid(np.linspace(0,np.pi*2,dens),np.linspace(0,np.pi*2,dens),np.linspace(0,np.pi*2,dens))\n",
    "\n",
    "alpha = alpha.reshape((dens)**3)\n",
    "beta = beta.reshape((dens)**3)\n",
    "theta = theta.reshape((dens)**3)"
   ]
  },
  {
   "cell_type": "code",
   "execution_count": 28,
   "metadata": {},
   "outputs": [],
   "source": [
    "import math, random\n",
    "\n",
    "def fibonacci_sphere(samples=1,randomize=True):\n",
    "    rnd = 1.\n",
    "    if randomize:\n",
    "        rnd = random.random() * samples\n",
    "\n",
    "    points = []\n",
    "    offset = 2./samples\n",
    "    increment = math.pi * (3. - math.sqrt(5.));\n",
    "\n",
    "    for i in range(samples):\n",
    "        y = ((i * offset) - 1) + (offset / 2);\n",
    "        r = math.sqrt(1 - pow(y,2))\n",
    "\n",
    "        phi = ((i + rnd) % samples) * increment\n",
    "\n",
    "        x = math.cos(phi) * r\n",
    "        z = math.sin(phi) * r\n",
    "\n",
    "        points.append([x,y,z])\n",
    "\n",
    "    return points"
   ]
  },
  {
   "cell_type": "code",
   "execution_count": 39,
   "metadata": {},
   "outputs": [],
   "source": [
    "points = np.array(fibonacci_sphere(100,False))"
   ]
  },
  {
   "cell_type": "code",
   "execution_count": null,
   "metadata": {},
   "outputs": [],
   "source": []
  },
  {
   "cell_type": "code",
   "execution_count": 86,
   "metadata": {},
   "outputs": [
    {
     "data": {
      "application/vnd.jupyter.widget-view+json": {
       "model_id": "ad8c7097e519460baeb2393c96f54716",
       "version_major": 2,
       "version_minor": 0
      },
      "text/plain": [
       "Canvas(toolbar=Toolbar(toolitems=[('Home', 'Reset original view', 'home', 'home'), ('Back', 'Back to previous …"
      ]
     },
     "metadata": {},
     "output_type": "display_data"
    },
    {
     "data": {
      "text/plain": [
       "(-1.0947700907928266,\n",
       " 1.0845060505115305,\n",
       " -1.064792369676402,\n",
       " 1.0663528759229735)"
      ]
     },
     "execution_count": 86,
     "metadata": {},
     "output_type": "execute_result"
    }
   ],
   "source": [
    "%matplotlib widget\n",
    "fig = plt.figure()\n",
    "ax = fig.add_subplot(111, projection='3d')\n",
    "\n",
    "r = 1\n",
    "\n",
    "for i in range(len(points)):\n",
    "\n",
    "    ax.plot([points[i,0]],[points[i,1]],[points[i,2]],'ro')\n",
    "ax.axis('equal')"
   ]
  },
  {
   "cell_type": "code",
   "execution_count": null,
   "metadata": {},
   "outputs": [],
   "source": []
  },
  {
   "cell_type": "code",
   "execution_count": 58,
   "metadata": {},
   "outputs": [
    {
     "data": {
      "text/plain": [
       "array([[0.65200813, 0.69707229, 0.8498874 ],\n",
       "       [0.88657637, 0.6254008 , 0.74365643],\n",
       "       [0.00394199, 0.07802613, 0.41170603],\n",
       "       [0.93465424, 0.14298539, 0.75508311]])"
      ]
     },
     "execution_count": 58,
     "metadata": {},
     "output_type": "execute_result"
    }
   ],
   "source": []
  },
  {
   "cell_type": "code",
   "execution_count": 79,
   "metadata": {},
   "outputs": [],
   "source": [
    "def rand_samples(dim,n):\n",
    "    points = []\n",
    "    for i in range(n):\n",
    "        u = np.random.normal(0,1,dim)  # an array of d normally distributed random variables\n",
    "        d=np.sum(u**2) **(0.5)\n",
    "        points.append((u)/d)\n",
    "    points = np.array(points)\n",
    "    return points"
   ]
  },
  {
   "cell_type": "code",
   "execution_count": 85,
   "metadata": {},
   "outputs": [],
   "source": [
    "points = rand_samples(3,100)"
   ]
  },
  {
   "cell_type": "code",
   "execution_count": null,
   "metadata": {},
   "outputs": [],
   "source": []
  }
 ],
 "metadata": {
  "kernelspec": {
   "display_name": "Python 3",
   "language": "python",
   "name": "python3"
  },
  "language_info": {
   "codemirror_mode": {
    "name": "ipython",
    "version": 3
   },
   "file_extension": ".py",
   "mimetype": "text/x-python",
   "name": "python",
   "nbconvert_exporter": "python",
   "pygments_lexer": "ipython3",
   "version": "3.7.3"
  },
  "varInspector": {
   "cols": {
    "lenName": 16,
    "lenType": 16,
    "lenVar": 40
   },
   "kernels_config": {
    "python": {
     "delete_cmd_postfix": "",
     "delete_cmd_prefix": "del ",
     "library": "var_list.py",
     "varRefreshCmd": "print(var_dic_list())"
    },
    "r": {
     "delete_cmd_postfix": ") ",
     "delete_cmd_prefix": "rm(",
     "library": "var_list.r",
     "varRefreshCmd": "cat(var_dic_list()) "
    }
   },
   "types_to_exclude": [
    "module",
    "function",
    "builtin_function_or_method",
    "instance",
    "_Feature"
   ],
   "window_display": false
  }
 },
 "nbformat": 4,
 "nbformat_minor": 2
}
