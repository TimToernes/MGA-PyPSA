{
 "cells": [
  {
   "cell_type": "markdown",
   "metadata": {},
   "source": [
    "# Script to add load, generators, missing lines and transformers to SciGRID\n",
    "\n",
    "This Jupyter Notebook is also available to download at: <http://www.pypsa.org/examples/add_load_gen_trafos_to_scigrid.ipynb>  and can be viewed as an HTML page at: http://pypsa.org/examples/add_load_gen_trafos_to_scigrid.html.\n",
    "\n",
    "This script does some post-processing on the original SciGRID dataset version 0.2 and then adds load, generation, transformers and missing lines to the SciGRID dataset.\n",
    "\n",
    "The intention is to create a model of the German electricity system that is transparent in the sense that all steps from openly-available raw data to the final model can be followed. The model is NOT validated and may contain errors.\n",
    "\n",
    "Some of the libraries used for attaching the load and generation are not on github, but can be downloaded at\n",
    "\n",
    "http://fias.uni-frankfurt.de/~hoersch/\n",
    "\n",
    "The intention is to release these as free software soon. We cannot guarantee to support you when using these libraries.\n",
    "\n",
    "\n",
    "\n",
    "## Data sources\n",
    "\n",
    "Grid: based on [SciGRID](http://scigrid.de/) Version 0.2 which is based on [OpenStreetMap](http://www.openstreetmap.org/).\n",
    "\n",
    "Load size and location: based on Landkreise (NUTS 3) GDP and population.\n",
    "\n",
    "Load time series: from ENTSO-E hourly data, scaled up uniformly by factor 1.12 (a simplification of the methodology in Schumacher, Hirth (2015)).\n",
    "\n",
    "Conventional power plant capacities and locations: BNetzA list.\n",
    "\n",
    "Wind and solar capacities and locations: EEG Stammdaten, based on  http://www.energymap.info/download.html, which represents capacities at the end of 2014. Units without PLZ are removed.\n",
    "\n",
    "Wind and solar time series: REatlas, Andresen et al, \"Validation of Danish wind time series from a new global renewable energy atlas for energy system analysis,\" Energy 93 (2015) 1074 - 1088.\n",
    "\n",
    "NB:\n",
    "\n",
    "All times in the dataset are UTC.\n",
    "\n",
    "Where SciGRID nodes have been split into 220kV and 380kV substations, all load and generation is attached to the 220kV substation.\n",
    "\n",
    "## Warning\n",
    "\n",
    "This dataset is ONLY intended to demonstrate the capabilities of PyPSA and is NOT (yet) accurate enough to be used for research purposes.\n",
    "\n",
    "Known problems include:\n",
    "\n",
    "i) Rough approximations have been made for missing grid data, e.g. 220kV-380kV transformers and connections between close sub-stations missing from OSM.\n",
    "\n",
    "ii) There appears to be some unexpected congestion in parts of the network, which may mean for example that the load attachment method (by Voronoi cell overlap with Landkreise) isn't working, particularly in regions with a high density of substations.\n",
    "\n",
    "iii) Attaching power plants to the nearest high voltage substation may not reflect reality.\n",
    "\n",
    "iv) There is no proper n-1 security in the calculations - this can either be simulated with a blanket e.g. 70% reduction in thermal limits (as done here) or a proper security constrained OPF (see e.g.  <http://www.pypsa.org/examples/scigrid-sclopf.ipynb>).\n",
    "\n",
    "v) The borders and neighbouring countries are not represented.\n",
    "\n",
    "vi) Hydroelectric power stations are not modelled accurately.\n",
    "\n",
    "viii) The marginal costs are illustrative, not accurate.\n",
    "\n",
    "ix) Only the first day of 2011 is in the github dataset, which is not representative. The full year of 2011 can be downloaded at <http://www.pypsa.org/examples/scigrid-with-load-gen-trafos-2011.zip>.\n",
    "\n",
    "x) The ENTSO-E total load for Germany may not be scaled correctly; it is scaled up uniformly by factor 1.12 (a simplification of the methodology in Schumacher, Hirth (2015), which suggests monthly factors).\n",
    "\n",
    "xi) Biomass from the EEG Stammdaten are not read in at the moment.\n",
    "\n",
    "xii) Power plant start up costs, ramping limits/costs, minimum loading rates are not considered.\n"
   ]
  },
  {
   "cell_type": "code",
   "execution_count": 1,
   "metadata": {},
   "outputs": [],
   "source": [
    "# make the code as Python 3 compatible as possible\n",
    "from __future__ import print_function, division,absolute_import\n",
    "\n",
    "import pypsa\n",
    "\n",
    "import pandas as pd\n",
    "\n",
    "import numpy as np\n",
    "\n",
    "from six import iteritems\n",
    "from six.moves import range\n",
    "\n",
    "import os\n",
    "\n",
    "import matplotlib.pyplot as plt\n",
    "\n",
    "%matplotlib inline"
   ]
  },
  {
   "cell_type": "markdown",
   "metadata": {},
   "source": [
    "## Read in the raw SciGRID data"
   ]
  },
  {
   "cell_type": "code",
   "execution_count": 2,
   "metadata": {},
   "outputs": [],
   "source": [
    "#You may have to adjust this path to where \n",
    "#you downloaded the github repository\n",
    "#https://github.com/PyPSA/PyPSA\n",
    "\n",
    "folder_prefix = os.path.dirname(pypsa.__file__) + \"/../examples/scigrid-de/\""
   ]
  },
  {
   "cell_type": "code",
   "execution_count": 3,
   "metadata": {},
   "outputs": [],
   "source": [
    "#note that some columns have 'quotes because of fields containing commas'\n",
    "vertices = pd.read_csv(folder_prefix+\"scigrid-151109/vertices_de_power_151109.csvdata\",sep=\",\",quotechar=\"'\",index_col=0)\n",
    "\n",
    "vertices.rename(columns={\"lon\":\"x\",\"lat\":\"y\",\"name\":\"osm_name\"},inplace=True)"
   ]
  },
  {
   "cell_type": "code",
   "execution_count": 4,
   "metadata": {},
   "outputs": [
    {
     "name": "stdout",
     "output_type": "stream",
     "text": [
      "220000;110000                 129\n",
      "380000;110000                 101\n",
      "380000;220000;110000           64\n",
      "220000                         62\n",
      "380000                         58\n",
      "NaN                            34\n",
      "380000;220000                  24\n",
      "220000;65000                    3\n",
      "110000                          3\n",
      "400000;220000                   2\n",
      "400000;220000;110000            2\n",
      "400000                          2\n",
      "150000                          2\n",
      "380000;110000;20000             1\n",
      "400000;220000;150000            1\n",
      "400000;130000                   1\n",
      "400000;225000                   1\n",
      "380000;150000;110000            1\n",
      "400000;225000;90000             1\n",
      "220000;150000;60000             1\n",
      "220000;155000                   1\n",
      "380000;220000;110000;20000      1\n",
      "Name: voltage, dtype: int64\n"
     ]
    }
   ],
   "source": [
    "print(vertices[\"voltage\"].value_counts(dropna=False))"
   ]
  },
  {
   "cell_type": "code",
   "execution_count": 5,
   "metadata": {},
   "outputs": [],
   "source": [
    "links = pd.read_csv(folder_prefix+\"scigrid-151109/links_de_power_151109.csvdata\",sep=\",\",quotechar=\"'\",index_col=0)\n",
    "links.rename(columns={\"v_id_1\":\"bus0\",\"v_id_2\":\"bus1\",\"name\":\"osm_name\"},inplace=True)\n",
    "\n",
    "links[\"cables\"].fillna(3,inplace=True)\n",
    "links[\"wires\"].fillna(2,inplace=True)\n",
    "\n",
    "links[\"length\"] = links[\"length_m\"]/1000."
   ]
  },
  {
   "cell_type": "code",
   "execution_count": 6,
   "metadata": {},
   "outputs": [
    {
     "name": "stdout",
     "output_type": "stream",
     "text": [
      "380000    422\n",
      "220000    399\n",
      "300000      2\n",
      "400000      1\n",
      "450000      1\n",
      "Name: voltage, dtype: int64\n"
     ]
    }
   ],
   "source": [
    "print(links[\"voltage\"].value_counts(dropna=False))"
   ]
  },
  {
   "cell_type": "code",
   "execution_count": 7,
   "metadata": {},
   "outputs": [],
   "source": [
    "## Drop the DC lines\n",
    "\n",
    "for voltage in [300000,400000,450000]:\n",
    "    links.drop(links[links.voltage == voltage].index,inplace=True)"
   ]
  },
  {
   "cell_type": "code",
   "execution_count": 8,
   "metadata": {},
   "outputs": [],
   "source": [
    "## Build the network\n",
    "\n",
    "network = pypsa.Network()\n",
    "\n",
    "pypsa.io.import_components_from_dataframe(network,vertices,\"Bus\")\n",
    "\n",
    "pypsa.io.import_components_from_dataframe(network,links,\"Line\")"
   ]
  },
  {
   "cell_type": "markdown",
   "metadata": {},
   "source": [
    "## Add specific missing AC lines"
   ]
  },
  {
   "cell_type": "code",
   "execution_count": 11,
   "metadata": {},
   "outputs": [],
   "source": [
    "# Add AC lines known to be missing in SciGRID                                                                                                             \n",
    "# E.g. lines missing because of OSM mapping errors.                                                                                                       \n",
    "# This is no systematic list, just what we noticed;                                                                                                       \n",
    "# please tell SciGRID and/or Tom Brown (brown@fias.uni-frankfurt.de)                                                                                      \n",
    "# if you know of more examples                                                                                                                            \n",
    "\n",
    "columns = [\"bus0\",\"bus1\",\"wires\",\"cables\",\"voltage\"]\n",
    "\n",
    "data = [[\"100\",\"255\",2,6,220000], # Niederstedem to Wengerohr                                                                                             \n",
    "        [\"384\",\"351\",4,6,380000], # Raitersaich to Ingolstadt                                                                                             \n",
    "        [\"351\",\"353\",4,6,380000], # Ingolstadt to Irsching                                                                                                \n",
    "        ]\n",
    "\n",
    "last_scigrid_line = int(network.lines.index[-1])\n",
    "\n",
    "index = [str(i) for i in range(last_scigrid_line+1,last_scigrid_line+1 + len(data))]\n",
    "\n",
    "missing_lines = pd.DataFrame(data,index,columns)\n",
    "\n",
    "#On average, SciGRID lines are 25% longer than the direct distance\n",
    "length_factor = 1.25\n",
    "\n",
    "missing_lines[\"length\"] = [length_factor*pypsa.geo.haversine(network.buses.loc[r.bus0,[\"x\",\"y\"]],network.buses.loc[r.bus1,[\"x\",\"y\"]])[0,0] for i,r in missing_lines.iterrows()]\n"
   ]
  },
  {
   "cell_type": "code",
   "execution_count": 12,
   "metadata": {
    "collapsed": true
   },
   "outputs": [],
   "source": [
    "pypsa.io.import_components_from_dataframe(network,missing_lines,\"Line\")"
   ]
  },
  {
   "cell_type": "code",
   "execution_count": 13,
   "metadata": {},
   "outputs": [
    {
     "data": {
      "text/html": [
       "<div>\n",
       "<table border=\"1\" class=\"dataframe\">\n",
       "  <thead>\n",
       "    <tr style=\"text-align: right;\">\n",
       "      <th></th>\n",
       "      <th>b</th>\n",
       "      <th>b_pu</th>\n",
       "      <th>bus0</th>\n",
       "      <th>bus1</th>\n",
       "      <th>c_nfkm</th>\n",
       "      <th>cables</th>\n",
       "      <th>capital_cost</th>\n",
       "      <th>frequency</th>\n",
       "      <th>from_relation</th>\n",
       "      <th>g</th>\n",
       "      <th>...</th>\n",
       "      <th>terrain_factor</th>\n",
       "      <th>type</th>\n",
       "      <th>v_ang_max</th>\n",
       "      <th>v_ang_min</th>\n",
       "      <th>voltage</th>\n",
       "      <th>wires</th>\n",
       "      <th>wkt_srid_4326</th>\n",
       "      <th>x</th>\n",
       "      <th>x_ohmkm</th>\n",
       "      <th>x_pu</th>\n",
       "    </tr>\n",
       "  </thead>\n",
       "  <tbody>\n",
       "    <tr>\n",
       "      <th>824</th>\n",
       "      <td>0.0</td>\n",
       "      <td>0.0</td>\n",
       "      <td>333</td>\n",
       "      <td>495</td>\n",
       "      <td>13.7</td>\n",
       "      <td>6.0</td>\n",
       "      <td>0.0</td>\n",
       "      <td>50.0</td>\n",
       "      <td>5502026.0</td>\n",
       "      <td>0.0</td>\n",
       "      <td>...</td>\n",
       "      <td>1.0</td>\n",
       "      <td></td>\n",
       "      <td>inf</td>\n",
       "      <td>-inf</td>\n",
       "      <td>380000.0</td>\n",
       "      <td>2.0</td>\n",
       "      <td>SRID=4326;LINESTRING(9.19698235871826 54.85109...</td>\n",
       "      <td>0.0</td>\n",
       "      <td>0.25</td>\n",
       "      <td>0.0</td>\n",
       "    </tr>\n",
       "    <tr>\n",
       "      <th>825</th>\n",
       "      <td>0.0</td>\n",
       "      <td>0.0</td>\n",
       "      <td>398</td>\n",
       "      <td>495</td>\n",
       "      <td>13.7</td>\n",
       "      <td>6.0</td>\n",
       "      <td>0.0</td>\n",
       "      <td>50.0</td>\n",
       "      <td>5502026.0</td>\n",
       "      <td>0.0</td>\n",
       "      <td>...</td>\n",
       "      <td>1.0</td>\n",
       "      <td></td>\n",
       "      <td>inf</td>\n",
       "      <td>-inf</td>\n",
       "      <td>380000.0</td>\n",
       "      <td>2.0</td>\n",
       "      <td>SRID=4326;LINESTRING(9.72460611042234 54.28827...</td>\n",
       "      <td>0.0</td>\n",
       "      <td>0.25</td>\n",
       "      <td>0.0</td>\n",
       "    </tr>\n",
       "    <tr>\n",
       "      <th>826</th>\n",
       "      <td>0.0</td>\n",
       "      <td>0.0</td>\n",
       "      <td>100</td>\n",
       "      <td>255</td>\n",
       "      <td>NaN</td>\n",
       "      <td>6.0</td>\n",
       "      <td>0.0</td>\n",
       "      <td>NaN</td>\n",
       "      <td>NaN</td>\n",
       "      <td>0.0</td>\n",
       "      <td>...</td>\n",
       "      <td>1.0</td>\n",
       "      <td></td>\n",
       "      <td>inf</td>\n",
       "      <td>-inf</td>\n",
       "      <td>220000.0</td>\n",
       "      <td>2.0</td>\n",
       "      <td>NaN</td>\n",
       "      <td>0.0</td>\n",
       "      <td>NaN</td>\n",
       "      <td>0.0</td>\n",
       "    </tr>\n",
       "    <tr>\n",
       "      <th>827</th>\n",
       "      <td>0.0</td>\n",
       "      <td>0.0</td>\n",
       "      <td>384</td>\n",
       "      <td>351</td>\n",
       "      <td>NaN</td>\n",
       "      <td>6.0</td>\n",
       "      <td>0.0</td>\n",
       "      <td>NaN</td>\n",
       "      <td>NaN</td>\n",
       "      <td>0.0</td>\n",
       "      <td>...</td>\n",
       "      <td>1.0</td>\n",
       "      <td></td>\n",
       "      <td>inf</td>\n",
       "      <td>-inf</td>\n",
       "      <td>380000.0</td>\n",
       "      <td>4.0</td>\n",
       "      <td>NaN</td>\n",
       "      <td>0.0</td>\n",
       "      <td>NaN</td>\n",
       "      <td>0.0</td>\n",
       "    </tr>\n",
       "    <tr>\n",
       "      <th>828</th>\n",
       "      <td>0.0</td>\n",
       "      <td>0.0</td>\n",
       "      <td>351</td>\n",
       "      <td>353</td>\n",
       "      <td>NaN</td>\n",
       "      <td>6.0</td>\n",
       "      <td>0.0</td>\n",
       "      <td>NaN</td>\n",
       "      <td>NaN</td>\n",
       "      <td>0.0</td>\n",
       "      <td>...</td>\n",
       "      <td>1.0</td>\n",
       "      <td></td>\n",
       "      <td>inf</td>\n",
       "      <td>-inf</td>\n",
       "      <td>380000.0</td>\n",
       "      <td>4.0</td>\n",
       "      <td>NaN</td>\n",
       "      <td>0.0</td>\n",
       "      <td>NaN</td>\n",
       "      <td>0.0</td>\n",
       "    </tr>\n",
       "  </tbody>\n",
       "</table>\n",
       "<p>5 rows × 37 columns</p>\n",
       "</div>"
      ],
      "text/plain": [
       "       b  b_pu bus0 bus1  c_nfkm  cables  capital_cost  frequency  \\\n",
       "824  0.0   0.0  333  495    13.7     6.0           0.0       50.0   \n",
       "825  0.0   0.0  398  495    13.7     6.0           0.0       50.0   \n",
       "826  0.0   0.0  100  255     NaN     6.0           0.0        NaN   \n",
       "827  0.0   0.0  384  351     NaN     6.0           0.0        NaN   \n",
       "828  0.0   0.0  351  353     NaN     6.0           0.0        NaN   \n",
       "\n",
       "     from_relation    g  ...   terrain_factor  type  v_ang_max  v_ang_min  \\\n",
       "824      5502026.0  0.0  ...              1.0              inf       -inf   \n",
       "825      5502026.0  0.0  ...              1.0              inf       -inf   \n",
       "826            NaN  0.0  ...              1.0              inf       -inf   \n",
       "827            NaN  0.0  ...              1.0              inf       -inf   \n",
       "828            NaN  0.0  ...              1.0              inf       -inf   \n",
       "\n",
       "      voltage wires                                      wkt_srid_4326    x  \\\n",
       "824  380000.0   2.0  SRID=4326;LINESTRING(9.19698235871826 54.85109...  0.0   \n",
       "825  380000.0   2.0  SRID=4326;LINESTRING(9.72460611042234 54.28827...  0.0   \n",
       "826  220000.0   2.0                                                NaN  0.0   \n",
       "827  380000.0   4.0                                                NaN  0.0   \n",
       "828  380000.0   4.0                                                NaN  0.0   \n",
       "\n",
       "     x_ohmkm  x_pu  \n",
       "824     0.25   0.0  \n",
       "825     0.25   0.0  \n",
       "826      NaN   0.0  \n",
       "827      NaN   0.0  \n",
       "828      NaN   0.0  \n",
       "\n",
       "[5 rows x 37 columns]"
      ]
     },
     "execution_count": 13,
     "metadata": {},
     "output_type": "execute_result"
    }
   ],
   "source": [
    "network.lines.tail()"
   ]
  },
  {
   "cell_type": "markdown",
   "metadata": {},
   "source": [
    "## Determine the voltage of the buses by the lines which end there\n"
   ]
  },
  {
   "cell_type": "code",
   "execution_count": 14,
   "metadata": {},
   "outputs": [
    {
     "data": {
      "text/plain": [
       "380000.0    424\n",
       "220000.0    400\n",
       "Name: voltage, dtype: int64"
      ]
     },
     "execution_count": 14,
     "metadata": {},
     "output_type": "execute_result"
    }
   ],
   "source": [
    "network.lines.voltage.value_counts()"
   ]
  },
  {
   "cell_type": "code",
   "execution_count": 15,
   "metadata": {},
   "outputs": [],
   "source": [
    "\n",
    "buses_by_voltage = {}\n",
    "\n",
    "for voltage in network.lines.voltage.value_counts().index:\n",
    "    buses_by_voltage[voltage] = set(network.lines[network.lines.voltage == voltage].bus0)\\\n",
    "                                | set(network.lines[network.lines.voltage == voltage].bus1)"
   ]
  },
  {
   "cell_type": "code",
   "execution_count": 16,
   "metadata": {
    "collapsed": true
   },
   "outputs": [],
   "source": [
    "# give priority to 380 kV\n",
    "network.buses[\"v_nom\"] = 380\n",
    "network.buses.loc[buses_by_voltage[220000],\"v_nom\"] = 220\n",
    "network.buses.loc[buses_by_voltage[380000],\"v_nom\"] = 380"
   ]
  },
  {
   "cell_type": "code",
   "execution_count": 17,
   "metadata": {},
   "outputs": [
    {
     "data": {
      "text/plain": [
       "380    277\n",
       "220    218\n",
       "Name: v_nom, dtype: int64"
      ]
     },
     "execution_count": 17,
     "metadata": {},
     "output_type": "execute_result"
    }
   ],
   "source": [
    "network.buses.v_nom.value_counts(dropna=False)"
   ]
  },
  {
   "cell_type": "markdown",
   "metadata": {},
   "source": [
    "## Connect buses which are < 850m apart\n",
    "\n",
    "There are pairs of buses less than 850m apart which are not connected in SciGRID, but clearly connected in OpenStreetMap (OSM).\n",
    "\n",
    "The reason is that the relations for connections between close substations do not appear in OSM.\n",
    "\n",
    "Here they are connected with 2 circuits of the appropriate voltage level (an asumption).\n",
    "\n",
    "850m is chosen as a limit based on manually looking through the examples.\n",
    "\n",
    "The example 46-48 (Marzahn) at 892 m apart is the first example of close substations which are not connected in reality."
   ]
  },
  {
   "cell_type": "code",
   "execution_count": 18,
   "metadata": {},
   "outputs": [],
   "source": [
    "# Compute the distances for unique pairs\n",
    "\n",
    "pairs = pd.Series()\n",
    "\n",
    "for i,u in enumerate(network.buses.index):\n",
    "    vs = network.buses[[\"x\",\"y\"]].iloc[i+1:]\n",
    "    distance_km = pypsa.geo.haversine(vs,network.buses.loc[u,[\"x\",\"y\"]])\n",
    "\n",
    "    to_add = pd.Series(data=distance_km[:,0],index=[(u,v) for v in vs.index])\n",
    "    \n",
    "    pairs = pd.concat((pairs,to_add))"
   ]
  },
  {
   "cell_type": "code",
   "execution_count": 19,
   "metadata": {},
   "outputs": [
    {
     "data": {
      "text/plain": [
       "(443, 444)    0.024582\n",
       "(465, 471)    0.038207\n",
       "(483, 484)    0.075587\n",
       "(250, 251)    0.089066\n",
       "(419, 420)    0.100549\n",
       "dtype: float64"
      ]
     },
     "execution_count": 19,
     "metadata": {},
     "output_type": "execute_result"
    }
   ],
   "source": [
    "pairs.sort_values().head()"
   ]
  },
  {
   "cell_type": "code",
   "execution_count": 20,
   "metadata": {
    "collapsed": true
   },
   "outputs": [],
   "source": [
    "# determine topology so we can look what's actually connected\n",
    "network.determine_network_topology()"
   ]
  },
  {
   "cell_type": "code",
   "execution_count": 22,
   "metadata": {},
   "outputs": [
    {
     "name": "stdout",
     "output_type": "stream",
     "text": [
      "465 471 0.0382066887159\n",
      "https://www.openstreetmap.org/#map=18/50.8441529722/6.92909269081\n",
      "https://www.openstreetmap.org/#map=18/50.8438169469/6.92897905392\n",
      "250 251 0.0890664669456\n",
      "https://www.openstreetmap.org/#map=18/51.6736430745/7.7155434195\n",
      "https://www.openstreetmap.org/#map=18/51.6730996381/7.7145945335\n",
      "419 420 0.100549382242\n",
      "https://www.openstreetmap.org/#map=18/54.3540286882/6.02502872786\n",
      "https://www.openstreetmap.org/#map=18/54.3549329471/6.02503294994\n",
      "251 252 0.139286625328\n",
      "https://www.openstreetmap.org/#map=18/51.6730996381/7.7145945335\n",
      "https://www.openstreetmap.org/#map=18/51.6726636622/7.71270093431\n",
      "194 195 0.162288711745\n",
      "https://www.openstreetmap.org/#map=18/51.5771047777/6.6830656826\n",
      "https://www.openstreetmap.org/#map=18/51.5756455059/6.68310697664\n",
      "249 250 0.201052985128\n",
      "https://www.openstreetmap.org/#map=18/51.6743422007/7.71823231963\n",
      "https://www.openstreetmap.org/#map=18/51.6736430745/7.7155434195\n",
      "2 296 0.217467718393\n",
      "https://www.openstreetmap.org/#map=18/52.5438533224/9.11321007473\n",
      "https://www.openstreetmap.org/#map=18/52.5457924749/9.11362795987\n",
      "250 252 0.22423259083\n",
      "https://www.openstreetmap.org/#map=18/51.6736430745/7.7155434195\n",
      "https://www.openstreetmap.org/#map=18/51.6726636622/7.71270093431\n",
      "54 367 0.237790544199\n",
      "https://www.openstreetmap.org/#map=18/49.2524597289/8.43846751212\n",
      "https://www.openstreetmap.org/#map=18/49.251402647/8.4413154852\n",
      "131 267 0.255219620964\n",
      "https://www.openstreetmap.org/#map=18/51.1225390519/6.80109333957\n",
      "https://www.openstreetmap.org/#map=18/51.1247880606/6.8018236571\n",
      "91 92 0.267503917553\n",
      "https://www.openstreetmap.org/#map=18/52.4801491896/7.30561448538\n",
      "https://www.openstreetmap.org/#map=18/52.4824259958/7.30433875539\n",
      "249 251 0.286382404109\n",
      "https://www.openstreetmap.org/#map=18/51.6743422007/7.71823231963\n",
      "https://www.openstreetmap.org/#map=18/51.6730996381/7.7145945335\n",
      "186 191 0.291957501887\n",
      "https://www.openstreetmap.org/#map=18/51.5261875491/6.71114527446\n",
      "https://www.openstreetmap.org/#map=18/51.5267908666/6.71525259692\n",
      "129 173 0.29597806878\n",
      "https://www.openstreetmap.org/#map=18/51.2606098249/6.62582790177\n",
      "https://www.openstreetmap.org/#map=18/51.2587133681/6.62284323547\n",
      "96 202 0.332431884295\n",
      "https://www.openstreetmap.org/#map=18/52.4691114903/7.31784994378\n",
      "https://www.openstreetmap.org/#map=18/52.4714572265/7.32089257542\n",
      "53 322 0.349721512651\n",
      "https://www.openstreetmap.org/#map=18/48.0993557006/7.7534954654\n",
      "https://www.openstreetmap.org/#map=18/48.0964057189/7.75186249821\n",
      "24 398 0.383041086878\n",
      "https://www.openstreetmap.org/#map=18/54.2914209868/9.72699196993\n",
      "https://www.openstreetmap.org/#map=18/54.2882702503/9.72460611042\n",
      "133 156 0.409565029791\n",
      "https://www.openstreetmap.org/#map=18/50.8635385009/6.84265066151\n",
      "https://www.openstreetmap.org/#map=18/50.8598647244/6.84223115148\n",
      "448 458 0.414353807553\n",
      "https://www.openstreetmap.org/#map=18/51.4592583943/7.42474524551\n",
      "https://www.openstreetmap.org/#map=18/51.4575100936/7.41946378046\n",
      "451 458 0.415017456637\n",
      "https://www.openstreetmap.org/#map=18/51.4607823587/7.41658261385\n",
      "https://www.openstreetmap.org/#map=18/51.4575100936/7.41946378046\n",
      "249 252 0.424643273603\n",
      "https://www.openstreetmap.org/#map=18/51.6743422007/7.71823231963\n",
      "https://www.openstreetmap.org/#map=18/51.6726636622/7.71270093431\n",
      "187 195 0.439508350931\n",
      "https://www.openstreetmap.org/#map=18/51.5764228882/6.68934277039\n",
      "https://www.openstreetmap.org/#map=18/51.5756455059/6.68310697664\n",
      "216 236 0.465178778054\n",
      "https://www.openstreetmap.org/#map=18/48.9144168738/9.19078743692\n",
      "https://www.openstreetmap.org/#map=18/48.912963438/9.19675652645\n",
      "246 391 0.477174425603\n",
      "https://www.openstreetmap.org/#map=18/50.0826078105/8.95870856177\n",
      "https://www.openstreetmap.org/#map=18/50.0860157333/8.95464412134\n",
      "396 410 0.520731065901\n",
      "https://www.openstreetmap.org/#map=18/48.5099297353/10.4015868558\n",
      "https://www.openstreetmap.org/#map=18/48.5146084081/10.4012813869\n",
      "448 451 0.590359937034\n",
      "https://www.openstreetmap.org/#map=18/51.4592583943/7.42474524551\n",
      "https://www.openstreetmap.org/#map=18/51.4607823587/7.41658261385\n",
      "448 450 0.60850191077\n",
      "https://www.openstreetmap.org/#map=18/51.4592583943/7.42474524551\n",
      "https://www.openstreetmap.org/#map=18/51.4570521583/7.41670791196\n",
      "198 478 0.774034099174\n",
      "https://www.openstreetmap.org/#map=18/51.6768446668/7.97065689371\n",
      "https://www.openstreetmap.org/#map=18/51.6766515665/7.9818783186\n",
      "470 473 0.781865929275\n",
      "https://www.openstreetmap.org/#map=18/51.7500675543/7.82599043341\n",
      "https://www.openstreetmap.org/#map=18/51.7550403465/7.83402074323\n",
      "198 253 0.816599958644\n",
      "https://www.openstreetmap.org/#map=18/51.6768446668/7.97065689371\n",
      "https://www.openstreetmap.org/#map=18/51.6735262619/7.98122159643\n",
      "112 143 0.836332808631\n",
      "https://www.openstreetmap.org/#map=18/51.5758105021/7.3531118694\n",
      "https://www.openstreetmap.org/#map=18/51.5683686081/7.35135784055\n",
      "46 48 0.892118502762\n",
      "https://www.openstreetmap.org/#map=18/52.5356342713/13.524198731\n",
      "https://www.openstreetmap.org/#map=18/52.5374565238/13.5370442127\n"
     ]
    }
   ],
   "source": [
    "# Example all substations which are close to                                                                                                              \n",
    "# each other geographically by not connected in network.adj                                                                                               \n",
    "\n",
    "start = 0  #km                                                                                                                                            \n",
    "stop = 1 #km                                                                                                                                              \n",
    "\n",
    "for (u,v),dist in pairs.sort_values().iteritems():\n",
    "\n",
    "    if dist < start:\n",
    "        continue\n",
    "\n",
    "    #only go up to pairs stop km apart                                                                                                                    \n",
    "    if dist > stop:\n",
    "        break\n",
    "\n",
    "    #ignore if they're already connected                                                                                                                  \n",
    "    if u in network.graph().adj[v]:\n",
    "        continue\n",
    "\n",
    "\n",
    "    print(u,v,dist)\n",
    "\n",
    "    u_x = network.buses.at[u,\"x\"]\n",
    "    u_y = network.buses.at[u,\"y\"]\n",
    "    v_x = network.buses.at[v,\"x\"]\n",
    "    v_y = network.buses.at[v,\"y\"]\n",
    "\n",
    "    #have a look what's going on in OSM                                                                                                                   \n",
    "    print(\"https://www.openstreetmap.org/#map=18/{}/{}\".format(u_y,u_x))\n",
    "    print(\"https://www.openstreetmap.org/#map=18/{}/{}\".format(v_y,v_x))\n"
   ]
  },
  {
   "cell_type": "code",
   "execution_count": 23,
   "metadata": {},
   "outputs": [
    {
     "name": "stdout",
     "output_type": "stream",
     "text": [
      "465 471 0.0382066887159 220 220\n",
      "250 251 0.0890664669456 220 220\n",
      "419 420 0.100549382242 380 380\n",
      "251 252 0.139286625328 220 220\n",
      "194 195 0.162288711745 380 220\n",
      "249 250 0.201052985128 380 220\n",
      "2 296 0.217467718393 380 380\n",
      "250 252 0.22423259083 220 220\n",
      "54 367 0.237790544199 380 380\n",
      "131 267 0.255219620964 380 220\n",
      "91 92 0.267503917553 380 380\n",
      "249 251 0.286382404109 380 220\n",
      "186 191 0.291957501887 380 220\n",
      "129 173 0.29597806878 220 380\n",
      "96 202 0.332431884295 220 380\n",
      "53 322 0.349721512651 380 220\n",
      "24 398 0.383041086878 220 380\n",
      "133 156 0.409565029791 380 220\n",
      "448 458 0.414353807553 380 220\n",
      "451 458 0.415017456637 380 220\n",
      "249 252 0.424643273603 380 220\n",
      "187 195 0.439508350931 380 220\n",
      "216 236 0.465178778054 380 220\n",
      "246 391 0.477174425603 380 220\n",
      "396 410 0.520731065901 380 380\n",
      "448 451 0.590359937034 380 380\n",
      "448 450 0.60850191077 380 380\n",
      "198 478 0.774034099174 380 380\n",
      "470 473 0.781865929275 380 380\n",
      "198 253 0.816599958644 380 380\n",
      "112 143 0.836332808631 380 220\n"
     ]
    }
   ],
   "source": [
    "# From examining the map, it seems that all cases where substations                                                                                       \n",
    "# are less than 850m apart are connected in reality                                                                                                       \n",
    "# The first one to fail is 46-48 (Marzahn) at 892 m                                                                                                       \n",
    "\n",
    "# Connect these substations                                                                                                                               \n",
    "\n",
    "limit = 0.85\n",
    "\n",
    "for (u,v),dist in pairs.sort_values().iteritems():\n",
    "\n",
    "    #only go up to pairs stop km apart                                                                                                                    \n",
    "    if dist > limit:\n",
    "        break\n",
    "\n",
    "    #ignore if they're already connected                                                                                                                  \n",
    "    if u in network.graph().adj[v]:\n",
    "        continue\n",
    "\n",
    "\n",
    "    kv_u = network.buses.at[u,\"v_nom\"]\n",
    "    kv_v = network.buses.at[v,\"v_nom\"]\n",
    "\n",
    "    print(u,v,dist,kv_u,kv_v)\n",
    "    \n",
    "    last_scigrid_line = int(network.lines.index[-1])\n",
    "    \n",
    "    voltage = max(kv_u,kv_v)*1000\n",
    "    \n",
    "    wires = {220000 : 2, 380000 : 4}[voltage]\n",
    "    \n",
    "    cables = 6\n",
    "    \n",
    "    df = pd.DataFrame([[u,v,length_factor*dist,wires,cables,voltage]],columns=[\"bus0\",\"bus1\",\"length\",\"wires\",\"cables\",\"voltage\"],index=[str(last_scigrid_line+1)])\n",
    "\n",
    "    pypsa.io.import_components_from_dataframe(network,df,\"Line\")"
   ]
  },
  {
   "cell_type": "markdown",
   "metadata": {},
   "source": [
    "## Split buses with more than one voltage; add trafos between\n",
    "\n",
    "This code splits the buses where you have 220 and 380 kV lines landing."
   ]
  },
  {
   "cell_type": "code",
   "execution_count": 24,
   "metadata": {},
   "outputs": [
    {
     "data": {
      "text/plain": [
       "380000.0    451\n",
       "220000.0    404\n",
       "Name: voltage, dtype: int64"
      ]
     },
     "execution_count": 24,
     "metadata": {},
     "output_type": "execute_result"
    }
   ],
   "source": [
    "network.lines.voltage.value_counts()"
   ]
  },
  {
   "cell_type": "code",
   "execution_count": 25,
   "metadata": {
    "collapsed": true
   },
   "outputs": [],
   "source": [
    "\n",
    "buses_by_voltage = {}\n",
    "\n",
    "for voltage in network.lines.voltage.value_counts().index:\n",
    "    buses_by_voltage[voltage] = set(network.lines[network.lines.voltage == voltage].bus0)\\\n",
    "                                | set(network.lines[network.lines.voltage == voltage].bus1)"
   ]
  },
  {
   "cell_type": "code",
   "execution_count": 26,
   "metadata": {
    "collapsed": true
   },
   "outputs": [],
   "source": [
    "network.buses.v_nom=380\n",
    "network.buses.loc[buses_by_voltage[220000],\"v_nom\"] = 220\n",
    "network.buses.loc[buses_by_voltage[380000],\"v_nom\"] = 380"
   ]
  },
  {
   "cell_type": "code",
   "execution_count": 27,
   "metadata": {},
   "outputs": [
    {
     "data": {
      "text/plain": [
       "96"
      ]
     },
     "execution_count": 27,
     "metadata": {},
     "output_type": "execute_result"
    }
   ],
   "source": [
    "overlap = buses_by_voltage[220000] & buses_by_voltage[380000]\n",
    "len(overlap)"
   ]
  },
  {
   "cell_type": "code",
   "execution_count": 28,
   "metadata": {},
   "outputs": [],
   "source": [
    "## build up new buses and transformers to import\n",
    "\n",
    "\n",
    "buses_to_split = [str(i) for i in sorted([int(item) for item in overlap])]\n",
    "buses_to_split_df = network.buses.loc[buses_to_split]\n",
    "\n",
    "buses_to_split_df.v_nom = 220\n",
    "\n",
    "buses_to_split_220kV = [name + \"_220kV\" for name in buses_to_split_df.index]\n",
    "\n",
    "buses_to_split_df.index = buses_to_split_220kV\n",
    "\n",
    "trafos_df = pd.DataFrame(index=buses_to_split)\n",
    "trafos_df[\"bus0\"] = buses_to_split\n",
    "trafos_df[\"bus1\"] = buses_to_split_220kV\n",
    "trafos_df[\"x\"] = 0.1\n",
    "#This high a nominal power is required for feasibility in LOPF\n",
    "trafos_df[\"s_nom\"] = 2000"
   ]
  },
  {
   "cell_type": "code",
   "execution_count": 29,
   "metadata": {},
   "outputs": [],
   "source": [
    "pypsa.io.import_components_from_dataframe(network,buses_to_split_df,\"Bus\")\n",
    "pypsa.io.import_components_from_dataframe(network,trafos_df,\"Transformer\")"
   ]
  },
  {
   "cell_type": "code",
   "execution_count": 30,
   "metadata": {},
   "outputs": [
    {
     "name": "stdout",
     "output_type": "stream",
     "text": [
      "3 380.0 220000.0\n",
      "6 380.0 220000.0\n",
      "8 380.0 220000.0\n",
      "9 380.0 220000.0\n",
      "16 380.0 220000.0\n",
      "19 380.0 220000.0\n",
      "32 380.0 220000.0\n",
      "40 380.0 220000.0\n",
      "41 380.0 220000.0\n",
      "52 380.0 220000.0\n",
      "53 380.0 220000.0\n",
      "58 380.0 220000.0\n",
      "78 380.0 220000.0\n",
      "99 380.0 220000.0\n",
      "127 380.0 220000.0\n",
      "133 380.0 220000.0\n",
      "140 380.0 220000.0\n",
      "143 380.0 220000.0\n",
      "145 380.0 220000.0\n",
      "156 380.0 220000.0\n",
      "157 380.0 220000.0\n",
      "160 380.0 220000.0\n",
      "161 380.0 220000.0\n",
      "165 380.0 220000.0\n",
      "166 380.0 220000.0\n",
      "167 380.0 220000.0\n",
      "170 380.0 220000.0\n",
      "171 380.0 220000.0\n",
      "172 380.0 220000.0\n",
      "173 380.0 220000.0\n",
      "176 380.0 220000.0\n",
      "180 380.0 220000.0\n",
      "193 380.0 220000.0\n",
      "195 380.0 220000.0\n",
      "196 380.0 220000.0\n",
      "198 380.0 220000.0\n",
      "199 380.0 220000.0\n",
      "203 380.0 220000.0\n",
      "206 380.0 220000.0\n",
      "208 380.0 220000.0\n",
      "209 380.0 220000.0\n",
      "223 380.0 220000.0\n",
      "224 380.0 220000.0\n",
      "228 380.0 220000.0\n",
      "229 380.0 220000.0\n",
      "234 380.0 220000.0\n",
      "235 380.0 220000.0\n",
      "236 380.0 220000.0\n",
      "237 380.0 220000.0\n",
      "240 380.0 220000.0\n",
      "243 380.0 220000.0\n",
      "244 380.0 220000.0\n",
      "262 380.0 220000.0\n",
      "275 380.0 220000.0\n",
      "278 380.0 220000.0\n",
      "283 380.0 220000.0\n",
      "306 380.0 220000.0\n",
      "308 380.0 220000.0\n",
      "314 380.0 220000.0\n",
      "322 380.0 220000.0\n",
      "323 380.0 220000.0\n",
      "327 380.0 220000.0\n",
      "333 380.0 220000.0\n",
      "334 380.0 220000.0\n",
      "335 380.0 220000.0\n",
      "337 380.0 220000.0\n",
      "338 380.0 220000.0\n",
      "341 380.0 220000.0\n",
      "342 380.0 220000.0\n",
      "345 380.0 220000.0\n",
      "350 380.0 220000.0\n",
      "351 380.0 220000.0\n",
      "363 380.0 220000.0\n",
      "364 380.0 220000.0\n",
      "365 380.0 220000.0\n",
      "372 380.0 220000.0\n",
      "373 380.0 220000.0\n",
      "374 380.0 220000.0\n",
      "375 380.0 220000.0\n",
      "380 380.0 220000.0\n",
      "381 380.0 220000.0\n",
      "382 380.0 220000.0\n",
      "393 380.0 220000.0\n",
      "396 380.0 220000.0\n",
      "413 380.0 220000.0\n",
      "414 380.0 220000.0\n",
      "418 380.0 220000.0\n",
      "422 380.0 220000.0\n",
      "424 380.0 220000.0\n",
      "425 380.0 220000.0\n",
      "427 380.0 220000.0\n",
      "428 380.0 220000.0\n",
      "434 380.0 220000.0\n",
      "442 380.0 220000.0\n",
      "463 380.0 220000.0\n",
      "467 380.0 220000.0\n",
      "473 380.0 220000.0\n",
      "485 380.0 220000.0\n",
      "486 380.0 220000.0\n",
      "497 380.0 220000.0\n",
      "503 380.0 220000.0\n",
      "506 380.0 220000.0\n",
      "507 380.0 220000.0\n",
      "508 380.0 220000.0\n",
      "509 380.0 220000.0\n",
      "518 380.0 220000.0\n",
      "520 380.0 220000.0\n",
      "528 380.0 220000.0\n",
      "530 380.0 220000.0\n",
      "536 380.0 220000.0\n",
      "539 380.0 220000.0\n",
      "555 380.0 220000.0\n",
      "564 380.0 220000.0\n",
      "565 380.0 220000.0\n",
      "566 380.0 220000.0\n",
      "567 380.0 220000.0\n",
      "575 380.0 220000.0\n",
      "577 380.0 220000.0\n",
      "583 380.0 220000.0\n",
      "584 380.0 220000.0\n",
      "601 380.0 220000.0\n",
      "603 380.0 220000.0\n",
      "604 380.0 220000.0\n",
      "608 380.0 220000.0\n",
      "609 380.0 220000.0\n",
      "610 380.0 220000.0\n",
      "612 380.0 220000.0\n",
      "624 380.0 220000.0\n",
      "626 380.0 220000.0\n",
      "627 380.0 220000.0\n",
      "629 380.0 220000.0\n",
      "632 380.0 220000.0\n",
      "634 380.0 220000.0\n",
      "646 380.0 220000.0\n",
      "648 380.0 220000.0\n",
      "650 380.0 220000.0\n",
      "654 380.0 220000.0\n",
      "659 380.0 220000.0\n",
      "660 380.0 220000.0\n",
      "661 380.0 220000.0\n",
      "669 380.0 220000.0\n",
      "670 380.0 220000.0\n",
      "673 380.0 220000.0\n",
      "674 380.0 220000.0\n",
      "678 380.0 220000.0\n",
      "679 380.0 220000.0\n",
      "680 380.0 220000.0\n",
      "699 380.0 220000.0\n",
      "705 380.0 220000.0\n",
      "708 380.0 220000.0\n",
      "716 380.0 220000.0\n",
      "717 380.0 220000.0\n",
      "720 380.0 220000.0\n",
      "744 380.0 220000.0\n",
      "745 380.0 220000.0\n",
      "747 380.0 220000.0\n",
      "748 380.0 220000.0\n",
      "755 380.0 220000.0\n",
      "757 380.0 220000.0\n",
      "760 380.0 220000.0\n",
      "766 380.0 220000.0\n",
      "768 380.0 220000.0\n",
      "774 380.0 220000.0\n",
      "779 380.0 220000.0\n",
      "780 380.0 220000.0\n",
      "783 380.0 220000.0\n",
      "803 380.0 220000.0\n",
      "814 380.0 220000.0\n",
      "819 380.0 220000.0\n",
      "826 380.0 220000.0\n",
      "830 380.0 220000.0\n",
      "832 380.0 220000.0\n",
      "836 380.0 220000.0\n"
     ]
    }
   ],
   "source": [
    "##reconnect lines to the correct voltage bus\n",
    "\n",
    "for line in network.lines.index:\n",
    "    bus0 = network.lines.at[line,\"bus0\"]\n",
    "    bus1 = network.lines.at[line,\"bus1\"]\n",
    "    v0 = network.buses.at[bus0,\"v_nom\"]\n",
    "    v1 = network.buses.at[bus1,\"v_nom\"]\n",
    "    v = network.lines.at[line,\"voltage\"]\n",
    "    if v0 != v/1000.:\n",
    "        print(line,v0,v)\n",
    "        network.lines.at[line,\"bus0\"] = bus0+\"_220kV\"\n",
    "    if v1 != v/1000.:\n",
    "        network.lines.at[line,\"bus1\"] = bus1+\"_220kV\""
   ]
  },
  {
   "cell_type": "code",
   "execution_count": 31,
   "metadata": {},
   "outputs": [
    {
     "name": "stdout",
     "output_type": "stream",
     "text": [
      "Keeping Sub-Network SubNetwork 0 because it has 585 buses\n",
      "Dropping Sub-Network SubNetwork 1 because it only has 2 buses\n",
      "Dropping Sub-Network SubNetwork 2 because it only has 1 buses\n",
      "Dropping Sub-Network SubNetwork 3 because it only has 1 buses\n",
      "Dropping Sub-Network SubNetwork 4 because it only has 2 buses\n"
     ]
    }
   ],
   "source": [
    "#determine the connected components\n",
    "\n",
    "network.determine_network_topology()\n",
    "\n",
    "\n",
    "#remove small isolated networks\n",
    "for sn in network.sub_networks.obj:\n",
    "    buses = sn.buses().index\n",
    "    branches = sn.branches().index\n",
    "    \n",
    "    if len(buses) < 5:\n",
    "        print(\"Dropping Sub-Network {} because it only has {} buses\".format(sn,len(buses)))\n",
    "        #print(buses.index)\n",
    "        #print(len(branches),branches.index)\n",
    "        for bus in buses:\n",
    "            network.remove(\"Bus\",bus)\n",
    "        for branch in branches:\n",
    "            network.remove(\"Line\",branch[1])\n",
    "    else:\n",
    "        print(\"Keeping Sub-Network {} because it has {} buses\".format(sn,len(buses)))\n",
    "\n",
    "#rebuild topology\n",
    "\n",
    "network.determine_network_topology()"
   ]
  },
  {
   "cell_type": "code",
   "execution_count": 29,
   "metadata": {},
   "outputs": [
    {
     "data": {
      "text/plain": [
       "(<matplotlib.collections.PathCollection at 0x7f7789af5d10>,\n",
       " <matplotlib.collections.LineCollection at 0x7f7789b199d0>)"
      ]
     },
     "execution_count": 29,
     "metadata": {},
     "output_type": "execute_result"
    },
    {
     "data": {
      "image/png": "[encoded data removed]",
      "text/plain": [
       "<matplotlib.figure.Figure at 0x7f7789ed5dd0>"
      ]
     },
     "metadata": {},
     "output_type": "display_data"
    }
   ],
   "source": [
    "colors = network.lines.voltage.map(lambda v: \"g\" if v == 220000 else \"r\" if v == 380000 else \"c\")\n",
    "\n",
    "network.plot(line_colors=colors)"
   ]
  },
  {
   "cell_type": "markdown",
   "metadata": {},
   "source": [
    "## Recalculate all electrical properties"
   ]
  },
  {
   "cell_type": "code",
   "execution_count": 30,
   "metadata": {},
   "outputs": [],
   "source": [
    "network.lines[\"type\"] = network.lines.voltage.map({220000 : \"Al/St 240/40 2-bundle 220.0\",\n",
    "                                                   380000 : \"Al/St 240/40 4-bundle 380.0\"})\n",
    "\n",
    "network.lines[\"num_parallel\"] = network.lines.cables/3.*network.lines.wires/network.lines.voltage.map({220000 : 2., 380000 : 4.})\n",
    "\n",
    "network.lines[\"s_nom\"] = 3.**0.5*network.lines.voltage/1000.*network.lines.num_parallel*network.lines.voltage.map({220000 : 2., 380000 : 4.})*0.65"
   ]
  },
  {
   "cell_type": "markdown",
   "metadata": {},
   "source": [
    "# Attach the load"
   ]
  },
  {
   "cell_type": "code",
   "execution_count": 31,
   "metadata": {},
   "outputs": [],
   "source": [
    "#import FIAS libraries for attaching data\n",
    "\n",
    "#this script uses old versions of the FIAS libraries and \n",
    "#has not yet been updated to the new versions\n",
    "\n",
    "#the latest versions are available at\n",
    "#https://github.com/FRESNA/vresutils\n",
    "\n",
    "#if you get it working with the new versions, please\n",
    "#tell us! It shouldn't be too hard...\n",
    "\n",
    "try:\n",
    "    import vresutils, load\n",
    "except:\n",
    "    print(\"Oh dear! You don't have FIAS libraries, so you cannot add load :-(\")"
   ]
  },
  {
   "cell_type": "code",
   "execution_count": 32,
   "metadata": {},
   "outputs": [],
   "source": [
    "import load"
   ]
  },
  {
   "cell_type": "code",
   "execution_count": 33,
   "metadata": {},
   "outputs": [],
   "source": [
    "from vresutils import graph as vgraph\n",
    "from vresutils import shapes as vshapes\n",
    "from vresutils import grid as vgrid\n",
    "from vresutils import dispatch as vdispatch\n",
    "from shapely.geometry import Polygon\n",
    "from load import germany as DEload\n",
    "import networkx as nx"
   ]
  },
  {
   "cell_type": "code",
   "execution_count": 34,
   "metadata": {},
   "outputs": [],
   "source": [
    "\n",
    "#bounding poly for Germany for the Voronoi - necessary\n",
    "#because some SciGRID points lie outside border vshapes.germany()\n",
    "poly = Polygon([[5.8,47.],[5.8,55.5],[15.2,55.5],[15.2,47.]])"
   ]
  },
  {
   "cell_type": "code",
   "execution_count": 35,
   "metadata": {},
   "outputs": [],
   "source": [
    "def generate_dummy_graph(network):\n",
    "    \"\"\"Generate a dummy graph to feed to the FIAS libraries.\n",
    "    It adds the \"pos\" attribute and removes the 380 kV duplicate\n",
    "    buses when the buses have been split, so that all load and generation\n",
    "    is attached to the 220kV bus.\"\"\"\n",
    "    \n",
    "    graph = pypsa.descriptors.OrderedGraph()\n",
    "    \n",
    "    graph.add_nodes_from([bus for bus in network.buses.index if bus not in buses_to_split])\n",
    "    \n",
    "    #add positions to graph for voronoi cell computation\n",
    "    for node in graph.nodes():\n",
    "        graph.node[node][\"pos\"] = np.array(network.buses.loc[node,[\"x\",\"y\"]],dtype=float)\n",
    "    \n",
    "    return graph"
   ]
  },
  {
   "cell_type": "code",
   "execution_count": 36,
   "metadata": {},
   "outputs": [],
   "source": [
    "graph = generate_dummy_graph(network)"
   ]
  },
  {
   "cell_type": "code",
   "execution_count": 37,
   "metadata": {
    "collapsed": true
   },
   "outputs": [],
   "source": [
    "graph.name = \"scigrid_v2\""
   ]
  },
  {
   "cell_type": "code",
   "execution_count": 38,
   "metadata": {
    "collapsed": true
   },
   "outputs": [],
   "source": [
    "def voronoi_partition(G, outline):\n",
    "    \"\"\"                                                                                                                                                   \n",
    "    For 2D-embedded graph `G`, within the boundary given by the shapely polygon                                                                           \n",
    "    `outline`, returns `G` with the Voronoi cell region as an additional node                                                                             \n",
    "    attribute.                                                                                                                                            \n",
    "    \"\"\"\n",
    "    #following line from vresutils.graph caused a bug\n",
    "    #G = polygon_subgraph(G, outline, copy=False)\n",
    "    points = list(vresutils.graph.get_node_attributes(G, 'pos').values())\n",
    "    regions = vresutils.graph.voronoi_partition_pts(points, outline, no_multipolygons=True)\n",
    "    nx.set_node_attributes(G, 'region', dict(zip(G.nodes(), regions)))\n",
    "\n",
    "    return G\n"
   ]
  },
  {
   "cell_type": "code",
   "execution_count": 39,
   "metadata": {},
   "outputs": [
    {
     "data": {
      "text/plain": [
       "<pypsa.descriptors.OrderedGraph at 0x7fda831b3790>"
      ]
     },
     "execution_count": 39,
     "metadata": {},
     "output_type": "execute_result"
    }
   ],
   "source": [
    "voronoi_partition(graph, poly)"
   ]
  },
  {
   "cell_type": "code",
   "execution_count": 40,
   "metadata": {},
   "outputs": [
    {
     "name": "stdout",
     "output_type": "stream",
     "text": [
      "Serving call to read_entsoe_consumption from file load.europe.read_entsoe_consumption_2011_2012_2013_2014_countries.Germany.pickle of cache: 1.7 msec\n",
      "Serving call to read_entsoe_consumption from file load.europe.read_entsoe_consumption__.pickle of cache: 15.6 msec\n",
      "Serving call to landkreise from file load.germany.landkreise_ver5__.pickle of cache: 628.9 usec\n",
      "Serving call to landkreise from file vresutils.shapes.landkreise__.pickle of cache: 4.0 msec\n"
     ]
    },
    {
     "name": "stderr",
     "output_type": "stream",
     "text": [
      "/home/vres/data/tom/lib/load/europe.py:35: FutureWarning: how in .resample() is deprecated\n",
      "the new syntax is .resample(...).sum()\n",
      "  load = load.resample('AS', how=\"sum\")\n"
     ]
    }
   ],
   "source": [
    "#NB: starts at midnight CET, 23:00 UTC\n",
    "load = DEload.timeseries(graph, years=[2011, 2012, 2013, 2014])"
   ]
  },
  {
   "cell_type": "code",
   "execution_count": 41,
   "metadata": {
    "collapsed": true
   },
   "outputs": [],
   "source": [
    "#Kill the Timezone information to avoid pandas bugs\n",
    "load.index = load.index.values"
   ]
  },
  {
   "cell_type": "code",
   "execution_count": 42,
   "metadata": {},
   "outputs": [
    {
     "name": "stdout",
     "output_type": "stream",
     "text": [
      "DatetimeIndex(['2011-01-01 00:00:00', '2011-01-01 01:00:00',\n",
      "               '2011-01-01 02:00:00', '2011-01-01 03:00:00',\n",
      "               '2011-01-01 04:00:00', '2011-01-01 05:00:00',\n",
      "               '2011-01-01 06:00:00', '2011-01-01 07:00:00',\n",
      "               '2011-01-01 08:00:00', '2011-01-01 09:00:00',\n",
      "               ...\n",
      "               '2011-12-31 14:00:00', '2011-12-31 15:00:00',\n",
      "               '2011-12-31 16:00:00', '2011-12-31 17:00:00',\n",
      "               '2011-12-31 18:00:00', '2011-12-31 19:00:00',\n",
      "               '2011-12-31 20:00:00', '2011-12-31 21:00:00',\n",
      "               '2011-12-31 22:00:00', '2011-12-31 23:00:00'],\n",
      "              dtype='datetime64[ns]', length=8760, freq='H')\n"
     ]
    }
   ],
   "source": [
    "#Take the first year (in UTC time - we don't set time zone because of a Pandas bug)\n",
    "network.set_snapshots(pd.date_range(\"2011-01-01 00:00\",\"2011-12-31 23:00\",freq=\"H\"))\n",
    "\n",
    "print(network.snapshots)\n"
   ]
  },
  {
   "cell_type": "code",
   "execution_count": 43,
   "metadata": {},
   "outputs": [],
   "source": [
    "#temporary load scaling factor for Germany load in relation to ENTSO-E hourly load\n",
    "#based roughly on Schumacher & Hirth (2015)\n",
    "#http://www.feem.it/userfiles/attach/20151191122284NDL2015-088.pdf\n",
    "#In principle rescaling should happen on a monthly basis\n",
    "\n",
    "load_factor = 1.12\n",
    "\n",
    "for bus in graph.nodes():\n",
    "    network.add(\"Load\",bus,bus=bus,\n",
    "                p_set = pd.Series(data=load_factor*1000*load.loc[network.snapshots,bus],index=network.snapshots))\n"
   ]
  },
  {
   "cell_type": "code",
   "execution_count": 44,
   "metadata": {},
   "outputs": [],
   "source": [
    "%matplotlib inline"
   ]
  },
  {
   "cell_type": "code",
   "execution_count": 45,
   "metadata": {},
   "outputs": [
    {
     "data": {
      "text/plain": [
       "<matplotlib.axes._subplots.AxesSubplot at 0x7fda80f8f810>"
      ]
     },
     "execution_count": 45,
     "metadata": {},
     "output_type": "execute_result"
    },
    {
     "data": {
      "image/png": "[encoded data removed]",
      "text/plain": [
       "<matplotlib.figure.Figure at 0x7fda869465d0>"
      ]
     },
     "metadata": {},
     "output_type": "display_data"
    }
   ],
   "source": [
    "pd.DataFrame(load.sum(axis=1)).plot()"
   ]
  },
  {
   "cell_type": "code",
   "execution_count": 46,
   "metadata": {},
   "outputs": [],
   "source": [
    "load_distribution = network.loads_t.p_set.loc[network.snapshots[0]].groupby(network.loads.bus).sum()"
   ]
  },
  {
   "cell_type": "code",
   "execution_count": 47,
   "metadata": {},
   "outputs": [
    {
     "data": {
      "text/plain": [
       "<matplotlib.axes._subplots.AxesSubplot at 0x7fda808ac510>"
      ]
     },
     "execution_count": 47,
     "metadata": {},
     "output_type": "execute_result"
    },
    {
     "data": {
      "image/png": "[encoded data removed]",
      "text/plain": [
       "<matplotlib.figure.Figure at 0x7fda80f19bd0>"
      ]
     },
     "metadata": {},
     "output_type": "display_data"
    }
   ],
   "source": [
    "network.plot(bus_sizes=load_distribution)"
   ]
  },
  {
   "cell_type": "code",
   "execution_count": 48,
   "metadata": {
    "collapsed": true
   },
   "outputs": [],
   "source": [
    "total_load = load.sum(axis=1)"
   ]
  },
  {
   "cell_type": "code",
   "execution_count": 49,
   "metadata": {},
   "outputs": [],
   "source": [
    "monthly_load = total_load.resample(\"M\").sum()"
   ]
  },
  {
   "cell_type": "code",
   "execution_count": 50,
   "metadata": {},
   "outputs": [
    {
     "data": {
      "text/plain": [
       "<matplotlib.axes._subplots.AxesSubplot at 0x7fda7ba50090>"
      ]
     },
     "execution_count": 50,
     "metadata": {},
     "output_type": "execute_result"
    },
    {
     "data": {
      "image/png": "[encoded data removed]",
      "text/plain": [
       "<matplotlib.figure.Figure at 0x7fda7ba90250>"
      ]
     },
     "metadata": {},
     "output_type": "display_data"
    }
   ],
   "source": [
    "monthly_load.plot(grid=True)"
   ]
  },
  {
   "cell_type": "markdown",
   "metadata": {},
   "source": [
    "# Attach conventional generators from BNetzA list"
   ]
  },
  {
   "cell_type": "code",
   "execution_count": 51,
   "metadata": {},
   "outputs": [],
   "source": [
    "from vresutils import shapes as vshapes\n",
    "\n",
    "def read_kraftwerksliste(with_latlon=True):                                                                              \n",
    "                                                                                                              \n",
    "    kraftwerke = pd.read_csv('../../lib/vresutils/data/Kraftwerksliste_CSV_deCP850ed.csv',                                         \n",
    "                             delimiter=';', encoding='utf-8', thousands='.', decimal=',')                                \n",
    "    def sanitize_names(x):                                                                                               \n",
    "        try:                                                                                                             \n",
    "            x = x[:x.index('(')]                                                                                         \n",
    "        except ValueError:                                                                                               \n",
    "            pass                                                                                                         \n",
    "        return x.replace(u'\\n', u' ').strip()\n",
    "    kraftwerke.columns = kraftwerke.columns.map(sanitize_names)\n",
    "    \n",
    "    def sanitize_plz(x):\n",
    "        try:\n",
    "            x = x.strip()\n",
    "            if len(x) > 5:\n",
    "                x = x[:5]\n",
    "            return float(x)\n",
    "        except (ValueError, AttributeError):\n",
    "            return np.NAN\n",
    "    kraftwerke.PLZ = kraftwerke.PLZ.apply(sanitize_plz)\n",
    "    if with_latlon:\n",
    "        postcodes = {pc: sh.centroid\n",
    "                     for pc, sh in iteritems(vshapes.postcodeareas())\n",
    "                     if sh is not None}\n",
    "        kraftwerke['lon'] = kraftwerke.PLZ.map({pc: c.x for pc, c in iteritems(postcodes)})\n",
    "        kraftwerke['lat'] = kraftwerke.PLZ.map({pc: c.y for pc, c in iteritems(postcodes)})\n",
    "        #kraftwerke.dropna(subset=('lon','lat'), inplace=True)                                                           \n",
    "\n",
    "    kraftwerke[u'Type'] = kraftwerke[u\"Auswertung Energieträger\"].map({\n",
    "        u'Erdgas': u'Gas',\n",
    "        u'Grubengas': u'Gas',\n",
    "        u'Laufwasser': u'Run of River',\n",
    "        u'Pumpspeicher': u'Pumped Hydro',\n",
    "        u'Speicherwasser (ohne Pumpspeicher)': u'Storage Hydro',\n",
    "        u'Mineralölprodukte': u'Oil',\n",
    "        u'Steinkohle': u'Hard Coal',\n",
    "        u'Braunkohle': u'Brown Coal',\n",
    "        u'Abfall': u'Waste',\n",
    "        u'Kernenergie': u'Nuclear',\n",
    "        u'Sonstige Energieträger\\n(nicht erneuerbar) ': u'Other',\n",
    "        u'Mehrere Energieträger\\n(nicht erneuerbar)': u'Multiple',\n",
    "        u'Biomasse' : u'Biomass',\n",
    "        u'Deponiegas' : u'Gas',\n",
    "        u'Klärgas' : u'Gas',\n",
    "        u'Geothermie' : u'Geothermal',\n",
    "        u'Windenergie (Onshore-Anlage)' : u'Wind Onshore',\n",
    "        u'Windenergie (Offshore-Anlage)' : u'Wind Offshore',\n",
    "        u'Solare Strahlungsenergie' : u'Solar',\n",
    "        u'Unbekannter Energieträger\\n(nicht erneuerbar)' : u'Other'\n",
    "    })\n",
    "\n",
    "    return kraftwerke"
   ]
  },
  {
   "cell_type": "code",
   "execution_count": 52,
   "metadata": {},
   "outputs": [
    {
     "name": "stdout",
     "output_type": "stream",
     "text": [
      "Serving call to postcodeareas from file vresutils.shapes.postcodeareas_ver2__.pickle of cache: 85.7 msec\n"
     ]
    }
   ],
   "source": [
    "power_plants = read_kraftwerksliste()"
   ]
  },
  {
   "cell_type": "code",
   "execution_count": 53,
   "metadata": {},
   "outputs": [
    {
     "data": {
      "text/html": [
       "<div>\n",
       "<table border=\"1\" class=\"dataframe\">\n",
       "  <thead>\n",
       "    <tr style=\"text-align: right;\">\n",
       "      <th></th>\n",
       "      <th>PLZ</th>\n",
       "      <th>Netto-Nennleistung</th>\n",
       "      <th>lon</th>\n",
       "      <th>lat</th>\n",
       "    </tr>\n",
       "    <tr>\n",
       "      <th>Type</th>\n",
       "      <th></th>\n",
       "      <th></th>\n",
       "      <th></th>\n",
       "      <th></th>\n",
       "    </tr>\n",
       "  </thead>\n",
       "  <tbody>\n",
       "    <tr>\n",
       "      <th>Biomass</th>\n",
       "      <td>NaN</td>\n",
       "      <td>5444.6</td>\n",
       "      <td>NaN</td>\n",
       "      <td>NaN</td>\n",
       "    </tr>\n",
       "    <tr>\n",
       "      <th>Gas</th>\n",
       "      <td>NaN</td>\n",
       "      <td>497.0</td>\n",
       "      <td>NaN</td>\n",
       "      <td>NaN</td>\n",
       "    </tr>\n",
       "    <tr>\n",
       "      <th>Geothermal</th>\n",
       "      <td>NaN</td>\n",
       "      <td>31.7</td>\n",
       "      <td>NaN</td>\n",
       "      <td>NaN</td>\n",
       "    </tr>\n",
       "    <tr>\n",
       "      <th>Run of River</th>\n",
       "      <td>NaN</td>\n",
       "      <td>1438.4</td>\n",
       "      <td>NaN</td>\n",
       "      <td>NaN</td>\n",
       "    </tr>\n",
       "    <tr>\n",
       "      <th>Solar</th>\n",
       "      <td>NaN</td>\n",
       "      <td>37008.7</td>\n",
       "      <td>NaN</td>\n",
       "      <td>NaN</td>\n",
       "    </tr>\n",
       "    <tr>\n",
       "      <th>Wind Onshore</th>\n",
       "      <td>NaN</td>\n",
       "      <td>24394.9</td>\n",
       "      <td>NaN</td>\n",
       "      <td>NaN</td>\n",
       "    </tr>\n",
       "  </tbody>\n",
       "</table>\n",
       "</div>"
      ],
      "text/plain": [
       "              PLZ  Netto-Nennleistung  lon  lat\n",
       "Type                                           \n",
       "Biomass       NaN              5444.6  NaN  NaN\n",
       "Gas           NaN               497.0  NaN  NaN\n",
       "Geothermal    NaN                31.7  NaN  NaN\n",
       "Run of River  NaN              1438.4  NaN  NaN\n",
       "Solar         NaN             37008.7  NaN  NaN\n",
       "Wind Onshore  NaN             24394.9  NaN  NaN"
      ]
     },
     "execution_count": 53,
     "metadata": {},
     "output_type": "execute_result"
    }
   ],
   "source": [
    "power_plants[power_plants[u\"Unternehmen\"] == \"EEG-Anlagen < 10 MW\"].groupby(u\"Type\").sum()"
   ]
  },
  {
   "cell_type": "code",
   "execution_count": 54,
   "metadata": {},
   "outputs": [
    {
     "data": {
      "text/html": [
       "<div>\n",
       "<table border=\"1\" class=\"dataframe\">\n",
       "  <thead>\n",
       "    <tr style=\"text-align: right;\">\n",
       "      <th></th>\n",
       "      <th>PLZ</th>\n",
       "      <th>Netto-Nennleistung</th>\n",
       "      <th>lon</th>\n",
       "      <th>lat</th>\n",
       "    </tr>\n",
       "    <tr>\n",
       "      <th>Type</th>\n",
       "      <th></th>\n",
       "      <th></th>\n",
       "      <th></th>\n",
       "      <th></th>\n",
       "    </tr>\n",
       "  </thead>\n",
       "  <tbody>\n",
       "    <tr>\n",
       "      <th>Biomass</th>\n",
       "      <td>3016585.0</td>\n",
       "      <td>6678.72</td>\n",
       "      <td>639.913564</td>\n",
       "      <td>3213.997738</td>\n",
       "    </tr>\n",
       "    <tr>\n",
       "      <th>Brown Coal</th>\n",
       "      <td>2485734.0</td>\n",
       "      <td>22969.50</td>\n",
       "      <td>655.576325</td>\n",
       "      <td>3787.688000</td>\n",
       "    </tr>\n",
       "    <tr>\n",
       "      <th>Gas</th>\n",
       "      <td>14304542.0</td>\n",
       "      <td>29356.03</td>\n",
       "      <td>2579.020814</td>\n",
       "      <td>13424.719920</td>\n",
       "    </tr>\n",
       "    <tr>\n",
       "      <th>Geothermal</th>\n",
       "      <td>NaN</td>\n",
       "      <td>31.70</td>\n",
       "      <td>NaN</td>\n",
       "      <td>NaN</td>\n",
       "    </tr>\n",
       "    <tr>\n",
       "      <th>Hard Coal</th>\n",
       "      <td>5979186.0</td>\n",
       "      <td>31474.60</td>\n",
       "      <td>868.212204</td>\n",
       "      <td>5166.446722</td>\n",
       "    </tr>\n",
       "    <tr>\n",
       "      <th>Multiple</th>\n",
       "      <td>45772.0</td>\n",
       "      <td>152.70</td>\n",
       "      <td>7.118728</td>\n",
       "      <td>51.686962</td>\n",
       "    </tr>\n",
       "    <tr>\n",
       "      <th>Nuclear</th>\n",
       "      <td>618554.0</td>\n",
       "      <td>12068.00</td>\n",
       "      <td>77.599904</td>\n",
       "      <td>400.252062</td>\n",
       "    </tr>\n",
       "    <tr>\n",
       "      <th>Oil</th>\n",
       "      <td>2616997.0</td>\n",
       "      <td>4165.20</td>\n",
       "      <td>563.075179</td>\n",
       "      <td>2803.594992</td>\n",
       "    </tr>\n",
       "    <tr>\n",
       "      <th>Other</th>\n",
       "      <td>1516594.0</td>\n",
       "      <td>3037.80</td>\n",
       "      <td>303.710411</td>\n",
       "      <td>1750.250968</td>\n",
       "    </tr>\n",
       "    <tr>\n",
       "      <th>Pumped Hydro</th>\n",
       "      <td>1991089.0</td>\n",
       "      <td>9239.50</td>\n",
       "      <td>474.335182</td>\n",
       "      <td>2210.915360</td>\n",
       "    </tr>\n",
       "    <tr>\n",
       "      <th>Run of River</th>\n",
       "      <td>6890713.0</td>\n",
       "      <td>3999.10</td>\n",
       "      <td>899.795675</td>\n",
       "      <td>4087.882170</td>\n",
       "    </tr>\n",
       "    <tr>\n",
       "      <th>Solar</th>\n",
       "      <td>3484421.0</td>\n",
       "      <td>39190.00</td>\n",
       "      <td>1730.533616</td>\n",
       "      <td>7279.165506</td>\n",
       "    </tr>\n",
       "    <tr>\n",
       "      <th>Storage Hydro</th>\n",
       "      <td>262091.0</td>\n",
       "      <td>1445.00</td>\n",
       "      <td>39.067293</td>\n",
       "      <td>197.592367</td>\n",
       "    </tr>\n",
       "    <tr>\n",
       "      <th>Waste</th>\n",
       "      <td>4111475.0</td>\n",
       "      <td>1703.20</td>\n",
       "      <td>756.186790</td>\n",
       "      <td>4066.710387</td>\n",
       "    </tr>\n",
       "    <tr>\n",
       "      <th>Wind Offshore</th>\n",
       "      <td>NaN</td>\n",
       "      <td>1587.40</td>\n",
       "      <td>NaN</td>\n",
       "      <td>NaN</td>\n",
       "    </tr>\n",
       "    <tr>\n",
       "      <th>Wind Onshore</th>\n",
       "      <td>22458563.0</td>\n",
       "      <td>37315.30</td>\n",
       "      <td>6484.788929</td>\n",
       "      <td>33525.165765</td>\n",
       "    </tr>\n",
       "  </tbody>\n",
       "</table>\n",
       "</div>"
      ],
      "text/plain": [
       "                      PLZ  Netto-Nennleistung          lon           lat\n",
       "Type                                                                    \n",
       "Biomass         3016585.0             6678.72   639.913564   3213.997738\n",
       "Brown Coal      2485734.0            22969.50   655.576325   3787.688000\n",
       "Gas            14304542.0            29356.03  2579.020814  13424.719920\n",
       "Geothermal            NaN               31.70          NaN           NaN\n",
       "Hard Coal       5979186.0            31474.60   868.212204   5166.446722\n",
       "Multiple          45772.0              152.70     7.118728     51.686962\n",
       "Nuclear          618554.0            12068.00    77.599904    400.252062\n",
       "Oil             2616997.0             4165.20   563.075179   2803.594992\n",
       "Other           1516594.0             3037.80   303.710411   1750.250968\n",
       "Pumped Hydro    1991089.0             9239.50   474.335182   2210.915360\n",
       "Run of River    6890713.0             3999.10   899.795675   4087.882170\n",
       "Solar           3484421.0            39190.00  1730.533616   7279.165506\n",
       "Storage Hydro    262091.0             1445.00    39.067293    197.592367\n",
       "Waste           4111475.0             1703.20   756.186790   4066.710387\n",
       "Wind Offshore         NaN             1587.40          NaN           NaN\n",
       "Wind Onshore   22458563.0            37315.30  6484.788929  33525.165765"
      ]
     },
     "execution_count": 54,
     "metadata": {},
     "output_type": "execute_result"
    }
   ],
   "source": [
    "power_plants.groupby(u\"Type\").sum()"
   ]
  },
  {
   "cell_type": "code",
   "execution_count": 55,
   "metadata": {},
   "outputs": [],
   "source": [
    "import random\n",
    "\n",
    "#NB: bnetza extracted from BNetzA using\n",
    "\n",
    "#./Kraftwerksdaten.ipynb\n",
    "\n",
    "\n",
    "def backup_capacity_german_grid(G):   \n",
    "\n",
    "    from shapely.geometry import Point\n",
    "\n",
    "    plants = power_plants\n",
    "    plants = plants[plants[\"Kraftwerksstatus\"] == u\"in Betrieb\"]\n",
    "    \n",
    "    #remove EEG-receiving power plants - except biomass, these will be added later\n",
    "    \n",
    "    #it's necessary to remove biomass because we don't have coordinates for it\n",
    "    \n",
    "    for tech in [\"Solar\",\"Wind Onshore\",\"Wind Offshore\",\"Biomass\"]:\n",
    "        plants = plants[plants['Type'] != tech]\n",
    "    \n",
    "    cells = {n: d[\"region\"]\n",
    "             for n, d in G.nodes_iter(data=True)}\n",
    "\n",
    "    def nodeofaplant(x):\n",
    "        if np.isnan(x[\"lon\"]) or np.isnan(x[\"lat\"]):\n",
    "            return random.choice(list(cells.keys()))\n",
    "        p = Point(x[\"lon\"], x[\"lat\"])\n",
    "        for n, cell in iteritems(cells):\n",
    "            if cell.contains(p):\n",
    "                return n\n",
    "        else:\n",
    "            return min(cells, key=lambda n: cells[n].distance(p))\n",
    "    nodes = plants.apply(nodeofaplant, axis=1)\n",
    "\n",
    "    capacity = plants['Netto-Nennleistung'].groupby((nodes, plants[u'Type'])).sum() / 1e3\n",
    "    capacity.name = 'Capacity'\n",
    "\n",
    "    return capacity\n"
   ]
  },
  {
   "cell_type": "code",
   "execution_count": 56,
   "metadata": {
    "collapsed": true
   },
   "outputs": [],
   "source": [
    "cap = backup_capacity_german_grid(graph)"
   ]
  },
  {
   "cell_type": "code",
   "execution_count": 57,
   "metadata": {},
   "outputs": [
    {
     "data": {
      "text/plain": [
       "(count    477.000000\n",
       " mean       0.218376\n",
       " std        0.442888\n",
       " min        0.000100\n",
       " 25%        0.023100\n",
       " 50%        0.062700\n",
       " 75%        0.193700\n",
       " max        4.730000\n",
       " Name: Capacity, dtype: float64, 104.16513, pandas.core.series.Series)"
      ]
     },
     "execution_count": 57,
     "metadata": {},
     "output_type": "execute_result"
    }
   ],
   "source": [
    "cap.describe(),cap.sum(),type(cap)"
   ]
  },
  {
   "cell_type": "code",
   "execution_count": 58,
   "metadata": {},
   "outputs": [
    {
     "name": "stdout",
     "output_type": "stream",
     "text": [
      "     Type        \n",
      "141  Pumped Hydro   NaN\n",
      "275  Other          NaN\n",
      "Name: Capacity, dtype: float64\n"
     ]
    }
   ],
   "source": [
    "print(cap[pd.isnull(cap)])"
   ]
  },
  {
   "cell_type": "code",
   "execution_count": 59,
   "metadata": {},
   "outputs": [],
   "source": [
    "cap.fillna(0.1,inplace=True)"
   ]
  },
  {
   "cell_type": "code",
   "execution_count": 60,
   "metadata": {},
   "outputs": [
    {
     "data": {
      "text/plain": [
       "Index([u'Brown Coal', u'Gas', u'Geothermal', u'Hard Coal', u'Multiple',\n",
       "       u'Nuclear', u'Oil', u'Other', u'Pumped Hydro', u'Run of River',\n",
       "       u'Storage Hydro', u'Waste'],\n",
       "      dtype='object', name=u'Type')"
      ]
     },
     "execution_count": 60,
     "metadata": {},
     "output_type": "execute_result"
    }
   ],
   "source": [
    "\n",
    "cap.index.levels[1]"
   ]
  },
  {
   "cell_type": "code",
   "execution_count": 61,
   "metadata": {},
   "outputs": [],
   "source": [
    "m_costs = {\"Gas\" : 50.,\n",
    "           \"Brown Coal\" : 10.,\n",
    "           \"Hard Coal\" : 25.,\n",
    "           \"Oil\" : 100.,\n",
    "           \"Nuclear\" : 8.,\n",
    "           \"Pumped Hydro\" : 3.,\n",
    "           \"Storage Hydro\" : 3.,\n",
    "           \"Run of River\" : 3.,\n",
    "           \"Geothermal\" : 26.,\n",
    "           \"Waste\" : 6.,\n",
    "           \"Multiple\" : 28.,\n",
    "           \"Other\" : 32.}\n",
    "\n",
    "default_cost = 10."
   ]
  },
  {
   "cell_type": "code",
   "execution_count": 62,
   "metadata": {},
   "outputs": [
    {
     "name": "stdout",
     "output_type": "stream",
     "text": [
      "1 Gas 0.121\n",
      "1 Hard Coal 0.272\n",
      "100_220kV Pumped Hydro 0.1445\n",
      "102 Gas 0.0679\n",
      "108 Run of River 0.0631\n",
      "108 Waste 0.038\n",
      "111 Gas 0.0135\n",
      "112 Gas 0.0135\n",
      "112 Run of River 0.0111\n",
      "114 Hard Coal 0.019\n",
      "114 Pumped Hydro 0.138\n",
      "115 Brown Coal 4.73\n",
      "116 Gas 0.5433\n",
      "118 Gas 0.095\n",
      "118 Waste 0.012\n",
      "119 Brown Coal 0.0093\n",
      "119 Gas 0.0169\n",
      "119 Hard Coal 0.0615\n",
      "121 Brown Coal 0.0246\n",
      "121 Pumped Hydro 0.238\n",
      "123_220kV Brown Coal 3.455\n",
      "123_220kV Gas 0.0965\n",
      "126 Gas 0.002\n",
      "126 Oil 0.06\n",
      "127 Brown Coal 1.8\n",
      "127 Waste 0.024\n",
      "128_220kV Run of River 0.0364\n",
      "129_220kV Hard Coal 0.0615\n",
      "12_220kV Gas 0.15\n",
      "12_220kV Waste 0.03\n",
      "130 Hard Coal 0.085\n",
      "130 Waste 0.03\n",
      "131 Gas 0.5863\n",
      "132 Storage Hydro 0.029\n",
      "133 Brown Coal 0.137\n",
      "133 Waste 0.0334\n",
      "134 Brown Coal 0.118\n",
      "136 Gas 0.838\n",
      "136 Hard Coal 0.765\n",
      "137 Gas 0.0114\n",
      "139 Hard Coal 0.76\n",
      "14 Run of River 0.027\n",
      "140 Gas 0.0111\n",
      "140 Pumped Hydro 0.1\n",
      "141 Gas 0.0647\n",
      "141 Pumped Hydro 0.1\n",
      "142 Gas 0.0098\n",
      "142 Hard Coal 0.449\n",
      "145 Brown Coal 0.0753\n",
      "145 Gas 0.5365\n",
      "145 Other 0.0798\n",
      "145 Waste 0.0451\n",
      "146 Gas 0.084\n",
      "147 Gas 0.23\n",
      "148 Gas 0.0102\n",
      "148 Oil 0.0862\n",
      "148 Waste 0.0537\n",
      "149 Run of River 0.1287\n",
      "150 Gas 0.0158\n",
      "153 Waste 0.012\n",
      "155 Waste 0.0126\n",
      "156_220kV Brown Coal 0.0289\n",
      "157_220kV Brown Coal 0.857\n",
      "157_220kV Gas 0.022\n",
      "158 Pumped Hydro 0.1\n",
      "16 Gas 0.0114\n",
      "160_220kV Hard Coal 0.103\n",
      "160_220kV Waste 0.014\n",
      "161 Gas 0.05858\n",
      "166 Gas 0.3336\n",
      "166 Hard Coal 1.3245\n",
      "166 Pumped Hydro 0.0015\n",
      "167 Gas 0.026\n",
      "167 Run of River 0.0469\n",
      "169 Gas 0.0337\n",
      "170 Gas 0.0231\n",
      "170 Waste 0.0615\n",
      "174 Gas 0.0245\n",
      "174 Other 0.038\n",
      "175 Hard Coal 0.095\n",
      "175 Other 0.021\n",
      "176 Gas 0.0033\n",
      "177 Multiple 0.0327\n",
      "178 Gas 0.0092\n",
      "178 Storage Hydro 0.015\n",
      "180 Gas 0.0254\n",
      "180 Oil 0.3335\n",
      "180 Waste 0.0289\n",
      "183 Gas 0.0225\n",
      "183 Hard Coal 0.766\n",
      "183 Oil 0.038\n",
      "183 Waste 0.024\n",
      "184_220kV Gas 0.0223\n",
      "185 Waste 0.0331\n",
      "188 Gas 0.274\n",
      "18_220kV Gas 0.0528\n",
      "19 Gas 0.0106\n",
      "19 Hard Coal 0.37\n",
      "190 Gas 0.0134\n",
      "194 Hard Coal 1.017\n",
      "196 Hard Coal 0.695\n",
      "196 Other 0.7\n",
      "197 Run of River 0.0401\n",
      "198 Gas 0.015\n",
      "200 Brown Coal 0.0275\n",
      "200 Gas 0.0074\n",
      "201_220kV Gas 0.0581\n",
      "202 Gas 1.8701\n",
      "202 Nuclear 1.329\n",
      "203 Gas 0.0205\n",
      "204 Hard Coal 0.31\n",
      "205 Gas 0.417\n",
      "205 Pumped Hydro 0.153\n",
      "209 Hard Coal 0.026\n",
      "21 Gas 0.127\n",
      "21 Hard Coal 0.194\n",
      "21 Waste 0.0164\n",
      "210 Waste 0.0147\n",
      "211 Hard Coal 0.721\n",
      "211 Waste 0.0116\n",
      "212 Run of River 0.024\n",
      "213 Gas 0.1046\n",
      "214 Gas 0.027\n",
      "215 Gas 0.0472\n",
      "215 Waste 0.0734\n",
      "217 Gas 0.108\n",
      "217 Hard Coal 0.508\n",
      "217 Waste 0.017\n",
      "219 Gas 0.2545\n",
      "219 Waste 0.034\n",
      "221 Geothermal 0.0078\n",
      "222 Gas 0.099\n",
      "223 Gas 0.087\n",
      "224 Other 0.1761\n",
      "225 Gas 0.0116\n",
      "225 Hard Coal 0.0134\n",
      "225 Waste 0.015\n",
      "226 Gas 0.02\n",
      "226 Run of River 0.0001\n",
      "227 Run of River 0.011\n",
      "228 Pumped Hydro 0.1\n",
      "229 Gas 0.0245\n",
      "229 Hard Coal 1.958\n",
      "22_220kV Oil 0.2985\n",
      "233_220kV Gas 0.004\n",
      "233_220kV Hard Coal 0.0207\n",
      "235 Other 0.0197\n",
      "235 Pumped Hydro 0.47\n",
      "238 Run of River 0.0121\n",
      "239 Gas 0.8\n",
      "240 Gas 0.126\n",
      "245 Hard Coal 0.0615\n",
      "246 Hard Coal 0.51\n",
      "247_220kV Oil 0.0345\n",
      "247_220kV Run of River 0.6332\n",
      "248_220kV Hard Coal 0.895\n",
      "249 Waste 0.0146\n",
      "25 Pumped Hydro 0.196\n",
      "250_220kV Other 0.3966\n",
      "254 Gas 0.0107\n",
      "255 Run of River 0.0848\n",
      "258 Gas 0.032\n",
      "258 Other 0.028\n",
      "260 Hard Coal 0.1385\n",
      "266 Gas 0.0599\n",
      "266 Oil 0.0928\n",
      "266 Pumped Hydro 0.0988\n",
      "266 Run of River 0.214\n",
      "266 Waste 0.009\n",
      "268 Pumped Hydro 0.1\n",
      "26_220kV Nuclear 1.41\n",
      "270 Gas 0.05\n",
      "275 Gas 0.042\n",
      "275 Other 0.1\n",
      "275 Waste 0.0125\n",
      "276 Hard Coal 0.11\n",
      "276 Run of River 0.016\n",
      "279_220kV Brown Coal 0.0908\n",
      "279_220kV Pumped Hydro 1.0452\n",
      "28 Hard Coal 0.26\n",
      "28 Oil 0.101\n",
      "28 Run of River 0.3118\n",
      "281_220kV Gas 0.074\n",
      "282_220kV Oil 0.017\n",
      "285 Gas 0.0181\n",
      "287 Gas 0.064\n",
      "288 Hard Coal 0.0185\n",
      "289 Gas 0.0334\n",
      "289 Hard Coal 0.794\n",
      "290 Waste 0.0157\n",
      "291 Brown Coal 1.105\n",
      "292_220kV Brown Coal 0.0203\n",
      "292_220kV Gas 0.216\n",
      "292_220kV Waste 0.059\n",
      "293 Pumped Hydro 0.3776\n",
      "294 Gas 0.0135\n",
      "294 Waste 0.0112\n",
      "295 Gas 0.119\n",
      "295 Hard Coal 0.0433\n",
      "298 Gas 0.0375\n",
      "299 Hard Coal 0.69\n",
      "3 Run of River 0.0188\n",
      "301 Gas 0.013\n",
      "302 Brown Coal 0.0335\n",
      "302 Gas 0.128\n",
      "302 Other 0.056\n",
      "302 Storage Hydro 0.079\n",
      "302 Waste 0.0147\n",
      "304 Gas 0.0342\n",
      "304 Oil 0.0248\n",
      "305 Nuclear 1.31\n",
      "305 Oil 0.136\n",
      "308_220kV Gas 0.0274\n",
      "308_220kV Nuclear 1.275\n",
      "30_220kV Run of River 0.003\n",
      "31 Gas 0.1954\n",
      "310 Hard Coal 0.778\n",
      "313 Brown Coal 0.875\n",
      "315_220kV Run of River 0.0774\n",
      "316 Gas 0.0758\n",
      "316 Waste 0.01\n",
      "318 Run of River 0.0627\n",
      "320 Gas 0.0098\n",
      "320 Pumped Hydro 0.09\n",
      "321 Gas 0.0002\n",
      "321 Waste 0.0136\n",
      "322_220kV Gas 0.0851\n",
      "323 Gas 0.0129\n",
      "326 Gas 0.3198\n",
      "327 Gas 0.0269\n",
      "328 Run of River 0.0365\n",
      "329 Run of River 0.05\n",
      "329 Storage Hydro 0.5\n",
      "32_220kV Gas 0.1091\n",
      "32_220kV Pumped Hydro 0.22\n",
      "33 Gas 0.0318\n",
      "330 Nuclear 1.41\n",
      "330 Run of River 0.0358\n",
      "331 Gas 0.227\n",
      "331 Run of River 0.2175\n",
      "331 Waste 0.0125\n",
      "332_220kV Gas 0.0979\n",
      "332_220kV Run of River 0.0252\n",
      "333 Pumped Hydro 0.525\n",
      "335 Gas 0.054\n",
      "336_220kV Gas 0.0528\n",
      "336_220kV Run of River 0.089\n",
      "337 Gas 0.0134\n",
      "337 Run of River 0.0801\n",
      "338_220kV Waste 0.054\n",
      "34 Hard Coal 0.757\n",
      "34 Oil 0.056\n",
      "340 Gas 0.2996\n",
      "340 Storage Hydro 0.0825\n",
      "341 Brown Coal 0.134\n",
      "341 Gas 0.159\n",
      "341 Oil 0.111\n",
      "341 Other 0.0427\n",
      "341 Waste 0.058\n",
      "342 Gas 0.0195\n",
      "342 Pumped Hydro 0.0797\n",
      "343 Pumped Hydro 1.052\n",
      "344 Gas 0.06995\n",
      "347 Gas 0.211\n",
      "347 Hard Coal 0.089\n",
      "347 Oil 0.327\n",
      "348 Gas 0.4589\n",
      "350 Gas 0.0186\n",
      "351_220kV Other 0.0233\n",
      "351_220kV Run of River 0.0637\n",
      "351_220kV Waste 0.0255\n",
      "352 Hard Coal 0.472\n",
      "352 Oil 0.046\n",
      "352 Run of River 0.0733\n",
      "353_220kV Gas 1.391\n",
      "353_220kV Run of River 0.0233\n",
      "354 Gas 0.5405\n",
      "354 Hard Coal 0.333\n",
      "354 Waste 0.04\n",
      "358 Hard Coal 0.318\n",
      "36 Gas 0.01106\n",
      "36 Hard Coal 0.28\n",
      "360_220kV Gas 0.042\n",
      "360_220kV Hard Coal 0.779\n",
      "360_220kV Waste 0.016\n",
      "362_220kV Pumped Hydro 0.1\n",
      "362_220kV Run of River 0.0795\n",
      "363 Other 0.016\n",
      "364 Waste 0.0116\n",
      "365 Gas 0.0818\n",
      "365 Hard Coal 0.688\n",
      "365 Waste 0.036\n",
      "367 Nuclear 1.402\n",
      "368 Pumped Hydro 0.91\n",
      "370 Brown Coal 0.0568\n",
      "370 Other 0.085\n",
      "373 Run of River 0.025\n",
      "374 Gas 0.1002\n",
      "374 Hard Coal 0.725\n",
      "374 Pumped Hydro 0.1\n",
      "376 Geothermal 0.0006\n",
      "376 Hard Coal 0.875\n",
      "377 Waste 0.011\n",
      "378 Gas 0.26044\n",
      "378 Hard Coal 0.769\n",
      "379 Pumped Hydro 0.0398\n",
      "37_220kV Gas 0.052\n",
      "37_220kV Nuclear 1.36\n",
      "37_220kV Waste 0.0584\n",
      "380 Gas 0.25\n",
      "380 Waste 0.0225\n",
      "382_220kV Gas 0.122\n",
      "382_220kV Waste 0.0207\n",
      "383 Waste 0.0244\n",
      "385_220kV Gas 0.0584\n",
      "385_220kV Hard Coal 0.0248\n",
      "385_220kV Oil 0.0005\n",
      "386 Gas 0.023\n",
      "389 Pumped Hydro 0.164\n",
      "39 Gas 2.2993\n",
      "390 Gas 1.0013\n",
      "390 Hard Coal 0.0174\n",
      "390 Waste 0.018\n",
      "394 Gas 0.0265\n",
      "395 Gas 0.49\n",
      "396 Nuclear 2.572\n",
      "397 Pumped Hydro 0.1445\n",
      "398 Oil 0.087\n",
      "399 Gas 0.0351\n",
      "399 Waste 0.0095\n",
      "40 Run of River 0.048\n",
      "401 Gas 0.031\n",
      "402 Oil 0.088\n",
      "402 Run of River 0.06\n",
      "402 Storage Hydro 0.158\n",
      "403_220kV Run of River 0.019\n",
      "404_220kV Run of River 0.024\n",
      "405 Gas 0.056\n",
      "405 Run of River 0.0846\n",
      "409 Gas 0.0085\n",
      "409 Hard Coal 0.1126\n",
      "409 Oil 0.0699\n",
      "409 Waste 0.0195\n",
      "410 Run of River 0.0201\n",
      "414 Gas 0.1937\n",
      "417 Run of River 0.1373\n",
      "418 Run of River 0.066\n",
      "421_220kV Waste 0.0673\n",
      "422 Gas 0.0135\n",
      "423 Pumped Hydro 0.36\n",
      "423 Run of River 0.0368\n",
      "424 Oil 0.07\n",
      "424 Pumped Hydro 0.295\n",
      "425 Other 0.2885\n",
      "426 Gas 0.0324\n",
      "428 Brown Coal 0.074\n",
      "429 Gas 0.1121\n",
      "429 Hard Coal 0.012\n",
      "43 Gas 0.196\n",
      "43 Waste 0.017\n",
      "430 Brown Coal 0.0385\n",
      "433 Gas 0.0156\n",
      "434 Run of River 0.0128\n",
      "434 Storage Hydro 0.124\n",
      "435 Brown Coal 0.164\n",
      "438 Run of River 0.146\n",
      "439 Gas 0.0117\n",
      "44 Waste 0.026\n",
      "440 Other 0.017\n",
      "441 Gas 0.182\n",
      "441 Hard Coal 0.0615\n",
      "442 Gas 0.0265\n",
      "444 Gas 0.43\n",
      "445 Run of River 0.2171\n",
      "446 Gas 0.0147\n",
      "447 Gas 0.075\n",
      "45 Gas 0.296\n",
      "45 Geothermal 0.0231\n",
      "451 Run of River 0.1044\n",
      "453 Run of River 0.03\n",
      "455 Gas 0.0169\n",
      "456 Run of River 0.0001\n",
      "457 Waste 0.0296\n",
      "463 Gas 0.0258\n",
      "464 Gas 0.0519\n",
      "464 Oil 0.0663\n",
      "464 Run of River 0.0254\n",
      "465 Gas 0.035\n",
      "465 Oil 0.08\n",
      "468 Gas 0.0175\n",
      "468 Hard Coal 0.079\n",
      "468 Oil 0.0048\n",
      "468 Waste 0.016\n",
      "47 Gas 0.444\n",
      "47 Run of River 0.0317\n",
      "474 Gas 0.39\n",
      "475 Oil 0.2506\n",
      "478 Gas 0.095\n",
      "479 Pumped Hydro 0.1\n",
      "481 Pumped Hydro 0.1\n",
      "484 Gas 0.065\n",
      "484 Other 0.006\n",
      "484 Run of River 0.0667\n",
      "484 Storage Hydro 0.0455\n",
      "485 Run of River 0.0265\n",
      "486 Hard Coal 0.1385\n",
      "486 Oil 0.0114\n",
      "487 Brown Coal 0.875\n",
      "487 Oil 0.0114\n",
      "49 Brown Coal 0.352\n",
      "49 Hard Coal 0.066\n",
      "49 Waste 0.0375\n",
      "492 Hard Coal 0.054\n",
      "492 Waste 0.0569\n",
      "493 Pumped Hydro 0.1\n",
      "495 Hard Coal 0.147\n",
      "51 Pumped Hydro 0.623\n",
      "51 Storage Hydro 0.02\n",
      "52_220kV Gas 0.39\n",
      "52_220kV Hard Coal 1.347\n",
      "56_220kV Gas 0.0117\n",
      "58 Gas 0.0525\n",
      "58 Hard Coal 0.0269\n",
      "59 Hard Coal 0.324\n",
      "5_220kV Run of River 0.0046\n",
      "61_220kV Gas 0.334\n",
      "61_220kV Hard Coal 0.35\n",
      "62 Hard Coal 0.119\n",
      "62 Run of River 0.0099\n",
      "62 Waste 0.044\n",
      "63 Brown Coal 0.465\n",
      "63 Pumped Hydro 0.043\n",
      "63 Run of River 0.022\n",
      "64 Run of River 0.0112\n",
      "65 Run of River 0.1645\n",
      "66 Pumped Hydro 0.127\n",
      "66 Run of River 0.0051\n",
      "67 Gas 0.0148\n",
      "67 Hard Coal 0.3\n",
      "67 Oil 0.088\n",
      "67 Other 0.15\n",
      "67 Storage Hydro 0.392\n",
      "67 Waste 0.033\n",
      "68_220kV Run of River 0.0042\n",
      "69_220kV Gas 0.0115\n",
      "69_220kV Waste 0.0188\n",
      "70 Gas 0.423\n",
      "70 Waste 0.0156\n",
      "71 Brown Coal 0.049\n",
      "71 Gas 0.1611\n",
      "71 Waste 0.0099\n",
      "72 Brown Coal 0.9\n",
      "72 Gas 0.151\n",
      "72 Oil 0.12\n",
      "72 Pumped Hydro 0.198\n",
      "74_220kV Gas 0.122\n",
      "74_220kV Waste 0.0233\n",
      "75 Brown Coal 0.049\n",
      "77 Gas 0.0053\n",
      "78_220kV Pumped Hydro 0.0798\n",
      "79 Brown Coal 0.75\n",
      "79 Waste 0.0187\n",
      "8 Pumped Hydro 0.1191\n",
      "81 Brown Coal 2.835\n",
      "81 Other 0.1245\n",
      "83 Brown Coal 0.75\n",
      "83 Other 0.0536\n",
      "84 Hard Coal 0.323\n",
      "87_220kV Gas 0.1387\n",
      "87_220kV Hard Coal 0.1759\n",
      "87_220kV Multiple 0.12\n",
      "88 Gas 0.0398\n",
      "89 Other 0.606\n",
      "92 Gas 0.066\n",
      "94_220kV Geothermal 0.0002\n",
      "95_220kV Gas 0.0243\n",
      "98 Pumped Hydro 0.247\n",
      "99_220kV Gas 0.1136\n",
      "99_220kV Hard Coal 0.6556\n"
     ]
    }
   ],
   "source": [
    "for (bus_name,tech_name) in cap.index:\n",
    "    print(bus_name,tech_name,cap[(bus_name,tech_name)])\n",
    "    if tech_name == \"Pumped Hydro\":\n",
    "        network.add(\"StorageUnit\",bus_name + \" \" + tech_name,\n",
    "                bus=bus_name,p_nom=1000*cap[(bus_name,tech_name)],\n",
    "                marginal_cost=m_costs.get(tech_name,default_cost),\n",
    "                carrier=tech_name,\n",
    "                max_hours = 6,\n",
    "                efficiency_store=0.95,\n",
    "                efficiency_dispatch=0.95)\n",
    "    else:\n",
    "        network.add(\"Generator\",bus_name + \" \" + tech_name,\n",
    "                bus=bus_name,p_nom=1000*cap[(bus_name,tech_name)],\n",
    "                marginal_cost=m_costs.get(tech_name,default_cost),\n",
    "                carrier=tech_name)   "
   ]
  },
  {
   "cell_type": "markdown",
   "metadata": {
    "collapsed": true
   },
   "source": [
    "# Add renewables"
   ]
  },
  {
   "cell_type": "code",
   "execution_count": 63,
   "metadata": {},
   "outputs": [
    {
     "name": "stdout",
     "output_type": "stream",
     "text": [
      "Caching call to timeseries_eeg in generation.germany.timeseries_eeg_scigrid_v2_.pickle: \n",
      ".. Get eeg onshore wind timeseries from REatlas: \n",
      ".. .. Caching call to eeg_windonlayouts_per_class in generation.germany.eeg_windonlayouts_per_class_scigrid_v2_Cutout_beckerEurope_2011_2014_.pickle: \n",
      ".. .. .. Caching call to capacity_layouts_wind in generation.germany.capacity_layouts_wind__cutout.Cutout_beckerEurope_2011_2014_normed.False_turbines.e325f1f75c97f4e5a4146db18354d997c44e9185.pickle: \n",
      ".. .. .. .. Serving call to postcodes2gridcells from file generation.germany.postcodes2gridcells_Cutout_beckerEurope_2011_2014_.pickle of cache: 121.2 msec\n",
      ".. .. .. .. 4.5 sec\n",
      ".. .. .. 317.9 sec\n",
      ".. .. 890.8 sec\n",
      ".. Get eeg offshore wind timeseries from REatlas: \n",
      ".. .. Caching call to eeg_windofflayouts_per_class in generation.germany.eeg_windofflayouts_per_class_scigrid_v2_Cutout_beckerEurope_2011_2014_.pickle: 49.0 msec\n",
      ".. .. 424.1 sec\n",
      ".. Get eeg solar timeseries from REatlas: \n",
      ".. .. Caching call to eeg_solarlayouts in generation.germany.eeg_solarlayouts_scigrid_v2_Cutout_beckerEurope_2011_2014_.pickle: \n",
      ".. .. .. Caching call to capacity_layout_solar in generation.germany.capacity_layout_solar__cutout.Cutout_beckerEurope_2011_2014_normed.False.pickle: \n",
      ".. .. .. .. Serving call to postcodes2gridcells from file generation.germany.postcodes2gridcells_Cutout_beckerEurope_2011_2014_.pickle of cache: 49.5 msec\n",
      ".. .. .. .. 2.4 sec\n",
      ".. .. .. 42.1 sec\n",
      ".. .. 118.8 sec\n",
      ".. 1435.0 sec\n"
     ]
    }
   ],
   "source": [
    "import generation.germany as DEgen\n",
    "\n",
    "reload(DEgen)\n",
    "\n",
    "generation = DEgen.timeseries_eeg(graph)\n",
    "\n"
   ]
  },
  {
   "cell_type": "code",
   "execution_count": 64,
   "metadata": {},
   "outputs": [
    {
     "data": {
      "text/plain": [
       "Index([u'solar', u'wind', u'windoff', u'windon'], dtype='object')"
      ]
     },
     "execution_count": 64,
     "metadata": {},
     "output_type": "execute_result"
    }
   ],
   "source": [
    "generation.items"
   ]
  },
  {
   "cell_type": "code",
   "execution_count": 65,
   "metadata": {},
   "outputs": [],
   "source": [
    "#Kill the Timezone information to avoid pandas bugs\n",
    "generation.major_axis = generation.major_axis.values"
   ]
  },
  {
   "cell_type": "code",
   "execution_count": 66,
   "metadata": {},
   "outputs": [
    {
     "data": {
      "text/plain": [
       "<matplotlib.axes._subplots.AxesSubplot at 0x7fda7b853c90>"
      ]
     },
     "execution_count": 66,
     "metadata": {},
     "output_type": "execute_result"
    },
    {
     "data": {
      "image/png": "[encoded data removed]",
      "text/plain": [
       "<matplotlib.figure.Figure at 0x7fda7b862910>"
      ]
     },
     "metadata": {},
     "output_type": "display_data"
    }
   ],
   "source": [
    "generation.loc[[\"wind\",\"solar\"],network.snapshots,:].sum(axis=2).plot()"
   ]
  },
  {
   "cell_type": "code",
   "execution_count": 67,
   "metadata": {},
   "outputs": [
    {
     "data": {
      "text/plain": [
       "count    8760.000000\n",
       "mean        5.978042\n",
       "std         8.963907\n",
       "min         0.000000\n",
       "25%         0.000000\n",
       "50%         0.000000\n",
       "75%        11.014865\n",
       "max        34.577076\n",
       "dtype: float64"
      ]
     },
     "execution_count": 67,
     "metadata": {},
     "output_type": "execute_result"
    }
   ],
   "source": [
    "solar = generation.loc[\"solar\",network.snapshots,:].sum(axis=1)\n",
    "solar.describe()"
   ]
  },
  {
   "cell_type": "code",
   "execution_count": 68,
   "metadata": {},
   "outputs": [],
   "source": [
    "#make sure the ordering of the minor axis is correc\n",
    "generation.minor_axis = graph.nodes()"
   ]
  },
  {
   "cell_type": "markdown",
   "metadata": {},
   "source": [
    "# Get the capacities correct"
   ]
  },
  {
   "cell_type": "code",
   "execution_count": 69,
   "metadata": {},
   "outputs": [],
   "source": [
    "cutout = vresutils.reatlas.Cutout(cutoutname=\"Europe_2011_2014\", username=\"becker\")"
   ]
  },
  {
   "cell_type": "code",
   "execution_count": 70,
   "metadata": {
    "collapsed": true
   },
   "outputs": [],
   "source": [
    "def panel_capacity(panel):\n",
    "    \"\"\"\n",
    "    Returns the panel capacity in MW.\n",
    "    \n",
    "    Parameters\n",
    "    ----------\n",
    "    panel : string\n",
    "        Panel name, e.g. \"Sunpower\"\n",
    "    \n",
    "    Returns\n",
    "    -------\n",
    "    capacity : float\n",
    "        In MW\n",
    "    \"\"\"\n",
    "    c = vresutils.reatlas.solarpanelconf_to_solar_panel_config_object(panel)\n",
    "    return c['A'] + c['B'] * 1000 + c['C'] * np.log(1000)"
   ]
  },
  {
   "cell_type": "code",
   "execution_count": 71,
   "metadata": {},
   "outputs": [
    {
     "name": "stdout",
     "output_type": "stream",
     "text": [
      "Serving call to eeg_solarlayouts from file generation.germany.eeg_solarlayouts_scigrid_v2_Cutout_beckerEurope_2011_2014_.pickle of cache: 137.9 msec\n"
     ]
    }
   ],
   "source": [
    "solar_layouts = DEgen.eeg_solarlayouts(graph,cutout)"
   ]
  },
  {
   "cell_type": "code",
   "execution_count": 72,
   "metadata": {},
   "outputs": [],
   "source": [
    "panel_cap = panel_capacity(solar_layouts[0][\"panel\"])\n",
    "solar_caps = pd.Series(solar_layouts[1].sum(axis=(1,2))*panel_cap,\n",
    "                       graph.nodes())"
   ]
  },
  {
   "cell_type": "code",
   "execution_count": 73,
   "metadata": {},
   "outputs": [
    {
     "data": {
      "text/plain": [
       "(count    489.000000\n",
       " mean       0.075750\n",
       " std        0.093728\n",
       " min        0.000028\n",
       " 25%        0.012453\n",
       " 50%        0.042313\n",
       " 75%        0.100619\n",
       " max        0.849577\n",
       " dtype: float64, 37.041524779087617)"
      ]
     },
     "execution_count": 73,
     "metadata": {},
     "output_type": "execute_result"
    }
   ],
   "source": [
    "solar_caps.describe(),solar_caps.sum()"
   ]
  },
  {
   "cell_type": "code",
   "execution_count": 74,
   "metadata": {},
   "outputs": [
    {
     "data": {
      "text/plain": [
       "count    489.000000\n",
       "mean       0.983755\n",
       "std        0.018969\n",
       "min        0.948734\n",
       "25%        0.970006\n",
       "50%        0.984081\n",
       "75%        0.996938\n",
       "max        1.043963\n",
       "dtype: float64"
      ]
     },
     "execution_count": 74,
     "metadata": {},
     "output_type": "execute_result"
    }
   ],
   "source": [
    "(generation.solar.max()/solar_caps).describe()"
   ]
  },
  {
   "cell_type": "code",
   "execution_count": 75,
   "metadata": {},
   "outputs": [
    {
     "name": "stdout",
     "output_type": "stream",
     "text": [
      "Serving call to eeg_windonlayouts_per_class from file generation.germany.eeg_windonlayouts_per_class_scigrid_v2_Cutout_beckerEurope_2011_2014_.pickle of cache: 842.1 msec\n"
     ]
    }
   ],
   "source": [
    "windon_layouts = DEgen.eeg_windonlayouts_per_class(graph,cutout)"
   ]
  },
  {
   "cell_type": "code",
   "execution_count": 76,
   "metadata": {},
   "outputs": [
    {
     "name": "stdout",
     "output_type": "stream",
     "text": [
      "Vestas_V25_200kW 0.2001\n",
      "Vestas_V47_660kW 0.66\n",
      "Bonus_B1000_1000kW 1.0\n",
      "Suzlon_S82_1.5_MW 1.5\n",
      "Vestas_V66_1750kW 1.75\n",
      "Vestas_V80_2MW_gridstreamer 2.0\n",
      "Siemens_SWT_2300kW 2.3\n",
      "Vestas_V90_3MW 3.0\n"
     ]
    }
   ],
   "source": [
    "windon_capacities = pd.DataFrame(index=graph.nodes())\n",
    "for turbine_items in windon_layouts:\n",
    "    name = turbine_items[0][\"onshore\"]\n",
    "    turbine_cap = np.array(vresutils.reatlas.turbineconf_to_powercurve_object(name)[\"POW\"]).max()\n",
    "    print(name,turbine_cap)\n",
    "    windon_capacities[name] = turbine_items[1].sum(axis=(1,2))*turbine_cap/1000."
   ]
  },
  {
   "cell_type": "code",
   "execution_count": 77,
   "metadata": {},
   "outputs": [
    {
     "data": {
      "text/plain": [
       "(count    489.000000\n",
       " mean       0.076360\n",
       " std        0.146817\n",
       " min        0.000000\n",
       " 25%        0.002402\n",
       " 50%        0.020759\n",
       " 75%        0.085740\n",
       " max        1.297764\n",
       " dtype: float64, 37.339895329191734)"
      ]
     },
     "execution_count": 77,
     "metadata": {},
     "output_type": "execute_result"
    }
   ],
   "source": [
    "windon_caps = windon_capacities.sum(axis=1)\n",
    "windon_caps.describe(),windon_caps.sum()"
   ]
  },
  {
   "cell_type": "code",
   "execution_count": 78,
   "metadata": {},
   "outputs": [
    {
     "data": {
      "text/plain": [
       "count    488.000000\n",
       "mean       0.999618\n",
       "std        0.004390\n",
       "min        0.909028\n",
       "25%        0.999927\n",
       "50%        0.999961\n",
       "75%        0.999985\n",
       "max        1.000000\n",
       "dtype: float64"
      ]
     },
     "execution_count": 78,
     "metadata": {},
     "output_type": "execute_result"
    }
   ],
   "source": [
    "(generation.windon.max()/windon_caps).describe()"
   ]
  },
  {
   "cell_type": "code",
   "execution_count": 79,
   "metadata": {},
   "outputs": [
    {
     "name": "stdout",
     "output_type": "stream",
     "text": [
      "Serving call to eeg_windofflayouts_per_class from file generation.germany.eeg_windofflayouts_per_class_scigrid_v2_Cutout_beckerEurope_2011_2014_.pickle of cache: 585.6 msec\n"
     ]
    }
   ],
   "source": [
    "windoff_layouts = DEgen.eeg_windofflayouts_per_class(graph,cutout)"
   ]
  },
  {
   "cell_type": "code",
   "execution_count": 80,
   "metadata": {},
   "outputs": [
    {
     "name": "stdout",
     "output_type": "stream",
     "text": [
      "Siemens_SWT_2300kW_hornsrev2 2.3\n",
      "NREL_ReferenceTurbine_5MW_offshore 5.0\n",
      "NREL_ReferenceTurbine_5MW_offshore 5.0\n",
      "Siemens_SWT_107_3600kW 3.6\n",
      "Siemens_SWT_107_3600kW 3.6\n",
      "NREL_ReferenceTurbine_5MW_offshore 5.0\n"
     ]
    }
   ],
   "source": [
    "windoff_capacities = pd.DataFrame(index=graph.nodes())\n",
    "for i,turbine_items in enumerate(windoff_layouts):\n",
    "    name = turbine_items[0][\"offshore\"]\n",
    "    turbine_cap = np.array(vresutils.reatlas.turbineconf_to_powercurve_object(name)[\"POW\"]).max()\n",
    "    print(name,turbine_cap)\n",
    "    #add an index to name to avoid duplication of names\n",
    "    windoff_capacities[name+\"-\" + str(i)] = turbine_items[1].sum(axis=(1,2))*turbine_cap/1000."
   ]
  },
  {
   "cell_type": "code",
   "execution_count": 81,
   "metadata": {},
   "outputs": [
    {
     "data": {
      "text/plain": [
       "Siemens_SWT_2300kW_hornsrev2-0          0.0483\n",
       "NREL_ReferenceTurbine_5MW_offshore-1    0.0600\n",
       "NREL_ReferenceTurbine_5MW_offshore-2    0.4000\n",
       "Siemens_SWT_107_3600kW-3                1.4472\n",
       "Siemens_SWT_107_3600kW-4                0.1080\n",
       "NREL_ReferenceTurbine_5MW_offshore-5    0.9100\n",
       "dtype: float64"
      ]
     },
     "execution_count": 81,
     "metadata": {},
     "output_type": "execute_result"
    }
   ],
   "source": [
    "windoff_capacities.sum()"
   ]
  },
  {
   "cell_type": "code",
   "execution_count": 82,
   "metadata": {},
   "outputs": [
    {
     "data": {
      "text/plain": [
       "(count    489.000000\n",
       " mean       0.006081\n",
       " std        0.081966\n",
       " min        0.000000\n",
       " 25%        0.000000\n",
       " 50%        0.000000\n",
       " 75%        0.000000\n",
       " max        1.447200\n",
       " dtype: float64, 2.9735)"
      ]
     },
     "execution_count": 82,
     "metadata": {},
     "output_type": "execute_result"
    }
   ],
   "source": [
    "windoff_caps = windoff_capacities.sum(axis=1)\n",
    "windoff_caps.describe(),windoff_caps.sum()"
   ]
  },
  {
   "cell_type": "code",
   "execution_count": 83,
   "metadata": {},
   "outputs": [
    {
     "data": {
      "text/plain": [
       "count    5.000000e+00\n",
       "mean     1.000000e+00\n",
       "std      1.263743e-08\n",
       "min      1.000000e+00\n",
       "25%      1.000000e+00\n",
       "50%      1.000000e+00\n",
       "75%      1.000000e+00\n",
       "max      1.000000e+00\n",
       "dtype: float64"
      ]
     },
     "execution_count": 83,
     "metadata": {},
     "output_type": "execute_result"
    }
   ],
   "source": [
    "(generation.windoff.max()/windoff_caps).describe()"
   ]
  },
  {
   "cell_type": "code",
   "execution_count": 84,
   "metadata": {},
   "outputs": [
    {
     "data": {
      "text/plain": [
       "<matplotlib.axes._subplots.AxesSubplot at 0x7fda7b7e2710>"
      ]
     },
     "execution_count": 84,
     "metadata": {},
     "output_type": "execute_result"
    },
    {
     "data": {
      "image/png": "[encoded data removed]",
      "text/plain": [
       "<matplotlib.figure.Figure at 0x7fda7b7c9750>"
      ]
     },
     "metadata": {},
     "output_type": "display_data"
    }
   ],
   "source": [
    "network.plot(bus_sizes=1000*windoff_caps)"
   ]
  },
  {
   "cell_type": "code",
   "execution_count": 85,
   "metadata": {},
   "outputs": [
    {
     "data": {
      "text/plain": [
       "<matplotlib.axes._subplots.AxesSubplot at 0x7fda7a39b690>"
      ]
     },
     "execution_count": 85,
     "metadata": {},
     "output_type": "execute_result"
    },
    {
     "data": {
      "image/png": "[encoded data removed]",
      "text/plain": [
       "<matplotlib.figure.Figure at 0x7fda7ae41a50>"
      ]
     },
     "metadata": {},
     "output_type": "display_data"
    }
   ],
   "source": [
    "network.plot(bus_sizes=1000*windon_caps)"
   ]
  },
  {
   "cell_type": "code",
   "execution_count": 86,
   "metadata": {},
   "outputs": [
    {
     "data": {
      "text/plain": [
       "<matplotlib.axes._subplots.AxesSubplot at 0x7fda79235a50>"
      ]
     },
     "execution_count": 86,
     "metadata": {},
     "output_type": "execute_result"
    },
    {
     "data": {
      "image/png": "[encoded data removed]",
      "text/plain": [
       "<matplotlib.figure.Figure at 0x7fda7b7c9bd0>"
      ]
     },
     "metadata": {},
     "output_type": "display_data"
    }
   ],
   "source": [
    "network.plot(bus_sizes=1000*solar_caps)"
   ]
  },
  {
   "cell_type": "code",
   "execution_count": 87,
   "metadata": {},
   "outputs": [],
   "source": [
    "\n",
    "d = {\"windoff\" : {\"full_name\" : \"Wind Offshore\", \"caps\" : windoff_caps},\n",
    "    \"windon\" : {\"full_name\" : \"Wind Onshore\", \"caps\" : windon_caps},\n",
    "    \"solar\" : {\"full_name\" : \"Solar\", \"caps\" : solar_caps},\n",
    "     }\n",
    "\n",
    "for tech in [\"windoff\",'windon',\"solar\"]:\n",
    "    caps = d[tech][\"caps\"]\n",
    "    caps = caps[caps != 0]\n",
    "    \n",
    "    for i in caps.index:\n",
    "        network.add(\"Generator\",\"{} {}\".format(i,d[tech][\"full_name\"]),\n",
    "                    p_nom=caps[i]*1000.,dispatch=\"variable\",\n",
    "                    bus=i,carrier=d[tech][\"full_name\"],\n",
    "                    p_max_pu=generation[tech].loc[network.snapshots,i]/caps[i])"
   ]
  },
  {
   "cell_type": "code",
   "execution_count": 88,
   "metadata": {},
   "outputs": [],
   "source": [
    "csv_folder_name = \"../../lib/data/de_model/scigrid-with-load-gen-trafos\"\n",
    "\n",
    "network.export_to_csv_folder(csv_folder_name)"
   ]
  },
  {
   "cell_type": "code",
   "execution_count": 89,
   "metadata": {
    "collapsed": true
   },
   "outputs": [],
   "source": [
    "network.set_snapshots(network.snapshots[:24])\n",
    "\n",
    "csv_folder_name = \"../../lib/pypsa/examples/scigrid-de/scigrid-with-load-gen-trafos\"\n",
    "\n",
    "\n",
    "network.export_to_csv_folder(csv_folder_name)"
   ]
  },
  {
   "cell_type": "code",
   "execution_count": null,
   "metadata": {
    "collapsed": true
   },
   "outputs": [],
   "source": []
  }
 ],
 "metadata": {
  "kernelspec": {
   "display_name": "Python 3",
   "language": "python",
   "name": "python3"
  },
  "language_info": {
   "codemirror_mode": {
    "name": "ipython",
    "version": 3
   },
   "file_extension": ".py",
   "mimetype": "text/x-python",
   "name": "python",
   "nbconvert_exporter": "python",
   "pygments_lexer": "ipython3",
   "version": "3.7.3"
  },
  "varInspector": {
   "cols": {
    "lenName": 16,
    "lenType": 16,
    "lenVar": 40
   },
   "kernels_config": {
    "python": {
     "delete_cmd_postfix": "",
     "delete_cmd_prefix": "del ",
     "library": "var_list.py",
     "varRefreshCmd": "print(var_dic_list())"
    },
    "r": {
     "delete_cmd_postfix": ") ",
     "delete_cmd_prefix": "rm(",
     "library": "var_list.r",
     "varRefreshCmd": "cat(var_dic_list()) "
    }
   },
   "types_to_exclude": [
    "module",
    "function",
    "builtin_function_or_method",
    "instance",
    "_Feature"
   ],
   "window_display": false
  }
 },
 "nbformat": 4,
 "nbformat_minor": 1
}
