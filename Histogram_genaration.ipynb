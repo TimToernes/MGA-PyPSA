{
 "cells": [
  {
   "cell_type": "code",
   "execution_count": 1,
   "metadata": {},
   "outputs": [],
   "source": [
    "import numpy as np\n",
    "import matplotlib.pyplot as plt\n",
    "from mpl_toolkits.mplot3d import Axes3D"
   ]
  },
  {
   "cell_type": "code",
   "execution_count": 108,
   "metadata": {},
   "outputs": [],
   "source": [
    "class grid:\n",
    "    pass\n",
    "grid.feasable  = np.load('feasable_points.npy')"
   ]
  },
  {
   "cell_type": "code",
   "execution_count": 109,
   "metadata": {},
   "outputs": [
    {
     "data": {
      "application/vnd.jupyter.widget-view+json": {
       "model_id": "e911d55dad1446d9adbdfb8754012af1",
       "version_major": 2,
       "version_minor": 0
      },
      "text/plain": [
       "Canvas(toolbar=Toolbar(toolitems=[('Home', 'Reset original view', 'home', 'home'), ('Back', 'Back to previous …"
      ]
     },
     "metadata": {},
     "output_type": "display_data"
    },
    {
     "data": {
      "text/plain": [
       "Text(0.5, 0, 'Solar')"
      ]
     },
     "execution_count": 109,
     "metadata": {},
     "output_type": "execute_result"
    }
   ],
   "source": [
    "%matplotlib widget\n",
    "\n",
    "fig = plt.figure()\n",
    "ax = fig.add_subplot(111, projection='3d')\n",
    "\n",
    "\n",
    "#for i in range(len(max_min_points)):\n",
    "#       ax.plot([max_min_points[i][0]],[max_min_points[i][1]],[max_min_points[i][2]], \"go\",markersize=10)\n",
    "\n",
    "\n",
    "ax.plot(grid.feasable[:,0],grid.feasable[:,1],grid.feasable[:,2], \"bo\",markersize=7)\n",
    "\n",
    "    \n",
    "    \n",
    "plt.show();\n",
    "ax.set_xlabel('Gas')\n",
    "ax.set_ylabel('Wind')\n",
    "ax.set_zlabel('Solar')"
   ]
  },
  {
   "cell_type": "code",
   "execution_count": 110,
   "metadata": {},
   "outputs": [],
   "source": [
    "from scipy.spatial import ConvexHull, convex_hull_plot_2d, Delaunay\n",
    "points = np.array(grid.feasable)\n",
    "hull = ConvexHull(points)\n",
    "dhull = Delaunay(points)"
   ]
  },
  {
   "cell_type": "code",
   "execution_count": 111,
   "metadata": {
    "scrolled": true
   },
   "outputs": [
    {
     "data": {
      "application/vnd.jupyter.widget-view+json": {
       "model_id": "bd935b44fd164c619621eed3bd5bbf2d",
       "version_major": 2,
       "version_minor": 0
      },
      "text/plain": [
       "Canvas(toolbar=Toolbar(toolitems=[('Home', 'Reset original view', 'home', 'home'), ('Back', 'Back to previous …"
      ]
     },
     "metadata": {},
     "output_type": "display_data"
    }
   ],
   "source": [
    "import matplotlib.pyplot as plt\n",
    "from mpl_toolkits.mplot3d import Axes3D\n",
    "fig = plt.figure()\n",
    "ax = fig.add_subplot(111, projection='3d')\n",
    "\n",
    "# Plot defining corner points\n",
    "ax.plot(points.T[0], points.T[1], points.T[2], \"ko\")\n",
    "\n",
    "# 12 = 2 * 6 faces are the simplices (2 simplices per square face)\n",
    "for s in hull.simplices:\n",
    "    \n",
    "    s = np.append(s, s[0])  # Here we cycle back to the first coordinate\n",
    "    ax.plot(points[s, 0], points[s, 1], points[s, 2], \"r-\")\n",
    "\n",
    "ax.set_xlabel('Gas')\n",
    "ax.set_ylabel('Wind')\n",
    "ax.set_zlabel('Solar')\n",
    "plt.show()"
   ]
  },
  {
   "cell_type": "code",
   "execution_count": 112,
   "metadata": {},
   "outputs": [],
   "source": [
    "def in_hull(p, hull):\n",
    "    \"\"\"\n",
    "    Test if points in `p` are in `hull`\n",
    "\n",
    "    `p` should be a `NxK` coordinates of `N` points in `K` dimensions\n",
    "    `hull` is either a scipy.spatial.Delaunay object or the `MxK` array of the \n",
    "    coordinates of `M` points in `K`dimensions for which Delaunay triangulation\n",
    "    will be computed\n",
    "    \"\"\"\n",
    "    from scipy.spatial import Delaunay\n",
    "    if not isinstance(hull,Delaunay):\n",
    "        hull = Delaunay(hull)\n",
    "\n",
    "    return hull.find_simplex(p)>=0"
   ]
  },
  {
   "cell_type": "code",
   "execution_count": 113,
   "metadata": {},
   "outputs": [],
   "source": [
    "dens = 50\n",
    "h_min = hull.min_bound\n",
    "h_max = hull.max_bound\n",
    "x,y,z = np.meshgrid(np.linspace(h_min[0],h_max[0],dens),np.linspace(h_min[1],h_max[1],dens),np.linspace(h_min[2],h_max[2],dens))\n",
    "x = x.reshape((dens)**3)\n",
    "y = y.reshape((dens)**3)\n",
    "z = z.reshape((dens)**3)\n",
    "\n",
    "grid = [[x_,y_,z_] for x_,y_,z_ in zip(x,y,z)]"
   ]
  },
  {
   "cell_type": "code",
   "execution_count": 114,
   "metadata": {},
   "outputs": [],
   "source": [
    "grid_in = [point for point in grid if all(in_hull([point],dhull))]\n"
   ]
  },
  {
   "cell_type": "code",
   "execution_count": 115,
   "metadata": {},
   "outputs": [],
   "source": [
    "grid_in = np.array(grid_in)"
   ]
  },
  {
   "cell_type": "code",
   "execution_count": 116,
   "metadata": {},
   "outputs": [
    {
     "data": {
      "application/vnd.jupyter.widget-view+json": {
       "model_id": "23543eb970274b77bb58ce92d1bb2802",
       "version_major": 2,
       "version_minor": 0
      },
      "text/plain": [
       "Canvas(toolbar=Toolbar(toolitems=[('Home', 'Reset original view', 'home', 'home'), ('Back', 'Back to previous …"
      ]
     },
     "metadata": {},
     "output_type": "display_data"
    },
    {
     "data": {
      "text/plain": [
       "Text(0.5, 0, 'Solar')"
      ]
     },
     "execution_count": 116,
     "metadata": {},
     "output_type": "execute_result"
    }
   ],
   "source": [
    "fig = plt.figure()\n",
    "ax = fig.add_subplot(111, projection='3d')\n",
    "\n",
    "\n",
    "#for i in range(len(max_min_points)):\n",
    "#       ax.plot([max_min_points[i][0]],[max_min_points[i][1]],[max_min_points[i][2]], \"go\",markersize=10)\n",
    "\n",
    "\n",
    "ax.plot(grid_in[:,0],grid_in[:,1],grid_in[:,2], \"bo\",markersize=7)\n",
    "\n",
    "    \n",
    "ax.axis('equal')\n",
    "plt.show();\n",
    "ax.set_xlabel('Gas')\n",
    "ax.set_ylabel('Wind')\n",
    "ax.set_zlabel('Solar')"
   ]
  },
  {
   "cell_type": "code",
   "execution_count": 117,
   "metadata": {},
   "outputs": [
    {
     "data": {
      "application/vnd.jupyter.widget-view+json": {
       "model_id": "3446ad459e98432cbe4557d526f9b586",
       "version_major": 2,
       "version_minor": 0
      },
      "text/plain": [
       "Canvas(toolbar=Toolbar(toolitems=[('Home', 'Reset original view', 'home', 'home'), ('Back', 'Back to previous …"
      ]
     },
     "metadata": {},
     "output_type": "display_data"
    }
   ],
   "source": [
    "fig = plt.figure()\n",
    "ax1 = fig.add_subplot()\n",
    "ax2 = fig.add_subplot()\n",
    "ax3 = fig.add_subplot()\n",
    "ax1 = plt.hist(grid_in[:,:],20,alpha = 1,density=True)\n",
    "#ax2 = plt.hist(grid_in[:,1],20,alpha = 0.5)\n",
    "#ax3 = plt.hist(grid_in[:,2],20,alpha = 0.5)\n",
    "\n",
    "fig.legend(['gas','wind','solar']);\n",
    "plt.xlabel('MW capacity');"
   ]
  },
  {
   "cell_type": "code",
   "execution_count": 119,
   "metadata": {},
   "outputs": [
    {
     "data": {
      "text/plain": [
       "0.00218"
      ]
     },
     "execution_count": 119,
     "metadata": {},
     "output_type": "execute_result"
    }
   ],
   "source": [
    "0.0003+0.0018+0.00008"
   ]
  },
  {
   "cell_type": "code",
   "execution_count": null,
   "metadata": {},
   "outputs": [],
   "source": []
  }
 ],
 "metadata": {
  "kernelspec": {
   "display_name": "Python 3",
   "language": "python",
   "name": "python3"
  },
  "language_info": {
   "codemirror_mode": {
    "name": "ipython",
    "version": 3
   },
   "file_extension": ".py",
   "mimetype": "text/x-python",
   "name": "python",
   "nbconvert_exporter": "python",
   "pygments_lexer": "ipython3",
   "version": "3.7.3"
  },
  "varInspector": {
   "cols": {
    "lenName": 16,
    "lenType": 16,
    "lenVar": 40
   },
   "kernels_config": {
    "python": {
     "delete_cmd_postfix": "",
     "delete_cmd_prefix": "del ",
     "library": "var_list.py",
     "varRefreshCmd": "print(var_dic_list())"
    },
    "r": {
     "delete_cmd_postfix": ") ",
     "delete_cmd_prefix": "rm(",
     "library": "var_list.r",
     "varRefreshCmd": "cat(var_dic_list()) "
    }
   },
   "types_to_exclude": [
    "module",
    "function",
    "builtin_function_or_method",
    "instance",
    "_Feature"
   ],
   "window_display": false
  }
 },
 "nbformat": 4,
 "nbformat_minor": 2
}
