{
 "cells": [
  {
   "cell_type": "code",
   "execution_count": 1,
   "metadata": {},
   "outputs": [
    {
     "name": "stdout",
     "output_type": "stream",
     "text": [
      "importing Jupyter notebook from MGA_functions.ipynb\n"
     ]
    }
   ],
   "source": [
    "import import_ipynb\n",
    "# This line imports the MGA_functions notebook which contains \n",
    "# the MGA_solver function and other plotting functions\n",
    "from MGA_functions import *"
   ]
  },
  {
   "cell_type": "code",
   "execution_count": 2,
   "metadata": {},
   "outputs": [
    {
     "name": "stderr",
     "output_type": "stream",
     "text": [
      "C:\\Users\\Tim\\Anaconda3\\lib\\site-packages\\dask\\config.py:168: YAMLLoadWarning: calling yaml.load() without Loader=... is deprecated, as the default Loader is unsafe. Please read https://msg.pyyaml.org/load for full details.\n",
      "  data = yaml.load(f.read()) or {}\n",
      "C:\\Users\\Tim\\Anaconda3\\lib\\site-packages\\distributed\\config.py:20: YAMLLoadWarning: calling yaml.load() without Loader=... is deprecated, as the default Loader is unsafe. Please read https://msg.pyyaml.org/load for full details.\n",
      "  defaults = yaml.load(f)\n"
     ]
    },
    {
     "data": {
      "text/html": [
       "        <script type=\"text/javascript\">\n",
       "        window.PlotlyConfig = {MathJaxConfig: 'local'};\n",
       "        if (window.MathJax) {MathJax.Hub.Config({SVG: {font: \"STIX-Web\"}});}\n",
       "        if (typeof require !== 'undefined') {\n",
       "        require.undef(\"plotly\");\n",
       "        requirejs.config({\n",
       "            paths: {\n",
       "                'plotly': ['https://cdn.plot.ly/plotly-latest.min']\n",
       "            }\n",
       "        });\n",
       "        require(['plotly'], function(Plotly) {\n",
       "            window._Plotly = Plotly;\n",
       "        });\n",
       "        }\n",
       "        </script>\n",
       "        "
      ]
     },
     "metadata": {},
     "output_type": "display_data"
    }
   ],
   "source": [
    "import pypsa\n",
    "import pandas as pd\n",
    "import time\n",
    "import cufflinks as cf\n",
    "import plotly.offline as pltly\n",
    "pltly.init_notebook_mode(connected=True)"
   ]
  },
  {
   "cell_type": "code",
   "execution_count": 3,
   "metadata": {},
   "outputs": [],
   "source": [
    "hours_in_2018=pd.date_range('2017-07-01T00:00Z','2017-07-05T23:00Z',freq='H') #'2017-12-31T23:00Z'\n",
    "network = pypsa.Network()\n",
    "network.set_snapshots(hours_in_2018)"
   ]
  },
  {
   "cell_type": "code",
   "execution_count": 4,
   "metadata": {},
   "outputs": [],
   "source": [
    "def annuity(n,r):\n",
    "    \"\"\"Calculate the annuity factor for an asset with lifetime n years and\n",
    "    discount rate of r, e.g. annuity(20,0.05)*20 = 1.6\"\"\"\n",
    "\n",
    "    if r > 0:\n",
    "        return r/(1. - 1./(1.+r)**n)\n",
    "    else:\n",
    "        return 1/n"
   ]
  },
  {
   "cell_type": "code",
   "execution_count": 5,
   "metadata": {},
   "outputs": [],
   "source": [
    "# load electricity demand data\n",
    "df_elec = pd.read_csv('data/Total Load - Day Ahead - 2017-2018 - DK,SWE,NO.csv',sep=',',index_col=0) # in MWh\n",
    "CF_elec_dnk = df_elec['Actual Total Load [MW] - Denmark (DK)'][[hour.strftime(\"%Y-%m-%d %H:%M:%S+00:00\") for hour in network.snapshots]].tolist()\n",
    "\n",
    "CF_elec_nor = df_elec['Actual Total Load [MW] - Norway (NO)'][[hour.strftime(\"%Y-%m-%d %H:%M:%S+00:00\") for hour in network.snapshots]].tolist()\n",
    "\n",
    "CF_elec_swe = df_elec['Actual Total Load [MW] - Sweden (SE)'][[hour.strftime(\"%Y-%m-%d %H:%M:%S+00:00\") for hour in network.snapshots]].tolist()\n",
    "\n",
    "df_elec_list = [CF_elec_dnk,CF_elec_nor,CF_elec_swe]"
   ]
  },
  {
   "cell_type": "code",
   "execution_count": 6,
   "metadata": {},
   "outputs": [],
   "source": [
    "# Wind data\n",
    "df_onshorewind = pd.read_csv('data/onshore_wind_1979-2017.csv',sep=';',index_col=0)\n",
    "CF_wind_dnk=df_onshorewind['DNK'][[hour.strftime(\"%Y-%m-%dT%H:%M:%SZ\") for hour in network.snapshots]]\n",
    "CF_wind_nor=df_onshorewind['NOR'][[hour.strftime(\"%Y-%m-%dT%H:%M:%SZ\") for hour in network.snapshots]]\n",
    "CF_wind_swe=df_onshorewind['SWE'][[hour.strftime(\"%Y-%m-%dT%H:%M:%SZ\") for hour in network.snapshots]]\n",
    "\n",
    "CF_wind_list = [CF_wind_dnk,CF_wind_nor,CF_wind_swe]"
   ]
  },
  {
   "cell_type": "code",
   "execution_count": 7,
   "metadata": {},
   "outputs": [],
   "source": [
    "# add solar PV generator\n",
    "df_solar = pd.read_csv('data/pv_optimal.csv',sep=';',index_col=0)\n",
    "CF_solar_dnk=df_solar['DNK'][[hour.strftime(\"%Y-%m-%dT%H:%M:%SZ\") for hour in network.snapshots]]\n",
    "CF_solar_nor=df_solar['NOR'][[hour.strftime(\"%Y-%m-%dT%H:%M:%SZ\") for hour in network.snapshots]]\n",
    "CF_solar_swe=df_solar['SWE'][[hour.strftime(\"%Y-%m-%dT%H:%M:%SZ\") for hour in network.snapshots]]\n",
    "\n",
    "CF_solar_list = [CF_solar_dnk,CF_solar_nor,CF_solar_swe]"
   ]
  },
  {
   "cell_type": "code",
   "execution_count": 8,
   "metadata": {},
   "outputs": [],
   "source": [
    "#add three buses\n",
    "n_buses = 3\n",
    "\n",
    "for i in range(n_buses):\n",
    "    network.add(\"Bus\",\"My bus {}\".format(i),\n",
    "                #v_nom=20.,\n",
    "               x = i,\n",
    "               y = i%2)"
   ]
  },
  {
   "cell_type": "code",
   "execution_count": 9,
   "metadata": {},
   "outputs": [],
   "source": [
    "\n",
    "#add three lines in a ring\n",
    "for i in range(n_buses):\n",
    "    network.add(\"Line\",\"My line {}\".format(i),\n",
    "                bus0=\"My bus {}\".format(i),\n",
    "                bus1=\"My bus {}\".format((i+1)%n_buses),\n",
    "                x=0.1,\n",
    "                r=0.3,\n",
    "                s_nom_extendable=True,\n",
    "               capital_cost=75753)\n",
    "\n"
   ]
  },
  {
   "cell_type": "code",
   "execution_count": 10,
   "metadata": {},
   "outputs": [
    {
     "data": {
      "text/plain": [
       "(<matplotlib.collections.PathCollection at 0x20e3fa58a58>,\n",
       " <matplotlib.collections.LineCollection at 0x20e3fa589b0>)"
      ]
     },
     "execution_count": 10,
     "metadata": {},
     "output_type": "execute_result"
    },
    {
     "data": {
      "image/png": "[encoded data removed]",
      "text/plain": [
       "<Figure size 432x288 with 1 Axes>"
      ]
     },
     "metadata": {
      "needs_background": "light"
     },
     "output_type": "display_data"
    }
   ],
   "source": [
    "network.plot()"
   ]
  },
  {
   "cell_type": "code",
   "execution_count": 11,
   "metadata": {},
   "outputs": [],
   "source": [
    "# Add dispatchable generator\n",
    "capital_cost_OCGT=annuity(25,0.07)*560000*(1+0.033) # in €/MW\n",
    "fuel_cost=200   #21.6 # in €/MWh_th\n",
    "efficiency=0.39\n",
    "marginal_cost_OCGT=fuel_cost/efficiency # in €/MWh_el\n",
    "for i in range(n_buses):\n",
    "    network.add(\"Generator\",\"{} ocgt\".format(i),\n",
    "                type = 'ocgt',\n",
    "                bus=\"My bus {}\".format(i),\n",
    "                committable=True,\n",
    "                capital_cost=capital_cost_OCGT,\n",
    "                marginal_cost=marginal_cost_OCGT,\n",
    "               p_nom_extendable=True)\n",
    "               \n",
    "                "
   ]
  },
  {
   "cell_type": "code",
   "execution_count": 12,
   "metadata": {},
   "outputs": [],
   "source": [
    "# Add wind \n",
    "capital_cost_onshorewind=annuity(30,0.07)*910000*(1+0.033) # in €/MW\n",
    "for i in range(n_buses):\n",
    "    network.add(\"Generator\",\"{} wind\".format(i),\n",
    "                type = 'wind',\n",
    "                bus=\"My bus {}\".format(i),\n",
    "               marginal_cost=0,\n",
    "                capital_cost = capital_cost_onshorewind,\n",
    "               committable=True,\n",
    "               p_nom_extendable=True,\n",
    "               p_max_pu=CF_wind_list[i])    "
   ]
  },
  {
   "cell_type": "code",
   "execution_count": 13,
   "metadata": {},
   "outputs": [],
   "source": [
    "# Add solar\n",
    "capital_cost_solar=annuity(25,0.07)*425000*(1+0.03) # in €/MW\n",
    "for i in range(n_buses):\n",
    "    network.add(\"Generator\",\"{} solar\".format(i),\n",
    "                bus=\"My bus {}\".format(i),\n",
    "                type = 'solar',\n",
    "               marginal_cost=0,\n",
    "                capital_cost = capital_cost_solar,\n",
    "               committable=True,\n",
    "               p_nom_extendable=True,\n",
    "               p_max_pu=CF_solar_list[i]) "
   ]
  },
  {
   "cell_type": "code",
   "execution_count": 14,
   "metadata": {},
   "outputs": [],
   "source": [
    "# Add loads\n",
    "for i in range(n_buses):\n",
    "    network.add(\"Load\",\"load {}\".format(i),\n",
    "                bus=\"My bus {}\".format(i),\n",
    "                p_set=df_elec_list[i])"
   ]
  },
  {
   "cell_type": "code",
   "execution_count": 15,
   "metadata": {},
   "outputs": [
    {
     "name": "stderr",
     "output_type": "stream",
     "text": [
      "INFO:pypsa.pf:Slack bus for sub-network 0 is My bus 0\n",
      "INFO:pypsa.opf:Performed preliminary steps\n",
      "INFO:pypsa.opf:Building pyomo model using `angles` formulation\n",
      "WARNING:pypsa.opf:The following generators have both investment optimisation and unit commitment:\n",
      "Index(['0 ocgt', '1 ocgt', '2 ocgt', '0 wind', '1 wind', '2 wind', '0 solar',\n",
      "       '1 solar', '2 solar'],\n",
      "      dtype='object')\n",
      "Currently PyPSA cannot do both these functions, so PyPSA is choosing investment optimisation for these generators.\n",
      "INFO:pypsa.opf:Solving model using gurobi\n",
      "INFO:pypsa.opf:Optimization successful\n"
     ]
    },
    {
     "name": "stdout",
     "output_type": "stream",
     "text": [
      "# ==========================================================\n",
      "# = Solver Results                                         =\n",
      "# ==========================================================\n",
      "# ----------------------------------------------------------\n",
      "#   Problem Information\n",
      "# ----------------------------------------------------------\n",
      "Problem: \n",
      "- Name: x1813\n",
      "  Lower bound: 3329603532.5686283\n",
      "  Upper bound: 3329603532.5686283\n",
      "  Number of objectives: 1\n",
      "  Number of constraints: 3721\n",
      "  Number of variables: 1813\n",
      "  Number of binary variables: 0\n",
      "  Number of integer variables: 0\n",
      "  Number of continuous variables: 1813\n",
      "  Number of nonzeros: 7630\n",
      "  Sense: minimize\n",
      "# ----------------------------------------------------------\n",
      "#   Solver Information\n",
      "# ----------------------------------------------------------\n",
      "Solver: \n",
      "- Status: ok\n",
      "  Return code: 0\n",
      "  Message: Model was solved to optimality (subject to tolerances), and an optimal solution is available.\n",
      "  Termination condition: optimal\n",
      "  Termination message: Model was solved to optimality (subject to tolerances), and an optimal solution is available.\n",
      "  Wall time: 0.031246185302734375\n",
      "  Error rc: 0\n",
      "  Time: 0.4218277931213379\n",
      "# ----------------------------------------------------------\n",
      "#   Solution Information\n",
      "# ----------------------------------------------------------\n",
      "Solution: \n",
      "- number of solutions: 0\n",
      "  number of solutions displayed: 0\n"
     ]
    },
    {
     "data": {
      "text/plain": [
       "('ok', 'optimal')"
      ]
     },
     "execution_count": 15,
     "metadata": {},
     "output_type": "execute_result"
    }
   ],
   "source": [
    "network.lopf(network.snapshots, solver_name='gurobi')"
   ]
  },
  {
   "cell_type": "code",
   "execution_count": 16,
   "metadata": {},
   "outputs": [
    {
     "name": "stderr",
     "output_type": "stream",
     "text": [
      "INFO:pypsa.io:Exported network Scandinavia has generators, buses, loads, lines\n"
     ]
    }
   ],
   "source": [
    "network.export_to_hdf5('Scandinavia')"
   ]
  },
  {
   "cell_type": "code",
   "execution_count": 17,
   "metadata": {
    "scrolled": true
   },
   "outputs": [
    {
     "data": {
      "text/plain": [
       "name\n",
       "0 ocgt      4058.222342\n",
       "1 ocgt     13325.313641\n",
       "2 ocgt     15158.000000\n",
       "0 wind         0.000000\n",
       "1 wind         0.000000\n",
       "2 wind         0.000000\n",
       "0 solar      415.682062\n",
       "1 solar        0.000000\n",
       "2 solar        0.000000\n",
       "Name: p_nom_opt, dtype: float64"
      ]
     },
     "execution_count": 17,
     "metadata": {},
     "output_type": "execute_result"
    }
   ],
   "source": [
    "network.generators.p_nom_opt"
   ]
  },
  {
   "cell_type": "code",
   "execution_count": 18,
   "metadata": {},
   "outputs": [
    {
     "data": {
      "text/plain": [
       "name\n",
       "My line 0     7.457573\n",
       "My line 1    62.228786\n",
       "My line 2    54.771214\n",
       "Name: s_nom_opt, dtype: float64"
      ]
     },
     "execution_count": 18,
     "metadata": {},
     "output_type": "execute_result"
    }
   ],
   "source": [
    "network.lines.s_nom_opt"
   ]
  },
  {
   "cell_type": "code",
   "execution_count": 19,
   "metadata": {},
   "outputs": [
    {
     "name": "stderr",
     "output_type": "stream",
     "text": [
      "C:\\Users\\Tim\\Anaconda3\\lib\\site-packages\\pandas\\plotting\\_converter.py:129: FutureWarning:\n",
      "\n",
      "Using an implicitly registered datetime converter for a matplotlib plotting method. The converter was registered by pandas on import. Future versions of pandas will require you to explicitly register matplotlib converters.\n",
      "\n",
      "To register the converters:\n",
      "\t>>> from pandas.plotting import register_matplotlib_converters\n",
      "\t>>> register_matplotlib_converters()\n",
      "\n"
     ]
    },
    {
     "data": {
      "text/plain": [
       "<matplotlib.legend.Legend at 0x20e46e2ab00>"
      ]
     },
     "execution_count": 19,
     "metadata": {},
     "output_type": "execute_result"
    },
    {
     "data": {
      "image/png": "[encoded data removed]",
      "text/plain": [
       "<Figure size 432x288 with 1 Axes>"
      ]
     },
     "metadata": {
      "needs_background": "light"
     },
     "output_type": "display_data"
    }
   ],
   "source": [
    "import matplotlib.pyplot as plt\n",
    "\n",
    "plt.plot(network.loads_t.p['load 1'][0:96], color='black', label='demand')\n",
    "plt.plot(network.generators_t.p['0 wind'][0:96], color='blue', label='onshore wind')\n",
    "plt.plot(network.generators_t.p['1 wind'][0:96], color='orange', label='solar')\n",
    "plt.plot(network.generators_t.p['2 wind'][0:96], color='brown', label='gas (OCGT)')\n",
    "plt.legend(fancybox=True, shadow=True, loc='best')"
   ]
  },
  {
   "cell_type": "code",
   "execution_count": 20,
   "metadata": {},
   "outputs": [
    {
     "name": "stderr",
     "output_type": "stream",
     "text": [
      "C:\\Users\\Tim\\Anaconda3\\lib\\site-packages\\pypsa\\plot.py:546: FutureWarning:\n",
      "\n",
      "the 'labels' keyword is deprecated, use 'codes' instead\n",
      "\n"
     ]
    },
    {
     "data": {
      "application/vnd.plotly.v1+json": {
       "config": {
        "linkText": "Export to plot.ly",
        "plotlyServerURL": "https://plot.ly",
        "showLink": false
       },
       "data": [
        {
         "hoverinfo": "text",
         "marker": {
          "color": "blue",
          "size": [
           13.665000000000001,
           54.135,
           54.915
          ]
         },
         "mode": "markers",
         "text": [
          "Load at bus My bus 0: 2733.0 MW",
          "Load at bus My bus 1: 10827.0 MW",
          "Load at bus My bus 2: 10983.0 MW"
         ],
         "type": "scatter",
         "uid": "14a2f7c1-a1f3-4693-925b-33cb1bc7bdb5",
         "x": [
          0,
          1,
          2
         ],
         "y": [
          0,
          1,
          0
         ]
        },
        {
         "hoverinfo": "text",
         "marker": {
          "opacity": 0
         },
         "mode": "markers",
         "text": [
          "Line My line 0",
          "Line My line 1",
          "Line My line 2"
         ],
         "type": "scatter",
         "uid": "4cea3be6-7003-4a6d-a37f-e296bf13d9c9",
         "x": [
          0.5,
          1.5,
          1
         ],
         "y": [
          0.5,
          0.5,
          0
         ]
        }
       ],
       "layout": {
        "height": 700,
        "hovermode": "closest",
        "shapes": [
         {
          "line": {
           "color": "green",
           "width": 2
          },
          "opacity": 0.7,
          "type": "line",
          "x0": 0,
          "x1": 1,
          "y0": 0,
          "y1": 1
         },
         {
          "line": {
           "color": "green",
           "width": 2
          },
          "opacity": 0.7,
          "type": "line",
          "x0": 1,
          "x1": 2,
          "y0": 1,
          "y1": 0
         },
         {
          "line": {
           "color": "green",
           "width": 2
          },
          "opacity": 0.7,
          "type": "line",
          "x0": 2,
          "x1": 0,
          "y0": 0,
          "y1": 0
         }
        ],
        "showlegend": false,
        "title": {
         "text": "Load distribution"
        },
        "width": 700
       }
      },
      "text/html": [
       "<div>\n",
       "        \n",
       "        \n",
       "            <div id=\"a338bb6f-cb9f-4d6e-bae3-7449ba84249a\" class=\"plotly-graph-div\" style=\"height:700px; width:700px;\"></div>\n",
       "            <script type=\"text/javascript\">\n",
       "                require([\"plotly\"], function(Plotly) {\n",
       "                    window.PLOTLYENV=window.PLOTLYENV || {};\n",
       "                    window.PLOTLYENV.BASE_URL='https://plot.ly';\n",
       "                    \n",
       "                if (document.getElementById(\"a338bb6f-cb9f-4d6e-bae3-7449ba84249a\")) {\n",
       "                    Plotly.newPlot(\n",
       "                        'a338bb6f-cb9f-4d6e-bae3-7449ba84249a',\n",
       "                        [{\"hoverinfo\": \"text\", \"marker\": {\"color\": \"blue\", \"size\": [13.665000000000001, 54.135, 54.915]}, \"mode\": \"markers\", \"text\": [\"Load at bus My bus 0: 2733.0 MW\", \"Load at bus My bus 1: 10827.0 MW\", \"Load at bus My bus 2: 10983.0 MW\"], \"type\": \"scatter\", \"uid\": \"14a2f7c1-a1f3-4693-925b-33cb1bc7bdb5\", \"x\": [0.0, 1.0, 2.0], \"y\": [0.0, 1.0, 0.0]}, {\"hoverinfo\": \"text\", \"marker\": {\"opacity\": 0.0}, \"mode\": \"markers\", \"text\": [\"Line My line 0\", \"Line My line 1\", \"Line My line 2\"], \"type\": \"scatter\", \"uid\": \"4cea3be6-7003-4a6d-a37f-e296bf13d9c9\", \"x\": [0.5, 1.5, 1.0], \"y\": [0.5, 0.5, 0.0]}],\n",
       "                        {\"height\": 700, \"hovermode\": \"closest\", \"shapes\": [{\"line\": {\"color\": \"green\", \"width\": 2}, \"opacity\": 0.7, \"type\": \"line\", \"x0\": 0.0, \"x1\": 1.0, \"y0\": 0.0, \"y1\": 1.0}, {\"line\": {\"color\": \"green\", \"width\": 2}, \"opacity\": 0.7, \"type\": \"line\", \"x0\": 1.0, \"x1\": 2.0, \"y0\": 1.0, \"y1\": 0.0}, {\"line\": {\"color\": \"green\", \"width\": 2}, \"opacity\": 0.7, \"type\": \"line\", \"x0\": 2.0, \"x1\": 0.0, \"y0\": 0.0, \"y1\": 0.0}], \"showlegend\": false, \"title\": {\"text\": \"Load distribution\"}, \"width\": 700},\n",
       "                        {\"showLink\": false, \"linkText\": \"Export to plot.ly\", \"plotlyServerURL\": \"https://plot.ly\", \"responsive\": true}\n",
       "                    ).then(function(){\n",
       "                            \n",
       "var gd = document.getElementById('a338bb6f-cb9f-4d6e-bae3-7449ba84249a');\n",
       "var x = new MutationObserver(function (mutations, observer) {{\n",
       "        var display = window.getComputedStyle(gd).display;\n",
       "        if (!display || display === 'none') {{\n",
       "            console.log([gd, 'removed!']);\n",
       "            Plotly.purge(gd);\n",
       "            observer.disconnect();\n",
       "        }}\n",
       "}});\n",
       "\n",
       "// Listen for the removal of the full notebook cells\n",
       "var notebookContainer = gd.closest('#notebook-container');\n",
       "if (notebookContainer) {{\n",
       "    x.observe(notebookContainer, {childList: true});\n",
       "}}\n",
       "\n",
       "// Listen for the clearing of the current output cell\n",
       "var outputEl = gd.closest('.output');\n",
       "if (outputEl) {{\n",
       "    x.observe(outputEl, {childList: true});\n",
       "}}\n",
       "\n",
       "                        })\n",
       "                };\n",
       "                });\n",
       "            </script>\n",
       "        </div>"
      ]
     },
     "metadata": {},
     "output_type": "display_data"
    }
   ],
   "source": [
    "load_distribution = network.loads_t.p_set.loc[network.snapshots[0]].groupby(network.loads.bus).sum().reindex(network.buses.index,fill_value=0.)\n",
    "\n",
    "\n",
    "\n",
    "fig = dict(data=[],layout=dict(width=700,height=700))\n",
    "\n",
    "fig = network.iplot(bus_sizes=0.005*load_distribution, fig=fig,\n",
    "                     bus_text='Load at bus ' + network.buses.index + ': ' + round(load_distribution).values.astype(str) + ' MW',\n",
    "                     title=\"Load distribution\",\n",
    "                     line_text='Line ' + network.lines.index)\n"
   ]
  },
  {
   "cell_type": "code",
   "execution_count": 21,
   "metadata": {},
   "outputs": [
    {
     "data": {
      "text/plain": [
       "pandas.core.series.Series"
      ]
     },
     "execution_count": 21,
     "metadata": {},
     "output_type": "execute_result"
    }
   ],
   "source": [
    "type(load_distribution)"
   ]
  },
  {
   "cell_type": "code",
   "execution_count": 22,
   "metadata": {},
   "outputs": [],
   "source": [
    "test = pd.DataFrame([sum(network.loads_t.p.iloc[:,i]) for i in range(3)],\n",
    "                    index = ['My bus 0', 'My bus 1' , 'My Bus 2'])"
   ]
  },
  {
   "cell_type": "code",
   "execution_count": 23,
   "metadata": {},
   "outputs": [
    {
     "data": {
      "text/plain": [
       "pandas.core.frame.DataFrame"
      ]
     },
     "execution_count": 23,
     "metadata": {},
     "output_type": "execute_result"
    }
   ],
   "source": [
    "type (test)"
   ]
  },
  {
   "cell_type": "code",
   "execution_count": null,
   "metadata": {},
   "outputs": [],
   "source": []
  }
 ],
 "metadata": {
  "kernelspec": {
   "display_name": "Python 3",
   "language": "python",
   "name": "python3"
  },
  "language_info": {
   "codemirror_mode": {
    "name": "ipython",
    "version": 3
   },
   "file_extension": ".py",
   "mimetype": "text/x-python",
   "name": "python",
   "nbconvert_exporter": "python",
   "pygments_lexer": "ipython3",
   "version": "3.7.3"
  },
  "varInspector": {
   "cols": {
    "lenName": 16,
    "lenType": 16,
    "lenVar": 40
   },
   "kernels_config": {
    "python": {
     "delete_cmd_postfix": "",
     "delete_cmd_prefix": "del ",
     "library": "var_list.py",
     "varRefreshCmd": "print(var_dic_list())"
    },
    "r": {
     "delete_cmd_postfix": ") ",
     "delete_cmd_prefix": "rm(",
     "library": "var_list.r",
     "varRefreshCmd": "cat(var_dic_list()) "
    }
   },
   "types_to_exclude": [
    "module",
    "function",
    "builtin_function_or_method",
    "instance",
    "_Feature"
   ],
   "window_display": false
  }
 },
 "nbformat": 4,
 "nbformat_minor": 2
}
