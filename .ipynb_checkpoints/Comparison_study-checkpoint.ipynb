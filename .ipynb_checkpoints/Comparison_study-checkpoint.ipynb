{
 "cells": [
  {
   "cell_type": "code",
   "execution_count": 1,
   "metadata": {},
   "outputs": [],
   "source": [
    "import warnings\n",
    "warnings.simplefilter(\"ignore\")\n",
    "import pypsa\n",
    "import time\n",
    "import logging\n",
    "import numpy as np\n",
    "import os \n",
    "import sys\n",
    "import yaml\n",
    "import pyomo.environ as pyomo_env\n",
    "import pandas as pd\n",
    "from scipy.spatial import ConvexHull,  Delaunay\n",
    "from scipy.interpolate import griddata\n",
    "from multiprocessing import Lock, Process, Queue, current_process\n",
    "import queue # imported for using queue.Empty exception\n",
    "sys.path.append(os.getcwd())\n",
    "import plotly.graph_objects as go\n",
    "import plotly.figure_factory as ff\n",
    "warnings.simplefilter(\"ignore\")"
   ]
  },
  {
   "cell_type": "code",
   "execution_count": 58,
   "metadata": {},
   "outputs": [],
   "source": [
    "network = pypsa.Network()\n",
    "network.import_from_hdf5('PyPSA_project/data/networks/euro_00')\n",
    "dim = 9\n",
    "\n",
    "bus_list = ['DK','SE','NO','DE','PL','CZ','NL','AT','CH']\n",
    "\n",
    "bus_list = bus_list[:dim]\n",
    "\n",
    "for bus in network.buses.index:\n",
    "    if bus not in bus_list:\n",
    "        network.remove('Bus',name=bus)\n",
    "        network.remove('Load',bus)\n",
    "\n",
    "for link in network.links.index:\n",
    "    if not (network.links.loc[link].bus0 in bus_list and network.links.loc[link].bus1 in bus_list ):\n",
    "        network.remove('Link',link)\n",
    "\n",
    "for generator in network.generators.index:\n",
    "    if not network.generators.loc[generator].bus in bus_list:\n",
    "        network.remove('Generator',generator)\n",
    "        \n",
    "for generator in network.generators.index:\n",
    "    if network.generators.loc[generator].type == 'solar':\n",
    "        #network.remove('Generator',generator)\n",
    "        network.generators['type'][generator] = 'wind'\n",
    "\n",
    "for generator in network.generators.index:\n",
    "    if generator[-7:] == 'offwind':\n",
    "        network.remove('Generator',generator)\n",
    "snap_index = [5386, 7147,  782, 3211, 4402, 2189, 7307, 3426, 5932,  321, 4401,\n",
    "       4223, 7726, 8511, 6275, 3611, 6101, 5524,   71, 8038, 6078,  227,\n",
    "       1356, 4705]        \n",
    "network.snapshots = network.snapshots[snap_index]"
   ]
  },
  {
   "cell_type": "code",
   "execution_count": 59,
   "metadata": {
    "scrolled": false
   },
   "outputs": [
    {
     "data": {
      "text/plain": [
       "array([7997, 8694,  398, 1436, 7771, 4247,  862, 7503, 8754, 6719, 5463,\n",
       "       8471, 7251, 7970, 5155, 1371, 1045, 5429, 7401, 5205,  190, 8417,\n",
       "        557, 7660])"
      ]
     },
     "execution_count": 59,
     "metadata": {},
     "output_type": "execute_result"
    }
   ],
   "source": [
    "np.floor(np.random.rand(24)*8769).astype(int)"
   ]
  },
  {
   "cell_type": "code",
   "execution_count": 60,
   "metadata": {},
   "outputs": [
    {
     "data": {
      "text/plain": [
       "(('ok', 'optimal'),)"
      ]
     },
     "execution_count": 60,
     "metadata": {},
     "output_type": "execute_result"
    }
   ],
   "source": [
    "network.lopf(network.snapshots, \n",
    "            solver_name='gurobi'),"
   ]
  },
  {
   "cell_type": "markdown",
   "metadata": {},
   "source": [
    "### Add CO2 constraint and solve again"
   ]
  },
  {
   "cell_type": "code",
   "execution_count": 61,
   "metadata": {},
   "outputs": [],
   "source": [
    "co2_emission = [constraint.body() for constraint in network.model.global_constraints.values()][0]\n",
    "co2_emission\n",
    "network.remove('GlobalConstraint',\"co2_limit\")\n",
    "target = (1-0.80)*co2_emission\n",
    "network.add(\"GlobalConstraint\",\"co2_limit\",\n",
    "      sense=\"<=\",\n",
    "      carrier_attribute=\"co2_emissions\",\n",
    "      constant=target)"
   ]
  },
  {
   "cell_type": "code",
   "execution_count": 62,
   "metadata": {},
   "outputs": [],
   "source": [
    "network.lopf(network.snapshots, \n",
    "            solver_name='gurobi')\n",
    "old_objective_value = network.model.objective()"
   ]
  },
  {
   "cell_type": "code",
   "execution_count": 63,
   "metadata": {},
   "outputs": [
    {
     "data": {
      "text/plain": [
       "[143224.84840872354, 420148.3564729163]"
      ]
     },
     "execution_count": 63,
     "metadata": {},
     "output_type": "execute_result"
    }
   ],
   "source": [
    "\n",
    "var = []\n",
    "for var_type in ['ocgt','wind']:#,'solar']:\n",
    "    filter1 = network.generators.type==var_type\n",
    "    var.append(sum(network.generators.p_nom_opt[filter1]))\n",
    "initial_solution = var\n",
    "initial_solution"
   ]
  },
  {
   "cell_type": "code",
   "execution_count": 64,
   "metadata": {},
   "outputs": [
    {
     "data": {
      "application/vnd.plotly.v1+json": {
       "config": {
        "plotlyServerURL": "https://plot.ly"
       },
       "data": [
        {
         "lat": [
          47.516231,
          46.818188
         ],
         "line": {
          "color": "green",
          "width": 2
         },
         "locationmode": "country names",
         "lon": [
          14.550072,
          8.227511999999999
         ],
         "mode": "lines",
         "type": "scattergeo"
        },
        {
         "lat": [
          47.516231,
          49.817492
         ],
         "line": {
          "color": "green",
          "width": 2
         },
         "locationmode": "country names",
         "lon": [
          14.550072,
          15.472961999999999
         ],
         "mode": "lines",
         "type": "scattergeo"
        },
        {
         "lat": [
          47.516231,
          51.165690999999995
         ],
         "line": {
          "color": "green",
          "width": 2
         },
         "locationmode": "country names",
         "lon": [
          14.550072,
          10.451526
         ],
         "mode": "lines",
         "type": "scattergeo"
        },
        {
         "lat": [
          46.818188,
          51.165690999999995
         ],
         "line": {
          "color": "green",
          "width": 2
         },
         "locationmode": "country names",
         "lon": [
          8.227511999999999,
          10.451526
         ],
         "mode": "lines",
         "type": "scattergeo"
        },
        {
         "lat": [
          49.817492,
          51.165690999999995
         ],
         "line": {
          "color": "green",
          "width": 2
         },
         "locationmode": "country names",
         "lon": [
          15.472961999999999,
          10.451526
         ],
         "mode": "lines",
         "type": "scattergeo"
        },
        {
         "lat": [
          51.165690999999995,
          56.26392
         ],
         "line": {
          "color": "green",
          "width": 2
         },
         "locationmode": "country names",
         "lon": [
          10.451526,
          9.501785
         ],
         "mode": "lines",
         "type": "scattergeo"
        },
        {
         "lat": [
          51.165690999999995,
          60.128161
         ],
         "line": {
          "color": "green",
          "width": 2
         },
         "locationmode": "country names",
         "lon": [
          10.451526,
          18.643501
         ],
         "mode": "lines",
         "type": "scattergeo"
        },
        {
         "lat": [
          52.132633,
          51.165690999999995
         ],
         "line": {
          "color": "green",
          "width": 2
         },
         "locationmode": "country names",
         "lon": [
          5.291266,
          10.451526
         ],
         "mode": "lines",
         "type": "scattergeo"
        },
        {
         "lat": [
          52.132633,
          60.472024
         ],
         "line": {
          "color": "green",
          "width": 2
         },
         "locationmode": "country names",
         "lon": [
          5.291266,
          8.468946
         ],
         "mode": "lines",
         "type": "scattergeo"
        },
        {
         "lat": [
          60.472024,
          56.26392
         ],
         "line": {
          "color": "green",
          "width": 2
         },
         "locationmode": "country names",
         "lon": [
          8.468946,
          9.501785
         ],
         "mode": "lines",
         "type": "scattergeo"
        },
        {
         "lat": [
          60.472024,
          60.128161
         ],
         "line": {
          "color": "green",
          "width": 2
         },
         "locationmode": "country names",
         "lon": [
          8.468946,
          18.643501
         ],
         "mode": "lines",
         "type": "scattergeo"
        },
        {
         "lat": [
          51.919438,
          49.817492
         ],
         "line": {
          "color": "green",
          "width": 2
         },
         "locationmode": "country names",
         "lon": [
          19.145135999999997,
          15.472961999999999
         ],
         "mode": "lines",
         "type": "scattergeo"
        },
        {
         "lat": [
          51.919438,
          51.165690999999995
         ],
         "line": {
          "color": "green",
          "width": 2
         },
         "locationmode": "country names",
         "lon": [
          19.145135999999997,
          10.451526
         ],
         "mode": "lines",
         "type": "scattergeo"
        },
        {
         "lat": [
          51.919438,
          60.128161
         ],
         "line": {
          "color": "green",
          "width": 2
         },
         "locationmode": "country names",
         "lon": [
          19.145135999999997,
          18.643501
         ],
         "mode": "lines",
         "type": "scattergeo"
        },
        {
         "lat": [
          60.128161,
          56.26392
         ],
         "line": {
          "color": "green",
          "width": 2
         },
         "locationmode": "country names",
         "lon": [
          18.643501,
          9.501785
         ],
         "mode": "lines",
         "type": "scattergeo"
        },
        {
         "hoverinfo": "text",
         "lat": [
          47.516231,
          46.818188,
          49.817492,
          51.165690999999995,
          56.26392,
          52.132633,
          60.472024,
          51.919438,
          60.128161
         ],
         "locationmode": "country names",
         "lon": [
          14.550072,
          8.227511999999999,
          15.472961999999999,
          10.451526,
          9.501785,
          5.291266,
          8.468946,
          19.145135999999997,
          18.643501
         ],
         "marker": {
          "color": "black",
          "line": {
           "color": "rgba(68, 68, 68, 0)",
           "width": 3
          },
          "size": 5
         },
         "mode": "text",
         "text": [
          "AT",
          "CH",
          "CZ",
          "DE",
          "DK",
          "NL",
          "NO",
          "PL",
          "SE"
         ],
         "textfont": {
          "color": "MidnightBlue",
          "family": "Balto, sans-serif",
          "size": 18
         },
         "type": "scattergeo"
        }
       ],
       "layout": {
        "autosize": false,
        "geo": {
         "countrycolor": "rgb(204, 204, 204)",
         "landcolor": "rgb(243, 243, 243)",
         "lataxis": {
          "range": [
           45,
           62
          ],
          "showgrid": false
         },
         "lonaxis": {
          "range": [
           0,
           24
          ],
          "showgrid": false
         },
         "projection": {
          "type": "azimuthal equal area"
         },
         "scope": "europe",
         "showland": true
        },
        "height": 500,
        "legend": {
         "x": 0.5,
         "y": 1
        },
        "paper_bgcolor": "rgba(0,0,0,0)",
        "plot_bgcolor": "rgba(0,0,0,0)",
        "showlegend": false,
        "template": {
         "data": {
          "bar": [
           {
            "error_x": {
             "color": "#2a3f5f"
            },
            "error_y": {
             "color": "#2a3f5f"
            },
            "marker": {
             "line": {
              "color": "#E5ECF6",
              "width": 0.5
             }
            },
            "type": "bar"
           }
          ],
          "barpolar": [
           {
            "marker": {
             "line": {
              "color": "#E5ECF6",
              "width": 0.5
             }
            },
            "type": "barpolar"
           }
          ],
          "carpet": [
           {
            "aaxis": {
             "endlinecolor": "#2a3f5f",
             "gridcolor": "white",
             "linecolor": "white",
             "minorgridcolor": "white",
             "startlinecolor": "#2a3f5f"
            },
            "baxis": {
             "endlinecolor": "#2a3f5f",
             "gridcolor": "white",
             "linecolor": "white",
             "minorgridcolor": "white",
             "startlinecolor": "#2a3f5f"
            },
            "type": "carpet"
           }
          ],
          "choropleth": [
           {
            "colorbar": {
             "outlinewidth": 0,
             "ticks": ""
            },
            "type": "choropleth"
           }
          ],
          "contour": [
           {
            "colorbar": {
             "outlinewidth": 0,
             "ticks": ""
            },
            "colorscale": [
             [
              0,
              "#0d0887"
             ],
             [
              0.1111111111111111,
              "#46039f"
             ],
             [
              0.2222222222222222,
              "#7201a8"
             ],
             [
              0.3333333333333333,
              "#9c179e"
             ],
             [
              0.4444444444444444,
              "#bd3786"
             ],
             [
              0.5555555555555556,
              "#d8576b"
             ],
             [
              0.6666666666666666,
              "#ed7953"
             ],
             [
              0.7777777777777778,
              "#fb9f3a"
             ],
             [
              0.8888888888888888,
              "#fdca26"
             ],
             [
              1,
              "#f0f921"
             ]
            ],
            "type": "contour"
           }
          ],
          "contourcarpet": [
           {
            "colorbar": {
             "outlinewidth": 0,
             "ticks": ""
            },
            "type": "contourcarpet"
           }
          ],
          "heatmap": [
           {
            "colorbar": {
             "outlinewidth": 0,
             "ticks": ""
            },
            "colorscale": [
             [
              0,
              "#0d0887"
             ],
             [
              0.1111111111111111,
              "#46039f"
             ],
             [
              0.2222222222222222,
              "#7201a8"
             ],
             [
              0.3333333333333333,
              "#9c179e"
             ],
             [
              0.4444444444444444,
              "#bd3786"
             ],
             [
              0.5555555555555556,
              "#d8576b"
             ],
             [
              0.6666666666666666,
              "#ed7953"
             ],
             [
              0.7777777777777778,
              "#fb9f3a"
             ],
             [
              0.8888888888888888,
              "#fdca26"
             ],
             [
              1,
              "#f0f921"
             ]
            ],
            "type": "heatmap"
           }
          ],
          "heatmapgl": [
           {
            "colorbar": {
             "outlinewidth": 0,
             "ticks": ""
            },
            "colorscale": [
             [
              0,
              "#0d0887"
             ],
             [
              0.1111111111111111,
              "#46039f"
             ],
             [
              0.2222222222222222,
              "#7201a8"
             ],
             [
              0.3333333333333333,
              "#9c179e"
             ],
             [
              0.4444444444444444,
              "#bd3786"
             ],
             [
              0.5555555555555556,
              "#d8576b"
             ],
             [
              0.6666666666666666,
              "#ed7953"
             ],
             [
              0.7777777777777778,
              "#fb9f3a"
             ],
             [
              0.8888888888888888,
              "#fdca26"
             ],
             [
              1,
              "#f0f921"
             ]
            ],
            "type": "heatmapgl"
           }
          ],
          "histogram": [
           {
            "marker": {
             "colorbar": {
              "outlinewidth": 0,
              "ticks": ""
             }
            },
            "type": "histogram"
           }
          ],
          "histogram2d": [
           {
            "colorbar": {
             "outlinewidth": 0,
             "ticks": ""
            },
            "colorscale": [
             [
              0,
              "#0d0887"
             ],
             [
              0.1111111111111111,
              "#46039f"
             ],
             [
              0.2222222222222222,
              "#7201a8"
             ],
             [
              0.3333333333333333,
              "#9c179e"
             ],
             [
              0.4444444444444444,
              "#bd3786"
             ],
             [
              0.5555555555555556,
              "#d8576b"
             ],
             [
              0.6666666666666666,
              "#ed7953"
             ],
             [
              0.7777777777777778,
              "#fb9f3a"
             ],
             [
              0.8888888888888888,
              "#fdca26"
             ],
             [
              1,
              "#f0f921"
             ]
            ],
            "type": "histogram2d"
           }
          ],
          "histogram2dcontour": [
           {
            "colorbar": {
             "outlinewidth": 0,
             "ticks": ""
            },
            "colorscale": [
             [
              0,
              "#0d0887"
             ],
             [
              0.1111111111111111,
              "#46039f"
             ],
             [
              0.2222222222222222,
              "#7201a8"
             ],
             [
              0.3333333333333333,
              "#9c179e"
             ],
             [
              0.4444444444444444,
              "#bd3786"
             ],
             [
              0.5555555555555556,
              "#d8576b"
             ],
             [
              0.6666666666666666,
              "#ed7953"
             ],
             [
              0.7777777777777778,
              "#fb9f3a"
             ],
             [
              0.8888888888888888,
              "#fdca26"
             ],
             [
              1,
              "#f0f921"
             ]
            ],
            "type": "histogram2dcontour"
           }
          ],
          "mesh3d": [
           {
            "colorbar": {
             "outlinewidth": 0,
             "ticks": ""
            },
            "type": "mesh3d"
           }
          ],
          "parcoords": [
           {
            "line": {
             "colorbar": {
              "outlinewidth": 0,
              "ticks": ""
             }
            },
            "type": "parcoords"
           }
          ],
          "scatter": [
           {
            "marker": {
             "colorbar": {
              "outlinewidth": 0,
              "ticks": ""
             }
            },
            "type": "scatter"
           }
          ],
          "scatter3d": [
           {
            "line": {
             "colorbar": {
              "outlinewidth": 0,
              "ticks": ""
             }
            },
            "marker": {
             "colorbar": {
              "outlinewidth": 0,
              "ticks": ""
             }
            },
            "type": "scatter3d"
           }
          ],
          "scattercarpet": [
           {
            "marker": {
             "colorbar": {
              "outlinewidth": 0,
              "ticks": ""
             }
            },
            "type": "scattercarpet"
           }
          ],
          "scattergeo": [
           {
            "marker": {
             "colorbar": {
              "outlinewidth": 0,
              "ticks": ""
             }
            },
            "type": "scattergeo"
           }
          ],
          "scattergl": [
           {
            "marker": {
             "colorbar": {
              "outlinewidth": 0,
              "ticks": ""
             }
            },
            "type": "scattergl"
           }
          ],
          "scattermapbox": [
           {
            "marker": {
             "colorbar": {
              "outlinewidth": 0,
              "ticks": ""
             }
            },
            "type": "scattermapbox"
           }
          ],
          "scatterpolar": [
           {
            "marker": {
             "colorbar": {
              "outlinewidth": 0,
              "ticks": ""
             }
            },
            "type": "scatterpolar"
           }
          ],
          "scatterpolargl": [
           {
            "marker": {
             "colorbar": {
              "outlinewidth": 0,
              "ticks": ""
             }
            },
            "type": "scatterpolargl"
           }
          ],
          "scatterternary": [
           {
            "marker": {
             "colorbar": {
              "outlinewidth": 0,
              "ticks": ""
             }
            },
            "type": "scatterternary"
           }
          ],
          "surface": [
           {
            "colorbar": {
             "outlinewidth": 0,
             "ticks": ""
            },
            "colorscale": [
             [
              0,
              "#0d0887"
             ],
             [
              0.1111111111111111,
              "#46039f"
             ],
             [
              0.2222222222222222,
              "#7201a8"
             ],
             [
              0.3333333333333333,
              "#9c179e"
             ],
             [
              0.4444444444444444,
              "#bd3786"
             ],
             [
              0.5555555555555556,
              "#d8576b"
             ],
             [
              0.6666666666666666,
              "#ed7953"
             ],
             [
              0.7777777777777778,
              "#fb9f3a"
             ],
             [
              0.8888888888888888,
              "#fdca26"
             ],
             [
              1,
              "#f0f921"
             ]
            ],
            "type": "surface"
           }
          ],
          "table": [
           {
            "cells": {
             "fill": {
              "color": "#EBF0F8"
             },
             "line": {
              "color": "white"
             }
            },
            "header": {
             "fill": {
              "color": "#C8D4E3"
             },
             "line": {
              "color": "white"
             }
            },
            "type": "table"
           }
          ]
         },
         "layout": {
          "annotationdefaults": {
           "arrowcolor": "#2a3f5f",
           "arrowhead": 0,
           "arrowwidth": 1
          },
          "colorscale": {
           "diverging": [
            [
             0,
             "#8e0152"
            ],
            [
             0.1,
             "#c51b7d"
            ],
            [
             0.2,
             "#de77ae"
            ],
            [
             0.3,
             "#f1b6da"
            ],
            [
             0.4,
             "#fde0ef"
            ],
            [
             0.5,
             "#f7f7f7"
            ],
            [
             0.6,
             "#e6f5d0"
            ],
            [
             0.7,
             "#b8e186"
            ],
            [
             0.8,
             "#7fbc41"
            ],
            [
             0.9,
             "#4d9221"
            ],
            [
             1,
             "#276419"
            ]
           ],
           "sequential": [
            [
             0,
             "#0d0887"
            ],
            [
             0.1111111111111111,
             "#46039f"
            ],
            [
             0.2222222222222222,
             "#7201a8"
            ],
            [
             0.3333333333333333,
             "#9c179e"
            ],
            [
             0.4444444444444444,
             "#bd3786"
            ],
            [
             0.5555555555555556,
             "#d8576b"
            ],
            [
             0.6666666666666666,
             "#ed7953"
            ],
            [
             0.7777777777777778,
             "#fb9f3a"
            ],
            [
             0.8888888888888888,
             "#fdca26"
            ],
            [
             1,
             "#f0f921"
            ]
           ],
           "sequentialminus": [
            [
             0,
             "#0d0887"
            ],
            [
             0.1111111111111111,
             "#46039f"
            ],
            [
             0.2222222222222222,
             "#7201a8"
            ],
            [
             0.3333333333333333,
             "#9c179e"
            ],
            [
             0.4444444444444444,
             "#bd3786"
            ],
            [
             0.5555555555555556,
             "#d8576b"
            ],
            [
             0.6666666666666666,
             "#ed7953"
            ],
            [
             0.7777777777777778,
             "#fb9f3a"
            ],
            [
             0.8888888888888888,
             "#fdca26"
            ],
            [
             1,
             "#f0f921"
            ]
           ]
          },
          "colorway": [
           "#636efa",
           "#EF553B",
           "#00cc96",
           "#ab63fa",
           "#FFA15A",
           "#19d3f3",
           "#FF6692",
           "#B6E880",
           "#FF97FF",
           "#FECB52"
          ],
          "font": {
           "color": "#2a3f5f"
          },
          "geo": {
           "bgcolor": "white",
           "lakecolor": "white",
           "landcolor": "#E5ECF6",
           "showlakes": true,
           "showland": true,
           "subunitcolor": "white"
          },
          "hoverlabel": {
           "align": "left"
          },
          "hovermode": "closest",
          "mapbox": {
           "style": "light"
          },
          "paper_bgcolor": "white",
          "plot_bgcolor": "#E5ECF6",
          "polar": {
           "angularaxis": {
            "gridcolor": "white",
            "linecolor": "white",
            "ticks": ""
           },
           "bgcolor": "#E5ECF6",
           "radialaxis": {
            "gridcolor": "white",
            "linecolor": "white",
            "ticks": ""
           }
          },
          "scene": {
           "xaxis": {
            "backgroundcolor": "#E5ECF6",
            "gridcolor": "white",
            "gridwidth": 2,
            "linecolor": "white",
            "showbackground": true,
            "ticks": "",
            "zerolinecolor": "white"
           },
           "yaxis": {
            "backgroundcolor": "#E5ECF6",
            "gridcolor": "white",
            "gridwidth": 2,
            "linecolor": "white",
            "showbackground": true,
            "ticks": "",
            "zerolinecolor": "white"
           },
           "zaxis": {
            "backgroundcolor": "#E5ECF6",
            "gridcolor": "white",
            "gridwidth": 2,
            "linecolor": "white",
            "showbackground": true,
            "ticks": "",
            "zerolinecolor": "white"
           }
          },
          "shapedefaults": {
           "line": {
            "color": "#2a3f5f"
           }
          },
          "ternary": {
           "aaxis": {
            "gridcolor": "white",
            "linecolor": "white",
            "ticks": ""
           },
           "baxis": {
            "gridcolor": "white",
            "linecolor": "white",
            "ticks": ""
           },
           "bgcolor": "#E5ECF6",
           "caxis": {
            "gridcolor": "white",
            "linecolor": "white",
            "ticks": ""
           }
          },
          "title": {
           "x": 0.05
          },
          "xaxis": {
           "automargin": true,
           "gridcolor": "white",
           "linecolor": "white",
           "ticks": "",
           "zerolinecolor": "white",
           "zerolinewidth": 2
          },
          "yaxis": {
           "automargin": true,
           "gridcolor": "white",
           "linecolor": "white",
           "ticks": "",
           "zerolinecolor": "white",
           "zerolinewidth": 2
          }
         }
        },
        "width": 500
       }
      },
      "text/html": [
       "<div>\n",
       "        \n",
       "        \n",
       "            <div id=\"e14a9303-6c2d-4d4b-8b2a-86fd46ddd446\" class=\"plotly-graph-div\" style=\"height:500px; width:500px;\"></div>\n",
       "            <script type=\"text/javascript\">\n",
       "                require([\"plotly\"], function(Plotly) {\n",
       "                    window.PLOTLYENV=window.PLOTLYENV || {};\n",
       "                    \n",
       "                if (document.getElementById(\"e14a9303-6c2d-4d4b-8b2a-86fd46ddd446\")) {\n",
       "                    Plotly.newPlot(\n",
       "                        'e14a9303-6c2d-4d4b-8b2a-86fd46ddd446',\n",
       "                        [{\"lat\": [47.516231, 46.818188], \"line\": {\"color\": \"green\", \"width\": 2}, \"locationmode\": \"country names\", \"lon\": [14.550072, 8.227511999999999], \"mode\": \"lines\", \"type\": \"scattergeo\"}, {\"lat\": [47.516231, 49.817492], \"line\": {\"color\": \"green\", \"width\": 2}, \"locationmode\": \"country names\", \"lon\": [14.550072, 15.472961999999999], \"mode\": \"lines\", \"type\": \"scattergeo\"}, {\"lat\": [47.516231, 51.165690999999995], \"line\": {\"color\": \"green\", \"width\": 2}, \"locationmode\": \"country names\", \"lon\": [14.550072, 10.451526], \"mode\": \"lines\", \"type\": \"scattergeo\"}, {\"lat\": [46.818188, 51.165690999999995], \"line\": {\"color\": \"green\", \"width\": 2}, \"locationmode\": \"country names\", \"lon\": [8.227511999999999, 10.451526], \"mode\": \"lines\", \"type\": \"scattergeo\"}, {\"lat\": [49.817492, 51.165690999999995], \"line\": {\"color\": \"green\", \"width\": 2}, \"locationmode\": \"country names\", \"lon\": [15.472961999999999, 10.451526], \"mode\": \"lines\", \"type\": \"scattergeo\"}, {\"lat\": [51.165690999999995, 56.26392], \"line\": {\"color\": \"green\", \"width\": 2}, \"locationmode\": \"country names\", \"lon\": [10.451526, 9.501785], \"mode\": \"lines\", \"type\": \"scattergeo\"}, {\"lat\": [51.165690999999995, 60.128161], \"line\": {\"color\": \"green\", \"width\": 2}, \"locationmode\": \"country names\", \"lon\": [10.451526, 18.643501], \"mode\": \"lines\", \"type\": \"scattergeo\"}, {\"lat\": [52.132633, 51.165690999999995], \"line\": {\"color\": \"green\", \"width\": 2}, \"locationmode\": \"country names\", \"lon\": [5.291266, 10.451526], \"mode\": \"lines\", \"type\": \"scattergeo\"}, {\"lat\": [52.132633, 60.472024], \"line\": {\"color\": \"green\", \"width\": 2}, \"locationmode\": \"country names\", \"lon\": [5.291266, 8.468946], \"mode\": \"lines\", \"type\": \"scattergeo\"}, {\"lat\": [60.472024, 56.26392], \"line\": {\"color\": \"green\", \"width\": 2}, \"locationmode\": \"country names\", \"lon\": [8.468946, 9.501785], \"mode\": \"lines\", \"type\": \"scattergeo\"}, {\"lat\": [60.472024, 60.128161], \"line\": {\"color\": \"green\", \"width\": 2}, \"locationmode\": \"country names\", \"lon\": [8.468946, 18.643501], \"mode\": \"lines\", \"type\": \"scattergeo\"}, {\"lat\": [51.919438, 49.817492], \"line\": {\"color\": \"green\", \"width\": 2}, \"locationmode\": \"country names\", \"lon\": [19.145135999999997, 15.472961999999999], \"mode\": \"lines\", \"type\": \"scattergeo\"}, {\"lat\": [51.919438, 51.165690999999995], \"line\": {\"color\": \"green\", \"width\": 2}, \"locationmode\": \"country names\", \"lon\": [19.145135999999997, 10.451526], \"mode\": \"lines\", \"type\": \"scattergeo\"}, {\"lat\": [51.919438, 60.128161], \"line\": {\"color\": \"green\", \"width\": 2}, \"locationmode\": \"country names\", \"lon\": [19.145135999999997, 18.643501], \"mode\": \"lines\", \"type\": \"scattergeo\"}, {\"lat\": [60.128161, 56.26392], \"line\": {\"color\": \"green\", \"width\": 2}, \"locationmode\": \"country names\", \"lon\": [18.643501, 9.501785], \"mode\": \"lines\", \"type\": \"scattergeo\"}, {\"hoverinfo\": \"text\", \"lat\": [47.516231, 46.818188, 49.817492, 51.165690999999995, 56.26392, 52.132633, 60.472024, 51.919438, 60.128161], \"locationmode\": \"country names\", \"lon\": [14.550072, 8.227511999999999, 15.472961999999999, 10.451526, 9.501785, 5.291266, 8.468946, 19.145135999999997, 18.643501], \"marker\": {\"color\": \"black\", \"line\": {\"color\": \"rgba(68, 68, 68, 0)\", \"width\": 3}, \"size\": 5}, \"mode\": \"text\", \"text\": [\"AT\", \"CH\", \"CZ\", \"DE\", \"DK\", \"NL\", \"NO\", \"PL\", \"SE\"], \"textfont\": {\"color\": \"MidnightBlue\", \"family\": \"Balto, sans-serif\", \"size\": 18}, \"type\": \"scattergeo\"}],\n",
       "                        {\"autosize\": false, \"geo\": {\"countrycolor\": \"rgb(204, 204, 204)\", \"landcolor\": \"rgb(243, 243, 243)\", \"lataxis\": {\"range\": [45, 62], \"showgrid\": false}, \"lonaxis\": {\"range\": [0, 24], \"showgrid\": false}, \"projection\": {\"type\": \"azimuthal equal area\"}, \"scope\": \"europe\", \"showland\": true}, \"height\": 500, \"legend\": {\"x\": 0.5, \"y\": 1}, \"paper_bgcolor\": \"rgba(0,0,0,0)\", \"plot_bgcolor\": \"rgba(0,0,0,0)\", \"showlegend\": false, \"template\": {\"data\": {\"bar\": [{\"error_x\": {\"color\": \"#2a3f5f\"}, \"error_y\": {\"color\": \"#2a3f5f\"}, \"marker\": {\"line\": {\"color\": \"#E5ECF6\", \"width\": 0.5}}, \"type\": \"bar\"}], \"barpolar\": [{\"marker\": {\"line\": {\"color\": \"#E5ECF6\", \"width\": 0.5}}, \"type\": \"barpolar\"}], \"carpet\": [{\"aaxis\": {\"endlinecolor\": \"#2a3f5f\", \"gridcolor\": \"white\", \"linecolor\": \"white\", \"minorgridcolor\": \"white\", \"startlinecolor\": \"#2a3f5f\"}, \"baxis\": {\"endlinecolor\": \"#2a3f5f\", \"gridcolor\": \"white\", \"linecolor\": \"white\", \"minorgridcolor\": \"white\", \"startlinecolor\": \"#2a3f5f\"}, \"type\": \"carpet\"}], \"choropleth\": [{\"colorbar\": {\"outlinewidth\": 0, \"ticks\": \"\"}, \"type\": \"choropleth\"}], \"contour\": [{\"colorbar\": {\"outlinewidth\": 0, \"ticks\": \"\"}, \"colorscale\": [[0.0, \"#0d0887\"], [0.1111111111111111, \"#46039f\"], [0.2222222222222222, \"#7201a8\"], [0.3333333333333333, \"#9c179e\"], [0.4444444444444444, \"#bd3786\"], [0.5555555555555556, \"#d8576b\"], [0.6666666666666666, \"#ed7953\"], [0.7777777777777778, \"#fb9f3a\"], [0.8888888888888888, \"#fdca26\"], [1.0, \"#f0f921\"]], \"type\": \"contour\"}], \"contourcarpet\": [{\"colorbar\": {\"outlinewidth\": 0, \"ticks\": \"\"}, \"type\": \"contourcarpet\"}], \"heatmap\": [{\"colorbar\": {\"outlinewidth\": 0, \"ticks\": \"\"}, \"colorscale\": [[0.0, \"#0d0887\"], [0.1111111111111111, \"#46039f\"], [0.2222222222222222, \"#7201a8\"], [0.3333333333333333, \"#9c179e\"], [0.4444444444444444, \"#bd3786\"], [0.5555555555555556, \"#d8576b\"], [0.6666666666666666, \"#ed7953\"], [0.7777777777777778, \"#fb9f3a\"], [0.8888888888888888, \"#fdca26\"], [1.0, \"#f0f921\"]], \"type\": \"heatmap\"}], \"heatmapgl\": [{\"colorbar\": {\"outlinewidth\": 0, \"ticks\": \"\"}, \"colorscale\": [[0.0, \"#0d0887\"], [0.1111111111111111, \"#46039f\"], [0.2222222222222222, \"#7201a8\"], [0.3333333333333333, \"#9c179e\"], [0.4444444444444444, \"#bd3786\"], [0.5555555555555556, \"#d8576b\"], [0.6666666666666666, \"#ed7953\"], [0.7777777777777778, \"#fb9f3a\"], [0.8888888888888888, \"#fdca26\"], [1.0, \"#f0f921\"]], \"type\": \"heatmapgl\"}], \"histogram\": [{\"marker\": {\"colorbar\": {\"outlinewidth\": 0, \"ticks\": \"\"}}, \"type\": \"histogram\"}], \"histogram2d\": [{\"colorbar\": {\"outlinewidth\": 0, \"ticks\": \"\"}, \"colorscale\": [[0.0, \"#0d0887\"], [0.1111111111111111, \"#46039f\"], [0.2222222222222222, \"#7201a8\"], [0.3333333333333333, \"#9c179e\"], [0.4444444444444444, \"#bd3786\"], [0.5555555555555556, \"#d8576b\"], [0.6666666666666666, \"#ed7953\"], [0.7777777777777778, \"#fb9f3a\"], [0.8888888888888888, \"#fdca26\"], [1.0, \"#f0f921\"]], \"type\": \"histogram2d\"}], \"histogram2dcontour\": [{\"colorbar\": {\"outlinewidth\": 0, \"ticks\": \"\"}, \"colorscale\": [[0.0, \"#0d0887\"], [0.1111111111111111, \"#46039f\"], [0.2222222222222222, \"#7201a8\"], [0.3333333333333333, \"#9c179e\"], [0.4444444444444444, \"#bd3786\"], [0.5555555555555556, \"#d8576b\"], [0.6666666666666666, \"#ed7953\"], [0.7777777777777778, \"#fb9f3a\"], [0.8888888888888888, \"#fdca26\"], [1.0, \"#f0f921\"]], \"type\": \"histogram2dcontour\"}], \"mesh3d\": [{\"colorbar\": {\"outlinewidth\": 0, \"ticks\": \"\"}, \"type\": \"mesh3d\"}], \"parcoords\": [{\"line\": {\"colorbar\": {\"outlinewidth\": 0, \"ticks\": \"\"}}, \"type\": \"parcoords\"}], \"scatter\": [{\"marker\": {\"colorbar\": {\"outlinewidth\": 0, \"ticks\": \"\"}}, \"type\": \"scatter\"}], \"scatter3d\": [{\"line\": {\"colorbar\": {\"outlinewidth\": 0, \"ticks\": \"\"}}, \"marker\": {\"colorbar\": {\"outlinewidth\": 0, \"ticks\": \"\"}}, \"type\": \"scatter3d\"}], \"scattercarpet\": [{\"marker\": {\"colorbar\": {\"outlinewidth\": 0, \"ticks\": \"\"}}, \"type\": \"scattercarpet\"}], \"scattergeo\": [{\"marker\": {\"colorbar\": {\"outlinewidth\": 0, \"ticks\": \"\"}}, \"type\": \"scattergeo\"}], \"scattergl\": [{\"marker\": {\"colorbar\": {\"outlinewidth\": 0, \"ticks\": \"\"}}, \"type\": \"scattergl\"}], \"scattermapbox\": [{\"marker\": {\"colorbar\": {\"outlinewidth\": 0, \"ticks\": \"\"}}, \"type\": \"scattermapbox\"}], \"scatterpolar\": [{\"marker\": {\"colorbar\": {\"outlinewidth\": 0, \"ticks\": \"\"}}, \"type\": \"scatterpolar\"}], \"scatterpolargl\": [{\"marker\": {\"colorbar\": {\"outlinewidth\": 0, \"ticks\": \"\"}}, \"type\": \"scatterpolargl\"}], \"scatterternary\": [{\"marker\": {\"colorbar\": {\"outlinewidth\": 0, \"ticks\": \"\"}}, \"type\": \"scatterternary\"}], \"surface\": [{\"colorbar\": {\"outlinewidth\": 0, \"ticks\": \"\"}, \"colorscale\": [[0.0, \"#0d0887\"], [0.1111111111111111, \"#46039f\"], [0.2222222222222222, \"#7201a8\"], [0.3333333333333333, \"#9c179e\"], [0.4444444444444444, \"#bd3786\"], [0.5555555555555556, \"#d8576b\"], [0.6666666666666666, \"#ed7953\"], [0.7777777777777778, \"#fb9f3a\"], [0.8888888888888888, \"#fdca26\"], [1.0, \"#f0f921\"]], \"type\": \"surface\"}], \"table\": [{\"cells\": {\"fill\": {\"color\": \"#EBF0F8\"}, \"line\": {\"color\": \"white\"}}, \"header\": {\"fill\": {\"color\": \"#C8D4E3\"}, \"line\": {\"color\": \"white\"}}, \"type\": \"table\"}]}, \"layout\": {\"annotationdefaults\": {\"arrowcolor\": \"#2a3f5f\", \"arrowhead\": 0, \"arrowwidth\": 1}, \"colorscale\": {\"diverging\": [[0, \"#8e0152\"], [0.1, \"#c51b7d\"], [0.2, \"#de77ae\"], [0.3, \"#f1b6da\"], [0.4, \"#fde0ef\"], [0.5, \"#f7f7f7\"], [0.6, \"#e6f5d0\"], [0.7, \"#b8e186\"], [0.8, \"#7fbc41\"], [0.9, \"#4d9221\"], [1, \"#276419\"]], \"sequential\": [[0.0, \"#0d0887\"], [0.1111111111111111, \"#46039f\"], [0.2222222222222222, \"#7201a8\"], [0.3333333333333333, \"#9c179e\"], [0.4444444444444444, \"#bd3786\"], [0.5555555555555556, \"#d8576b\"], [0.6666666666666666, \"#ed7953\"], [0.7777777777777778, \"#fb9f3a\"], [0.8888888888888888, \"#fdca26\"], [1.0, \"#f0f921\"]], \"sequentialminus\": [[0.0, \"#0d0887\"], [0.1111111111111111, \"#46039f\"], [0.2222222222222222, \"#7201a8\"], [0.3333333333333333, \"#9c179e\"], [0.4444444444444444, \"#bd3786\"], [0.5555555555555556, \"#d8576b\"], [0.6666666666666666, \"#ed7953\"], [0.7777777777777778, \"#fb9f3a\"], [0.8888888888888888, \"#fdca26\"], [1.0, \"#f0f921\"]]}, \"colorway\": [\"#636efa\", \"#EF553B\", \"#00cc96\", \"#ab63fa\", \"#FFA15A\", \"#19d3f3\", \"#FF6692\", \"#B6E880\", \"#FF97FF\", \"#FECB52\"], \"font\": {\"color\": \"#2a3f5f\"}, \"geo\": {\"bgcolor\": \"white\", \"lakecolor\": \"white\", \"landcolor\": \"#E5ECF6\", \"showlakes\": true, \"showland\": true, \"subunitcolor\": \"white\"}, \"hoverlabel\": {\"align\": \"left\"}, \"hovermode\": \"closest\", \"mapbox\": {\"style\": \"light\"}, \"paper_bgcolor\": \"white\", \"plot_bgcolor\": \"#E5ECF6\", \"polar\": {\"angularaxis\": {\"gridcolor\": \"white\", \"linecolor\": \"white\", \"ticks\": \"\"}, \"bgcolor\": \"#E5ECF6\", \"radialaxis\": {\"gridcolor\": \"white\", \"linecolor\": \"white\", \"ticks\": \"\"}}, \"scene\": {\"xaxis\": {\"backgroundcolor\": \"#E5ECF6\", \"gridcolor\": \"white\", \"gridwidth\": 2, \"linecolor\": \"white\", \"showbackground\": true, \"ticks\": \"\", \"zerolinecolor\": \"white\"}, \"yaxis\": {\"backgroundcolor\": \"#E5ECF6\", \"gridcolor\": \"white\", \"gridwidth\": 2, \"linecolor\": \"white\", \"showbackground\": true, \"ticks\": \"\", \"zerolinecolor\": \"white\"}, \"zaxis\": {\"backgroundcolor\": \"#E5ECF6\", \"gridcolor\": \"white\", \"gridwidth\": 2, \"linecolor\": \"white\", \"showbackground\": true, \"ticks\": \"\", \"zerolinecolor\": \"white\"}}, \"shapedefaults\": {\"line\": {\"color\": \"#2a3f5f\"}}, \"ternary\": {\"aaxis\": {\"gridcolor\": \"white\", \"linecolor\": \"white\", \"ticks\": \"\"}, \"baxis\": {\"gridcolor\": \"white\", \"linecolor\": \"white\", \"ticks\": \"\"}, \"bgcolor\": \"#E5ECF6\", \"caxis\": {\"gridcolor\": \"white\", \"linecolor\": \"white\", \"ticks\": \"\"}}, \"title\": {\"x\": 0.05}, \"xaxis\": {\"automargin\": true, \"gridcolor\": \"white\", \"linecolor\": \"white\", \"ticks\": \"\", \"zerolinecolor\": \"white\", \"zerolinewidth\": 2}, \"yaxis\": {\"automargin\": true, \"gridcolor\": \"white\", \"linecolor\": \"white\", \"ticks\": \"\", \"zerolinecolor\": \"white\", \"zerolinewidth\": 2}}}, \"width\": 500},\n",
       "                        {\"responsive\": true}\n",
       "                    ).then(function(){\n",
       "                            \n",
       "var gd = document.getElementById('e14a9303-6c2d-4d4b-8b2a-86fd46ddd446');\n",
       "var x = new MutationObserver(function (mutations, observer) {{\n",
       "        var display = window.getComputedStyle(gd).display;\n",
       "        if (!display || display === 'none') {{\n",
       "            console.log([gd, 'removed!']);\n",
       "            Plotly.purge(gd);\n",
       "            observer.disconnect();\n",
       "        }}\n",
       "}});\n",
       "\n",
       "// Listen for the removal of the full notebook cells\n",
       "var notebookContainer = gd.closest('#notebook-container');\n",
       "if (notebookContainer) {{\n",
       "    x.observe(notebookContainer, {childList: true});\n",
       "}}\n",
       "\n",
       "// Listen for the clearing of the current output cell\n",
       "var outputEl = gd.closest('.output');\n",
       "if (outputEl) {{\n",
       "    x.observe(outputEl, {childList: true});\n",
       "}}\n",
       "\n",
       "                        })\n",
       "                };\n",
       "                });\n",
       "            </script>\n",
       "        </div>"
      ]
     },
     "metadata": {},
     "output_type": "display_data"
    }
   ],
   "source": [
    "fig = go.Figure()\n",
    "\n",
    "\n",
    "\"\"\"\n",
    "fig.add_trace(go.Scattergeo(lon=[min(network.buses.x),max(network.buses.x)],\n",
    "                            lat=[np.mean(network.buses.y),np.mean(network.buses.y)],\n",
    "                            mode='lines'\n",
    "                            ))\n",
    "\"\"\"\n",
    "# Links\n",
    "import matplotlib.cm as cm\n",
    "for link in network.links.iterrows():\n",
    "\n",
    "    bus0 = network.buses.loc[link[1]['bus0']]\n",
    "    bus1 = network.buses.loc[link[1]['bus1']]\n",
    "    cap = link[1]['p_nom_opt']\n",
    "\n",
    "    fig.add_trace(go.Scattergeo(\n",
    "        locationmode = 'country names',\n",
    "        lon = [bus0.x,bus1.x],\n",
    "        lat = [bus0.y,bus1.y],\n",
    "        mode = 'lines',\n",
    "        line = dict(width = 2,color = 'green'),\n",
    "        ))\n",
    "    \n",
    "    \n",
    "# Nodes\n",
    "fig.add_trace(go.Scattergeo(\n",
    "    locationmode = 'country names',\n",
    "    lon = network.buses.x,\n",
    "    lat = network.buses.y,\n",
    "    hoverinfo = 'text',\n",
    "    text = network.buses.index,\n",
    "    mode = 'text',\n",
    "    marker = dict(\n",
    "        size = 5,\n",
    "        color = 'black',\n",
    "        line = dict(\n",
    "            width = 3,\n",
    "            color = 'rgba(68, 68, 68, 0)'\n",
    "        )),\n",
    "     textfont={\n",
    "        \"color\": \"MidnightBlue\",\n",
    "        \"family\": \"Balto, sans-serif\",\n",
    "        \"size\": 18\n",
    "    },\n",
    "    ))\n",
    "\n",
    "\"\"\"\n",
    "# Bar plots \n",
    "#network.generators.p_nom_opt=ds_co2_95.df_detail.iloc[0,0:111]\n",
    "\n",
    "\n",
    "for bus in network.buses.iterrows():\n",
    "\n",
    "    filter = [x and y for x,y in zip(network.generators.bus==bus[0],network.generators.type=='wind')]\n",
    "    wind = sum(network.generators[filter].p_nom_opt)\n",
    "    filter = [x and y for x,y in zip(network.generators.bus==bus[0],network.generators.type=='solar')]\n",
    "    solar = sum(network.generators[filter].p_nom_opt)\n",
    "    filter = [x and y for x,y in zip(network.generators.bus==bus[0],network.generators.type=='ocgt')]\n",
    "    ocgt = sum(network.generators[filter].p_nom_opt)\n",
    "\n",
    "    fig.add_trace(go.Scattergeo(\n",
    "    locationmode = 'country names',\n",
    "    lon = [bus[1]['x'],bus[1]['x']+0.5,bus[1]['x']-0.5 ],\n",
    "    lat = [bus[1]['y'], bus[1]['y'],bus[1]['y']],\n",
    "    hoverinfo = 'text',\n",
    "    text = bus[0],\n",
    "    mode = 'markers',\n",
    "    marker = dict(\n",
    "        size = np.array([wind,solar,ocgt])/2000,\n",
    "        color = ['blue','yellow','black'],\n",
    "        symbol = 'line-ns',\n",
    "        line = dict(\n",
    "            width = 10,\n",
    "            color = ['blue','yellow','black'],\n",
    "        )\n",
    "    )))\n",
    "\"\"\"\n",
    "\"\"\"\n",
    "# Legend \n",
    "fig.add_trace(go.Scattergeo(\n",
    "locationmode = 'country names',\n",
    "lon = [-11,-11,-11],\n",
    "lat = [62,63,64],\n",
    "hoverinfo = 'text',\n",
    "text = 'legend',\n",
    "mode = 'markers',\n",
    "marker = dict(\n",
    "    size = 10,\n",
    "    color = ['blue','yellow','black'],\n",
    "    symbol = 'line-ns',\n",
    "    line = dict(\n",
    "        width = 10,\n",
    "        color = ['blue','yellow','black'],\n",
    "    )\n",
    ")))\n",
    "\"\"\"\n",
    "\n",
    "\n",
    "fig.update_layout(\n",
    "    showlegend = False,\n",
    "    geo = go.layout.Geo(\n",
    "        scope = 'europe',\n",
    "        projection_type = 'azimuthal equal area',\n",
    "        showland = True,\n",
    "        landcolor = 'rgb(243, 243, 243)',\n",
    "        countrycolor = 'rgb(204, 204, 204)',\n",
    "        lataxis = dict(\n",
    "            range = [45, 62],\n",
    "            showgrid = False\n",
    "        ),\n",
    "        lonaxis = dict(\n",
    "            range = [0, 24],\n",
    "            showgrid = False\n",
    "        )\n",
    "    ),\n",
    ")\n",
    "fig.update_layout(\n",
    "    autosize=False,\n",
    "    showlegend=False,\n",
    "    width=500,\n",
    "    height=500,\n",
    "    paper_bgcolor='rgba(0,0,0,0)',\n",
    "    plot_bgcolor='rgba(0,0,0,0)',\n",
    "    legend=dict(x=0.5,y=1)\n",
    ")\n",
    "\n",
    "fig.show()\n",
    "fig.write_image(\"C:/Users\\Tim\\OneDrive - Aarhus universitet\\Speciale\\Report\\Images\\comparison_topology.pdf\")"
   ]
  },
  {
   "cell_type": "code",
   "execution_count": 87,
   "metadata": {},
   "outputs": [],
   "source": [
    "def plot_network(solutions):\n",
    "    from plotly.subplots import make_subplots\n",
    "    fig = make_subplots(\n",
    "        rows=3, cols=2,\n",
    "        #column_widths=[0.6, 0.4],\n",
    "        row_heights=[0.45,0.45,0.15],\n",
    "        subplot_titles=['','','(a)','(b)','(c)','(d)'],\n",
    "        specs=[[{\"type\": 'Scattergeo'},{\"type\": 'Scattergeo'}],\n",
    "               [ {\"type\": 'Scattergeo'},{\"type\": 'Scattergeo'}],\n",
    "              [ {\"type\": 'Scatter'},{\"type\": 'Scatter'}]])\n",
    "\n",
    "\n",
    "    \"\"\"\n",
    "    fig.add_trace(go.Scattergeo(lon=[min(network.buses.x),max(network.buses.x)],\n",
    "                                lat=[np.mean(network.buses.y),np.mean(network.buses.y)],\n",
    "                                mode='lines'\n",
    "                                ))\n",
    "    \"\"\"\n",
    "\n",
    "    for i in range(4):\n",
    "        try:\n",
    "            network = solutions[i]\n",
    "        except:\n",
    "            break\n",
    "        # Links\n",
    "        import matplotlib.cm as cm\n",
    "        for link in network.links.iterrows():\n",
    "\n",
    "            bus0 = network.buses.loc[link[1]['bus0']]\n",
    "            bus1 = network.buses.loc[link[1]['bus1']]\n",
    "            cap = link[1]['p_nom_opt']\n",
    "            cap_max = max(network.links.p_nom_opt)\n",
    "\n",
    "            fig.add_trace(go.Scattergeo(\n",
    "                locationmode = 'country names',\n",
    "                geo = 'geo'+str(i+1),\n",
    "                lon = [bus0.x,bus1.x],\n",
    "                lat = [bus0.y,bus1.y],\n",
    "                mode = 'lines',\n",
    "                line = dict(width = cap/cap_max*5+0.5,color = 'green'),\n",
    "                ),row=int(np.floor(i/2)+1),col=i%2+1)\n",
    "\n",
    "\n",
    "        # Nodes\n",
    "        \"\"\"\n",
    "        fig.add_trace(go.Scattergeo(\n",
    "            locationmode = 'country names',\n",
    "            lon = network.buses.x,\n",
    "            lat = network.buses.y,\n",
    "            hoverinfo = 'text',\n",
    "            text = network.buses.index,\n",
    "            mode = 'markers',\n",
    "            marker = dict(\n",
    "                size = 5,\n",
    "                color = 'black',\n",
    "                line = dict(\n",
    "                    width = 3,\n",
    "                    color = 'rgba(68, 68, 68, 0)'\n",
    "                )),\n",
    "             textfont={\n",
    "                \"color\": \"MidnightBlue\",\n",
    "                \"family\": \"Balto, sans-serif\",\n",
    "                \"size\": 18\n",
    "            },\n",
    "            ))\n",
    "        \"\"\"\n",
    "\n",
    "        # Bar plots \n",
    "        #network.generators.p_nom_opt=ds_co2_95.df_detail.iloc[0,0:111]\n",
    "\n",
    "\n",
    "        for bus in network.buses.iterrows():\n",
    "\n",
    "            filter = [x and y for x,y in zip(network.generators.bus==bus[0],network.generators.type=='wind')]\n",
    "            wind = sum(network.generators[filter].p_nom_opt)\n",
    "            filter = [x and y for x,y in zip(network.generators.bus==bus[0],network.generators.type=='solar')]\n",
    "            solar = sum(network.generators[filter].p_nom_opt)\n",
    "            filter = [x and y for x,y in zip(network.generators.bus==bus[0],network.generators.type=='ocgt')]\n",
    "            ocgt = sum(network.generators[filter].p_nom_opt)\n",
    "\n",
    "            fig.add_trace(go.Scattergeo(\n",
    "            locationmode = 'country names',\n",
    "            lon = [bus[1]['x']-0.25,bus[1]['x']+0.25,bus[1]['x']-0.5 ],\n",
    "            lat = [bus[1]['y'], bus[1]['y'],bus[1]['y']],\n",
    "            hoverinfo = 'text',\n",
    "            geo = 'geo'+str(i+1),\n",
    "            text = bus[0],\n",
    "            mode = 'markers',\n",
    "            marker = dict(\n",
    "                size = np.array([wind,ocgt])/4000,\n",
    "                color = ['blue','yellow','black'],\n",
    "                symbol = 'line-ns',\n",
    "                line = dict(\n",
    "                    width = 10,\n",
    "                    color = ['orange','black'],\n",
    "                )\n",
    "            )),row=int(np.floor(i/2)+1),col=i%2+1)\n",
    "\n",
    "    \"\"\"\n",
    "    # Legend \n",
    "    fig.add_trace(go.Scattergeo(\n",
    "    locationmode = 'country names',\n",
    "    lon = [-11,-11,-11],\n",
    "    lat = [62,63,64],\n",
    "    hoverinfo = 'text',\n",
    "    text = 'legend',\n",
    "    mode = 'markers',\n",
    "    marker = dict(\n",
    "        size = 10,\n",
    "        color = ['blue','yellow','black'],\n",
    "        symbol = 'line-ns',\n",
    "        line = dict(\n",
    "            width = 10,\n",
    "            color = ['blue','yellow','black'],\n",
    "        )\n",
    "    )))\n",
    "    \"\"\"\n",
    "    #Legend\n",
    "    # Capacity\n",
    "    fig.add_trace(go.Scatter(\n",
    "        x = [0.1,0.13,0.16,0.3,0.33,0.36],\n",
    "        y = [6,6,6,6,6,6],\n",
    "        mode = 'markers',\n",
    "        marker = dict(\n",
    "            size = [25,12.5,5,25,12.5,5],\n",
    "            symbol = 'line-ns',\n",
    "            line = dict(\n",
    "                width = 7,\n",
    "                color = ['black','black','black','orange','orange','orange',],\n",
    "            )),\n",
    "    ),row=3,col=1)\n",
    "\n",
    "    # Transmission\n",
    "    fig.add_trace(go.Scatter(\n",
    "        x = [0.5,0.53,0.56,],\n",
    "        y = [6,6,6],\n",
    "        mode = 'markers',\n",
    "        marker = dict(\n",
    "            size = 15,\n",
    "            symbol = 'line-ew',\n",
    "            line = dict(\n",
    "                width = [25000/cap_max*5+0.5,10000/cap_max*5+0.5,0.5],\n",
    "                color = ['green','green','green'],\n",
    "            )),\n",
    "    ),row=3,col=1)\n",
    "    # Text\n",
    "    fig.add_trace(go.Scatter(\n",
    "        x = [0.13,0.33,0.52,0.1,0.13,0.16,0.3,0.33,0.36,0.5,0.53,0.56,],\n",
    "        y = [9,9,9,3,3,3,3,3,3,3,3,3],\n",
    "        text = ['OCGT [GW]','VRES [GW]','Transmission [GW]','100','50','20','100','50','20','25','10','0'],\n",
    "        mode = 'text',\n",
    "        \n",
    "    ),row=3,col=1)\n",
    "\n",
    "    fig.update_geos(\n",
    "            scope = 'europe',\n",
    "            projection_type = 'azimuthal equal area',\n",
    "            showland = True,\n",
    "            landcolor = 'rgb(243, 243, 243)',\n",
    "            countrycolor = 'rgb(204, 204, 204)',\n",
    "            showocean=False,\n",
    "            #domain=dict(x=[0,1],y=[0,1]),\n",
    "            lataxis = dict(\n",
    "                range = [45, 62],\n",
    "                showgrid = False\n",
    "            ),\n",
    "            lonaxis = dict(\n",
    "                range = [0, 24],\n",
    "                showgrid = False\n",
    "            ))\n",
    "    fig.update_layout(\n",
    "        geo2=dict(\n",
    "            domain=dict(x=[0.52,0.99],y=[0.55,1])),#Top Rigth\n",
    "        geo1=dict(\n",
    "            domain=dict(x=[0,0.48],y=[0.55,1])),#Top Left\n",
    "        geo3=dict(\n",
    "            domain=dict(x=[0,0.48],y=[0.1,0.55])),#Botom left\n",
    "        geo4=dict(\n",
    "            domain=dict(x=[0.52,0.99],y=[0.1,0.55])),#Botom right\n",
    "    )\n",
    "\n",
    "    fig.update_layout(\n",
    "        autosize=False,\n",
    "        showlegend=False,\n",
    "        xaxis=dict(showticklabels=False,range=[0,0.7],domain=[0,1]),\n",
    "        yaxis=dict(showticklabels=False,range=[0,10],domain=[0,0.08]),\n",
    "            paper_bgcolor='rgba(0,0,0,0)',\n",
    "        plot_bgcolor='rgba(0,0,0,0)',\n",
    "        width=1000,\n",
    "        height=1000,\n",
    "        margin=dict(l=5, r=5, t=5, b=5,pad=0),\n",
    "        )\n",
    "\n",
    "    return fig\n",
    "    "
   ]
  },
  {
   "cell_type": "code",
   "execution_count": 78,
   "metadata": {},
   "outputs": [],
   "source": [
    "def direction_search(network, snapshots,options,direction): #  MGA_slack = 0.05, point=[0,0,0],dim=3,old_objective_value=0):\n",
    "# Identify the nonzero decision variables that should enter the MGA objective function.\n",
    "    old_objective_value = options['old_objective_value']\n",
    "    dim = options['dim']\n",
    "    MGA_slack = 0.1\n",
    "\n",
    "    if dim == 3:\n",
    "        generators = [gen_p for gen_p in network.model.generator_p_nom]\n",
    "        types = ['ocgt','wind','olar']\n",
    "        variables = []\n",
    "        for i in range(3):\n",
    "            gen_p_type = [gen_p  for gen_p in generators if gen_p[-4:]==types[i]]\n",
    "            variables.append(sum([network.model.generator_p_nom[gen_p] for gen_p in gen_p_type]))\n",
    "            \n",
    "                             \n",
    "    elif dim == 2:\n",
    "        generators = [gen_p for gen_p in network.model.generator_p_nom]\n",
    "        variables = []\n",
    "\n",
    "        gen_p_type = [gen_p  for gen_p in generators if gen_p[-4:]=='ocgt']\n",
    "        variables.append(sum([network.model.generator_p_nom[gen_p] for gen_p in gen_p_type]))\n",
    "        \n",
    "        gen_p_type = [gen_p  for gen_p in generators if gen_p[-4:]=='wind' or gen_p[-4:]=='olar']\n",
    "        variables.append(sum([network.model.generator_p_nom[gen_p] for gen_p in gen_p_type]))\n",
    "    else :\n",
    "        variables = [network.model.generator_p_nom[gen_p] for gen_p in network.model.generator_p_nom]\n",
    "        \n",
    "    objective = 0\n",
    "    for i in range(len(variables)):\n",
    "        #print(variables[i])\n",
    "        objective += direction[i]*variables[i]\n",
    "\n",
    "    print(objective)\n",
    "    # Add the new MGA objective function to the model.\n",
    "    #objective += network.model.objective.expr * 1e-9\n",
    "    network.model.mga_objective = pyomo_env.Objective(expr=objective)\n",
    "    # Deactivate the old objective function and activate the MGA objective function.\n",
    "    network.model.objective.deactivate()\n",
    "    network.model.mga_objective.activate()\n",
    "    # Add the MGA slack constraint.\n",
    "    network.model.mga_constraint = pyomo_env.Constraint(expr=network.model.objective.expr <= \n",
    "                                          (1 + MGA_slack) * old_objective_value)\n"
   ]
  },
  {
   "cell_type": "code",
   "execution_count": 67,
   "metadata": {},
   "outputs": [],
   "source": [
    "logging.disable()"
   ]
  },
  {
   "cell_type": "code",
   "execution_count": 79,
   "metadata": {},
   "outputs": [
    {
     "name": "stdout",
     "output_type": "stream",
     "text": [
      "generator_p_nom[AT ocgt] + generator_p_nom[CH ocgt] + generator_p_nom[CZ ocgt] + generator_p_nom[DE ocgt] + generator_p_nom[DK ocgt] + generator_p_nom[NL ocgt] + generator_p_nom[NO ocgt] + generator_p_nom[PL ocgt] + generator_p_nom[SE ocgt]\n",
      "generator_p_nom[AT onwind] + generator_p_nom[AT solar] + generator_p_nom[CH onwind] + generator_p_nom[CH solar] + generator_p_nom[CZ onwind] + generator_p_nom[CZ solar] + generator_p_nom[DE onwind] + generator_p_nom[DE solar] + generator_p_nom[DK onwind] + generator_p_nom[DK solar] + generator_p_nom[NL onwind] + generator_p_nom[NL solar] + generator_p_nom[NO onwind] + generator_p_nom[NO solar] + generator_p_nom[PL onwind] + generator_p_nom[PL solar] + generator_p_nom[SE onwind] + generator_p_nom[SE solar]\n",
      "- (generator_p_nom[AT ocgt] + generator_p_nom[CH ocgt] + generator_p_nom[CZ ocgt] + generator_p_nom[DE ocgt] + generator_p_nom[DK ocgt] + generator_p_nom[NL ocgt] + generator_p_nom[NO ocgt] + generator_p_nom[PL ocgt] + generator_p_nom[SE ocgt])\n",
      "- (generator_p_nom[AT onwind] + generator_p_nom[AT solar] + generator_p_nom[CH onwind] + generator_p_nom[CH solar] + generator_p_nom[CZ onwind] + generator_p_nom[CZ solar] + generator_p_nom[DE onwind] + generator_p_nom[DE solar] + generator_p_nom[DK onwind] + generator_p_nom[DK solar] + generator_p_nom[NL onwind] + generator_p_nom[NL solar] + generator_p_nom[NO onwind] + generator_p_nom[NO solar] + generator_p_nom[PL onwind] + generator_p_nom[PL solar] + generator_p_nom[SE onwind] + generator_p_nom[SE solar])\n",
      "1.0\n",
      "-0.7772452821278918*(generator_p_nom[AT ocgt] + generator_p_nom[CH ocgt] + generator_p_nom[CZ ocgt] + generator_p_nom[DE ocgt] + generator_p_nom[DK ocgt] + generator_p_nom[NL ocgt] + generator_p_nom[NO ocgt] + generator_p_nom[PL ocgt] + generator_p_nom[SE ocgt]) + 0.6291977204424171*(generator_p_nom[AT onwind] + generator_p_nom[AT solar] + generator_p_nom[CH onwind] + generator_p_nom[CH solar] + generator_p_nom[CZ onwind] + generator_p_nom[CZ solar] + generator_p_nom[DE onwind] + generator_p_nom[DE solar] + generator_p_nom[DK onwind] + generator_p_nom[DK solar] + generator_p_nom[NL onwind] + generator_p_nom[NL solar] + generator_p_nom[NO onwind] + generator_p_nom[NO solar] + generator_p_nom[PL onwind] + generator_p_nom[PL solar] + generator_p_nom[SE onwind] + generator_p_nom[SE solar])\n",
      "0.653111488714716*(generator_p_nom[AT ocgt] + generator_p_nom[CH ocgt] + generator_p_nom[CZ ocgt] + generator_p_nom[DE ocgt] + generator_p_nom[DK ocgt] + generator_p_nom[NL ocgt] + generator_p_nom[NO ocgt] + generator_p_nom[PL ocgt] + generator_p_nom[SE ocgt]) + 0.7572617667021405*(generator_p_nom[AT onwind] + generator_p_nom[AT solar] + generator_p_nom[CH onwind] + generator_p_nom[CH solar] + generator_p_nom[CZ onwind] + generator_p_nom[CZ solar] + generator_p_nom[DE onwind] + generator_p_nom[DE solar] + generator_p_nom[DK onwind] + generator_p_nom[DK solar] + generator_p_nom[NL onwind] + generator_p_nom[NL solar] + generator_p_nom[NO onwind] + generator_p_nom[NO solar] + generator_p_nom[PL onwind] + generator_p_nom[PL solar] + generator_p_nom[SE onwind] + generator_p_nom[SE solar])\n",
      "-0.6690532811766399*(generator_p_nom[AT ocgt] + generator_p_nom[CH ocgt] + generator_p_nom[CZ ocgt] + generator_p_nom[DE ocgt] + generator_p_nom[DK ocgt] + generator_p_nom[NL ocgt] + generator_p_nom[NO ocgt] + generator_p_nom[PL ocgt] + generator_p_nom[SE ocgt]) - 0.7432144421005099*(generator_p_nom[AT onwind] + generator_p_nom[AT solar] + generator_p_nom[CH onwind] + generator_p_nom[CH solar] + generator_p_nom[CZ onwind] + generator_p_nom[CZ solar] + generator_p_nom[DE onwind] + generator_p_nom[DE solar] + generator_p_nom[DK onwind] + generator_p_nom[DK solar] + generator_p_nom[NL onwind] + generator_p_nom[NL solar] + generator_p_nom[NO onwind] + generator_p_nom[NO solar] + generator_p_nom[PL onwind] + generator_p_nom[PL solar] + generator_p_nom[SE onwind] + generator_p_nom[SE solar])\n",
      "0.28688286215172515*(generator_p_nom[AT ocgt] + generator_p_nom[CH ocgt] + generator_p_nom[CZ ocgt] + generator_p_nom[DE ocgt] + generator_p_nom[DK ocgt] + generator_p_nom[NL ocgt] + generator_p_nom[NO ocgt] + generator_p_nom[PL ocgt] + generator_p_nom[SE ocgt]) - 0.9579656692197452*(generator_p_nom[AT onwind] + generator_p_nom[AT solar] + generator_p_nom[CH onwind] + generator_p_nom[CH solar] + generator_p_nom[CZ onwind] + generator_p_nom[CZ solar] + generator_p_nom[DE onwind] + generator_p_nom[DE solar] + generator_p_nom[DK onwind] + generator_p_nom[DK solar] + generator_p_nom[NL onwind] + generator_p_nom[NL solar] + generator_p_nom[NO onwind] + generator_p_nom[NO solar] + generator_p_nom[PL onwind] + generator_p_nom[PL solar] + generator_p_nom[SE onwind] + generator_p_nom[SE solar])\n",
      "0.28088580375190597\n",
      "-0.9121022140843097*(generator_p_nom[AT ocgt] + generator_p_nom[CH ocgt] + generator_p_nom[CZ ocgt] + generator_p_nom[DE ocgt] + generator_p_nom[DK ocgt] + generator_p_nom[NL ocgt] + generator_p_nom[NO ocgt] + generator_p_nom[PL ocgt] + generator_p_nom[SE ocgt]) - 0.4099628654677153*(generator_p_nom[AT onwind] + generator_p_nom[AT solar] + generator_p_nom[CH onwind] + generator_p_nom[CH solar] + generator_p_nom[CZ onwind] + generator_p_nom[CZ solar] + generator_p_nom[DE onwind] + generator_p_nom[DE solar] + generator_p_nom[DK onwind] + generator_p_nom[DK solar] + generator_p_nom[NL onwind] + generator_p_nom[NL solar] + generator_p_nom[NO onwind] + generator_p_nom[NO solar] + generator_p_nom[PL onwind] + generator_p_nom[PL solar] + generator_p_nom[SE onwind] + generator_p_nom[SE solar])\n",
      "-0.9399507000464048*(generator_p_nom[AT ocgt] + generator_p_nom[CH ocgt] + generator_p_nom[CZ ocgt] + generator_p_nom[DE ocgt] + generator_p_nom[DK ocgt] + generator_p_nom[NL ocgt] + generator_p_nom[NO ocgt] + generator_p_nom[PL ocgt] + generator_p_nom[SE ocgt]) + 0.3413102422756655*(generator_p_nom[AT onwind] + generator_p_nom[AT solar] + generator_p_nom[CH onwind] + generator_p_nom[CH solar] + generator_p_nom[CZ onwind] + generator_p_nom[CZ solar] + generator_p_nom[DE onwind] + generator_p_nom[DE solar] + generator_p_nom[DK onwind] + generator_p_nom[DK solar] + generator_p_nom[NL onwind] + generator_p_nom[NL solar] + generator_p_nom[NO onwind] + generator_p_nom[NO solar] + generator_p_nom[PL onwind] + generator_p_nom[PL solar] + generator_p_nom[SE onwind] + generator_p_nom[SE solar])\n",
      "-0.20601277884347816*(generator_p_nom[AT ocgt] + generator_p_nom[CH ocgt] + generator_p_nom[CZ ocgt] + generator_p_nom[DE ocgt] + generator_p_nom[DK ocgt] + generator_p_nom[NL ocgt] + generator_p_nom[NO ocgt] + generator_p_nom[PL ocgt] + generator_p_nom[SE ocgt]) + 0.9785493012379028*(generator_p_nom[AT onwind] + generator_p_nom[AT solar] + generator_p_nom[CH onwind] + generator_p_nom[CH solar] + generator_p_nom[CZ onwind] + generator_p_nom[CZ solar] + generator_p_nom[DE onwind] + generator_p_nom[DE solar] + generator_p_nom[DK onwind] + generator_p_nom[DK solar] + generator_p_nom[NL onwind] + generator_p_nom[NL solar] + generator_p_nom[NO onwind] + generator_p_nom[NO solar] + generator_p_nom[PL onwind] + generator_p_nom[PL solar] + generator_p_nom[SE onwind] + generator_p_nom[SE solar])\n",
      "0.7934787857426717*(generator_p_nom[AT ocgt] + generator_p_nom[CH ocgt] + generator_p_nom[CZ ocgt] + generator_p_nom[DE ocgt] + generator_p_nom[DK ocgt] + generator_p_nom[NL ocgt] + generator_p_nom[NO ocgt] + generator_p_nom[PL ocgt] + generator_p_nom[SE ocgt]) + 0.6085979104271843*(generator_p_nom[AT onwind] + generator_p_nom[AT solar] + generator_p_nom[CH onwind] + generator_p_nom[CH solar] + generator_p_nom[CZ onwind] + generator_p_nom[CZ solar] + generator_p_nom[DE onwind] + generator_p_nom[DE solar] + generator_p_nom[DK onwind] + generator_p_nom[DK solar] + generator_p_nom[NL onwind] + generator_p_nom[NL solar] + generator_p_nom[NO onwind] + generator_p_nom[NO solar] + generator_p_nom[PL onwind] + generator_p_nom[PL solar] + generator_p_nom[SE onwind] + generator_p_nom[SE solar])\n",
      "0.5461178689405263*(generator_p_nom[AT ocgt] + generator_p_nom[CH ocgt] + generator_p_nom[CZ ocgt] + generator_p_nom[DE ocgt] + generator_p_nom[DK ocgt] + generator_p_nom[NL ocgt] + generator_p_nom[NO ocgt] + generator_p_nom[PL ocgt] + generator_p_nom[SE ocgt]) + 0.8377083461586486*(generator_p_nom[AT onwind] + generator_p_nom[AT solar] + generator_p_nom[CH onwind] + generator_p_nom[CH solar] + generator_p_nom[CZ onwind] + generator_p_nom[CZ solar] + generator_p_nom[DE onwind] + generator_p_nom[DE solar] + generator_p_nom[DK onwind] + generator_p_nom[DK solar] + generator_p_nom[NL onwind] + generator_p_nom[NL solar] + generator_p_nom[NO onwind] + generator_p_nom[NO solar] + generator_p_nom[PL onwind] + generator_p_nom[PL solar] + generator_p_nom[SE onwind] + generator_p_nom[SE solar])\n"
     ]
    },
    {
     "name": "stdout",
     "output_type": "stream",
     "text": [
      "-0.292570889673848*(generator_p_nom[AT ocgt] + generator_p_nom[CH ocgt] + generator_p_nom[CZ ocgt] + generator_p_nom[DE ocgt] + generator_p_nom[DK ocgt] + generator_p_nom[NL ocgt] + generator_p_nom[NO ocgt] + generator_p_nom[PL ocgt] + generator_p_nom[SE ocgt]) - 0.956243836328085*(generator_p_nom[AT onwind] + generator_p_nom[AT solar] + generator_p_nom[CH onwind] + generator_p_nom[CH solar] + generator_p_nom[CZ onwind] + generator_p_nom[CZ solar] + generator_p_nom[DE onwind] + generator_p_nom[DE solar] + generator_p_nom[DK onwind] + generator_p_nom[DK solar] + generator_p_nom[NL onwind] + generator_p_nom[NL solar] + generator_p_nom[NO onwind] + generator_p_nom[NO solar] + generator_p_nom[PL onwind] + generator_p_nom[PL solar] + generator_p_nom[SE onwind] + generator_p_nom[SE solar])\n",
      "0.9636968046746268*(generator_p_nom[AT ocgt] + generator_p_nom[CH ocgt] + generator_p_nom[CZ ocgt] + generator_p_nom[DE ocgt] + generator_p_nom[DK ocgt] + generator_p_nom[NL ocgt] + generator_p_nom[NO ocgt] + generator_p_nom[PL ocgt] + generator_p_nom[SE ocgt]) - 0.2669990049792584*(generator_p_nom[AT onwind] + generator_p_nom[AT solar] + generator_p_nom[CH onwind] + generator_p_nom[CH solar] + generator_p_nom[CZ onwind] + generator_p_nom[CZ solar] + generator_p_nom[DE onwind] + generator_p_nom[DE solar] + generator_p_nom[DK onwind] + generator_p_nom[DK solar] + generator_p_nom[NL onwind] + generator_p_nom[NL solar] + generator_p_nom[NO onwind] + generator_p_nom[NO solar] + generator_p_nom[PL onwind] + generator_p_nom[PL solar] + generator_p_nom[SE onwind] + generator_p_nom[SE solar])\n",
      "0.16818527603072825*(generator_p_nom[AT ocgt] + generator_p_nom[CH ocgt] + generator_p_nom[CZ ocgt] + generator_p_nom[DE ocgt] + generator_p_nom[DK ocgt] + generator_p_nom[NL ocgt] + generator_p_nom[NO ocgt] + generator_p_nom[PL ocgt] + generator_p_nom[SE ocgt]) - 0.9857554021797028*(generator_p_nom[AT onwind] + generator_p_nom[AT solar] + generator_p_nom[CH onwind] + generator_p_nom[CH solar] + generator_p_nom[CZ onwind] + generator_p_nom[CZ solar] + generator_p_nom[DE onwind] + generator_p_nom[DE solar] + generator_p_nom[DK onwind] + generator_p_nom[DK solar] + generator_p_nom[NL onwind] + generator_p_nom[NL solar] + generator_p_nom[NO onwind] + generator_p_nom[NO solar] + generator_p_nom[PL onwind] + generator_p_nom[PL solar] + generator_p_nom[SE onwind] + generator_p_nom[SE solar])\n",
      "0.08432383980534486\n",
      "-0.9339211734602533*(generator_p_nom[AT ocgt] + generator_p_nom[CH ocgt] + generator_p_nom[CZ ocgt] + generator_p_nom[DE ocgt] + generator_p_nom[DK ocgt] + generator_p_nom[NL ocgt] + generator_p_nom[NO ocgt] + generator_p_nom[PL ocgt] + generator_p_nom[SE ocgt]) - 0.3574790088419508*(generator_p_nom[AT onwind] + generator_p_nom[AT solar] + generator_p_nom[CH onwind] + generator_p_nom[CH solar] + generator_p_nom[CZ onwind] + generator_p_nom[CZ solar] + generator_p_nom[DE onwind] + generator_p_nom[DE solar] + generator_p_nom[DK onwind] + generator_p_nom[DK solar] + generator_p_nom[NL onwind] + generator_p_nom[NL solar] + generator_p_nom[NO onwind] + generator_p_nom[NO solar] + generator_p_nom[PL onwind] + generator_p_nom[PL solar] + generator_p_nom[SE onwind] + generator_p_nom[SE solar])\n",
      "-0.9950070931666166*(generator_p_nom[AT ocgt] + generator_p_nom[CH ocgt] + generator_p_nom[CZ ocgt] + generator_p_nom[DE ocgt] + generator_p_nom[DK ocgt] + generator_p_nom[NL ocgt] + generator_p_nom[NO ocgt] + generator_p_nom[PL ocgt] + generator_p_nom[SE ocgt]) + 0.09980423111331405*(generator_p_nom[AT onwind] + generator_p_nom[AT solar] + generator_p_nom[CH onwind] + generator_p_nom[CH solar] + generator_p_nom[CZ onwind] + generator_p_nom[CZ solar] + generator_p_nom[DE onwind] + generator_p_nom[DE solar] + generator_p_nom[DK onwind] + generator_p_nom[DK solar] + generator_p_nom[NL onwind] + generator_p_nom[NL solar] + generator_p_nom[NO onwind] + generator_p_nom[NO solar] + generator_p_nom[PL onwind] + generator_p_nom[PL solar] + generator_p_nom[SE onwind] + generator_p_nom[SE solar])\n",
      "-0.8304279429051441*(generator_p_nom[AT ocgt] + generator_p_nom[CH ocgt] + generator_p_nom[CZ ocgt] + generator_p_nom[DE ocgt] + generator_p_nom[DK ocgt] + generator_p_nom[NL ocgt] + generator_p_nom[NO ocgt] + generator_p_nom[PL ocgt] + generator_p_nom[SE ocgt]) + 0.557126046458367*(generator_p_nom[AT onwind] + generator_p_nom[AT solar] + generator_p_nom[CH onwind] + generator_p_nom[CH solar] + generator_p_nom[CZ onwind] + generator_p_nom[CZ solar] + generator_p_nom[DE onwind] + generator_p_nom[DE solar] + generator_p_nom[DK onwind] + generator_p_nom[DK solar] + generator_p_nom[NL onwind] + generator_p_nom[NL solar] + generator_p_nom[NO onwind] + generator_p_nom[NO solar] + generator_p_nom[PL onwind] + generator_p_nom[PL solar] + generator_p_nom[SE onwind] + generator_p_nom[SE solar])\n",
      "-0.11850586870260456*(generator_p_nom[AT ocgt] + generator_p_nom[CH ocgt] + generator_p_nom[CZ ocgt] + generator_p_nom[DE ocgt] + generator_p_nom[DK ocgt] + generator_p_nom[NL ocgt] + generator_p_nom[NO ocgt] + generator_p_nom[PL ocgt] + generator_p_nom[SE ocgt]) + 0.9929533519169171*(generator_p_nom[AT onwind] + generator_p_nom[AT solar] + generator_p_nom[CH onwind] + generator_p_nom[CH solar] + generator_p_nom[CZ onwind] + generator_p_nom[CZ solar] + generator_p_nom[DE onwind] + generator_p_nom[DE solar] + generator_p_nom[DK onwind] + generator_p_nom[DK solar] + generator_p_nom[NL onwind] + generator_p_nom[NL solar] + generator_p_nom[NO onwind] + generator_p_nom[NO solar] + generator_p_nom[PL onwind] + generator_p_nom[PL solar] + generator_p_nom[SE onwind] + generator_p_nom[SE solar])\n",
      "-0.23728331891765325*(generator_p_nom[AT ocgt] + generator_p_nom[CH ocgt] + generator_p_nom[CZ ocgt] + generator_p_nom[DE ocgt] + generator_p_nom[DK ocgt] + generator_p_nom[NL ocgt] + generator_p_nom[NO ocgt] + generator_p_nom[PL ocgt] + generator_p_nom[SE ocgt]) + 0.9714404904899854*(generator_p_nom[AT onwind] + generator_p_nom[AT solar] + generator_p_nom[CH onwind] + generator_p_nom[CH solar] + generator_p_nom[CZ onwind] + generator_p_nom[CZ solar] + generator_p_nom[DE onwind] + generator_p_nom[DE solar] + generator_p_nom[DK onwind] + generator_p_nom[DK solar] + generator_p_nom[NL onwind] + generator_p_nom[NL solar] + generator_p_nom[NO onwind] + generator_p_nom[NO solar] + generator_p_nom[PL onwind] + generator_p_nom[PL solar] + generator_p_nom[SE onwind] + generator_p_nom[SE solar])\n",
      "0.9782149348248751*(generator_p_nom[AT ocgt] + generator_p_nom[CH ocgt] + generator_p_nom[CZ ocgt] + generator_p_nom[DE ocgt] + generator_p_nom[DK ocgt] + generator_p_nom[NL ocgt] + generator_p_nom[NO ocgt] + generator_p_nom[PL ocgt] + generator_p_nom[SE ocgt]) + 0.20759465620666961*(generator_p_nom[AT onwind] + generator_p_nom[AT solar] + generator_p_nom[CH onwind] + generator_p_nom[CH solar] + generator_p_nom[CZ onwind] + generator_p_nom[CZ solar] + generator_p_nom[DE onwind] + generator_p_nom[DE solar] + generator_p_nom[DK onwind] + generator_p_nom[DK solar] + generator_p_nom[NL onwind] + generator_p_nom[NL solar] + generator_p_nom[NO onwind] + generator_p_nom[NO solar] + generator_p_nom[PL onwind] + generator_p_nom[PL solar] + generator_p_nom[SE onwind] + generator_p_nom[SE solar])\n",
      "0.7655865600143751*(generator_p_nom[AT ocgt] + generator_p_nom[CH ocgt] + generator_p_nom[CZ ocgt] + generator_p_nom[DE ocgt] + generator_p_nom[DK ocgt] + generator_p_nom[NL ocgt] + generator_p_nom[NO ocgt] + generator_p_nom[PL ocgt] + generator_p_nom[SE ocgt]) + 0.6433328991473666*(generator_p_nom[AT onwind] + generator_p_nom[AT solar] + generator_p_nom[CH onwind] + generator_p_nom[CH solar] + generator_p_nom[CZ onwind] + generator_p_nom[CZ solar] + generator_p_nom[DE onwind] + generator_p_nom[DE solar] + generator_p_nom[DK onwind] + generator_p_nom[DK solar] + generator_p_nom[NL onwind] + generator_p_nom[NL solar] + generator_p_nom[NO onwind] + generator_p_nom[NO solar] + generator_p_nom[PL onwind] + generator_p_nom[PL solar] + generator_p_nom[SE onwind] + generator_p_nom[SE solar])\n",
      "0.0782699477363334*(generator_p_nom[AT ocgt] + generator_p_nom[CH ocgt] + generator_p_nom[CZ ocgt] + generator_p_nom[DE ocgt] + generator_p_nom[DK ocgt] + generator_p_nom[NL ocgt] + generator_p_nom[NO ocgt] + generator_p_nom[PL ocgt] + generator_p_nom[SE ocgt]) + 0.9969322019482327*(generator_p_nom[AT onwind] + generator_p_nom[AT solar] + generator_p_nom[CH onwind] + generator_p_nom[CH solar] + generator_p_nom[CZ onwind] + generator_p_nom[CZ solar] + generator_p_nom[DE onwind] + generator_p_nom[DE solar] + generator_p_nom[DK onwind] + generator_p_nom[DK solar] + generator_p_nom[NL onwind] + generator_p_nom[NL solar] + generator_p_nom[NO onwind] + generator_p_nom[NO solar] + generator_p_nom[PL onwind] + generator_p_nom[PL solar] + generator_p_nom[SE onwind] + generator_p_nom[SE solar])\n"
     ]
    },
    {
     "name": "stdout",
     "output_type": "stream",
     "text": [
      "0.5863262846870927*(generator_p_nom[AT ocgt] + generator_p_nom[CH ocgt] + generator_p_nom[CZ ocgt] + generator_p_nom[DE ocgt] + generator_p_nom[DK ocgt] + generator_p_nom[NL ocgt] + generator_p_nom[NO ocgt] + generator_p_nom[PL ocgt] + generator_p_nom[SE ocgt]) + 0.8100749890504153*(generator_p_nom[AT onwind] + generator_p_nom[AT solar] + generator_p_nom[CH onwind] + generator_p_nom[CH solar] + generator_p_nom[CZ onwind] + generator_p_nom[CZ solar] + generator_p_nom[DE onwind] + generator_p_nom[DE solar] + generator_p_nom[DK onwind] + generator_p_nom[DK solar] + generator_p_nom[NL onwind] + generator_p_nom[NL solar] + generator_p_nom[NO onwind] + generator_p_nom[NO solar] + generator_p_nom[PL onwind] + generator_p_nom[PL solar] + generator_p_nom[SE onwind] + generator_p_nom[SE solar])\n",
      "-0.5852108437514766*(generator_p_nom[AT ocgt] + generator_p_nom[CH ocgt] + generator_p_nom[CZ ocgt] + generator_p_nom[DE ocgt] + generator_p_nom[DK ocgt] + generator_p_nom[NL ocgt] + generator_p_nom[NO ocgt] + generator_p_nom[PL ocgt] + generator_p_nom[SE ocgt]) - 0.8108811678388423*(generator_p_nom[AT onwind] + generator_p_nom[AT solar] + generator_p_nom[CH onwind] + generator_p_nom[CH solar] + generator_p_nom[CZ onwind] + generator_p_nom[CZ solar] + generator_p_nom[DE onwind] + generator_p_nom[DE solar] + generator_p_nom[DK onwind] + generator_p_nom[DK solar] + generator_p_nom[NL onwind] + generator_p_nom[NL solar] + generator_p_nom[NO onwind] + generator_p_nom[NO solar] + generator_p_nom[PL onwind] + generator_p_nom[PL solar] + generator_p_nom[SE onwind] + generator_p_nom[SE solar])\n",
      "-0.7324742551085218*(generator_p_nom[AT ocgt] + generator_p_nom[CH ocgt] + generator_p_nom[CZ ocgt] + generator_p_nom[DE ocgt] + generator_p_nom[DK ocgt] + generator_p_nom[NL ocgt] + generator_p_nom[NO ocgt] + generator_p_nom[PL ocgt] + generator_p_nom[SE ocgt]) - 0.6807947308867895*(generator_p_nom[AT onwind] + generator_p_nom[AT solar] + generator_p_nom[CH onwind] + generator_p_nom[CH solar] + generator_p_nom[CZ onwind] + generator_p_nom[CZ solar] + generator_p_nom[DE onwind] + generator_p_nom[DE solar] + generator_p_nom[DK onwind] + generator_p_nom[DK solar] + generator_p_nom[NL onwind] + generator_p_nom[NL solar] + generator_p_nom[NO onwind] + generator_p_nom[NO solar] + generator_p_nom[PL onwind] + generator_p_nom[PL solar] + generator_p_nom[SE onwind] + generator_p_nom[SE solar])\n",
      "0.5238950574118943*(generator_p_nom[AT ocgt] + generator_p_nom[CH ocgt] + generator_p_nom[CZ ocgt] + generator_p_nom[DE ocgt] + generator_p_nom[DK ocgt] + generator_p_nom[NL ocgt] + generator_p_nom[NO ocgt] + generator_p_nom[PL ocgt] + generator_p_nom[SE ocgt]) - 0.8517828178704874*(generator_p_nom[AT onwind] + generator_p_nom[AT solar] + generator_p_nom[CH onwind] + generator_p_nom[CH solar] + generator_p_nom[CZ onwind] + generator_p_nom[CZ solar] + generator_p_nom[DE onwind] + generator_p_nom[DE solar] + generator_p_nom[DK onwind] + generator_p_nom[DK solar] + generator_p_nom[NL onwind] + generator_p_nom[NL solar] + generator_p_nom[NO onwind] + generator_p_nom[NO solar] + generator_p_nom[PL onwind] + generator_p_nom[PL solar] + generator_p_nom[SE onwind] + generator_p_nom[SE solar])\n",
      "-0.07822159240712549*(generator_p_nom[AT ocgt] + generator_p_nom[CH ocgt] + generator_p_nom[CZ ocgt] + generator_p_nom[DE ocgt] + generator_p_nom[DK ocgt] + generator_p_nom[NL ocgt] + generator_p_nom[NO ocgt] + generator_p_nom[PL ocgt] + generator_p_nom[SE ocgt]) - 0.9969359971840186*(generator_p_nom[AT onwind] + generator_p_nom[AT solar] + generator_p_nom[CH onwind] + generator_p_nom[CH solar] + generator_p_nom[CZ onwind] + generator_p_nom[CZ solar] + generator_p_nom[DE onwind] + generator_p_nom[DE solar] + generator_p_nom[DK onwind] + generator_p_nom[DK solar] + generator_p_nom[NL onwind] + generator_p_nom[NL solar] + generator_p_nom[NO onwind] + generator_p_nom[NO solar] + generator_p_nom[PL onwind] + generator_p_nom[PL solar] + generator_p_nom[SE onwind] + generator_p_nom[SE solar])\n",
      "8.892602857575456e-16*(generator_p_nom[AT ocgt] + generator_p_nom[CH ocgt] + generator_p_nom[CZ ocgt] + generator_p_nom[DE ocgt] + generator_p_nom[DK ocgt] + generator_p_nom[NL ocgt] + generator_p_nom[NO ocgt] + generator_p_nom[PL ocgt] + generator_p_nom[SE ocgt]) - (generator_p_nom[AT onwind] + generator_p_nom[AT solar] + generator_p_nom[CH onwind] + generator_p_nom[CH solar] + generator_p_nom[CZ onwind] + generator_p_nom[CZ solar] + generator_p_nom[DE onwind] + generator_p_nom[DE solar] + generator_p_nom[DK onwind] + generator_p_nom[DK solar] + generator_p_nom[NL onwind] + generator_p_nom[NL solar] + generator_p_nom[NO onwind] + generator_p_nom[NO solar] + generator_p_nom[PL onwind] + generator_p_nom[PL solar] + generator_p_nom[SE onwind] + generator_p_nom[SE solar])\n",
      "0.9968028988961307*(generator_p_nom[AT ocgt] + generator_p_nom[CH ocgt] + generator_p_nom[CZ ocgt] + generator_p_nom[DE ocgt] + generator_p_nom[DK ocgt] + generator_p_nom[NL ocgt] + generator_p_nom[NO ocgt] + generator_p_nom[PL ocgt] + generator_p_nom[SE ocgt]) - 0.0798998169726967*(generator_p_nom[AT onwind] + generator_p_nom[AT solar] + generator_p_nom[CH onwind] + generator_p_nom[CH solar] + generator_p_nom[CZ onwind] + generator_p_nom[CZ solar] + generator_p_nom[DE onwind] + generator_p_nom[DE solar] + generator_p_nom[DK onwind] + generator_p_nom[DK solar] + generator_p_nom[NL onwind] + generator_p_nom[NL solar] + generator_p_nom[NO onwind] + generator_p_nom[NO solar] + generator_p_nom[PL onwind] + generator_p_nom[PL solar] + generator_p_nom[SE onwind] + generator_p_nom[SE solar])\n",
      "0.9128522199482025*(generator_p_nom[AT ocgt] + generator_p_nom[CH ocgt] + generator_p_nom[CZ ocgt] + generator_p_nom[DE ocgt] + generator_p_nom[DK ocgt] + generator_p_nom[NL ocgt] + generator_p_nom[NO ocgt] + generator_p_nom[PL ocgt] + generator_p_nom[SE ocgt]) - 0.4082901229954485*(generator_p_nom[AT onwind] + generator_p_nom[AT solar] + generator_p_nom[CH onwind] + generator_p_nom[CH solar] + generator_p_nom[CZ onwind] + generator_p_nom[CZ solar] + generator_p_nom[DE onwind] + generator_p_nom[DE solar] + generator_p_nom[DK onwind] + generator_p_nom[DK solar] + generator_p_nom[NL onwind] + generator_p_nom[NL solar] + generator_p_nom[NO onwind] + generator_p_nom[NO solar] + generator_p_nom[PL onwind] + generator_p_nom[PL solar] + generator_p_nom[SE onwind] + generator_p_nom[SE solar])\n",
      "0.013228328462304336\n",
      "-5.424680629449985e-16*(generator_p_nom[AT ocgt] + generator_p_nom[CH ocgt] + generator_p_nom[CZ ocgt] + generator_p_nom[DE ocgt] + generator_p_nom[DK ocgt] + generator_p_nom[NL ocgt] + generator_p_nom[NO ocgt] + generator_p_nom[PL ocgt] + generator_p_nom[SE ocgt]) - (generator_p_nom[AT onwind] + generator_p_nom[AT solar] + generator_p_nom[CH onwind] + generator_p_nom[CH solar] + generator_p_nom[CZ onwind] + generator_p_nom[CZ solar] + generator_p_nom[DE onwind] + generator_p_nom[DE solar] + generator_p_nom[DK onwind] + generator_p_nom[DK solar] + generator_p_nom[NL onwind] + generator_p_nom[NL solar] + generator_p_nom[NO onwind] + generator_p_nom[NO solar] + generator_p_nom[PL onwind] + generator_p_nom[PL solar] + generator_p_nom[SE onwind] + generator_p_nom[SE solar])\n",
      "-0.11850586870260456*(generator_p_nom[AT ocgt] + generator_p_nom[CH ocgt] + generator_p_nom[CZ ocgt] + generator_p_nom[DE ocgt] + generator_p_nom[DK ocgt] + generator_p_nom[NL ocgt] + generator_p_nom[NO ocgt] + generator_p_nom[PL ocgt] + generator_p_nom[SE ocgt]) + 0.9929533519169171*(generator_p_nom[AT onwind] + generator_p_nom[AT solar] + generator_p_nom[CH onwind] + generator_p_nom[CH solar] + generator_p_nom[CZ onwind] + generator_p_nom[CZ solar] + generator_p_nom[DE onwind] + generator_p_nom[DE solar] + generator_p_nom[DK onwind] + generator_p_nom[DK solar] + generator_p_nom[NL onwind] + generator_p_nom[NL solar] + generator_p_nom[NO onwind] + generator_p_nom[NO solar] + generator_p_nom[PL onwind] + generator_p_nom[PL solar] + generator_p_nom[SE onwind] + generator_p_nom[SE solar])\n",
      "0.9782149348248751*(generator_p_nom[AT ocgt] + generator_p_nom[CH ocgt] + generator_p_nom[CZ ocgt] + generator_p_nom[DE ocgt] + generator_p_nom[DK ocgt] + generator_p_nom[NL ocgt] + generator_p_nom[NO ocgt] + generator_p_nom[PL ocgt] + generator_p_nom[SE ocgt]) + 0.20759465620666961*(generator_p_nom[AT onwind] + generator_p_nom[AT solar] + generator_p_nom[CH onwind] + generator_p_nom[CH solar] + generator_p_nom[CZ onwind] + generator_p_nom[CZ solar] + generator_p_nom[DE onwind] + generator_p_nom[DE solar] + generator_p_nom[DK onwind] + generator_p_nom[DK solar] + generator_p_nom[NL onwind] + generator_p_nom[NL solar] + generator_p_nom[NO onwind] + generator_p_nom[NO solar] + generator_p_nom[PL onwind] + generator_p_nom[PL solar] + generator_p_nom[SE onwind] + generator_p_nom[SE solar])\n"
     ]
    },
    {
     "name": "stdout",
     "output_type": "stream",
     "text": [
      "-0.9944419549329425*(generator_p_nom[AT ocgt] + generator_p_nom[CH ocgt] + generator_p_nom[CZ ocgt] + generator_p_nom[DE ocgt] + generator_p_nom[DK ocgt] + generator_p_nom[NL ocgt] + generator_p_nom[NO ocgt] + generator_p_nom[PL ocgt] + generator_p_nom[SE ocgt]) - 0.10528626818891271*(generator_p_nom[AT onwind] + generator_p_nom[AT solar] + generator_p_nom[CH onwind] + generator_p_nom[CH solar] + generator_p_nom[CZ onwind] + generator_p_nom[CZ solar] + generator_p_nom[DE onwind] + generator_p_nom[DE solar] + generator_p_nom[DK onwind] + generator_p_nom[DK solar] + generator_p_nom[NL onwind] + generator_p_nom[NL solar] + generator_p_nom[NO onwind] + generator_p_nom[NO solar] + generator_p_nom[PL onwind] + generator_p_nom[PL solar] + generator_p_nom[SE onwind] + generator_p_nom[SE solar])\n",
      "-0.9248894107070599*(generator_p_nom[AT ocgt] + generator_p_nom[CH ocgt] + generator_p_nom[CZ ocgt] + generator_p_nom[DE ocgt] + generator_p_nom[DK ocgt] + generator_p_nom[NL ocgt] + generator_p_nom[NO ocgt] + generator_p_nom[PL ocgt] + generator_p_nom[SE ocgt]) - 0.38023621337524866*(generator_p_nom[AT onwind] + generator_p_nom[AT solar] + generator_p_nom[CH onwind] + generator_p_nom[CH solar] + generator_p_nom[CZ onwind] + generator_p_nom[CZ solar] + generator_p_nom[DE onwind] + generator_p_nom[DE solar] + generator_p_nom[DK onwind] + generator_p_nom[DK solar] + generator_p_nom[NL onwind] + generator_p_nom[NL solar] + generator_p_nom[NO onwind] + generator_p_nom[NO solar] + generator_p_nom[PL onwind] + generator_p_nom[PL solar] + generator_p_nom[SE onwind] + generator_p_nom[SE solar])\n",
      "0.5238950464618242*(generator_p_nom[AT ocgt] + generator_p_nom[CH ocgt] + generator_p_nom[CZ ocgt] + generator_p_nom[DE ocgt] + generator_p_nom[DK ocgt] + generator_p_nom[NL ocgt] + generator_p_nom[NO ocgt] + generator_p_nom[PL ocgt] + generator_p_nom[SE ocgt]) - 0.8517828246054056*(generator_p_nom[AT onwind] + generator_p_nom[AT solar] + generator_p_nom[CH onwind] + generator_p_nom[CH solar] + generator_p_nom[CZ onwind] + generator_p_nom[CZ solar] + generator_p_nom[DE onwind] + generator_p_nom[DE solar] + generator_p_nom[DK onwind] + generator_p_nom[DK solar] + generator_p_nom[NL onwind] + generator_p_nom[NL solar] + generator_p_nom[NO onwind] + generator_p_nom[NO solar] + generator_p_nom[PL onwind] + generator_p_nom[PL solar] + generator_p_nom[SE onwind] + generator_p_nom[SE solar])\n",
      "-0.9987592479015139*(generator_p_nom[AT ocgt] + generator_p_nom[CH ocgt] + generator_p_nom[CZ ocgt] + generator_p_nom[DE ocgt] + generator_p_nom[DK ocgt] + generator_p_nom[NL ocgt] + generator_p_nom[NO ocgt] + generator_p_nom[PL ocgt] + generator_p_nom[SE ocgt]) + 0.04979924428344321*(generator_p_nom[AT onwind] + generator_p_nom[AT solar] + generator_p_nom[CH onwind] + generator_p_nom[CH solar] + generator_p_nom[CZ onwind] + generator_p_nom[CZ solar] + generator_p_nom[DE onwind] + generator_p_nom[DE solar] + generator_p_nom[DK onwind] + generator_p_nom[DK solar] + generator_p_nom[NL onwind] + generator_p_nom[NL solar] + generator_p_nom[NO onwind] + generator_p_nom[NO solar] + generator_p_nom[PL onwind] + generator_p_nom[PL solar] + generator_p_nom[SE onwind] + generator_p_nom[SE solar])\n",
      "-0.9925670849272483*(generator_p_nom[AT ocgt] + generator_p_nom[CH ocgt] + generator_p_nom[CZ ocgt] + generator_p_nom[DE ocgt] + generator_p_nom[DK ocgt] + generator_p_nom[NL ocgt] + generator_p_nom[NO ocgt] + generator_p_nom[PL ocgt] + generator_p_nom[SE ocgt]) + 0.12169873425399494*(generator_p_nom[AT onwind] + generator_p_nom[AT solar] + generator_p_nom[CH onwind] + generator_p_nom[CH solar] + generator_p_nom[CZ onwind] + generator_p_nom[CZ solar] + generator_p_nom[DE onwind] + generator_p_nom[DE solar] + generator_p_nom[DK onwind] + generator_p_nom[DK solar] + generator_p_nom[NL onwind] + generator_p_nom[NL solar] + generator_p_nom[NO onwind] + generator_p_nom[NO solar] + generator_p_nom[PL onwind] + generator_p_nom[PL solar] + generator_p_nom[SE onwind] + generator_p_nom[SE solar])\n",
      "-0.8514040781947874*(generator_p_nom[AT ocgt] + generator_p_nom[CH ocgt] + generator_p_nom[CZ ocgt] + generator_p_nom[DE ocgt] + generator_p_nom[DK ocgt] + generator_p_nom[NL ocgt] + generator_p_nom[NO ocgt] + generator_p_nom[PL ocgt] + generator_p_nom[SE ocgt]) + 0.5245103389193433*(generator_p_nom[AT onwind] + generator_p_nom[AT solar] + generator_p_nom[CH onwind] + generator_p_nom[CH solar] + generator_p_nom[CZ onwind] + generator_p_nom[CZ solar] + generator_p_nom[DE onwind] + generator_p_nom[DE solar] + generator_p_nom[DK onwind] + generator_p_nom[DK solar] + generator_p_nom[NL onwind] + generator_p_nom[NL solar] + generator_p_nom[NO onwind] + generator_p_nom[NO solar] + generator_p_nom[PL onwind] + generator_p_nom[PL solar] + generator_p_nom[SE onwind] + generator_p_nom[SE solar])\n",
      "-0.9430441716831247*(generator_p_nom[AT ocgt] + generator_p_nom[CH ocgt] + generator_p_nom[CZ ocgt] + generator_p_nom[DE ocgt] + generator_p_nom[DK ocgt] + generator_p_nom[NL ocgt] + generator_p_nom[NO ocgt] + generator_p_nom[PL ocgt] + generator_p_nom[SE ocgt]) + 0.3326675371215072*(generator_p_nom[AT onwind] + generator_p_nom[AT solar] + generator_p_nom[CH onwind] + generator_p_nom[CH solar] + generator_p_nom[CZ onwind] + generator_p_nom[CZ solar] + generator_p_nom[DE onwind] + generator_p_nom[DE solar] + generator_p_nom[DK onwind] + generator_p_nom[DK solar] + generator_p_nom[NL onwind] + generator_p_nom[NL solar] + generator_p_nom[NO onwind] + generator_p_nom[NO solar] + generator_p_nom[PL onwind] + generator_p_nom[PL solar] + generator_p_nom[SE onwind] + generator_p_nom[SE solar])\n",
      "-0.3542740322923152*(generator_p_nom[AT ocgt] + generator_p_nom[CH ocgt] + generator_p_nom[CZ ocgt] + generator_p_nom[DE ocgt] + generator_p_nom[DK ocgt] + generator_p_nom[NL ocgt] + generator_p_nom[NO ocgt] + generator_p_nom[PL ocgt] + generator_p_nom[SE ocgt]) + 0.9351416523946218*(generator_p_nom[AT onwind] + generator_p_nom[AT solar] + generator_p_nom[CH onwind] + generator_p_nom[CH solar] + generator_p_nom[CZ onwind] + generator_p_nom[CZ solar] + generator_p_nom[DE onwind] + generator_p_nom[DE solar] + generator_p_nom[DK onwind] + generator_p_nom[DK solar] + generator_p_nom[NL onwind] + generator_p_nom[NL solar] + generator_p_nom[NO onwind] + generator_p_nom[NO solar] + generator_p_nom[PL onwind] + generator_p_nom[PL solar] + generator_p_nom[SE onwind] + generator_p_nom[SE solar])\n",
      "-0.23728331891765325*(generator_p_nom[AT ocgt] + generator_p_nom[CH ocgt] + generator_p_nom[CZ ocgt] + generator_p_nom[DE ocgt] + generator_p_nom[DK ocgt] + generator_p_nom[NL ocgt] + generator_p_nom[NO ocgt] + generator_p_nom[PL ocgt] + generator_p_nom[SE ocgt]) + 0.9714404904899854*(generator_p_nom[AT onwind] + generator_p_nom[AT solar] + generator_p_nom[CH onwind] + generator_p_nom[CH solar] + generator_p_nom[CZ onwind] + generator_p_nom[CZ solar] + generator_p_nom[DE onwind] + generator_p_nom[DE solar] + generator_p_nom[DK onwind] + generator_p_nom[DK solar] + generator_p_nom[NL onwind] + generator_p_nom[NL solar] + generator_p_nom[NO onwind] + generator_p_nom[NO solar] + generator_p_nom[PL onwind] + generator_p_nom[PL solar] + generator_p_nom[SE onwind] + generator_p_nom[SE solar])\n",
      "0.6966677349127375*(generator_p_nom[AT ocgt] + generator_p_nom[CH ocgt] + generator_p_nom[CZ ocgt] + generator_p_nom[DE ocgt] + generator_p_nom[DK ocgt] + generator_p_nom[NL ocgt] + generator_p_nom[NO ocgt] + generator_p_nom[PL ocgt] + generator_p_nom[SE ocgt]) + 0.7173939413819688*(generator_p_nom[AT onwind] + generator_p_nom[AT solar] + generator_p_nom[CH onwind] + generator_p_nom[CH solar] + generator_p_nom[CZ onwind] + generator_p_nom[CZ solar] + generator_p_nom[DE onwind] + generator_p_nom[DE solar] + generator_p_nom[DK onwind] + generator_p_nom[DK solar] + generator_p_nom[NL onwind] + generator_p_nom[NL solar] + generator_p_nom[NO onwind] + generator_p_nom[NO solar] + generator_p_nom[PL onwind] + generator_p_nom[PL solar] + generator_p_nom[SE onwind] + generator_p_nom[SE solar])\n",
      "0.7694076959391414*(generator_p_nom[AT ocgt] + generator_p_nom[CH ocgt] + generator_p_nom[CZ ocgt] + generator_p_nom[DE ocgt] + generator_p_nom[DK ocgt] + generator_p_nom[NL ocgt] + generator_p_nom[NO ocgt] + generator_p_nom[PL ocgt] + generator_p_nom[SE ocgt]) + 0.6387580116363486*(generator_p_nom[AT onwind] + generator_p_nom[AT solar] + generator_p_nom[CH onwind] + generator_p_nom[CH solar] + generator_p_nom[CZ onwind] + generator_p_nom[CZ solar] + generator_p_nom[DE onwind] + generator_p_nom[DE solar] + generator_p_nom[DK onwind] + generator_p_nom[DK solar] + generator_p_nom[NL onwind] + generator_p_nom[NL solar] + generator_p_nom[NO onwind] + generator_p_nom[NO solar] + generator_p_nom[PL onwind] + generator_p_nom[PL solar] + generator_p_nom[SE onwind] + generator_p_nom[SE solar])\n"
     ]
    },
    {
     "name": "stdout",
     "output_type": "stream",
     "text": [
      "0.04500974636081048*(generator_p_nom[AT ocgt] + generator_p_nom[CH ocgt] + generator_p_nom[CZ ocgt] + generator_p_nom[DE ocgt] + generator_p_nom[DK ocgt] + generator_p_nom[NL ocgt] + generator_p_nom[NO ocgt] + generator_p_nom[PL ocgt] + generator_p_nom[SE ocgt]) + 0.9989865478236108*(generator_p_nom[AT onwind] + generator_p_nom[AT solar] + generator_p_nom[CH onwind] + generator_p_nom[CH solar] + generator_p_nom[CZ onwind] + generator_p_nom[CZ solar] + generator_p_nom[DE onwind] + generator_p_nom[DE solar] + generator_p_nom[DK onwind] + generator_p_nom[DK solar] + generator_p_nom[NL onwind] + generator_p_nom[NL solar] + generator_p_nom[NO onwind] + generator_p_nom[NO solar] + generator_p_nom[PL onwind] + generator_p_nom[PL solar] + generator_p_nom[SE onwind] + generator_p_nom[SE solar])\n",
      "0.1292089516535194*(generator_p_nom[AT ocgt] + generator_p_nom[CH ocgt] + generator_p_nom[CZ ocgt] + generator_p_nom[DE ocgt] + generator_p_nom[DK ocgt] + generator_p_nom[NL ocgt] + generator_p_nom[NO ocgt] + generator_p_nom[PL ocgt] + generator_p_nom[SE ocgt]) + 0.9916173893254386*(generator_p_nom[AT onwind] + generator_p_nom[AT solar] + generator_p_nom[CH onwind] + generator_p_nom[CH solar] + generator_p_nom[CZ onwind] + generator_p_nom[CZ solar] + generator_p_nom[DE onwind] + generator_p_nom[DE solar] + generator_p_nom[DK onwind] + generator_p_nom[DK solar] + generator_p_nom[NL onwind] + generator_p_nom[NL solar] + generator_p_nom[NO onwind] + generator_p_nom[NO solar] + generator_p_nom[PL onwind] + generator_p_nom[PL solar] + generator_p_nom[SE onwind] + generator_p_nom[SE solar])\n",
      "0.6117090236699874*(generator_p_nom[AT ocgt] + generator_p_nom[CH ocgt] + generator_p_nom[CZ ocgt] + generator_p_nom[DE ocgt] + generator_p_nom[DK ocgt] + generator_p_nom[NL ocgt] + generator_p_nom[NO ocgt] + generator_p_nom[PL ocgt] + generator_p_nom[SE ocgt]) + 0.7910828467112093*(generator_p_nom[AT onwind] + generator_p_nom[AT solar] + generator_p_nom[CH onwind] + generator_p_nom[CH solar] + generator_p_nom[CZ onwind] + generator_p_nom[CZ solar] + generator_p_nom[DE onwind] + generator_p_nom[DE solar] + generator_p_nom[DK onwind] + generator_p_nom[DK solar] + generator_p_nom[NL onwind] + generator_p_nom[NL solar] + generator_p_nom[NO onwind] + generator_p_nom[NO solar] + generator_p_nom[PL onwind] + generator_p_nom[PL solar] + generator_p_nom[SE onwind] + generator_p_nom[SE solar])\n",
      "0.569827422373084*(generator_p_nom[AT ocgt] + generator_p_nom[CH ocgt] + generator_p_nom[CZ ocgt] + generator_p_nom[DE ocgt] + generator_p_nom[DK ocgt] + generator_p_nom[NL ocgt] + generator_p_nom[NO ocgt] + generator_p_nom[PL ocgt] + generator_p_nom[SE ocgt]) + 0.8217643875902915*(generator_p_nom[AT onwind] + generator_p_nom[AT solar] + generator_p_nom[CH onwind] + generator_p_nom[CH solar] + generator_p_nom[CZ onwind] + generator_p_nom[CZ solar] + generator_p_nom[DE onwind] + generator_p_nom[DE solar] + generator_p_nom[DK onwind] + generator_p_nom[DK solar] + generator_p_nom[NL onwind] + generator_p_nom[NL solar] + generator_p_nom[NO onwind] + generator_p_nom[NO solar] + generator_p_nom[PL onwind] + generator_p_nom[PL solar] + generator_p_nom[SE onwind] + generator_p_nom[SE solar])\n",
      "-0.40782098152721685*(generator_p_nom[AT ocgt] + generator_p_nom[CH ocgt] + generator_p_nom[CZ ocgt] + generator_p_nom[DE ocgt] + generator_p_nom[DK ocgt] + generator_p_nom[NL ocgt] + generator_p_nom[NO ocgt] + generator_p_nom[PL ocgt] + generator_p_nom[SE ocgt]) - 0.9130619075540155*(generator_p_nom[AT onwind] + generator_p_nom[AT solar] + generator_p_nom[CH onwind] + generator_p_nom[CH solar] + generator_p_nom[CZ onwind] + generator_p_nom[CZ solar] + generator_p_nom[DE onwind] + generator_p_nom[DE solar] + generator_p_nom[DK onwind] + generator_p_nom[DK solar] + generator_p_nom[NL onwind] + generator_p_nom[NL solar] + generator_p_nom[NO onwind] + generator_p_nom[NO solar] + generator_p_nom[PL onwind] + generator_p_nom[PL solar] + generator_p_nom[SE onwind] + generator_p_nom[SE solar])\n",
      "-0.5827963875028569*(generator_p_nom[AT ocgt] + generator_p_nom[CH ocgt] + generator_p_nom[CZ ocgt] + generator_p_nom[DE ocgt] + generator_p_nom[DK ocgt] + generator_p_nom[NL ocgt] + generator_p_nom[NO ocgt] + generator_p_nom[PL ocgt] + generator_p_nom[SE ocgt]) - 0.8126182195309307*(generator_p_nom[AT onwind] + generator_p_nom[AT solar] + generator_p_nom[CH onwind] + generator_p_nom[CH solar] + generator_p_nom[CZ onwind] + generator_p_nom[CZ solar] + generator_p_nom[DE onwind] + generator_p_nom[DE solar] + generator_p_nom[DK onwind] + generator_p_nom[DK solar] + generator_p_nom[NL onwind] + generator_p_nom[NL solar] + generator_p_nom[NO onwind] + generator_p_nom[NO solar] + generator_p_nom[PL onwind] + generator_p_nom[PL solar] + generator_p_nom[SE onwind] + generator_p_nom[SE solar])\n",
      "-0.7324742551085207*(generator_p_nom[AT ocgt] + generator_p_nom[CH ocgt] + generator_p_nom[CZ ocgt] + generator_p_nom[DE ocgt] + generator_p_nom[DK ocgt] + generator_p_nom[NL ocgt] + generator_p_nom[NO ocgt] + generator_p_nom[PL ocgt] + generator_p_nom[SE ocgt]) - 0.6807947308867908*(generator_p_nom[AT onwind] + generator_p_nom[AT solar] + generator_p_nom[CH onwind] + generator_p_nom[CH solar] + generator_p_nom[CZ onwind] + generator_p_nom[CZ solar] + generator_p_nom[DE onwind] + generator_p_nom[DE solar] + generator_p_nom[DK onwind] + generator_p_nom[DK solar] + generator_p_nom[NL onwind] + generator_p_nom[NL solar] + generator_p_nom[NO onwind] + generator_p_nom[NO solar] + generator_p_nom[PL onwind] + generator_p_nom[PL solar] + generator_p_nom[SE onwind] + generator_p_nom[SE solar])\n",
      "-0.6107592376426543*(generator_p_nom[AT ocgt] + generator_p_nom[CH ocgt] + generator_p_nom[CZ ocgt] + generator_p_nom[DE ocgt] + generator_p_nom[DK ocgt] + generator_p_nom[NL ocgt] + generator_p_nom[NO ocgt] + generator_p_nom[PL ocgt] + generator_p_nom[SE ocgt]) - 0.7918163635807003*(generator_p_nom[AT onwind] + generator_p_nom[AT solar] + generator_p_nom[CH onwind] + generator_p_nom[CH solar] + generator_p_nom[CZ onwind] + generator_p_nom[CZ solar] + generator_p_nom[DE onwind] + generator_p_nom[DE solar] + generator_p_nom[DK onwind] + generator_p_nom[DK solar] + generator_p_nom[NL onwind] + generator_p_nom[NL solar] + generator_p_nom[NO onwind] + generator_p_nom[NO solar] + generator_p_nom[PL onwind] + generator_p_nom[PL solar] + generator_p_nom[SE onwind] + generator_p_nom[SE solar])\n",
      "0.9991770309683052*(generator_p_nom[AT ocgt] + generator_p_nom[CH ocgt] + generator_p_nom[CZ ocgt] + generator_p_nom[DE ocgt] + generator_p_nom[DK ocgt] + generator_p_nom[NL ocgt] + generator_p_nom[NO ocgt] + generator_p_nom[PL ocgt] + generator_p_nom[SE ocgt]) - 0.0405618143746322*(generator_p_nom[AT onwind] + generator_p_nom[AT solar] + generator_p_nom[CH onwind] + generator_p_nom[CH solar] + generator_p_nom[CZ onwind] + generator_p_nom[CZ solar] + generator_p_nom[DE onwind] + generator_p_nom[DE solar] + generator_p_nom[DK onwind] + generator_p_nom[DK solar] + generator_p_nom[NL onwind] + generator_p_nom[NL solar] + generator_p_nom[NO onwind] + generator_p_nom[NO solar] + generator_p_nom[PL onwind] + generator_p_nom[PL solar] + generator_p_nom[SE onwind] + generator_p_nom[SE solar])\n",
      "0.9128522560243743*(generator_p_nom[AT ocgt] + generator_p_nom[CH ocgt] + generator_p_nom[CZ ocgt] + generator_p_nom[DE ocgt] + generator_p_nom[DK ocgt] + generator_p_nom[NL ocgt] + generator_p_nom[NO ocgt] + generator_p_nom[PL ocgt] + generator_p_nom[SE ocgt]) - 0.40829004233658456*(generator_p_nom[AT onwind] + generator_p_nom[AT solar] + generator_p_nom[CH onwind] + generator_p_nom[CH solar] + generator_p_nom[CZ onwind] + generator_p_nom[CZ solar] + generator_p_nom[DE onwind] + generator_p_nom[DE solar] + generator_p_nom[DK onwind] + generator_p_nom[DK solar] + generator_p_nom[NL onwind] + generator_p_nom[NL solar] + generator_p_nom[NO onwind] + generator_p_nom[NO solar] + generator_p_nom[PL onwind] + generator_p_nom[PL solar] + generator_p_nom[SE onwind] + generator_p_nom[SE solar])\n",
      "0.9528592459315719*(generator_p_nom[AT ocgt] + generator_p_nom[CH ocgt] + generator_p_nom[CZ ocgt] + generator_p_nom[DE ocgt] + generator_p_nom[DK ocgt] + generator_p_nom[NL ocgt] + generator_p_nom[NO ocgt] + generator_p_nom[PL ocgt] + generator_p_nom[SE ocgt]) - 0.303412685039232*(generator_p_nom[AT onwind] + generator_p_nom[AT solar] + generator_p_nom[CH onwind] + generator_p_nom[CH solar] + generator_p_nom[CZ onwind] + generator_p_nom[CZ solar] + generator_p_nom[DE onwind] + generator_p_nom[DE solar] + generator_p_nom[DK onwind] + generator_p_nom[DK solar] + generator_p_nom[NL onwind] + generator_p_nom[NL solar] + generator_p_nom[NO onwind] + generator_p_nom[NO solar] + generator_p_nom[PL onwind] + generator_p_nom[PL solar] + generator_p_nom[SE onwind] + generator_p_nom[SE solar])\n"
     ]
    },
    {
     "name": "stdout",
     "output_type": "stream",
     "text": [
      "0.0013109716941292439\n",
      "-5.424680629449985e-16*(generator_p_nom[AT ocgt] + generator_p_nom[CH ocgt] + generator_p_nom[CZ ocgt] + generator_p_nom[DE ocgt] + generator_p_nom[DK ocgt] + generator_p_nom[NL ocgt] + generator_p_nom[NO ocgt] + generator_p_nom[PL ocgt] + generator_p_nom[SE ocgt]) - (generator_p_nom[AT onwind] + generator_p_nom[AT solar] + generator_p_nom[CH onwind] + generator_p_nom[CH solar] + generator_p_nom[CZ onwind] + generator_p_nom[CZ solar] + generator_p_nom[DE onwind] + generator_p_nom[DE solar] + generator_p_nom[DK onwind] + generator_p_nom[DK solar] + generator_p_nom[NL onwind] + generator_p_nom[NL solar] + generator_p_nom[NO onwind] + generator_p_nom[NO solar] + generator_p_nom[PL onwind] + generator_p_nom[PL solar] + generator_p_nom[SE onwind] + generator_p_nom[SE solar])\n",
      "-0.11850616949707116*(generator_p_nom[AT ocgt] + generator_p_nom[CH ocgt] + generator_p_nom[CZ ocgt] + generator_p_nom[DE ocgt] + generator_p_nom[DK ocgt] + generator_p_nom[NL ocgt] + generator_p_nom[NO ocgt] + generator_p_nom[PL ocgt] + generator_p_nom[SE ocgt]) + 0.9929533160179946*(generator_p_nom[AT onwind] + generator_p_nom[AT solar] + generator_p_nom[CH onwind] + generator_p_nom[CH solar] + generator_p_nom[CZ onwind] + generator_p_nom[CZ solar] + generator_p_nom[DE onwind] + generator_p_nom[DE solar] + generator_p_nom[DK onwind] + generator_p_nom[DK solar] + generator_p_nom[NL onwind] + generator_p_nom[NL solar] + generator_p_nom[NO onwind] + generator_p_nom[NO solar] + generator_p_nom[PL onwind] + generator_p_nom[PL solar] + generator_p_nom[SE onwind] + generator_p_nom[SE solar])\n",
      "-0.9944419549329425*(generator_p_nom[AT ocgt] + generator_p_nom[CH ocgt] + generator_p_nom[CZ ocgt] + generator_p_nom[DE ocgt] + generator_p_nom[DK ocgt] + generator_p_nom[NL ocgt] + generator_p_nom[NO ocgt] + generator_p_nom[PL ocgt] + generator_p_nom[SE ocgt]) - 0.10528626818891271*(generator_p_nom[AT onwind] + generator_p_nom[AT solar] + generator_p_nom[CH onwind] + generator_p_nom[CH solar] + generator_p_nom[CZ onwind] + generator_p_nom[CZ solar] + generator_p_nom[DE onwind] + generator_p_nom[DE solar] + generator_p_nom[DK onwind] + generator_p_nom[DK solar] + generator_p_nom[NL onwind] + generator_p_nom[NL solar] + generator_p_nom[NO onwind] + generator_p_nom[NO solar] + generator_p_nom[PL onwind] + generator_p_nom[PL solar] + generator_p_nom[SE onwind] + generator_p_nom[SE solar])\n",
      "-0.9248894107070599*(generator_p_nom[AT ocgt] + generator_p_nom[CH ocgt] + generator_p_nom[CZ ocgt] + generator_p_nom[DE ocgt] + generator_p_nom[DK ocgt] + generator_p_nom[NL ocgt] + generator_p_nom[NO ocgt] + generator_p_nom[PL ocgt] + generator_p_nom[SE ocgt]) - 0.38023621337524866*(generator_p_nom[AT onwind] + generator_p_nom[AT solar] + generator_p_nom[CH onwind] + generator_p_nom[CH solar] + generator_p_nom[CZ onwind] + generator_p_nom[CZ solar] + generator_p_nom[DE onwind] + generator_p_nom[DE solar] + generator_p_nom[DK onwind] + generator_p_nom[DK solar] + generator_p_nom[NL onwind] + generator_p_nom[NL solar] + generator_p_nom[NO onwind] + generator_p_nom[NO solar] + generator_p_nom[PL onwind] + generator_p_nom[PL solar] + generator_p_nom[SE onwind] + generator_p_nom[SE solar])\n",
      "-0.8514040954093769*(generator_p_nom[AT ocgt] + generator_p_nom[CH ocgt] + generator_p_nom[CZ ocgt] + generator_p_nom[DE ocgt] + generator_p_nom[DK ocgt] + generator_p_nom[NL ocgt] + generator_p_nom[NO ocgt] + generator_p_nom[PL ocgt] + generator_p_nom[SE ocgt]) + 0.5245103109760005*(generator_p_nom[AT onwind] + generator_p_nom[AT solar] + generator_p_nom[CH onwind] + generator_p_nom[CH solar] + generator_p_nom[CZ onwind] + generator_p_nom[CZ solar] + generator_p_nom[DE onwind] + generator_p_nom[DE solar] + generator_p_nom[DK onwind] + generator_p_nom[DK solar] + generator_p_nom[NL onwind] + generator_p_nom[NL solar] + generator_p_nom[NO onwind] + generator_p_nom[NO solar] + generator_p_nom[PL onwind] + generator_p_nom[PL solar] + generator_p_nom[SE onwind] + generator_p_nom[SE solar])\n",
      "-0.9364500304533078*(generator_p_nom[AT ocgt] + generator_p_nom[CH ocgt] + generator_p_nom[CZ ocgt] + generator_p_nom[DE ocgt] + generator_p_nom[DK ocgt] + generator_p_nom[NL ocgt] + generator_p_nom[NO ocgt] + generator_p_nom[PL ocgt] + generator_p_nom[SE ocgt]) + 0.3508009983794217*(generator_p_nom[AT onwind] + generator_p_nom[AT solar] + generator_p_nom[CH onwind] + generator_p_nom[CH solar] + generator_p_nom[CZ onwind] + generator_p_nom[CZ solar] + generator_p_nom[DE onwind] + generator_p_nom[DE solar] + generator_p_nom[DK onwind] + generator_p_nom[DK solar] + generator_p_nom[NL onwind] + generator_p_nom[NL solar] + generator_p_nom[NO onwind] + generator_p_nom[NO solar] + generator_p_nom[PL onwind] + generator_p_nom[PL solar] + generator_p_nom[SE onwind] + generator_p_nom[SE solar])\n",
      "-0.354273672846181*(generator_p_nom[AT ocgt] + generator_p_nom[CH ocgt] + generator_p_nom[CZ ocgt] + generator_p_nom[DE ocgt] + generator_p_nom[DK ocgt] + generator_p_nom[NL ocgt] + generator_p_nom[NO ocgt] + generator_p_nom[PL ocgt] + generator_p_nom[SE ocgt]) + 0.9351417885690262*(generator_p_nom[AT onwind] + generator_p_nom[AT solar] + generator_p_nom[CH onwind] + generator_p_nom[CH solar] + generator_p_nom[CZ onwind] + generator_p_nom[CZ solar] + generator_p_nom[DE onwind] + generator_p_nom[DE solar] + generator_p_nom[DK onwind] + generator_p_nom[DK solar] + generator_p_nom[NL onwind] + generator_p_nom[NL solar] + generator_p_nom[NO onwind] + generator_p_nom[NO solar] + generator_p_nom[PL onwind] + generator_p_nom[PL solar] + generator_p_nom[SE onwind] + generator_p_nom[SE solar])\n",
      "-0.23728331891765325*(generator_p_nom[AT ocgt] + generator_p_nom[CH ocgt] + generator_p_nom[CZ ocgt] + generator_p_nom[DE ocgt] + generator_p_nom[DK ocgt] + generator_p_nom[NL ocgt] + generator_p_nom[NO ocgt] + generator_p_nom[PL ocgt] + generator_p_nom[SE ocgt]) + 0.9714404904899854*(generator_p_nom[AT onwind] + generator_p_nom[AT solar] + generator_p_nom[CH onwind] + generator_p_nom[CH solar] + generator_p_nom[CZ onwind] + generator_p_nom[CZ solar] + generator_p_nom[DE onwind] + generator_p_nom[DE solar] + generator_p_nom[DK onwind] + generator_p_nom[DK solar] + generator_p_nom[NL onwind] + generator_p_nom[NL solar] + generator_p_nom[NO onwind] + generator_p_nom[NO solar] + generator_p_nom[PL onwind] + generator_p_nom[PL solar] + generator_p_nom[SE onwind] + generator_p_nom[SE solar])\n",
      "0.9991762766192351*(generator_p_nom[AT ocgt] + generator_p_nom[CH ocgt] + generator_p_nom[CZ ocgt] + generator_p_nom[DE ocgt] + generator_p_nom[DK ocgt] + generator_p_nom[NL ocgt] + generator_p_nom[NO ocgt] + generator_p_nom[PL ocgt] + generator_p_nom[SE ocgt]) + 0.04058039232587117*(generator_p_nom[AT onwind] + generator_p_nom[AT solar] + generator_p_nom[CH onwind] + generator_p_nom[CH solar] + generator_p_nom[CZ onwind] + generator_p_nom[CZ solar] + generator_p_nom[DE onwind] + generator_p_nom[DE solar] + generator_p_nom[DK onwind] + generator_p_nom[DK solar] + generator_p_nom[NL onwind] + generator_p_nom[NL solar] + generator_p_nom[NO onwind] + generator_p_nom[NO solar] + generator_p_nom[PL onwind] + generator_p_nom[PL solar] + generator_p_nom[SE onwind] + generator_p_nom[SE solar])\n",
      "0.9619339092212614*(generator_p_nom[AT ocgt] + generator_p_nom[CH ocgt] + generator_p_nom[CZ ocgt] + generator_p_nom[DE ocgt] + generator_p_nom[DK ocgt] + generator_p_nom[NL ocgt] + generator_p_nom[NO ocgt] + generator_p_nom[PL ocgt] + generator_p_nom[SE ocgt]) + 0.27328218802238496*(generator_p_nom[AT onwind] + generator_p_nom[AT solar] + generator_p_nom[CH onwind] + generator_p_nom[CH solar] + generator_p_nom[CZ onwind] + generator_p_nom[CZ solar] + generator_p_nom[DE onwind] + generator_p_nom[DE solar] + generator_p_nom[DK onwind] + generator_p_nom[DK solar] + generator_p_nom[NL onwind] + generator_p_nom[NL solar] + generator_p_nom[NO onwind] + generator_p_nom[NO solar] + generator_p_nom[PL onwind] + generator_p_nom[PL solar] + generator_p_nom[SE onwind] + generator_p_nom[SE solar])\n",
      "0.6966677349127375*(generator_p_nom[AT ocgt] + generator_p_nom[CH ocgt] + generator_p_nom[CZ ocgt] + generator_p_nom[DE ocgt] + generator_p_nom[DK ocgt] + generator_p_nom[NL ocgt] + generator_p_nom[NO ocgt] + generator_p_nom[PL ocgt] + generator_p_nom[SE ocgt]) + 0.7173939413819688*(generator_p_nom[AT onwind] + generator_p_nom[AT solar] + generator_p_nom[CH onwind] + generator_p_nom[CH solar] + generator_p_nom[CZ onwind] + generator_p_nom[CZ solar] + generator_p_nom[DE onwind] + generator_p_nom[DE solar] + generator_p_nom[DK onwind] + generator_p_nom[DK solar] + generator_p_nom[NL onwind] + generator_p_nom[NL solar] + generator_p_nom[NO onwind] + generator_p_nom[NO solar] + generator_p_nom[PL onwind] + generator_p_nom[PL solar] + generator_p_nom[SE onwind] + generator_p_nom[SE solar])\n"
     ]
    },
    {
     "name": "stdout",
     "output_type": "stream",
     "text": [
      "0.7694076780737629*(generator_p_nom[AT ocgt] + generator_p_nom[CH ocgt] + generator_p_nom[CZ ocgt] + generator_p_nom[DE ocgt] + generator_p_nom[DK ocgt] + generator_p_nom[NL ocgt] + generator_p_nom[NO ocgt] + generator_p_nom[PL ocgt] + generator_p_nom[SE ocgt]) + 0.6387580331558588*(generator_p_nom[AT onwind] + generator_p_nom[AT solar] + generator_p_nom[CH onwind] + generator_p_nom[CH solar] + generator_p_nom[CZ onwind] + generator_p_nom[CZ solar] + generator_p_nom[DE onwind] + generator_p_nom[DE solar] + generator_p_nom[DK onwind] + generator_p_nom[DK solar] + generator_p_nom[NL onwind] + generator_p_nom[NL solar] + generator_p_nom[NO onwind] + generator_p_nom[NO solar] + generator_p_nom[PL onwind] + generator_p_nom[PL solar] + generator_p_nom[SE onwind] + generator_p_nom[SE solar])\n",
      "0.045010087927943594*(generator_p_nom[AT ocgt] + generator_p_nom[CH ocgt] + generator_p_nom[CZ ocgt] + generator_p_nom[DE ocgt] + generator_p_nom[DK ocgt] + generator_p_nom[NL ocgt] + generator_p_nom[NO ocgt] + generator_p_nom[PL ocgt] + generator_p_nom[SE ocgt]) + 0.9989865324341058*(generator_p_nom[AT onwind] + generator_p_nom[AT solar] + generator_p_nom[CH onwind] + generator_p_nom[CH solar] + generator_p_nom[CZ onwind] + generator_p_nom[CZ solar] + generator_p_nom[DE onwind] + generator_p_nom[DE solar] + generator_p_nom[DK onwind] + generator_p_nom[DK solar] + generator_p_nom[NL onwind] + generator_p_nom[NL solar] + generator_p_nom[NO onwind] + generator_p_nom[NO solar] + generator_p_nom[PL onwind] + generator_p_nom[PL solar] + generator_p_nom[SE onwind] + generator_p_nom[SE solar])\n",
      "0.5743490647443844*(generator_p_nom[AT ocgt] + generator_p_nom[CH ocgt] + generator_p_nom[CZ ocgt] + generator_p_nom[DE ocgt] + generator_p_nom[DK ocgt] + generator_p_nom[NL ocgt] + generator_p_nom[NO ocgt] + generator_p_nom[PL ocgt] + generator_p_nom[SE ocgt]) + 0.8186105006822542*(generator_p_nom[AT onwind] + generator_p_nom[AT solar] + generator_p_nom[CH onwind] + generator_p_nom[CH solar] + generator_p_nom[CZ onwind] + generator_p_nom[CZ solar] + generator_p_nom[DE onwind] + generator_p_nom[DE solar] + generator_p_nom[DK onwind] + generator_p_nom[DK solar] + generator_p_nom[NL onwind] + generator_p_nom[NL solar] + generator_p_nom[NO onwind] + generator_p_nom[NO solar] + generator_p_nom[PL onwind] + generator_p_nom[PL solar] + generator_p_nom[SE onwind] + generator_p_nom[SE solar])\n",
      "-0.40782098152721685*(generator_p_nom[AT ocgt] + generator_p_nom[CH ocgt] + generator_p_nom[CZ ocgt] + generator_p_nom[DE ocgt] + generator_p_nom[DK ocgt] + generator_p_nom[NL ocgt] + generator_p_nom[NO ocgt] + generator_p_nom[PL ocgt] + generator_p_nom[SE ocgt]) - 0.9130619075540155*(generator_p_nom[AT onwind] + generator_p_nom[AT solar] + generator_p_nom[CH onwind] + generator_p_nom[CH solar] + generator_p_nom[CZ onwind] + generator_p_nom[CZ solar] + generator_p_nom[DE onwind] + generator_p_nom[DE solar] + generator_p_nom[DK onwind] + generator_p_nom[DK solar] + generator_p_nom[NL onwind] + generator_p_nom[NL solar] + generator_p_nom[NO onwind] + generator_p_nom[NO solar] + generator_p_nom[PL onwind] + generator_p_nom[PL solar] + generator_p_nom[SE onwind] + generator_p_nom[SE solar])\n",
      "-0.7324742551085248*(generator_p_nom[AT ocgt] + generator_p_nom[CH ocgt] + generator_p_nom[CZ ocgt] + generator_p_nom[DE ocgt] + generator_p_nom[DK ocgt] + generator_p_nom[NL ocgt] + generator_p_nom[NO ocgt] + generator_p_nom[PL ocgt] + generator_p_nom[SE ocgt]) - 0.6807947308867863*(generator_p_nom[AT onwind] + generator_p_nom[AT solar] + generator_p_nom[CH onwind] + generator_p_nom[CH solar] + generator_p_nom[CZ onwind] + generator_p_nom[CZ solar] + generator_p_nom[DE onwind] + generator_p_nom[DE solar] + generator_p_nom[DK onwind] + generator_p_nom[DK solar] + generator_p_nom[NL onwind] + generator_p_nom[NL solar] + generator_p_nom[NO onwind] + generator_p_nom[NO solar] + generator_p_nom[PL onwind] + generator_p_nom[PL solar] + generator_p_nom[SE onwind] + generator_p_nom[SE solar])\n",
      "-0.6107592376426293*(generator_p_nom[AT ocgt] + generator_p_nom[CH ocgt] + generator_p_nom[CZ ocgt] + generator_p_nom[DE ocgt] + generator_p_nom[DK ocgt] + generator_p_nom[NL ocgt] + generator_p_nom[NO ocgt] + generator_p_nom[PL ocgt] + generator_p_nom[SE ocgt]) - 0.7918163635807195*(generator_p_nom[AT onwind] + generator_p_nom[AT solar] + generator_p_nom[CH onwind] + generator_p_nom[CH solar] + generator_p_nom[CZ onwind] + generator_p_nom[CZ solar] + generator_p_nom[DE onwind] + generator_p_nom[DE solar] + generator_p_nom[DK onwind] + generator_p_nom[DK solar] + generator_p_nom[NL onwind] + generator_p_nom[NL solar] + generator_p_nom[NO onwind] + generator_p_nom[NO solar] + generator_p_nom[PL onwind] + generator_p_nom[PL solar] + generator_p_nom[SE onwind] + generator_p_nom[SE solar])\n",
      "0.9991770598179794*(generator_p_nom[AT ocgt] + generator_p_nom[CH ocgt] + generator_p_nom[CZ ocgt] + generator_p_nom[DE ocgt] + generator_p_nom[DK ocgt] + generator_p_nom[NL ocgt] + generator_p_nom[NO ocgt] + generator_p_nom[PL ocgt] + generator_p_nom[SE ocgt]) - 0.040561103701675795*(generator_p_nom[AT onwind] + generator_p_nom[AT solar] + generator_p_nom[CH onwind] + generator_p_nom[CH solar] + generator_p_nom[CZ onwind] + generator_p_nom[CZ solar] + generator_p_nom[DE onwind] + generator_p_nom[DE solar] + generator_p_nom[DK onwind] + generator_p_nom[DK solar] + generator_p_nom[NL onwind] + generator_p_nom[NL solar] + generator_p_nom[NO onwind] + generator_p_nom[NO solar] + generator_p_nom[PL onwind] + generator_p_nom[PL solar] + generator_p_nom[SE onwind] + generator_p_nom[SE solar])\n",
      "0.3196775392654094*(generator_p_nom[AT ocgt] + generator_p_nom[CH ocgt] + generator_p_nom[CZ ocgt] + generator_p_nom[DE ocgt] + generator_p_nom[DK ocgt] + generator_p_nom[NL ocgt] + generator_p_nom[NO ocgt] + generator_p_nom[PL ocgt] + generator_p_nom[SE ocgt]) - 0.9475263958799315*(generator_p_nom[AT onwind] + generator_p_nom[AT solar] + generator_p_nom[CH onwind] + generator_p_nom[CH solar] + generator_p_nom[CZ onwind] + generator_p_nom[CZ solar] + generator_p_nom[DE onwind] + generator_p_nom[DE solar] + generator_p_nom[DK onwind] + generator_p_nom[DK solar] + generator_p_nom[NL onwind] + generator_p_nom[NL solar] + generator_p_nom[NO onwind] + generator_p_nom[NO solar] + generator_p_nom[PL onwind] + generator_p_nom[PL solar] + generator_p_nom[SE onwind] + generator_p_nom[SE solar])\n",
      "0.525542908866896*(generator_p_nom[AT ocgt] + generator_p_nom[CH ocgt] + generator_p_nom[CZ ocgt] + generator_p_nom[DE ocgt] + generator_p_nom[DK ocgt] + generator_p_nom[NL ocgt] + generator_p_nom[NO ocgt] + generator_p_nom[PL ocgt] + generator_p_nom[SE ocgt]) - 0.850767095590633*(generator_p_nom[AT onwind] + generator_p_nom[AT solar] + generator_p_nom[CH onwind] + generator_p_nom[CH solar] + generator_p_nom[CZ onwind] + generator_p_nom[CZ solar] + generator_p_nom[DE onwind] + generator_p_nom[DE solar] + generator_p_nom[DK onwind] + generator_p_nom[DK solar] + generator_p_nom[NL onwind] + generator_p_nom[NL solar] + generator_p_nom[NO onwind] + generator_p_nom[NO solar] + generator_p_nom[PL onwind] + generator_p_nom[PL solar] + generator_p_nom[SE onwind] + generator_p_nom[SE solar])\n",
      "-0.9997499310909309*(generator_p_nom[AT ocgt] + generator_p_nom[CH ocgt] + generator_p_nom[CZ ocgt] + generator_p_nom[DE ocgt] + generator_p_nom[DK ocgt] + generator_p_nom[NL ocgt] + generator_p_nom[NO ocgt] + generator_p_nom[PL ocgt] + generator_p_nom[SE ocgt]) + 0.022362363105876387*(generator_p_nom[AT onwind] + generator_p_nom[AT solar] + generator_p_nom[CH onwind] + generator_p_nom[CH solar] + generator_p_nom[CZ onwind] + generator_p_nom[CZ solar] + generator_p_nom[DE onwind] + generator_p_nom[DE solar] + generator_p_nom[DK onwind] + generator_p_nom[DK solar] + generator_p_nom[NL onwind] + generator_p_nom[NL solar] + generator_p_nom[NO onwind] + generator_p_nom[NO solar] + generator_p_nom[PL onwind] + generator_p_nom[PL solar] + generator_p_nom[SE onwind] + generator_p_nom[SE solar])\n",
      "-0.9978272238146284*(generator_p_nom[AT ocgt] + generator_p_nom[CH ocgt] + generator_p_nom[CZ ocgt] + generator_p_nom[DE ocgt] + generator_p_nom[DK ocgt] + generator_p_nom[NL ocgt] + generator_p_nom[NO ocgt] + generator_p_nom[PL ocgt] + generator_p_nom[SE ocgt]) + 0.06588498625932591*(generator_p_nom[AT onwind] + generator_p_nom[AT solar] + generator_p_nom[CH onwind] + generator_p_nom[CH solar] + generator_p_nom[CZ onwind] + generator_p_nom[CZ solar] + generator_p_nom[DE onwind] + generator_p_nom[DE solar] + generator_p_nom[DK onwind] + generator_p_nom[DK solar] + generator_p_nom[NL onwind] + generator_p_nom[NL solar] + generator_p_nom[NO onwind] + generator_p_nom[NO solar] + generator_p_nom[PL onwind] + generator_p_nom[PL solar] + generator_p_nom[SE onwind] + generator_p_nom[SE solar])\n"
     ]
    },
    {
     "name": "stdout",
     "output_type": "stream",
     "text": [
      "-0.9629817854517777*(generator_p_nom[AT ocgt] + generator_p_nom[CH ocgt] + generator_p_nom[CZ ocgt] + generator_p_nom[DE ocgt] + generator_p_nom[DK ocgt] + generator_p_nom[NL ocgt] + generator_p_nom[NO ocgt] + generator_p_nom[PL ocgt] + generator_p_nom[SE ocgt]) + 0.2695664684045599*(generator_p_nom[AT onwind] + generator_p_nom[AT solar] + generator_p_nom[CH onwind] + generator_p_nom[CH solar] + generator_p_nom[CZ onwind] + generator_p_nom[CZ solar] + generator_p_nom[DE onwind] + generator_p_nom[DE solar] + generator_p_nom[DK onwind] + generator_p_nom[DK solar] + generator_p_nom[NL onwind] + generator_p_nom[NL solar] + generator_p_nom[NO onwind] + generator_p_nom[NO solar] + generator_p_nom[PL onwind] + generator_p_nom[PL solar] + generator_p_nom[SE onwind] + generator_p_nom[SE solar])\n",
      "-0.9925670849272483*(generator_p_nom[AT ocgt] + generator_p_nom[CH ocgt] + generator_p_nom[CZ ocgt] + generator_p_nom[DE ocgt] + generator_p_nom[DK ocgt] + generator_p_nom[NL ocgt] + generator_p_nom[NO ocgt] + generator_p_nom[PL ocgt] + generator_p_nom[SE ocgt]) + 0.12169873425399494*(generator_p_nom[AT onwind] + generator_p_nom[AT solar] + generator_p_nom[CH onwind] + generator_p_nom[CH solar] + generator_p_nom[CZ onwind] + generator_p_nom[CZ solar] + generator_p_nom[DE onwind] + generator_p_nom[DE solar] + generator_p_nom[DK onwind] + generator_p_nom[DK solar] + generator_p_nom[NL onwind] + generator_p_nom[NL solar] + generator_p_nom[NO onwind] + generator_p_nom[NO solar] + generator_p_nom[PL onwind] + generator_p_nom[PL solar] + generator_p_nom[SE onwind] + generator_p_nom[SE solar])\n",
      "0.3041630598825207*(generator_p_nom[AT ocgt] + generator_p_nom[CH ocgt] + generator_p_nom[CZ ocgt] + generator_p_nom[DE ocgt] + generator_p_nom[DK ocgt] + generator_p_nom[NL ocgt] + generator_p_nom[NO ocgt] + generator_p_nom[PL ocgt] + generator_p_nom[SE ocgt]) + 0.9526199835206598*(generator_p_nom[AT onwind] + generator_p_nom[AT solar] + generator_p_nom[CH onwind] + generator_p_nom[CH solar] + generator_p_nom[CZ onwind] + generator_p_nom[CZ solar] + generator_p_nom[DE onwind] + generator_p_nom[DE solar] + generator_p_nom[DK onwind] + generator_p_nom[DK solar] + generator_p_nom[NL onwind] + generator_p_nom[NL solar] + generator_p_nom[NO onwind] + generator_p_nom[NO solar] + generator_p_nom[PL onwind] + generator_p_nom[PL solar] + generator_p_nom[SE onwind] + generator_p_nom[SE solar])\n",
      "0.1292089516535194*(generator_p_nom[AT ocgt] + generator_p_nom[CH ocgt] + generator_p_nom[CZ ocgt] + generator_p_nom[DE ocgt] + generator_p_nom[DK ocgt] + generator_p_nom[NL ocgt] + generator_p_nom[NO ocgt] + generator_p_nom[PL ocgt] + generator_p_nom[SE ocgt]) + 0.9916173893254386*(generator_p_nom[AT onwind] + generator_p_nom[AT solar] + generator_p_nom[CH onwind] + generator_p_nom[CH solar] + generator_p_nom[CZ onwind] + generator_p_nom[CZ solar] + generator_p_nom[DE onwind] + generator_p_nom[DE solar] + generator_p_nom[DK onwind] + generator_p_nom[DK solar] + generator_p_nom[NL onwind] + generator_p_nom[NL solar] + generator_p_nom[NO onwind] + generator_p_nom[NO solar] + generator_p_nom[PL onwind] + generator_p_nom[PL solar] + generator_p_nom[SE onwind] + generator_p_nom[SE solar])\n",
      "0.6408268497228511*(generator_p_nom[AT ocgt] + generator_p_nom[CH ocgt] + generator_p_nom[CZ ocgt] + generator_p_nom[DE ocgt] + generator_p_nom[DK ocgt] + generator_p_nom[NL ocgt] + generator_p_nom[NO ocgt] + generator_p_nom[PL ocgt] + generator_p_nom[SE ocgt]) + 0.7676854490442595*(generator_p_nom[AT onwind] + generator_p_nom[AT solar] + generator_p_nom[CH onwind] + generator_p_nom[CH solar] + generator_p_nom[CZ onwind] + generator_p_nom[CZ solar] + generator_p_nom[DE onwind] + generator_p_nom[DE solar] + generator_p_nom[DK onwind] + generator_p_nom[DK solar] + generator_p_nom[NL onwind] + generator_p_nom[NL solar] + generator_p_nom[NO onwind] + generator_p_nom[NO solar] + generator_p_nom[PL onwind] + generator_p_nom[PL solar] + generator_p_nom[SE onwind] + generator_p_nom[SE solar])\n",
      "0.5970693348447447*(generator_p_nom[AT ocgt] + generator_p_nom[CH ocgt] + generator_p_nom[CZ ocgt] + generator_p_nom[DE ocgt] + generator_p_nom[DK ocgt] + generator_p_nom[NL ocgt] + generator_p_nom[NO ocgt] + generator_p_nom[PL ocgt] + generator_p_nom[SE ocgt]) + 0.8021896343060376*(generator_p_nom[AT onwind] + generator_p_nom[AT solar] + generator_p_nom[CH onwind] + generator_p_nom[CH solar] + generator_p_nom[CZ onwind] + generator_p_nom[CZ solar] + generator_p_nom[DE onwind] + generator_p_nom[DE solar] + generator_p_nom[DK onwind] + generator_p_nom[DK solar] + generator_p_nom[NL onwind] + generator_p_nom[NL solar] + generator_p_nom[NO onwind] + generator_p_nom[NO solar] + generator_p_nom[PL onwind] + generator_p_nom[PL solar] + generator_p_nom[SE onwind] + generator_p_nom[SE solar])\n",
      "-0.5828936170263248*(generator_p_nom[AT ocgt] + generator_p_nom[CH ocgt] + generator_p_nom[CZ ocgt] + generator_p_nom[DE ocgt] + generator_p_nom[DK ocgt] + generator_p_nom[NL ocgt] + generator_p_nom[NO ocgt] + generator_p_nom[PL ocgt] + generator_p_nom[SE ocgt]) - 0.8125484793105998*(generator_p_nom[AT onwind] + generator_p_nom[AT solar] + generator_p_nom[CH onwind] + generator_p_nom[CH solar] + generator_p_nom[CZ onwind] + generator_p_nom[CZ solar] + generator_p_nom[DE onwind] + generator_p_nom[DE solar] + generator_p_nom[DK onwind] + generator_p_nom[DK solar] + generator_p_nom[NL onwind] + generator_p_nom[NL solar] + generator_p_nom[NO onwind] + generator_p_nom[NO solar] + generator_p_nom[PL onwind] + generator_p_nom[PL solar] + generator_p_nom[SE onwind] + generator_p_nom[SE solar])\n",
      "-0.5612645393292734*(generator_p_nom[AT ocgt] + generator_p_nom[CH ocgt] + generator_p_nom[CZ ocgt] + generator_p_nom[DE ocgt] + generator_p_nom[DK ocgt] + generator_p_nom[NL ocgt] + generator_p_nom[NO ocgt] + generator_p_nom[PL ocgt] + generator_p_nom[SE ocgt]) - 0.8276364642108867*(generator_p_nom[AT onwind] + generator_p_nom[AT solar] + generator_p_nom[CH onwind] + generator_p_nom[CH solar] + generator_p_nom[CZ onwind] + generator_p_nom[CZ solar] + generator_p_nom[DE onwind] + generator_p_nom[DE solar] + generator_p_nom[DK onwind] + generator_p_nom[DK solar] + generator_p_nom[NL onwind] + generator_p_nom[NL solar] + generator_p_nom[NO onwind] + generator_p_nom[NO solar] + generator_p_nom[PL onwind] + generator_p_nom[PL solar] + generator_p_nom[SE onwind] + generator_p_nom[SE solar])\n",
      "0.9128521508118562*(generator_p_nom[AT ocgt] + generator_p_nom[CH ocgt] + generator_p_nom[CZ ocgt] + generator_p_nom[DE ocgt] + generator_p_nom[DK ocgt] + generator_p_nom[NL ocgt] + generator_p_nom[NO ocgt] + generator_p_nom[PL ocgt] + generator_p_nom[SE ocgt]) - 0.40829027756997616*(generator_p_nom[AT onwind] + generator_p_nom[AT solar] + generator_p_nom[CH onwind] + generator_p_nom[CH solar] + generator_p_nom[CZ onwind] + generator_p_nom[CZ solar] + generator_p_nom[DE onwind] + generator_p_nom[DE solar] + generator_p_nom[DK onwind] + generator_p_nom[DK solar] + generator_p_nom[NL onwind] + generator_p_nom[NL solar] + generator_p_nom[NO onwind] + generator_p_nom[NO solar] + generator_p_nom[PL onwind] + generator_p_nom[PL solar] + generator_p_nom[SE onwind] + generator_p_nom[SE solar])\n",
      "0.9528587559730395*(generator_p_nom[AT ocgt] + generator_p_nom[CH ocgt] + generator_p_nom[CZ ocgt] + generator_p_nom[DE ocgt] + generator_p_nom[DK ocgt] + generator_p_nom[NL ocgt] + generator_p_nom[NO ocgt] + generator_p_nom[PL ocgt] + generator_p_nom[SE ocgt]) - 0.3034142237363168*(generator_p_nom[AT onwind] + generator_p_nom[AT solar] + generator_p_nom[CH onwind] + generator_p_nom[CH solar] + generator_p_nom[CZ onwind] + generator_p_nom[CZ solar] + generator_p_nom[DE onwind] + generator_p_nom[DE solar] + generator_p_nom[DK onwind] + generator_p_nom[DK solar] + generator_p_nom[NL onwind] + generator_p_nom[NL solar] + generator_p_nom[NO onwind] + generator_p_nom[NO solar] + generator_p_nom[PL onwind] + generator_p_nom[PL solar] + generator_p_nom[SE onwind] + generator_p_nom[SE solar])\n",
      "0.0002760539823641465\n"
     ]
    }
   ],
   "source": [
    "#logging.disable()\n",
    "data_detail_sum = []\n",
    "options = dict(dim=2,old_objective_value=old_objective_value)\n",
    "dim=2\n",
    "old_volume = 0\n",
    "epsilon = 1\n",
    "solutions_sum = []\n",
    "while epsilon > 0.001:\n",
    "    data_detail = list(data_detail_sum)\n",
    "    if len(data_detail_sum)<=1 : # if only original solution exists, max/min directions are chosen\n",
    "        directions = np.concatenate([np.diag(np.ones(dim)),-np.diag(np.ones(dim))],axis=0)\n",
    "    else : # Otherwise search in directions normal to faces\n",
    "        directions = np.array(hull.equations)[:,0:-1]\n",
    "    # Itterate over directions in batch \n",
    "    for direction in directions:\n",
    "        #print(direction)\n",
    "        direction = np.concatenate([direction,[0]])\n",
    "        network.lopf(network.snapshots,                                 \n",
    "                        solver_name='gurobi',                                 \n",
    "                        extra_functionality=lambda network,                                 \n",
    "                        snapshots: direction_search(network,snapshots,options,direction))\n",
    "        solutions_sum.append(network.copy())\n",
    "        var = []\n",
    "        for var_type in ['ocgt','wind']:#,'solar']:\n",
    "            filter1 = network.generators.type==var_type\n",
    "            var.append(sum(network.generators.p_nom_opt[filter1]))\n",
    "        data_detail_sum.append(var)\n",
    "    \n",
    "\n",
    "    hull = ConvexHull(data_detail_sum)#,qhull_options='QJ')\n",
    "    \n",
    "    delta_v = hull.volume - old_volume\n",
    "    old_volume = hull.volume\n",
    "    epsilon = delta_v/hull.volume\n",
    "    \n",
    "    print(epsilon)\n",
    "\n",
    "\n",
    "data_detail_sum = np.array(data_detail_sum)"
   ]
  },
  {
   "cell_type": "code",
   "execution_count": 81,
   "metadata": {},
   "outputs": [
    {
     "data": {
      "application/vnd.plotly.v1+json": {
       "config": {
        "plotlyServerURL": "https://plot.ly"
       },
       "data": [
        {
         "fill": "tonexty",
         "fillcolor": "rgba(255,0,0,0.3)",
         "mode": "lines",
         "name": "Convex hull",
         "type": "scatter",
         "x": [
          160.40614127075503,
          267.70768561875684,
          267.94711115664103,
          292.8355457029541,
          295.505232178923,
          295.8889786101187,
          296.1565611218936,
          296.3620176154555,
          296.2690144942437,
          294.7158930899329,
          248.45704554445334,
          245.39203706560542,
          233.82982787350238,
          209.27396101581388,
          152.22221341878915,
          151.71636233440356,
          150.45558859055436,
          145.7854196523582,
          138.5557941262123,
          130.48122207417907,
          108.65363576802719,
          108.32346453842531,
          105.31712032268213,
          93.02904693550957,
          91.76573656644456,
          91.48254375115937,
          88.93426766066177,
          88.55216387925458,
          88.47604531158652,
          88.50436007163802,
          89.1526933054945,
          89.31962350734167,
          114.82142603306059,
          123.71104815977687,
          126.0263286278443,
          151.37115865651623,
          151.48883380867102,
          160.40614127075503
         ],
         "y": [
          383.0350365524486,
          383.03503655244856,
          383.1158142142855,
          398.49010449467346,
          404.2776068782045,
          405.3169454698108,
          406.1572763420759,
          411.218424649406,
          413.50832016857646,
          418.97519729933765,
          474.69569024482684,
          477.67214765724094,
          487.323723184218,
          505.60064357847625,
          545.685289824086,
          545.9838929820661,
          546.3864467877626,
          546.9949754794181,
          547.3207116831136,
          546.3570343492668,
          541.0254446395638,
          540.9187038884039,
          539.761422866845,
          519.8149779875024,
          516.4426186183783,
          515.430958954235,
          494.6473823111446,
          488.86042572121835,
          485.4574073362388,
          483.8662435345336,
          479.0663825099438,
          478.35768056510676,
          416.62956494526253,
          407.0651264294398,
          405.2792591518161,
          387.09777210889615,
          387.01797029623964,
          383.0350365524486
         ]
        },
        {
         "mode": "markers",
         "name": "MGA solutions",
         "type": "scatter",
         "x": [
          88.47604531158652,
          202.2514161263199,
          296.36201596027894,
          138.555794150164,
          292.83554497906766,
          123.71104815977687,
          245.39203706560542,
          108.65363576802719,
          294.7158904573759,
          295.8889764989772,
          267.70768561875684,
          114.82142603306062,
          151.48883380867102,
          150.45558859055436,
          91.48254375115937,
          130.48122207417907,
          294.71588899754863,
          296.1565575161777,
          292.8355457029541,
          267.7076856187565,
          267.70768561875695,
          89.1526933054945,
          114.82142603306059,
          160.40614127075503,
          126.0263286278443,
          209.2739593475749,
          248.45704554445334,
          105.31712032220376,
          145.7854196523582,
          138.55579417056737,
          88.93426766066177,
          93.02904693550957,
          138.5557941262123,
          267.7076856187565,
          89.1526933054945,
          296.2690144942437,
          294.7158930899329,
          105.31712032268213,
          296.1565611218936,
          296.15655508021615,
          292.83554394207175,
          295.8889786101187,
          267.94711115664074,
          267.70768561875695,
          123.71104815977691,
          114.82142603306059,
          160.40614127075509,
          160.40614127075503,
          123.71104815977687,
          151.37115865651623,
          151.71636233440356,
          209.27395595797157,
          248.45704340649002,
          233.82982787350238,
          88.55216387925458,
          93.02904693550957,
          91.76573656644456,
          138.5557941262123,
          267.7076856187564,
          296.2690144942437,
          294.7158930899329,
          292.83554455750385,
          295.505232178923,
          267.94711115664103,
          267.70768561875695,
          88.50436007163802,
          89.31962350734167,
          123.71104815977691,
          114.82142603306059,
          160.40614127075509,
          151.37115865651617,
          151.71636233440356,
          248.45704234836197,
          233.82982555341297,
          88.55216387925462,
          108.32346453842531,
          105.31712032193607,
          296.3620176154555,
          296.1565588712162,
          296.1565593398038,
          296.15655508021615,
          160.40614127075509,
          160.40614127075503,
          123.71104815977685,
          126.0263286278443,
          209.27396101581388,
          152.22221341878915,
          93.02904693550957,
          91.76573656644456
         ],
         "y": [
          485.4574073362388,
          383.0350365524485,
          411.2184246494062,
          547.3207092051088,
          398.4901044946733,
          407.0651264294399,
          477.67214765724094,
          541.0254446395638,
          418.9751972993377,
          405.3169454698107,
          383.03503655244856,
          416.62956494526253,
          387.01797029623964,
          546.3864467877626,
          515.430958954235,
          546.3570343492668,
          418.9751972993377,
          406.1572763420758,
          398.49010449467346,
          383.0350365524486,
          383.0350365524486,
          479.0663825099438,
          416.62956494526253,
          383.0350365524486,
          405.2792591518161,
          505.60064357847614,
          474.69569024482684,
          539.7614214001213,
          546.9949754794181,
          547.3207070942018,
          494.6473823111446,
          519.8149779875024,
          547.3207116831136,
          383.0350365524486,
          479.0663825099438,
          413.50832016857646,
          418.97519729933765,
          539.761422866845,
          406.1572763420759,
          406.1572763420757,
          398.49010449467346,
          405.3169454698108,
          383.1158142142856,
          383.0350365524486,
          407.0651264294398,
          416.62956494526253,
          383.0350365524486,
          383.0350365524486,
          407.0651264294398,
          387.09777210889615,
          545.9838929820661,
          505.60064357847614,
          474.6956902448265,
          487.323723184218,
          488.86042572121835,
          519.8149779875024,
          516.4426186183783,
          547.3207116831136,
          383.0350365524486,
          413.50832016857646,
          418.97519729933765,
          398.49010449467335,
          404.2776068782045,
          383.1158142142855,
          383.0350365524486,
          483.8662435345336,
          478.35768056510676,
          407.0651264294398,
          416.62956494526253,
          383.0350365524486,
          387.09777210889627,
          545.9838929820661,
          474.69569024482655,
          487.32372318421795,
          488.8604257212183,
          540.9187038884039,
          539.7614205793889,
          411.218424649406,
          406.15727634207576,
          406.15727634207576,
          406.1572763420757,
          383.0350365524486,
          383.0350365524486,
          407.0651264294398,
          405.2792591518161,
          505.60064357847625,
          545.685289824086,
          519.8149779875024,
          516.4426186183783
         ]
        },
        {
         "mode": "markers",
         "name": "Initial_solution",
         "type": "scatter",
         "x": [
          143.22484840872355
         ],
         "y": [
          420.1483564729163
         ]
        }
       ],
       "layout": {
        "autosize": false,
        "height": 500,
        "legend": {
         "x": 0.6,
         "y": 1
        },
        "paper_bgcolor": "rgba(0,0,0,0)",
        "plot_bgcolor": "rgba(0,0,0,0)",
        "showlegend": true,
        "template": {
         "data": {
          "bar": [
           {
            "error_x": {
             "color": "#2a3f5f"
            },
            "error_y": {
             "color": "#2a3f5f"
            },
            "marker": {
             "line": {
              "color": "#E5ECF6",
              "width": 0.5
             }
            },
            "type": "bar"
           }
          ],
          "barpolar": [
           {
            "marker": {
             "line": {
              "color": "#E5ECF6",
              "width": 0.5
             }
            },
            "type": "barpolar"
           }
          ],
          "carpet": [
           {
            "aaxis": {
             "endlinecolor": "#2a3f5f",
             "gridcolor": "white",
             "linecolor": "white",
             "minorgridcolor": "white",
             "startlinecolor": "#2a3f5f"
            },
            "baxis": {
             "endlinecolor": "#2a3f5f",
             "gridcolor": "white",
             "linecolor": "white",
             "minorgridcolor": "white",
             "startlinecolor": "#2a3f5f"
            },
            "type": "carpet"
           }
          ],
          "choropleth": [
           {
            "colorbar": {
             "outlinewidth": 0,
             "ticks": ""
            },
            "type": "choropleth"
           }
          ],
          "contour": [
           {
            "colorbar": {
             "outlinewidth": 0,
             "ticks": ""
            },
            "colorscale": [
             [
              0,
              "#0d0887"
             ],
             [
              0.1111111111111111,
              "#46039f"
             ],
             [
              0.2222222222222222,
              "#7201a8"
             ],
             [
              0.3333333333333333,
              "#9c179e"
             ],
             [
              0.4444444444444444,
              "#bd3786"
             ],
             [
              0.5555555555555556,
              "#d8576b"
             ],
             [
              0.6666666666666666,
              "#ed7953"
             ],
             [
              0.7777777777777778,
              "#fb9f3a"
             ],
             [
              0.8888888888888888,
              "#fdca26"
             ],
             [
              1,
              "#f0f921"
             ]
            ],
            "type": "contour"
           }
          ],
          "contourcarpet": [
           {
            "colorbar": {
             "outlinewidth": 0,
             "ticks": ""
            },
            "type": "contourcarpet"
           }
          ],
          "heatmap": [
           {
            "colorbar": {
             "outlinewidth": 0,
             "ticks": ""
            },
            "colorscale": [
             [
              0,
              "#0d0887"
             ],
             [
              0.1111111111111111,
              "#46039f"
             ],
             [
              0.2222222222222222,
              "#7201a8"
             ],
             [
              0.3333333333333333,
              "#9c179e"
             ],
             [
              0.4444444444444444,
              "#bd3786"
             ],
             [
              0.5555555555555556,
              "#d8576b"
             ],
             [
              0.6666666666666666,
              "#ed7953"
             ],
             [
              0.7777777777777778,
              "#fb9f3a"
             ],
             [
              0.8888888888888888,
              "#fdca26"
             ],
             [
              1,
              "#f0f921"
             ]
            ],
            "type": "heatmap"
           }
          ],
          "heatmapgl": [
           {
            "colorbar": {
             "outlinewidth": 0,
             "ticks": ""
            },
            "colorscale": [
             [
              0,
              "#0d0887"
             ],
             [
              0.1111111111111111,
              "#46039f"
             ],
             [
              0.2222222222222222,
              "#7201a8"
             ],
             [
              0.3333333333333333,
              "#9c179e"
             ],
             [
              0.4444444444444444,
              "#bd3786"
             ],
             [
              0.5555555555555556,
              "#d8576b"
             ],
             [
              0.6666666666666666,
              "#ed7953"
             ],
             [
              0.7777777777777778,
              "#fb9f3a"
             ],
             [
              0.8888888888888888,
              "#fdca26"
             ],
             [
              1,
              "#f0f921"
             ]
            ],
            "type": "heatmapgl"
           }
          ],
          "histogram": [
           {
            "marker": {
             "colorbar": {
              "outlinewidth": 0,
              "ticks": ""
             }
            },
            "type": "histogram"
           }
          ],
          "histogram2d": [
           {
            "colorbar": {
             "outlinewidth": 0,
             "ticks": ""
            },
            "colorscale": [
             [
              0,
              "#0d0887"
             ],
             [
              0.1111111111111111,
              "#46039f"
             ],
             [
              0.2222222222222222,
              "#7201a8"
             ],
             [
              0.3333333333333333,
              "#9c179e"
             ],
             [
              0.4444444444444444,
              "#bd3786"
             ],
             [
              0.5555555555555556,
              "#d8576b"
             ],
             [
              0.6666666666666666,
              "#ed7953"
             ],
             [
              0.7777777777777778,
              "#fb9f3a"
             ],
             [
              0.8888888888888888,
              "#fdca26"
             ],
             [
              1,
              "#f0f921"
             ]
            ],
            "type": "histogram2d"
           }
          ],
          "histogram2dcontour": [
           {
            "colorbar": {
             "outlinewidth": 0,
             "ticks": ""
            },
            "colorscale": [
             [
              0,
              "#0d0887"
             ],
             [
              0.1111111111111111,
              "#46039f"
             ],
             [
              0.2222222222222222,
              "#7201a8"
             ],
             [
              0.3333333333333333,
              "#9c179e"
             ],
             [
              0.4444444444444444,
              "#bd3786"
             ],
             [
              0.5555555555555556,
              "#d8576b"
             ],
             [
              0.6666666666666666,
              "#ed7953"
             ],
             [
              0.7777777777777778,
              "#fb9f3a"
             ],
             [
              0.8888888888888888,
              "#fdca26"
             ],
             [
              1,
              "#f0f921"
             ]
            ],
            "type": "histogram2dcontour"
           }
          ],
          "mesh3d": [
           {
            "colorbar": {
             "outlinewidth": 0,
             "ticks": ""
            },
            "type": "mesh3d"
           }
          ],
          "parcoords": [
           {
            "line": {
             "colorbar": {
              "outlinewidth": 0,
              "ticks": ""
             }
            },
            "type": "parcoords"
           }
          ],
          "scatter": [
           {
            "marker": {
             "colorbar": {
              "outlinewidth": 0,
              "ticks": ""
             }
            },
            "type": "scatter"
           }
          ],
          "scatter3d": [
           {
            "line": {
             "colorbar": {
              "outlinewidth": 0,
              "ticks": ""
             }
            },
            "marker": {
             "colorbar": {
              "outlinewidth": 0,
              "ticks": ""
             }
            },
            "type": "scatter3d"
           }
          ],
          "scattercarpet": [
           {
            "marker": {
             "colorbar": {
              "outlinewidth": 0,
              "ticks": ""
             }
            },
            "type": "scattercarpet"
           }
          ],
          "scattergeo": [
           {
            "marker": {
             "colorbar": {
              "outlinewidth": 0,
              "ticks": ""
             }
            },
            "type": "scattergeo"
           }
          ],
          "scattergl": [
           {
            "marker": {
             "colorbar": {
              "outlinewidth": 0,
              "ticks": ""
             }
            },
            "type": "scattergl"
           }
          ],
          "scattermapbox": [
           {
            "marker": {
             "colorbar": {
              "outlinewidth": 0,
              "ticks": ""
             }
            },
            "type": "scattermapbox"
           }
          ],
          "scatterpolar": [
           {
            "marker": {
             "colorbar": {
              "outlinewidth": 0,
              "ticks": ""
             }
            },
            "type": "scatterpolar"
           }
          ],
          "scatterpolargl": [
           {
            "marker": {
             "colorbar": {
              "outlinewidth": 0,
              "ticks": ""
             }
            },
            "type": "scatterpolargl"
           }
          ],
          "scatterternary": [
           {
            "marker": {
             "colorbar": {
              "outlinewidth": 0,
              "ticks": ""
             }
            },
            "type": "scatterternary"
           }
          ],
          "surface": [
           {
            "colorbar": {
             "outlinewidth": 0,
             "ticks": ""
            },
            "colorscale": [
             [
              0,
              "#0d0887"
             ],
             [
              0.1111111111111111,
              "#46039f"
             ],
             [
              0.2222222222222222,
              "#7201a8"
             ],
             [
              0.3333333333333333,
              "#9c179e"
             ],
             [
              0.4444444444444444,
              "#bd3786"
             ],
             [
              0.5555555555555556,
              "#d8576b"
             ],
             [
              0.6666666666666666,
              "#ed7953"
             ],
             [
              0.7777777777777778,
              "#fb9f3a"
             ],
             [
              0.8888888888888888,
              "#fdca26"
             ],
             [
              1,
              "#f0f921"
             ]
            ],
            "type": "surface"
           }
          ],
          "table": [
           {
            "cells": {
             "fill": {
              "color": "#EBF0F8"
             },
             "line": {
              "color": "white"
             }
            },
            "header": {
             "fill": {
              "color": "#C8D4E3"
             },
             "line": {
              "color": "white"
             }
            },
            "type": "table"
           }
          ]
         },
         "layout": {
          "annotationdefaults": {
           "arrowcolor": "#2a3f5f",
           "arrowhead": 0,
           "arrowwidth": 1
          },
          "colorscale": {
           "diverging": [
            [
             0,
             "#8e0152"
            ],
            [
             0.1,
             "#c51b7d"
            ],
            [
             0.2,
             "#de77ae"
            ],
            [
             0.3,
             "#f1b6da"
            ],
            [
             0.4,
             "#fde0ef"
            ],
            [
             0.5,
             "#f7f7f7"
            ],
            [
             0.6,
             "#e6f5d0"
            ],
            [
             0.7,
             "#b8e186"
            ],
            [
             0.8,
             "#7fbc41"
            ],
            [
             0.9,
             "#4d9221"
            ],
            [
             1,
             "#276419"
            ]
           ],
           "sequential": [
            [
             0,
             "#0d0887"
            ],
            [
             0.1111111111111111,
             "#46039f"
            ],
            [
             0.2222222222222222,
             "#7201a8"
            ],
            [
             0.3333333333333333,
             "#9c179e"
            ],
            [
             0.4444444444444444,
             "#bd3786"
            ],
            [
             0.5555555555555556,
             "#d8576b"
            ],
            [
             0.6666666666666666,
             "#ed7953"
            ],
            [
             0.7777777777777778,
             "#fb9f3a"
            ],
            [
             0.8888888888888888,
             "#fdca26"
            ],
            [
             1,
             "#f0f921"
            ]
           ],
           "sequentialminus": [
            [
             0,
             "#0d0887"
            ],
            [
             0.1111111111111111,
             "#46039f"
            ],
            [
             0.2222222222222222,
             "#7201a8"
            ],
            [
             0.3333333333333333,
             "#9c179e"
            ],
            [
             0.4444444444444444,
             "#bd3786"
            ],
            [
             0.5555555555555556,
             "#d8576b"
            ],
            [
             0.6666666666666666,
             "#ed7953"
            ],
            [
             0.7777777777777778,
             "#fb9f3a"
            ],
            [
             0.8888888888888888,
             "#fdca26"
            ],
            [
             1,
             "#f0f921"
            ]
           ]
          },
          "colorway": [
           "#636efa",
           "#EF553B",
           "#00cc96",
           "#ab63fa",
           "#FFA15A",
           "#19d3f3",
           "#FF6692",
           "#B6E880",
           "#FF97FF",
           "#FECB52"
          ],
          "font": {
           "color": "#2a3f5f"
          },
          "geo": {
           "bgcolor": "white",
           "lakecolor": "white",
           "landcolor": "#E5ECF6",
           "showlakes": true,
           "showland": true,
           "subunitcolor": "white"
          },
          "hoverlabel": {
           "align": "left"
          },
          "hovermode": "closest",
          "mapbox": {
           "style": "light"
          },
          "paper_bgcolor": "white",
          "plot_bgcolor": "#E5ECF6",
          "polar": {
           "angularaxis": {
            "gridcolor": "white",
            "linecolor": "white",
            "ticks": ""
           },
           "bgcolor": "#E5ECF6",
           "radialaxis": {
            "gridcolor": "white",
            "linecolor": "white",
            "ticks": ""
           }
          },
          "scene": {
           "xaxis": {
            "backgroundcolor": "#E5ECF6",
            "gridcolor": "white",
            "gridwidth": 2,
            "linecolor": "white",
            "showbackground": true,
            "ticks": "",
            "zerolinecolor": "white"
           },
           "yaxis": {
            "backgroundcolor": "#E5ECF6",
            "gridcolor": "white",
            "gridwidth": 2,
            "linecolor": "white",
            "showbackground": true,
            "ticks": "",
            "zerolinecolor": "white"
           },
           "zaxis": {
            "backgroundcolor": "#E5ECF6",
            "gridcolor": "white",
            "gridwidth": 2,
            "linecolor": "white",
            "showbackground": true,
            "ticks": "",
            "zerolinecolor": "white"
           }
          },
          "shapedefaults": {
           "line": {
            "color": "#2a3f5f"
           }
          },
          "ternary": {
           "aaxis": {
            "gridcolor": "white",
            "linecolor": "white",
            "ticks": ""
           },
           "baxis": {
            "gridcolor": "white",
            "linecolor": "white",
            "ticks": ""
           },
           "bgcolor": "#E5ECF6",
           "caxis": {
            "gridcolor": "white",
            "linecolor": "white",
            "ticks": ""
           }
          },
          "title": {
           "x": 0.05
          },
          "xaxis": {
           "automargin": true,
           "gridcolor": "white",
           "linecolor": "white",
           "ticks": "",
           "zerolinecolor": "white",
           "zerolinewidth": 2
          },
          "yaxis": {
           "automargin": true,
           "gridcolor": "white",
           "linecolor": "white",
           "ticks": "",
           "zerolinecolor": "white",
           "zerolinewidth": 2
          }
         }
        },
        "width": 500,
        "xaxis": {
         "range": [
          80,
          300
         ],
         "title": {
          "text": "ocgt capacity installed [GW]"
         }
        },
        "yaxis": {
         "range": [
          350,
          550
         ],
         "title": {
          "text": "vres capacity installed [GW]"
         }
        }
       }
      },
      "text/html": [
       "<div>\n",
       "        \n",
       "        \n",
       "            <div id=\"eeb1469c-49e7-4ff0-895a-2184df256877\" class=\"plotly-graph-div\" style=\"height:500px; width:500px;\"></div>\n",
       "            <script type=\"text/javascript\">\n",
       "                require([\"plotly\"], function(Plotly) {\n",
       "                    window.PLOTLYENV=window.PLOTLYENV || {};\n",
       "                    \n",
       "                if (document.getElementById(\"eeb1469c-49e7-4ff0-895a-2184df256877\")) {\n",
       "                    Plotly.newPlot(\n",
       "                        'eeb1469c-49e7-4ff0-895a-2184df256877',\n",
       "                        [{\"fill\": \"tonexty\", \"fillcolor\": \"rgba(255,0,0,0.3)\", \"mode\": \"lines\", \"name\": \"Convex hull\", \"type\": \"scatter\", \"x\": [160.40614127075503, 267.70768561875684, 267.94711115664103, 292.8355457029541, 295.505232178923, 295.8889786101187, 296.1565611218936, 296.3620176154555, 296.2690144942437, 294.7158930899329, 248.45704554445334, 245.39203706560542, 233.82982787350238, 209.27396101581388, 152.22221341878915, 151.71636233440356, 150.45558859055436, 145.7854196523582, 138.5557941262123, 130.48122207417907, 108.65363576802719, 108.32346453842531, 105.31712032268213, 93.02904693550957, 91.76573656644456, 91.48254375115937, 88.93426766066177, 88.55216387925458, 88.47604531158652, 88.50436007163802, 89.1526933054945, 89.31962350734167, 114.82142603306059, 123.71104815977687, 126.0263286278443, 151.37115865651623, 151.48883380867102, 160.40614127075503], \"y\": [383.0350365524486, 383.03503655244856, 383.1158142142855, 398.49010449467346, 404.2776068782045, 405.3169454698108, 406.1572763420759, 411.218424649406, 413.50832016857646, 418.97519729933765, 474.69569024482684, 477.67214765724094, 487.323723184218, 505.60064357847625, 545.685289824086, 545.9838929820661, 546.3864467877626, 546.9949754794181, 547.3207116831136, 546.3570343492668, 541.0254446395638, 540.9187038884039, 539.761422866845, 519.8149779875024, 516.4426186183783, 515.430958954235, 494.6473823111446, 488.86042572121835, 485.4574073362388, 483.8662435345336, 479.0663825099438, 478.35768056510676, 416.62956494526253, 407.0651264294398, 405.2792591518161, 387.09777210889615, 387.01797029623964, 383.0350365524486]}, {\"mode\": \"markers\", \"name\": \"MGA solutions\", \"type\": \"scatter\", \"x\": [88.47604531158652, 202.2514161263199, 296.36201596027894, 138.555794150164, 292.83554497906766, 123.71104815977687, 245.39203706560542, 108.65363576802719, 294.7158904573759, 295.8889764989772, 267.70768561875684, 114.82142603306062, 151.48883380867102, 150.45558859055436, 91.48254375115937, 130.48122207417907, 294.71588899754863, 296.1565575161777, 292.8355457029541, 267.7076856187565, 267.70768561875695, 89.1526933054945, 114.82142603306059, 160.40614127075503, 126.0263286278443, 209.2739593475749, 248.45704554445334, 105.31712032220376, 145.7854196523582, 138.55579417056737, 88.93426766066177, 93.02904693550957, 138.5557941262123, 267.7076856187565, 89.1526933054945, 296.2690144942437, 294.7158930899329, 105.31712032268213, 296.1565611218936, 296.15655508021615, 292.83554394207175, 295.8889786101187, 267.94711115664074, 267.70768561875695, 123.71104815977691, 114.82142603306059, 160.40614127075509, 160.40614127075503, 123.71104815977687, 151.37115865651623, 151.71636233440356, 209.27395595797157, 248.45704340649002, 233.82982787350238, 88.55216387925458, 93.02904693550957, 91.76573656644456, 138.5557941262123, 267.7076856187564, 296.2690144942437, 294.7158930899329, 292.83554455750385, 295.505232178923, 267.94711115664103, 267.70768561875695, 88.50436007163802, 89.31962350734167, 123.71104815977691, 114.82142603306059, 160.40614127075509, 151.37115865651617, 151.71636233440356, 248.45704234836197, 233.82982555341297, 88.55216387925462, 108.32346453842531, 105.31712032193607, 296.3620176154555, 296.1565588712162, 296.1565593398038, 296.15655508021615, 160.40614127075509, 160.40614127075503, 123.71104815977685, 126.0263286278443, 209.27396101581388, 152.22221341878915, 93.02904693550957, 91.76573656644456], \"y\": [485.4574073362388, 383.0350365524485, 411.2184246494062, 547.3207092051088, 398.4901044946733, 407.0651264294399, 477.67214765724094, 541.0254446395638, 418.9751972993377, 405.3169454698107, 383.03503655244856, 416.62956494526253, 387.01797029623964, 546.3864467877626, 515.430958954235, 546.3570343492668, 418.9751972993377, 406.1572763420758, 398.49010449467346, 383.0350365524486, 383.0350365524486, 479.0663825099438, 416.62956494526253, 383.0350365524486, 405.2792591518161, 505.60064357847614, 474.69569024482684, 539.7614214001213, 546.9949754794181, 547.3207070942018, 494.6473823111446, 519.8149779875024, 547.3207116831136, 383.0350365524486, 479.0663825099438, 413.50832016857646, 418.97519729933765, 539.761422866845, 406.1572763420759, 406.1572763420757, 398.49010449467346, 405.3169454698108, 383.1158142142856, 383.0350365524486, 407.0651264294398, 416.62956494526253, 383.0350365524486, 383.0350365524486, 407.0651264294398, 387.09777210889615, 545.9838929820661, 505.60064357847614, 474.6956902448265, 487.323723184218, 488.86042572121835, 519.8149779875024, 516.4426186183783, 547.3207116831136, 383.0350365524486, 413.50832016857646, 418.97519729933765, 398.49010449467335, 404.2776068782045, 383.1158142142855, 383.0350365524486, 483.8662435345336, 478.35768056510676, 407.0651264294398, 416.62956494526253, 383.0350365524486, 387.09777210889627, 545.9838929820661, 474.69569024482655, 487.32372318421795, 488.8604257212183, 540.9187038884039, 539.7614205793889, 411.218424649406, 406.15727634207576, 406.15727634207576, 406.1572763420757, 383.0350365524486, 383.0350365524486, 407.0651264294398, 405.2792591518161, 505.60064357847625, 545.685289824086, 519.8149779875024, 516.4426186183783]}, {\"mode\": \"markers\", \"name\": \"Initial_solution\", \"type\": \"scatter\", \"x\": [143.22484840872355], \"y\": [420.1483564729163]}],\n",
       "                        {\"autosize\": false, \"height\": 500, \"legend\": {\"x\": 0.6, \"y\": 1}, \"paper_bgcolor\": \"rgba(0,0,0,0)\", \"plot_bgcolor\": \"rgba(0,0,0,0)\", \"showlegend\": true, \"template\": {\"data\": {\"bar\": [{\"error_x\": {\"color\": \"#2a3f5f\"}, \"error_y\": {\"color\": \"#2a3f5f\"}, \"marker\": {\"line\": {\"color\": \"#E5ECF6\", \"width\": 0.5}}, \"type\": \"bar\"}], \"barpolar\": [{\"marker\": {\"line\": {\"color\": \"#E5ECF6\", \"width\": 0.5}}, \"type\": \"barpolar\"}], \"carpet\": [{\"aaxis\": {\"endlinecolor\": \"#2a3f5f\", \"gridcolor\": \"white\", \"linecolor\": \"white\", \"minorgridcolor\": \"white\", \"startlinecolor\": \"#2a3f5f\"}, \"baxis\": {\"endlinecolor\": \"#2a3f5f\", \"gridcolor\": \"white\", \"linecolor\": \"white\", \"minorgridcolor\": \"white\", \"startlinecolor\": \"#2a3f5f\"}, \"type\": \"carpet\"}], \"choropleth\": [{\"colorbar\": {\"outlinewidth\": 0, \"ticks\": \"\"}, \"type\": \"choropleth\"}], \"contour\": [{\"colorbar\": {\"outlinewidth\": 0, \"ticks\": \"\"}, \"colorscale\": [[0.0, \"#0d0887\"], [0.1111111111111111, \"#46039f\"], [0.2222222222222222, \"#7201a8\"], [0.3333333333333333, \"#9c179e\"], [0.4444444444444444, \"#bd3786\"], [0.5555555555555556, \"#d8576b\"], [0.6666666666666666, \"#ed7953\"], [0.7777777777777778, \"#fb9f3a\"], [0.8888888888888888, \"#fdca26\"], [1.0, \"#f0f921\"]], \"type\": \"contour\"}], \"contourcarpet\": [{\"colorbar\": {\"outlinewidth\": 0, \"ticks\": \"\"}, \"type\": \"contourcarpet\"}], \"heatmap\": [{\"colorbar\": {\"outlinewidth\": 0, \"ticks\": \"\"}, \"colorscale\": [[0.0, \"#0d0887\"], [0.1111111111111111, \"#46039f\"], [0.2222222222222222, \"#7201a8\"], [0.3333333333333333, \"#9c179e\"], [0.4444444444444444, \"#bd3786\"], [0.5555555555555556, \"#d8576b\"], [0.6666666666666666, \"#ed7953\"], [0.7777777777777778, \"#fb9f3a\"], [0.8888888888888888, \"#fdca26\"], [1.0, \"#f0f921\"]], \"type\": \"heatmap\"}], \"heatmapgl\": [{\"colorbar\": {\"outlinewidth\": 0, \"ticks\": \"\"}, \"colorscale\": [[0.0, \"#0d0887\"], [0.1111111111111111, \"#46039f\"], [0.2222222222222222, \"#7201a8\"], [0.3333333333333333, \"#9c179e\"], [0.4444444444444444, \"#bd3786\"], [0.5555555555555556, \"#d8576b\"], [0.6666666666666666, \"#ed7953\"], [0.7777777777777778, \"#fb9f3a\"], [0.8888888888888888, \"#fdca26\"], [1.0, \"#f0f921\"]], \"type\": \"heatmapgl\"}], \"histogram\": [{\"marker\": {\"colorbar\": {\"outlinewidth\": 0, \"ticks\": \"\"}}, \"type\": \"histogram\"}], \"histogram2d\": [{\"colorbar\": {\"outlinewidth\": 0, \"ticks\": \"\"}, \"colorscale\": [[0.0, \"#0d0887\"], [0.1111111111111111, \"#46039f\"], [0.2222222222222222, \"#7201a8\"], [0.3333333333333333, \"#9c179e\"], [0.4444444444444444, \"#bd3786\"], [0.5555555555555556, \"#d8576b\"], [0.6666666666666666, \"#ed7953\"], [0.7777777777777778, \"#fb9f3a\"], [0.8888888888888888, \"#fdca26\"], [1.0, \"#f0f921\"]], \"type\": \"histogram2d\"}], \"histogram2dcontour\": [{\"colorbar\": {\"outlinewidth\": 0, \"ticks\": \"\"}, \"colorscale\": [[0.0, \"#0d0887\"], [0.1111111111111111, \"#46039f\"], [0.2222222222222222, \"#7201a8\"], [0.3333333333333333, \"#9c179e\"], [0.4444444444444444, \"#bd3786\"], [0.5555555555555556, \"#d8576b\"], [0.6666666666666666, \"#ed7953\"], [0.7777777777777778, \"#fb9f3a\"], [0.8888888888888888, \"#fdca26\"], [1.0, \"#f0f921\"]], \"type\": \"histogram2dcontour\"}], \"mesh3d\": [{\"colorbar\": {\"outlinewidth\": 0, \"ticks\": \"\"}, \"type\": \"mesh3d\"}], \"parcoords\": [{\"line\": {\"colorbar\": {\"outlinewidth\": 0, \"ticks\": \"\"}}, \"type\": \"parcoords\"}], \"scatter\": [{\"marker\": {\"colorbar\": {\"outlinewidth\": 0, \"ticks\": \"\"}}, \"type\": \"scatter\"}], \"scatter3d\": [{\"line\": {\"colorbar\": {\"outlinewidth\": 0, \"ticks\": \"\"}}, \"marker\": {\"colorbar\": {\"outlinewidth\": 0, \"ticks\": \"\"}}, \"type\": \"scatter3d\"}], \"scattercarpet\": [{\"marker\": {\"colorbar\": {\"outlinewidth\": 0, \"ticks\": \"\"}}, \"type\": \"scattercarpet\"}], \"scattergeo\": [{\"marker\": {\"colorbar\": {\"outlinewidth\": 0, \"ticks\": \"\"}}, \"type\": \"scattergeo\"}], \"scattergl\": [{\"marker\": {\"colorbar\": {\"outlinewidth\": 0, \"ticks\": \"\"}}, \"type\": \"scattergl\"}], \"scattermapbox\": [{\"marker\": {\"colorbar\": {\"outlinewidth\": 0, \"ticks\": \"\"}}, \"type\": \"scattermapbox\"}], \"scatterpolar\": [{\"marker\": {\"colorbar\": {\"outlinewidth\": 0, \"ticks\": \"\"}}, \"type\": \"scatterpolar\"}], \"scatterpolargl\": [{\"marker\": {\"colorbar\": {\"outlinewidth\": 0, \"ticks\": \"\"}}, \"type\": \"scatterpolargl\"}], \"scatterternary\": [{\"marker\": {\"colorbar\": {\"outlinewidth\": 0, \"ticks\": \"\"}}, \"type\": \"scatterternary\"}], \"surface\": [{\"colorbar\": {\"outlinewidth\": 0, \"ticks\": \"\"}, \"colorscale\": [[0.0, \"#0d0887\"], [0.1111111111111111, \"#46039f\"], [0.2222222222222222, \"#7201a8\"], [0.3333333333333333, \"#9c179e\"], [0.4444444444444444, \"#bd3786\"], [0.5555555555555556, \"#d8576b\"], [0.6666666666666666, \"#ed7953\"], [0.7777777777777778, \"#fb9f3a\"], [0.8888888888888888, \"#fdca26\"], [1.0, \"#f0f921\"]], \"type\": \"surface\"}], \"table\": [{\"cells\": {\"fill\": {\"color\": \"#EBF0F8\"}, \"line\": {\"color\": \"white\"}}, \"header\": {\"fill\": {\"color\": \"#C8D4E3\"}, \"line\": {\"color\": \"white\"}}, \"type\": \"table\"}]}, \"layout\": {\"annotationdefaults\": {\"arrowcolor\": \"#2a3f5f\", \"arrowhead\": 0, \"arrowwidth\": 1}, \"colorscale\": {\"diverging\": [[0, \"#8e0152\"], [0.1, \"#c51b7d\"], [0.2, \"#de77ae\"], [0.3, \"#f1b6da\"], [0.4, \"#fde0ef\"], [0.5, \"#f7f7f7\"], [0.6, \"#e6f5d0\"], [0.7, \"#b8e186\"], [0.8, \"#7fbc41\"], [0.9, \"#4d9221\"], [1, \"#276419\"]], \"sequential\": [[0.0, \"#0d0887\"], [0.1111111111111111, \"#46039f\"], [0.2222222222222222, \"#7201a8\"], [0.3333333333333333, \"#9c179e\"], [0.4444444444444444, \"#bd3786\"], [0.5555555555555556, \"#d8576b\"], [0.6666666666666666, \"#ed7953\"], [0.7777777777777778, \"#fb9f3a\"], [0.8888888888888888, \"#fdca26\"], [1.0, \"#f0f921\"]], \"sequentialminus\": [[0.0, \"#0d0887\"], [0.1111111111111111, \"#46039f\"], [0.2222222222222222, \"#7201a8\"], [0.3333333333333333, \"#9c179e\"], [0.4444444444444444, \"#bd3786\"], [0.5555555555555556, \"#d8576b\"], [0.6666666666666666, \"#ed7953\"], [0.7777777777777778, \"#fb9f3a\"], [0.8888888888888888, \"#fdca26\"], [1.0, \"#f0f921\"]]}, \"colorway\": [\"#636efa\", \"#EF553B\", \"#00cc96\", \"#ab63fa\", \"#FFA15A\", \"#19d3f3\", \"#FF6692\", \"#B6E880\", \"#FF97FF\", \"#FECB52\"], \"font\": {\"color\": \"#2a3f5f\"}, \"geo\": {\"bgcolor\": \"white\", \"lakecolor\": \"white\", \"landcolor\": \"#E5ECF6\", \"showlakes\": true, \"showland\": true, \"subunitcolor\": \"white\"}, \"hoverlabel\": {\"align\": \"left\"}, \"hovermode\": \"closest\", \"mapbox\": {\"style\": \"light\"}, \"paper_bgcolor\": \"white\", \"plot_bgcolor\": \"#E5ECF6\", \"polar\": {\"angularaxis\": {\"gridcolor\": \"white\", \"linecolor\": \"white\", \"ticks\": \"\"}, \"bgcolor\": \"#E5ECF6\", \"radialaxis\": {\"gridcolor\": \"white\", \"linecolor\": \"white\", \"ticks\": \"\"}}, \"scene\": {\"xaxis\": {\"backgroundcolor\": \"#E5ECF6\", \"gridcolor\": \"white\", \"gridwidth\": 2, \"linecolor\": \"white\", \"showbackground\": true, \"ticks\": \"\", \"zerolinecolor\": \"white\"}, \"yaxis\": {\"backgroundcolor\": \"#E5ECF6\", \"gridcolor\": \"white\", \"gridwidth\": 2, \"linecolor\": \"white\", \"showbackground\": true, \"ticks\": \"\", \"zerolinecolor\": \"white\"}, \"zaxis\": {\"backgroundcolor\": \"#E5ECF6\", \"gridcolor\": \"white\", \"gridwidth\": 2, \"linecolor\": \"white\", \"showbackground\": true, \"ticks\": \"\", \"zerolinecolor\": \"white\"}}, \"shapedefaults\": {\"line\": {\"color\": \"#2a3f5f\"}}, \"ternary\": {\"aaxis\": {\"gridcolor\": \"white\", \"linecolor\": \"white\", \"ticks\": \"\"}, \"baxis\": {\"gridcolor\": \"white\", \"linecolor\": \"white\", \"ticks\": \"\"}, \"bgcolor\": \"#E5ECF6\", \"caxis\": {\"gridcolor\": \"white\", \"linecolor\": \"white\", \"ticks\": \"\"}}, \"title\": {\"x\": 0.05}, \"xaxis\": {\"automargin\": true, \"gridcolor\": \"white\", \"linecolor\": \"white\", \"ticks\": \"\", \"zerolinecolor\": \"white\", \"zerolinewidth\": 2}, \"yaxis\": {\"automargin\": true, \"gridcolor\": \"white\", \"linecolor\": \"white\", \"ticks\": \"\", \"zerolinecolor\": \"white\", \"zerolinewidth\": 2}}}, \"width\": 500, \"xaxis\": {\"range\": [80, 300], \"title\": {\"text\": \"ocgt capacity installed [GW]\"}}, \"yaxis\": {\"range\": [350, 550], \"title\": {\"text\": \"vres capacity installed [GW]\"}}},\n",
       "                        {\"responsive\": true}\n",
       "                    ).then(function(){\n",
       "                            \n",
       "var gd = document.getElementById('eeb1469c-49e7-4ff0-895a-2184df256877');\n",
       "var x = new MutationObserver(function (mutations, observer) {{\n",
       "        var display = window.getComputedStyle(gd).display;\n",
       "        if (!display || display === 'none') {{\n",
       "            console.log([gd, 'removed!']);\n",
       "            Plotly.purge(gd);\n",
       "            observer.disconnect();\n",
       "        }}\n",
       "}});\n",
       "\n",
       "// Listen for the removal of the full notebook cells\n",
       "var notebookContainer = gd.closest('#notebook-container');\n",
       "if (notebookContainer) {{\n",
       "    x.observe(notebookContainer, {childList: true});\n",
       "}}\n",
       "\n",
       "// Listen for the clearing of the current output cell\n",
       "var outputEl = gd.closest('.output');\n",
       "if (outputEl) {{\n",
       "    x.observe(outputEl, {childList: true});\n",
       "}}\n",
       "\n",
       "                        })\n",
       "                };\n",
       "                });\n",
       "            </script>\n",
       "        </div>"
      ]
     },
     "metadata": {},
     "output_type": "display_data"
    }
   ],
   "source": [
    "fig = go.Figure()\n",
    "\n",
    "\n",
    "\n",
    "fig.add_trace(go.Scatter(x=hull.points[np.append(hull.vertices,hull.vertices[0])][:,0]/1000,\n",
    "                          y=hull.points[np.append(hull.vertices,hull.vertices[0])][:,1]/1000,\n",
    "                          #z=data_detail_sum[:,2],\n",
    "                          mode='lines',name='Convex hull',fill='tonexty',fillcolor='rgba(255,0,0,0.3)'))\n",
    "\n",
    "fig.add_trace(go.Scatter(x=data_detail_sum[:,0]/1000,\n",
    "                          y=data_detail_sum[:,1]/1000,\n",
    "                          #z=data_detail_sum[:,2],\n",
    "                          mode='markers',name='MGA solutions'))\n",
    "\n",
    "fig.add_trace(go.Scatter(x=[initial_solution[0]/1000],\n",
    "                          y=[initial_solution[1]/1000],\n",
    "                          #z=[np.mean(data_detail_sum,axis=0)[2]],\n",
    "                          mode='markers',name='Initial_solution'))\n",
    "\n",
    "fig.update_yaxes(title_text='vres capacity installed [GW]',range=[350,550])\n",
    "fig.update_xaxes(title_text='ocgt capacity installed [GW]',range=[80,300])\n",
    "fig.update_layout(\n",
    "    autosize=False,\n",
    "    showlegend=True,\n",
    "    width=500,\n",
    "    height=500,\n",
    "    paper_bgcolor='rgba(0,0,0,0)',\n",
    "    plot_bgcolor='rgba(0,0,0,0)',\n",
    "    legend=dict(x=0.6,y=1)\n",
    ")\n",
    "fig.write_image(\"C:/Users\\Tim\\OneDrive - Aarhus universitet\\Speciale\\Report\\Images\\comparison_1.pdf\")\n",
    "fig.show()"
   ]
  },
  {
   "cell_type": "code",
   "execution_count": 82,
   "metadata": {
    "scrolled": false
   },
   "outputs": [
    {
     "data": {
      "application/vnd.plotly.v1+json": {
       "config": {
        "plotlyServerURL": "https://plot.ly"
       },
       "data": [
        {
         "geo": "geo",
         "lat": [
          47.516231,
          46.818188
         ],
         "line": {
          "color": "green",
          "width": 0.5
         },
         "locationmode": "country names",
         "lon": [
          14.550072,
          8.227511999999999
         ],
         "mode": "lines",
         "type": "scattergeo"
        },
        {
         "geo": "geo",
         "lat": [
          47.516231,
          49.817492
         ],
         "line": {
          "color": "green",
          "width": 0.5847153453273619
         },
         "locationmode": "country names",
         "lon": [
          14.550072,
          15.472961999999999
         ],
         "mode": "lines",
         "type": "scattergeo"
        },
        {
         "geo": "geo",
         "lat": [
          47.516231,
          51.165690999999995
         ],
         "line": {
          "color": "green",
          "width": 1.704767804422671
         },
         "locationmode": "country names",
         "lon": [
          14.550072,
          10.451526
         ],
         "mode": "lines",
         "type": "scattergeo"
        },
        {
         "geo": "geo",
         "lat": [
          46.818188,
          51.165690999999995
         ],
         "line": {
          "color": "green",
          "width": 1.717234821432786
         },
         "locationmode": "country names",
         "lon": [
          8.227511999999999,
          10.451526
         ],
         "mode": "lines",
         "type": "scattergeo"
        },
        {
         "geo": "geo",
         "lat": [
          49.817492,
          51.165690999999995
         ],
         "line": {
          "color": "green",
          "width": 2.286074378691894
         },
         "locationmode": "country names",
         "lon": [
          15.472961999999999,
          10.451526
         ],
         "mode": "lines",
         "type": "scattergeo"
        },
        {
         "geo": "geo",
         "lat": [
          51.165690999999995,
          56.26392
         ],
         "line": {
          "color": "green",
          "width": 3.663424492590259
         },
         "locationmode": "country names",
         "lon": [
          10.451526,
          9.501785
         ],
         "mode": "lines",
         "type": "scattergeo"
        },
        {
         "geo": "geo",
         "lat": [
          51.165690999999995,
          60.128161
         ],
         "line": {
          "color": "green",
          "width": 1.3657207047196098
         },
         "locationmode": "country names",
         "lon": [
          10.451526,
          18.643501
         ],
         "mode": "lines",
         "type": "scattergeo"
        },
        {
         "geo": "geo",
         "lat": [
          52.132633,
          51.165690999999995
         ],
         "line": {
          "color": "green",
          "width": 0.6957932532175786
         },
         "locationmode": "country names",
         "lon": [
          5.291266,
          10.451526
         ],
         "mode": "lines",
         "type": "scattergeo"
        },
        {
         "geo": "geo",
         "lat": [
          52.132633,
          60.472024
         ],
         "line": {
          "color": "green",
          "width": 1.3115734343022905
         },
         "locationmode": "country names",
         "lon": [
          5.291266,
          8.468946
         ],
         "mode": "lines",
         "type": "scattergeo"
        },
        {
         "geo": "geo",
         "lat": [
          60.472024,
          56.26392
         ],
         "line": {
          "color": "green",
          "width": 2.937434283618366
         },
         "locationmode": "country names",
         "lon": [
          8.468946,
          9.501785
         ],
         "mode": "lines",
         "type": "scattergeo"
        },
        {
         "geo": "geo",
         "lat": [
          60.472024,
          60.128161
         ],
         "line": {
          "color": "green",
          "width": 0.5173104335371596
         },
         "locationmode": "country names",
         "lon": [
          8.468946,
          18.643501
         ],
         "mode": "lines",
         "type": "scattergeo"
        },
        {
         "geo": "geo",
         "lat": [
          51.919438,
          49.817492
         ],
         "line": {
          "color": "green",
          "width": 5.5
         },
         "locationmode": "country names",
         "lon": [
          19.145135999999997,
          15.472961999999999
         ],
         "mode": "lines",
         "type": "scattergeo"
        },
        {
         "geo": "geo",
         "lat": [
          51.919438,
          51.165690999999995
         ],
         "line": {
          "color": "green",
          "width": 1.4580462653757977
         },
         "locationmode": "country names",
         "lon": [
          19.145135999999997,
          10.451526
         ],
         "mode": "lines",
         "type": "scattergeo"
        },
        {
         "geo": "geo",
         "lat": [
          51.919438,
          60.128161
         ],
         "line": {
          "color": "green",
          "width": 2.372616753611676
         },
         "locationmode": "country names",
         "lon": [
          19.145135999999997,
          18.643501
         ],
         "mode": "lines",
         "type": "scattergeo"
        },
        {
         "geo": "geo",
         "lat": [
          60.128161,
          56.26392
         ],
         "line": {
          "color": "green",
          "width": 1.102477570920529
         },
         "locationmode": "country names",
         "lon": [
          18.643501,
          9.501785
         ],
         "mode": "lines",
         "type": "scattergeo"
        },
        {
         "geo": "geo",
         "hoverinfo": "text",
         "lat": [
          47.516231,
          47.516231,
          47.516231
         ],
         "locationmode": "country names",
         "lon": [
          14.300072,
          14.800072,
          14.050072
         ],
         "marker": {
          "color": [
           "blue",
           "yellow",
           "black"
          ],
          "line": {
           "color": [
            "orange",
            "black"
           ],
           "width": 10
          },
          "size": [
           8.78648176879018,
           0.8794702568186152
          ],
          "symbol": "line-ns"
         },
         "mode": "markers",
         "text": "AT",
         "type": "scattergeo"
        },
        {
         "geo": "geo",
         "hoverinfo": "text",
         "lat": [
          46.818188,
          46.818188,
          46.818188
         ],
         "locationmode": "country names",
         "lon": [
          7.977511999999999,
          8.477511999999999,
          7.727511999999999
         ],
         "marker": {
          "color": [
           "blue",
           "yellow",
           "black"
          ],
          "line": {
           "color": [
            "orange",
            "black"
           ],
           "width": 10
          },
          "size": [
           0.5321309103797027,
           0.29847411898062315
          ],
          "symbol": "line-ns"
         },
         "mode": "markers",
         "text": "CH",
         "type": "scattergeo"
        },
        {
         "geo": "geo",
         "hoverinfo": "text",
         "lat": [
          49.817492,
          49.817492,
          49.817492
         ],
         "locationmode": "country names",
         "lon": [
          15.222961999999999,
          15.722961999999999,
          14.972961999999999
         ],
         "marker": {
          "color": [
           "blue",
           "yellow",
           "black"
          ],
          "line": {
           "color": [
            "orange",
            "black"
           ],
           "width": 10
          },
          "size": [
           20.79752670471536,
           0
          ],
          "symbol": "line-ns"
         },
         "mode": "markers",
         "text": "CZ",
         "type": "scattergeo"
        },
        {
         "geo": "geo",
         "hoverinfo": "text",
         "lat": [
          51.165690999999995,
          51.165690999999995,
          51.165690999999995
         ],
         "locationmode": "country names",
         "lon": [
          10.201526,
          10.701526,
          9.951526
         ],
         "marker": {
          "color": [
           "blue",
           "yellow",
           "black"
          ],
          "line": {
           "color": [
            "orange",
            "black"
           ],
           "width": 10
          },
          "size": [
           54.30822882451621,
           11.096105682470148
          ],
          "symbol": "line-ns"
         },
         "mode": "markers",
         "text": "DE",
         "type": "scattergeo"
        },
        {
         "geo": "geo",
         "hoverinfo": "text",
         "lat": [
          56.26392,
          56.26392,
          56.26392
         ],
         "locationmode": "country names",
         "lon": [
          9.251785,
          9.751785,
          9.001785
         ],
         "marker": {
          "color": [
           "blue",
           "yellow",
           "black"
          ],
          "line": {
           "color": [
            "orange",
            "black"
           ],
           "width": 10
          },
          "size": [
           10.118505040188477,
           0
          ],
          "symbol": "line-ns"
         },
         "mode": "markers",
         "text": "DK",
         "type": "scattergeo"
        },
        {
         "geo": "geo",
         "hoverinfo": "text",
         "lat": [
          52.132633,
          52.132633,
          52.132633
         ],
         "locationmode": "country names",
         "lon": [
          5.041266,
          5.541266,
          4.791266
         ],
         "marker": {
          "color": [
           "blue",
           "yellow",
           "black"
          ],
          "line": {
           "color": [
            "orange",
            "black"
           ],
           "width": 10
          },
          "size": [
           6.963238367085889,
           2.7547612943199518
          ],
          "symbol": "line-ns"
         },
         "mode": "markers",
         "text": "NL",
         "type": "scattergeo"
        },
        {
         "geo": "geo",
         "hoverinfo": "text",
         "lat": [
          60.472024,
          60.472024,
          60.472024
         ],
         "locationmode": "country names",
         "lon": [
          8.218946,
          8.718946,
          7.968946000000001
         ],
         "marker": {
          "color": [
           "blue",
           "yellow",
           "black"
          ],
          "line": {
           "color": [
            "orange",
            "black"
           ],
           "width": 10
          },
          "size": [
           4.877332048152694,
           2.72370399879732
          ],
          "symbol": "line-ns"
         },
         "mode": "markers",
         "text": "NO",
         "type": "scattergeo"
        },
        {
         "geo": "geo",
         "hoverinfo": "text",
         "lat": [
          51.919438,
          51.919438,
          51.919438
         ],
         "locationmode": "country names",
         "lon": [
          18.895135999999997,
          19.395135999999997,
          18.645135999999997
         ],
         "marker": {
          "color": [
           "blue",
           "yellow",
           "black"
          ],
          "line": {
           "color": [
            "orange",
            "black"
           ],
           "width": 10
          },
          "size": [
           0,
           2.966111807650821
          ],
          "symbol": "line-ns"
         },
         "mode": "markers",
         "text": "PL",
         "type": "scattergeo"
        },
        {
         "geo": "geo",
         "hoverinfo": "text",
         "lat": [
          60.128161,
          60.128161,
          60.128161
         ],
         "locationmode": "country names",
         "lon": [
          18.393501,
          18.893501,
          18.143501
         ],
         "marker": {
          "color": [
           "blue",
           "yellow",
           "black"
          ],
          "line": {
           "color": [
            "orange",
            "black"
           ],
           "width": 10
          },
          "size": [
           14.9809081702312,
           1.4003841688591518
          ],
          "symbol": "line-ns"
         },
         "mode": "markers",
         "text": "SE",
         "type": "scattergeo"
        },
        {
         "geo": "geo2",
         "lat": [
          47.516231,
          46.818188
         ],
         "line": {
          "color": "green",
          "width": 0.5
         },
         "locationmode": "country names",
         "lon": [
          14.550072,
          8.227511999999999
         ],
         "mode": "lines",
         "type": "scattergeo"
        },
        {
         "geo": "geo2",
         "lat": [
          47.516231,
          49.817492
         ],
         "line": {
          "color": "green",
          "width": 0.5306169377728613
         },
         "locationmode": "country names",
         "lon": [
          14.550072,
          15.472961999999999
         ],
         "mode": "lines",
         "type": "scattergeo"
        },
        {
         "geo": "geo2",
         "lat": [
          47.516231,
          51.165690999999995
         ],
         "line": {
          "color": "green",
          "width": 1.0428001047470752
         },
         "locationmode": "country names",
         "lon": [
          14.550072,
          10.451526
         ],
         "mode": "lines",
         "type": "scattergeo"
        },
        {
         "geo": "geo2",
         "lat": [
          46.818188,
          51.165690999999995
         ],
         "line": {
          "color": "green",
          "width": 0.9145743762082923
         },
         "locationmode": "country names",
         "lon": [
          8.227511999999999,
          10.451526
         ],
         "mode": "lines",
         "type": "scattergeo"
        },
        {
         "geo": "geo2",
         "lat": [
          49.817492,
          51.165690999999995
         ],
         "line": {
          "color": "green",
          "width": 1.0289588128063603
         },
         "locationmode": "country names",
         "lon": [
          15.472961999999999,
          10.451526
         ],
         "mode": "lines",
         "type": "scattergeo"
        },
        {
         "geo": "geo2",
         "lat": [
          51.165690999999995,
          56.26392
         ],
         "line": {
          "color": "green",
          "width": 5.5
         },
         "locationmode": "country names",
         "lon": [
          10.451526,
          9.501785
         ],
         "mode": "lines",
         "type": "scattergeo"
        },
        {
         "geo": "geo2",
         "lat": [
          51.165690999999995,
          60.128161
         ],
         "line": {
          "color": "green",
          "width": 1.5063808170243558
         },
         "locationmode": "country names",
         "lon": [
          10.451526,
          18.643501
         ],
         "mode": "lines",
         "type": "scattergeo"
        },
        {
         "geo": "geo2",
         "lat": [
          52.132633,
          51.165690999999995
         ],
         "line": {
          "color": "green",
          "width": 1.1699160576181886
         },
         "locationmode": "country names",
         "lon": [
          5.291266,
          10.451526
         ],
         "mode": "lines",
         "type": "scattergeo"
        },
        {
         "geo": "geo2",
         "lat": [
          52.132633,
          60.472024
         ],
         "line": {
          "color": "green",
          "width": 0.5
         },
         "locationmode": "country names",
         "lon": [
          5.291266,
          8.468946
         ],
         "mode": "lines",
         "type": "scattergeo"
        },
        {
         "geo": "geo2",
         "lat": [
          60.472024,
          56.26392
         ],
         "line": {
          "color": "green",
          "width": 0.5509913195095937
         },
         "locationmode": "country names",
         "lon": [
          8.468946,
          9.501785
         ],
         "mode": "lines",
         "type": "scattergeo"
        },
        {
         "geo": "geo2",
         "lat": [
          60.472024,
          60.128161
         ],
         "line": {
          "color": "green",
          "width": 1.5914689172770133
         },
         "locationmode": "country names",
         "lon": [
          8.468946,
          18.643501
         ],
         "mode": "lines",
         "type": "scattergeo"
        },
        {
         "geo": "geo2",
         "lat": [
          51.919438,
          49.817492
         ],
         "line": {
          "color": "green",
          "width": 0.5552544374273338
         },
         "locationmode": "country names",
         "lon": [
          19.145135999999997,
          15.472961999999999
         ],
         "mode": "lines",
         "type": "scattergeo"
        },
        {
         "geo": "geo2",
         "lat": [
          51.919438,
          51.165690999999995
         ],
         "line": {
          "color": "green",
          "width": 1.701147314615238
         },
         "locationmode": "country names",
         "lon": [
          19.145135999999997,
          10.451526
         ],
         "mode": "lines",
         "type": "scattergeo"
        },
        {
         "geo": "geo2",
         "lat": [
          51.919438,
          60.128161
         ],
         "line": {
          "color": "green",
          "width": 0.5
         },
         "locationmode": "country names",
         "lon": [
          19.145135999999997,
          18.643501
         ],
         "mode": "lines",
         "type": "scattergeo"
        },
        {
         "geo": "geo2",
         "lat": [
          60.128161,
          56.26392
         ],
         "line": {
          "color": "green",
          "width": 3.997212083993675
         },
         "locationmode": "country names",
         "lon": [
          18.643501,
          9.501785
         ],
         "mode": "lines",
         "type": "scattergeo"
        },
        {
         "geo": "geo2",
         "hoverinfo": "text",
         "lat": [
          47.516231,
          47.516231,
          47.516231
         ],
         "locationmode": "country names",
         "lon": [
          14.300072,
          14.800072,
          14.050072
         ],
         "marker": {
          "color": [
           "blue",
           "yellow",
           "black"
          ],
          "line": {
           "color": [
            "orange",
            "black"
           ],
           "width": 10
          },
          "size": [
           0,
           2.370436558589252
          ],
          "symbol": "line-ns"
         },
         "mode": "markers",
         "text": "AT",
         "type": "scattergeo"
        },
        {
         "geo": "geo2",
         "hoverinfo": "text",
         "lat": [
          46.818188,
          46.818188,
          46.818188
         ],
         "locationmode": "country names",
         "lon": [
          7.977511999999999,
          8.477511999999999,
          7.727511999999999
         ],
         "marker": {
          "color": [
           "blue",
           "yellow",
           "black"
          ],
          "line": {
           "color": [
            "orange",
            "black"
           ],
           "width": 10
          },
          "size": [
           0,
           0
          ],
          "symbol": "line-ns"
         },
         "mode": "markers",
         "text": "CH",
         "type": "scattergeo"
        },
        {
         "geo": "geo2",
         "hoverinfo": "text",
         "lat": [
          49.817492,
          49.817492,
          49.817492
         ],
         "locationmode": "country names",
         "lon": [
          15.222961999999999,
          15.722961999999999,
          14.972961999999999
         ],
         "marker": {
          "color": [
           "blue",
           "yellow",
           "black"
          ],
          "line": {
           "color": [
            "orange",
            "black"
           ],
           "width": 10
          },
          "size": [
           0,
           0
          ],
          "symbol": "line-ns"
         },
         "mode": "markers",
         "text": "CZ",
         "type": "scattergeo"
        },
        {
         "geo": "geo2",
         "hoverinfo": "text",
         "lat": [
          51.165690999999995,
          51.165690999999995,
          51.165690999999995
         ],
         "locationmode": "country names",
         "lon": [
          10.201526,
          10.701526,
          9.951526
         ],
         "marker": {
          "color": [
           "blue",
           "yellow",
           "black"
          ],
          "line": {
           "color": [
            "orange",
            "black"
           ],
           "width": 10
          },
          "size": [
           26.889160256618656,
           3.0828981177530497
          ],
          "symbol": "line-ns"
         },
         "mode": "markers",
         "text": "DE",
         "type": "scattergeo"
        },
        {
         "geo": "geo2",
         "hoverinfo": "text",
         "lat": [
          56.26392,
          56.26392,
          56.26392
         ],
         "locationmode": "country names",
         "lon": [
          9.251785,
          9.751785,
          9.001785
         ],
         "marker": {
          "color": [
           "blue",
           "yellow",
           "black"
          ],
          "line": {
           "color": [
            "orange",
            "black"
           ],
           "width": 10
          },
          "size": [
           10.118505040188477,
           0
          ],
          "symbol": "line-ns"
         },
         "mode": "markers",
         "text": "DK",
         "type": "scattergeo"
        },
        {
         "geo": "geo2",
         "hoverinfo": "text",
         "lat": [
          52.132633,
          52.132633,
          52.132633
         ],
         "locationmode": "country names",
         "lon": [
          5.041266,
          5.541266,
          4.791266
         ],
         "marker": {
          "color": [
           "blue",
           "yellow",
           "black"
          ],
          "line": {
           "color": [
            "orange",
            "black"
           ],
           "width": 10
          },
          "size": [
           6.963238367085889,
           3.9103447027754976
          ],
          "symbol": "line-ns"
         },
         "mode": "markers",
         "text": "NL",
         "type": "scattergeo"
        },
        {
         "geo": "geo2",
         "hoverinfo": "text",
         "lat": [
          60.472024,
          60.472024,
          60.472024
         ],
         "locationmode": "country names",
         "lon": [
          8.218946,
          8.718946,
          7.968946000000001
         ],
         "marker": {
          "color": [
           "blue",
           "yellow",
           "black"
          ],
          "line": {
           "color": [
            "orange",
            "black"
           ],
           "width": 10
          },
          "size": [
           0,
           1.2430657394229028
          ],
          "symbol": "line-ns"
         },
         "mode": "markers",
         "text": "NO",
         "type": "scattergeo"
        },
        {
         "geo": "geo2",
         "hoverinfo": "text",
         "lat": [
          51.919438,
          51.919438,
          51.919438
         ],
         "locationmode": "country names",
         "lon": [
          18.895135999999997,
          19.395135999999997,
          18.645135999999997
         ],
         "marker": {
          "color": [
           "blue",
           "yellow",
           "black"
          ],
          "line": {
           "color": [
            "orange",
            "black"
           ],
           "width": 10
          },
          "size": [
           0,
           0
          ],
          "symbol": "line-ns"
         },
         "mode": "markers",
         "text": "PL",
         "type": "scattergeo"
        },
        {
         "geo": "geo2",
         "hoverinfo": "text",
         "lat": [
          60.128161,
          60.128161,
          60.128161
         ],
         "locationmode": "country names",
         "lon": [
          18.393501,
          18.893501,
          18.143501
         ],
         "marker": {
          "color": [
           "blue",
           "yellow",
           "black"
          ],
          "line": {
           "color": [
            "orange",
            "black"
           ],
           "width": 10
          },
          "size": [
           51.78785547421911,
           39.95610891303927
          ],
          "symbol": "line-ns"
         },
         "mode": "markers",
         "text": "SE",
         "type": "scattergeo"
        },
        {
         "geo": "geo3",
         "lat": [
          47.516231,
          46.818188
         ],
         "line": {
          "color": "green",
          "width": 1.8039123506664039
         },
         "locationmode": "country names",
         "lon": [
          14.550072,
          8.227511999999999
         ],
         "mode": "lines",
         "type": "scattergeo"
        },
        {
         "geo": "geo3",
         "lat": [
          47.516231,
          49.817492
         ],
         "line": {
          "color": "green",
          "width": 0.7395148516186804
         },
         "locationmode": "country names",
         "lon": [
          14.550072,
          15.472961999999999
         ],
         "mode": "lines",
         "type": "scattergeo"
        },
        {
         "geo": "geo3",
         "lat": [
          47.516231,
          51.165690999999995
         ],
         "line": {
          "color": "green",
          "width": 1.2636462137117994
         },
         "locationmode": "country names",
         "lon": [
          14.550072,
          10.451526
         ],
         "mode": "lines",
         "type": "scattergeo"
        },
        {
         "geo": "geo3",
         "lat": [
          46.818188,
          51.165690999999995
         ],
         "line": {
          "color": "green",
          "width": 1.9347012269003332
         },
         "locationmode": "country names",
         "lon": [
          8.227511999999999,
          10.451526
         ],
         "mode": "lines",
         "type": "scattergeo"
        },
        {
         "geo": "geo3",
         "lat": [
          49.817492,
          51.165690999999995
         ],
         "line": {
          "color": "green",
          "width": 0.5081191475124976
         },
         "locationmode": "country names",
         "lon": [
          15.472961999999999,
          10.451526
         ],
         "mode": "lines",
         "type": "scattergeo"
        },
        {
         "geo": "geo3",
         "lat": [
          51.165690999999995,
          56.26392
         ],
         "line": {
          "color": "green",
          "width": 5.5
         },
         "locationmode": "country names",
         "lon": [
          10.451526,
          9.501785
         ],
         "mode": "lines",
         "type": "scattergeo"
        },
        {
         "geo": "geo3",
         "lat": [
          51.165690999999995,
          60.128161
         ],
         "line": {
          "color": "green",
          "width": 3.4683811454212288
         },
         "locationmode": "country names",
         "lon": [
          10.451526,
          18.643501
         ],
         "mode": "lines",
         "type": "scattergeo"
        },
        {
         "geo": "geo3",
         "lat": [
          52.132633,
          51.165690999999995
         ],
         "line": {
          "color": "green",
          "width": 2.4005060597621277
         },
         "locationmode": "country names",
         "lon": [
          5.291266,
          10.451526
         ],
         "mode": "lines",
         "type": "scattergeo"
        },
        {
         "geo": "geo3",
         "lat": [
          52.132633,
          60.472024
         ],
         "line": {
          "color": "green",
          "width": 0.7351748607487021
         },
         "locationmode": "country names",
         "lon": [
          5.291266,
          8.468946
         ],
         "mode": "lines",
         "type": "scattergeo"
        },
        {
         "geo": "geo3",
         "lat": [
          60.472024,
          56.26392
         ],
         "line": {
          "color": "green",
          "width": 0.54684741033181
         },
         "locationmode": "country names",
         "lon": [
          8.468946,
          9.501785
         ],
         "mode": "lines",
         "type": "scattergeo"
        },
        {
         "geo": "geo3",
         "lat": [
          60.472024,
          60.128161
         ],
         "line": {
          "color": "green",
          "width": 1.8553587163787817
         },
         "locationmode": "country names",
         "lon": [
          8.468946,
          18.643501
         ],
         "mode": "lines",
         "type": "scattergeo"
        },
        {
         "geo": "geo3",
         "lat": [
          51.919438,
          49.817492
         ],
         "line": {
          "color": "green",
          "width": 2.017221565596298
         },
         "locationmode": "country names",
         "lon": [
          19.145135999999997,
          15.472961999999999
         ],
         "mode": "lines",
         "type": "scattergeo"
        },
        {
         "geo": "geo3",
         "lat": [
          51.919438,
          51.165690999999995
         ],
         "line": {
          "color": "green",
          "width": 1.069752351529182
         },
         "locationmode": "country names",
         "lon": [
          19.145135999999997,
          10.451526
         ],
         "mode": "lines",
         "type": "scattergeo"
        },
        {
         "geo": "geo3",
         "lat": [
          51.919438,
          60.128161
         ],
         "line": {
          "color": "green",
          "width": 5.100556085070673
         },
         "locationmode": "country names",
         "lon": [
          19.145135999999997,
          18.643501
         ],
         "mode": "lines",
         "type": "scattergeo"
        },
        {
         "geo": "geo3",
         "lat": [
          60.128161,
          56.26392
         ],
         "line": {
          "color": "green",
          "width": 0.9185447202539302
         },
         "locationmode": "country names",
         "lon": [
          18.643501,
          9.501785
         ],
         "mode": "lines",
         "type": "scattergeo"
        },
        {
         "geo": "geo3",
         "hoverinfo": "text",
         "lat": [
          47.516231,
          47.516231,
          47.516231
         ],
         "locationmode": "country names",
         "lon": [
          14.300072,
          14.800072,
          14.050072
         ],
         "marker": {
          "color": [
           "blue",
           "yellow",
           "black"
          ],
          "line": {
           "color": [
            "orange",
            "black"
           ],
           "width": 10
          },
          "size": [
           0,
           41.585882416818215
          ],
          "symbol": "line-ns"
         },
         "mode": "markers",
         "text": "AT",
         "type": "scattergeo"
        },
        {
         "geo": "geo3",
         "hoverinfo": "text",
         "lat": [
          46.818188,
          46.818188,
          46.818188
         ],
         "locationmode": "country names",
         "lon": [
          7.977511999999999,
          8.477511999999999,
          7.727511999999999
         ],
         "marker": {
          "color": [
           "blue",
           "yellow",
           "black"
          ],
          "line": {
           "color": [
            "orange",
            "black"
           ],
           "width": 10
          },
          "size": [
           8.190893911268752,
           0
          ],
          "symbol": "line-ns"
         },
         "mode": "markers",
         "text": "CH",
         "type": "scattergeo"
        },
        {
         "geo": "geo3",
         "hoverinfo": "text",
         "lat": [
          49.817492,
          49.817492,
          49.817492
         ],
         "locationmode": "country names",
         "lon": [
          15.222961999999999,
          15.722961999999999,
          14.972961999999999
         ],
         "marker": {
          "color": [
           "blue",
           "yellow",
           "black"
          ],
          "line": {
           "color": [
            "orange",
            "black"
           ],
           "width": 10
          },
          "size": [
           0,
           3.321736117873668
          ],
          "symbol": "line-ns"
         },
         "mode": "markers",
         "text": "CZ",
         "type": "scattergeo"
        },
        {
         "geo": "geo3",
         "hoverinfo": "text",
         "lat": [
          51.165690999999995,
          51.165690999999995,
          51.165690999999995
         ],
         "locationmode": "country names",
         "lon": [
          10.201526,
          10.701526,
          9.951526
         ],
         "marker": {
          "color": [
           "blue",
           "yellow",
           "black"
          ],
          "line": {
           "color": [
            "orange",
            "black"
           ],
           "width": 10
          },
          "size": [
           34.398585586910016,
           17.057207436954535
          ],
          "symbol": "line-ns"
         },
         "mode": "markers",
         "text": "DE",
         "type": "scattergeo"
        },
        {
         "geo": "geo3",
         "hoverinfo": "text",
         "lat": [
          56.26392,
          56.26392,
          56.26392
         ],
         "locationmode": "country names",
         "lon": [
          9.251785,
          9.751785,
          9.001785
         ],
         "marker": {
          "color": [
           "blue",
           "yellow",
           "black"
          ],
          "line": {
           "color": [
            "orange",
            "black"
           ],
           "width": 10
          },
          "size": [
           10.118505040188477,
           0
          ],
          "symbol": "line-ns"
         },
         "mode": "markers",
         "text": "DK",
         "type": "scattergeo"
        },
        {
         "geo": "geo3",
         "hoverinfo": "text",
         "lat": [
          52.132633,
          52.132633,
          52.132633
         ],
         "locationmode": "country names",
         "lon": [
          5.041266,
          5.541266,
          4.791266
         ],
         "marker": {
          "color": [
           "blue",
           "yellow",
           "black"
          ],
          "line": {
           "color": [
            "orange",
            "black"
           ],
           "width": 10
          },
          "size": [
           6.963238367085889,
           1.6530814614964806
          ],
          "symbol": "line-ns"
         },
         "mode": "markers",
         "text": "NL",
         "type": "scattergeo"
        },
        {
         "geo": "geo3",
         "hoverinfo": "text",
         "lat": [
          60.472024,
          60.472024,
          60.472024
         ],
         "locationmode": "country names",
         "lon": [
          8.218946,
          8.718946,
          7.968946000000001
         ],
         "marker": {
          "color": [
           "blue",
           "yellow",
           "black"
          ],
          "line": {
           "color": [
            "orange",
            "black"
           ],
           "width": 10
          },
          "size": [
           8.847395797907675,
           2.1583308866624673
          ],
          "symbol": "line-ns"
         },
         "mode": "markers",
         "text": "NO",
         "type": "scattergeo"
        },
        {
         "geo": "geo3",
         "hoverinfo": "text",
         "lat": [
          51.919438,
          51.919438,
          51.919438
         ],
         "locationmode": "country names",
         "lon": [
          18.895135999999997,
          19.395135999999997,
          18.645135999999997
         ],
         "marker": {
          "color": [
           "blue",
           "yellow",
           "black"
          ],
          "line": {
           "color": [
            "orange",
            "black"
           ],
           "width": 10
          },
          "size": [
           0,
           0
          ],
          "symbol": "line-ns"
         },
         "mode": "markers",
         "text": "PL",
         "type": "scattergeo"
        },
        {
         "geo": "geo3",
         "hoverinfo": "text",
         "lat": [
          60.128161,
          60.128161,
          60.128161
         ],
         "locationmode": "country names",
         "lon": [
          18.393501,
          18.893501,
          18.143501
         ],
         "marker": {
          "color": [
           "blue",
           "yellow",
           "black"
          ],
          "line": {
           "color": [
            "orange",
            "black"
           ],
           "width": 10
          },
          "size": [
           34.285987458990725,
           8.314265670264366
          ],
          "symbol": "line-ns"
         },
         "mode": "markers",
         "text": "SE",
         "type": "scattergeo"
        },
        {
         "geo": "geo4",
         "lat": [
          47.516231,
          46.818188
         ],
         "line": {
          "color": "green",
          "width": 0.5462399610610854
         },
         "locationmode": "country names",
         "lon": [
          14.550072,
          8.227511999999999
         ],
         "mode": "lines",
         "type": "scattergeo"
        },
        {
         "geo": "geo4",
         "lat": [
          47.516231,
          49.817492
         ],
         "line": {
          "color": "green",
          "width": 0.6390516567008094
         },
         "locationmode": "country names",
         "lon": [
          14.550072,
          15.472961999999999
         ],
         "mode": "lines",
         "type": "scattergeo"
        },
        {
         "geo": "geo4",
         "lat": [
          47.516231,
          51.165690999999995
         ],
         "line": {
          "color": "green",
          "width": 2.2898848241947856
         },
         "locationmode": "country names",
         "lon": [
          14.550072,
          10.451526
         ],
         "mode": "lines",
         "type": "scattergeo"
        },
        {
         "geo": "geo4",
         "lat": [
          46.818188,
          51.165690999999995
         ],
         "line": {
          "color": "green",
          "width": 1.9324653200292041
         },
         "locationmode": "country names",
         "lon": [
          8.227511999999999,
          10.451526
         ],
         "mode": "lines",
         "type": "scattergeo"
        },
        {
         "geo": "geo4",
         "lat": [
          49.817492,
          51.165690999999995
         ],
         "line": {
          "color": "green",
          "width": 0.5
         },
         "locationmode": "country names",
         "lon": [
          15.472961999999999,
          10.451526
         ],
         "mode": "lines",
         "type": "scattergeo"
        },
        {
         "geo": "geo4",
         "lat": [
          51.165690999999995,
          56.26392
         ],
         "line": {
          "color": "green",
          "width": 3.765847229238524
         },
         "locationmode": "country names",
         "lon": [
          10.451526,
          9.501785
         ],
         "mode": "lines",
         "type": "scattergeo"
        },
        {
         "geo": "geo4",
         "lat": [
          51.165690999999995,
          60.128161
         ],
         "line": {
          "color": "green",
          "width": 4.678283943042378
         },
         "locationmode": "country names",
         "lon": [
          10.451526,
          18.643501
         ],
         "mode": "lines",
         "type": "scattergeo"
        },
        {
         "geo": "geo4",
         "lat": [
          52.132633,
          51.165690999999995
         ],
         "line": {
          "color": "green",
          "width": 3.2317673886781084
         },
         "locationmode": "country names",
         "lon": [
          5.291266,
          10.451526
         ],
         "mode": "lines",
         "type": "scattergeo"
        },
        {
         "geo": "geo4",
         "lat": [
          52.132633,
          60.472024
         ],
         "line": {
          "color": "green",
          "width": 0.7129771587412058
         },
         "locationmode": "country names",
         "lon": [
          5.291266,
          8.468946
         ],
         "mode": "lines",
         "type": "scattergeo"
        },
        {
         "geo": "geo4",
         "lat": [
          60.472024,
          56.26392
         ],
         "line": {
          "color": "green",
          "width": 3.615803222156173
         },
         "locationmode": "country names",
         "lon": [
          8.468946,
          9.501785
         ],
         "mode": "lines",
         "type": "scattergeo"
        },
        {
         "geo": "geo4",
         "lat": [
          60.472024,
          60.128161
         ],
         "line": {
          "color": "green",
          "width": 1.147779322373826
         },
         "locationmode": "country names",
         "lon": [
          8.468946,
          18.643501
         ],
         "mode": "lines",
         "type": "scattergeo"
        },
        {
         "geo": "geo4",
         "lat": [
          51.919438,
          49.817492
         ],
         "line": {
          "color": "green",
          "width": 1.3045387665875854
         },
         "locationmode": "country names",
         "lon": [
          19.145135999999997,
          15.472961999999999
         ],
         "mode": "lines",
         "type": "scattergeo"
        },
        {
         "geo": "geo4",
         "lat": [
          51.919438,
          51.165690999999995
         ],
         "line": {
          "color": "green",
          "width": 5.5
         },
         "locationmode": "country names",
         "lon": [
          19.145135999999997,
          10.451526
         ],
         "mode": "lines",
         "type": "scattergeo"
        },
        {
         "geo": "geo4",
         "lat": [
          51.919438,
          60.128161
         ],
         "line": {
          "color": "green",
          "width": 1.3415307354364536
         },
         "locationmode": "country names",
         "lon": [
          19.145135999999997,
          18.643501
         ],
         "mode": "lines",
         "type": "scattergeo"
        },
        {
         "geo": "geo4",
         "lat": [
          60.128161,
          56.26392
         ],
         "line": {
          "color": "green",
          "width": 0.5
         },
         "locationmode": "country names",
         "lon": [
          18.643501,
          9.501785
         ],
         "mode": "lines",
         "type": "scattergeo"
        },
        {
         "geo": "geo4",
         "hoverinfo": "text",
         "lat": [
          47.516231,
          47.516231,
          47.516231
         ],
         "locationmode": "country names",
         "lon": [
          14.300072,
          14.800072,
          14.050072
         ],
         "marker": {
          "color": [
           "blue",
           "yellow",
           "black"
          ],
          "line": {
           "color": [
            "orange",
            "black"
           ],
           "width": 10
          },
          "size": [
           2.9968759150529496,
           3.289
          ],
          "symbol": "line-ns"
         },
         "mode": "markers",
         "text": "AT",
         "type": "scattergeo"
        },
        {
         "geo": "geo4",
         "hoverinfo": "text",
         "lat": [
          46.818188,
          46.818188,
          46.818188
         ],
         "locationmode": "country names",
         "lon": [
          7.977511999999999,
          8.477511999999999,
          7.727511999999999
         ],
         "marker": {
          "color": [
           "blue",
           "yellow",
           "black"
          ],
          "line": {
           "color": [
            "orange",
            "black"
           ],
           "width": 10
          },
          "size": [
           6.595625354690661,
           0.2839357839174089
          ],
          "symbol": "line-ns"
         },
         "mode": "markers",
         "text": "CH",
         "type": "scattergeo"
        },
        {
         "geo": "geo4",
         "hoverinfo": "text",
         "lat": [
          49.817492,
          49.817492,
          49.817492
         ],
         "locationmode": "country names",
         "lon": [
          15.222961999999999,
          15.722961999999999,
          14.972961999999999
         ],
         "marker": {
          "color": [
           "blue",
           "yellow",
           "black"
          ],
          "line": {
           "color": [
            "orange",
            "black"
           ],
           "width": 10
          },
          "size": [
           15.864876079294804,
           0.9374029461079458
          ],
          "symbol": "line-ns"
         },
         "mode": "markers",
         "text": "CZ",
         "type": "scattergeo"
        },
        {
         "geo": "geo4",
         "hoverinfo": "text",
         "lat": [
          51.165690999999995,
          51.165690999999995,
          51.165690999999995
         ],
         "locationmode": "country names",
         "lon": [
          10.201526,
          10.701526,
          9.951526
         ],
         "marker": {
          "color": [
           "blue",
           "yellow",
           "black"
          ],
          "line": {
           "color": [
            "orange",
            "black"
           ],
           "width": 10
          },
          "size": [
           59.206186476498615,
           16.449527840516943
          ],
          "symbol": "line-ns"
         },
         "mode": "markers",
         "text": "DE",
         "type": "scattergeo"
        },
        {
         "geo": "geo4",
         "hoverinfo": "text",
         "lat": [
          56.26392,
          56.26392,
          56.26392
         ],
         "locationmode": "country names",
         "lon": [
          9.251785,
          9.751785,
          9.001785
         ],
         "marker": {
          "color": [
           "blue",
           "yellow",
           "black"
          ],
          "line": {
           "color": [
            "orange",
            "black"
           ],
           "width": 10
          },
          "size": [
           10.118505040188477,
           0
          ],
          "symbol": "line-ns"
         },
         "mode": "markers",
         "text": "DK",
         "type": "scattergeo"
        },
        {
         "geo": "geo4",
         "hoverinfo": "text",
         "lat": [
          52.132633,
          52.132633,
          52.132633
         ],
         "locationmode": "country names",
         "lon": [
          5.041266,
          5.541266,
          4.791266
         ],
         "marker": {
          "color": [
           "blue",
           "yellow",
           "black"
          ],
          "line": {
           "color": [
            "orange",
            "black"
           ],
           "width": 10
          },
          "size": [
           16.755172659805037,
           0.9784192832690629
          ],
          "symbol": "line-ns"
         },
         "mode": "markers",
         "text": "NL",
         "type": "scattergeo"
        },
        {
         "geo": "geo4",
         "hoverinfo": "text",
         "lat": [
          60.472024,
          60.472024,
          60.472024
         ],
         "locationmode": "country names",
         "lon": [
          8.218946,
          8.718946,
          7.968946000000001
         ],
         "marker": {
          "color": [
           "blue",
           "yellow",
           "black"
          ],
          "line": {
           "color": [
            "orange",
            "black"
           ],
           "width": 10
          },
          "size": [
           6.829155937212026,
           1.5470563371641533
          ],
          "symbol": "line-ns"
         },
         "mode": "markers",
         "text": "NO",
         "type": "scattergeo"
        },
        {
         "geo": "geo4",
         "hoverinfo": "text",
         "lat": [
          51.919438,
          51.919438,
          51.919438
         ],
         "locationmode": "country names",
         "lon": [
          18.895135999999997,
          19.395135999999997,
          18.645135999999997
         ],
         "marker": {
          "color": [
           "blue",
           "yellow",
           "black"
          ],
          "line": {
           "color": [
            "orange",
            "black"
           ],
           "width": 10
          },
          "size": [
           0,
           0
          ],
          "symbol": "line-ns"
         },
         "mode": "markers",
         "text": "PL",
         "type": "scattergeo"
        },
        {
         "geo": "geo4",
         "hoverinfo": "text",
         "lat": [
          60.128161,
          60.128161,
          60.128161
         ],
         "locationmode": "country names",
         "lon": [
          18.393501,
          18.893501,
          18.143501
         ],
         "marker": {
          "color": [
           "blue",
           "yellow",
           "black"
          ],
          "line": {
           "color": [
            "orange",
            "black"
           ],
           "width": 10
          },
          "size": [
           18.463779838534627,
           11.153606346565484
          ],
          "symbol": "line-ns"
         },
         "mode": "markers",
         "text": "SE",
         "type": "scattergeo"
        },
        {
         "marker": {
          "line": {
           "color": [
            "black",
            "black",
            "black",
            "orange",
            "orange",
            "orange"
           ],
           "width": 7
          },
          "size": [
           25,
           12.5,
           5,
           25,
           12.5,
           5
          ],
          "symbol": "line-ns"
         },
         "mode": "markers",
         "type": "scatter",
         "x": [
          0.1,
          0.13,
          0.16,
          0.3,
          0.33,
          0.36
         ],
         "xaxis": "x",
         "y": [
          6,
          6,
          6,
          6,
          6,
          6
         ],
         "yaxis": "y"
        },
        {
         "marker": {
          "line": {
           "color": [
            "green",
            "green",
            "green"
           ],
           "width": [
            6.584205402774398,
            2.933682161109759,
            0.5
           ]
          },
          "size": 15,
          "symbol": "line-ew"
         },
         "mode": "markers",
         "type": "scatter",
         "x": [
          0.5,
          0.53,
          0.56
         ],
         "xaxis": "x",
         "y": [
          6,
          6,
          6
         ],
         "yaxis": "y"
        },
        {
         "mode": "text",
         "text": [
          "OCGT [GW]",
          "VRES [GW]",
          "Transmission [GW]",
          "100",
          "50",
          "20",
          "100",
          "50",
          "20",
          "25",
          "10",
          "0"
         ],
         "textposition": "middle center",
         "type": "scatter",
         "x": [
          0.13,
          0.33,
          0.52,
          0.1,
          0.13,
          0.16,
          0.3,
          0.33,
          0.36,
          0.5,
          0.53,
          0.56
         ],
         "xaxis": "x",
         "y": [
          9,
          9,
          9,
          3,
          3,
          3,
          3,
          3,
          3,
          3,
          3,
          3
         ],
         "yaxis": "y"
        }
       ],
       "layout": {
        "annotations": [
         {
          "font": {
           "size": 16
          },
          "showarrow": false,
          "text": "(a)",
          "x": 0.225,
          "xanchor": "center",
          "xref": "paper",
          "y": 0.5476190476190477,
          "yanchor": "bottom",
          "yref": "paper"
         },
         {
          "font": {
           "size": 16
          },
          "showarrow": false,
          "text": "(b)",
          "x": 0.775,
          "xanchor": "center",
          "xref": "paper",
          "y": 0.5476190476190477,
          "yanchor": "bottom",
          "yref": "paper"
         },
         {
          "font": {
           "size": 16
          },
          "showarrow": false,
          "text": "(c)",
          "x": 0.225,
          "xanchor": "center",
          "xref": "paper",
          "y": 0.09523809523809525,
          "yanchor": "bottom",
          "yref": "paper"
         },
         {
          "font": {
           "size": 16
          },
          "showarrow": false,
          "text": "(d)",
          "x": 0.775,
          "xanchor": "center",
          "xref": "paper",
          "y": 0.09523809523809525,
          "yanchor": "bottom",
          "yref": "paper"
         }
        ],
        "autosize": false,
        "geo": {
         "countrycolor": "rgb(204, 204, 204)",
         "domain": {
          "x": [
           0,
           0.48
          ],
          "y": [
           0.55,
           1
          ]
         },
         "landcolor": "rgb(243, 243, 243)",
         "lataxis": {
          "range": [
           45,
           62
          ],
          "showgrid": false
         },
         "lonaxis": {
          "range": [
           0,
           24
          ],
          "showgrid": false
         },
         "projection": {
          "type": "azimuthal equal area"
         },
         "scope": "europe",
         "showland": true,
         "showocean": false
        },
        "geo2": {
         "countrycolor": "rgb(204, 204, 204)",
         "domain": {
          "x": [
           0.52,
           0.99
          ],
          "y": [
           0.55,
           1
          ]
         },
         "landcolor": "rgb(243, 243, 243)",
         "lataxis": {
          "range": [
           45,
           62
          ],
          "showgrid": false
         },
         "lonaxis": {
          "range": [
           0,
           24
          ],
          "showgrid": false
         },
         "projection": {
          "type": "azimuthal equal area"
         },
         "scope": "europe",
         "showland": true,
         "showocean": false
        },
        "geo3": {
         "countrycolor": "rgb(204, 204, 204)",
         "domain": {
          "x": [
           0,
           0.48
          ],
          "y": [
           0.1,
           0.55
          ]
         },
         "landcolor": "rgb(243, 243, 243)",
         "lataxis": {
          "range": [
           45,
           62
          ],
          "showgrid": false
         },
         "lonaxis": {
          "range": [
           0,
           24
          ],
          "showgrid": false
         },
         "projection": {
          "type": "azimuthal equal area"
         },
         "scope": "europe",
         "showland": true,
         "showocean": false
        },
        "geo4": {
         "countrycolor": "rgb(204, 204, 204)",
         "domain": {
          "x": [
           0.52,
           0.99
          ],
          "y": [
           0.1,
           0.55
          ]
         },
         "landcolor": "rgb(243, 243, 243)",
         "lataxis": {
          "range": [
           45,
           62
          ],
          "showgrid": false
         },
         "lonaxis": {
          "range": [
           0,
           24
          ],
          "showgrid": false
         },
         "projection": {
          "type": "azimuthal equal area"
         },
         "scope": "europe",
         "showland": true,
         "showocean": false
        },
        "height": 1000,
        "margin": {
         "b": 5,
         "l": 5,
         "pad": 0,
         "r": 5,
         "t": 5
        },
        "paper_bgcolor": "rgba(0,0,0,0)",
        "plot_bgcolor": "rgba(0,0,0,0)",
        "showlegend": false,
        "template": {
         "data": {
          "bar": [
           {
            "error_x": {
             "color": "#2a3f5f"
            },
            "error_y": {
             "color": "#2a3f5f"
            },
            "marker": {
             "line": {
              "color": "#E5ECF6",
              "width": 0.5
             }
            },
            "type": "bar"
           }
          ],
          "barpolar": [
           {
            "marker": {
             "line": {
              "color": "#E5ECF6",
              "width": 0.5
             }
            },
            "type": "barpolar"
           }
          ],
          "carpet": [
           {
            "aaxis": {
             "endlinecolor": "#2a3f5f",
             "gridcolor": "white",
             "linecolor": "white",
             "minorgridcolor": "white",
             "startlinecolor": "#2a3f5f"
            },
            "baxis": {
             "endlinecolor": "#2a3f5f",
             "gridcolor": "white",
             "linecolor": "white",
             "minorgridcolor": "white",
             "startlinecolor": "#2a3f5f"
            },
            "type": "carpet"
           }
          ],
          "choropleth": [
           {
            "colorbar": {
             "outlinewidth": 0,
             "ticks": ""
            },
            "type": "choropleth"
           }
          ],
          "contour": [
           {
            "colorbar": {
             "outlinewidth": 0,
             "ticks": ""
            },
            "colorscale": [
             [
              0,
              "#0d0887"
             ],
             [
              0.1111111111111111,
              "#46039f"
             ],
             [
              0.2222222222222222,
              "#7201a8"
             ],
             [
              0.3333333333333333,
              "#9c179e"
             ],
             [
              0.4444444444444444,
              "#bd3786"
             ],
             [
              0.5555555555555556,
              "#d8576b"
             ],
             [
              0.6666666666666666,
              "#ed7953"
             ],
             [
              0.7777777777777778,
              "#fb9f3a"
             ],
             [
              0.8888888888888888,
              "#fdca26"
             ],
             [
              1,
              "#f0f921"
             ]
            ],
            "type": "contour"
           }
          ],
          "contourcarpet": [
           {
            "colorbar": {
             "outlinewidth": 0,
             "ticks": ""
            },
            "type": "contourcarpet"
           }
          ],
          "heatmap": [
           {
            "colorbar": {
             "outlinewidth": 0,
             "ticks": ""
            },
            "colorscale": [
             [
              0,
              "#0d0887"
             ],
             [
              0.1111111111111111,
              "#46039f"
             ],
             [
              0.2222222222222222,
              "#7201a8"
             ],
             [
              0.3333333333333333,
              "#9c179e"
             ],
             [
              0.4444444444444444,
              "#bd3786"
             ],
             [
              0.5555555555555556,
              "#d8576b"
             ],
             [
              0.6666666666666666,
              "#ed7953"
             ],
             [
              0.7777777777777778,
              "#fb9f3a"
             ],
             [
              0.8888888888888888,
              "#fdca26"
             ],
             [
              1,
              "#f0f921"
             ]
            ],
            "type": "heatmap"
           }
          ],
          "heatmapgl": [
           {
            "colorbar": {
             "outlinewidth": 0,
             "ticks": ""
            },
            "colorscale": [
             [
              0,
              "#0d0887"
             ],
             [
              0.1111111111111111,
              "#46039f"
             ],
             [
              0.2222222222222222,
              "#7201a8"
             ],
             [
              0.3333333333333333,
              "#9c179e"
             ],
             [
              0.4444444444444444,
              "#bd3786"
             ],
             [
              0.5555555555555556,
              "#d8576b"
             ],
             [
              0.6666666666666666,
              "#ed7953"
             ],
             [
              0.7777777777777778,
              "#fb9f3a"
             ],
             [
              0.8888888888888888,
              "#fdca26"
             ],
             [
              1,
              "#f0f921"
             ]
            ],
            "type": "heatmapgl"
           }
          ],
          "histogram": [
           {
            "marker": {
             "colorbar": {
              "outlinewidth": 0,
              "ticks": ""
             }
            },
            "type": "histogram"
           }
          ],
          "histogram2d": [
           {
            "colorbar": {
             "outlinewidth": 0,
             "ticks": ""
            },
            "colorscale": [
             [
              0,
              "#0d0887"
             ],
             [
              0.1111111111111111,
              "#46039f"
             ],
             [
              0.2222222222222222,
              "#7201a8"
             ],
             [
              0.3333333333333333,
              "#9c179e"
             ],
             [
              0.4444444444444444,
              "#bd3786"
             ],
             [
              0.5555555555555556,
              "#d8576b"
             ],
             [
              0.6666666666666666,
              "#ed7953"
             ],
             [
              0.7777777777777778,
              "#fb9f3a"
             ],
             [
              0.8888888888888888,
              "#fdca26"
             ],
             [
              1,
              "#f0f921"
             ]
            ],
            "type": "histogram2d"
           }
          ],
          "histogram2dcontour": [
           {
            "colorbar": {
             "outlinewidth": 0,
             "ticks": ""
            },
            "colorscale": [
             [
              0,
              "#0d0887"
             ],
             [
              0.1111111111111111,
              "#46039f"
             ],
             [
              0.2222222222222222,
              "#7201a8"
             ],
             [
              0.3333333333333333,
              "#9c179e"
             ],
             [
              0.4444444444444444,
              "#bd3786"
             ],
             [
              0.5555555555555556,
              "#d8576b"
             ],
             [
              0.6666666666666666,
              "#ed7953"
             ],
             [
              0.7777777777777778,
              "#fb9f3a"
             ],
             [
              0.8888888888888888,
              "#fdca26"
             ],
             [
              1,
              "#f0f921"
             ]
            ],
            "type": "histogram2dcontour"
           }
          ],
          "mesh3d": [
           {
            "colorbar": {
             "outlinewidth": 0,
             "ticks": ""
            },
            "type": "mesh3d"
           }
          ],
          "parcoords": [
           {
            "line": {
             "colorbar": {
              "outlinewidth": 0,
              "ticks": ""
             }
            },
            "type": "parcoords"
           }
          ],
          "scatter": [
           {
            "marker": {
             "colorbar": {
              "outlinewidth": 0,
              "ticks": ""
             }
            },
            "type": "scatter"
           }
          ],
          "scatter3d": [
           {
            "line": {
             "colorbar": {
              "outlinewidth": 0,
              "ticks": ""
             }
            },
            "marker": {
             "colorbar": {
              "outlinewidth": 0,
              "ticks": ""
             }
            },
            "type": "scatter3d"
           }
          ],
          "scattercarpet": [
           {
            "marker": {
             "colorbar": {
              "outlinewidth": 0,
              "ticks": ""
             }
            },
            "type": "scattercarpet"
           }
          ],
          "scattergeo": [
           {
            "marker": {
             "colorbar": {
              "outlinewidth": 0,
              "ticks": ""
             }
            },
            "type": "scattergeo"
           }
          ],
          "scattergl": [
           {
            "marker": {
             "colorbar": {
              "outlinewidth": 0,
              "ticks": ""
             }
            },
            "type": "scattergl"
           }
          ],
          "scattermapbox": [
           {
            "marker": {
             "colorbar": {
              "outlinewidth": 0,
              "ticks": ""
             }
            },
            "type": "scattermapbox"
           }
          ],
          "scatterpolar": [
           {
            "marker": {
             "colorbar": {
              "outlinewidth": 0,
              "ticks": ""
             }
            },
            "type": "scatterpolar"
           }
          ],
          "scatterpolargl": [
           {
            "marker": {
             "colorbar": {
              "outlinewidth": 0,
              "ticks": ""
             }
            },
            "type": "scatterpolargl"
           }
          ],
          "scatterternary": [
           {
            "marker": {
             "colorbar": {
              "outlinewidth": 0,
              "ticks": ""
             }
            },
            "type": "scatterternary"
           }
          ],
          "surface": [
           {
            "colorbar": {
             "outlinewidth": 0,
             "ticks": ""
            },
            "colorscale": [
             [
              0,
              "#0d0887"
             ],
             [
              0.1111111111111111,
              "#46039f"
             ],
             [
              0.2222222222222222,
              "#7201a8"
             ],
             [
              0.3333333333333333,
              "#9c179e"
             ],
             [
              0.4444444444444444,
              "#bd3786"
             ],
             [
              0.5555555555555556,
              "#d8576b"
             ],
             [
              0.6666666666666666,
              "#ed7953"
             ],
             [
              0.7777777777777778,
              "#fb9f3a"
             ],
             [
              0.8888888888888888,
              "#fdca26"
             ],
             [
              1,
              "#f0f921"
             ]
            ],
            "type": "surface"
           }
          ],
          "table": [
           {
            "cells": {
             "fill": {
              "color": "#EBF0F8"
             },
             "line": {
              "color": "white"
             }
            },
            "header": {
             "fill": {
              "color": "#C8D4E3"
             },
             "line": {
              "color": "white"
             }
            },
            "type": "table"
           }
          ]
         },
         "layout": {
          "annotationdefaults": {
           "arrowcolor": "#2a3f5f",
           "arrowhead": 0,
           "arrowwidth": 1
          },
          "colorscale": {
           "diverging": [
            [
             0,
             "#8e0152"
            ],
            [
             0.1,
             "#c51b7d"
            ],
            [
             0.2,
             "#de77ae"
            ],
            [
             0.3,
             "#f1b6da"
            ],
            [
             0.4,
             "#fde0ef"
            ],
            [
             0.5,
             "#f7f7f7"
            ],
            [
             0.6,
             "#e6f5d0"
            ],
            [
             0.7,
             "#b8e186"
            ],
            [
             0.8,
             "#7fbc41"
            ],
            [
             0.9,
             "#4d9221"
            ],
            [
             1,
             "#276419"
            ]
           ],
           "sequential": [
            [
             0,
             "#0d0887"
            ],
            [
             0.1111111111111111,
             "#46039f"
            ],
            [
             0.2222222222222222,
             "#7201a8"
            ],
            [
             0.3333333333333333,
             "#9c179e"
            ],
            [
             0.4444444444444444,
             "#bd3786"
            ],
            [
             0.5555555555555556,
             "#d8576b"
            ],
            [
             0.6666666666666666,
             "#ed7953"
            ],
            [
             0.7777777777777778,
             "#fb9f3a"
            ],
            [
             0.8888888888888888,
             "#fdca26"
            ],
            [
             1,
             "#f0f921"
            ]
           ],
           "sequentialminus": [
            [
             0,
             "#0d0887"
            ],
            [
             0.1111111111111111,
             "#46039f"
            ],
            [
             0.2222222222222222,
             "#7201a8"
            ],
            [
             0.3333333333333333,
             "#9c179e"
            ],
            [
             0.4444444444444444,
             "#bd3786"
            ],
            [
             0.5555555555555556,
             "#d8576b"
            ],
            [
             0.6666666666666666,
             "#ed7953"
            ],
            [
             0.7777777777777778,
             "#fb9f3a"
            ],
            [
             0.8888888888888888,
             "#fdca26"
            ],
            [
             1,
             "#f0f921"
            ]
           ]
          },
          "colorway": [
           "#636efa",
           "#EF553B",
           "#00cc96",
           "#ab63fa",
           "#FFA15A",
           "#19d3f3",
           "#FF6692",
           "#B6E880",
           "#FF97FF",
           "#FECB52"
          ],
          "font": {
           "color": "#2a3f5f"
          },
          "geo": {
           "bgcolor": "white",
           "lakecolor": "white",
           "landcolor": "#E5ECF6",
           "showlakes": true,
           "showland": true,
           "subunitcolor": "white"
          },
          "hoverlabel": {
           "align": "left"
          },
          "hovermode": "closest",
          "mapbox": {
           "style": "light"
          },
          "paper_bgcolor": "white",
          "plot_bgcolor": "#E5ECF6",
          "polar": {
           "angularaxis": {
            "gridcolor": "white",
            "linecolor": "white",
            "ticks": ""
           },
           "bgcolor": "#E5ECF6",
           "radialaxis": {
            "gridcolor": "white",
            "linecolor": "white",
            "ticks": ""
           }
          },
          "scene": {
           "xaxis": {
            "backgroundcolor": "#E5ECF6",
            "gridcolor": "white",
            "gridwidth": 2,
            "linecolor": "white",
            "showbackground": true,
            "ticks": "",
            "zerolinecolor": "white"
           },
           "yaxis": {
            "backgroundcolor": "#E5ECF6",
            "gridcolor": "white",
            "gridwidth": 2,
            "linecolor": "white",
            "showbackground": true,
            "ticks": "",
            "zerolinecolor": "white"
           },
           "zaxis": {
            "backgroundcolor": "#E5ECF6",
            "gridcolor": "white",
            "gridwidth": 2,
            "linecolor": "white",
            "showbackground": true,
            "ticks": "",
            "zerolinecolor": "white"
           }
          },
          "shapedefaults": {
           "line": {
            "color": "#2a3f5f"
           }
          },
          "ternary": {
           "aaxis": {
            "gridcolor": "white",
            "linecolor": "white",
            "ticks": ""
           },
           "baxis": {
            "gridcolor": "white",
            "linecolor": "white",
            "ticks": ""
           },
           "bgcolor": "#E5ECF6",
           "caxis": {
            "gridcolor": "white",
            "linecolor": "white",
            "ticks": ""
           }
          },
          "title": {
           "x": 0.05
          },
          "xaxis": {
           "automargin": true,
           "gridcolor": "white",
           "linecolor": "white",
           "ticks": "",
           "zerolinecolor": "white",
           "zerolinewidth": 2
          },
          "yaxis": {
           "automargin": true,
           "gridcolor": "white",
           "linecolor": "white",
           "ticks": "",
           "zerolinecolor": "white",
           "zerolinewidth": 2
          }
         }
        },
        "width": 1000,
        "xaxis": {
         "anchor": "y",
         "domain": [
          0,
          1
         ],
         "range": [
          0,
          0.7
         ],
         "showticklabels": false
        },
        "xaxis2": {
         "anchor": "y2",
         "domain": [
          0.55,
          1
         ]
        },
        "yaxis": {
         "anchor": "x",
         "domain": [
          0,
          0.08
         ],
         "range": [
          0,
          10
         ],
         "showticklabels": false
        },
        "yaxis2": {
         "anchor": "x2",
         "domain": [
          0,
          0.09523809523809525
         ]
        }
       }
      },
      "text/html": [
       "<div>\n",
       "        \n",
       "        \n",
       "            <div id=\"7503fb5e-2424-4598-a57a-c474c7025b8a\" class=\"plotly-graph-div\" style=\"height:1000px; width:1000px;\"></div>\n",
       "            <script type=\"text/javascript\">\n",
       "                require([\"plotly\"], function(Plotly) {\n",
       "                    window.PLOTLYENV=window.PLOTLYENV || {};\n",
       "                    \n",
       "                if (document.getElementById(\"7503fb5e-2424-4598-a57a-c474c7025b8a\")) {\n",
       "                    Plotly.newPlot(\n",
       "                        '7503fb5e-2424-4598-a57a-c474c7025b8a',\n",
       "                        [{\"geo\": \"geo\", \"lat\": [47.516231, 46.818188], \"line\": {\"color\": \"green\", \"width\": 0.5}, \"locationmode\": \"country names\", \"lon\": [14.550072, 8.227511999999999], \"mode\": \"lines\", \"type\": \"scattergeo\"}, {\"geo\": \"geo\", \"lat\": [47.516231, 49.817492], \"line\": {\"color\": \"green\", \"width\": 0.5847153453273619}, \"locationmode\": \"country names\", \"lon\": [14.550072, 15.472961999999999], \"mode\": \"lines\", \"type\": \"scattergeo\"}, {\"geo\": \"geo\", \"lat\": [47.516231, 51.165690999999995], \"line\": {\"color\": \"green\", \"width\": 1.704767804422671}, \"locationmode\": \"country names\", \"lon\": [14.550072, 10.451526], \"mode\": \"lines\", \"type\": \"scattergeo\"}, {\"geo\": \"geo\", \"lat\": [46.818188, 51.165690999999995], \"line\": {\"color\": \"green\", \"width\": 1.717234821432786}, \"locationmode\": \"country names\", \"lon\": [8.227511999999999, 10.451526], \"mode\": \"lines\", \"type\": \"scattergeo\"}, {\"geo\": \"geo\", \"lat\": [49.817492, 51.165690999999995], \"line\": {\"color\": \"green\", \"width\": 2.286074378691894}, \"locationmode\": \"country names\", \"lon\": [15.472961999999999, 10.451526], \"mode\": \"lines\", \"type\": \"scattergeo\"}, {\"geo\": \"geo\", \"lat\": [51.165690999999995, 56.26392], \"line\": {\"color\": \"green\", \"width\": 3.663424492590259}, \"locationmode\": \"country names\", \"lon\": [10.451526, 9.501785], \"mode\": \"lines\", \"type\": \"scattergeo\"}, {\"geo\": \"geo\", \"lat\": [51.165690999999995, 60.128161], \"line\": {\"color\": \"green\", \"width\": 1.3657207047196098}, \"locationmode\": \"country names\", \"lon\": [10.451526, 18.643501], \"mode\": \"lines\", \"type\": \"scattergeo\"}, {\"geo\": \"geo\", \"lat\": [52.132633, 51.165690999999995], \"line\": {\"color\": \"green\", \"width\": 0.6957932532175786}, \"locationmode\": \"country names\", \"lon\": [5.291266, 10.451526], \"mode\": \"lines\", \"type\": \"scattergeo\"}, {\"geo\": \"geo\", \"lat\": [52.132633, 60.472024], \"line\": {\"color\": \"green\", \"width\": 1.3115734343022905}, \"locationmode\": \"country names\", \"lon\": [5.291266, 8.468946], \"mode\": \"lines\", \"type\": \"scattergeo\"}, {\"geo\": \"geo\", \"lat\": [60.472024, 56.26392], \"line\": {\"color\": \"green\", \"width\": 2.937434283618366}, \"locationmode\": \"country names\", \"lon\": [8.468946, 9.501785], \"mode\": \"lines\", \"type\": \"scattergeo\"}, {\"geo\": \"geo\", \"lat\": [60.472024, 60.128161], \"line\": {\"color\": \"green\", \"width\": 0.5173104335371596}, \"locationmode\": \"country names\", \"lon\": [8.468946, 18.643501], \"mode\": \"lines\", \"type\": \"scattergeo\"}, {\"geo\": \"geo\", \"lat\": [51.919438, 49.817492], \"line\": {\"color\": \"green\", \"width\": 5.5}, \"locationmode\": \"country names\", \"lon\": [19.145135999999997, 15.472961999999999], \"mode\": \"lines\", \"type\": \"scattergeo\"}, {\"geo\": \"geo\", \"lat\": [51.919438, 51.165690999999995], \"line\": {\"color\": \"green\", \"width\": 1.4580462653757977}, \"locationmode\": \"country names\", \"lon\": [19.145135999999997, 10.451526], \"mode\": \"lines\", \"type\": \"scattergeo\"}, {\"geo\": \"geo\", \"lat\": [51.919438, 60.128161], \"line\": {\"color\": \"green\", \"width\": 2.372616753611676}, \"locationmode\": \"country names\", \"lon\": [19.145135999999997, 18.643501], \"mode\": \"lines\", \"type\": \"scattergeo\"}, {\"geo\": \"geo\", \"lat\": [60.128161, 56.26392], \"line\": {\"color\": \"green\", \"width\": 1.102477570920529}, \"locationmode\": \"country names\", \"lon\": [18.643501, 9.501785], \"mode\": \"lines\", \"type\": \"scattergeo\"}, {\"geo\": \"geo\", \"hoverinfo\": \"text\", \"lat\": [47.516231, 47.516231, 47.516231], \"locationmode\": \"country names\", \"lon\": [14.300072, 14.800072, 14.050072], \"marker\": {\"color\": [\"blue\", \"yellow\", \"black\"], \"line\": {\"color\": [\"orange\", \"black\"], \"width\": 10}, \"size\": [8.78648176879018, 0.8794702568186152], \"symbol\": \"line-ns\"}, \"mode\": \"markers\", \"text\": \"AT\", \"type\": \"scattergeo\"}, {\"geo\": \"geo\", \"hoverinfo\": \"text\", \"lat\": [46.818188, 46.818188, 46.818188], \"locationmode\": \"country names\", \"lon\": [7.977511999999999, 8.477511999999999, 7.727511999999999], \"marker\": {\"color\": [\"blue\", \"yellow\", \"black\"], \"line\": {\"color\": [\"orange\", \"black\"], \"width\": 10}, \"size\": [0.5321309103797027, 0.29847411898062315], \"symbol\": \"line-ns\"}, \"mode\": \"markers\", \"text\": \"CH\", \"type\": \"scattergeo\"}, {\"geo\": \"geo\", \"hoverinfo\": \"text\", \"lat\": [49.817492, 49.817492, 49.817492], \"locationmode\": \"country names\", \"lon\": [15.222961999999999, 15.722961999999999, 14.972961999999999], \"marker\": {\"color\": [\"blue\", \"yellow\", \"black\"], \"line\": {\"color\": [\"orange\", \"black\"], \"width\": 10}, \"size\": [20.79752670471536, 0.0], \"symbol\": \"line-ns\"}, \"mode\": \"markers\", \"text\": \"CZ\", \"type\": \"scattergeo\"}, {\"geo\": \"geo\", \"hoverinfo\": \"text\", \"lat\": [51.165690999999995, 51.165690999999995, 51.165690999999995], \"locationmode\": \"country names\", \"lon\": [10.201526, 10.701526, 9.951526], \"marker\": {\"color\": [\"blue\", \"yellow\", \"black\"], \"line\": {\"color\": [\"orange\", \"black\"], \"width\": 10}, \"size\": [54.30822882451621, 11.096105682470148], \"symbol\": \"line-ns\"}, \"mode\": \"markers\", \"text\": \"DE\", \"type\": \"scattergeo\"}, {\"geo\": \"geo\", \"hoverinfo\": \"text\", \"lat\": [56.26392, 56.26392, 56.26392], \"locationmode\": \"country names\", \"lon\": [9.251785, 9.751785, 9.001785], \"marker\": {\"color\": [\"blue\", \"yellow\", \"black\"], \"line\": {\"color\": [\"orange\", \"black\"], \"width\": 10}, \"size\": [10.118505040188477, 0.0], \"symbol\": \"line-ns\"}, \"mode\": \"markers\", \"text\": \"DK\", \"type\": \"scattergeo\"}, {\"geo\": \"geo\", \"hoverinfo\": \"text\", \"lat\": [52.132633, 52.132633, 52.132633], \"locationmode\": \"country names\", \"lon\": [5.041266, 5.541266, 4.791266], \"marker\": {\"color\": [\"blue\", \"yellow\", \"black\"], \"line\": {\"color\": [\"orange\", \"black\"], \"width\": 10}, \"size\": [6.963238367085889, 2.7547612943199518], \"symbol\": \"line-ns\"}, \"mode\": \"markers\", \"text\": \"NL\", \"type\": \"scattergeo\"}, {\"geo\": \"geo\", \"hoverinfo\": \"text\", \"lat\": [60.472024, 60.472024, 60.472024], \"locationmode\": \"country names\", \"lon\": [8.218946, 8.718946, 7.968946000000001], \"marker\": {\"color\": [\"blue\", \"yellow\", \"black\"], \"line\": {\"color\": [\"orange\", \"black\"], \"width\": 10}, \"size\": [4.877332048152694, 2.72370399879732], \"symbol\": \"line-ns\"}, \"mode\": \"markers\", \"text\": \"NO\", \"type\": \"scattergeo\"}, {\"geo\": \"geo\", \"hoverinfo\": \"text\", \"lat\": [51.919438, 51.919438, 51.919438], \"locationmode\": \"country names\", \"lon\": [18.895135999999997, 19.395135999999997, 18.645135999999997], \"marker\": {\"color\": [\"blue\", \"yellow\", \"black\"], \"line\": {\"color\": [\"orange\", \"black\"], \"width\": 10}, \"size\": [0.0, 2.966111807650821], \"symbol\": \"line-ns\"}, \"mode\": \"markers\", \"text\": \"PL\", \"type\": \"scattergeo\"}, {\"geo\": \"geo\", \"hoverinfo\": \"text\", \"lat\": [60.128161, 60.128161, 60.128161], \"locationmode\": \"country names\", \"lon\": [18.393501, 18.893501, 18.143501], \"marker\": {\"color\": [\"blue\", \"yellow\", \"black\"], \"line\": {\"color\": [\"orange\", \"black\"], \"width\": 10}, \"size\": [14.9809081702312, 1.4003841688591518], \"symbol\": \"line-ns\"}, \"mode\": \"markers\", \"text\": \"SE\", \"type\": \"scattergeo\"}, {\"geo\": \"geo2\", \"lat\": [47.516231, 46.818188], \"line\": {\"color\": \"green\", \"width\": 0.5}, \"locationmode\": \"country names\", \"lon\": [14.550072, 8.227511999999999], \"mode\": \"lines\", \"type\": \"scattergeo\"}, {\"geo\": \"geo2\", \"lat\": [47.516231, 49.817492], \"line\": {\"color\": \"green\", \"width\": 0.5306169377728613}, \"locationmode\": \"country names\", \"lon\": [14.550072, 15.472961999999999], \"mode\": \"lines\", \"type\": \"scattergeo\"}, {\"geo\": \"geo2\", \"lat\": [47.516231, 51.165690999999995], \"line\": {\"color\": \"green\", \"width\": 1.0428001047470752}, \"locationmode\": \"country names\", \"lon\": [14.550072, 10.451526], \"mode\": \"lines\", \"type\": \"scattergeo\"}, {\"geo\": \"geo2\", \"lat\": [46.818188, 51.165690999999995], \"line\": {\"color\": \"green\", \"width\": 0.9145743762082923}, \"locationmode\": \"country names\", \"lon\": [8.227511999999999, 10.451526], \"mode\": \"lines\", \"type\": \"scattergeo\"}, {\"geo\": \"geo2\", \"lat\": [49.817492, 51.165690999999995], \"line\": {\"color\": \"green\", \"width\": 1.0289588128063603}, \"locationmode\": \"country names\", \"lon\": [15.472961999999999, 10.451526], \"mode\": \"lines\", \"type\": \"scattergeo\"}, {\"geo\": \"geo2\", \"lat\": [51.165690999999995, 56.26392], \"line\": {\"color\": \"green\", \"width\": 5.5}, \"locationmode\": \"country names\", \"lon\": [10.451526, 9.501785], \"mode\": \"lines\", \"type\": \"scattergeo\"}, {\"geo\": \"geo2\", \"lat\": [51.165690999999995, 60.128161], \"line\": {\"color\": \"green\", \"width\": 1.5063808170243558}, \"locationmode\": \"country names\", \"lon\": [10.451526, 18.643501], \"mode\": \"lines\", \"type\": \"scattergeo\"}, {\"geo\": \"geo2\", \"lat\": [52.132633, 51.165690999999995], \"line\": {\"color\": \"green\", \"width\": 1.1699160576181886}, \"locationmode\": \"country names\", \"lon\": [5.291266, 10.451526], \"mode\": \"lines\", \"type\": \"scattergeo\"}, {\"geo\": \"geo2\", \"lat\": [52.132633, 60.472024], \"line\": {\"color\": \"green\", \"width\": 0.5}, \"locationmode\": \"country names\", \"lon\": [5.291266, 8.468946], \"mode\": \"lines\", \"type\": \"scattergeo\"}, {\"geo\": \"geo2\", \"lat\": [60.472024, 56.26392], \"line\": {\"color\": \"green\", \"width\": 0.5509913195095937}, \"locationmode\": \"country names\", \"lon\": [8.468946, 9.501785], \"mode\": \"lines\", \"type\": \"scattergeo\"}, {\"geo\": \"geo2\", \"lat\": [60.472024, 60.128161], \"line\": {\"color\": \"green\", \"width\": 1.5914689172770133}, \"locationmode\": \"country names\", \"lon\": [8.468946, 18.643501], \"mode\": \"lines\", \"type\": \"scattergeo\"}, {\"geo\": \"geo2\", \"lat\": [51.919438, 49.817492], \"line\": {\"color\": \"green\", \"width\": 0.5552544374273338}, \"locationmode\": \"country names\", \"lon\": [19.145135999999997, 15.472961999999999], \"mode\": \"lines\", \"type\": \"scattergeo\"}, {\"geo\": \"geo2\", \"lat\": [51.919438, 51.165690999999995], \"line\": {\"color\": \"green\", \"width\": 1.701147314615238}, \"locationmode\": \"country names\", \"lon\": [19.145135999999997, 10.451526], \"mode\": \"lines\", \"type\": \"scattergeo\"}, {\"geo\": \"geo2\", \"lat\": [51.919438, 60.128161], \"line\": {\"color\": \"green\", \"width\": 0.5}, \"locationmode\": \"country names\", \"lon\": [19.145135999999997, 18.643501], \"mode\": \"lines\", \"type\": \"scattergeo\"}, {\"geo\": \"geo2\", \"lat\": [60.128161, 56.26392], \"line\": {\"color\": \"green\", \"width\": 3.997212083993675}, \"locationmode\": \"country names\", \"lon\": [18.643501, 9.501785], \"mode\": \"lines\", \"type\": \"scattergeo\"}, {\"geo\": \"geo2\", \"hoverinfo\": \"text\", \"lat\": [47.516231, 47.516231, 47.516231], \"locationmode\": \"country names\", \"lon\": [14.300072, 14.800072, 14.050072], \"marker\": {\"color\": [\"blue\", \"yellow\", \"black\"], \"line\": {\"color\": [\"orange\", \"black\"], \"width\": 10}, \"size\": [0.0, 2.370436558589252], \"symbol\": \"line-ns\"}, \"mode\": \"markers\", \"text\": \"AT\", \"type\": \"scattergeo\"}, {\"geo\": \"geo2\", \"hoverinfo\": \"text\", \"lat\": [46.818188, 46.818188, 46.818188], \"locationmode\": \"country names\", \"lon\": [7.977511999999999, 8.477511999999999, 7.727511999999999], \"marker\": {\"color\": [\"blue\", \"yellow\", \"black\"], \"line\": {\"color\": [\"orange\", \"black\"], \"width\": 10}, \"size\": [0.0, 0.0], \"symbol\": \"line-ns\"}, \"mode\": \"markers\", \"text\": \"CH\", \"type\": \"scattergeo\"}, {\"geo\": \"geo2\", \"hoverinfo\": \"text\", \"lat\": [49.817492, 49.817492, 49.817492], \"locationmode\": \"country names\", \"lon\": [15.222961999999999, 15.722961999999999, 14.972961999999999], \"marker\": {\"color\": [\"blue\", \"yellow\", \"black\"], \"line\": {\"color\": [\"orange\", \"black\"], \"width\": 10}, \"size\": [0.0, 0.0], \"symbol\": \"line-ns\"}, \"mode\": \"markers\", \"text\": \"CZ\", \"type\": \"scattergeo\"}, {\"geo\": \"geo2\", \"hoverinfo\": \"text\", \"lat\": [51.165690999999995, 51.165690999999995, 51.165690999999995], \"locationmode\": \"country names\", \"lon\": [10.201526, 10.701526, 9.951526], \"marker\": {\"color\": [\"blue\", \"yellow\", \"black\"], \"line\": {\"color\": [\"orange\", \"black\"], \"width\": 10}, \"size\": [26.889160256618656, 3.0828981177530497], \"symbol\": \"line-ns\"}, \"mode\": \"markers\", \"text\": \"DE\", \"type\": \"scattergeo\"}, {\"geo\": \"geo2\", \"hoverinfo\": \"text\", \"lat\": [56.26392, 56.26392, 56.26392], \"locationmode\": \"country names\", \"lon\": [9.251785, 9.751785, 9.001785], \"marker\": {\"color\": [\"blue\", \"yellow\", \"black\"], \"line\": {\"color\": [\"orange\", \"black\"], \"width\": 10}, \"size\": [10.118505040188477, 0.0], \"symbol\": \"line-ns\"}, \"mode\": \"markers\", \"text\": \"DK\", \"type\": \"scattergeo\"}, {\"geo\": \"geo2\", \"hoverinfo\": \"text\", \"lat\": [52.132633, 52.132633, 52.132633], \"locationmode\": \"country names\", \"lon\": [5.041266, 5.541266, 4.791266], \"marker\": {\"color\": [\"blue\", \"yellow\", \"black\"], \"line\": {\"color\": [\"orange\", \"black\"], \"width\": 10}, \"size\": [6.963238367085889, 3.9103447027754976], \"symbol\": \"line-ns\"}, \"mode\": \"markers\", \"text\": \"NL\", \"type\": \"scattergeo\"}, {\"geo\": \"geo2\", \"hoverinfo\": \"text\", \"lat\": [60.472024, 60.472024, 60.472024], \"locationmode\": \"country names\", \"lon\": [8.218946, 8.718946, 7.968946000000001], \"marker\": {\"color\": [\"blue\", \"yellow\", \"black\"], \"line\": {\"color\": [\"orange\", \"black\"], \"width\": 10}, \"size\": [0.0, 1.2430657394229028], \"symbol\": \"line-ns\"}, \"mode\": \"markers\", \"text\": \"NO\", \"type\": \"scattergeo\"}, {\"geo\": \"geo2\", \"hoverinfo\": \"text\", \"lat\": [51.919438, 51.919438, 51.919438], \"locationmode\": \"country names\", \"lon\": [18.895135999999997, 19.395135999999997, 18.645135999999997], \"marker\": {\"color\": [\"blue\", \"yellow\", \"black\"], \"line\": {\"color\": [\"orange\", \"black\"], \"width\": 10}, \"size\": [0.0, 0.0], \"symbol\": \"line-ns\"}, \"mode\": \"markers\", \"text\": \"PL\", \"type\": \"scattergeo\"}, {\"geo\": \"geo2\", \"hoverinfo\": \"text\", \"lat\": [60.128161, 60.128161, 60.128161], \"locationmode\": \"country names\", \"lon\": [18.393501, 18.893501, 18.143501], \"marker\": {\"color\": [\"blue\", \"yellow\", \"black\"], \"line\": {\"color\": [\"orange\", \"black\"], \"width\": 10}, \"size\": [51.78785547421911, 39.95610891303927], \"symbol\": \"line-ns\"}, \"mode\": \"markers\", \"text\": \"SE\", \"type\": \"scattergeo\"}, {\"geo\": \"geo3\", \"lat\": [47.516231, 46.818188], \"line\": {\"color\": \"green\", \"width\": 1.8039123506664039}, \"locationmode\": \"country names\", \"lon\": [14.550072, 8.227511999999999], \"mode\": \"lines\", \"type\": \"scattergeo\"}, {\"geo\": \"geo3\", \"lat\": [47.516231, 49.817492], \"line\": {\"color\": \"green\", \"width\": 0.7395148516186804}, \"locationmode\": \"country names\", \"lon\": [14.550072, 15.472961999999999], \"mode\": \"lines\", \"type\": \"scattergeo\"}, {\"geo\": \"geo3\", \"lat\": [47.516231, 51.165690999999995], \"line\": {\"color\": \"green\", \"width\": 1.2636462137117994}, \"locationmode\": \"country names\", \"lon\": [14.550072, 10.451526], \"mode\": \"lines\", \"type\": \"scattergeo\"}, {\"geo\": \"geo3\", \"lat\": [46.818188, 51.165690999999995], \"line\": {\"color\": \"green\", \"width\": 1.9347012269003332}, \"locationmode\": \"country names\", \"lon\": [8.227511999999999, 10.451526], \"mode\": \"lines\", \"type\": \"scattergeo\"}, {\"geo\": \"geo3\", \"lat\": [49.817492, 51.165690999999995], \"line\": {\"color\": \"green\", \"width\": 0.5081191475124976}, \"locationmode\": \"country names\", \"lon\": [15.472961999999999, 10.451526], \"mode\": \"lines\", \"type\": \"scattergeo\"}, {\"geo\": \"geo3\", \"lat\": [51.165690999999995, 56.26392], \"line\": {\"color\": \"green\", \"width\": 5.5}, \"locationmode\": \"country names\", \"lon\": [10.451526, 9.501785], \"mode\": \"lines\", \"type\": \"scattergeo\"}, {\"geo\": \"geo3\", \"lat\": [51.165690999999995, 60.128161], \"line\": {\"color\": \"green\", \"width\": 3.4683811454212288}, \"locationmode\": \"country names\", \"lon\": [10.451526, 18.643501], \"mode\": \"lines\", \"type\": \"scattergeo\"}, {\"geo\": \"geo3\", \"lat\": [52.132633, 51.165690999999995], \"line\": {\"color\": \"green\", \"width\": 2.4005060597621277}, \"locationmode\": \"country names\", \"lon\": [5.291266, 10.451526], \"mode\": \"lines\", \"type\": \"scattergeo\"}, {\"geo\": \"geo3\", \"lat\": [52.132633, 60.472024], \"line\": {\"color\": \"green\", \"width\": 0.7351748607487021}, \"locationmode\": \"country names\", \"lon\": [5.291266, 8.468946], \"mode\": \"lines\", \"type\": \"scattergeo\"}, {\"geo\": \"geo3\", \"lat\": [60.472024, 56.26392], \"line\": {\"color\": \"green\", \"width\": 0.54684741033181}, \"locationmode\": \"country names\", \"lon\": [8.468946, 9.501785], \"mode\": \"lines\", \"type\": \"scattergeo\"}, {\"geo\": \"geo3\", \"lat\": [60.472024, 60.128161], \"line\": {\"color\": \"green\", \"width\": 1.8553587163787817}, \"locationmode\": \"country names\", \"lon\": [8.468946, 18.643501], \"mode\": \"lines\", \"type\": \"scattergeo\"}, {\"geo\": \"geo3\", \"lat\": [51.919438, 49.817492], \"line\": {\"color\": \"green\", \"width\": 2.017221565596298}, \"locationmode\": \"country names\", \"lon\": [19.145135999999997, 15.472961999999999], \"mode\": \"lines\", \"type\": \"scattergeo\"}, {\"geo\": \"geo3\", \"lat\": [51.919438, 51.165690999999995], \"line\": {\"color\": \"green\", \"width\": 1.069752351529182}, \"locationmode\": \"country names\", \"lon\": [19.145135999999997, 10.451526], \"mode\": \"lines\", \"type\": \"scattergeo\"}, {\"geo\": \"geo3\", \"lat\": [51.919438, 60.128161], \"line\": {\"color\": \"green\", \"width\": 5.100556085070673}, \"locationmode\": \"country names\", \"lon\": [19.145135999999997, 18.643501], \"mode\": \"lines\", \"type\": \"scattergeo\"}, {\"geo\": \"geo3\", \"lat\": [60.128161, 56.26392], \"line\": {\"color\": \"green\", \"width\": 0.9185447202539302}, \"locationmode\": \"country names\", \"lon\": [18.643501, 9.501785], \"mode\": \"lines\", \"type\": \"scattergeo\"}, {\"geo\": \"geo3\", \"hoverinfo\": \"text\", \"lat\": [47.516231, 47.516231, 47.516231], \"locationmode\": \"country names\", \"lon\": [14.300072, 14.800072, 14.050072], \"marker\": {\"color\": [\"blue\", \"yellow\", \"black\"], \"line\": {\"color\": [\"orange\", \"black\"], \"width\": 10}, \"size\": [0.0, 41.585882416818215], \"symbol\": \"line-ns\"}, \"mode\": \"markers\", \"text\": \"AT\", \"type\": \"scattergeo\"}, {\"geo\": \"geo3\", \"hoverinfo\": \"text\", \"lat\": [46.818188, 46.818188, 46.818188], \"locationmode\": \"country names\", \"lon\": [7.977511999999999, 8.477511999999999, 7.727511999999999], \"marker\": {\"color\": [\"blue\", \"yellow\", \"black\"], \"line\": {\"color\": [\"orange\", \"black\"], \"width\": 10}, \"size\": [8.190893911268752, 0.0], \"symbol\": \"line-ns\"}, \"mode\": \"markers\", \"text\": \"CH\", \"type\": \"scattergeo\"}, {\"geo\": \"geo3\", \"hoverinfo\": \"text\", \"lat\": [49.817492, 49.817492, 49.817492], \"locationmode\": \"country names\", \"lon\": [15.222961999999999, 15.722961999999999, 14.972961999999999], \"marker\": {\"color\": [\"blue\", \"yellow\", \"black\"], \"line\": {\"color\": [\"orange\", \"black\"], \"width\": 10}, \"size\": [0.0, 3.321736117873668], \"symbol\": \"line-ns\"}, \"mode\": \"markers\", \"text\": \"CZ\", \"type\": \"scattergeo\"}, {\"geo\": \"geo3\", \"hoverinfo\": \"text\", \"lat\": [51.165690999999995, 51.165690999999995, 51.165690999999995], \"locationmode\": \"country names\", \"lon\": [10.201526, 10.701526, 9.951526], \"marker\": {\"color\": [\"blue\", \"yellow\", \"black\"], \"line\": {\"color\": [\"orange\", \"black\"], \"width\": 10}, \"size\": [34.398585586910016, 17.057207436954535], \"symbol\": \"line-ns\"}, \"mode\": \"markers\", \"text\": \"DE\", \"type\": \"scattergeo\"}, {\"geo\": \"geo3\", \"hoverinfo\": \"text\", \"lat\": [56.26392, 56.26392, 56.26392], \"locationmode\": \"country names\", \"lon\": [9.251785, 9.751785, 9.001785], \"marker\": {\"color\": [\"blue\", \"yellow\", \"black\"], \"line\": {\"color\": [\"orange\", \"black\"], \"width\": 10}, \"size\": [10.118505040188477, 0.0], \"symbol\": \"line-ns\"}, \"mode\": \"markers\", \"text\": \"DK\", \"type\": \"scattergeo\"}, {\"geo\": \"geo3\", \"hoverinfo\": \"text\", \"lat\": [52.132633, 52.132633, 52.132633], \"locationmode\": \"country names\", \"lon\": [5.041266, 5.541266, 4.791266], \"marker\": {\"color\": [\"blue\", \"yellow\", \"black\"], \"line\": {\"color\": [\"orange\", \"black\"], \"width\": 10}, \"size\": [6.963238367085889, 1.6530814614964806], \"symbol\": \"line-ns\"}, \"mode\": \"markers\", \"text\": \"NL\", \"type\": \"scattergeo\"}, {\"geo\": \"geo3\", \"hoverinfo\": \"text\", \"lat\": [60.472024, 60.472024, 60.472024], \"locationmode\": \"country names\", \"lon\": [8.218946, 8.718946, 7.968946000000001], \"marker\": {\"color\": [\"blue\", \"yellow\", \"black\"], \"line\": {\"color\": [\"orange\", \"black\"], \"width\": 10}, \"size\": [8.847395797907675, 2.1583308866624673], \"symbol\": \"line-ns\"}, \"mode\": \"markers\", \"text\": \"NO\", \"type\": \"scattergeo\"}, {\"geo\": \"geo3\", \"hoverinfo\": \"text\", \"lat\": [51.919438, 51.919438, 51.919438], \"locationmode\": \"country names\", \"lon\": [18.895135999999997, 19.395135999999997, 18.645135999999997], \"marker\": {\"color\": [\"blue\", \"yellow\", \"black\"], \"line\": {\"color\": [\"orange\", \"black\"], \"width\": 10}, \"size\": [0.0, 0.0], \"symbol\": \"line-ns\"}, \"mode\": \"markers\", \"text\": \"PL\", \"type\": \"scattergeo\"}, {\"geo\": \"geo3\", \"hoverinfo\": \"text\", \"lat\": [60.128161, 60.128161, 60.128161], \"locationmode\": \"country names\", \"lon\": [18.393501, 18.893501, 18.143501], \"marker\": {\"color\": [\"blue\", \"yellow\", \"black\"], \"line\": {\"color\": [\"orange\", \"black\"], \"width\": 10}, \"size\": [34.285987458990725, 8.314265670264366], \"symbol\": \"line-ns\"}, \"mode\": \"markers\", \"text\": \"SE\", \"type\": \"scattergeo\"}, {\"geo\": \"geo4\", \"lat\": [47.516231, 46.818188], \"line\": {\"color\": \"green\", \"width\": 0.5462399610610854}, \"locationmode\": \"country names\", \"lon\": [14.550072, 8.227511999999999], \"mode\": \"lines\", \"type\": \"scattergeo\"}, {\"geo\": \"geo4\", \"lat\": [47.516231, 49.817492], \"line\": {\"color\": \"green\", \"width\": 0.6390516567008094}, \"locationmode\": \"country names\", \"lon\": [14.550072, 15.472961999999999], \"mode\": \"lines\", \"type\": \"scattergeo\"}, {\"geo\": \"geo4\", \"lat\": [47.516231, 51.165690999999995], \"line\": {\"color\": \"green\", \"width\": 2.2898848241947856}, \"locationmode\": \"country names\", \"lon\": [14.550072, 10.451526], \"mode\": \"lines\", \"type\": \"scattergeo\"}, {\"geo\": \"geo4\", \"lat\": [46.818188, 51.165690999999995], \"line\": {\"color\": \"green\", \"width\": 1.9324653200292041}, \"locationmode\": \"country names\", \"lon\": [8.227511999999999, 10.451526], \"mode\": \"lines\", \"type\": \"scattergeo\"}, {\"geo\": \"geo4\", \"lat\": [49.817492, 51.165690999999995], \"line\": {\"color\": \"green\", \"width\": 0.5}, \"locationmode\": \"country names\", \"lon\": [15.472961999999999, 10.451526], \"mode\": \"lines\", \"type\": \"scattergeo\"}, {\"geo\": \"geo4\", \"lat\": [51.165690999999995, 56.26392], \"line\": {\"color\": \"green\", \"width\": 3.765847229238524}, \"locationmode\": \"country names\", \"lon\": [10.451526, 9.501785], \"mode\": \"lines\", \"type\": \"scattergeo\"}, {\"geo\": \"geo4\", \"lat\": [51.165690999999995, 60.128161], \"line\": {\"color\": \"green\", \"width\": 4.678283943042378}, \"locationmode\": \"country names\", \"lon\": [10.451526, 18.643501], \"mode\": \"lines\", \"type\": \"scattergeo\"}, {\"geo\": \"geo4\", \"lat\": [52.132633, 51.165690999999995], \"line\": {\"color\": \"green\", \"width\": 3.2317673886781084}, \"locationmode\": \"country names\", \"lon\": [5.291266, 10.451526], \"mode\": \"lines\", \"type\": \"scattergeo\"}, {\"geo\": \"geo4\", \"lat\": [52.132633, 60.472024], \"line\": {\"color\": \"green\", \"width\": 0.7129771587412058}, \"locationmode\": \"country names\", \"lon\": [5.291266, 8.468946], \"mode\": \"lines\", \"type\": \"scattergeo\"}, {\"geo\": \"geo4\", \"lat\": [60.472024, 56.26392], \"line\": {\"color\": \"green\", \"width\": 3.615803222156173}, \"locationmode\": \"country names\", \"lon\": [8.468946, 9.501785], \"mode\": \"lines\", \"type\": \"scattergeo\"}, {\"geo\": \"geo4\", \"lat\": [60.472024, 60.128161], \"line\": {\"color\": \"green\", \"width\": 1.147779322373826}, \"locationmode\": \"country names\", \"lon\": [8.468946, 18.643501], \"mode\": \"lines\", \"type\": \"scattergeo\"}, {\"geo\": \"geo4\", \"lat\": [51.919438, 49.817492], \"line\": {\"color\": \"green\", \"width\": 1.3045387665875854}, \"locationmode\": \"country names\", \"lon\": [19.145135999999997, 15.472961999999999], \"mode\": \"lines\", \"type\": \"scattergeo\"}, {\"geo\": \"geo4\", \"lat\": [51.919438, 51.165690999999995], \"line\": {\"color\": \"green\", \"width\": 5.5}, \"locationmode\": \"country names\", \"lon\": [19.145135999999997, 10.451526], \"mode\": \"lines\", \"type\": \"scattergeo\"}, {\"geo\": \"geo4\", \"lat\": [51.919438, 60.128161], \"line\": {\"color\": \"green\", \"width\": 1.3415307354364536}, \"locationmode\": \"country names\", \"lon\": [19.145135999999997, 18.643501], \"mode\": \"lines\", \"type\": \"scattergeo\"}, {\"geo\": \"geo4\", \"lat\": [60.128161, 56.26392], \"line\": {\"color\": \"green\", \"width\": 0.5}, \"locationmode\": \"country names\", \"lon\": [18.643501, 9.501785], \"mode\": \"lines\", \"type\": \"scattergeo\"}, {\"geo\": \"geo4\", \"hoverinfo\": \"text\", \"lat\": [47.516231, 47.516231, 47.516231], \"locationmode\": \"country names\", \"lon\": [14.300072, 14.800072, 14.050072], \"marker\": {\"color\": [\"blue\", \"yellow\", \"black\"], \"line\": {\"color\": [\"orange\", \"black\"], \"width\": 10}, \"size\": [2.9968759150529496, 3.289], \"symbol\": \"line-ns\"}, \"mode\": \"markers\", \"text\": \"AT\", \"type\": \"scattergeo\"}, {\"geo\": \"geo4\", \"hoverinfo\": \"text\", \"lat\": [46.818188, 46.818188, 46.818188], \"locationmode\": \"country names\", \"lon\": [7.977511999999999, 8.477511999999999, 7.727511999999999], \"marker\": {\"color\": [\"blue\", \"yellow\", \"black\"], \"line\": {\"color\": [\"orange\", \"black\"], \"width\": 10}, \"size\": [6.595625354690661, 0.2839357839174089], \"symbol\": \"line-ns\"}, \"mode\": \"markers\", \"text\": \"CH\", \"type\": \"scattergeo\"}, {\"geo\": \"geo4\", \"hoverinfo\": \"text\", \"lat\": [49.817492, 49.817492, 49.817492], \"locationmode\": \"country names\", \"lon\": [15.222961999999999, 15.722961999999999, 14.972961999999999], \"marker\": {\"color\": [\"blue\", \"yellow\", \"black\"], \"line\": {\"color\": [\"orange\", \"black\"], \"width\": 10}, \"size\": [15.864876079294804, 0.9374029461079458], \"symbol\": \"line-ns\"}, \"mode\": \"markers\", \"text\": \"CZ\", \"type\": \"scattergeo\"}, {\"geo\": \"geo4\", \"hoverinfo\": \"text\", \"lat\": [51.165690999999995, 51.165690999999995, 51.165690999999995], \"locationmode\": \"country names\", \"lon\": [10.201526, 10.701526, 9.951526], \"marker\": {\"color\": [\"blue\", \"yellow\", \"black\"], \"line\": {\"color\": [\"orange\", \"black\"], \"width\": 10}, \"size\": [59.206186476498615, 16.449527840516943], \"symbol\": \"line-ns\"}, \"mode\": \"markers\", \"text\": \"DE\", \"type\": \"scattergeo\"}, {\"geo\": \"geo4\", \"hoverinfo\": \"text\", \"lat\": [56.26392, 56.26392, 56.26392], \"locationmode\": \"country names\", \"lon\": [9.251785, 9.751785, 9.001785], \"marker\": {\"color\": [\"blue\", \"yellow\", \"black\"], \"line\": {\"color\": [\"orange\", \"black\"], \"width\": 10}, \"size\": [10.118505040188477, 0.0], \"symbol\": \"line-ns\"}, \"mode\": \"markers\", \"text\": \"DK\", \"type\": \"scattergeo\"}, {\"geo\": \"geo4\", \"hoverinfo\": \"text\", \"lat\": [52.132633, 52.132633, 52.132633], \"locationmode\": \"country names\", \"lon\": [5.041266, 5.541266, 4.791266], \"marker\": {\"color\": [\"blue\", \"yellow\", \"black\"], \"line\": {\"color\": [\"orange\", \"black\"], \"width\": 10}, \"size\": [16.755172659805037, 0.9784192832690629], \"symbol\": \"line-ns\"}, \"mode\": \"markers\", \"text\": \"NL\", \"type\": \"scattergeo\"}, {\"geo\": \"geo4\", \"hoverinfo\": \"text\", \"lat\": [60.472024, 60.472024, 60.472024], \"locationmode\": \"country names\", \"lon\": [8.218946, 8.718946, 7.968946000000001], \"marker\": {\"color\": [\"blue\", \"yellow\", \"black\"], \"line\": {\"color\": [\"orange\", \"black\"], \"width\": 10}, \"size\": [6.829155937212026, 1.5470563371641533], \"symbol\": \"line-ns\"}, \"mode\": \"markers\", \"text\": \"NO\", \"type\": \"scattergeo\"}, {\"geo\": \"geo4\", \"hoverinfo\": \"text\", \"lat\": [51.919438, 51.919438, 51.919438], \"locationmode\": \"country names\", \"lon\": [18.895135999999997, 19.395135999999997, 18.645135999999997], \"marker\": {\"color\": [\"blue\", \"yellow\", \"black\"], \"line\": {\"color\": [\"orange\", \"black\"], \"width\": 10}, \"size\": [0.0, 0.0], \"symbol\": \"line-ns\"}, \"mode\": \"markers\", \"text\": \"PL\", \"type\": \"scattergeo\"}, {\"geo\": \"geo4\", \"hoverinfo\": \"text\", \"lat\": [60.128161, 60.128161, 60.128161], \"locationmode\": \"country names\", \"lon\": [18.393501, 18.893501, 18.143501], \"marker\": {\"color\": [\"blue\", \"yellow\", \"black\"], \"line\": {\"color\": [\"orange\", \"black\"], \"width\": 10}, \"size\": [18.463779838534627, 11.153606346565484], \"symbol\": \"line-ns\"}, \"mode\": \"markers\", \"text\": \"SE\", \"type\": \"scattergeo\"}, {\"marker\": {\"line\": {\"color\": [\"black\", \"black\", \"black\", \"orange\", \"orange\", \"orange\"], \"width\": 7}, \"size\": [25, 12.5, 5, 25, 12.5, 5], \"symbol\": \"line-ns\"}, \"mode\": \"markers\", \"type\": \"scatter\", \"x\": [0.1, 0.13, 0.16, 0.3, 0.33, 0.36], \"xaxis\": \"x\", \"y\": [6, 6, 6, 6, 6, 6], \"yaxis\": \"y\"}, {\"marker\": {\"line\": {\"color\": [\"green\", \"green\", \"green\"], \"width\": [6.584205402774398, 2.933682161109759, 0.5]}, \"size\": 15, \"symbol\": \"line-ew\"}, \"mode\": \"markers\", \"type\": \"scatter\", \"x\": [0.5, 0.53, 0.56], \"xaxis\": \"x\", \"y\": [6, 6, 6], \"yaxis\": \"y\"}, {\"mode\": \"text\", \"text\": [\"OCGT [GW]\", \"VRES [GW]\", \"Transmission [GW]\", \"100\", \"50\", \"20\", \"100\", \"50\", \"20\", \"25\", \"10\", \"0\"], \"textposition\": \"middle center\", \"type\": \"scatter\", \"x\": [0.13, 0.33, 0.52, 0.1, 0.13, 0.16, 0.3, 0.33, 0.36, 0.5, 0.53, 0.56], \"xaxis\": \"x\", \"y\": [9, 9, 9, 3, 3, 3, 3, 3, 3, 3, 3, 3], \"yaxis\": \"y\"}],\n",
       "                        {\"annotations\": [{\"font\": {\"size\": 16}, \"showarrow\": false, \"text\": \"(a)\", \"x\": 0.225, \"xanchor\": \"center\", \"xref\": \"paper\", \"y\": 0.5476190476190477, \"yanchor\": \"bottom\", \"yref\": \"paper\"}, {\"font\": {\"size\": 16}, \"showarrow\": false, \"text\": \"(b)\", \"x\": 0.775, \"xanchor\": \"center\", \"xref\": \"paper\", \"y\": 0.5476190476190477, \"yanchor\": \"bottom\", \"yref\": \"paper\"}, {\"font\": {\"size\": 16}, \"showarrow\": false, \"text\": \"(c)\", \"x\": 0.225, \"xanchor\": \"center\", \"xref\": \"paper\", \"y\": 0.09523809523809525, \"yanchor\": \"bottom\", \"yref\": \"paper\"}, {\"font\": {\"size\": 16}, \"showarrow\": false, \"text\": \"(d)\", \"x\": 0.775, \"xanchor\": \"center\", \"xref\": \"paper\", \"y\": 0.09523809523809525, \"yanchor\": \"bottom\", \"yref\": \"paper\"}], \"autosize\": false, \"geo\": {\"countrycolor\": \"rgb(204, 204, 204)\", \"domain\": {\"x\": [0, 0.48], \"y\": [0.55, 1]}, \"landcolor\": \"rgb(243, 243, 243)\", \"lataxis\": {\"range\": [45, 62], \"showgrid\": false}, \"lonaxis\": {\"range\": [0, 24], \"showgrid\": false}, \"projection\": {\"type\": \"azimuthal equal area\"}, \"scope\": \"europe\", \"showland\": true, \"showocean\": false}, \"geo2\": {\"countrycolor\": \"rgb(204, 204, 204)\", \"domain\": {\"x\": [0.52, 0.99], \"y\": [0.55, 1]}, \"landcolor\": \"rgb(243, 243, 243)\", \"lataxis\": {\"range\": [45, 62], \"showgrid\": false}, \"lonaxis\": {\"range\": [0, 24], \"showgrid\": false}, \"projection\": {\"type\": \"azimuthal equal area\"}, \"scope\": \"europe\", \"showland\": true, \"showocean\": false}, \"geo3\": {\"countrycolor\": \"rgb(204, 204, 204)\", \"domain\": {\"x\": [0, 0.48], \"y\": [0.1, 0.55]}, \"landcolor\": \"rgb(243, 243, 243)\", \"lataxis\": {\"range\": [45, 62], \"showgrid\": false}, \"lonaxis\": {\"range\": [0, 24], \"showgrid\": false}, \"projection\": {\"type\": \"azimuthal equal area\"}, \"scope\": \"europe\", \"showland\": true, \"showocean\": false}, \"geo4\": {\"countrycolor\": \"rgb(204, 204, 204)\", \"domain\": {\"x\": [0.52, 0.99], \"y\": [0.1, 0.55]}, \"landcolor\": \"rgb(243, 243, 243)\", \"lataxis\": {\"range\": [45, 62], \"showgrid\": false}, \"lonaxis\": {\"range\": [0, 24], \"showgrid\": false}, \"projection\": {\"type\": \"azimuthal equal area\"}, \"scope\": \"europe\", \"showland\": true, \"showocean\": false}, \"height\": 1000, \"margin\": {\"b\": 5, \"l\": 5, \"pad\": 0, \"r\": 5, \"t\": 5}, \"paper_bgcolor\": \"rgba(0,0,0,0)\", \"plot_bgcolor\": \"rgba(0,0,0,0)\", \"showlegend\": false, \"template\": {\"data\": {\"bar\": [{\"error_x\": {\"color\": \"#2a3f5f\"}, \"error_y\": {\"color\": \"#2a3f5f\"}, \"marker\": {\"line\": {\"color\": \"#E5ECF6\", \"width\": 0.5}}, \"type\": \"bar\"}], \"barpolar\": [{\"marker\": {\"line\": {\"color\": \"#E5ECF6\", \"width\": 0.5}}, \"type\": \"barpolar\"}], \"carpet\": [{\"aaxis\": {\"endlinecolor\": \"#2a3f5f\", \"gridcolor\": \"white\", \"linecolor\": \"white\", \"minorgridcolor\": \"white\", \"startlinecolor\": \"#2a3f5f\"}, \"baxis\": {\"endlinecolor\": \"#2a3f5f\", \"gridcolor\": \"white\", \"linecolor\": \"white\", \"minorgridcolor\": \"white\", \"startlinecolor\": \"#2a3f5f\"}, \"type\": \"carpet\"}], \"choropleth\": [{\"colorbar\": {\"outlinewidth\": 0, \"ticks\": \"\"}, \"type\": \"choropleth\"}], \"contour\": [{\"colorbar\": {\"outlinewidth\": 0, \"ticks\": \"\"}, \"colorscale\": [[0.0, \"#0d0887\"], [0.1111111111111111, \"#46039f\"], [0.2222222222222222, \"#7201a8\"], [0.3333333333333333, \"#9c179e\"], [0.4444444444444444, \"#bd3786\"], [0.5555555555555556, \"#d8576b\"], [0.6666666666666666, \"#ed7953\"], [0.7777777777777778, \"#fb9f3a\"], [0.8888888888888888, \"#fdca26\"], [1.0, \"#f0f921\"]], \"type\": \"contour\"}], \"contourcarpet\": [{\"colorbar\": {\"outlinewidth\": 0, \"ticks\": \"\"}, \"type\": \"contourcarpet\"}], \"heatmap\": [{\"colorbar\": {\"outlinewidth\": 0, \"ticks\": \"\"}, \"colorscale\": [[0.0, \"#0d0887\"], [0.1111111111111111, \"#46039f\"], [0.2222222222222222, \"#7201a8\"], [0.3333333333333333, \"#9c179e\"], [0.4444444444444444, \"#bd3786\"], [0.5555555555555556, \"#d8576b\"], [0.6666666666666666, \"#ed7953\"], [0.7777777777777778, \"#fb9f3a\"], [0.8888888888888888, \"#fdca26\"], [1.0, \"#f0f921\"]], \"type\": \"heatmap\"}], \"heatmapgl\": [{\"colorbar\": {\"outlinewidth\": 0, \"ticks\": \"\"}, \"colorscale\": [[0.0, \"#0d0887\"], [0.1111111111111111, \"#46039f\"], [0.2222222222222222, \"#7201a8\"], [0.3333333333333333, \"#9c179e\"], [0.4444444444444444, \"#bd3786\"], [0.5555555555555556, \"#d8576b\"], [0.6666666666666666, \"#ed7953\"], [0.7777777777777778, \"#fb9f3a\"], [0.8888888888888888, \"#fdca26\"], [1.0, \"#f0f921\"]], \"type\": \"heatmapgl\"}], \"histogram\": [{\"marker\": {\"colorbar\": {\"outlinewidth\": 0, \"ticks\": \"\"}}, \"type\": \"histogram\"}], \"histogram2d\": [{\"colorbar\": {\"outlinewidth\": 0, \"ticks\": \"\"}, \"colorscale\": [[0.0, \"#0d0887\"], [0.1111111111111111, \"#46039f\"], [0.2222222222222222, \"#7201a8\"], [0.3333333333333333, \"#9c179e\"], [0.4444444444444444, \"#bd3786\"], [0.5555555555555556, \"#d8576b\"], [0.6666666666666666, \"#ed7953\"], [0.7777777777777778, \"#fb9f3a\"], [0.8888888888888888, \"#fdca26\"], [1.0, \"#f0f921\"]], \"type\": \"histogram2d\"}], \"histogram2dcontour\": [{\"colorbar\": {\"outlinewidth\": 0, \"ticks\": \"\"}, \"colorscale\": [[0.0, \"#0d0887\"], [0.1111111111111111, \"#46039f\"], [0.2222222222222222, \"#7201a8\"], [0.3333333333333333, \"#9c179e\"], [0.4444444444444444, \"#bd3786\"], [0.5555555555555556, \"#d8576b\"], [0.6666666666666666, \"#ed7953\"], [0.7777777777777778, \"#fb9f3a\"], [0.8888888888888888, \"#fdca26\"], [1.0, \"#f0f921\"]], \"type\": \"histogram2dcontour\"}], \"mesh3d\": [{\"colorbar\": {\"outlinewidth\": 0, \"ticks\": \"\"}, \"type\": \"mesh3d\"}], \"parcoords\": [{\"line\": {\"colorbar\": {\"outlinewidth\": 0, \"ticks\": \"\"}}, \"type\": \"parcoords\"}], \"scatter\": [{\"marker\": {\"colorbar\": {\"outlinewidth\": 0, \"ticks\": \"\"}}, \"type\": \"scatter\"}], \"scatter3d\": [{\"line\": {\"colorbar\": {\"outlinewidth\": 0, \"ticks\": \"\"}}, \"marker\": {\"colorbar\": {\"outlinewidth\": 0, \"ticks\": \"\"}}, \"type\": \"scatter3d\"}], \"scattercarpet\": [{\"marker\": {\"colorbar\": {\"outlinewidth\": 0, \"ticks\": \"\"}}, \"type\": \"scattercarpet\"}], \"scattergeo\": [{\"marker\": {\"colorbar\": {\"outlinewidth\": 0, \"ticks\": \"\"}}, \"type\": \"scattergeo\"}], \"scattergl\": [{\"marker\": {\"colorbar\": {\"outlinewidth\": 0, \"ticks\": \"\"}}, \"type\": \"scattergl\"}], \"scattermapbox\": [{\"marker\": {\"colorbar\": {\"outlinewidth\": 0, \"ticks\": \"\"}}, \"type\": \"scattermapbox\"}], \"scatterpolar\": [{\"marker\": {\"colorbar\": {\"outlinewidth\": 0, \"ticks\": \"\"}}, \"type\": \"scatterpolar\"}], \"scatterpolargl\": [{\"marker\": {\"colorbar\": {\"outlinewidth\": 0, \"ticks\": \"\"}}, \"type\": \"scatterpolargl\"}], \"scatterternary\": [{\"marker\": {\"colorbar\": {\"outlinewidth\": 0, \"ticks\": \"\"}}, \"type\": \"scatterternary\"}], \"surface\": [{\"colorbar\": {\"outlinewidth\": 0, \"ticks\": \"\"}, \"colorscale\": [[0.0, \"#0d0887\"], [0.1111111111111111, \"#46039f\"], [0.2222222222222222, \"#7201a8\"], [0.3333333333333333, \"#9c179e\"], [0.4444444444444444, \"#bd3786\"], [0.5555555555555556, \"#d8576b\"], [0.6666666666666666, \"#ed7953\"], [0.7777777777777778, \"#fb9f3a\"], [0.8888888888888888, \"#fdca26\"], [1.0, \"#f0f921\"]], \"type\": \"surface\"}], \"table\": [{\"cells\": {\"fill\": {\"color\": \"#EBF0F8\"}, \"line\": {\"color\": \"white\"}}, \"header\": {\"fill\": {\"color\": \"#C8D4E3\"}, \"line\": {\"color\": \"white\"}}, \"type\": \"table\"}]}, \"layout\": {\"annotationdefaults\": {\"arrowcolor\": \"#2a3f5f\", \"arrowhead\": 0, \"arrowwidth\": 1}, \"colorscale\": {\"diverging\": [[0, \"#8e0152\"], [0.1, \"#c51b7d\"], [0.2, \"#de77ae\"], [0.3, \"#f1b6da\"], [0.4, \"#fde0ef\"], [0.5, \"#f7f7f7\"], [0.6, \"#e6f5d0\"], [0.7, \"#b8e186\"], [0.8, \"#7fbc41\"], [0.9, \"#4d9221\"], [1, \"#276419\"]], \"sequential\": [[0.0, \"#0d0887\"], [0.1111111111111111, \"#46039f\"], [0.2222222222222222, \"#7201a8\"], [0.3333333333333333, \"#9c179e\"], [0.4444444444444444, \"#bd3786\"], [0.5555555555555556, \"#d8576b\"], [0.6666666666666666, \"#ed7953\"], [0.7777777777777778, \"#fb9f3a\"], [0.8888888888888888, \"#fdca26\"], [1.0, \"#f0f921\"]], \"sequentialminus\": [[0.0, \"#0d0887\"], [0.1111111111111111, \"#46039f\"], [0.2222222222222222, \"#7201a8\"], [0.3333333333333333, \"#9c179e\"], [0.4444444444444444, \"#bd3786\"], [0.5555555555555556, \"#d8576b\"], [0.6666666666666666, \"#ed7953\"], [0.7777777777777778, \"#fb9f3a\"], [0.8888888888888888, \"#fdca26\"], [1.0, \"#f0f921\"]]}, \"colorway\": [\"#636efa\", \"#EF553B\", \"#00cc96\", \"#ab63fa\", \"#FFA15A\", \"#19d3f3\", \"#FF6692\", \"#B6E880\", \"#FF97FF\", \"#FECB52\"], \"font\": {\"color\": \"#2a3f5f\"}, \"geo\": {\"bgcolor\": \"white\", \"lakecolor\": \"white\", \"landcolor\": \"#E5ECF6\", \"showlakes\": true, \"showland\": true, \"subunitcolor\": \"white\"}, \"hoverlabel\": {\"align\": \"left\"}, \"hovermode\": \"closest\", \"mapbox\": {\"style\": \"light\"}, \"paper_bgcolor\": \"white\", \"plot_bgcolor\": \"#E5ECF6\", \"polar\": {\"angularaxis\": {\"gridcolor\": \"white\", \"linecolor\": \"white\", \"ticks\": \"\"}, \"bgcolor\": \"#E5ECF6\", \"radialaxis\": {\"gridcolor\": \"white\", \"linecolor\": \"white\", \"ticks\": \"\"}}, \"scene\": {\"xaxis\": {\"backgroundcolor\": \"#E5ECF6\", \"gridcolor\": \"white\", \"gridwidth\": 2, \"linecolor\": \"white\", \"showbackground\": true, \"ticks\": \"\", \"zerolinecolor\": \"white\"}, \"yaxis\": {\"backgroundcolor\": \"#E5ECF6\", \"gridcolor\": \"white\", \"gridwidth\": 2, \"linecolor\": \"white\", \"showbackground\": true, \"ticks\": \"\", \"zerolinecolor\": \"white\"}, \"zaxis\": {\"backgroundcolor\": \"#E5ECF6\", \"gridcolor\": \"white\", \"gridwidth\": 2, \"linecolor\": \"white\", \"showbackground\": true, \"ticks\": \"\", \"zerolinecolor\": \"white\"}}, \"shapedefaults\": {\"line\": {\"color\": \"#2a3f5f\"}}, \"ternary\": {\"aaxis\": {\"gridcolor\": \"white\", \"linecolor\": \"white\", \"ticks\": \"\"}, \"baxis\": {\"gridcolor\": \"white\", \"linecolor\": \"white\", \"ticks\": \"\"}, \"bgcolor\": \"#E5ECF6\", \"caxis\": {\"gridcolor\": \"white\", \"linecolor\": \"white\", \"ticks\": \"\"}}, \"title\": {\"x\": 0.05}, \"xaxis\": {\"automargin\": true, \"gridcolor\": \"white\", \"linecolor\": \"white\", \"ticks\": \"\", \"zerolinecolor\": \"white\", \"zerolinewidth\": 2}, \"yaxis\": {\"automargin\": true, \"gridcolor\": \"white\", \"linecolor\": \"white\", \"ticks\": \"\", \"zerolinecolor\": \"white\", \"zerolinewidth\": 2}}}, \"width\": 1000, \"xaxis\": {\"anchor\": \"y\", \"domain\": [0, 1], \"range\": [0, 0.7], \"showticklabels\": false}, \"xaxis2\": {\"anchor\": \"y2\", \"domain\": [0.55, 1.0]}, \"yaxis\": {\"anchor\": \"x\", \"domain\": [0, 0.08], \"range\": [0, 10], \"showticklabels\": false}, \"yaxis2\": {\"anchor\": \"x2\", \"domain\": [0.0, 0.09523809523809525]}},\n",
       "                        {\"responsive\": true}\n",
       "                    ).then(function(){\n",
       "                            \n",
       "var gd = document.getElementById('7503fb5e-2424-4598-a57a-c474c7025b8a');\n",
       "var x = new MutationObserver(function (mutations, observer) {{\n",
       "        var display = window.getComputedStyle(gd).display;\n",
       "        if (!display || display === 'none') {{\n",
       "            console.log([gd, 'removed!']);\n",
       "            Plotly.purge(gd);\n",
       "            observer.disconnect();\n",
       "        }}\n",
       "}});\n",
       "\n",
       "// Listen for the removal of the full notebook cells\n",
       "var notebookContainer = gd.closest('#notebook-container');\n",
       "if (notebookContainer) {{\n",
       "    x.observe(notebookContainer, {childList: true});\n",
       "}}\n",
       "\n",
       "// Listen for the clearing of the current output cell\n",
       "var outputEl = gd.closest('.output');\n",
       "if (outputEl) {{\n",
       "    x.observe(outputEl, {childList: true});\n",
       "}}\n",
       "\n",
       "                        })\n",
       "                };\n",
       "                });\n",
       "            </script>\n",
       "        </div>"
      ]
     },
     "metadata": {},
     "output_type": "display_data"
    }
   ],
   "source": [
    "fig = plot_network(solutions_sum)\n",
    "fig.write_image(\"C:/Users\\Tim\\OneDrive - Aarhus universitet\\Speciale\\Report\\Images\\MGA_sum.pdf\")\n",
    "fig.show()"
   ]
  },
  {
   "cell_type": "markdown",
   "metadata": {},
   "source": [
    "### HSJ"
   ]
  },
  {
   "cell_type": "code",
   "execution_count": 83,
   "metadata": {},
   "outputs": [
    {
     "name": "stdout",
     "output_type": "stream",
     "text": [
      "old objective valeu: 68411982466.69762\n"
     ]
    }
   ],
   "source": [
    "import pyomo.environ as pyomo_env\n",
    "MGA_slack = 0.1\n",
    "solutions_hsj = []\n",
    "# Defining exstra functionality, that updates the objective function of the network\n",
    "def extra_functionality(network, snapshots,  MGA_slack = 0.05):\n",
    "    # Identify the nonzero decision variables that should enter the MGA objective function.\n",
    "    generator_outputs = network.generators.p_nom_opt\n",
    "    nonzero_gen_p = list()\n",
    "    for gen_p in network.model.generator_p_nom :\n",
    "        if generator_outputs[gen_p] > 0 :\n",
    "            nonzero_gen_p.append(gen_p)\n",
    "    # Build new MGA objective function.\n",
    "    MGA_objective = 0\n",
    "    for gen_p in nonzero_gen_p:\n",
    "        MGA_objective += network.model.generator_p_nom[gen_p]\n",
    "    # Add the new MGA objective function to the model.\n",
    "    network.model.mga_objective = pyomo_env.Objective(expr=MGA_objective)\n",
    "    # Deactivate the old objective function and activate the MGA objective function.\n",
    "    network.model.objective.deactivate()\n",
    "    network.model.mga_objective.activate()\n",
    "    # Add the MGA slack constraint.\n",
    "    #print('old objective value ',old_objective_value)\n",
    "    network.model.mga_constraint = pyomo_env.Constraint(expr=network.model.objective.expr <= \n",
    "                                          (1 + MGA_slack) * old_objective_value)\n",
    "\n",
    "\n",
    "# Initial solution of network, with non MGA objective function \n",
    "network.lopf(network.snapshots,solver_name='gurobi')\n",
    "# Saving the value of the old objective function.\n",
    "old_objective_value = network.model.objective()\n",
    "print('old objective valeu: ' + str(old_objective_value))\n",
    "# Define a list of soltutions to the network object containing coppys of the network\n",
    "network.solutions = []\n",
    "data_detail_hsj = []\n",
    "# Loop until a non original solution is found\n",
    "original_solution = True\n",
    "i = 0\n",
    "while original_solution:\n",
    "    # Save current version of network in solutions\n",
    "    network.solutions.append(network.copy())\n",
    "    solutions_hsj.append(network.copy())\n",
    "    #network.solutions[i].objective_value = network.model.objective()\n",
    "    #Solve network with updated objective function\n",
    "    network.lopf(network.snapshots,\\\n",
    "                 solver_name='gurobi',\\\n",
    "                 extra_functionality=lambda network,\\\n",
    "                 snapshots: extra_functionality(network, snapshots, MGA_slack)) \n",
    "    # Tjek if the solution is seen before\n",
    "    for i in range(len(network.solutions)):\n",
    "        if network.generators_t.p.equals(network.solutions[i].generators_t.p):\n",
    "            original_solution = False\n",
    "            \n",
    "    var = []\n",
    "    for var_type in ['ocgt','wind']:#,'solar']:\n",
    "        filter1 = network.generators.type==var_type\n",
    "        var.append(sum(network.generators.p_nom_opt[filter1]))\n",
    "    data_detail_hsj.append(var)\n",
    "\n",
    "    i += 1\n",
    "data_detail_hsj = np.array(data_detail_hsj)"
   ]
  },
  {
   "cell_type": "code",
   "execution_count": 86,
   "metadata": {},
   "outputs": [
    {
     "data": {
      "text/plain": [
       "[Network , Network , Network ]"
      ]
     },
     "execution_count": 86,
     "metadata": {},
     "output_type": "execute_result"
    }
   ],
   "source": [
    "solutions_hsj"
   ]
  },
  {
   "cell_type": "code",
   "execution_count": 84,
   "metadata": {},
   "outputs": [
    {
     "data": {
      "application/vnd.plotly.v1+json": {
       "config": {
        "plotlyServerURL": "https://plot.ly"
       },
       "data": [
        {
         "mode": "lines",
         "name": "Convex hull",
         "type": "scatter",
         "x": [
          160.40614127075503,
          267.70768561875684,
          267.94711115664103,
          292.8355457029541,
          295.505232178923,
          295.8889786101187,
          296.1565611218936,
          296.3620176154555,
          296.2690144942437,
          294.7158930899329,
          248.45704554445334,
          245.39203706560542,
          233.82982787350238,
          209.27396101581388,
          152.22221341878915,
          151.71636233440356,
          150.45558859055436,
          145.7854196523582,
          138.5557941262123,
          130.48122207417907,
          108.65363576802719,
          108.32346453842531,
          105.31712032268213,
          93.02904693550957,
          91.76573656644456,
          91.48254375115937,
          88.93426766066177,
          88.55216387925458,
          88.47604531158652,
          88.50436007163802,
          89.1526933054945,
          89.31962350734167,
          114.82142603306059,
          123.71104815977687,
          126.0263286278443,
          151.37115865651623,
          151.48883380867102,
          160.40614127075503
         ],
         "y": [
          383.0350365524486,
          383.03503655244856,
          383.1158142142855,
          398.49010449467346,
          404.2776068782045,
          405.3169454698108,
          406.1572763420759,
          411.218424649406,
          413.50832016857646,
          418.97519729933765,
          474.69569024482684,
          477.67214765724094,
          487.323723184218,
          505.60064357847625,
          545.685289824086,
          545.9838929820661,
          546.3864467877626,
          546.9949754794181,
          547.3207116831136,
          546.3570343492668,
          541.0254446395638,
          540.9187038884039,
          539.761422866845,
          519.8149779875024,
          516.4426186183783,
          515.430958954235,
          494.6473823111446,
          488.86042572121835,
          485.4574073362388,
          483.8662435345336,
          479.0663825099438,
          478.35768056510676,
          416.62956494526253,
          407.0651264294398,
          405.2792591518161,
          387.09777210889615,
          387.01797029623964,
          383.0350365524486
         ]
        },
        {
         "mode": "markers",
         "name": "MGA solutions",
         "type": "scatter",
         "x": [
          154.63016093985738,
          118.44415243167495,
          154.63016093985738
         ],
         "y": [
          464.8212720441318,
          450.71559107485194,
          464.8212720441318
         ]
        },
        {
         "mode": "markers",
         "name": "Initial_solution",
         "type": "scatter",
         "x": [
          143.22484840872355
         ],
         "y": [
          420.1483564729163
         ]
        }
       ],
       "layout": {
        "autosize": false,
        "height": 500,
        "legend": {
         "x": 0.6,
         "y": 1
        },
        "paper_bgcolor": "rgba(0,0,0,0)",
        "plot_bgcolor": "rgba(0,0,0,0)",
        "showlegend": true,
        "template": {
         "data": {
          "bar": [
           {
            "error_x": {
             "color": "#2a3f5f"
            },
            "error_y": {
             "color": "#2a3f5f"
            },
            "marker": {
             "line": {
              "color": "#E5ECF6",
              "width": 0.5
             }
            },
            "type": "bar"
           }
          ],
          "barpolar": [
           {
            "marker": {
             "line": {
              "color": "#E5ECF6",
              "width": 0.5
             }
            },
            "type": "barpolar"
           }
          ],
          "carpet": [
           {
            "aaxis": {
             "endlinecolor": "#2a3f5f",
             "gridcolor": "white",
             "linecolor": "white",
             "minorgridcolor": "white",
             "startlinecolor": "#2a3f5f"
            },
            "baxis": {
             "endlinecolor": "#2a3f5f",
             "gridcolor": "white",
             "linecolor": "white",
             "minorgridcolor": "white",
             "startlinecolor": "#2a3f5f"
            },
            "type": "carpet"
           }
          ],
          "choropleth": [
           {
            "colorbar": {
             "outlinewidth": 0,
             "ticks": ""
            },
            "type": "choropleth"
           }
          ],
          "contour": [
           {
            "colorbar": {
             "outlinewidth": 0,
             "ticks": ""
            },
            "colorscale": [
             [
              0,
              "#0d0887"
             ],
             [
              0.1111111111111111,
              "#46039f"
             ],
             [
              0.2222222222222222,
              "#7201a8"
             ],
             [
              0.3333333333333333,
              "#9c179e"
             ],
             [
              0.4444444444444444,
              "#bd3786"
             ],
             [
              0.5555555555555556,
              "#d8576b"
             ],
             [
              0.6666666666666666,
              "#ed7953"
             ],
             [
              0.7777777777777778,
              "#fb9f3a"
             ],
             [
              0.8888888888888888,
              "#fdca26"
             ],
             [
              1,
              "#f0f921"
             ]
            ],
            "type": "contour"
           }
          ],
          "contourcarpet": [
           {
            "colorbar": {
             "outlinewidth": 0,
             "ticks": ""
            },
            "type": "contourcarpet"
           }
          ],
          "heatmap": [
           {
            "colorbar": {
             "outlinewidth": 0,
             "ticks": ""
            },
            "colorscale": [
             [
              0,
              "#0d0887"
             ],
             [
              0.1111111111111111,
              "#46039f"
             ],
             [
              0.2222222222222222,
              "#7201a8"
             ],
             [
              0.3333333333333333,
              "#9c179e"
             ],
             [
              0.4444444444444444,
              "#bd3786"
             ],
             [
              0.5555555555555556,
              "#d8576b"
             ],
             [
              0.6666666666666666,
              "#ed7953"
             ],
             [
              0.7777777777777778,
              "#fb9f3a"
             ],
             [
              0.8888888888888888,
              "#fdca26"
             ],
             [
              1,
              "#f0f921"
             ]
            ],
            "type": "heatmap"
           }
          ],
          "heatmapgl": [
           {
            "colorbar": {
             "outlinewidth": 0,
             "ticks": ""
            },
            "colorscale": [
             [
              0,
              "#0d0887"
             ],
             [
              0.1111111111111111,
              "#46039f"
             ],
             [
              0.2222222222222222,
              "#7201a8"
             ],
             [
              0.3333333333333333,
              "#9c179e"
             ],
             [
              0.4444444444444444,
              "#bd3786"
             ],
             [
              0.5555555555555556,
              "#d8576b"
             ],
             [
              0.6666666666666666,
              "#ed7953"
             ],
             [
              0.7777777777777778,
              "#fb9f3a"
             ],
             [
              0.8888888888888888,
              "#fdca26"
             ],
             [
              1,
              "#f0f921"
             ]
            ],
            "type": "heatmapgl"
           }
          ],
          "histogram": [
           {
            "marker": {
             "colorbar": {
              "outlinewidth": 0,
              "ticks": ""
             }
            },
            "type": "histogram"
           }
          ],
          "histogram2d": [
           {
            "colorbar": {
             "outlinewidth": 0,
             "ticks": ""
            },
            "colorscale": [
             [
              0,
              "#0d0887"
             ],
             [
              0.1111111111111111,
              "#46039f"
             ],
             [
              0.2222222222222222,
              "#7201a8"
             ],
             [
              0.3333333333333333,
              "#9c179e"
             ],
             [
              0.4444444444444444,
              "#bd3786"
             ],
             [
              0.5555555555555556,
              "#d8576b"
             ],
             [
              0.6666666666666666,
              "#ed7953"
             ],
             [
              0.7777777777777778,
              "#fb9f3a"
             ],
             [
              0.8888888888888888,
              "#fdca26"
             ],
             [
              1,
              "#f0f921"
             ]
            ],
            "type": "histogram2d"
           }
          ],
          "histogram2dcontour": [
           {
            "colorbar": {
             "outlinewidth": 0,
             "ticks": ""
            },
            "colorscale": [
             [
              0,
              "#0d0887"
             ],
             [
              0.1111111111111111,
              "#46039f"
             ],
             [
              0.2222222222222222,
              "#7201a8"
             ],
             [
              0.3333333333333333,
              "#9c179e"
             ],
             [
              0.4444444444444444,
              "#bd3786"
             ],
             [
              0.5555555555555556,
              "#d8576b"
             ],
             [
              0.6666666666666666,
              "#ed7953"
             ],
             [
              0.7777777777777778,
              "#fb9f3a"
             ],
             [
              0.8888888888888888,
              "#fdca26"
             ],
             [
              1,
              "#f0f921"
             ]
            ],
            "type": "histogram2dcontour"
           }
          ],
          "mesh3d": [
           {
            "colorbar": {
             "outlinewidth": 0,
             "ticks": ""
            },
            "type": "mesh3d"
           }
          ],
          "parcoords": [
           {
            "line": {
             "colorbar": {
              "outlinewidth": 0,
              "ticks": ""
             }
            },
            "type": "parcoords"
           }
          ],
          "scatter": [
           {
            "marker": {
             "colorbar": {
              "outlinewidth": 0,
              "ticks": ""
             }
            },
            "type": "scatter"
           }
          ],
          "scatter3d": [
           {
            "line": {
             "colorbar": {
              "outlinewidth": 0,
              "ticks": ""
             }
            },
            "marker": {
             "colorbar": {
              "outlinewidth": 0,
              "ticks": ""
             }
            },
            "type": "scatter3d"
           }
          ],
          "scattercarpet": [
           {
            "marker": {
             "colorbar": {
              "outlinewidth": 0,
              "ticks": ""
             }
            },
            "type": "scattercarpet"
           }
          ],
          "scattergeo": [
           {
            "marker": {
             "colorbar": {
              "outlinewidth": 0,
              "ticks": ""
             }
            },
            "type": "scattergeo"
           }
          ],
          "scattergl": [
           {
            "marker": {
             "colorbar": {
              "outlinewidth": 0,
              "ticks": ""
             }
            },
            "type": "scattergl"
           }
          ],
          "scattermapbox": [
           {
            "marker": {
             "colorbar": {
              "outlinewidth": 0,
              "ticks": ""
             }
            },
            "type": "scattermapbox"
           }
          ],
          "scatterpolar": [
           {
            "marker": {
             "colorbar": {
              "outlinewidth": 0,
              "ticks": ""
             }
            },
            "type": "scatterpolar"
           }
          ],
          "scatterpolargl": [
           {
            "marker": {
             "colorbar": {
              "outlinewidth": 0,
              "ticks": ""
             }
            },
            "type": "scatterpolargl"
           }
          ],
          "scatterternary": [
           {
            "marker": {
             "colorbar": {
              "outlinewidth": 0,
              "ticks": ""
             }
            },
            "type": "scatterternary"
           }
          ],
          "surface": [
           {
            "colorbar": {
             "outlinewidth": 0,
             "ticks": ""
            },
            "colorscale": [
             [
              0,
              "#0d0887"
             ],
             [
              0.1111111111111111,
              "#46039f"
             ],
             [
              0.2222222222222222,
              "#7201a8"
             ],
             [
              0.3333333333333333,
              "#9c179e"
             ],
             [
              0.4444444444444444,
              "#bd3786"
             ],
             [
              0.5555555555555556,
              "#d8576b"
             ],
             [
              0.6666666666666666,
              "#ed7953"
             ],
             [
              0.7777777777777778,
              "#fb9f3a"
             ],
             [
              0.8888888888888888,
              "#fdca26"
             ],
             [
              1,
              "#f0f921"
             ]
            ],
            "type": "surface"
           }
          ],
          "table": [
           {
            "cells": {
             "fill": {
              "color": "#EBF0F8"
             },
             "line": {
              "color": "white"
             }
            },
            "header": {
             "fill": {
              "color": "#C8D4E3"
             },
             "line": {
              "color": "white"
             }
            },
            "type": "table"
           }
          ]
         },
         "layout": {
          "annotationdefaults": {
           "arrowcolor": "#2a3f5f",
           "arrowhead": 0,
           "arrowwidth": 1
          },
          "colorscale": {
           "diverging": [
            [
             0,
             "#8e0152"
            ],
            [
             0.1,
             "#c51b7d"
            ],
            [
             0.2,
             "#de77ae"
            ],
            [
             0.3,
             "#f1b6da"
            ],
            [
             0.4,
             "#fde0ef"
            ],
            [
             0.5,
             "#f7f7f7"
            ],
            [
             0.6,
             "#e6f5d0"
            ],
            [
             0.7,
             "#b8e186"
            ],
            [
             0.8,
             "#7fbc41"
            ],
            [
             0.9,
             "#4d9221"
            ],
            [
             1,
             "#276419"
            ]
           ],
           "sequential": [
            [
             0,
             "#0d0887"
            ],
            [
             0.1111111111111111,
             "#46039f"
            ],
            [
             0.2222222222222222,
             "#7201a8"
            ],
            [
             0.3333333333333333,
             "#9c179e"
            ],
            [
             0.4444444444444444,
             "#bd3786"
            ],
            [
             0.5555555555555556,
             "#d8576b"
            ],
            [
             0.6666666666666666,
             "#ed7953"
            ],
            [
             0.7777777777777778,
             "#fb9f3a"
            ],
            [
             0.8888888888888888,
             "#fdca26"
            ],
            [
             1,
             "#f0f921"
            ]
           ],
           "sequentialminus": [
            [
             0,
             "#0d0887"
            ],
            [
             0.1111111111111111,
             "#46039f"
            ],
            [
             0.2222222222222222,
             "#7201a8"
            ],
            [
             0.3333333333333333,
             "#9c179e"
            ],
            [
             0.4444444444444444,
             "#bd3786"
            ],
            [
             0.5555555555555556,
             "#d8576b"
            ],
            [
             0.6666666666666666,
             "#ed7953"
            ],
            [
             0.7777777777777778,
             "#fb9f3a"
            ],
            [
             0.8888888888888888,
             "#fdca26"
            ],
            [
             1,
             "#f0f921"
            ]
           ]
          },
          "colorway": [
           "#636efa",
           "#EF553B",
           "#00cc96",
           "#ab63fa",
           "#FFA15A",
           "#19d3f3",
           "#FF6692",
           "#B6E880",
           "#FF97FF",
           "#FECB52"
          ],
          "font": {
           "color": "#2a3f5f"
          },
          "geo": {
           "bgcolor": "white",
           "lakecolor": "white",
           "landcolor": "#E5ECF6",
           "showlakes": true,
           "showland": true,
           "subunitcolor": "white"
          },
          "hoverlabel": {
           "align": "left"
          },
          "hovermode": "closest",
          "mapbox": {
           "style": "light"
          },
          "paper_bgcolor": "white",
          "plot_bgcolor": "#E5ECF6",
          "polar": {
           "angularaxis": {
            "gridcolor": "white",
            "linecolor": "white",
            "ticks": ""
           },
           "bgcolor": "#E5ECF6",
           "radialaxis": {
            "gridcolor": "white",
            "linecolor": "white",
            "ticks": ""
           }
          },
          "scene": {
           "xaxis": {
            "backgroundcolor": "#E5ECF6",
            "gridcolor": "white",
            "gridwidth": 2,
            "linecolor": "white",
            "showbackground": true,
            "ticks": "",
            "zerolinecolor": "white"
           },
           "yaxis": {
            "backgroundcolor": "#E5ECF6",
            "gridcolor": "white",
            "gridwidth": 2,
            "linecolor": "white",
            "showbackground": true,
            "ticks": "",
            "zerolinecolor": "white"
           },
           "zaxis": {
            "backgroundcolor": "#E5ECF6",
            "gridcolor": "white",
            "gridwidth": 2,
            "linecolor": "white",
            "showbackground": true,
            "ticks": "",
            "zerolinecolor": "white"
           }
          },
          "shapedefaults": {
           "line": {
            "color": "#2a3f5f"
           }
          },
          "ternary": {
           "aaxis": {
            "gridcolor": "white",
            "linecolor": "white",
            "ticks": ""
           },
           "baxis": {
            "gridcolor": "white",
            "linecolor": "white",
            "ticks": ""
           },
           "bgcolor": "#E5ECF6",
           "caxis": {
            "gridcolor": "white",
            "linecolor": "white",
            "ticks": ""
           }
          },
          "title": {
           "x": 0.05
          },
          "xaxis": {
           "automargin": true,
           "gridcolor": "white",
           "linecolor": "white",
           "ticks": "",
           "zerolinecolor": "white",
           "zerolinewidth": 2
          },
          "yaxis": {
           "automargin": true,
           "gridcolor": "white",
           "linecolor": "white",
           "ticks": "",
           "zerolinecolor": "white",
           "zerolinewidth": 2
          }
         }
        },
        "width": 500,
        "xaxis": {
         "range": [
          80,
          300
         ],
         "title": {
          "text": "ocgt capacity installed [GW]"
         }
        },
        "yaxis": {
         "range": [
          350,
          550
         ],
         "title": {
          "text": "vres capacity installed [GW]"
         }
        }
       }
      },
      "text/html": [
       "<div>\n",
       "        \n",
       "        \n",
       "            <div id=\"8899fba7-249d-4aeb-ba5f-cec3135e2efd\" class=\"plotly-graph-div\" style=\"height:500px; width:500px;\"></div>\n",
       "            <script type=\"text/javascript\">\n",
       "                require([\"plotly\"], function(Plotly) {\n",
       "                    window.PLOTLYENV=window.PLOTLYENV || {};\n",
       "                    \n",
       "                if (document.getElementById(\"8899fba7-249d-4aeb-ba5f-cec3135e2efd\")) {\n",
       "                    Plotly.newPlot(\n",
       "                        '8899fba7-249d-4aeb-ba5f-cec3135e2efd',\n",
       "                        [{\"mode\": \"lines\", \"name\": \"Convex hull\", \"type\": \"scatter\", \"x\": [160.40614127075503, 267.70768561875684, 267.94711115664103, 292.8355457029541, 295.505232178923, 295.8889786101187, 296.1565611218936, 296.3620176154555, 296.2690144942437, 294.7158930899329, 248.45704554445334, 245.39203706560542, 233.82982787350238, 209.27396101581388, 152.22221341878915, 151.71636233440356, 150.45558859055436, 145.7854196523582, 138.5557941262123, 130.48122207417907, 108.65363576802719, 108.32346453842531, 105.31712032268213, 93.02904693550957, 91.76573656644456, 91.48254375115937, 88.93426766066177, 88.55216387925458, 88.47604531158652, 88.50436007163802, 89.1526933054945, 89.31962350734167, 114.82142603306059, 123.71104815977687, 126.0263286278443, 151.37115865651623, 151.48883380867102, 160.40614127075503], \"y\": [383.0350365524486, 383.03503655244856, 383.1158142142855, 398.49010449467346, 404.2776068782045, 405.3169454698108, 406.1572763420759, 411.218424649406, 413.50832016857646, 418.97519729933765, 474.69569024482684, 477.67214765724094, 487.323723184218, 505.60064357847625, 545.685289824086, 545.9838929820661, 546.3864467877626, 546.9949754794181, 547.3207116831136, 546.3570343492668, 541.0254446395638, 540.9187038884039, 539.761422866845, 519.8149779875024, 516.4426186183783, 515.430958954235, 494.6473823111446, 488.86042572121835, 485.4574073362388, 483.8662435345336, 479.0663825099438, 478.35768056510676, 416.62956494526253, 407.0651264294398, 405.2792591518161, 387.09777210889615, 387.01797029623964, 383.0350365524486]}, {\"mode\": \"markers\", \"name\": \"MGA solutions\", \"type\": \"scatter\", \"x\": [154.63016093985738, 118.44415243167495, 154.63016093985738], \"y\": [464.8212720441318, 450.71559107485194, 464.8212720441318]}, {\"mode\": \"markers\", \"name\": \"Initial_solution\", \"type\": \"scatter\", \"x\": [143.22484840872355], \"y\": [420.1483564729163]}],\n",
       "                        {\"autosize\": false, \"height\": 500, \"legend\": {\"x\": 0.6, \"y\": 1}, \"paper_bgcolor\": \"rgba(0,0,0,0)\", \"plot_bgcolor\": \"rgba(0,0,0,0)\", \"showlegend\": true, \"template\": {\"data\": {\"bar\": [{\"error_x\": {\"color\": \"#2a3f5f\"}, \"error_y\": {\"color\": \"#2a3f5f\"}, \"marker\": {\"line\": {\"color\": \"#E5ECF6\", \"width\": 0.5}}, \"type\": \"bar\"}], \"barpolar\": [{\"marker\": {\"line\": {\"color\": \"#E5ECF6\", \"width\": 0.5}}, \"type\": \"barpolar\"}], \"carpet\": [{\"aaxis\": {\"endlinecolor\": \"#2a3f5f\", \"gridcolor\": \"white\", \"linecolor\": \"white\", \"minorgridcolor\": \"white\", \"startlinecolor\": \"#2a3f5f\"}, \"baxis\": {\"endlinecolor\": \"#2a3f5f\", \"gridcolor\": \"white\", \"linecolor\": \"white\", \"minorgridcolor\": \"white\", \"startlinecolor\": \"#2a3f5f\"}, \"type\": \"carpet\"}], \"choropleth\": [{\"colorbar\": {\"outlinewidth\": 0, \"ticks\": \"\"}, \"type\": \"choropleth\"}], \"contour\": [{\"colorbar\": {\"outlinewidth\": 0, \"ticks\": \"\"}, \"colorscale\": [[0.0, \"#0d0887\"], [0.1111111111111111, \"#46039f\"], [0.2222222222222222, \"#7201a8\"], [0.3333333333333333, \"#9c179e\"], [0.4444444444444444, \"#bd3786\"], [0.5555555555555556, \"#d8576b\"], [0.6666666666666666, \"#ed7953\"], [0.7777777777777778, \"#fb9f3a\"], [0.8888888888888888, \"#fdca26\"], [1.0, \"#f0f921\"]], \"type\": \"contour\"}], \"contourcarpet\": [{\"colorbar\": {\"outlinewidth\": 0, \"ticks\": \"\"}, \"type\": \"contourcarpet\"}], \"heatmap\": [{\"colorbar\": {\"outlinewidth\": 0, \"ticks\": \"\"}, \"colorscale\": [[0.0, \"#0d0887\"], [0.1111111111111111, \"#46039f\"], [0.2222222222222222, \"#7201a8\"], [0.3333333333333333, \"#9c179e\"], [0.4444444444444444, \"#bd3786\"], [0.5555555555555556, \"#d8576b\"], [0.6666666666666666, \"#ed7953\"], [0.7777777777777778, \"#fb9f3a\"], [0.8888888888888888, \"#fdca26\"], [1.0, \"#f0f921\"]], \"type\": \"heatmap\"}], \"heatmapgl\": [{\"colorbar\": {\"outlinewidth\": 0, \"ticks\": \"\"}, \"colorscale\": [[0.0, \"#0d0887\"], [0.1111111111111111, \"#46039f\"], [0.2222222222222222, \"#7201a8\"], [0.3333333333333333, \"#9c179e\"], [0.4444444444444444, \"#bd3786\"], [0.5555555555555556, \"#d8576b\"], [0.6666666666666666, \"#ed7953\"], [0.7777777777777778, \"#fb9f3a\"], [0.8888888888888888, \"#fdca26\"], [1.0, \"#f0f921\"]], \"type\": \"heatmapgl\"}], \"histogram\": [{\"marker\": {\"colorbar\": {\"outlinewidth\": 0, \"ticks\": \"\"}}, \"type\": \"histogram\"}], \"histogram2d\": [{\"colorbar\": {\"outlinewidth\": 0, \"ticks\": \"\"}, \"colorscale\": [[0.0, \"#0d0887\"], [0.1111111111111111, \"#46039f\"], [0.2222222222222222, \"#7201a8\"], [0.3333333333333333, \"#9c179e\"], [0.4444444444444444, \"#bd3786\"], [0.5555555555555556, \"#d8576b\"], [0.6666666666666666, \"#ed7953\"], [0.7777777777777778, \"#fb9f3a\"], [0.8888888888888888, \"#fdca26\"], [1.0, \"#f0f921\"]], \"type\": \"histogram2d\"}], \"histogram2dcontour\": [{\"colorbar\": {\"outlinewidth\": 0, \"ticks\": \"\"}, \"colorscale\": [[0.0, \"#0d0887\"], [0.1111111111111111, \"#46039f\"], [0.2222222222222222, \"#7201a8\"], [0.3333333333333333, \"#9c179e\"], [0.4444444444444444, \"#bd3786\"], [0.5555555555555556, \"#d8576b\"], [0.6666666666666666, \"#ed7953\"], [0.7777777777777778, \"#fb9f3a\"], [0.8888888888888888, \"#fdca26\"], [1.0, \"#f0f921\"]], \"type\": \"histogram2dcontour\"}], \"mesh3d\": [{\"colorbar\": {\"outlinewidth\": 0, \"ticks\": \"\"}, \"type\": \"mesh3d\"}], \"parcoords\": [{\"line\": {\"colorbar\": {\"outlinewidth\": 0, \"ticks\": \"\"}}, \"type\": \"parcoords\"}], \"scatter\": [{\"marker\": {\"colorbar\": {\"outlinewidth\": 0, \"ticks\": \"\"}}, \"type\": \"scatter\"}], \"scatter3d\": [{\"line\": {\"colorbar\": {\"outlinewidth\": 0, \"ticks\": \"\"}}, \"marker\": {\"colorbar\": {\"outlinewidth\": 0, \"ticks\": \"\"}}, \"type\": \"scatter3d\"}], \"scattercarpet\": [{\"marker\": {\"colorbar\": {\"outlinewidth\": 0, \"ticks\": \"\"}}, \"type\": \"scattercarpet\"}], \"scattergeo\": [{\"marker\": {\"colorbar\": {\"outlinewidth\": 0, \"ticks\": \"\"}}, \"type\": \"scattergeo\"}], \"scattergl\": [{\"marker\": {\"colorbar\": {\"outlinewidth\": 0, \"ticks\": \"\"}}, \"type\": \"scattergl\"}], \"scattermapbox\": [{\"marker\": {\"colorbar\": {\"outlinewidth\": 0, \"ticks\": \"\"}}, \"type\": \"scattermapbox\"}], \"scatterpolar\": [{\"marker\": {\"colorbar\": {\"outlinewidth\": 0, \"ticks\": \"\"}}, \"type\": \"scatterpolar\"}], \"scatterpolargl\": [{\"marker\": {\"colorbar\": {\"outlinewidth\": 0, \"ticks\": \"\"}}, \"type\": \"scatterpolargl\"}], \"scatterternary\": [{\"marker\": {\"colorbar\": {\"outlinewidth\": 0, \"ticks\": \"\"}}, \"type\": \"scatterternary\"}], \"surface\": [{\"colorbar\": {\"outlinewidth\": 0, \"ticks\": \"\"}, \"colorscale\": [[0.0, \"#0d0887\"], [0.1111111111111111, \"#46039f\"], [0.2222222222222222, \"#7201a8\"], [0.3333333333333333, \"#9c179e\"], [0.4444444444444444, \"#bd3786\"], [0.5555555555555556, \"#d8576b\"], [0.6666666666666666, \"#ed7953\"], [0.7777777777777778, \"#fb9f3a\"], [0.8888888888888888, \"#fdca26\"], [1.0, \"#f0f921\"]], \"type\": \"surface\"}], \"table\": [{\"cells\": {\"fill\": {\"color\": \"#EBF0F8\"}, \"line\": {\"color\": \"white\"}}, \"header\": {\"fill\": {\"color\": \"#C8D4E3\"}, \"line\": {\"color\": \"white\"}}, \"type\": \"table\"}]}, \"layout\": {\"annotationdefaults\": {\"arrowcolor\": \"#2a3f5f\", \"arrowhead\": 0, \"arrowwidth\": 1}, \"colorscale\": {\"diverging\": [[0, \"#8e0152\"], [0.1, \"#c51b7d\"], [0.2, \"#de77ae\"], [0.3, \"#f1b6da\"], [0.4, \"#fde0ef\"], [0.5, \"#f7f7f7\"], [0.6, \"#e6f5d0\"], [0.7, \"#b8e186\"], [0.8, \"#7fbc41\"], [0.9, \"#4d9221\"], [1, \"#276419\"]], \"sequential\": [[0.0, \"#0d0887\"], [0.1111111111111111, \"#46039f\"], [0.2222222222222222, \"#7201a8\"], [0.3333333333333333, \"#9c179e\"], [0.4444444444444444, \"#bd3786\"], [0.5555555555555556, \"#d8576b\"], [0.6666666666666666, \"#ed7953\"], [0.7777777777777778, \"#fb9f3a\"], [0.8888888888888888, \"#fdca26\"], [1.0, \"#f0f921\"]], \"sequentialminus\": [[0.0, \"#0d0887\"], [0.1111111111111111, \"#46039f\"], [0.2222222222222222, \"#7201a8\"], [0.3333333333333333, \"#9c179e\"], [0.4444444444444444, \"#bd3786\"], [0.5555555555555556, \"#d8576b\"], [0.6666666666666666, \"#ed7953\"], [0.7777777777777778, \"#fb9f3a\"], [0.8888888888888888, \"#fdca26\"], [1.0, \"#f0f921\"]]}, \"colorway\": [\"#636efa\", \"#EF553B\", \"#00cc96\", \"#ab63fa\", \"#FFA15A\", \"#19d3f3\", \"#FF6692\", \"#B6E880\", \"#FF97FF\", \"#FECB52\"], \"font\": {\"color\": \"#2a3f5f\"}, \"geo\": {\"bgcolor\": \"white\", \"lakecolor\": \"white\", \"landcolor\": \"#E5ECF6\", \"showlakes\": true, \"showland\": true, \"subunitcolor\": \"white\"}, \"hoverlabel\": {\"align\": \"left\"}, \"hovermode\": \"closest\", \"mapbox\": {\"style\": \"light\"}, \"paper_bgcolor\": \"white\", \"plot_bgcolor\": \"#E5ECF6\", \"polar\": {\"angularaxis\": {\"gridcolor\": \"white\", \"linecolor\": \"white\", \"ticks\": \"\"}, \"bgcolor\": \"#E5ECF6\", \"radialaxis\": {\"gridcolor\": \"white\", \"linecolor\": \"white\", \"ticks\": \"\"}}, \"scene\": {\"xaxis\": {\"backgroundcolor\": \"#E5ECF6\", \"gridcolor\": \"white\", \"gridwidth\": 2, \"linecolor\": \"white\", \"showbackground\": true, \"ticks\": \"\", \"zerolinecolor\": \"white\"}, \"yaxis\": {\"backgroundcolor\": \"#E5ECF6\", \"gridcolor\": \"white\", \"gridwidth\": 2, \"linecolor\": \"white\", \"showbackground\": true, \"ticks\": \"\", \"zerolinecolor\": \"white\"}, \"zaxis\": {\"backgroundcolor\": \"#E5ECF6\", \"gridcolor\": \"white\", \"gridwidth\": 2, \"linecolor\": \"white\", \"showbackground\": true, \"ticks\": \"\", \"zerolinecolor\": \"white\"}}, \"shapedefaults\": {\"line\": {\"color\": \"#2a3f5f\"}}, \"ternary\": {\"aaxis\": {\"gridcolor\": \"white\", \"linecolor\": \"white\", \"ticks\": \"\"}, \"baxis\": {\"gridcolor\": \"white\", \"linecolor\": \"white\", \"ticks\": \"\"}, \"bgcolor\": \"#E5ECF6\", \"caxis\": {\"gridcolor\": \"white\", \"linecolor\": \"white\", \"ticks\": \"\"}}, \"title\": {\"x\": 0.05}, \"xaxis\": {\"automargin\": true, \"gridcolor\": \"white\", \"linecolor\": \"white\", \"ticks\": \"\", \"zerolinecolor\": \"white\", \"zerolinewidth\": 2}, \"yaxis\": {\"automargin\": true, \"gridcolor\": \"white\", \"linecolor\": \"white\", \"ticks\": \"\", \"zerolinecolor\": \"white\", \"zerolinewidth\": 2}}}, \"width\": 500, \"xaxis\": {\"range\": [80, 300], \"title\": {\"text\": \"ocgt capacity installed [GW]\"}}, \"yaxis\": {\"range\": [350, 550], \"title\": {\"text\": \"vres capacity installed [GW]\"}}},\n",
       "                        {\"responsive\": true}\n",
       "                    ).then(function(){\n",
       "                            \n",
       "var gd = document.getElementById('8899fba7-249d-4aeb-ba5f-cec3135e2efd');\n",
       "var x = new MutationObserver(function (mutations, observer) {{\n",
       "        var display = window.getComputedStyle(gd).display;\n",
       "        if (!display || display === 'none') {{\n",
       "            console.log([gd, 'removed!']);\n",
       "            Plotly.purge(gd);\n",
       "            observer.disconnect();\n",
       "        }}\n",
       "}});\n",
       "\n",
       "// Listen for the removal of the full notebook cells\n",
       "var notebookContainer = gd.closest('#notebook-container');\n",
       "if (notebookContainer) {{\n",
       "    x.observe(notebookContainer, {childList: true});\n",
       "}}\n",
       "\n",
       "// Listen for the clearing of the current output cell\n",
       "var outputEl = gd.closest('.output');\n",
       "if (outputEl) {{\n",
       "    x.observe(outputEl, {childList: true});\n",
       "}}\n",
       "\n",
       "                        })\n",
       "                };\n",
       "                });\n",
       "            </script>\n",
       "        </div>"
      ]
     },
     "metadata": {},
     "output_type": "display_data"
    }
   ],
   "source": [
    "fig = go.Figure()\n",
    "\n",
    "\n",
    "\n",
    "fig.add_trace(go.Scatter(x=hull.points[np.append(hull.vertices,hull.vertices[0])][:,0]/1000,\n",
    "                          y=hull.points[np.append(hull.vertices,hull.vertices[0])][:,1]/1000,\n",
    "                          #z=data_detail_sum[:,2],\n",
    "                          mode='lines',name='Convex hull'))\n",
    "\n",
    "fig.add_trace(go.Scatter(x=data_detail_hsj[:,0]/1000,\n",
    "                          y=data_detail_hsj[:,1]/1000,\n",
    "                          #z=data_detail_sum[:,2],\n",
    "                          mode='markers',name='MGA solutions'))\n",
    "\n",
    "fig.add_trace(go.Scatter(x=[initial_solution[0]/1000],\n",
    "                          y=[initial_solution[1]/1000],\n",
    "                          #z=[np.mean(data_detail_sum,axis=0)[2]],\n",
    "                          mode='markers',name='Initial_solution'))\n",
    "\n",
    "fig.update_yaxes(title_text='vres capacity installed [GW]',range=[350,550])\n",
    "fig.update_xaxes(title_text='ocgt capacity installed [GW]',range=[80,300])\n",
    "fig.update_layout(\n",
    "    autosize=False,\n",
    "    showlegend=True,\n",
    "    width=500,\n",
    "    height=500,\n",
    "    paper_bgcolor='rgba(0,0,0,0)',\n",
    "    plot_bgcolor='rgba(0,0,0,0)',\n",
    "    legend=dict(x=0.6,y=1)\n",
    ")\n",
    "fig.write_image(\"C:/Users\\Tim\\OneDrive - Aarhus universitet\\Speciale\\Report\\Images\\comparison_2.pdf\")\n",
    "fig.show()"
   ]
  },
  {
   "cell_type": "code",
   "execution_count": 88,
   "metadata": {
    "scrolled": false
   },
   "outputs": [
    {
     "data": {
      "application/vnd.plotly.v1+json": {
       "config": {
        "plotlyServerURL": "https://plot.ly"
       },
       "data": [
        {
         "geo": "geo",
         "lat": [
          47.516231,
          46.818188
         ],
         "line": {
          "color": "green",
          "width": 2.04058083395489
         },
         "locationmode": "country names",
         "lon": [
          14.550072,
          8.227511999999999
         ],
         "mode": "lines",
         "type": "scattergeo"
        },
        {
         "geo": "geo",
         "lat": [
          47.516231,
          49.817492
         ],
         "line": {
          "color": "green",
          "width": 0.9860636150781024
         },
         "locationmode": "country names",
         "lon": [
          14.550072,
          15.472961999999999
         ],
         "mode": "lines",
         "type": "scattergeo"
        },
        {
         "geo": "geo",
         "lat": [
          47.516231,
          51.165690999999995
         ],
         "line": {
          "color": "green",
          "width": 1.2565576602816217
         },
         "locationmode": "country names",
         "lon": [
          14.550072,
          10.451526
         ],
         "mode": "lines",
         "type": "scattergeo"
        },
        {
         "geo": "geo",
         "lat": [
          46.818188,
          51.165690999999995
         ],
         "line": {
          "color": "green",
          "width": 1.6726115363556326
         },
         "locationmode": "country names",
         "lon": [
          8.227511999999999,
          10.451526
         ],
         "mode": "lines",
         "type": "scattergeo"
        },
        {
         "geo": "geo",
         "lat": [
          49.817492,
          51.165690999999995
         ],
         "line": {
          "color": "green",
          "width": 0.5
         },
         "locationmode": "country names",
         "lon": [
          15.472961999999999,
          10.451526
         ],
         "mode": "lines",
         "type": "scattergeo"
        },
        {
         "geo": "geo",
         "lat": [
          51.165690999999995,
          56.26392
         ],
         "line": {
          "color": "green",
          "width": 5.5
         },
         "locationmode": "country names",
         "lon": [
          10.451526,
          9.501785
         ],
         "mode": "lines",
         "type": "scattergeo"
        },
        {
         "geo": "geo",
         "lat": [
          51.165690999999995,
          60.128161
         ],
         "line": {
          "color": "green",
          "width": 1.9706851076651437
         },
         "locationmode": "country names",
         "lon": [
          10.451526,
          18.643501
         ],
         "mode": "lines",
         "type": "scattergeo"
        },
        {
         "geo": "geo",
         "lat": [
          52.132633,
          51.165690999999995
         ],
         "line": {
          "color": "green",
          "width": 1.3769541977526467
         },
         "locationmode": "country names",
         "lon": [
          5.291266,
          10.451526
         ],
         "mode": "lines",
         "type": "scattergeo"
        },
        {
         "geo": "geo",
         "lat": [
          52.132633,
          60.472024
         ],
         "line": {
          "color": "green",
          "width": 1.7389022437743
         },
         "locationmode": "country names",
         "lon": [
          5.291266,
          8.468946
         ],
         "mode": "lines",
         "type": "scattergeo"
        },
        {
         "geo": "geo",
         "lat": [
          60.472024,
          56.26392
         ],
         "line": {
          "color": "green",
          "width": 0.5
         },
         "locationmode": "country names",
         "lon": [
          8.468946,
          9.501785
         ],
         "mode": "lines",
         "type": "scattergeo"
        },
        {
         "geo": "geo",
         "lat": [
          60.472024,
          60.128161
         ],
         "line": {
          "color": "green",
          "width": 1.7385008938392945
         },
         "locationmode": "country names",
         "lon": [
          8.468946,
          18.643501
         ],
         "mode": "lines",
         "type": "scattergeo"
        },
        {
         "geo": "geo",
         "lat": [
          51.919438,
          49.817492
         ],
         "line": {
          "color": "green",
          "width": 1.4372386081034436
         },
         "locationmode": "country names",
         "lon": [
          19.145135999999997,
          15.472961999999999
         ],
         "mode": "lines",
         "type": "scattergeo"
        },
        {
         "geo": "geo",
         "lat": [
          51.919438,
          51.165690999999995
         ],
         "line": {
          "color": "green",
          "width": 1.0644636197666646
         },
         "locationmode": "country names",
         "lon": [
          19.145135999999997,
          10.451526
         ],
         "mode": "lines",
         "type": "scattergeo"
        },
        {
         "geo": "geo",
         "lat": [
          51.919438,
          60.128161
         ],
         "line": {
          "color": "green",
          "width": 4.491952044814678
         },
         "locationmode": "country names",
         "lon": [
          19.145135999999997,
          18.643501
         ],
         "mode": "lines",
         "type": "scattergeo"
        },
        {
         "geo": "geo",
         "lat": [
          60.128161,
          56.26392
         ],
         "line": {
          "color": "green",
          "width": 0.9146595748041573
         },
         "locationmode": "country names",
         "lon": [
          18.643501,
          9.501785
         ],
         "mode": "lines",
         "type": "scattergeo"
        },
        {
         "geo": "geo",
         "hoverinfo": "text",
         "lat": [
          47.516231,
          47.516231,
          47.516231
         ],
         "locationmode": "country names",
         "lon": [
          14.300072,
          14.800072,
          14.050072
         ],
         "marker": {
          "color": [
           "blue",
           "yellow",
           "black"
          ],
          "line": {
           "color": [
            "orange",
            "black"
           ],
           "width": 10
          },
          "size": [
           0,
           3.374321944642861
          ],
          "symbol": "line-ns"
         },
         "mode": "markers",
         "text": "AT",
         "type": "scattergeo"
        },
        {
         "geo": "geo",
         "hoverinfo": "text",
         "lat": [
          46.818188,
          46.818188,
          46.818188
         ],
         "locationmode": "country names",
         "lon": [
          7.977511999999999,
          8.477511999999999,
          7.727511999999999
         ],
         "marker": {
          "color": [
           "blue",
           "yellow",
           "black"
          ],
          "line": {
           "color": [
            "orange",
            "black"
           ],
           "width": 10
          },
          "size": [
           8.190893911268752,
           0
          ],
          "symbol": "line-ns"
         },
         "mode": "markers",
         "text": "CH",
         "type": "scattergeo"
        },
        {
         "geo": "geo",
         "hoverinfo": "text",
         "lat": [
          49.817492,
          49.817492,
          49.817492
         ],
         "locationmode": "country names",
         "lon": [
          15.222961999999999,
          15.722961999999999,
          14.972961999999999
         ],
         "marker": {
          "color": [
           "blue",
           "yellow",
           "black"
          ],
          "line": {
           "color": [
            "orange",
            "black"
           ],
           "width": 10
          },
          "size": [
           4.575784874244023,
           1.901139864454293
          ],
          "symbol": "line-ns"
         },
         "mode": "markers",
         "text": "CZ",
         "type": "scattergeo"
        },
        {
         "geo": "geo",
         "hoverinfo": "text",
         "lat": [
          51.165690999999995,
          51.165690999999995,
          51.165690999999995
         ],
         "locationmode": "country names",
         "lon": [
          10.201526,
          10.701526,
          9.951526
         ],
         "marker": {
          "color": [
           "blue",
           "yellow",
           "black"
          ],
          "line": {
           "color": [
            "orange",
            "black"
           ],
           "width": 10
          },
          "size": [
           33.78390724022895,
           8.596287229561057
          ],
          "symbol": "line-ns"
         },
         "mode": "markers",
         "text": "DE",
         "type": "scattergeo"
        },
        {
         "geo": "geo",
         "hoverinfo": "text",
         "lat": [
          56.26392,
          56.26392,
          56.26392
         ],
         "locationmode": "country names",
         "lon": [
          9.251785,
          9.751785,
          9.001785
         ],
         "marker": {
          "color": [
           "blue",
           "yellow",
           "black"
          ],
          "line": {
           "color": [
            "orange",
            "black"
           ],
           "width": 10
          },
          "size": [
           10.118505040188477,
           0
          ],
          "symbol": "line-ns"
         },
         "mode": "markers",
         "text": "DK",
         "type": "scattergeo"
        },
        {
         "geo": "geo",
         "hoverinfo": "text",
         "lat": [
          52.132633,
          52.132633,
          52.132633
         ],
         "locationmode": "country names",
         "lon": [
          5.041266,
          5.541266,
          4.791266
         ],
         "marker": {
          "color": [
           "blue",
           "yellow",
           "black"
          ],
          "line": {
           "color": [
            "orange",
            "black"
           ],
           "width": 10
          },
          "size": [
           6.963238367085889,
           3.426596295674919
          ],
          "symbol": "line-ns"
         },
         "mode": "markers",
         "text": "NL",
         "type": "scattergeo"
        },
        {
         "geo": "geo",
         "hoverinfo": "text",
         "lat": [
          60.472024,
          60.472024,
          60.472024
         ],
         "locationmode": "country names",
         "lon": [
          8.218946,
          8.718946,
          7.968946000000001
         ],
         "marker": {
          "color": [
           "blue",
           "yellow",
           "black"
          ],
          "line": {
           "color": [
            "orange",
            "black"
           ],
           "width": 10
          },
          "size": [
           13.651490179432981,
           7.660366767847758
          ],
          "symbol": "line-ns"
         },
         "mode": "markers",
         "text": "NO",
         "type": "scattergeo"
        },
        {
         "geo": "geo",
         "hoverinfo": "text",
         "lat": [
          51.919438,
          51.919438,
          51.919438
         ],
         "locationmode": "country names",
         "lon": [
          18.895135999999997,
          19.395135999999997,
          18.645135999999997
         ],
         "marker": {
          "color": [
           "blue",
           "yellow",
           "black"
          ],
          "line": {
           "color": [
            "orange",
            "black"
           ],
           "width": 10
          },
          "size": [
           0,
           10.8475
          ],
          "symbol": "line-ns"
         },
         "mode": "markers",
         "text": "PL",
         "type": "scattergeo"
        },
        {
         "geo": "geo",
         "hoverinfo": "text",
         "lat": [
          60.128161,
          60.128161,
          60.128161
         ],
         "locationmode": "country names",
         "lon": [
          18.393501,
          18.893501,
          18.143501
         ],
         "marker": {
          "color": [
           "blue",
           "yellow",
           "black"
          ],
          "line": {
           "color": [
            "orange",
            "black"
           ],
           "width": 10
          },
          "size": [
           27.753269505780004,
           0
          ],
          "symbol": "line-ns"
         },
         "mode": "markers",
         "text": "SE",
         "type": "scattergeo"
        },
        {
         "geo": "geo2",
         "lat": [
          47.516231,
          46.818188
         ],
         "line": {
          "color": "green",
          "width": 0.845840393885941
         },
         "locationmode": "country names",
         "lon": [
          14.550072,
          8.227511999999999
         ],
         "mode": "lines",
         "type": "scattergeo"
        },
        {
         "geo": "geo2",
         "lat": [
          47.516231,
          49.817492
         ],
         "line": {
          "color": "green",
          "width": 0.9223886096876406
         },
         "locationmode": "country names",
         "lon": [
          14.550072,
          15.472961999999999
         ],
         "mode": "lines",
         "type": "scattergeo"
        },
        {
         "geo": "geo2",
         "lat": [
          47.516231,
          51.165690999999995
         ],
         "line": {
          "color": "green",
          "width": 0.7187217924232776
         },
         "locationmode": "country names",
         "lon": [
          14.550072,
          10.451526
         ],
         "mode": "lines",
         "type": "scattergeo"
        },
        {
         "geo": "geo2",
         "lat": [
          46.818188,
          51.165690999999995
         ],
         "line": {
          "color": "green",
          "width": 0.9861242395664717
         },
         "locationmode": "country names",
         "lon": [
          8.227511999999999,
          10.451526
         ],
         "mode": "lines",
         "type": "scattergeo"
        },
        {
         "geo": "geo2",
         "lat": [
          49.817492,
          51.165690999999995
         ],
         "line": {
          "color": "green",
          "width": 0.5
         },
         "locationmode": "country names",
         "lon": [
          15.472961999999999,
          10.451526
         ],
         "mode": "lines",
         "type": "scattergeo"
        },
        {
         "geo": "geo2",
         "lat": [
          51.165690999999995,
          56.26392
         ],
         "line": {
          "color": "green",
          "width": 3.4153071052548136
         },
         "locationmode": "country names",
         "lon": [
          10.451526,
          9.501785
         ],
         "mode": "lines",
         "type": "scattergeo"
        },
        {
         "geo": "geo2",
         "lat": [
          51.165690999999995,
          60.128161
         ],
         "line": {
          "color": "green",
          "width": 5.5
         },
         "locationmode": "country names",
         "lon": [
          10.451526,
          18.643501
         ],
         "mode": "lines",
         "type": "scattergeo"
        },
        {
         "geo": "geo2",
         "lat": [
          52.132633,
          51.165690999999995
         ],
         "line": {
          "color": "green",
          "width": 2.28297516903921
         },
         "locationmode": "country names",
         "lon": [
          5.291266,
          10.451526
         ],
         "mode": "lines",
         "type": "scattergeo"
        },
        {
         "geo": "geo2",
         "lat": [
          52.132633,
          60.472024
         ],
         "line": {
          "color": "green",
          "width": 0.5
         },
         "locationmode": "country names",
         "lon": [
          5.291266,
          8.468946
         ],
         "mode": "lines",
         "type": "scattergeo"
        },
        {
         "geo": "geo2",
         "lat": [
          60.472024,
          56.26392
         ],
         "line": {
          "color": "green",
          "width": 1.0179173524915113
         },
         "locationmode": "country names",
         "lon": [
          8.468946,
          9.501785
         ],
         "mode": "lines",
         "type": "scattergeo"
        },
        {
         "geo": "geo2",
         "lat": [
          60.472024,
          60.128161
         ],
         "line": {
          "color": "green",
          "width": 2.265874453146088
         },
         "locationmode": "country names",
         "lon": [
          8.468946,
          18.643501
         ],
         "mode": "lines",
         "type": "scattergeo"
        },
        {
         "geo": "geo2",
         "lat": [
          51.919438,
          49.817492
         ],
         "line": {
          "color": "green",
          "width": 1.7215768586757823
         },
         "locationmode": "country names",
         "lon": [
          19.145135999999997,
          15.472961999999999
         ],
         "mode": "lines",
         "type": "scattergeo"
        },
        {
         "geo": "geo2",
         "lat": [
          51.919438,
          51.165690999999995
         ],
         "line": {
          "color": "green",
          "width": 0.5
         },
         "locationmode": "country names",
         "lon": [
          19.145135999999997,
          10.451526
         ],
         "mode": "lines",
         "type": "scattergeo"
        },
        {
         "geo": "geo2",
         "lat": [
          51.919438,
          60.128161
         ],
         "line": {
          "color": "green",
          "width": 3.4252078106428288
         },
         "locationmode": "country names",
         "lon": [
          19.145135999999997,
          18.643501
         ],
         "mode": "lines",
         "type": "scattergeo"
        },
        {
         "geo": "geo2",
         "lat": [
          60.128161,
          56.26392
         ],
         "line": {
          "color": "green",
          "width": 0.5
         },
         "locationmode": "country names",
         "lon": [
          18.643501,
          9.501785
         ],
         "mode": "lines",
         "type": "scattergeo"
        },
        {
         "geo": "geo2",
         "hoverinfo": "text",
         "lat": [
          47.516231,
          47.516231,
          47.516231
         ],
         "locationmode": "country names",
         "lon": [
          14.300072,
          14.800072,
          14.050072
         ],
         "marker": {
          "color": [
           "blue",
           "yellow",
           "black"
          ],
          "line": {
           "color": [
            "orange",
            "black"
           ],
           "width": 10
          },
          "size": [
           11.402542238282624,
           0
          ],
          "symbol": "line-ns"
         },
         "mode": "markers",
         "text": "AT",
         "type": "scattergeo"
        },
        {
         "geo": "geo2",
         "hoverinfo": "text",
         "lat": [
          46.818188,
          46.818188,
          46.818188
         ],
         "locationmode": "country names",
         "lon": [
          7.977511999999999,
          8.477511999999999,
          7.727511999999999
         ],
         "marker": {
          "color": [
           "blue",
           "yellow",
           "black"
          ],
          "line": {
           "color": [
            "orange",
            "black"
           ],
           "width": 10
          },
          "size": [
           0,
           3.69075
          ],
          "symbol": "line-ns"
         },
         "mode": "markers",
         "text": "CH",
         "type": "scattergeo"
        },
        {
         "geo": "geo2",
         "hoverinfo": "text",
         "lat": [
          49.817492,
          49.817492,
          49.817492
         ],
         "locationmode": "country names",
         "lon": [
          15.222961999999999,
          15.722961999999999,
          14.972961999999999
         ],
         "marker": {
          "color": [
           "blue",
           "yellow",
           "black"
          ],
          "line": {
           "color": [
            "orange",
            "black"
           ],
           "width": 10
          },
          "size": [
           8.084946891225352,
           0
          ],
          "symbol": "line-ns"
         },
         "mode": "markers",
         "text": "CZ",
         "type": "scattergeo"
        },
        {
         "geo": "geo2",
         "hoverinfo": "text",
         "lat": [
          51.165690999999995,
          51.165690999999995,
          51.165690999999995
         ],
         "locationmode": "country names",
         "lon": [
          10.201526,
          10.701526,
          9.951526
         ],
         "marker": {
          "color": [
           "blue",
           "yellow",
           "black"
          ],
          "line": {
           "color": [
            "orange",
            "black"
           ],
           "width": 10
          },
          "size": [
           19.151198028778467,
           0
          ],
          "symbol": "line-ns"
         },
         "mode": "markers",
         "text": "DE",
         "type": "scattergeo"
        },
        {
         "geo": "geo2",
         "hoverinfo": "text",
         "lat": [
          56.26392,
          56.26392,
          56.26392
         ],
         "locationmode": "country names",
         "lon": [
          9.251785,
          9.751785,
          9.001785
         ],
         "marker": {
          "color": [
           "blue",
           "yellow",
           "black"
          ],
          "line": {
           "color": [
            "orange",
            "black"
           ],
           "width": 10
          },
          "size": [
           10.118505040188477,
           8.06426041987642
          ],
          "symbol": "line-ns"
         },
         "mode": "markers",
         "text": "DK",
         "type": "scattergeo"
        },
        {
         "geo": "geo2",
         "hoverinfo": "text",
         "lat": [
          52.132633,
          52.132633,
          52.132633
         ],
         "locationmode": "country names",
         "lon": [
          5.041266,
          5.541266,
          4.791266
         ],
         "marker": {
          "color": [
           "blue",
           "yellow",
           "black"
          ],
          "line": {
           "color": [
            "orange",
            "black"
           ],
           "width": 10
          },
          "size": [
           6.963238367085889,
           0
          ],
          "symbol": "line-ns"
         },
         "mode": "markers",
         "text": "NL",
         "type": "scattergeo"
        },
        {
         "geo": "geo2",
         "hoverinfo": "text",
         "lat": [
          60.472024,
          60.472024,
          60.472024
         ],
         "locationmode": "country names",
         "lon": [
          8.218946,
          8.718946,
          7.968946000000001
         ],
         "marker": {
          "color": [
           "blue",
           "yellow",
           "black"
          ],
          "line": {
           "color": [
            "orange",
            "black"
           ],
           "width": 10
          },
          "size": [
           8.16771508691804,
           0
          ],
          "symbol": "line-ns"
         },
         "mode": "markers",
         "text": "NO",
         "type": "scattergeo"
        },
        {
         "geo": "geo2",
         "hoverinfo": "text",
         "lat": [
          51.919438,
          51.919438,
          51.919438
         ],
         "locationmode": "country names",
         "lon": [
          18.895135999999997,
          19.395135999999997,
          18.645135999999997
         ],
         "marker": {
          "color": [
           "blue",
           "yellow",
           "black"
          ],
          "line": {
           "color": [
            "orange",
            "black"
           ],
           "width": 10
          },
          "size": [
           7.635652252668736,
           0
          ],
          "symbol": "line-ns"
         },
         "mode": "markers",
         "text": "PL",
         "type": "scattergeo"
        },
        {
         "geo": "geo2",
         "hoverinfo": "text",
         "lat": [
          60.128161,
          60.128161,
          60.128161
         ],
         "locationmode": "country names",
         "lon": [
          18.393501,
          18.893501,
          18.143501
         ],
         "marker": {
          "color": [
           "blue",
           "yellow",
           "black"
          ],
          "line": {
           "color": [
            "orange",
            "black"
           ],
           "width": 10
          },
          "size": [
           44.68152010588535,
           26.902529815087924
          ],
          "symbol": "line-ns"
         },
         "mode": "markers",
         "text": "SE",
         "type": "scattergeo"
        },
        {
         "geo": "geo3",
         "lat": [
          47.516231,
          46.818188
         ],
         "line": {
          "color": "green",
          "width": 0.7161031317696731
         },
         "locationmode": "country names",
         "lon": [
          14.550072,
          8.227511999999999
         ],
         "mode": "lines",
         "type": "scattergeo"
        },
        {
         "geo": "geo3",
         "lat": [
          47.516231,
          49.817492
         ],
         "line": {
          "color": "green",
          "width": 1.439264616160216
         },
         "locationmode": "country names",
         "lon": [
          14.550072,
          15.472961999999999
         ],
         "mode": "lines",
         "type": "scattergeo"
        },
        {
         "geo": "geo3",
         "lat": [
          47.516231,
          51.165690999999995
         ],
         "line": {
          "color": "green",
          "width": 0.5
         },
         "locationmode": "country names",
         "lon": [
          14.550072,
          10.451526
         ],
         "mode": "lines",
         "type": "scattergeo"
        },
        {
         "geo": "geo3",
         "lat": [
          46.818188,
          51.165690999999995
         ],
         "line": {
          "color": "green",
          "width": 1.369474643643502
         },
         "locationmode": "country names",
         "lon": [
          8.227511999999999,
          10.451526
         ],
         "mode": "lines",
         "type": "scattergeo"
        },
        {
         "geo": "geo3",
         "lat": [
          49.817492,
          51.165690999999995
         ],
         "line": {
          "color": "green",
          "width": 1.3809934250740614
         },
         "locationmode": "country names",
         "lon": [
          15.472961999999999,
          10.451526
         ],
         "mode": "lines",
         "type": "scattergeo"
        },
        {
         "geo": "geo3",
         "lat": [
          51.165690999999995,
          56.26392
         ],
         "line": {
          "color": "green",
          "width": 5.5
         },
         "locationmode": "country names",
         "lon": [
          10.451526,
          9.501785
         ],
         "mode": "lines",
         "type": "scattergeo"
        },
        {
         "geo": "geo3",
         "lat": [
          51.165690999999995,
          60.128161
         ],
         "line": {
          "color": "green",
          "width": 0.5
         },
         "locationmode": "country names",
         "lon": [
          10.451526,
          18.643501
         ],
         "mode": "lines",
         "type": "scattergeo"
        },
        {
         "geo": "geo3",
         "lat": [
          52.132633,
          51.165690999999995
         ],
         "line": {
          "color": "green",
          "width": 0.9215006200115837
         },
         "locationmode": "country names",
         "lon": [
          5.291266,
          10.451526
         ],
         "mode": "lines",
         "type": "scattergeo"
        },
        {
         "geo": "geo3",
         "lat": [
          52.132633,
          60.472024
         ],
         "line": {
          "color": "green",
          "width": 0.9250765538080441
         },
         "locationmode": "country names",
         "lon": [
          5.291266,
          8.468946
         ],
         "mode": "lines",
         "type": "scattergeo"
        },
        {
         "geo": "geo3",
         "lat": [
          60.472024,
          56.26392
         ],
         "line": {
          "color": "green",
          "width": 3.7709354830701374
         },
         "locationmode": "country names",
         "lon": [
          8.468946,
          9.501785
         ],
         "mode": "lines",
         "type": "scattergeo"
        },
        {
         "geo": "geo3",
         "lat": [
          60.472024,
          60.128161
         ],
         "line": {
          "color": "green",
          "width": 0.8751789866291
         },
         "locationmode": "country names",
         "lon": [
          8.468946,
          18.643501
         ],
         "mode": "lines",
         "type": "scattergeo"
        },
        {
         "geo": "geo3",
         "lat": [
          51.919438,
          49.817492
         ],
         "line": {
          "color": "green",
          "width": 1.7722380378900087
         },
         "locationmode": "country names",
         "lon": [
          19.145135999999997,
          15.472961999999999
         ],
         "mode": "lines",
         "type": "scattergeo"
        },
        {
         "geo": "geo3",
         "lat": [
          51.919438,
          51.165690999999995
         ],
         "line": {
          "color": "green",
          "width": 0.5
         },
         "locationmode": "country names",
         "lon": [
          19.145135999999997,
          10.451526
         ],
         "mode": "lines",
         "type": "scattergeo"
        },
        {
         "geo": "geo3",
         "lat": [
          51.919438,
          60.128161
         ],
         "line": {
          "color": "green",
          "width": 1.6275533110131206
         },
         "locationmode": "country names",
         "lon": [
          19.145135999999997,
          18.643501
         ],
         "mode": "lines",
         "type": "scattergeo"
        },
        {
         "geo": "geo3",
         "lat": [
          60.128161,
          56.26392
         ],
         "line": {
          "color": "green",
          "width": 0.5950111072809067
         },
         "locationmode": "country names",
         "lon": [
          18.643501,
          9.501785
         ],
         "mode": "lines",
         "type": "scattergeo"
        },
        {
         "geo": "geo3",
         "hoverinfo": "text",
         "lat": [
          47.516231,
          47.516231,
          47.516231
         ],
         "locationmode": "country names",
         "lon": [
          14.300072,
          14.800072,
          14.050072
         ],
         "marker": {
          "color": [
           "blue",
           "yellow",
           "black"
          ],
          "line": {
           "color": [
            "orange",
            "black"
           ],
           "width": 10
          },
          "size": [
           0,
           0.04125
          ],
          "symbol": "line-ns"
         },
         "mode": "markers",
         "text": "AT",
         "type": "scattergeo"
        },
        {
         "geo": "geo3",
         "hoverinfo": "text",
         "lat": [
          46.818188,
          46.818188,
          46.818188
         ],
         "locationmode": "country names",
         "lon": [
          7.977511999999999,
          8.477511999999999,
          7.727511999999999
         ],
         "marker": {
          "color": [
           "blue",
           "yellow",
           "black"
          ],
          "line": {
           "color": [
            "orange",
            "black"
           ],
           "width": 10
          },
          "size": [
           8.190893911268752,
           0
          ],
          "symbol": "line-ns"
         },
         "mode": "markers",
         "text": "CH",
         "type": "scattergeo"
        },
        {
         "geo": "geo3",
         "hoverinfo": "text",
         "lat": [
          49.817492,
          49.817492,
          49.817492
         ],
         "locationmode": "country names",
         "lon": [
          15.222961999999999,
          15.722961999999999,
          14.972961999999999
         ],
         "marker": {
          "color": [
           "blue",
           "yellow",
           "black"
          ],
          "line": {
           "color": [
            "orange",
            "black"
           ],
           "width": 10
          },
          "size": [
           20.79752670471536,
           2.475974362740104
          ],
          "symbol": "line-ns"
         },
         "mode": "markers",
         "text": "CZ",
         "type": "scattergeo"
        },
        {
         "geo": "geo3",
         "hoverinfo": "text",
         "lat": [
          51.165690999999995,
          51.165690999999995,
          51.165690999999995
         ],
         "locationmode": "country names",
         "lon": [
          10.201526,
          10.701526,
          9.951526
         ],
         "marker": {
          "color": [
           "blue",
           "yellow",
           "black"
          ],
          "line": {
           "color": [
            "orange",
            "black"
           ],
           "width": 10
          },
          "size": [
           6.418331829450008,
           1.3890722678064469
          ],
          "symbol": "line-ns"
         },
         "mode": "markers",
         "text": "DE",
         "type": "scattergeo"
        },
        {
         "geo": "geo3",
         "hoverinfo": "text",
         "lat": [
          56.26392,
          56.26392,
          56.26392
         ],
         "locationmode": "country names",
         "lon": [
          9.251785,
          9.751785,
          9.001785
         ],
         "marker": {
          "color": [
           "blue",
           "yellow",
           "black"
          ],
          "line": {
           "color": [
            "orange",
            "black"
           ],
           "width": 10
          },
          "size": [
           10.118505040188477,
           0
          ],
          "symbol": "line-ns"
         },
         "mode": "markers",
         "text": "DK",
         "type": "scattergeo"
        },
        {
         "geo": "geo3",
         "hoverinfo": "text",
         "lat": [
          52.132633,
          52.132633,
          52.132633
         ],
         "locationmode": "country names",
         "lon": [
          5.041266,
          5.541266,
          4.791266
         ],
         "marker": {
          "color": [
           "blue",
           "yellow",
           "black"
          ],
          "line": {
           "color": [
            "orange",
            "black"
           ],
           "width": 10
          },
          "size": [
           6.963238367085889,
           3.9990871425633343
          ],
          "symbol": "line-ns"
         },
         "mode": "markers",
         "text": "NL",
         "type": "scattergeo"
        },
        {
         "geo": "geo3",
         "hoverinfo": "text",
         "lat": [
          60.472024,
          60.472024,
          60.472024
         ],
         "locationmode": "country names",
         "lon": [
          8.218946,
          8.718946,
          7.968946000000001
         ],
         "marker": {
          "color": [
           "blue",
           "yellow",
           "black"
          ],
          "line": {
           "color": [
            "orange",
            "black"
           ],
           "width": 10
          },
          "size": [
           41.96782455078274,
           16.54939167763583
          ],
          "symbol": "line-ns"
         },
         "mode": "markers",
         "text": "NO",
         "type": "scattergeo"
        },
        {
         "geo": "geo3",
         "hoverinfo": "text",
         "lat": [
          51.919438,
          51.919438,
          51.919438
         ],
         "locationmode": "country names",
         "lon": [
          18.895135999999997,
          19.395135999999997,
          18.645135999999997
         ],
         "marker": {
          "color": [
           "blue",
           "yellow",
           "black"
          ],
          "line": {
           "color": [
            "orange",
            "black"
           ],
           "width": 10
          },
          "size": [
           0,
           5.156262657173024
          ],
          "symbol": "line-ns"
         },
         "mode": "markers",
         "text": "PL",
         "type": "scattergeo"
        },
        {
         "geo": "geo3",
         "hoverinfo": "text",
         "lat": [
          60.128161,
          60.128161,
          60.128161
         ],
         "locationmode": "country names",
         "lon": [
          18.393501,
          18.893501,
          18.143501
         ],
         "marker": {
          "color": [
           "blue",
           "yellow",
           "black"
          ],
          "line": {
           "color": [
            "orange",
            "black"
           ],
           "width": 10
          },
          "size": [
           18.22257736522174,
           0
          ],
          "symbol": "line-ns"
         },
         "mode": "markers",
         "text": "SE",
         "type": "scattergeo"
        },
        {
         "marker": {
          "line": {
           "color": [
            "black",
            "black",
            "black",
            "orange",
            "orange",
            "orange"
           ],
           "width": 7
          },
          "size": [
           25,
           12.5,
           5,
           25,
           12.5,
           5
          ],
          "symbol": "line-ns"
         },
         "mode": "markers",
         "type": "scatter",
         "x": [
          0.1,
          0.13,
          0.16,
          0.3,
          0.33,
          0.36
         ],
         "xaxis": "x",
         "y": [
          6,
          6,
          6,
          6,
          6,
          6
         ],
         "yaxis": "y"
        },
        {
         "marker": {
          "line": {
           "color": [
            "green",
            "green",
            "green"
           ],
           "width": [
            2.2491328473068477,
            1.1996531389227392,
            0.5
           ]
          },
          "size": 15,
          "symbol": "line-ew"
         },
         "mode": "markers",
         "type": "scatter",
         "x": [
          0.5,
          0.53,
          0.56
         ],
         "xaxis": "x",
         "y": [
          6,
          6,
          6
         ],
         "yaxis": "y"
        },
        {
         "mode": "text",
         "text": [
          "OCGT [GW]",
          "VRES [GW]",
          "Transmission [GW]",
          "100",
          "50",
          "20",
          "100",
          "50",
          "20",
          "25",
          "10",
          "0"
         ],
         "textposition": "middle center",
         "type": "scatter",
         "x": [
          0.13,
          0.33,
          0.52,
          0.1,
          0.13,
          0.16,
          0.3,
          0.33,
          0.36,
          0.5,
          0.53,
          0.56
         ],
         "xaxis": "x",
         "y": [
          9,
          9,
          9,
          3,
          3,
          3,
          3,
          3,
          3,
          3,
          3,
          3
         ],
         "yaxis": "y"
        }
       ],
       "layout": {
        "annotations": [
         {
          "font": {
           "size": 16
          },
          "showarrow": false,
          "text": "(a)",
          "x": 0.225,
          "xanchor": "center",
          "xref": "paper",
          "y": 0.5476190476190477,
          "yanchor": "bottom",
          "yref": "paper"
         },
         {
          "font": {
           "size": 16
          },
          "showarrow": false,
          "text": "(b)",
          "x": 0.775,
          "xanchor": "center",
          "xref": "paper",
          "y": 0.5476190476190477,
          "yanchor": "bottom",
          "yref": "paper"
         },
         {
          "font": {
           "size": 16
          },
          "showarrow": false,
          "text": "(c)",
          "x": 0.225,
          "xanchor": "center",
          "xref": "paper",
          "y": 0.09523809523809525,
          "yanchor": "bottom",
          "yref": "paper"
         },
         {
          "font": {
           "size": 16
          },
          "showarrow": false,
          "text": "(d)",
          "x": 0.775,
          "xanchor": "center",
          "xref": "paper",
          "y": 0.09523809523809525,
          "yanchor": "bottom",
          "yref": "paper"
         }
        ],
        "autosize": false,
        "geo": {
         "countrycolor": "rgb(204, 204, 204)",
         "domain": {
          "x": [
           0,
           0.48
          ],
          "y": [
           0.55,
           1
          ]
         },
         "landcolor": "rgb(243, 243, 243)",
         "lataxis": {
          "range": [
           45,
           62
          ],
          "showgrid": false
         },
         "lonaxis": {
          "range": [
           0,
           24
          ],
          "showgrid": false
         },
         "projection": {
          "type": "azimuthal equal area"
         },
         "scope": "europe",
         "showland": true,
         "showocean": false
        },
        "geo2": {
         "countrycolor": "rgb(204, 204, 204)",
         "domain": {
          "x": [
           0.52,
           0.99
          ],
          "y": [
           0.55,
           1
          ]
         },
         "landcolor": "rgb(243, 243, 243)",
         "lataxis": {
          "range": [
           45,
           62
          ],
          "showgrid": false
         },
         "lonaxis": {
          "range": [
           0,
           24
          ],
          "showgrid": false
         },
         "projection": {
          "type": "azimuthal equal area"
         },
         "scope": "europe",
         "showland": true,
         "showocean": false
        },
        "geo3": {
         "countrycolor": "rgb(204, 204, 204)",
         "domain": {
          "x": [
           0,
           0.48
          ],
          "y": [
           0.1,
           0.55
          ]
         },
         "landcolor": "rgb(243, 243, 243)",
         "lataxis": {
          "range": [
           45,
           62
          ],
          "showgrid": false
         },
         "lonaxis": {
          "range": [
           0,
           24
          ],
          "showgrid": false
         },
         "projection": {
          "type": "azimuthal equal area"
         },
         "scope": "europe",
         "showland": true,
         "showocean": false
        },
        "geo4": {
         "countrycolor": "rgb(204, 204, 204)",
         "domain": {
          "x": [
           0.52,
           0.99
          ],
          "y": [
           0.1,
           0.55
          ]
         },
         "landcolor": "rgb(243, 243, 243)",
         "lataxis": {
          "range": [
           45,
           62
          ],
          "showgrid": false
         },
         "lonaxis": {
          "range": [
           0,
           24
          ],
          "showgrid": false
         },
         "projection": {
          "type": "azimuthal equal area"
         },
         "scope": "europe",
         "showland": true,
         "showocean": false
        },
        "height": 1000,
        "margin": {
         "b": 5,
         "l": 5,
         "pad": 0,
         "r": 5,
         "t": 5
        },
        "paper_bgcolor": "rgba(0,0,0,0)",
        "plot_bgcolor": "rgba(0,0,0,0)",
        "showlegend": false,
        "template": {
         "data": {
          "bar": [
           {
            "error_x": {
             "color": "#2a3f5f"
            },
            "error_y": {
             "color": "#2a3f5f"
            },
            "marker": {
             "line": {
              "color": "#E5ECF6",
              "width": 0.5
             }
            },
            "type": "bar"
           }
          ],
          "barpolar": [
           {
            "marker": {
             "line": {
              "color": "#E5ECF6",
              "width": 0.5
             }
            },
            "type": "barpolar"
           }
          ],
          "carpet": [
           {
            "aaxis": {
             "endlinecolor": "#2a3f5f",
             "gridcolor": "white",
             "linecolor": "white",
             "minorgridcolor": "white",
             "startlinecolor": "#2a3f5f"
            },
            "baxis": {
             "endlinecolor": "#2a3f5f",
             "gridcolor": "white",
             "linecolor": "white",
             "minorgridcolor": "white",
             "startlinecolor": "#2a3f5f"
            },
            "type": "carpet"
           }
          ],
          "choropleth": [
           {
            "colorbar": {
             "outlinewidth": 0,
             "ticks": ""
            },
            "type": "choropleth"
           }
          ],
          "contour": [
           {
            "colorbar": {
             "outlinewidth": 0,
             "ticks": ""
            },
            "colorscale": [
             [
              0,
              "#0d0887"
             ],
             [
              0.1111111111111111,
              "#46039f"
             ],
             [
              0.2222222222222222,
              "#7201a8"
             ],
             [
              0.3333333333333333,
              "#9c179e"
             ],
             [
              0.4444444444444444,
              "#bd3786"
             ],
             [
              0.5555555555555556,
              "#d8576b"
             ],
             [
              0.6666666666666666,
              "#ed7953"
             ],
             [
              0.7777777777777778,
              "#fb9f3a"
             ],
             [
              0.8888888888888888,
              "#fdca26"
             ],
             [
              1,
              "#f0f921"
             ]
            ],
            "type": "contour"
           }
          ],
          "contourcarpet": [
           {
            "colorbar": {
             "outlinewidth": 0,
             "ticks": ""
            },
            "type": "contourcarpet"
           }
          ],
          "heatmap": [
           {
            "colorbar": {
             "outlinewidth": 0,
             "ticks": ""
            },
            "colorscale": [
             [
              0,
              "#0d0887"
             ],
             [
              0.1111111111111111,
              "#46039f"
             ],
             [
              0.2222222222222222,
              "#7201a8"
             ],
             [
              0.3333333333333333,
              "#9c179e"
             ],
             [
              0.4444444444444444,
              "#bd3786"
             ],
             [
              0.5555555555555556,
              "#d8576b"
             ],
             [
              0.6666666666666666,
              "#ed7953"
             ],
             [
              0.7777777777777778,
              "#fb9f3a"
             ],
             [
              0.8888888888888888,
              "#fdca26"
             ],
             [
              1,
              "#f0f921"
             ]
            ],
            "type": "heatmap"
           }
          ],
          "heatmapgl": [
           {
            "colorbar": {
             "outlinewidth": 0,
             "ticks": ""
            },
            "colorscale": [
             [
              0,
              "#0d0887"
             ],
             [
              0.1111111111111111,
              "#46039f"
             ],
             [
              0.2222222222222222,
              "#7201a8"
             ],
             [
              0.3333333333333333,
              "#9c179e"
             ],
             [
              0.4444444444444444,
              "#bd3786"
             ],
             [
              0.5555555555555556,
              "#d8576b"
             ],
             [
              0.6666666666666666,
              "#ed7953"
             ],
             [
              0.7777777777777778,
              "#fb9f3a"
             ],
             [
              0.8888888888888888,
              "#fdca26"
             ],
             [
              1,
              "#f0f921"
             ]
            ],
            "type": "heatmapgl"
           }
          ],
          "histogram": [
           {
            "marker": {
             "colorbar": {
              "outlinewidth": 0,
              "ticks": ""
             }
            },
            "type": "histogram"
           }
          ],
          "histogram2d": [
           {
            "colorbar": {
             "outlinewidth": 0,
             "ticks": ""
            },
            "colorscale": [
             [
              0,
              "#0d0887"
             ],
             [
              0.1111111111111111,
              "#46039f"
             ],
             [
              0.2222222222222222,
              "#7201a8"
             ],
             [
              0.3333333333333333,
              "#9c179e"
             ],
             [
              0.4444444444444444,
              "#bd3786"
             ],
             [
              0.5555555555555556,
              "#d8576b"
             ],
             [
              0.6666666666666666,
              "#ed7953"
             ],
             [
              0.7777777777777778,
              "#fb9f3a"
             ],
             [
              0.8888888888888888,
              "#fdca26"
             ],
             [
              1,
              "#f0f921"
             ]
            ],
            "type": "histogram2d"
           }
          ],
          "histogram2dcontour": [
           {
            "colorbar": {
             "outlinewidth": 0,
             "ticks": ""
            },
            "colorscale": [
             [
              0,
              "#0d0887"
             ],
             [
              0.1111111111111111,
              "#46039f"
             ],
             [
              0.2222222222222222,
              "#7201a8"
             ],
             [
              0.3333333333333333,
              "#9c179e"
             ],
             [
              0.4444444444444444,
              "#bd3786"
             ],
             [
              0.5555555555555556,
              "#d8576b"
             ],
             [
              0.6666666666666666,
              "#ed7953"
             ],
             [
              0.7777777777777778,
              "#fb9f3a"
             ],
             [
              0.8888888888888888,
              "#fdca26"
             ],
             [
              1,
              "#f0f921"
             ]
            ],
            "type": "histogram2dcontour"
           }
          ],
          "mesh3d": [
           {
            "colorbar": {
             "outlinewidth": 0,
             "ticks": ""
            },
            "type": "mesh3d"
           }
          ],
          "parcoords": [
           {
            "line": {
             "colorbar": {
              "outlinewidth": 0,
              "ticks": ""
             }
            },
            "type": "parcoords"
           }
          ],
          "scatter": [
           {
            "marker": {
             "colorbar": {
              "outlinewidth": 0,
              "ticks": ""
             }
            },
            "type": "scatter"
           }
          ],
          "scatter3d": [
           {
            "line": {
             "colorbar": {
              "outlinewidth": 0,
              "ticks": ""
             }
            },
            "marker": {
             "colorbar": {
              "outlinewidth": 0,
              "ticks": ""
             }
            },
            "type": "scatter3d"
           }
          ],
          "scattercarpet": [
           {
            "marker": {
             "colorbar": {
              "outlinewidth": 0,
              "ticks": ""
             }
            },
            "type": "scattercarpet"
           }
          ],
          "scattergeo": [
           {
            "marker": {
             "colorbar": {
              "outlinewidth": 0,
              "ticks": ""
             }
            },
            "type": "scattergeo"
           }
          ],
          "scattergl": [
           {
            "marker": {
             "colorbar": {
              "outlinewidth": 0,
              "ticks": ""
             }
            },
            "type": "scattergl"
           }
          ],
          "scattermapbox": [
           {
            "marker": {
             "colorbar": {
              "outlinewidth": 0,
              "ticks": ""
             }
            },
            "type": "scattermapbox"
           }
          ],
          "scatterpolar": [
           {
            "marker": {
             "colorbar": {
              "outlinewidth": 0,
              "ticks": ""
             }
            },
            "type": "scatterpolar"
           }
          ],
          "scatterpolargl": [
           {
            "marker": {
             "colorbar": {
              "outlinewidth": 0,
              "ticks": ""
             }
            },
            "type": "scatterpolargl"
           }
          ],
          "scatterternary": [
           {
            "marker": {
             "colorbar": {
              "outlinewidth": 0,
              "ticks": ""
             }
            },
            "type": "scatterternary"
           }
          ],
          "surface": [
           {
            "colorbar": {
             "outlinewidth": 0,
             "ticks": ""
            },
            "colorscale": [
             [
              0,
              "#0d0887"
             ],
             [
              0.1111111111111111,
              "#46039f"
             ],
             [
              0.2222222222222222,
              "#7201a8"
             ],
             [
              0.3333333333333333,
              "#9c179e"
             ],
             [
              0.4444444444444444,
              "#bd3786"
             ],
             [
              0.5555555555555556,
              "#d8576b"
             ],
             [
              0.6666666666666666,
              "#ed7953"
             ],
             [
              0.7777777777777778,
              "#fb9f3a"
             ],
             [
              0.8888888888888888,
              "#fdca26"
             ],
             [
              1,
              "#f0f921"
             ]
            ],
            "type": "surface"
           }
          ],
          "table": [
           {
            "cells": {
             "fill": {
              "color": "#EBF0F8"
             },
             "line": {
              "color": "white"
             }
            },
            "header": {
             "fill": {
              "color": "#C8D4E3"
             },
             "line": {
              "color": "white"
             }
            },
            "type": "table"
           }
          ]
         },
         "layout": {
          "annotationdefaults": {
           "arrowcolor": "#2a3f5f",
           "arrowhead": 0,
           "arrowwidth": 1
          },
          "colorscale": {
           "diverging": [
            [
             0,
             "#8e0152"
            ],
            [
             0.1,
             "#c51b7d"
            ],
            [
             0.2,
             "#de77ae"
            ],
            [
             0.3,
             "#f1b6da"
            ],
            [
             0.4,
             "#fde0ef"
            ],
            [
             0.5,
             "#f7f7f7"
            ],
            [
             0.6,
             "#e6f5d0"
            ],
            [
             0.7,
             "#b8e186"
            ],
            [
             0.8,
             "#7fbc41"
            ],
            [
             0.9,
             "#4d9221"
            ],
            [
             1,
             "#276419"
            ]
           ],
           "sequential": [
            [
             0,
             "#0d0887"
            ],
            [
             0.1111111111111111,
             "#46039f"
            ],
            [
             0.2222222222222222,
             "#7201a8"
            ],
            [
             0.3333333333333333,
             "#9c179e"
            ],
            [
             0.4444444444444444,
             "#bd3786"
            ],
            [
             0.5555555555555556,
             "#d8576b"
            ],
            [
             0.6666666666666666,
             "#ed7953"
            ],
            [
             0.7777777777777778,
             "#fb9f3a"
            ],
            [
             0.8888888888888888,
             "#fdca26"
            ],
            [
             1,
             "#f0f921"
            ]
           ],
           "sequentialminus": [
            [
             0,
             "#0d0887"
            ],
            [
             0.1111111111111111,
             "#46039f"
            ],
            [
             0.2222222222222222,
             "#7201a8"
            ],
            [
             0.3333333333333333,
             "#9c179e"
            ],
            [
             0.4444444444444444,
             "#bd3786"
            ],
            [
             0.5555555555555556,
             "#d8576b"
            ],
            [
             0.6666666666666666,
             "#ed7953"
            ],
            [
             0.7777777777777778,
             "#fb9f3a"
            ],
            [
             0.8888888888888888,
             "#fdca26"
            ],
            [
             1,
             "#f0f921"
            ]
           ]
          },
          "colorway": [
           "#636efa",
           "#EF553B",
           "#00cc96",
           "#ab63fa",
           "#FFA15A",
           "#19d3f3",
           "#FF6692",
           "#B6E880",
           "#FF97FF",
           "#FECB52"
          ],
          "font": {
           "color": "#2a3f5f"
          },
          "geo": {
           "bgcolor": "white",
           "lakecolor": "white",
           "landcolor": "#E5ECF6",
           "showlakes": true,
           "showland": true,
           "subunitcolor": "white"
          },
          "hoverlabel": {
           "align": "left"
          },
          "hovermode": "closest",
          "mapbox": {
           "style": "light"
          },
          "paper_bgcolor": "white",
          "plot_bgcolor": "#E5ECF6",
          "polar": {
           "angularaxis": {
            "gridcolor": "white",
            "linecolor": "white",
            "ticks": ""
           },
           "bgcolor": "#E5ECF6",
           "radialaxis": {
            "gridcolor": "white",
            "linecolor": "white",
            "ticks": ""
           }
          },
          "scene": {
           "xaxis": {
            "backgroundcolor": "#E5ECF6",
            "gridcolor": "white",
            "gridwidth": 2,
            "linecolor": "white",
            "showbackground": true,
            "ticks": "",
            "zerolinecolor": "white"
           },
           "yaxis": {
            "backgroundcolor": "#E5ECF6",
            "gridcolor": "white",
            "gridwidth": 2,
            "linecolor": "white",
            "showbackground": true,
            "ticks": "",
            "zerolinecolor": "white"
           },
           "zaxis": {
            "backgroundcolor": "#E5ECF6",
            "gridcolor": "white",
            "gridwidth": 2,
            "linecolor": "white",
            "showbackground": true,
            "ticks": "",
            "zerolinecolor": "white"
           }
          },
          "shapedefaults": {
           "line": {
            "color": "#2a3f5f"
           }
          },
          "ternary": {
           "aaxis": {
            "gridcolor": "white",
            "linecolor": "white",
            "ticks": ""
           },
           "baxis": {
            "gridcolor": "white",
            "linecolor": "white",
            "ticks": ""
           },
           "bgcolor": "#E5ECF6",
           "caxis": {
            "gridcolor": "white",
            "linecolor": "white",
            "ticks": ""
           }
          },
          "title": {
           "x": 0.05
          },
          "xaxis": {
           "automargin": true,
           "gridcolor": "white",
           "linecolor": "white",
           "ticks": "",
           "zerolinecolor": "white",
           "zerolinewidth": 2
          },
          "yaxis": {
           "automargin": true,
           "gridcolor": "white",
           "linecolor": "white",
           "ticks": "",
           "zerolinecolor": "white",
           "zerolinewidth": 2
          }
         }
        },
        "width": 1000,
        "xaxis": {
         "anchor": "y",
         "domain": [
          0,
          1
         ],
         "range": [
          0,
          0.7
         ],
         "showticklabels": false
        },
        "xaxis2": {
         "anchor": "y2",
         "domain": [
          0.55,
          1
         ]
        },
        "yaxis": {
         "anchor": "x",
         "domain": [
          0,
          0.08
         ],
         "range": [
          0,
          10
         ],
         "showticklabels": false
        },
        "yaxis2": {
         "anchor": "x2",
         "domain": [
          0,
          0.09523809523809525
         ]
        }
       }
      },
      "text/html": [
       "<div>\n",
       "        \n",
       "        \n",
       "            <div id=\"512b11b5-d595-4935-a901-ca73c4680e52\" class=\"plotly-graph-div\" style=\"height:1000px; width:1000px;\"></div>\n",
       "            <script type=\"text/javascript\">\n",
       "                require([\"plotly\"], function(Plotly) {\n",
       "                    window.PLOTLYENV=window.PLOTLYENV || {};\n",
       "                    \n",
       "                if (document.getElementById(\"512b11b5-d595-4935-a901-ca73c4680e52\")) {\n",
       "                    Plotly.newPlot(\n",
       "                        '512b11b5-d595-4935-a901-ca73c4680e52',\n",
       "                        [{\"geo\": \"geo\", \"lat\": [47.516231, 46.818188], \"line\": {\"color\": \"green\", \"width\": 2.04058083395489}, \"locationmode\": \"country names\", \"lon\": [14.550072, 8.227511999999999], \"mode\": \"lines\", \"type\": \"scattergeo\"}, {\"geo\": \"geo\", \"lat\": [47.516231, 49.817492], \"line\": {\"color\": \"green\", \"width\": 0.9860636150781024}, \"locationmode\": \"country names\", \"lon\": [14.550072, 15.472961999999999], \"mode\": \"lines\", \"type\": \"scattergeo\"}, {\"geo\": \"geo\", \"lat\": [47.516231, 51.165690999999995], \"line\": {\"color\": \"green\", \"width\": 1.2565576602816217}, \"locationmode\": \"country names\", \"lon\": [14.550072, 10.451526], \"mode\": \"lines\", \"type\": \"scattergeo\"}, {\"geo\": \"geo\", \"lat\": [46.818188, 51.165690999999995], \"line\": {\"color\": \"green\", \"width\": 1.6726115363556326}, \"locationmode\": \"country names\", \"lon\": [8.227511999999999, 10.451526], \"mode\": \"lines\", \"type\": \"scattergeo\"}, {\"geo\": \"geo\", \"lat\": [49.817492, 51.165690999999995], \"line\": {\"color\": \"green\", \"width\": 0.5}, \"locationmode\": \"country names\", \"lon\": [15.472961999999999, 10.451526], \"mode\": \"lines\", \"type\": \"scattergeo\"}, {\"geo\": \"geo\", \"lat\": [51.165690999999995, 56.26392], \"line\": {\"color\": \"green\", \"width\": 5.5}, \"locationmode\": \"country names\", \"lon\": [10.451526, 9.501785], \"mode\": \"lines\", \"type\": \"scattergeo\"}, {\"geo\": \"geo\", \"lat\": [51.165690999999995, 60.128161], \"line\": {\"color\": \"green\", \"width\": 1.9706851076651437}, \"locationmode\": \"country names\", \"lon\": [10.451526, 18.643501], \"mode\": \"lines\", \"type\": \"scattergeo\"}, {\"geo\": \"geo\", \"lat\": [52.132633, 51.165690999999995], \"line\": {\"color\": \"green\", \"width\": 1.3769541977526467}, \"locationmode\": \"country names\", \"lon\": [5.291266, 10.451526], \"mode\": \"lines\", \"type\": \"scattergeo\"}, {\"geo\": \"geo\", \"lat\": [52.132633, 60.472024], \"line\": {\"color\": \"green\", \"width\": 1.7389022437743}, \"locationmode\": \"country names\", \"lon\": [5.291266, 8.468946], \"mode\": \"lines\", \"type\": \"scattergeo\"}, {\"geo\": \"geo\", \"lat\": [60.472024, 56.26392], \"line\": {\"color\": \"green\", \"width\": 0.5}, \"locationmode\": \"country names\", \"lon\": [8.468946, 9.501785], \"mode\": \"lines\", \"type\": \"scattergeo\"}, {\"geo\": \"geo\", \"lat\": [60.472024, 60.128161], \"line\": {\"color\": \"green\", \"width\": 1.7385008938392945}, \"locationmode\": \"country names\", \"lon\": [8.468946, 18.643501], \"mode\": \"lines\", \"type\": \"scattergeo\"}, {\"geo\": \"geo\", \"lat\": [51.919438, 49.817492], \"line\": {\"color\": \"green\", \"width\": 1.4372386081034436}, \"locationmode\": \"country names\", \"lon\": [19.145135999999997, 15.472961999999999], \"mode\": \"lines\", \"type\": \"scattergeo\"}, {\"geo\": \"geo\", \"lat\": [51.919438, 51.165690999999995], \"line\": {\"color\": \"green\", \"width\": 1.0644636197666646}, \"locationmode\": \"country names\", \"lon\": [19.145135999999997, 10.451526], \"mode\": \"lines\", \"type\": \"scattergeo\"}, {\"geo\": \"geo\", \"lat\": [51.919438, 60.128161], \"line\": {\"color\": \"green\", \"width\": 4.491952044814678}, \"locationmode\": \"country names\", \"lon\": [19.145135999999997, 18.643501], \"mode\": \"lines\", \"type\": \"scattergeo\"}, {\"geo\": \"geo\", \"lat\": [60.128161, 56.26392], \"line\": {\"color\": \"green\", \"width\": 0.9146595748041573}, \"locationmode\": \"country names\", \"lon\": [18.643501, 9.501785], \"mode\": \"lines\", \"type\": \"scattergeo\"}, {\"geo\": \"geo\", \"hoverinfo\": \"text\", \"lat\": [47.516231, 47.516231, 47.516231], \"locationmode\": \"country names\", \"lon\": [14.300072, 14.800072, 14.050072], \"marker\": {\"color\": [\"blue\", \"yellow\", \"black\"], \"line\": {\"color\": [\"orange\", \"black\"], \"width\": 10}, \"size\": [0.0, 3.374321944642861], \"symbol\": \"line-ns\"}, \"mode\": \"markers\", \"text\": \"AT\", \"type\": \"scattergeo\"}, {\"geo\": \"geo\", \"hoverinfo\": \"text\", \"lat\": [46.818188, 46.818188, 46.818188], \"locationmode\": \"country names\", \"lon\": [7.977511999999999, 8.477511999999999, 7.727511999999999], \"marker\": {\"color\": [\"blue\", \"yellow\", \"black\"], \"line\": {\"color\": [\"orange\", \"black\"], \"width\": 10}, \"size\": [8.190893911268752, 0.0], \"symbol\": \"line-ns\"}, \"mode\": \"markers\", \"text\": \"CH\", \"type\": \"scattergeo\"}, {\"geo\": \"geo\", \"hoverinfo\": \"text\", \"lat\": [49.817492, 49.817492, 49.817492], \"locationmode\": \"country names\", \"lon\": [15.222961999999999, 15.722961999999999, 14.972961999999999], \"marker\": {\"color\": [\"blue\", \"yellow\", \"black\"], \"line\": {\"color\": [\"orange\", \"black\"], \"width\": 10}, \"size\": [4.575784874244023, 1.901139864454293], \"symbol\": \"line-ns\"}, \"mode\": \"markers\", \"text\": \"CZ\", \"type\": \"scattergeo\"}, {\"geo\": \"geo\", \"hoverinfo\": \"text\", \"lat\": [51.165690999999995, 51.165690999999995, 51.165690999999995], \"locationmode\": \"country names\", \"lon\": [10.201526, 10.701526, 9.951526], \"marker\": {\"color\": [\"blue\", \"yellow\", \"black\"], \"line\": {\"color\": [\"orange\", \"black\"], \"width\": 10}, \"size\": [33.78390724022895, 8.596287229561057], \"symbol\": \"line-ns\"}, \"mode\": \"markers\", \"text\": \"DE\", \"type\": \"scattergeo\"}, {\"geo\": \"geo\", \"hoverinfo\": \"text\", \"lat\": [56.26392, 56.26392, 56.26392], \"locationmode\": \"country names\", \"lon\": [9.251785, 9.751785, 9.001785], \"marker\": {\"color\": [\"blue\", \"yellow\", \"black\"], \"line\": {\"color\": [\"orange\", \"black\"], \"width\": 10}, \"size\": [10.118505040188477, 0.0], \"symbol\": \"line-ns\"}, \"mode\": \"markers\", \"text\": \"DK\", \"type\": \"scattergeo\"}, {\"geo\": \"geo\", \"hoverinfo\": \"text\", \"lat\": [52.132633, 52.132633, 52.132633], \"locationmode\": \"country names\", \"lon\": [5.041266, 5.541266, 4.791266], \"marker\": {\"color\": [\"blue\", \"yellow\", \"black\"], \"line\": {\"color\": [\"orange\", \"black\"], \"width\": 10}, \"size\": [6.963238367085889, 3.426596295674919], \"symbol\": \"line-ns\"}, \"mode\": \"markers\", \"text\": \"NL\", \"type\": \"scattergeo\"}, {\"geo\": \"geo\", \"hoverinfo\": \"text\", \"lat\": [60.472024, 60.472024, 60.472024], \"locationmode\": \"country names\", \"lon\": [8.218946, 8.718946, 7.968946000000001], \"marker\": {\"color\": [\"blue\", \"yellow\", \"black\"], \"line\": {\"color\": [\"orange\", \"black\"], \"width\": 10}, \"size\": [13.651490179432981, 7.660366767847758], \"symbol\": \"line-ns\"}, \"mode\": \"markers\", \"text\": \"NO\", \"type\": \"scattergeo\"}, {\"geo\": \"geo\", \"hoverinfo\": \"text\", \"lat\": [51.919438, 51.919438, 51.919438], \"locationmode\": \"country names\", \"lon\": [18.895135999999997, 19.395135999999997, 18.645135999999997], \"marker\": {\"color\": [\"blue\", \"yellow\", \"black\"], \"line\": {\"color\": [\"orange\", \"black\"], \"width\": 10}, \"size\": [0.0, 10.8475], \"symbol\": \"line-ns\"}, \"mode\": \"markers\", \"text\": \"PL\", \"type\": \"scattergeo\"}, {\"geo\": \"geo\", \"hoverinfo\": \"text\", \"lat\": [60.128161, 60.128161, 60.128161], \"locationmode\": \"country names\", \"lon\": [18.393501, 18.893501, 18.143501], \"marker\": {\"color\": [\"blue\", \"yellow\", \"black\"], \"line\": {\"color\": [\"orange\", \"black\"], \"width\": 10}, \"size\": [27.753269505780004, 0.0], \"symbol\": \"line-ns\"}, \"mode\": \"markers\", \"text\": \"SE\", \"type\": \"scattergeo\"}, {\"geo\": \"geo2\", \"lat\": [47.516231, 46.818188], \"line\": {\"color\": \"green\", \"width\": 0.845840393885941}, \"locationmode\": \"country names\", \"lon\": [14.550072, 8.227511999999999], \"mode\": \"lines\", \"type\": \"scattergeo\"}, {\"geo\": \"geo2\", \"lat\": [47.516231, 49.817492], \"line\": {\"color\": \"green\", \"width\": 0.9223886096876406}, \"locationmode\": \"country names\", \"lon\": [14.550072, 15.472961999999999], \"mode\": \"lines\", \"type\": \"scattergeo\"}, {\"geo\": \"geo2\", \"lat\": [47.516231, 51.165690999999995], \"line\": {\"color\": \"green\", \"width\": 0.7187217924232776}, \"locationmode\": \"country names\", \"lon\": [14.550072, 10.451526], \"mode\": \"lines\", \"type\": \"scattergeo\"}, {\"geo\": \"geo2\", \"lat\": [46.818188, 51.165690999999995], \"line\": {\"color\": \"green\", \"width\": 0.9861242395664717}, \"locationmode\": \"country names\", \"lon\": [8.227511999999999, 10.451526], \"mode\": \"lines\", \"type\": \"scattergeo\"}, {\"geo\": \"geo2\", \"lat\": [49.817492, 51.165690999999995], \"line\": {\"color\": \"green\", \"width\": 0.5}, \"locationmode\": \"country names\", \"lon\": [15.472961999999999, 10.451526], \"mode\": \"lines\", \"type\": \"scattergeo\"}, {\"geo\": \"geo2\", \"lat\": [51.165690999999995, 56.26392], \"line\": {\"color\": \"green\", \"width\": 3.4153071052548136}, \"locationmode\": \"country names\", \"lon\": [10.451526, 9.501785], \"mode\": \"lines\", \"type\": \"scattergeo\"}, {\"geo\": \"geo2\", \"lat\": [51.165690999999995, 60.128161], \"line\": {\"color\": \"green\", \"width\": 5.5}, \"locationmode\": \"country names\", \"lon\": [10.451526, 18.643501], \"mode\": \"lines\", \"type\": \"scattergeo\"}, {\"geo\": \"geo2\", \"lat\": [52.132633, 51.165690999999995], \"line\": {\"color\": \"green\", \"width\": 2.28297516903921}, \"locationmode\": \"country names\", \"lon\": [5.291266, 10.451526], \"mode\": \"lines\", \"type\": \"scattergeo\"}, {\"geo\": \"geo2\", \"lat\": [52.132633, 60.472024], \"line\": {\"color\": \"green\", \"width\": 0.5}, \"locationmode\": \"country names\", \"lon\": [5.291266, 8.468946], \"mode\": \"lines\", \"type\": \"scattergeo\"}, {\"geo\": \"geo2\", \"lat\": [60.472024, 56.26392], \"line\": {\"color\": \"green\", \"width\": 1.0179173524915113}, \"locationmode\": \"country names\", \"lon\": [8.468946, 9.501785], \"mode\": \"lines\", \"type\": \"scattergeo\"}, {\"geo\": \"geo2\", \"lat\": [60.472024, 60.128161], \"line\": {\"color\": \"green\", \"width\": 2.265874453146088}, \"locationmode\": \"country names\", \"lon\": [8.468946, 18.643501], \"mode\": \"lines\", \"type\": \"scattergeo\"}, {\"geo\": \"geo2\", \"lat\": [51.919438, 49.817492], \"line\": {\"color\": \"green\", \"width\": 1.7215768586757823}, \"locationmode\": \"country names\", \"lon\": [19.145135999999997, 15.472961999999999], \"mode\": \"lines\", \"type\": \"scattergeo\"}, {\"geo\": \"geo2\", \"lat\": [51.919438, 51.165690999999995], \"line\": {\"color\": \"green\", \"width\": 0.5}, \"locationmode\": \"country names\", \"lon\": [19.145135999999997, 10.451526], \"mode\": \"lines\", \"type\": \"scattergeo\"}, {\"geo\": \"geo2\", \"lat\": [51.919438, 60.128161], \"line\": {\"color\": \"green\", \"width\": 3.4252078106428288}, \"locationmode\": \"country names\", \"lon\": [19.145135999999997, 18.643501], \"mode\": \"lines\", \"type\": \"scattergeo\"}, {\"geo\": \"geo2\", \"lat\": [60.128161, 56.26392], \"line\": {\"color\": \"green\", \"width\": 0.5}, \"locationmode\": \"country names\", \"lon\": [18.643501, 9.501785], \"mode\": \"lines\", \"type\": \"scattergeo\"}, {\"geo\": \"geo2\", \"hoverinfo\": \"text\", \"lat\": [47.516231, 47.516231, 47.516231], \"locationmode\": \"country names\", \"lon\": [14.300072, 14.800072, 14.050072], \"marker\": {\"color\": [\"blue\", \"yellow\", \"black\"], \"line\": {\"color\": [\"orange\", \"black\"], \"width\": 10}, \"size\": [11.402542238282624, 0.0], \"symbol\": \"line-ns\"}, \"mode\": \"markers\", \"text\": \"AT\", \"type\": \"scattergeo\"}, {\"geo\": \"geo2\", \"hoverinfo\": \"text\", \"lat\": [46.818188, 46.818188, 46.818188], \"locationmode\": \"country names\", \"lon\": [7.977511999999999, 8.477511999999999, 7.727511999999999], \"marker\": {\"color\": [\"blue\", \"yellow\", \"black\"], \"line\": {\"color\": [\"orange\", \"black\"], \"width\": 10}, \"size\": [0.0, 3.69075], \"symbol\": \"line-ns\"}, \"mode\": \"markers\", \"text\": \"CH\", \"type\": \"scattergeo\"}, {\"geo\": \"geo2\", \"hoverinfo\": \"text\", \"lat\": [49.817492, 49.817492, 49.817492], \"locationmode\": \"country names\", \"lon\": [15.222961999999999, 15.722961999999999, 14.972961999999999], \"marker\": {\"color\": [\"blue\", \"yellow\", \"black\"], \"line\": {\"color\": [\"orange\", \"black\"], \"width\": 10}, \"size\": [8.084946891225352, 0.0], \"symbol\": \"line-ns\"}, \"mode\": \"markers\", \"text\": \"CZ\", \"type\": \"scattergeo\"}, {\"geo\": \"geo2\", \"hoverinfo\": \"text\", \"lat\": [51.165690999999995, 51.165690999999995, 51.165690999999995], \"locationmode\": \"country names\", \"lon\": [10.201526, 10.701526, 9.951526], \"marker\": {\"color\": [\"blue\", \"yellow\", \"black\"], \"line\": {\"color\": [\"orange\", \"black\"], \"width\": 10}, \"size\": [19.151198028778467, 0.0], \"symbol\": \"line-ns\"}, \"mode\": \"markers\", \"text\": \"DE\", \"type\": \"scattergeo\"}, {\"geo\": \"geo2\", \"hoverinfo\": \"text\", \"lat\": [56.26392, 56.26392, 56.26392], \"locationmode\": \"country names\", \"lon\": [9.251785, 9.751785, 9.001785], \"marker\": {\"color\": [\"blue\", \"yellow\", \"black\"], \"line\": {\"color\": [\"orange\", \"black\"], \"width\": 10}, \"size\": [10.118505040188477, 8.06426041987642], \"symbol\": \"line-ns\"}, \"mode\": \"markers\", \"text\": \"DK\", \"type\": \"scattergeo\"}, {\"geo\": \"geo2\", \"hoverinfo\": \"text\", \"lat\": [52.132633, 52.132633, 52.132633], \"locationmode\": \"country names\", \"lon\": [5.041266, 5.541266, 4.791266], \"marker\": {\"color\": [\"blue\", \"yellow\", \"black\"], \"line\": {\"color\": [\"orange\", \"black\"], \"width\": 10}, \"size\": [6.963238367085889, 0.0], \"symbol\": \"line-ns\"}, \"mode\": \"markers\", \"text\": \"NL\", \"type\": \"scattergeo\"}, {\"geo\": \"geo2\", \"hoverinfo\": \"text\", \"lat\": [60.472024, 60.472024, 60.472024], \"locationmode\": \"country names\", \"lon\": [8.218946, 8.718946, 7.968946000000001], \"marker\": {\"color\": [\"blue\", \"yellow\", \"black\"], \"line\": {\"color\": [\"orange\", \"black\"], \"width\": 10}, \"size\": [8.16771508691804, 0.0], \"symbol\": \"line-ns\"}, \"mode\": \"markers\", \"text\": \"NO\", \"type\": \"scattergeo\"}, {\"geo\": \"geo2\", \"hoverinfo\": \"text\", \"lat\": [51.919438, 51.919438, 51.919438], \"locationmode\": \"country names\", \"lon\": [18.895135999999997, 19.395135999999997, 18.645135999999997], \"marker\": {\"color\": [\"blue\", \"yellow\", \"black\"], \"line\": {\"color\": [\"orange\", \"black\"], \"width\": 10}, \"size\": [7.635652252668736, 0.0], \"symbol\": \"line-ns\"}, \"mode\": \"markers\", \"text\": \"PL\", \"type\": \"scattergeo\"}, {\"geo\": \"geo2\", \"hoverinfo\": \"text\", \"lat\": [60.128161, 60.128161, 60.128161], \"locationmode\": \"country names\", \"lon\": [18.393501, 18.893501, 18.143501], \"marker\": {\"color\": [\"blue\", \"yellow\", \"black\"], \"line\": {\"color\": [\"orange\", \"black\"], \"width\": 10}, \"size\": [44.68152010588535, 26.902529815087924], \"symbol\": \"line-ns\"}, \"mode\": \"markers\", \"text\": \"SE\", \"type\": \"scattergeo\"}, {\"geo\": \"geo3\", \"lat\": [47.516231, 46.818188], \"line\": {\"color\": \"green\", \"width\": 0.7161031317696731}, \"locationmode\": \"country names\", \"lon\": [14.550072, 8.227511999999999], \"mode\": \"lines\", \"type\": \"scattergeo\"}, {\"geo\": \"geo3\", \"lat\": [47.516231, 49.817492], \"line\": {\"color\": \"green\", \"width\": 1.439264616160216}, \"locationmode\": \"country names\", \"lon\": [14.550072, 15.472961999999999], \"mode\": \"lines\", \"type\": \"scattergeo\"}, {\"geo\": \"geo3\", \"lat\": [47.516231, 51.165690999999995], \"line\": {\"color\": \"green\", \"width\": 0.5}, \"locationmode\": \"country names\", \"lon\": [14.550072, 10.451526], \"mode\": \"lines\", \"type\": \"scattergeo\"}, {\"geo\": \"geo3\", \"lat\": [46.818188, 51.165690999999995], \"line\": {\"color\": \"green\", \"width\": 1.369474643643502}, \"locationmode\": \"country names\", \"lon\": [8.227511999999999, 10.451526], \"mode\": \"lines\", \"type\": \"scattergeo\"}, {\"geo\": \"geo3\", \"lat\": [49.817492, 51.165690999999995], \"line\": {\"color\": \"green\", \"width\": 1.3809934250740614}, \"locationmode\": \"country names\", \"lon\": [15.472961999999999, 10.451526], \"mode\": \"lines\", \"type\": \"scattergeo\"}, {\"geo\": \"geo3\", \"lat\": [51.165690999999995, 56.26392], \"line\": {\"color\": \"green\", \"width\": 5.5}, \"locationmode\": \"country names\", \"lon\": [10.451526, 9.501785], \"mode\": \"lines\", \"type\": \"scattergeo\"}, {\"geo\": \"geo3\", \"lat\": [51.165690999999995, 60.128161], \"line\": {\"color\": \"green\", \"width\": 0.5}, \"locationmode\": \"country names\", \"lon\": [10.451526, 18.643501], \"mode\": \"lines\", \"type\": \"scattergeo\"}, {\"geo\": \"geo3\", \"lat\": [52.132633, 51.165690999999995], \"line\": {\"color\": \"green\", \"width\": 0.9215006200115837}, \"locationmode\": \"country names\", \"lon\": [5.291266, 10.451526], \"mode\": \"lines\", \"type\": \"scattergeo\"}, {\"geo\": \"geo3\", \"lat\": [52.132633, 60.472024], \"line\": {\"color\": \"green\", \"width\": 0.9250765538080441}, \"locationmode\": \"country names\", \"lon\": [5.291266, 8.468946], \"mode\": \"lines\", \"type\": \"scattergeo\"}, {\"geo\": \"geo3\", \"lat\": [60.472024, 56.26392], \"line\": {\"color\": \"green\", \"width\": 3.7709354830701374}, \"locationmode\": \"country names\", \"lon\": [8.468946, 9.501785], \"mode\": \"lines\", \"type\": \"scattergeo\"}, {\"geo\": \"geo3\", \"lat\": [60.472024, 60.128161], \"line\": {\"color\": \"green\", \"width\": 0.8751789866291}, \"locationmode\": \"country names\", \"lon\": [8.468946, 18.643501], \"mode\": \"lines\", \"type\": \"scattergeo\"}, {\"geo\": \"geo3\", \"lat\": [51.919438, 49.817492], \"line\": {\"color\": \"green\", \"width\": 1.7722380378900087}, \"locationmode\": \"country names\", \"lon\": [19.145135999999997, 15.472961999999999], \"mode\": \"lines\", \"type\": \"scattergeo\"}, {\"geo\": \"geo3\", \"lat\": [51.919438, 51.165690999999995], \"line\": {\"color\": \"green\", \"width\": 0.5}, \"locationmode\": \"country names\", \"lon\": [19.145135999999997, 10.451526], \"mode\": \"lines\", \"type\": \"scattergeo\"}, {\"geo\": \"geo3\", \"lat\": [51.919438, 60.128161], \"line\": {\"color\": \"green\", \"width\": 1.6275533110131206}, \"locationmode\": \"country names\", \"lon\": [19.145135999999997, 18.643501], \"mode\": \"lines\", \"type\": \"scattergeo\"}, {\"geo\": \"geo3\", \"lat\": [60.128161, 56.26392], \"line\": {\"color\": \"green\", \"width\": 0.5950111072809067}, \"locationmode\": \"country names\", \"lon\": [18.643501, 9.501785], \"mode\": \"lines\", \"type\": \"scattergeo\"}, {\"geo\": \"geo3\", \"hoverinfo\": \"text\", \"lat\": [47.516231, 47.516231, 47.516231], \"locationmode\": \"country names\", \"lon\": [14.300072, 14.800072, 14.050072], \"marker\": {\"color\": [\"blue\", \"yellow\", \"black\"], \"line\": {\"color\": [\"orange\", \"black\"], \"width\": 10}, \"size\": [0.0, 0.04125], \"symbol\": \"line-ns\"}, \"mode\": \"markers\", \"text\": \"AT\", \"type\": \"scattergeo\"}, {\"geo\": \"geo3\", \"hoverinfo\": \"text\", \"lat\": [46.818188, 46.818188, 46.818188], \"locationmode\": \"country names\", \"lon\": [7.977511999999999, 8.477511999999999, 7.727511999999999], \"marker\": {\"color\": [\"blue\", \"yellow\", \"black\"], \"line\": {\"color\": [\"orange\", \"black\"], \"width\": 10}, \"size\": [8.190893911268752, 0.0], \"symbol\": \"line-ns\"}, \"mode\": \"markers\", \"text\": \"CH\", \"type\": \"scattergeo\"}, {\"geo\": \"geo3\", \"hoverinfo\": \"text\", \"lat\": [49.817492, 49.817492, 49.817492], \"locationmode\": \"country names\", \"lon\": [15.222961999999999, 15.722961999999999, 14.972961999999999], \"marker\": {\"color\": [\"blue\", \"yellow\", \"black\"], \"line\": {\"color\": [\"orange\", \"black\"], \"width\": 10}, \"size\": [20.79752670471536, 2.475974362740104], \"symbol\": \"line-ns\"}, \"mode\": \"markers\", \"text\": \"CZ\", \"type\": \"scattergeo\"}, {\"geo\": \"geo3\", \"hoverinfo\": \"text\", \"lat\": [51.165690999999995, 51.165690999999995, 51.165690999999995], \"locationmode\": \"country names\", \"lon\": [10.201526, 10.701526, 9.951526], \"marker\": {\"color\": [\"blue\", \"yellow\", \"black\"], \"line\": {\"color\": [\"orange\", \"black\"], \"width\": 10}, \"size\": [6.418331829450008, 1.3890722678064469], \"symbol\": \"line-ns\"}, \"mode\": \"markers\", \"text\": \"DE\", \"type\": \"scattergeo\"}, {\"geo\": \"geo3\", \"hoverinfo\": \"text\", \"lat\": [56.26392, 56.26392, 56.26392], \"locationmode\": \"country names\", \"lon\": [9.251785, 9.751785, 9.001785], \"marker\": {\"color\": [\"blue\", \"yellow\", \"black\"], \"line\": {\"color\": [\"orange\", \"black\"], \"width\": 10}, \"size\": [10.118505040188477, 0.0], \"symbol\": \"line-ns\"}, \"mode\": \"markers\", \"text\": \"DK\", \"type\": \"scattergeo\"}, {\"geo\": \"geo3\", \"hoverinfo\": \"text\", \"lat\": [52.132633, 52.132633, 52.132633], \"locationmode\": \"country names\", \"lon\": [5.041266, 5.541266, 4.791266], \"marker\": {\"color\": [\"blue\", \"yellow\", \"black\"], \"line\": {\"color\": [\"orange\", \"black\"], \"width\": 10}, \"size\": [6.963238367085889, 3.9990871425633343], \"symbol\": \"line-ns\"}, \"mode\": \"markers\", \"text\": \"NL\", \"type\": \"scattergeo\"}, {\"geo\": \"geo3\", \"hoverinfo\": \"text\", \"lat\": [60.472024, 60.472024, 60.472024], \"locationmode\": \"country names\", \"lon\": [8.218946, 8.718946, 7.968946000000001], \"marker\": {\"color\": [\"blue\", \"yellow\", \"black\"], \"line\": {\"color\": [\"orange\", \"black\"], \"width\": 10}, \"size\": [41.96782455078274, 16.54939167763583], \"symbol\": \"line-ns\"}, \"mode\": \"markers\", \"text\": \"NO\", \"type\": \"scattergeo\"}, {\"geo\": \"geo3\", \"hoverinfo\": \"text\", \"lat\": [51.919438, 51.919438, 51.919438], \"locationmode\": \"country names\", \"lon\": [18.895135999999997, 19.395135999999997, 18.645135999999997], \"marker\": {\"color\": [\"blue\", \"yellow\", \"black\"], \"line\": {\"color\": [\"orange\", \"black\"], \"width\": 10}, \"size\": [0.0, 5.156262657173024], \"symbol\": \"line-ns\"}, \"mode\": \"markers\", \"text\": \"PL\", \"type\": \"scattergeo\"}, {\"geo\": \"geo3\", \"hoverinfo\": \"text\", \"lat\": [60.128161, 60.128161, 60.128161], \"locationmode\": \"country names\", \"lon\": [18.393501, 18.893501, 18.143501], \"marker\": {\"color\": [\"blue\", \"yellow\", \"black\"], \"line\": {\"color\": [\"orange\", \"black\"], \"width\": 10}, \"size\": [18.22257736522174, 0.0], \"symbol\": \"line-ns\"}, \"mode\": \"markers\", \"text\": \"SE\", \"type\": \"scattergeo\"}, {\"marker\": {\"line\": {\"color\": [\"black\", \"black\", \"black\", \"orange\", \"orange\", \"orange\"], \"width\": 7}, \"size\": [25, 12.5, 5, 25, 12.5, 5], \"symbol\": \"line-ns\"}, \"mode\": \"markers\", \"type\": \"scatter\", \"x\": [0.1, 0.13, 0.16, 0.3, 0.33, 0.36], \"xaxis\": \"x\", \"y\": [6, 6, 6, 6, 6, 6], \"yaxis\": \"y\"}, {\"marker\": {\"line\": {\"color\": [\"green\", \"green\", \"green\"], \"width\": [2.2491328473068477, 1.1996531389227392, 0.5]}, \"size\": 15, \"symbol\": \"line-ew\"}, \"mode\": \"markers\", \"type\": \"scatter\", \"x\": [0.5, 0.53, 0.56], \"xaxis\": \"x\", \"y\": [6, 6, 6], \"yaxis\": \"y\"}, {\"mode\": \"text\", \"text\": [\"OCGT [GW]\", \"VRES [GW]\", \"Transmission [GW]\", \"100\", \"50\", \"20\", \"100\", \"50\", \"20\", \"25\", \"10\", \"0\"], \"textposition\": \"middle center\", \"type\": \"scatter\", \"x\": [0.13, 0.33, 0.52, 0.1, 0.13, 0.16, 0.3, 0.33, 0.36, 0.5, 0.53, 0.56], \"xaxis\": \"x\", \"y\": [9, 9, 9, 3, 3, 3, 3, 3, 3, 3, 3, 3], \"yaxis\": \"y\"}],\n",
       "                        {\"annotations\": [{\"font\": {\"size\": 16}, \"showarrow\": false, \"text\": \"(a)\", \"x\": 0.225, \"xanchor\": \"center\", \"xref\": \"paper\", \"y\": 0.5476190476190477, \"yanchor\": \"bottom\", \"yref\": \"paper\"}, {\"font\": {\"size\": 16}, \"showarrow\": false, \"text\": \"(b)\", \"x\": 0.775, \"xanchor\": \"center\", \"xref\": \"paper\", \"y\": 0.5476190476190477, \"yanchor\": \"bottom\", \"yref\": \"paper\"}, {\"font\": {\"size\": 16}, \"showarrow\": false, \"text\": \"(c)\", \"x\": 0.225, \"xanchor\": \"center\", \"xref\": \"paper\", \"y\": 0.09523809523809525, \"yanchor\": \"bottom\", \"yref\": \"paper\"}, {\"font\": {\"size\": 16}, \"showarrow\": false, \"text\": \"(d)\", \"x\": 0.775, \"xanchor\": \"center\", \"xref\": \"paper\", \"y\": 0.09523809523809525, \"yanchor\": \"bottom\", \"yref\": \"paper\"}], \"autosize\": false, \"geo\": {\"countrycolor\": \"rgb(204, 204, 204)\", \"domain\": {\"x\": [0, 0.48], \"y\": [0.55, 1]}, \"landcolor\": \"rgb(243, 243, 243)\", \"lataxis\": {\"range\": [45, 62], \"showgrid\": false}, \"lonaxis\": {\"range\": [0, 24], \"showgrid\": false}, \"projection\": {\"type\": \"azimuthal equal area\"}, \"scope\": \"europe\", \"showland\": true, \"showocean\": false}, \"geo2\": {\"countrycolor\": \"rgb(204, 204, 204)\", \"domain\": {\"x\": [0.52, 0.99], \"y\": [0.55, 1]}, \"landcolor\": \"rgb(243, 243, 243)\", \"lataxis\": {\"range\": [45, 62], \"showgrid\": false}, \"lonaxis\": {\"range\": [0, 24], \"showgrid\": false}, \"projection\": {\"type\": \"azimuthal equal area\"}, \"scope\": \"europe\", \"showland\": true, \"showocean\": false}, \"geo3\": {\"countrycolor\": \"rgb(204, 204, 204)\", \"domain\": {\"x\": [0, 0.48], \"y\": [0.1, 0.55]}, \"landcolor\": \"rgb(243, 243, 243)\", \"lataxis\": {\"range\": [45, 62], \"showgrid\": false}, \"lonaxis\": {\"range\": [0, 24], \"showgrid\": false}, \"projection\": {\"type\": \"azimuthal equal area\"}, \"scope\": \"europe\", \"showland\": true, \"showocean\": false}, \"geo4\": {\"countrycolor\": \"rgb(204, 204, 204)\", \"domain\": {\"x\": [0.52, 0.99], \"y\": [0.1, 0.55]}, \"landcolor\": \"rgb(243, 243, 243)\", \"lataxis\": {\"range\": [45, 62], \"showgrid\": false}, \"lonaxis\": {\"range\": [0, 24], \"showgrid\": false}, \"projection\": {\"type\": \"azimuthal equal area\"}, \"scope\": \"europe\", \"showland\": true, \"showocean\": false}, \"height\": 1000, \"margin\": {\"b\": 5, \"l\": 5, \"pad\": 0, \"r\": 5, \"t\": 5}, \"paper_bgcolor\": \"rgba(0,0,0,0)\", \"plot_bgcolor\": \"rgba(0,0,0,0)\", \"showlegend\": false, \"template\": {\"data\": {\"bar\": [{\"error_x\": {\"color\": \"#2a3f5f\"}, \"error_y\": {\"color\": \"#2a3f5f\"}, \"marker\": {\"line\": {\"color\": \"#E5ECF6\", \"width\": 0.5}}, \"type\": \"bar\"}], \"barpolar\": [{\"marker\": {\"line\": {\"color\": \"#E5ECF6\", \"width\": 0.5}}, \"type\": \"barpolar\"}], \"carpet\": [{\"aaxis\": {\"endlinecolor\": \"#2a3f5f\", \"gridcolor\": \"white\", \"linecolor\": \"white\", \"minorgridcolor\": \"white\", \"startlinecolor\": \"#2a3f5f\"}, \"baxis\": {\"endlinecolor\": \"#2a3f5f\", \"gridcolor\": \"white\", \"linecolor\": \"white\", \"minorgridcolor\": \"white\", \"startlinecolor\": \"#2a3f5f\"}, \"type\": \"carpet\"}], \"choropleth\": [{\"colorbar\": {\"outlinewidth\": 0, \"ticks\": \"\"}, \"type\": \"choropleth\"}], \"contour\": [{\"colorbar\": {\"outlinewidth\": 0, \"ticks\": \"\"}, \"colorscale\": [[0.0, \"#0d0887\"], [0.1111111111111111, \"#46039f\"], [0.2222222222222222, \"#7201a8\"], [0.3333333333333333, \"#9c179e\"], [0.4444444444444444, \"#bd3786\"], [0.5555555555555556, \"#d8576b\"], [0.6666666666666666, \"#ed7953\"], [0.7777777777777778, \"#fb9f3a\"], [0.8888888888888888, \"#fdca26\"], [1.0, \"#f0f921\"]], \"type\": \"contour\"}], \"contourcarpet\": [{\"colorbar\": {\"outlinewidth\": 0, \"ticks\": \"\"}, \"type\": \"contourcarpet\"}], \"heatmap\": [{\"colorbar\": {\"outlinewidth\": 0, \"ticks\": \"\"}, \"colorscale\": [[0.0, \"#0d0887\"], [0.1111111111111111, \"#46039f\"], [0.2222222222222222, \"#7201a8\"], [0.3333333333333333, \"#9c179e\"], [0.4444444444444444, \"#bd3786\"], [0.5555555555555556, \"#d8576b\"], [0.6666666666666666, \"#ed7953\"], [0.7777777777777778, \"#fb9f3a\"], [0.8888888888888888, \"#fdca26\"], [1.0, \"#f0f921\"]], \"type\": \"heatmap\"}], \"heatmapgl\": [{\"colorbar\": {\"outlinewidth\": 0, \"ticks\": \"\"}, \"colorscale\": [[0.0, \"#0d0887\"], [0.1111111111111111, \"#46039f\"], [0.2222222222222222, \"#7201a8\"], [0.3333333333333333, \"#9c179e\"], [0.4444444444444444, \"#bd3786\"], [0.5555555555555556, \"#d8576b\"], [0.6666666666666666, \"#ed7953\"], [0.7777777777777778, \"#fb9f3a\"], [0.8888888888888888, \"#fdca26\"], [1.0, \"#f0f921\"]], \"type\": \"heatmapgl\"}], \"histogram\": [{\"marker\": {\"colorbar\": {\"outlinewidth\": 0, \"ticks\": \"\"}}, \"type\": \"histogram\"}], \"histogram2d\": [{\"colorbar\": {\"outlinewidth\": 0, \"ticks\": \"\"}, \"colorscale\": [[0.0, \"#0d0887\"], [0.1111111111111111, \"#46039f\"], [0.2222222222222222, \"#7201a8\"], [0.3333333333333333, \"#9c179e\"], [0.4444444444444444, \"#bd3786\"], [0.5555555555555556, \"#d8576b\"], [0.6666666666666666, \"#ed7953\"], [0.7777777777777778, \"#fb9f3a\"], [0.8888888888888888, \"#fdca26\"], [1.0, \"#f0f921\"]], \"type\": \"histogram2d\"}], \"histogram2dcontour\": [{\"colorbar\": {\"outlinewidth\": 0, \"ticks\": \"\"}, \"colorscale\": [[0.0, \"#0d0887\"], [0.1111111111111111, \"#46039f\"], [0.2222222222222222, \"#7201a8\"], [0.3333333333333333, \"#9c179e\"], [0.4444444444444444, \"#bd3786\"], [0.5555555555555556, \"#d8576b\"], [0.6666666666666666, \"#ed7953\"], [0.7777777777777778, \"#fb9f3a\"], [0.8888888888888888, \"#fdca26\"], [1.0, \"#f0f921\"]], \"type\": \"histogram2dcontour\"}], \"mesh3d\": [{\"colorbar\": {\"outlinewidth\": 0, \"ticks\": \"\"}, \"type\": \"mesh3d\"}], \"parcoords\": [{\"line\": {\"colorbar\": {\"outlinewidth\": 0, \"ticks\": \"\"}}, \"type\": \"parcoords\"}], \"scatter\": [{\"marker\": {\"colorbar\": {\"outlinewidth\": 0, \"ticks\": \"\"}}, \"type\": \"scatter\"}], \"scatter3d\": [{\"line\": {\"colorbar\": {\"outlinewidth\": 0, \"ticks\": \"\"}}, \"marker\": {\"colorbar\": {\"outlinewidth\": 0, \"ticks\": \"\"}}, \"type\": \"scatter3d\"}], \"scattercarpet\": [{\"marker\": {\"colorbar\": {\"outlinewidth\": 0, \"ticks\": \"\"}}, \"type\": \"scattercarpet\"}], \"scattergeo\": [{\"marker\": {\"colorbar\": {\"outlinewidth\": 0, \"ticks\": \"\"}}, \"type\": \"scattergeo\"}], \"scattergl\": [{\"marker\": {\"colorbar\": {\"outlinewidth\": 0, \"ticks\": \"\"}}, \"type\": \"scattergl\"}], \"scattermapbox\": [{\"marker\": {\"colorbar\": {\"outlinewidth\": 0, \"ticks\": \"\"}}, \"type\": \"scattermapbox\"}], \"scatterpolar\": [{\"marker\": {\"colorbar\": {\"outlinewidth\": 0, \"ticks\": \"\"}}, \"type\": \"scatterpolar\"}], \"scatterpolargl\": [{\"marker\": {\"colorbar\": {\"outlinewidth\": 0, \"ticks\": \"\"}}, \"type\": \"scatterpolargl\"}], \"scatterternary\": [{\"marker\": {\"colorbar\": {\"outlinewidth\": 0, \"ticks\": \"\"}}, \"type\": \"scatterternary\"}], \"surface\": [{\"colorbar\": {\"outlinewidth\": 0, \"ticks\": \"\"}, \"colorscale\": [[0.0, \"#0d0887\"], [0.1111111111111111, \"#46039f\"], [0.2222222222222222, \"#7201a8\"], [0.3333333333333333, \"#9c179e\"], [0.4444444444444444, \"#bd3786\"], [0.5555555555555556, \"#d8576b\"], [0.6666666666666666, \"#ed7953\"], [0.7777777777777778, \"#fb9f3a\"], [0.8888888888888888, \"#fdca26\"], [1.0, \"#f0f921\"]], \"type\": \"surface\"}], \"table\": [{\"cells\": {\"fill\": {\"color\": \"#EBF0F8\"}, \"line\": {\"color\": \"white\"}}, \"header\": {\"fill\": {\"color\": \"#C8D4E3\"}, \"line\": {\"color\": \"white\"}}, \"type\": \"table\"}]}, \"layout\": {\"annotationdefaults\": {\"arrowcolor\": \"#2a3f5f\", \"arrowhead\": 0, \"arrowwidth\": 1}, \"colorscale\": {\"diverging\": [[0, \"#8e0152\"], [0.1, \"#c51b7d\"], [0.2, \"#de77ae\"], [0.3, \"#f1b6da\"], [0.4, \"#fde0ef\"], [0.5, \"#f7f7f7\"], [0.6, \"#e6f5d0\"], [0.7, \"#b8e186\"], [0.8, \"#7fbc41\"], [0.9, \"#4d9221\"], [1, \"#276419\"]], \"sequential\": [[0.0, \"#0d0887\"], [0.1111111111111111, \"#46039f\"], [0.2222222222222222, \"#7201a8\"], [0.3333333333333333, \"#9c179e\"], [0.4444444444444444, \"#bd3786\"], [0.5555555555555556, \"#d8576b\"], [0.6666666666666666, \"#ed7953\"], [0.7777777777777778, \"#fb9f3a\"], [0.8888888888888888, \"#fdca26\"], [1.0, \"#f0f921\"]], \"sequentialminus\": [[0.0, \"#0d0887\"], [0.1111111111111111, \"#46039f\"], [0.2222222222222222, \"#7201a8\"], [0.3333333333333333, \"#9c179e\"], [0.4444444444444444, \"#bd3786\"], [0.5555555555555556, \"#d8576b\"], [0.6666666666666666, \"#ed7953\"], [0.7777777777777778, \"#fb9f3a\"], [0.8888888888888888, \"#fdca26\"], [1.0, \"#f0f921\"]]}, \"colorway\": [\"#636efa\", \"#EF553B\", \"#00cc96\", \"#ab63fa\", \"#FFA15A\", \"#19d3f3\", \"#FF6692\", \"#B6E880\", \"#FF97FF\", \"#FECB52\"], \"font\": {\"color\": \"#2a3f5f\"}, \"geo\": {\"bgcolor\": \"white\", \"lakecolor\": \"white\", \"landcolor\": \"#E5ECF6\", \"showlakes\": true, \"showland\": true, \"subunitcolor\": \"white\"}, \"hoverlabel\": {\"align\": \"left\"}, \"hovermode\": \"closest\", \"mapbox\": {\"style\": \"light\"}, \"paper_bgcolor\": \"white\", \"plot_bgcolor\": \"#E5ECF6\", \"polar\": {\"angularaxis\": {\"gridcolor\": \"white\", \"linecolor\": \"white\", \"ticks\": \"\"}, \"bgcolor\": \"#E5ECF6\", \"radialaxis\": {\"gridcolor\": \"white\", \"linecolor\": \"white\", \"ticks\": \"\"}}, \"scene\": {\"xaxis\": {\"backgroundcolor\": \"#E5ECF6\", \"gridcolor\": \"white\", \"gridwidth\": 2, \"linecolor\": \"white\", \"showbackground\": true, \"ticks\": \"\", \"zerolinecolor\": \"white\"}, \"yaxis\": {\"backgroundcolor\": \"#E5ECF6\", \"gridcolor\": \"white\", \"gridwidth\": 2, \"linecolor\": \"white\", \"showbackground\": true, \"ticks\": \"\", \"zerolinecolor\": \"white\"}, \"zaxis\": {\"backgroundcolor\": \"#E5ECF6\", \"gridcolor\": \"white\", \"gridwidth\": 2, \"linecolor\": \"white\", \"showbackground\": true, \"ticks\": \"\", \"zerolinecolor\": \"white\"}}, \"shapedefaults\": {\"line\": {\"color\": \"#2a3f5f\"}}, \"ternary\": {\"aaxis\": {\"gridcolor\": \"white\", \"linecolor\": \"white\", \"ticks\": \"\"}, \"baxis\": {\"gridcolor\": \"white\", \"linecolor\": \"white\", \"ticks\": \"\"}, \"bgcolor\": \"#E5ECF6\", \"caxis\": {\"gridcolor\": \"white\", \"linecolor\": \"white\", \"ticks\": \"\"}}, \"title\": {\"x\": 0.05}, \"xaxis\": {\"automargin\": true, \"gridcolor\": \"white\", \"linecolor\": \"white\", \"ticks\": \"\", \"zerolinecolor\": \"white\", \"zerolinewidth\": 2}, \"yaxis\": {\"automargin\": true, \"gridcolor\": \"white\", \"linecolor\": \"white\", \"ticks\": \"\", \"zerolinecolor\": \"white\", \"zerolinewidth\": 2}}}, \"width\": 1000, \"xaxis\": {\"anchor\": \"y\", \"domain\": [0, 1], \"range\": [0, 0.7], \"showticklabels\": false}, \"xaxis2\": {\"anchor\": \"y2\", \"domain\": [0.55, 1.0]}, \"yaxis\": {\"anchor\": \"x\", \"domain\": [0, 0.08], \"range\": [0, 10], \"showticklabels\": false}, \"yaxis2\": {\"anchor\": \"x2\", \"domain\": [0.0, 0.09523809523809525]}},\n",
       "                        {\"responsive\": true}\n",
       "                    ).then(function(){\n",
       "                            \n",
       "var gd = document.getElementById('512b11b5-d595-4935-a901-ca73c4680e52');\n",
       "var x = new MutationObserver(function (mutations, observer) {{\n",
       "        var display = window.getComputedStyle(gd).display;\n",
       "        if (!display || display === 'none') {{\n",
       "            console.log([gd, 'removed!']);\n",
       "            Plotly.purge(gd);\n",
       "            observer.disconnect();\n",
       "        }}\n",
       "}});\n",
       "\n",
       "// Listen for the removal of the full notebook cells\n",
       "var notebookContainer = gd.closest('#notebook-container');\n",
       "if (notebookContainer) {{\n",
       "    x.observe(notebookContainer, {childList: true});\n",
       "}}\n",
       "\n",
       "// Listen for the clearing of the current output cell\n",
       "var outputEl = gd.closest('.output');\n",
       "if (outputEl) {{\n",
       "    x.observe(outputEl, {childList: true});\n",
       "}}\n",
       "\n",
       "                        })\n",
       "                };\n",
       "                });\n",
       "            </script>\n",
       "        </div>"
      ]
     },
     "metadata": {},
     "output_type": "display_data"
    }
   ],
   "source": [
    "fig = plot_network(solutions_hsj)\n",
    "fig.show()\n",
    "fig.write_image(\"C:/Users\\Tim\\OneDrive - Aarhus universitet\\Speciale\\Report\\Images\\HSJ.pdf\")"
   ]
  },
  {
   "cell_type": "markdown",
   "metadata": {},
   "source": [
    "### Max Min of all variables"
   ]
  },
  {
   "cell_type": "code",
   "execution_count": 89,
   "metadata": {},
   "outputs": [
    {
     "name": "stdout",
     "output_type": "stream",
     "text": [
      "[1. 0. 0. 0. 0. 0. 0. 0. 0. 0. 0. 0. 0. 0. 0. 0. 0. 0. 0. 0. 0. 0. 0. 0.\n",
      " 0. 0. 0.]\n",
      "generator_p_nom[AT onwind]\n",
      "[0. 1. 0. 0. 0. 0. 0. 0. 0. 0. 0. 0. 0. 0. 0. 0. 0. 0. 0. 0. 0. 0. 0. 0.\n",
      " 0. 0. 0.]\n",
      "generator_p_nom[AT solar]\n",
      "[0. 0. 1. 0. 0. 0. 0. 0. 0. 0. 0. 0. 0. 0. 0. 0. 0. 0. 0. 0. 0. 0. 0. 0.\n",
      " 0. 0. 0.]\n",
      "generator_p_nom[AT ocgt]\n",
      "[0. 0. 0. 1. 0. 0. 0. 0. 0. 0. 0. 0. 0. 0. 0. 0. 0. 0. 0. 0. 0. 0. 0. 0.\n",
      " 0. 0. 0.]\n",
      "generator_p_nom[CH onwind]\n",
      "[0. 0. 0. 0. 1. 0. 0. 0. 0. 0. 0. 0. 0. 0. 0. 0. 0. 0. 0. 0. 0. 0. 0. 0.\n",
      " 0. 0. 0.]\n",
      "generator_p_nom[CH solar]\n",
      "[0. 0. 0. 0. 0. 1. 0. 0. 0. 0. 0. 0. 0. 0. 0. 0. 0. 0. 0. 0. 0. 0. 0. 0.\n",
      " 0. 0. 0.]\n",
      "generator_p_nom[CH ocgt]\n",
      "[0. 0. 0. 0. 0. 0. 1. 0. 0. 0. 0. 0. 0. 0. 0. 0. 0. 0. 0. 0. 0. 0. 0. 0.\n",
      " 0. 0. 0.]\n",
      "generator_p_nom[CZ onwind]\n",
      "[0. 0. 0. 0. 0. 0. 0. 1. 0. 0. 0. 0. 0. 0. 0. 0. 0. 0. 0. 0. 0. 0. 0. 0.\n",
      " 0. 0. 0.]\n",
      "generator_p_nom[CZ solar]\n",
      "[0. 0. 0. 0. 0. 0. 0. 0. 1. 0. 0. 0. 0. 0. 0. 0. 0. 0. 0. 0. 0. 0. 0. 0.\n",
      " 0. 0. 0.]\n",
      "generator_p_nom[CZ ocgt]\n",
      "[0. 0. 0. 0. 0. 0. 0. 0. 0. 1. 0. 0. 0. 0. 0. 0. 0. 0. 0. 0. 0. 0. 0. 0.\n",
      " 0. 0. 0.]\n",
      "generator_p_nom[DE onwind]\n",
      "[0. 0. 0. 0. 0. 0. 0. 0. 0. 0. 1. 0. 0. 0. 0. 0. 0. 0. 0. 0. 0. 0. 0. 0.\n",
      " 0. 0. 0.]\n",
      "generator_p_nom[DE solar]\n",
      "[0. 0. 0. 0. 0. 0. 0. 0. 0. 0. 0. 1. 0. 0. 0. 0. 0. 0. 0. 0. 0. 0. 0. 0.\n",
      " 0. 0. 0.]\n",
      "generator_p_nom[DE ocgt]\n",
      "[0. 0. 0. 0. 0. 0. 0. 0. 0. 0. 0. 0. 1. 0. 0. 0. 0. 0. 0. 0. 0. 0. 0. 0.\n",
      " 0. 0. 0.]\n",
      "generator_p_nom[DK onwind]\n",
      "[0. 0. 0. 0. 0. 0. 0. 0. 0. 0. 0. 0. 0. 1. 0. 0. 0. 0. 0. 0. 0. 0. 0. 0.\n",
      " 0. 0. 0.]\n",
      "generator_p_nom[DK solar]\n",
      "[0. 0. 0. 0. 0. 0. 0. 0. 0. 0. 0. 0. 0. 0. 1. 0. 0. 0. 0. 0. 0. 0. 0. 0.\n",
      " 0. 0. 0.]\n",
      "generator_p_nom[DK ocgt]\n",
      "[0. 0. 0. 0. 0. 0. 0. 0. 0. 0. 0. 0. 0. 0. 0. 1. 0. 0. 0. 0. 0. 0. 0. 0.\n",
      " 0. 0. 0.]\n",
      "generator_p_nom[NL onwind]\n",
      "[0. 0. 0. 0. 0. 0. 0. 0. 0. 0. 0. 0. 0. 0. 0. 0. 1. 0. 0. 0. 0. 0. 0. 0.\n",
      " 0. 0. 0.]\n",
      "generator_p_nom[NL solar]\n",
      "[0. 0. 0. 0. 0. 0. 0. 0. 0. 0. 0. 0. 0. 0. 0. 0. 0. 1. 0. 0. 0. 0. 0. 0.\n",
      " 0. 0. 0.]\n",
      "generator_p_nom[NL ocgt]\n",
      "[0. 0. 0. 0. 0. 0. 0. 0. 0. 0. 0. 0. 0. 0. 0. 0. 0. 0. 1. 0. 0. 0. 0. 0.\n",
      " 0. 0. 0.]\n",
      "generator_p_nom[NO onwind]\n",
      "[0. 0. 0. 0. 0. 0. 0. 0. 0. 0. 0. 0. 0. 0. 0. 0. 0. 0. 0. 1. 0. 0. 0. 0.\n",
      " 0. 0. 0.]\n",
      "generator_p_nom[NO solar]\n",
      "[0. 0. 0. 0. 0. 0. 0. 0. 0. 0. 0. 0. 0. 0. 0. 0. 0. 0. 0. 0. 1. 0. 0. 0.\n",
      " 0. 0. 0.]\n",
      "generator_p_nom[NO ocgt]\n",
      "[0. 0. 0. 0. 0. 0. 0. 0. 0. 0. 0. 0. 0. 0. 0. 0. 0. 0. 0. 0. 0. 1. 0. 0.\n",
      " 0. 0. 0.]\n",
      "generator_p_nom[PL onwind]\n",
      "[0. 0. 0. 0. 0. 0. 0. 0. 0. 0. 0. 0. 0. 0. 0. 0. 0. 0. 0. 0. 0. 0. 1. 0.\n",
      " 0. 0. 0.]\n",
      "generator_p_nom[PL solar]\n",
      "[0. 0. 0. 0. 0. 0. 0. 0. 0. 0. 0. 0. 0. 0. 0. 0. 0. 0. 0. 0. 0. 0. 0. 1.\n",
      " 0. 0. 0.]\n",
      "generator_p_nom[PL ocgt]\n",
      "[0. 0. 0. 0. 0. 0. 0. 0. 0. 0. 0. 0. 0. 0. 0. 0. 0. 0. 0. 0. 0. 0. 0. 0.\n",
      " 1. 0. 0.]\n",
      "generator_p_nom[SE onwind]\n",
      "[0. 0. 0. 0. 0. 0. 0. 0. 0. 0. 0. 0. 0. 0. 0. 0. 0. 0. 0. 0. 0. 0. 0. 0.\n",
      " 0. 1. 0.]\n",
      "generator_p_nom[SE solar]\n",
      "[0. 0. 0. 0. 0. 0. 0. 0. 0. 0. 0. 0. 0. 0. 0. 0. 0. 0. 0. 0. 0. 0. 0. 0.\n",
      " 0. 0. 1.]\n",
      "generator_p_nom[SE ocgt]\n",
      "[-1. -0. -0. -0. -0. -0. -0. -0. -0. -0. -0. -0. -0. -0. -0. -0. -0. -0.\n",
      " -0. -0. -0. -0. -0. -0. -0. -0. -0.]\n",
      "- generator_p_nom[AT onwind]\n",
      "[-0. -1. -0. -0. -0. -0. -0. -0. -0. -0. -0. -0. -0. -0. -0. -0. -0. -0.\n",
      " -0. -0. -0. -0. -0. -0. -0. -0. -0.]\n",
      "- generator_p_nom[AT solar]\n",
      "[-0. -0. -1. -0. -0. -0. -0. -0. -0. -0. -0. -0. -0. -0. -0. -0. -0. -0.\n",
      " -0. -0. -0. -0. -0. -0. -0. -0. -0.]\n",
      "- generator_p_nom[AT ocgt]\n",
      "[-0. -0. -0. -1. -0. -0. -0. -0. -0. -0. -0. -0. -0. -0. -0. -0. -0. -0.\n",
      " -0. -0. -0. -0. -0. -0. -0. -0. -0.]\n",
      "- generator_p_nom[CH onwind]\n",
      "[-0. -0. -0. -0. -1. -0. -0. -0. -0. -0. -0. -0. -0. -0. -0. -0. -0. -0.\n",
      " -0. -0. -0. -0. -0. -0. -0. -0. -0.]\n",
      "- generator_p_nom[CH solar]\n",
      "[-0. -0. -0. -0. -0. -1. -0. -0. -0. -0. -0. -0. -0. -0. -0. -0. -0. -0.\n",
      " -0. -0. -0. -0. -0. -0. -0. -0. -0.]\n",
      "- generator_p_nom[CH ocgt]\n",
      "[-0. -0. -0. -0. -0. -0. -1. -0. -0. -0. -0. -0. -0. -0. -0. -0. -0. -0.\n",
      " -0. -0. -0. -0. -0. -0. -0. -0. -0.]\n",
      "- generator_p_nom[CZ onwind]\n",
      "[-0. -0. -0. -0. -0. -0. -0. -1. -0. -0. -0. -0. -0. -0. -0. -0. -0. -0.\n",
      " -0. -0. -0. -0. -0. -0. -0. -0. -0.]\n",
      "- generator_p_nom[CZ solar]\n",
      "[-0. -0. -0. -0. -0. -0. -0. -0. -1. -0. -0. -0. -0. -0. -0. -0. -0. -0.\n",
      " -0. -0. -0. -0. -0. -0. -0. -0. -0.]\n",
      "- generator_p_nom[CZ ocgt]\n",
      "[-0. -0. -0. -0. -0. -0. -0. -0. -0. -1. -0. -0. -0. -0. -0. -0. -0. -0.\n",
      " -0. -0. -0. -0. -0. -0. -0. -0. -0.]\n",
      "- generator_p_nom[DE onwind]\n",
      "[-0. -0. -0. -0. -0. -0. -0. -0. -0. -0. -1. -0. -0. -0. -0. -0. -0. -0.\n",
      " -0. -0. -0. -0. -0. -0. -0. -0. -0.]\n",
      "- generator_p_nom[DE solar]\n",
      "[-0. -0. -0. -0. -0. -0. -0. -0. -0. -0. -0. -1. -0. -0. -0. -0. -0. -0.\n",
      " -0. -0. -0. -0. -0. -0. -0. -0. -0.]\n",
      "- generator_p_nom[DE ocgt]\n",
      "[-0. -0. -0. -0. -0. -0. -0. -0. -0. -0. -0. -0. -1. -0. -0. -0. -0. -0.\n",
      " -0. -0. -0. -0. -0. -0. -0. -0. -0.]\n",
      "- generator_p_nom[DK onwind]\n",
      "[-0. -0. -0. -0. -0. -0. -0. -0. -0. -0. -0. -0. -0. -1. -0. -0. -0. -0.\n",
      " -0. -0. -0. -0. -0. -0. -0. -0. -0.]\n",
      "- generator_p_nom[DK solar]\n",
      "[-0. -0. -0. -0. -0. -0. -0. -0. -0. -0. -0. -0. -0. -0. -1. -0. -0. -0.\n",
      " -0. -0. -0. -0. -0. -0. -0. -0. -0.]\n",
      "- generator_p_nom[DK ocgt]\n",
      "[-0. -0. -0. -0. -0. -0. -0. -0. -0. -0. -0. -0. -0. -0. -0. -1. -0. -0.\n",
      " -0. -0. -0. -0. -0. -0. -0. -0. -0.]\n",
      "- generator_p_nom[NL onwind]\n",
      "[-0. -0. -0. -0. -0. -0. -0. -0. -0. -0. -0. -0. -0. -0. -0. -0. -1. -0.\n",
      " -0. -0. -0. -0. -0. -0. -0. -0. -0.]\n",
      "- generator_p_nom[NL solar]\n",
      "[-0. -0. -0. -0. -0. -0. -0. -0. -0. -0. -0. -0. -0. -0. -0. -0. -0. -1.\n",
      " -0. -0. -0. -0. -0. -0. -0. -0. -0.]\n",
      "- generator_p_nom[NL ocgt]\n",
      "[-0. -0. -0. -0. -0. -0. -0. -0. -0. -0. -0. -0. -0. -0. -0. -0. -0. -0.\n",
      " -1. -0. -0. -0. -0. -0. -0. -0. -0.]\n",
      "- generator_p_nom[NO onwind]\n",
      "[-0. -0. -0. -0. -0. -0. -0. -0. -0. -0. -0. -0. -0. -0. -0. -0. -0. -0.\n",
      " -0. -1. -0. -0. -0. -0. -0. -0. -0.]\n",
      "- generator_p_nom[NO solar]\n",
      "[-0. -0. -0. -0. -0. -0. -0. -0. -0. -0. -0. -0. -0. -0. -0. -0. -0. -0.\n",
      " -0. -0. -1. -0. -0. -0. -0. -0. -0.]\n",
      "- generator_p_nom[NO ocgt]\n",
      "[-0. -0. -0. -0. -0. -0. -0. -0. -0. -0. -0. -0. -0. -0. -0. -0. -0. -0.\n",
      " -0. -0. -0. -1. -0. -0. -0. -0. -0.]\n",
      "- generator_p_nom[PL onwind]\n",
      "[-0. -0. -0. -0. -0. -0. -0. -0. -0. -0. -0. -0. -0. -0. -0. -0. -0. -0.\n",
      " -0. -0. -0. -0. -1. -0. -0. -0. -0.]\n",
      "- generator_p_nom[PL solar]\n",
      "[-0. -0. -0. -0. -0. -0. -0. -0. -0. -0. -0. -0. -0. -0. -0. -0. -0. -0.\n",
      " -0. -0. -0. -0. -0. -1. -0. -0. -0.]\n",
      "- generator_p_nom[PL ocgt]\n",
      "[-0. -0. -0. -0. -0. -0. -0. -0. -0. -0. -0. -0. -0. -0. -0. -0. -0. -0.\n",
      " -0. -0. -0. -0. -0. -0. -1. -0. -0.]\n",
      "- generator_p_nom[SE onwind]\n",
      "[-0. -0. -0. -0. -0. -0. -0. -0. -0. -0. -0. -0. -0. -0. -0. -0. -0. -0.\n",
      " -0. -0. -0. -0. -0. -0. -0. -1. -0.]\n",
      "- generator_p_nom[SE solar]\n",
      "[-0. -0. -0. -0. -0. -0. -0. -0. -0. -0. -0. -0. -0. -0. -0. -0. -0. -0.\n",
      " -0. -0. -0. -0. -0. -0. -0. -0. -1.]\n",
      "- generator_p_nom[SE ocgt]\n"
     ]
    }
   ],
   "source": [
    "#logging.disable()\n",
    "data_detail_sum = []\n",
    "options = dict(dim=24,old_objective_value=old_objective_value)\n",
    "dim=27\n",
    "old_volume = 0\n",
    "epsilon = 1\n",
    "solutions_maxmin = []\n",
    "while epsilon > 0.001:\n",
    "    data_detail = list(data_detail_sum)\n",
    "    if len(data_detail_sum)<=1 : # if only original solution exists, max/min directions are chosen\n",
    "        directions = np.concatenate([np.diag(np.ones(dim)),-np.diag(np.ones(dim))],axis=0)\n",
    "    else : # Otherwise search in directions normal to faces\n",
    "        directions = np.array(hull.equations)[:,0:-1]\n",
    "    # Itterate over directions in batch \n",
    "    for direction in directions:\n",
    "        print(direction)\n",
    "        direction = np.concatenate([direction,[0]])\n",
    "        network.lopf(network.snapshots,                                 \n",
    "                        solver_name='gurobi',                                 \n",
    "                        extra_functionality=lambda network,                                 \n",
    "                        snapshots: direction_search(network,snapshots,options,direction))\n",
    "        solutions_maxmin.append(network.copy())\n",
    "        var = []\n",
    "        for var_type in ['ocgt','wind']:#,'solar']:\n",
    "            filter1 = network.generators.type==var_type\n",
    "            var.append(sum(network.generators.p_nom_opt[filter1]))\n",
    "        data_detail_sum.append(var)\n",
    "    \n",
    "    break\n",
    "    hull = ConvexHull(data_detail_sum)#,qhull_options='QJ')\n",
    "    \n",
    "    delta_v = hull.volume - old_volume\n",
    "    old_volume = hull.volume\n",
    "    epsilon = delta_v/hull.volume\n",
    "    \n",
    "    print(epsilon)\n",
    "\n",
    "\n",
    "data_detail_sum = np.array(data_detail_sum)"
   ]
  },
  {
   "cell_type": "code",
   "execution_count": 91,
   "metadata": {},
   "outputs": [
    {
     "data": {
      "application/vnd.plotly.v1+json": {
       "config": {
        "plotlyServerURL": "https://plot.ly"
       },
       "data": [
        {
         "mode": "lines",
         "name": "Convex hull",
         "type": "scatter",
         "x": [
          160.40614127075503,
          267.70768561875684,
          267.94711115664103,
          292.8355457029541,
          295.505232178923,
          295.8889786101187,
          296.1565611218936,
          296.3620176154555,
          296.2690144942437,
          294.7158930899329,
          248.45704554445334,
          245.39203706560542,
          233.82982787350238,
          209.27396101581388,
          152.22221341878915,
          151.71636233440356,
          150.45558859055436,
          145.7854196523582,
          138.5557941262123,
          130.48122207417907,
          108.65363576802719,
          108.32346453842531,
          105.31712032268213,
          93.02904693550957,
          91.76573656644456,
          91.48254375115937,
          88.93426766066177,
          88.55216387925458,
          88.47604531158652,
          88.50436007163802,
          89.1526933054945,
          89.31962350734167,
          114.82142603306059,
          123.71104815977687,
          126.0263286278443,
          151.37115865651623,
          151.48883380867102,
          160.40614127075503
         ],
         "y": [
          383.0350365524486,
          383.03503655244856,
          383.1158142142855,
          398.49010449467346,
          404.2776068782045,
          405.3169454698108,
          406.1572763420759,
          411.218424649406,
          413.50832016857646,
          418.97519729933765,
          474.69569024482684,
          477.67214765724094,
          487.323723184218,
          505.60064357847625,
          545.685289824086,
          545.9838929820661,
          546.3864467877626,
          546.9949754794181,
          547.3207116831136,
          546.3570343492668,
          541.0254446395638,
          540.9187038884039,
          539.761422866845,
          519.8149779875024,
          516.4426186183783,
          515.430958954235,
          494.6473823111446,
          488.86042572121835,
          485.4574073362388,
          483.8662435345336,
          479.0663825099438,
          478.35768056510676,
          416.62956494526253,
          407.0651264294398,
          405.2792591518161,
          387.09777210889615,
          387.01797029623964,
          383.0350365524486
         ]
        },
        {
         "mode": "markers",
         "name": "MGA solutions",
         "type": "scatter",
         "x": [
          125.35977149940285,
          145.21735948978625,
          151.01608955812443,
          146.30728667593777,
          149.06283702133567,
          146.37968387689557,
          153.58276496598958,
          146.86816262078048,
          146.3125018996283,
          156.65090100125934,
          155.92333144155768,
          146.92052620281387,
          128.41973380124398,
          159.10614510331104,
          142.9990243787952,
          143.85585706117453,
          147.09941337916092,
          148.9031889112526,
          143.52066892732535,
          120.82445818820096,
          147.36381120367102,
          150.83164134230944,
          147.86140454911128,
          146.3713372636399,
          129.83216041493756,
          154.85716085407802,
          151.3067622616211,
          143.51836380590697,
          159.5402289361074,
          227.14871957082,
          138.07020433901286,
          145.6378843188464,
          216.24218918340907,
          133.71486192019472,
          149.88063415020807,
          211.82286503598468,
          140.64709545132905,
          151.0612171495263,
          281.17527506647315,
          144.58775613600892,
          133.06583738131417,
          246.1881861017091,
          157.3350614725013,
          147.78144618383692,
          215.31875558943247,
          148.76077172228338,
          157.75075893782466,
          253.04751632708718,
          148.21290253204123,
          150.96084238927682,
          270.63029587723537,
          170.520406124731,
          139.9639896796843,
          259.93558046094387
         ],
         "y": [
          503.7151950982136,
          543.2969693528986,
          477.8820455739739,
          476.6197503545208,
          477.0110772986647,
          477.0640192880712,
          528.2682784498373,
          521.755003268941,
          476.62176172897165,
          455.61326980406875,
          486.9489959431653,
          473.9237538459453,
          490.06044446229873,
          514.0182381640572,
          509.0189739843452,
          475.20241536300034,
          521.4715893922744,
          496.5164798885367,
          514.8000977597501,
          524.9037315768821,
          511.5747460913627,
          502.7628018778579,
          532.4704118811032,
          500.9612820729159,
          488.5768958981142,
          526.5492972654048,
          495.96945426499883,
          496.33327572722965,
          474.348866750479,
          415.30368109843255,
          492.674874010263,
          533.4818709522639,
          415.3036810984329,
          468.9499928698468,
          535.1204958578173,
          407.9446185591973,
          523.974757590311,
          538.2129309789824,
          404.84423002628023,
          529.1453844161279,
          524.9500258859738,
          391.01781848770787,
          512.2348594804893,
          544.4440840957809,
          419.36134421332355,
          473.0975530794318,
          495.40795179782646,
          409.33501361109427,
          482.5240838790316,
          518.6757205186311,
          397.9147245497544,
          426.28805835348874,
          515.1152166655262,
          393.3163171926727
         ]
        },
        {
         "mode": "markers",
         "name": "Initial_solution",
         "type": "scatter",
         "x": [
          143.22484840872355
         ],
         "y": [
          420.1483564729163
         ]
        }
       ],
       "layout": {
        "autosize": false,
        "height": 500,
        "legend": {
         "x": 0.6,
         "y": 1
        },
        "paper_bgcolor": "rgba(0,0,0,0)",
        "plot_bgcolor": "rgba(0,0,0,0)",
        "showlegend": true,
        "template": {
         "data": {
          "bar": [
           {
            "error_x": {
             "color": "#2a3f5f"
            },
            "error_y": {
             "color": "#2a3f5f"
            },
            "marker": {
             "line": {
              "color": "#E5ECF6",
              "width": 0.5
             }
            },
            "type": "bar"
           }
          ],
          "barpolar": [
           {
            "marker": {
             "line": {
              "color": "#E5ECF6",
              "width": 0.5
             }
            },
            "type": "barpolar"
           }
          ],
          "carpet": [
           {
            "aaxis": {
             "endlinecolor": "#2a3f5f",
             "gridcolor": "white",
             "linecolor": "white",
             "minorgridcolor": "white",
             "startlinecolor": "#2a3f5f"
            },
            "baxis": {
             "endlinecolor": "#2a3f5f",
             "gridcolor": "white",
             "linecolor": "white",
             "minorgridcolor": "white",
             "startlinecolor": "#2a3f5f"
            },
            "type": "carpet"
           }
          ],
          "choropleth": [
           {
            "colorbar": {
             "outlinewidth": 0,
             "ticks": ""
            },
            "type": "choropleth"
           }
          ],
          "contour": [
           {
            "colorbar": {
             "outlinewidth": 0,
             "ticks": ""
            },
            "colorscale": [
             [
              0,
              "#0d0887"
             ],
             [
              0.1111111111111111,
              "#46039f"
             ],
             [
              0.2222222222222222,
              "#7201a8"
             ],
             [
              0.3333333333333333,
              "#9c179e"
             ],
             [
              0.4444444444444444,
              "#bd3786"
             ],
             [
              0.5555555555555556,
              "#d8576b"
             ],
             [
              0.6666666666666666,
              "#ed7953"
             ],
             [
              0.7777777777777778,
              "#fb9f3a"
             ],
             [
              0.8888888888888888,
              "#fdca26"
             ],
             [
              1,
              "#f0f921"
             ]
            ],
            "type": "contour"
           }
          ],
          "contourcarpet": [
           {
            "colorbar": {
             "outlinewidth": 0,
             "ticks": ""
            },
            "type": "contourcarpet"
           }
          ],
          "heatmap": [
           {
            "colorbar": {
             "outlinewidth": 0,
             "ticks": ""
            },
            "colorscale": [
             [
              0,
              "#0d0887"
             ],
             [
              0.1111111111111111,
              "#46039f"
             ],
             [
              0.2222222222222222,
              "#7201a8"
             ],
             [
              0.3333333333333333,
              "#9c179e"
             ],
             [
              0.4444444444444444,
              "#bd3786"
             ],
             [
              0.5555555555555556,
              "#d8576b"
             ],
             [
              0.6666666666666666,
              "#ed7953"
             ],
             [
              0.7777777777777778,
              "#fb9f3a"
             ],
             [
              0.8888888888888888,
              "#fdca26"
             ],
             [
              1,
              "#f0f921"
             ]
            ],
            "type": "heatmap"
           }
          ],
          "heatmapgl": [
           {
            "colorbar": {
             "outlinewidth": 0,
             "ticks": ""
            },
            "colorscale": [
             [
              0,
              "#0d0887"
             ],
             [
              0.1111111111111111,
              "#46039f"
             ],
             [
              0.2222222222222222,
              "#7201a8"
             ],
             [
              0.3333333333333333,
              "#9c179e"
             ],
             [
              0.4444444444444444,
              "#bd3786"
             ],
             [
              0.5555555555555556,
              "#d8576b"
             ],
             [
              0.6666666666666666,
              "#ed7953"
             ],
             [
              0.7777777777777778,
              "#fb9f3a"
             ],
             [
              0.8888888888888888,
              "#fdca26"
             ],
             [
              1,
              "#f0f921"
             ]
            ],
            "type": "heatmapgl"
           }
          ],
          "histogram": [
           {
            "marker": {
             "colorbar": {
              "outlinewidth": 0,
              "ticks": ""
             }
            },
            "type": "histogram"
           }
          ],
          "histogram2d": [
           {
            "colorbar": {
             "outlinewidth": 0,
             "ticks": ""
            },
            "colorscale": [
             [
              0,
              "#0d0887"
             ],
             [
              0.1111111111111111,
              "#46039f"
             ],
             [
              0.2222222222222222,
              "#7201a8"
             ],
             [
              0.3333333333333333,
              "#9c179e"
             ],
             [
              0.4444444444444444,
              "#bd3786"
             ],
             [
              0.5555555555555556,
              "#d8576b"
             ],
             [
              0.6666666666666666,
              "#ed7953"
             ],
             [
              0.7777777777777778,
              "#fb9f3a"
             ],
             [
              0.8888888888888888,
              "#fdca26"
             ],
             [
              1,
              "#f0f921"
             ]
            ],
            "type": "histogram2d"
           }
          ],
          "histogram2dcontour": [
           {
            "colorbar": {
             "outlinewidth": 0,
             "ticks": ""
            },
            "colorscale": [
             [
              0,
              "#0d0887"
             ],
             [
              0.1111111111111111,
              "#46039f"
             ],
             [
              0.2222222222222222,
              "#7201a8"
             ],
             [
              0.3333333333333333,
              "#9c179e"
             ],
             [
              0.4444444444444444,
              "#bd3786"
             ],
             [
              0.5555555555555556,
              "#d8576b"
             ],
             [
              0.6666666666666666,
              "#ed7953"
             ],
             [
              0.7777777777777778,
              "#fb9f3a"
             ],
             [
              0.8888888888888888,
              "#fdca26"
             ],
             [
              1,
              "#f0f921"
             ]
            ],
            "type": "histogram2dcontour"
           }
          ],
          "mesh3d": [
           {
            "colorbar": {
             "outlinewidth": 0,
             "ticks": ""
            },
            "type": "mesh3d"
           }
          ],
          "parcoords": [
           {
            "line": {
             "colorbar": {
              "outlinewidth": 0,
              "ticks": ""
             }
            },
            "type": "parcoords"
           }
          ],
          "scatter": [
           {
            "marker": {
             "colorbar": {
              "outlinewidth": 0,
              "ticks": ""
             }
            },
            "type": "scatter"
           }
          ],
          "scatter3d": [
           {
            "line": {
             "colorbar": {
              "outlinewidth": 0,
              "ticks": ""
             }
            },
            "marker": {
             "colorbar": {
              "outlinewidth": 0,
              "ticks": ""
             }
            },
            "type": "scatter3d"
           }
          ],
          "scattercarpet": [
           {
            "marker": {
             "colorbar": {
              "outlinewidth": 0,
              "ticks": ""
             }
            },
            "type": "scattercarpet"
           }
          ],
          "scattergeo": [
           {
            "marker": {
             "colorbar": {
              "outlinewidth": 0,
              "ticks": ""
             }
            },
            "type": "scattergeo"
           }
          ],
          "scattergl": [
           {
            "marker": {
             "colorbar": {
              "outlinewidth": 0,
              "ticks": ""
             }
            },
            "type": "scattergl"
           }
          ],
          "scattermapbox": [
           {
            "marker": {
             "colorbar": {
              "outlinewidth": 0,
              "ticks": ""
             }
            },
            "type": "scattermapbox"
           }
          ],
          "scatterpolar": [
           {
            "marker": {
             "colorbar": {
              "outlinewidth": 0,
              "ticks": ""
             }
            },
            "type": "scatterpolar"
           }
          ],
          "scatterpolargl": [
           {
            "marker": {
             "colorbar": {
              "outlinewidth": 0,
              "ticks": ""
             }
            },
            "type": "scatterpolargl"
           }
          ],
          "scatterternary": [
           {
            "marker": {
             "colorbar": {
              "outlinewidth": 0,
              "ticks": ""
             }
            },
            "type": "scatterternary"
           }
          ],
          "surface": [
           {
            "colorbar": {
             "outlinewidth": 0,
             "ticks": ""
            },
            "colorscale": [
             [
              0,
              "#0d0887"
             ],
             [
              0.1111111111111111,
              "#46039f"
             ],
             [
              0.2222222222222222,
              "#7201a8"
             ],
             [
              0.3333333333333333,
              "#9c179e"
             ],
             [
              0.4444444444444444,
              "#bd3786"
             ],
             [
              0.5555555555555556,
              "#d8576b"
             ],
             [
              0.6666666666666666,
              "#ed7953"
             ],
             [
              0.7777777777777778,
              "#fb9f3a"
             ],
             [
              0.8888888888888888,
              "#fdca26"
             ],
             [
              1,
              "#f0f921"
             ]
            ],
            "type": "surface"
           }
          ],
          "table": [
           {
            "cells": {
             "fill": {
              "color": "#EBF0F8"
             },
             "line": {
              "color": "white"
             }
            },
            "header": {
             "fill": {
              "color": "#C8D4E3"
             },
             "line": {
              "color": "white"
             }
            },
            "type": "table"
           }
          ]
         },
         "layout": {
          "annotationdefaults": {
           "arrowcolor": "#2a3f5f",
           "arrowhead": 0,
           "arrowwidth": 1
          },
          "colorscale": {
           "diverging": [
            [
             0,
             "#8e0152"
            ],
            [
             0.1,
             "#c51b7d"
            ],
            [
             0.2,
             "#de77ae"
            ],
            [
             0.3,
             "#f1b6da"
            ],
            [
             0.4,
             "#fde0ef"
            ],
            [
             0.5,
             "#f7f7f7"
            ],
            [
             0.6,
             "#e6f5d0"
            ],
            [
             0.7,
             "#b8e186"
            ],
            [
             0.8,
             "#7fbc41"
            ],
            [
             0.9,
             "#4d9221"
            ],
            [
             1,
             "#276419"
            ]
           ],
           "sequential": [
            [
             0,
             "#0d0887"
            ],
            [
             0.1111111111111111,
             "#46039f"
            ],
            [
             0.2222222222222222,
             "#7201a8"
            ],
            [
             0.3333333333333333,
             "#9c179e"
            ],
            [
             0.4444444444444444,
             "#bd3786"
            ],
            [
             0.5555555555555556,
             "#d8576b"
            ],
            [
             0.6666666666666666,
             "#ed7953"
            ],
            [
             0.7777777777777778,
             "#fb9f3a"
            ],
            [
             0.8888888888888888,
             "#fdca26"
            ],
            [
             1,
             "#f0f921"
            ]
           ],
           "sequentialminus": [
            [
             0,
             "#0d0887"
            ],
            [
             0.1111111111111111,
             "#46039f"
            ],
            [
             0.2222222222222222,
             "#7201a8"
            ],
            [
             0.3333333333333333,
             "#9c179e"
            ],
            [
             0.4444444444444444,
             "#bd3786"
            ],
            [
             0.5555555555555556,
             "#d8576b"
            ],
            [
             0.6666666666666666,
             "#ed7953"
            ],
            [
             0.7777777777777778,
             "#fb9f3a"
            ],
            [
             0.8888888888888888,
             "#fdca26"
            ],
            [
             1,
             "#f0f921"
            ]
           ]
          },
          "colorway": [
           "#636efa",
           "#EF553B",
           "#00cc96",
           "#ab63fa",
           "#FFA15A",
           "#19d3f3",
           "#FF6692",
           "#B6E880",
           "#FF97FF",
           "#FECB52"
          ],
          "font": {
           "color": "#2a3f5f"
          },
          "geo": {
           "bgcolor": "white",
           "lakecolor": "white",
           "landcolor": "#E5ECF6",
           "showlakes": true,
           "showland": true,
           "subunitcolor": "white"
          },
          "hoverlabel": {
           "align": "left"
          },
          "hovermode": "closest",
          "mapbox": {
           "style": "light"
          },
          "paper_bgcolor": "white",
          "plot_bgcolor": "#E5ECF6",
          "polar": {
           "angularaxis": {
            "gridcolor": "white",
            "linecolor": "white",
            "ticks": ""
           },
           "bgcolor": "#E5ECF6",
           "radialaxis": {
            "gridcolor": "white",
            "linecolor": "white",
            "ticks": ""
           }
          },
          "scene": {
           "xaxis": {
            "backgroundcolor": "#E5ECF6",
            "gridcolor": "white",
            "gridwidth": 2,
            "linecolor": "white",
            "showbackground": true,
            "ticks": "",
            "zerolinecolor": "white"
           },
           "yaxis": {
            "backgroundcolor": "#E5ECF6",
            "gridcolor": "white",
            "gridwidth": 2,
            "linecolor": "white",
            "showbackground": true,
            "ticks": "",
            "zerolinecolor": "white"
           },
           "zaxis": {
            "backgroundcolor": "#E5ECF6",
            "gridcolor": "white",
            "gridwidth": 2,
            "linecolor": "white",
            "showbackground": true,
            "ticks": "",
            "zerolinecolor": "white"
           }
          },
          "shapedefaults": {
           "line": {
            "color": "#2a3f5f"
           }
          },
          "ternary": {
           "aaxis": {
            "gridcolor": "white",
            "linecolor": "white",
            "ticks": ""
           },
           "baxis": {
            "gridcolor": "white",
            "linecolor": "white",
            "ticks": ""
           },
           "bgcolor": "#E5ECF6",
           "caxis": {
            "gridcolor": "white",
            "linecolor": "white",
            "ticks": ""
           }
          },
          "title": {
           "x": 0.05
          },
          "xaxis": {
           "automargin": true,
           "gridcolor": "white",
           "linecolor": "white",
           "ticks": "",
           "zerolinecolor": "white",
           "zerolinewidth": 2
          },
          "yaxis": {
           "automargin": true,
           "gridcolor": "white",
           "linecolor": "white",
           "ticks": "",
           "zerolinecolor": "white",
           "zerolinewidth": 2
          }
         }
        },
        "width": 500,
        "xaxis": {
         "range": [
          80,
          300
         ],
         "title": {
          "text": "ocgt capacity installed [GW]"
         }
        },
        "yaxis": {
         "range": [
          350,
          550
         ],
         "title": {
          "text": "vres capacity installed [GW]"
         }
        }
       }
      },
      "text/html": [
       "<div>\n",
       "        \n",
       "        \n",
       "            <div id=\"be47f746-62c8-4d22-a6a3-1607ec56bb0b\" class=\"plotly-graph-div\" style=\"height:500px; width:500px;\"></div>\n",
       "            <script type=\"text/javascript\">\n",
       "                require([\"plotly\"], function(Plotly) {\n",
       "                    window.PLOTLYENV=window.PLOTLYENV || {};\n",
       "                    \n",
       "                if (document.getElementById(\"be47f746-62c8-4d22-a6a3-1607ec56bb0b\")) {\n",
       "                    Plotly.newPlot(\n",
       "                        'be47f746-62c8-4d22-a6a3-1607ec56bb0b',\n",
       "                        [{\"mode\": \"lines\", \"name\": \"Convex hull\", \"type\": \"scatter\", \"x\": [160.40614127075503, 267.70768561875684, 267.94711115664103, 292.8355457029541, 295.505232178923, 295.8889786101187, 296.1565611218936, 296.3620176154555, 296.2690144942437, 294.7158930899329, 248.45704554445334, 245.39203706560542, 233.82982787350238, 209.27396101581388, 152.22221341878915, 151.71636233440356, 150.45558859055436, 145.7854196523582, 138.5557941262123, 130.48122207417907, 108.65363576802719, 108.32346453842531, 105.31712032268213, 93.02904693550957, 91.76573656644456, 91.48254375115937, 88.93426766066177, 88.55216387925458, 88.47604531158652, 88.50436007163802, 89.1526933054945, 89.31962350734167, 114.82142603306059, 123.71104815977687, 126.0263286278443, 151.37115865651623, 151.48883380867102, 160.40614127075503], \"y\": [383.0350365524486, 383.03503655244856, 383.1158142142855, 398.49010449467346, 404.2776068782045, 405.3169454698108, 406.1572763420759, 411.218424649406, 413.50832016857646, 418.97519729933765, 474.69569024482684, 477.67214765724094, 487.323723184218, 505.60064357847625, 545.685289824086, 545.9838929820661, 546.3864467877626, 546.9949754794181, 547.3207116831136, 546.3570343492668, 541.0254446395638, 540.9187038884039, 539.761422866845, 519.8149779875024, 516.4426186183783, 515.430958954235, 494.6473823111446, 488.86042572121835, 485.4574073362388, 483.8662435345336, 479.0663825099438, 478.35768056510676, 416.62956494526253, 407.0651264294398, 405.2792591518161, 387.09777210889615, 387.01797029623964, 383.0350365524486]}, {\"mode\": \"markers\", \"name\": \"MGA solutions\", \"type\": \"scatter\", \"x\": [125.35977149940285, 145.21735948978625, 151.01608955812443, 146.30728667593777, 149.06283702133567, 146.37968387689557, 153.58276496598958, 146.86816262078048, 146.3125018996283, 156.65090100125934, 155.92333144155768, 146.92052620281387, 128.41973380124398, 159.10614510331104, 142.9990243787952, 143.85585706117453, 147.09941337916092, 148.9031889112526, 143.52066892732535, 120.82445818820096, 147.36381120367102, 150.83164134230944, 147.86140454911128, 146.3713372636399, 129.83216041493756, 154.85716085407802, 151.3067622616211, 143.51836380590697, 159.5402289361074, 227.14871957082, 138.07020433901286, 145.6378843188464, 216.24218918340907, 133.71486192019472, 149.88063415020807, 211.82286503598468, 140.64709545132905, 151.0612171495263, 281.17527506647315, 144.58775613600892, 133.06583738131417, 246.1881861017091, 157.3350614725013, 147.78144618383692, 215.31875558943247, 148.76077172228338, 157.75075893782466, 253.04751632708718, 148.21290253204123, 150.96084238927682, 270.63029587723537, 170.520406124731, 139.9639896796843, 259.93558046094387], \"y\": [503.7151950982136, 543.2969693528986, 477.8820455739739, 476.6197503545208, 477.0110772986647, 477.0640192880712, 528.2682784498373, 521.755003268941, 476.62176172897165, 455.61326980406875, 486.9489959431653, 473.9237538459453, 490.06044446229873, 514.0182381640572, 509.0189739843452, 475.20241536300034, 521.4715893922744, 496.5164798885367, 514.8000977597501, 524.9037315768821, 511.5747460913627, 502.7628018778579, 532.4704118811032, 500.9612820729159, 488.5768958981142, 526.5492972654048, 495.96945426499883, 496.33327572722965, 474.348866750479, 415.30368109843255, 492.674874010263, 533.4818709522639, 415.3036810984329, 468.9499928698468, 535.1204958578173, 407.9446185591973, 523.974757590311, 538.2129309789824, 404.84423002628023, 529.1453844161279, 524.9500258859738, 391.01781848770787, 512.2348594804893, 544.4440840957809, 419.36134421332355, 473.0975530794318, 495.40795179782646, 409.33501361109427, 482.5240838790316, 518.6757205186311, 397.9147245497544, 426.28805835348874, 515.1152166655262, 393.3163171926727]}, {\"mode\": \"markers\", \"name\": \"Initial_solution\", \"type\": \"scatter\", \"x\": [143.22484840872355], \"y\": [420.1483564729163]}],\n",
       "                        {\"autosize\": false, \"height\": 500, \"legend\": {\"x\": 0.6, \"y\": 1}, \"paper_bgcolor\": \"rgba(0,0,0,0)\", \"plot_bgcolor\": \"rgba(0,0,0,0)\", \"showlegend\": true, \"template\": {\"data\": {\"bar\": [{\"error_x\": {\"color\": \"#2a3f5f\"}, \"error_y\": {\"color\": \"#2a3f5f\"}, \"marker\": {\"line\": {\"color\": \"#E5ECF6\", \"width\": 0.5}}, \"type\": \"bar\"}], \"barpolar\": [{\"marker\": {\"line\": {\"color\": \"#E5ECF6\", \"width\": 0.5}}, \"type\": \"barpolar\"}], \"carpet\": [{\"aaxis\": {\"endlinecolor\": \"#2a3f5f\", \"gridcolor\": \"white\", \"linecolor\": \"white\", \"minorgridcolor\": \"white\", \"startlinecolor\": \"#2a3f5f\"}, \"baxis\": {\"endlinecolor\": \"#2a3f5f\", \"gridcolor\": \"white\", \"linecolor\": \"white\", \"minorgridcolor\": \"white\", \"startlinecolor\": \"#2a3f5f\"}, \"type\": \"carpet\"}], \"choropleth\": [{\"colorbar\": {\"outlinewidth\": 0, \"ticks\": \"\"}, \"type\": \"choropleth\"}], \"contour\": [{\"colorbar\": {\"outlinewidth\": 0, \"ticks\": \"\"}, \"colorscale\": [[0.0, \"#0d0887\"], [0.1111111111111111, \"#46039f\"], [0.2222222222222222, \"#7201a8\"], [0.3333333333333333, \"#9c179e\"], [0.4444444444444444, \"#bd3786\"], [0.5555555555555556, \"#d8576b\"], [0.6666666666666666, \"#ed7953\"], [0.7777777777777778, \"#fb9f3a\"], [0.8888888888888888, \"#fdca26\"], [1.0, \"#f0f921\"]], \"type\": \"contour\"}], \"contourcarpet\": [{\"colorbar\": {\"outlinewidth\": 0, \"ticks\": \"\"}, \"type\": \"contourcarpet\"}], \"heatmap\": [{\"colorbar\": {\"outlinewidth\": 0, \"ticks\": \"\"}, \"colorscale\": [[0.0, \"#0d0887\"], [0.1111111111111111, \"#46039f\"], [0.2222222222222222, \"#7201a8\"], [0.3333333333333333, \"#9c179e\"], [0.4444444444444444, \"#bd3786\"], [0.5555555555555556, \"#d8576b\"], [0.6666666666666666, \"#ed7953\"], [0.7777777777777778, \"#fb9f3a\"], [0.8888888888888888, \"#fdca26\"], [1.0, \"#f0f921\"]], \"type\": \"heatmap\"}], \"heatmapgl\": [{\"colorbar\": {\"outlinewidth\": 0, \"ticks\": \"\"}, \"colorscale\": [[0.0, \"#0d0887\"], [0.1111111111111111, \"#46039f\"], [0.2222222222222222, \"#7201a8\"], [0.3333333333333333, \"#9c179e\"], [0.4444444444444444, \"#bd3786\"], [0.5555555555555556, \"#d8576b\"], [0.6666666666666666, \"#ed7953\"], [0.7777777777777778, \"#fb9f3a\"], [0.8888888888888888, \"#fdca26\"], [1.0, \"#f0f921\"]], \"type\": \"heatmapgl\"}], \"histogram\": [{\"marker\": {\"colorbar\": {\"outlinewidth\": 0, \"ticks\": \"\"}}, \"type\": \"histogram\"}], \"histogram2d\": [{\"colorbar\": {\"outlinewidth\": 0, \"ticks\": \"\"}, \"colorscale\": [[0.0, \"#0d0887\"], [0.1111111111111111, \"#46039f\"], [0.2222222222222222, \"#7201a8\"], [0.3333333333333333, \"#9c179e\"], [0.4444444444444444, \"#bd3786\"], [0.5555555555555556, \"#d8576b\"], [0.6666666666666666, \"#ed7953\"], [0.7777777777777778, \"#fb9f3a\"], [0.8888888888888888, \"#fdca26\"], [1.0, \"#f0f921\"]], \"type\": \"histogram2d\"}], \"histogram2dcontour\": [{\"colorbar\": {\"outlinewidth\": 0, \"ticks\": \"\"}, \"colorscale\": [[0.0, \"#0d0887\"], [0.1111111111111111, \"#46039f\"], [0.2222222222222222, \"#7201a8\"], [0.3333333333333333, \"#9c179e\"], [0.4444444444444444, \"#bd3786\"], [0.5555555555555556, \"#d8576b\"], [0.6666666666666666, \"#ed7953\"], [0.7777777777777778, \"#fb9f3a\"], [0.8888888888888888, \"#fdca26\"], [1.0, \"#f0f921\"]], \"type\": \"histogram2dcontour\"}], \"mesh3d\": [{\"colorbar\": {\"outlinewidth\": 0, \"ticks\": \"\"}, \"type\": \"mesh3d\"}], \"parcoords\": [{\"line\": {\"colorbar\": {\"outlinewidth\": 0, \"ticks\": \"\"}}, \"type\": \"parcoords\"}], \"scatter\": [{\"marker\": {\"colorbar\": {\"outlinewidth\": 0, \"ticks\": \"\"}}, \"type\": \"scatter\"}], \"scatter3d\": [{\"line\": {\"colorbar\": {\"outlinewidth\": 0, \"ticks\": \"\"}}, \"marker\": {\"colorbar\": {\"outlinewidth\": 0, \"ticks\": \"\"}}, \"type\": \"scatter3d\"}], \"scattercarpet\": [{\"marker\": {\"colorbar\": {\"outlinewidth\": 0, \"ticks\": \"\"}}, \"type\": \"scattercarpet\"}], \"scattergeo\": [{\"marker\": {\"colorbar\": {\"outlinewidth\": 0, \"ticks\": \"\"}}, \"type\": \"scattergeo\"}], \"scattergl\": [{\"marker\": {\"colorbar\": {\"outlinewidth\": 0, \"ticks\": \"\"}}, \"type\": \"scattergl\"}], \"scattermapbox\": [{\"marker\": {\"colorbar\": {\"outlinewidth\": 0, \"ticks\": \"\"}}, \"type\": \"scattermapbox\"}], \"scatterpolar\": [{\"marker\": {\"colorbar\": {\"outlinewidth\": 0, \"ticks\": \"\"}}, \"type\": \"scatterpolar\"}], \"scatterpolargl\": [{\"marker\": {\"colorbar\": {\"outlinewidth\": 0, \"ticks\": \"\"}}, \"type\": \"scatterpolargl\"}], \"scatterternary\": [{\"marker\": {\"colorbar\": {\"outlinewidth\": 0, \"ticks\": \"\"}}, \"type\": \"scatterternary\"}], \"surface\": [{\"colorbar\": {\"outlinewidth\": 0, \"ticks\": \"\"}, \"colorscale\": [[0.0, \"#0d0887\"], [0.1111111111111111, \"#46039f\"], [0.2222222222222222, \"#7201a8\"], [0.3333333333333333, \"#9c179e\"], [0.4444444444444444, \"#bd3786\"], [0.5555555555555556, \"#d8576b\"], [0.6666666666666666, \"#ed7953\"], [0.7777777777777778, \"#fb9f3a\"], [0.8888888888888888, \"#fdca26\"], [1.0, \"#f0f921\"]], \"type\": \"surface\"}], \"table\": [{\"cells\": {\"fill\": {\"color\": \"#EBF0F8\"}, \"line\": {\"color\": \"white\"}}, \"header\": {\"fill\": {\"color\": \"#C8D4E3\"}, \"line\": {\"color\": \"white\"}}, \"type\": \"table\"}]}, \"layout\": {\"annotationdefaults\": {\"arrowcolor\": \"#2a3f5f\", \"arrowhead\": 0, \"arrowwidth\": 1}, \"colorscale\": {\"diverging\": [[0, \"#8e0152\"], [0.1, \"#c51b7d\"], [0.2, \"#de77ae\"], [0.3, \"#f1b6da\"], [0.4, \"#fde0ef\"], [0.5, \"#f7f7f7\"], [0.6, \"#e6f5d0\"], [0.7, \"#b8e186\"], [0.8, \"#7fbc41\"], [0.9, \"#4d9221\"], [1, \"#276419\"]], \"sequential\": [[0.0, \"#0d0887\"], [0.1111111111111111, \"#46039f\"], [0.2222222222222222, \"#7201a8\"], [0.3333333333333333, \"#9c179e\"], [0.4444444444444444, \"#bd3786\"], [0.5555555555555556, \"#d8576b\"], [0.6666666666666666, \"#ed7953\"], [0.7777777777777778, \"#fb9f3a\"], [0.8888888888888888, \"#fdca26\"], [1.0, \"#f0f921\"]], \"sequentialminus\": [[0.0, \"#0d0887\"], [0.1111111111111111, \"#46039f\"], [0.2222222222222222, \"#7201a8\"], [0.3333333333333333, \"#9c179e\"], [0.4444444444444444, \"#bd3786\"], [0.5555555555555556, \"#d8576b\"], [0.6666666666666666, \"#ed7953\"], [0.7777777777777778, \"#fb9f3a\"], [0.8888888888888888, \"#fdca26\"], [1.0, \"#f0f921\"]]}, \"colorway\": [\"#636efa\", \"#EF553B\", \"#00cc96\", \"#ab63fa\", \"#FFA15A\", \"#19d3f3\", \"#FF6692\", \"#B6E880\", \"#FF97FF\", \"#FECB52\"], \"font\": {\"color\": \"#2a3f5f\"}, \"geo\": {\"bgcolor\": \"white\", \"lakecolor\": \"white\", \"landcolor\": \"#E5ECF6\", \"showlakes\": true, \"showland\": true, \"subunitcolor\": \"white\"}, \"hoverlabel\": {\"align\": \"left\"}, \"hovermode\": \"closest\", \"mapbox\": {\"style\": \"light\"}, \"paper_bgcolor\": \"white\", \"plot_bgcolor\": \"#E5ECF6\", \"polar\": {\"angularaxis\": {\"gridcolor\": \"white\", \"linecolor\": \"white\", \"ticks\": \"\"}, \"bgcolor\": \"#E5ECF6\", \"radialaxis\": {\"gridcolor\": \"white\", \"linecolor\": \"white\", \"ticks\": \"\"}}, \"scene\": {\"xaxis\": {\"backgroundcolor\": \"#E5ECF6\", \"gridcolor\": \"white\", \"gridwidth\": 2, \"linecolor\": \"white\", \"showbackground\": true, \"ticks\": \"\", \"zerolinecolor\": \"white\"}, \"yaxis\": {\"backgroundcolor\": \"#E5ECF6\", \"gridcolor\": \"white\", \"gridwidth\": 2, \"linecolor\": \"white\", \"showbackground\": true, \"ticks\": \"\", \"zerolinecolor\": \"white\"}, \"zaxis\": {\"backgroundcolor\": \"#E5ECF6\", \"gridcolor\": \"white\", \"gridwidth\": 2, \"linecolor\": \"white\", \"showbackground\": true, \"ticks\": \"\", \"zerolinecolor\": \"white\"}}, \"shapedefaults\": {\"line\": {\"color\": \"#2a3f5f\"}}, \"ternary\": {\"aaxis\": {\"gridcolor\": \"white\", \"linecolor\": \"white\", \"ticks\": \"\"}, \"baxis\": {\"gridcolor\": \"white\", \"linecolor\": \"white\", \"ticks\": \"\"}, \"bgcolor\": \"#E5ECF6\", \"caxis\": {\"gridcolor\": \"white\", \"linecolor\": \"white\", \"ticks\": \"\"}}, \"title\": {\"x\": 0.05}, \"xaxis\": {\"automargin\": true, \"gridcolor\": \"white\", \"linecolor\": \"white\", \"ticks\": \"\", \"zerolinecolor\": \"white\", \"zerolinewidth\": 2}, \"yaxis\": {\"automargin\": true, \"gridcolor\": \"white\", \"linecolor\": \"white\", \"ticks\": \"\", \"zerolinecolor\": \"white\", \"zerolinewidth\": 2}}}, \"width\": 500, \"xaxis\": {\"range\": [80, 300], \"title\": {\"text\": \"ocgt capacity installed [GW]\"}}, \"yaxis\": {\"range\": [350, 550], \"title\": {\"text\": \"vres capacity installed [GW]\"}}},\n",
       "                        {\"responsive\": true}\n",
       "                    ).then(function(){\n",
       "                            \n",
       "var gd = document.getElementById('be47f746-62c8-4d22-a6a3-1607ec56bb0b');\n",
       "var x = new MutationObserver(function (mutations, observer) {{\n",
       "        var display = window.getComputedStyle(gd).display;\n",
       "        if (!display || display === 'none') {{\n",
       "            console.log([gd, 'removed!']);\n",
       "            Plotly.purge(gd);\n",
       "            observer.disconnect();\n",
       "        }}\n",
       "}});\n",
       "\n",
       "// Listen for the removal of the full notebook cells\n",
       "var notebookContainer = gd.closest('#notebook-container');\n",
       "if (notebookContainer) {{\n",
       "    x.observe(notebookContainer, {childList: true});\n",
       "}}\n",
       "\n",
       "// Listen for the clearing of the current output cell\n",
       "var outputEl = gd.closest('.output');\n",
       "if (outputEl) {{\n",
       "    x.observe(outputEl, {childList: true});\n",
       "}}\n",
       "\n",
       "                        })\n",
       "                };\n",
       "                });\n",
       "            </script>\n",
       "        </div>"
      ]
     },
     "metadata": {},
     "output_type": "display_data"
    }
   ],
   "source": [
    "fig = go.Figure()\n",
    "\n",
    "\n",
    "\n",
    "fig.add_trace(go.Scatter(x=hull.points[np.append(hull.vertices,hull.vertices[0])][:,0]/1000,\n",
    "                          y=hull.points[np.append(hull.vertices,hull.vertices[0])][:,1]/1000,\n",
    "                          #z=data_detail_sum[:,2],\n",
    "                          mode='lines',name='Convex hull'))\n",
    "\n",
    "fig.add_trace(go.Scatter(x=data_detail_sum[:,0]/1000,\n",
    "                          y=data_detail_sum[:,1]/1000,\n",
    "                          #z=data_detail_sum[:,2],\n",
    "                          mode='markers',name='MGA solutions'))\n",
    "\n",
    "fig.add_trace(go.Scatter(x=[initial_solution[0]/1000],\n",
    "                          y=[initial_solution[1]/1000],\n",
    "                          #z=[np.mean(data_detail_sum,axis=0)[2]],\n",
    "                          mode='markers',name='Initial_solution'))\n",
    "\n",
    "fig.update_yaxes(title_text='vres capacity installed [GW]',range=[350,550])\n",
    "fig.update_xaxes(title_text='ocgt capacity installed [GW]',range=[80,300])\n",
    "fig.update_layout(\n",
    "    autosize=False,\n",
    "    showlegend=True,\n",
    "    width=500,\n",
    "    height=500,\n",
    "    paper_bgcolor='rgba(0,0,0,0)',\n",
    "    plot_bgcolor='rgba(0,0,0,0)',\n",
    "    legend=dict(x=0.6,y=1)\n",
    ")\n",
    "fig.write_image(\"C:/Users\\Tim\\OneDrive - Aarhus universitet\\Speciale\\Report\\Images\\comparison_3.pdf\")\n",
    "fig.show()"
   ]
  },
  {
   "cell_type": "markdown",
   "metadata": {},
   "source": [
    "### Max Min of grouped variables"
   ]
  },
  {
   "cell_type": "code",
   "execution_count": 92,
   "metadata": {},
   "outputs": [
    {
     "name": "stdout",
     "output_type": "stream",
     "text": [
      "[1. 0.]\n",
      "generator_p_nom[AT ocgt] + generator_p_nom[CH ocgt] + generator_p_nom[CZ ocgt] + generator_p_nom[DE ocgt] + generator_p_nom[DK ocgt] + generator_p_nom[NL ocgt] + generator_p_nom[NO ocgt] + generator_p_nom[PL ocgt] + generator_p_nom[SE ocgt]\n",
      "[0. 1.]\n",
      "generator_p_nom[AT onwind] + generator_p_nom[AT solar] + generator_p_nom[CH onwind] + generator_p_nom[CH solar] + generator_p_nom[CZ onwind] + generator_p_nom[CZ solar] + generator_p_nom[DE onwind] + generator_p_nom[DE solar] + generator_p_nom[DK onwind] + generator_p_nom[DK solar] + generator_p_nom[NL onwind] + generator_p_nom[NL solar] + generator_p_nom[NO onwind] + generator_p_nom[NO solar] + generator_p_nom[PL onwind] + generator_p_nom[PL solar] + generator_p_nom[SE onwind] + generator_p_nom[SE solar]\n",
      "[-1. -0.]\n",
      "- (generator_p_nom[AT ocgt] + generator_p_nom[CH ocgt] + generator_p_nom[CZ ocgt] + generator_p_nom[DE ocgt] + generator_p_nom[DK ocgt] + generator_p_nom[NL ocgt] + generator_p_nom[NO ocgt] + generator_p_nom[PL ocgt] + generator_p_nom[SE ocgt])\n",
      "[-0. -1.]\n",
      "- (generator_p_nom[AT onwind] + generator_p_nom[AT solar] + generator_p_nom[CH onwind] + generator_p_nom[CH solar] + generator_p_nom[CZ onwind] + generator_p_nom[CZ solar] + generator_p_nom[DE onwind] + generator_p_nom[DE solar] + generator_p_nom[DK onwind] + generator_p_nom[DK solar] + generator_p_nom[NL onwind] + generator_p_nom[NL solar] + generator_p_nom[NO onwind] + generator_p_nom[NO solar] + generator_p_nom[PL onwind] + generator_p_nom[PL solar] + generator_p_nom[SE onwind] + generator_p_nom[SE solar])\n"
     ]
    }
   ],
   "source": [
    "#logging.disable()\n",
    "data_detail_sum = []\n",
    "options = dict(dim=2,old_objective_value=old_objective_value)\n",
    "dim=2\n",
    "old_volume = 0\n",
    "epsilon = 1\n",
    "while epsilon > 0.001:\n",
    "    data_detail = list(data_detail_sum)\n",
    "    if len(data_detail_sum)<=1 : # if only original solution exists, max/min directions are chosen\n",
    "        directions = np.concatenate([np.diag(np.ones(dim)),-np.diag(np.ones(dim))],axis=0)\n",
    "    else : # Otherwise search in directions normal to faces\n",
    "        directions = np.array(hull.equations)[:,0:-1]\n",
    "    # Itterate over directions in batch \n",
    "    for direction in directions:\n",
    "        print(direction)\n",
    "        direction = np.concatenate([direction,[0]])\n",
    "        network.lopf(network.snapshots,                                 \n",
    "                        solver_name='gurobi',                                 \n",
    "                        extra_functionality=lambda network,                                 \n",
    "                        snapshots: direction_search(network,snapshots,options,direction))\n",
    "\n",
    "        var = []\n",
    "        for var_type in ['ocgt','wind']:#,'solar']:\n",
    "            filter1 = network.generators.type==var_type\n",
    "            var.append(sum(network.generators.p_nom_opt[filter1]))\n",
    "        data_detail_sum.append(var)\n",
    "    \n",
    "    break\n",
    "    hull = ConvexHull(data_detail_sum)#,qhull_options='QJ')\n",
    "    \n",
    "    delta_v = hull.volume - old_volume\n",
    "    old_volume = hull.volume\n",
    "    epsilon = delta_v/hull.volume\n",
    "    \n",
    "    print(epsilon)\n",
    "\n",
    "\n",
    "data_detail_sum = np.array(data_detail_sum)"
   ]
  },
  {
   "cell_type": "code",
   "execution_count": 93,
   "metadata": {},
   "outputs": [
    {
     "data": {
      "application/vnd.plotly.v1+json": {
       "config": {
        "plotlyServerURL": "https://plot.ly"
       },
       "data": [
        {
         "mode": "lines",
         "name": "Convex hull",
         "type": "scatter",
         "x": [
          160.40614127075503,
          267.70768561875684,
          267.94711115664103,
          292.8355457029541,
          295.505232178923,
          295.8889786101187,
          296.1565611218936,
          296.3620176154555,
          296.2690144942437,
          294.7158930899329,
          248.45704554445334,
          245.39203706560542,
          233.82982787350238,
          209.27396101581388,
          152.22221341878915,
          151.71636233440356,
          150.45558859055436,
          145.7854196523582,
          138.5557941262123,
          130.48122207417907,
          108.65363576802719,
          108.32346453842531,
          105.31712032268213,
          93.02904693550957,
          91.76573656644456,
          91.48254375115937,
          88.93426766066177,
          88.55216387925458,
          88.47604531158652,
          88.50436007163802,
          89.1526933054945,
          89.31962350734167,
          114.82142603306059,
          123.71104815977687,
          126.0263286278443,
          151.37115865651623,
          151.48883380867102,
          160.40614127075503
         ],
         "y": [
          383.0350365524486,
          383.03503655244856,
          383.1158142142855,
          398.49010449467346,
          404.2776068782045,
          405.3169454698108,
          406.1572763420759,
          411.218424649406,
          413.50832016857646,
          418.97519729933765,
          474.69569024482684,
          477.67214765724094,
          487.323723184218,
          505.60064357847625,
          545.685289824086,
          545.9838929820661,
          546.3864467877626,
          546.9949754794181,
          547.3207116831136,
          546.3570343492668,
          541.0254446395638,
          540.9187038884039,
          539.761422866845,
          519.8149779875024,
          516.4426186183783,
          515.430958954235,
          494.6473823111446,
          488.86042572121835,
          485.4574073362388,
          483.8662435345336,
          479.0663825099438,
          478.35768056510676,
          416.62956494526253,
          407.0651264294398,
          405.2792591518161,
          387.09777210889615,
          387.01797029623964,
          383.0350365524486
         ]
        },
        {
         "mode": "markers",
         "name": "MGA solutions",
         "type": "scatter",
         "x": [
          88.47604531158652,
          202.2514161263199,
          296.36201596027894,
          138.555794150164
         ],
         "y": [
          485.4574073362388,
          383.0350365524485,
          411.2184246494062,
          547.3207092051088
         ]
        },
        {
         "mode": "markers",
         "name": "Initial_solution",
         "type": "scatter",
         "x": [
          143.22484840872355
         ],
         "y": [
          420.1483564729163
         ]
        }
       ],
       "layout": {
        "autosize": false,
        "height": 500,
        "legend": {
         "x": 0.6,
         "y": 1
        },
        "paper_bgcolor": "rgba(0,0,0,0)",
        "plot_bgcolor": "rgba(0,0,0,0)",
        "showlegend": true,
        "template": {
         "data": {
          "bar": [
           {
            "error_x": {
             "color": "#2a3f5f"
            },
            "error_y": {
             "color": "#2a3f5f"
            },
            "marker": {
             "line": {
              "color": "#E5ECF6",
              "width": 0.5
             }
            },
            "type": "bar"
           }
          ],
          "barpolar": [
           {
            "marker": {
             "line": {
              "color": "#E5ECF6",
              "width": 0.5
             }
            },
            "type": "barpolar"
           }
          ],
          "carpet": [
           {
            "aaxis": {
             "endlinecolor": "#2a3f5f",
             "gridcolor": "white",
             "linecolor": "white",
             "minorgridcolor": "white",
             "startlinecolor": "#2a3f5f"
            },
            "baxis": {
             "endlinecolor": "#2a3f5f",
             "gridcolor": "white",
             "linecolor": "white",
             "minorgridcolor": "white",
             "startlinecolor": "#2a3f5f"
            },
            "type": "carpet"
           }
          ],
          "choropleth": [
           {
            "colorbar": {
             "outlinewidth": 0,
             "ticks": ""
            },
            "type": "choropleth"
           }
          ],
          "contour": [
           {
            "colorbar": {
             "outlinewidth": 0,
             "ticks": ""
            },
            "colorscale": [
             [
              0,
              "#0d0887"
             ],
             [
              0.1111111111111111,
              "#46039f"
             ],
             [
              0.2222222222222222,
              "#7201a8"
             ],
             [
              0.3333333333333333,
              "#9c179e"
             ],
             [
              0.4444444444444444,
              "#bd3786"
             ],
             [
              0.5555555555555556,
              "#d8576b"
             ],
             [
              0.6666666666666666,
              "#ed7953"
             ],
             [
              0.7777777777777778,
              "#fb9f3a"
             ],
             [
              0.8888888888888888,
              "#fdca26"
             ],
             [
              1,
              "#f0f921"
             ]
            ],
            "type": "contour"
           }
          ],
          "contourcarpet": [
           {
            "colorbar": {
             "outlinewidth": 0,
             "ticks": ""
            },
            "type": "contourcarpet"
           }
          ],
          "heatmap": [
           {
            "colorbar": {
             "outlinewidth": 0,
             "ticks": ""
            },
            "colorscale": [
             [
              0,
              "#0d0887"
             ],
             [
              0.1111111111111111,
              "#46039f"
             ],
             [
              0.2222222222222222,
              "#7201a8"
             ],
             [
              0.3333333333333333,
              "#9c179e"
             ],
             [
              0.4444444444444444,
              "#bd3786"
             ],
             [
              0.5555555555555556,
              "#d8576b"
             ],
             [
              0.6666666666666666,
              "#ed7953"
             ],
             [
              0.7777777777777778,
              "#fb9f3a"
             ],
             [
              0.8888888888888888,
              "#fdca26"
             ],
             [
              1,
              "#f0f921"
             ]
            ],
            "type": "heatmap"
           }
          ],
          "heatmapgl": [
           {
            "colorbar": {
             "outlinewidth": 0,
             "ticks": ""
            },
            "colorscale": [
             [
              0,
              "#0d0887"
             ],
             [
              0.1111111111111111,
              "#46039f"
             ],
             [
              0.2222222222222222,
              "#7201a8"
             ],
             [
              0.3333333333333333,
              "#9c179e"
             ],
             [
              0.4444444444444444,
              "#bd3786"
             ],
             [
              0.5555555555555556,
              "#d8576b"
             ],
             [
              0.6666666666666666,
              "#ed7953"
             ],
             [
              0.7777777777777778,
              "#fb9f3a"
             ],
             [
              0.8888888888888888,
              "#fdca26"
             ],
             [
              1,
              "#f0f921"
             ]
            ],
            "type": "heatmapgl"
           }
          ],
          "histogram": [
           {
            "marker": {
             "colorbar": {
              "outlinewidth": 0,
              "ticks": ""
             }
            },
            "type": "histogram"
           }
          ],
          "histogram2d": [
           {
            "colorbar": {
             "outlinewidth": 0,
             "ticks": ""
            },
            "colorscale": [
             [
              0,
              "#0d0887"
             ],
             [
              0.1111111111111111,
              "#46039f"
             ],
             [
              0.2222222222222222,
              "#7201a8"
             ],
             [
              0.3333333333333333,
              "#9c179e"
             ],
             [
              0.4444444444444444,
              "#bd3786"
             ],
             [
              0.5555555555555556,
              "#d8576b"
             ],
             [
              0.6666666666666666,
              "#ed7953"
             ],
             [
              0.7777777777777778,
              "#fb9f3a"
             ],
             [
              0.8888888888888888,
              "#fdca26"
             ],
             [
              1,
              "#f0f921"
             ]
            ],
            "type": "histogram2d"
           }
          ],
          "histogram2dcontour": [
           {
            "colorbar": {
             "outlinewidth": 0,
             "ticks": ""
            },
            "colorscale": [
             [
              0,
              "#0d0887"
             ],
             [
              0.1111111111111111,
              "#46039f"
             ],
             [
              0.2222222222222222,
              "#7201a8"
             ],
             [
              0.3333333333333333,
              "#9c179e"
             ],
             [
              0.4444444444444444,
              "#bd3786"
             ],
             [
              0.5555555555555556,
              "#d8576b"
             ],
             [
              0.6666666666666666,
              "#ed7953"
             ],
             [
              0.7777777777777778,
              "#fb9f3a"
             ],
             [
              0.8888888888888888,
              "#fdca26"
             ],
             [
              1,
              "#f0f921"
             ]
            ],
            "type": "histogram2dcontour"
           }
          ],
          "mesh3d": [
           {
            "colorbar": {
             "outlinewidth": 0,
             "ticks": ""
            },
            "type": "mesh3d"
           }
          ],
          "parcoords": [
           {
            "line": {
             "colorbar": {
              "outlinewidth": 0,
              "ticks": ""
             }
            },
            "type": "parcoords"
           }
          ],
          "scatter": [
           {
            "marker": {
             "colorbar": {
              "outlinewidth": 0,
              "ticks": ""
             }
            },
            "type": "scatter"
           }
          ],
          "scatter3d": [
           {
            "line": {
             "colorbar": {
              "outlinewidth": 0,
              "ticks": ""
             }
            },
            "marker": {
             "colorbar": {
              "outlinewidth": 0,
              "ticks": ""
             }
            },
            "type": "scatter3d"
           }
          ],
          "scattercarpet": [
           {
            "marker": {
             "colorbar": {
              "outlinewidth": 0,
              "ticks": ""
             }
            },
            "type": "scattercarpet"
           }
          ],
          "scattergeo": [
           {
            "marker": {
             "colorbar": {
              "outlinewidth": 0,
              "ticks": ""
             }
            },
            "type": "scattergeo"
           }
          ],
          "scattergl": [
           {
            "marker": {
             "colorbar": {
              "outlinewidth": 0,
              "ticks": ""
             }
            },
            "type": "scattergl"
           }
          ],
          "scattermapbox": [
           {
            "marker": {
             "colorbar": {
              "outlinewidth": 0,
              "ticks": ""
             }
            },
            "type": "scattermapbox"
           }
          ],
          "scatterpolar": [
           {
            "marker": {
             "colorbar": {
              "outlinewidth": 0,
              "ticks": ""
             }
            },
            "type": "scatterpolar"
           }
          ],
          "scatterpolargl": [
           {
            "marker": {
             "colorbar": {
              "outlinewidth": 0,
              "ticks": ""
             }
            },
            "type": "scatterpolargl"
           }
          ],
          "scatterternary": [
           {
            "marker": {
             "colorbar": {
              "outlinewidth": 0,
              "ticks": ""
             }
            },
            "type": "scatterternary"
           }
          ],
          "surface": [
           {
            "colorbar": {
             "outlinewidth": 0,
             "ticks": ""
            },
            "colorscale": [
             [
              0,
              "#0d0887"
             ],
             [
              0.1111111111111111,
              "#46039f"
             ],
             [
              0.2222222222222222,
              "#7201a8"
             ],
             [
              0.3333333333333333,
              "#9c179e"
             ],
             [
              0.4444444444444444,
              "#bd3786"
             ],
             [
              0.5555555555555556,
              "#d8576b"
             ],
             [
              0.6666666666666666,
              "#ed7953"
             ],
             [
              0.7777777777777778,
              "#fb9f3a"
             ],
             [
              0.8888888888888888,
              "#fdca26"
             ],
             [
              1,
              "#f0f921"
             ]
            ],
            "type": "surface"
           }
          ],
          "table": [
           {
            "cells": {
             "fill": {
              "color": "#EBF0F8"
             },
             "line": {
              "color": "white"
             }
            },
            "header": {
             "fill": {
              "color": "#C8D4E3"
             },
             "line": {
              "color": "white"
             }
            },
            "type": "table"
           }
          ]
         },
         "layout": {
          "annotationdefaults": {
           "arrowcolor": "#2a3f5f",
           "arrowhead": 0,
           "arrowwidth": 1
          },
          "colorscale": {
           "diverging": [
            [
             0,
             "#8e0152"
            ],
            [
             0.1,
             "#c51b7d"
            ],
            [
             0.2,
             "#de77ae"
            ],
            [
             0.3,
             "#f1b6da"
            ],
            [
             0.4,
             "#fde0ef"
            ],
            [
             0.5,
             "#f7f7f7"
            ],
            [
             0.6,
             "#e6f5d0"
            ],
            [
             0.7,
             "#b8e186"
            ],
            [
             0.8,
             "#7fbc41"
            ],
            [
             0.9,
             "#4d9221"
            ],
            [
             1,
             "#276419"
            ]
           ],
           "sequential": [
            [
             0,
             "#0d0887"
            ],
            [
             0.1111111111111111,
             "#46039f"
            ],
            [
             0.2222222222222222,
             "#7201a8"
            ],
            [
             0.3333333333333333,
             "#9c179e"
            ],
            [
             0.4444444444444444,
             "#bd3786"
            ],
            [
             0.5555555555555556,
             "#d8576b"
            ],
            [
             0.6666666666666666,
             "#ed7953"
            ],
            [
             0.7777777777777778,
             "#fb9f3a"
            ],
            [
             0.8888888888888888,
             "#fdca26"
            ],
            [
             1,
             "#f0f921"
            ]
           ],
           "sequentialminus": [
            [
             0,
             "#0d0887"
            ],
            [
             0.1111111111111111,
             "#46039f"
            ],
            [
             0.2222222222222222,
             "#7201a8"
            ],
            [
             0.3333333333333333,
             "#9c179e"
            ],
            [
             0.4444444444444444,
             "#bd3786"
            ],
            [
             0.5555555555555556,
             "#d8576b"
            ],
            [
             0.6666666666666666,
             "#ed7953"
            ],
            [
             0.7777777777777778,
             "#fb9f3a"
            ],
            [
             0.8888888888888888,
             "#fdca26"
            ],
            [
             1,
             "#f0f921"
            ]
           ]
          },
          "colorway": [
           "#636efa",
           "#EF553B",
           "#00cc96",
           "#ab63fa",
           "#FFA15A",
           "#19d3f3",
           "#FF6692",
           "#B6E880",
           "#FF97FF",
           "#FECB52"
          ],
          "font": {
           "color": "#2a3f5f"
          },
          "geo": {
           "bgcolor": "white",
           "lakecolor": "white",
           "landcolor": "#E5ECF6",
           "showlakes": true,
           "showland": true,
           "subunitcolor": "white"
          },
          "hoverlabel": {
           "align": "left"
          },
          "hovermode": "closest",
          "mapbox": {
           "style": "light"
          },
          "paper_bgcolor": "white",
          "plot_bgcolor": "#E5ECF6",
          "polar": {
           "angularaxis": {
            "gridcolor": "white",
            "linecolor": "white",
            "ticks": ""
           },
           "bgcolor": "#E5ECF6",
           "radialaxis": {
            "gridcolor": "white",
            "linecolor": "white",
            "ticks": ""
           }
          },
          "scene": {
           "xaxis": {
            "backgroundcolor": "#E5ECF6",
            "gridcolor": "white",
            "gridwidth": 2,
            "linecolor": "white",
            "showbackground": true,
            "ticks": "",
            "zerolinecolor": "white"
           },
           "yaxis": {
            "backgroundcolor": "#E5ECF6",
            "gridcolor": "white",
            "gridwidth": 2,
            "linecolor": "white",
            "showbackground": true,
            "ticks": "",
            "zerolinecolor": "white"
           },
           "zaxis": {
            "backgroundcolor": "#E5ECF6",
            "gridcolor": "white",
            "gridwidth": 2,
            "linecolor": "white",
            "showbackground": true,
            "ticks": "",
            "zerolinecolor": "white"
           }
          },
          "shapedefaults": {
           "line": {
            "color": "#2a3f5f"
           }
          },
          "ternary": {
           "aaxis": {
            "gridcolor": "white",
            "linecolor": "white",
            "ticks": ""
           },
           "baxis": {
            "gridcolor": "white",
            "linecolor": "white",
            "ticks": ""
           },
           "bgcolor": "#E5ECF6",
           "caxis": {
            "gridcolor": "white",
            "linecolor": "white",
            "ticks": ""
           }
          },
          "title": {
           "x": 0.05
          },
          "xaxis": {
           "automargin": true,
           "gridcolor": "white",
           "linecolor": "white",
           "ticks": "",
           "zerolinecolor": "white",
           "zerolinewidth": 2
          },
          "yaxis": {
           "automargin": true,
           "gridcolor": "white",
           "linecolor": "white",
           "ticks": "",
           "zerolinecolor": "white",
           "zerolinewidth": 2
          }
         }
        },
        "width": 500,
        "xaxis": {
         "range": [
          80,
          300
         ],
         "title": {
          "text": "ocgt capacity installed [GW]"
         }
        },
        "yaxis": {
         "range": [
          350,
          550
         ],
         "title": {
          "text": "vres capacity installed [GW]"
         }
        }
       }
      },
      "text/html": [
       "<div>\n",
       "        \n",
       "        \n",
       "            <div id=\"5ed70cfe-b8ad-486f-89dc-90afeabfb76e\" class=\"plotly-graph-div\" style=\"height:500px; width:500px;\"></div>\n",
       "            <script type=\"text/javascript\">\n",
       "                require([\"plotly\"], function(Plotly) {\n",
       "                    window.PLOTLYENV=window.PLOTLYENV || {};\n",
       "                    \n",
       "                if (document.getElementById(\"5ed70cfe-b8ad-486f-89dc-90afeabfb76e\")) {\n",
       "                    Plotly.newPlot(\n",
       "                        '5ed70cfe-b8ad-486f-89dc-90afeabfb76e',\n",
       "                        [{\"mode\": \"lines\", \"name\": \"Convex hull\", \"type\": \"scatter\", \"x\": [160.40614127075503, 267.70768561875684, 267.94711115664103, 292.8355457029541, 295.505232178923, 295.8889786101187, 296.1565611218936, 296.3620176154555, 296.2690144942437, 294.7158930899329, 248.45704554445334, 245.39203706560542, 233.82982787350238, 209.27396101581388, 152.22221341878915, 151.71636233440356, 150.45558859055436, 145.7854196523582, 138.5557941262123, 130.48122207417907, 108.65363576802719, 108.32346453842531, 105.31712032268213, 93.02904693550957, 91.76573656644456, 91.48254375115937, 88.93426766066177, 88.55216387925458, 88.47604531158652, 88.50436007163802, 89.1526933054945, 89.31962350734167, 114.82142603306059, 123.71104815977687, 126.0263286278443, 151.37115865651623, 151.48883380867102, 160.40614127075503], \"y\": [383.0350365524486, 383.03503655244856, 383.1158142142855, 398.49010449467346, 404.2776068782045, 405.3169454698108, 406.1572763420759, 411.218424649406, 413.50832016857646, 418.97519729933765, 474.69569024482684, 477.67214765724094, 487.323723184218, 505.60064357847625, 545.685289824086, 545.9838929820661, 546.3864467877626, 546.9949754794181, 547.3207116831136, 546.3570343492668, 541.0254446395638, 540.9187038884039, 539.761422866845, 519.8149779875024, 516.4426186183783, 515.430958954235, 494.6473823111446, 488.86042572121835, 485.4574073362388, 483.8662435345336, 479.0663825099438, 478.35768056510676, 416.62956494526253, 407.0651264294398, 405.2792591518161, 387.09777210889615, 387.01797029623964, 383.0350365524486]}, {\"mode\": \"markers\", \"name\": \"MGA solutions\", \"type\": \"scatter\", \"x\": [88.47604531158652, 202.2514161263199, 296.36201596027894, 138.555794150164], \"y\": [485.4574073362388, 383.0350365524485, 411.2184246494062, 547.3207092051088]}, {\"mode\": \"markers\", \"name\": \"Initial_solution\", \"type\": \"scatter\", \"x\": [143.22484840872355], \"y\": [420.1483564729163]}],\n",
       "                        {\"autosize\": false, \"height\": 500, \"legend\": {\"x\": 0.6, \"y\": 1}, \"paper_bgcolor\": \"rgba(0,0,0,0)\", \"plot_bgcolor\": \"rgba(0,0,0,0)\", \"showlegend\": true, \"template\": {\"data\": {\"bar\": [{\"error_x\": {\"color\": \"#2a3f5f\"}, \"error_y\": {\"color\": \"#2a3f5f\"}, \"marker\": {\"line\": {\"color\": \"#E5ECF6\", \"width\": 0.5}}, \"type\": \"bar\"}], \"barpolar\": [{\"marker\": {\"line\": {\"color\": \"#E5ECF6\", \"width\": 0.5}}, \"type\": \"barpolar\"}], \"carpet\": [{\"aaxis\": {\"endlinecolor\": \"#2a3f5f\", \"gridcolor\": \"white\", \"linecolor\": \"white\", \"minorgridcolor\": \"white\", \"startlinecolor\": \"#2a3f5f\"}, \"baxis\": {\"endlinecolor\": \"#2a3f5f\", \"gridcolor\": \"white\", \"linecolor\": \"white\", \"minorgridcolor\": \"white\", \"startlinecolor\": \"#2a3f5f\"}, \"type\": \"carpet\"}], \"choropleth\": [{\"colorbar\": {\"outlinewidth\": 0, \"ticks\": \"\"}, \"type\": \"choropleth\"}], \"contour\": [{\"colorbar\": {\"outlinewidth\": 0, \"ticks\": \"\"}, \"colorscale\": [[0.0, \"#0d0887\"], [0.1111111111111111, \"#46039f\"], [0.2222222222222222, \"#7201a8\"], [0.3333333333333333, \"#9c179e\"], [0.4444444444444444, \"#bd3786\"], [0.5555555555555556, \"#d8576b\"], [0.6666666666666666, \"#ed7953\"], [0.7777777777777778, \"#fb9f3a\"], [0.8888888888888888, \"#fdca26\"], [1.0, \"#f0f921\"]], \"type\": \"contour\"}], \"contourcarpet\": [{\"colorbar\": {\"outlinewidth\": 0, \"ticks\": \"\"}, \"type\": \"contourcarpet\"}], \"heatmap\": [{\"colorbar\": {\"outlinewidth\": 0, \"ticks\": \"\"}, \"colorscale\": [[0.0, \"#0d0887\"], [0.1111111111111111, \"#46039f\"], [0.2222222222222222, \"#7201a8\"], [0.3333333333333333, \"#9c179e\"], [0.4444444444444444, \"#bd3786\"], [0.5555555555555556, \"#d8576b\"], [0.6666666666666666, \"#ed7953\"], [0.7777777777777778, \"#fb9f3a\"], [0.8888888888888888, \"#fdca26\"], [1.0, \"#f0f921\"]], \"type\": \"heatmap\"}], \"heatmapgl\": [{\"colorbar\": {\"outlinewidth\": 0, \"ticks\": \"\"}, \"colorscale\": [[0.0, \"#0d0887\"], [0.1111111111111111, \"#46039f\"], [0.2222222222222222, \"#7201a8\"], [0.3333333333333333, \"#9c179e\"], [0.4444444444444444, \"#bd3786\"], [0.5555555555555556, \"#d8576b\"], [0.6666666666666666, \"#ed7953\"], [0.7777777777777778, \"#fb9f3a\"], [0.8888888888888888, \"#fdca26\"], [1.0, \"#f0f921\"]], \"type\": \"heatmapgl\"}], \"histogram\": [{\"marker\": {\"colorbar\": {\"outlinewidth\": 0, \"ticks\": \"\"}}, \"type\": \"histogram\"}], \"histogram2d\": [{\"colorbar\": {\"outlinewidth\": 0, \"ticks\": \"\"}, \"colorscale\": [[0.0, \"#0d0887\"], [0.1111111111111111, \"#46039f\"], [0.2222222222222222, \"#7201a8\"], [0.3333333333333333, \"#9c179e\"], [0.4444444444444444, \"#bd3786\"], [0.5555555555555556, \"#d8576b\"], [0.6666666666666666, \"#ed7953\"], [0.7777777777777778, \"#fb9f3a\"], [0.8888888888888888, \"#fdca26\"], [1.0, \"#f0f921\"]], \"type\": \"histogram2d\"}], \"histogram2dcontour\": [{\"colorbar\": {\"outlinewidth\": 0, \"ticks\": \"\"}, \"colorscale\": [[0.0, \"#0d0887\"], [0.1111111111111111, \"#46039f\"], [0.2222222222222222, \"#7201a8\"], [0.3333333333333333, \"#9c179e\"], [0.4444444444444444, \"#bd3786\"], [0.5555555555555556, \"#d8576b\"], [0.6666666666666666, \"#ed7953\"], [0.7777777777777778, \"#fb9f3a\"], [0.8888888888888888, \"#fdca26\"], [1.0, \"#f0f921\"]], \"type\": \"histogram2dcontour\"}], \"mesh3d\": [{\"colorbar\": {\"outlinewidth\": 0, \"ticks\": \"\"}, \"type\": \"mesh3d\"}], \"parcoords\": [{\"line\": {\"colorbar\": {\"outlinewidth\": 0, \"ticks\": \"\"}}, \"type\": \"parcoords\"}], \"scatter\": [{\"marker\": {\"colorbar\": {\"outlinewidth\": 0, \"ticks\": \"\"}}, \"type\": \"scatter\"}], \"scatter3d\": [{\"line\": {\"colorbar\": {\"outlinewidth\": 0, \"ticks\": \"\"}}, \"marker\": {\"colorbar\": {\"outlinewidth\": 0, \"ticks\": \"\"}}, \"type\": \"scatter3d\"}], \"scattercarpet\": [{\"marker\": {\"colorbar\": {\"outlinewidth\": 0, \"ticks\": \"\"}}, \"type\": \"scattercarpet\"}], \"scattergeo\": [{\"marker\": {\"colorbar\": {\"outlinewidth\": 0, \"ticks\": \"\"}}, \"type\": \"scattergeo\"}], \"scattergl\": [{\"marker\": {\"colorbar\": {\"outlinewidth\": 0, \"ticks\": \"\"}}, \"type\": \"scattergl\"}], \"scattermapbox\": [{\"marker\": {\"colorbar\": {\"outlinewidth\": 0, \"ticks\": \"\"}}, \"type\": \"scattermapbox\"}], \"scatterpolar\": [{\"marker\": {\"colorbar\": {\"outlinewidth\": 0, \"ticks\": \"\"}}, \"type\": \"scatterpolar\"}], \"scatterpolargl\": [{\"marker\": {\"colorbar\": {\"outlinewidth\": 0, \"ticks\": \"\"}}, \"type\": \"scatterpolargl\"}], \"scatterternary\": [{\"marker\": {\"colorbar\": {\"outlinewidth\": 0, \"ticks\": \"\"}}, \"type\": \"scatterternary\"}], \"surface\": [{\"colorbar\": {\"outlinewidth\": 0, \"ticks\": \"\"}, \"colorscale\": [[0.0, \"#0d0887\"], [0.1111111111111111, \"#46039f\"], [0.2222222222222222, \"#7201a8\"], [0.3333333333333333, \"#9c179e\"], [0.4444444444444444, \"#bd3786\"], [0.5555555555555556, \"#d8576b\"], [0.6666666666666666, \"#ed7953\"], [0.7777777777777778, \"#fb9f3a\"], [0.8888888888888888, \"#fdca26\"], [1.0, \"#f0f921\"]], \"type\": \"surface\"}], \"table\": [{\"cells\": {\"fill\": {\"color\": \"#EBF0F8\"}, \"line\": {\"color\": \"white\"}}, \"header\": {\"fill\": {\"color\": \"#C8D4E3\"}, \"line\": {\"color\": \"white\"}}, \"type\": \"table\"}]}, \"layout\": {\"annotationdefaults\": {\"arrowcolor\": \"#2a3f5f\", \"arrowhead\": 0, \"arrowwidth\": 1}, \"colorscale\": {\"diverging\": [[0, \"#8e0152\"], [0.1, \"#c51b7d\"], [0.2, \"#de77ae\"], [0.3, \"#f1b6da\"], [0.4, \"#fde0ef\"], [0.5, \"#f7f7f7\"], [0.6, \"#e6f5d0\"], [0.7, \"#b8e186\"], [0.8, \"#7fbc41\"], [0.9, \"#4d9221\"], [1, \"#276419\"]], \"sequential\": [[0.0, \"#0d0887\"], [0.1111111111111111, \"#46039f\"], [0.2222222222222222, \"#7201a8\"], [0.3333333333333333, \"#9c179e\"], [0.4444444444444444, \"#bd3786\"], [0.5555555555555556, \"#d8576b\"], [0.6666666666666666, \"#ed7953\"], [0.7777777777777778, \"#fb9f3a\"], [0.8888888888888888, \"#fdca26\"], [1.0, \"#f0f921\"]], \"sequentialminus\": [[0.0, \"#0d0887\"], [0.1111111111111111, \"#46039f\"], [0.2222222222222222, \"#7201a8\"], [0.3333333333333333, \"#9c179e\"], [0.4444444444444444, \"#bd3786\"], [0.5555555555555556, \"#d8576b\"], [0.6666666666666666, \"#ed7953\"], [0.7777777777777778, \"#fb9f3a\"], [0.8888888888888888, \"#fdca26\"], [1.0, \"#f0f921\"]]}, \"colorway\": [\"#636efa\", \"#EF553B\", \"#00cc96\", \"#ab63fa\", \"#FFA15A\", \"#19d3f3\", \"#FF6692\", \"#B6E880\", \"#FF97FF\", \"#FECB52\"], \"font\": {\"color\": \"#2a3f5f\"}, \"geo\": {\"bgcolor\": \"white\", \"lakecolor\": \"white\", \"landcolor\": \"#E5ECF6\", \"showlakes\": true, \"showland\": true, \"subunitcolor\": \"white\"}, \"hoverlabel\": {\"align\": \"left\"}, \"hovermode\": \"closest\", \"mapbox\": {\"style\": \"light\"}, \"paper_bgcolor\": \"white\", \"plot_bgcolor\": \"#E5ECF6\", \"polar\": {\"angularaxis\": {\"gridcolor\": \"white\", \"linecolor\": \"white\", \"ticks\": \"\"}, \"bgcolor\": \"#E5ECF6\", \"radialaxis\": {\"gridcolor\": \"white\", \"linecolor\": \"white\", \"ticks\": \"\"}}, \"scene\": {\"xaxis\": {\"backgroundcolor\": \"#E5ECF6\", \"gridcolor\": \"white\", \"gridwidth\": 2, \"linecolor\": \"white\", \"showbackground\": true, \"ticks\": \"\", \"zerolinecolor\": \"white\"}, \"yaxis\": {\"backgroundcolor\": \"#E5ECF6\", \"gridcolor\": \"white\", \"gridwidth\": 2, \"linecolor\": \"white\", \"showbackground\": true, \"ticks\": \"\", \"zerolinecolor\": \"white\"}, \"zaxis\": {\"backgroundcolor\": \"#E5ECF6\", \"gridcolor\": \"white\", \"gridwidth\": 2, \"linecolor\": \"white\", \"showbackground\": true, \"ticks\": \"\", \"zerolinecolor\": \"white\"}}, \"shapedefaults\": {\"line\": {\"color\": \"#2a3f5f\"}}, \"ternary\": {\"aaxis\": {\"gridcolor\": \"white\", \"linecolor\": \"white\", \"ticks\": \"\"}, \"baxis\": {\"gridcolor\": \"white\", \"linecolor\": \"white\", \"ticks\": \"\"}, \"bgcolor\": \"#E5ECF6\", \"caxis\": {\"gridcolor\": \"white\", \"linecolor\": \"white\", \"ticks\": \"\"}}, \"title\": {\"x\": 0.05}, \"xaxis\": {\"automargin\": true, \"gridcolor\": \"white\", \"linecolor\": \"white\", \"ticks\": \"\", \"zerolinecolor\": \"white\", \"zerolinewidth\": 2}, \"yaxis\": {\"automargin\": true, \"gridcolor\": \"white\", \"linecolor\": \"white\", \"ticks\": \"\", \"zerolinecolor\": \"white\", \"zerolinewidth\": 2}}}, \"width\": 500, \"xaxis\": {\"range\": [80, 300], \"title\": {\"text\": \"ocgt capacity installed [GW]\"}}, \"yaxis\": {\"range\": [350, 550], \"title\": {\"text\": \"vres capacity installed [GW]\"}}},\n",
       "                        {\"responsive\": true}\n",
       "                    ).then(function(){\n",
       "                            \n",
       "var gd = document.getElementById('5ed70cfe-b8ad-486f-89dc-90afeabfb76e');\n",
       "var x = new MutationObserver(function (mutations, observer) {{\n",
       "        var display = window.getComputedStyle(gd).display;\n",
       "        if (!display || display === 'none') {{\n",
       "            console.log([gd, 'removed!']);\n",
       "            Plotly.purge(gd);\n",
       "            observer.disconnect();\n",
       "        }}\n",
       "}});\n",
       "\n",
       "// Listen for the removal of the full notebook cells\n",
       "var notebookContainer = gd.closest('#notebook-container');\n",
       "if (notebookContainer) {{\n",
       "    x.observe(notebookContainer, {childList: true});\n",
       "}}\n",
       "\n",
       "// Listen for the clearing of the current output cell\n",
       "var outputEl = gd.closest('.output');\n",
       "if (outputEl) {{\n",
       "    x.observe(outputEl, {childList: true});\n",
       "}}\n",
       "\n",
       "                        })\n",
       "                };\n",
       "                });\n",
       "            </script>\n",
       "        </div>"
      ]
     },
     "metadata": {},
     "output_type": "display_data"
    }
   ],
   "source": [
    "fig = go.Figure()\n",
    "\n",
    "\n",
    "\n",
    "fig.add_trace(go.Scatter(x=hull.points[np.append(hull.vertices,hull.vertices[0])][:,0]/1000,\n",
    "                          y=hull.points[np.append(hull.vertices,hull.vertices[0])][:,1]/1000,\n",
    "                          #z=data_detail_sum[:,2],\n",
    "                          mode='lines',name='Convex hull'))\n",
    "\n",
    "fig.add_trace(go.Scatter(x=data_detail_sum[:,0]/1000,\n",
    "                          y=data_detail_sum[:,1]/1000,\n",
    "                          #z=data_detail_sum[:,2],\n",
    "                          mode='markers',name='MGA solutions'))\n",
    "\n",
    "fig.add_trace(go.Scatter(x=[initial_solution[0]/1000],\n",
    "                          y=[initial_solution[1]/1000],\n",
    "                          #z=[np.mean(data_detail_sum,axis=0)[2]],\n",
    "                          mode='markers',name='Initial_solution'))\n",
    "\n",
    "fig.update_yaxes(title_text='vres capacity installed [GW]',range=[350,550])\n",
    "fig.update_xaxes(title_text='ocgt capacity installed [GW]',range=[80,300])\n",
    "fig.update_layout(\n",
    "    autosize=False,\n",
    "    showlegend=True,\n",
    "    width=500,\n",
    "    height=500,\n",
    "    paper_bgcolor='rgba(0,0,0,0)',\n",
    "    plot_bgcolor='rgba(0,0,0,0)',\n",
    "    legend=dict(x=0.6,y=1)\n",
    ")\n",
    "fig.write_image(\"C:/Users\\Tim\\OneDrive - Aarhus universitet\\Speciale\\Report\\Images\\comparison_4.pdf\")\n",
    "fig.show()"
   ]
  },
  {
   "cell_type": "code",
   "execution_count": null,
   "metadata": {},
   "outputs": [],
   "source": []
  },
  {
   "cell_type": "code",
   "execution_count": null,
   "metadata": {},
   "outputs": [],
   "source": []
  },
  {
   "cell_type": "code",
   "execution_count": null,
   "metadata": {},
   "outputs": [],
   "source": [
    "from plotly.subplots import make_subplots\n",
    "fig = make_subplots(\n",
    "    rows=3, cols=2,\n",
    "    #column_widths=[0.6, 0.4],\n",
    "    row_heights=[0.45,0.45,0.15],\n",
    "    subplot_titles=['','','(a)','(b)','(c)','(d)'],\n",
    "    specs=[[{\"type\": 'Scattergeo'},{\"type\": 'Scattergeo'}],\n",
    "           [ {\"type\": 'Scattergeo'},{\"type\": 'Scattergeo'}],\n",
    "          [ {\"type\": 'Scatter'},{\"type\": 'Scatter'}]])\n",
    "\n",
    "\n",
    "\"\"\"\n",
    "fig.add_trace(go.Scattergeo(lon=[min(network.buses.x),max(network.buses.x)],\n",
    "                            lat=[np.mean(network.buses.y),np.mean(network.buses.y)],\n",
    "                            mode='lines'\n",
    "                            ))\n",
    "\"\"\"\n",
    "\n",
    "for i in range(4):\n",
    "    network = solutions[i]\n",
    "    # Links\n",
    "    import matplotlib.cm as cm\n",
    "    for link in network.links.iterrows():\n",
    "\n",
    "        bus0 = network.buses.loc[link[1]['bus0']]\n",
    "        bus1 = network.buses.loc[link[1]['bus1']]\n",
    "        cap = link[1]['p_nom_opt']\n",
    "        cap_max = max(network.links.p_nom_opt)\n",
    "\n",
    "        fig.add_trace(go.Scattergeo(\n",
    "            locationmode = 'country names',\n",
    "            geo = 'geo'+str(i+1),\n",
    "            lon = [bus0.x,bus1.x],\n",
    "            lat = [bus0.y,bus1.y],\n",
    "            mode = 'lines',\n",
    "            line = dict(width = cap/cap_max*5+0.5,color = 'green'),\n",
    "            ),row=int(np.floor(i/2)+1),col=i%2+1)\n",
    "\n",
    "\n",
    "    # Nodes\n",
    "    \"\"\"\n",
    "    fig.add_trace(go.Scattergeo(\n",
    "        locationmode = 'country names',\n",
    "        lon = network.buses.x,\n",
    "        lat = network.buses.y,\n",
    "        hoverinfo = 'text',\n",
    "        text = network.buses.index,\n",
    "        mode = 'markers',\n",
    "        marker = dict(\n",
    "            size = 5,\n",
    "            color = 'black',\n",
    "            line = dict(\n",
    "                width = 3,\n",
    "                color = 'rgba(68, 68, 68, 0)'\n",
    "            )),\n",
    "         textfont={\n",
    "            \"color\": \"MidnightBlue\",\n",
    "            \"family\": \"Balto, sans-serif\",\n",
    "            \"size\": 18\n",
    "        },\n",
    "        ))\n",
    "    \"\"\"\n",
    "\n",
    "    # Bar plots \n",
    "    #network.generators.p_nom_opt=ds_co2_95.df_detail.iloc[0,0:111]\n",
    "\n",
    "\n",
    "    for bus in network.buses.iterrows():\n",
    "\n",
    "        filter = [x and y for x,y in zip(network.generators.bus==bus[0],network.generators.type=='wind')]\n",
    "        wind = sum(network.generators[filter].p_nom_opt)\n",
    "        filter = [x and y for x,y in zip(network.generators.bus==bus[0],network.generators.type=='solar')]\n",
    "        solar = sum(network.generators[filter].p_nom_opt)\n",
    "        filter = [x and y for x,y in zip(network.generators.bus==bus[0],network.generators.type=='ocgt')]\n",
    "        ocgt = sum(network.generators[filter].p_nom_opt)\n",
    "\n",
    "        fig.add_trace(go.Scattergeo(\n",
    "        locationmode = 'country names',\n",
    "        lon = [bus[1]['x'],bus[1]['x']+0.5,bus[1]['x']-0.5 ],\n",
    "        lat = [bus[1]['y'], bus[1]['y'],bus[1]['y']],\n",
    "        hoverinfo = 'text',\n",
    "        geo = 'geo'+str(i+1),\n",
    "        text = bus[0],\n",
    "        mode = 'markers',\n",
    "        marker = dict(\n",
    "            size = np.array([wind,ocgt])/2000,\n",
    "            color = ['blue','yellow','black'],\n",
    "            symbol = 'line-ns',\n",
    "            line = dict(\n",
    "                width = 10,\n",
    "                color = ['orange','black'],\n",
    "            )\n",
    "        )),row=int(np.floor(i/2)+1),col=i%2+1)\n",
    "\n",
    "\"\"\"\n",
    "# Legend \n",
    "fig.add_trace(go.Scattergeo(\n",
    "locationmode = 'country names',\n",
    "lon = [-11,-11,-11],\n",
    "lat = [62,63,64],\n",
    "hoverinfo = 'text',\n",
    "text = 'legend',\n",
    "mode = 'markers',\n",
    "marker = dict(\n",
    "    size = 10,\n",
    "    color = ['blue','yellow','black'],\n",
    "    symbol = 'line-ns',\n",
    "    line = dict(\n",
    "        width = 10,\n",
    "        color = ['blue','yellow','black'],\n",
    "    )\n",
    ")))\n",
    "\"\"\"\n",
    "#Legend\n",
    "# Capacity\n",
    "fig.add_trace(go.Scatter(\n",
    "    x = [0.1,0.13,0.16,0.3,0.33,0.36],\n",
    "    y = [6,6,6,6,6,6],\n",
    "    mode = 'markers',\n",
    "    marker = dict(\n",
    "        size = [25,12.5,5,25,12.5,5],\n",
    "        symbol = 'line-ns',\n",
    "        line = dict(\n",
    "            width = 7,\n",
    "            color = ['black','black','black','orange','orange','orange',],\n",
    "        )),\n",
    "),row=3,col=1)\n",
    "\n",
    "# Transmission\n",
    "fig.add_trace(go.Scatter(\n",
    "    x = [0.5,0.53,0.56,],\n",
    "    y = [6,6,6],\n",
    "    mode = 'markers',\n",
    "    marker = dict(\n",
    "        size = 15,\n",
    "        symbol = 'line-ew',\n",
    "        line = dict(\n",
    "            width = [25000/cap_max*5+0.5,10000/cap_max*5+0.5,0.5],\n",
    "            color = ['green','green','green'],\n",
    "        )),\n",
    "),row=3,col=1)\n",
    "# Text\n",
    "fig.add_trace(go.Scatter(\n",
    "    x = [0.13,0.33,0.52,0.1,0.13,0.16,0.3,0.33,0.36,0.5,0.53,0.56,],\n",
    "    y = [9,9,9,3,3,3,3,3,3,3,3,3],\n",
    "    text = ['VRES [GW]','OCGT [GW]','Transmission [GW]','50','25','10','50','25','10','25','10','0'],\n",
    "    mode = 'text',\n",
    "    textposition=\"middle center\"\n",
    "),row=3,col=1)\n",
    "\n",
    "fig.update_geos(\n",
    "        scope = 'europe',\n",
    "        projection_type = 'azimuthal equal area',\n",
    "        showland = True,\n",
    "        landcolor = 'rgb(243, 243, 243)',\n",
    "        countrycolor = 'rgb(204, 204, 204)',\n",
    "        showocean=False,\n",
    "        #domain=dict(x=[0,1],y=[0,1]),\n",
    "        lataxis = dict(\n",
    "            range = [45, 62],\n",
    "            showgrid = False\n",
    "        ),\n",
    "        lonaxis = dict(\n",
    "            range = [0, 24],\n",
    "            showgrid = False\n",
    "        ))\n",
    "fig.update_layout(\n",
    "    geo1=dict(\n",
    "        domain=dict(x=[0.52,0.99],y=[0.55,1])),\n",
    "    geo2=dict(\n",
    "        domain=dict(x=[0,0.48],y=[0.55,1])),\n",
    "    geo3=dict(\n",
    "        domain=dict(x=[0,0.48],y=[0.1,0.55])),\n",
    "    geo4=dict(\n",
    "        domain=dict(x=[0.52,0.99],y=[0.1,0.55])),\n",
    ")\n",
    "\n",
    "fig.update_layout(\n",
    "    autosize=False,\n",
    "    showlegend=False,\n",
    "    xaxis=dict(showticklabels=False,range=[0,0.7],domain=[0,1]),\n",
    "    yaxis=dict(showticklabels=False,range=[0,10],domain=[0,0.08]),\n",
    "        paper_bgcolor='rgba(0,0,0,0)',\n",
    "    plot_bgcolor='rgba(0,0,0,0)',\n",
    "    width=1000,\n",
    "    height=1000,\n",
    "    margin=dict(l=5, r=5, t=5, b=5,pad=0),\n",
    "    )\n",
    "fig.show()\n",
    "\n"
   ]
  },
  {
   "cell_type": "code",
   "execution_count": null,
   "metadata": {},
   "outputs": [],
   "source": []
  }
 ],
 "metadata": {
  "kernelspec": {
   "display_name": "Python 3",
   "language": "python",
   "name": "python3"
  },
  "language_info": {
   "codemirror_mode": {
    "name": "ipython",
    "version": 3
   },
   "file_extension": ".py",
   "mimetype": "text/x-python",
   "name": "python",
   "nbconvert_exporter": "python",
   "pygments_lexer": "ipython3",
   "version": "3.7.3"
  },
  "varInspector": {
   "cols": {
    "lenName": 16,
    "lenType": 16,
    "lenVar": 40
   },
   "kernels_config": {
    "python": {
     "delete_cmd_postfix": "",
     "delete_cmd_prefix": "del ",
     "library": "var_list.py",
     "varRefreshCmd": "print(var_dic_list())"
    },
    "r": {
     "delete_cmd_postfix": ") ",
     "delete_cmd_prefix": "rm(",
     "library": "var_list.r",
     "varRefreshCmd": "cat(var_dic_list()) "
    }
   },
   "types_to_exclude": [
    "module",
    "function",
    "builtin_function_or_method",
    "instance",
    "_Feature"
   ],
   "window_display": false
  }
 },
 "nbformat": 4,
 "nbformat_minor": 2
}
