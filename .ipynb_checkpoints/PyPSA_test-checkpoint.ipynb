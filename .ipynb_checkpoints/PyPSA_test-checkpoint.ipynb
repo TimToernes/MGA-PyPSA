{
 "cells": [
  {
   "cell_type": "code",
   "execution_count": 1,
   "metadata": {},
   "outputs": [],
   "source": [
    "import pypsa\n",
    "import pandas as pd"
   ]
  },
  {
   "cell_type": "code",
   "execution_count": 2,
   "metadata": {},
   "outputs": [],
   "source": [
    "network = pypsa.Network()\n",
    "\n",
    "# Create an empty network.\n",
    "network.set_snapshots(range(4))\n",
    "\n",
    "# Add a bus to the network.\n",
    "network.add(\"Bus\",\"bus\")\n",
    "\n",
    "# Add a coal power plant to the bus.\n",
    "network.add(\"Generator\",\"coal\",bus=\"bus\",\n",
    "       committable=True,\n",
    "       p_min_pu=0.3,\n",
    "       marginal_cost=20,\n",
    "       p_nom=10000)\n",
    "\n",
    "# Add a gas power plant to the bus.\n",
    "network.add(\"Generator\",\"gas\",bus=\"bus\",\n",
    "       committable=True,\n",
    "       marginal_cost=25,\n",
    "       p_min_pu=0.1,\n",
    "       p_nom=1000)\n",
    "\n",
    "# Add a 2nd gas power plant to the bus.\n",
    "network.add(\"Generator\",\"gas2\",bus=\"bus\",\n",
    "       committable=True,\n",
    "       marginal_cost=30,\n",
    "       p_min_pu=0.1,\n",
    "       p_nom=2000)\n",
    "\n",
    "# Add load to the bus.\n",
    "network.add(\"Load\",\"load\",bus=\"bus\",p_set=[4000,6000,5000,800])"
   ]
  },
  {
   "cell_type": "code",
   "execution_count": 3,
   "metadata": {},
   "outputs": [
    {
     "name": "stderr",
     "output_type": "stream",
     "text": [
      "INFO:pypsa.pf:Slack bus for sub-network 0 is bus\n",
      "INFO:pypsa.opf:Performed preliminary steps\n",
      "INFO:pypsa.opf:Building pyomo model using `angles` formulation\n",
      "INFO:pypsa.opf:Solving model using gurobi\n",
      "INFO:pypsa.opf:Optimization successful\n"
     ]
    },
    {
     "name": "stdout",
     "output_type": "stream",
     "text": [
      "# ==========================================================\n",
      "# = Solver Results                                         =\n",
      "# ==========================================================\n",
      "# ----------------------------------------------------------\n",
      "#   Problem Information\n",
      "# ----------------------------------------------------------\n",
      "Problem: \n",
      "- Name: x29\n",
      "  Lower bound: 320000.0\n",
      "  Upper bound: 320000.0\n",
      "  Number of objectives: 1\n",
      "  Number of constraints: 33\n",
      "  Number of variables: 29\n",
      "  Number of binary variables: 12\n",
      "  Number of integer variables: 12\n",
      "  Number of continuous variables: 17\n",
      "  Number of nonzeros: 65\n",
      "  Sense: minimize\n",
      "# ----------------------------------------------------------\n",
      "#   Solver Information\n",
      "# ----------------------------------------------------------\n",
      "Solver: \n",
      "- Status: ok\n",
      "  Return code: 0\n",
      "  Message: Model was solved to optimality (subject to tolerances), and an optimal solution is available.\n",
      "  Termination condition: optimal\n",
      "  Termination message: Model was solved to optimality (subject to tolerances), and an optimal solution is available.\n",
      "  Wall time: 0.015628814697265625\n",
      "  Error rc: 0\n",
      "  Time: 0.1718616485595703\n",
      "# ----------------------------------------------------------\n",
      "#   Solution Information\n",
      "# ----------------------------------------------------------\n",
      "Solution: \n",
      "- number of solutions: 0\n",
      "  number of solutions displayed: 0\n"
     ]
    },
    {
     "data": {
      "text/plain": [
       "('ok', 'optimal')"
      ]
     },
     "execution_count": 3,
     "metadata": {},
     "output_type": "execute_result"
    }
   ],
   "source": [
    "# Solve the network.\n",
    "network.lopf(network.snapshots,solver_name='gurobi')"
   ]
  },
  {
   "cell_type": "code",
   "execution_count": 4,
   "metadata": {},
   "outputs": [
    {
     "data": {
      "text/html": [
       "<div>\n",
       "<style scoped>\n",
       "    .dataframe tbody tr th:only-of-type {\n",
       "        vertical-align: middle;\n",
       "    }\n",
       "\n",
       "    .dataframe tbody tr th {\n",
       "        vertical-align: top;\n",
       "    }\n",
       "\n",
       "    .dataframe thead th {\n",
       "        text-align: right;\n",
       "    }\n",
       "</style>\n",
       "<table border=\"1\" class=\"dataframe\">\n",
       "  <thead>\n",
       "    <tr style=\"text-align: right;\">\n",
       "      <th></th>\n",
       "      <th>coal</th>\n",
       "      <th>gas</th>\n",
       "      <th>gas2</th>\n",
       "    </tr>\n",
       "  </thead>\n",
       "  <tbody>\n",
       "    <tr>\n",
       "      <th>0</th>\n",
       "      <td>4000.0</td>\n",
       "      <td>0.0</td>\n",
       "      <td>0.0</td>\n",
       "    </tr>\n",
       "    <tr>\n",
       "      <th>1</th>\n",
       "      <td>6000.0</td>\n",
       "      <td>0.0</td>\n",
       "      <td>0.0</td>\n",
       "    </tr>\n",
       "    <tr>\n",
       "      <th>2</th>\n",
       "      <td>5000.0</td>\n",
       "      <td>0.0</td>\n",
       "      <td>0.0</td>\n",
       "    </tr>\n",
       "    <tr>\n",
       "      <th>3</th>\n",
       "      <td>0.0</td>\n",
       "      <td>800.0</td>\n",
       "      <td>0.0</td>\n",
       "    </tr>\n",
       "  </tbody>\n",
       "</table>\n",
       "</div>"
      ],
      "text/plain": [
       "     coal    gas  gas2\n",
       "0  4000.0    0.0   0.0\n",
       "1  6000.0    0.0   0.0\n",
       "2  5000.0    0.0   0.0\n",
       "3     0.0  800.0   0.0"
      ]
     },
     "execution_count": 4,
     "metadata": {},
     "output_type": "execute_result"
    }
   ],
   "source": [
    "# Print the dispatch of each generator.\n",
    "network.generators_t.p"
   ]
  },
  {
   "cell_type": "markdown",
   "metadata": {},
   "source": [
    "## Below here is MGA stuff\n"
   ]
  },
  {
   "cell_type": "code",
   "execution_count": 5,
   "metadata": {},
   "outputs": [
    {
     "name": "stdout",
     "output_type": "stream",
     "text": [
      "320000.0\n"
     ]
    }
   ],
   "source": [
    "import pyomo.environ as pyomo_env\n",
    "\n",
    "# Saving the value of the old objective function.\n",
    "old_objective_value = network.model.objective()\n",
    "print(old_objective_value)\n"
   ]
  },
  {
   "cell_type": "code",
   "execution_count": 6,
   "metadata": {},
   "outputs": [],
   "source": [
    "def extra_functionality(network, snapshots,  MGA_slack = 0.05):\n",
    "\n",
    "    # Identify the nonzero decision variables that should enter the MGA objective function.\n",
    "    generator_outputs = network.generators_t.p\n",
    "    nonzero_gen_p = list()\n",
    "    for gen_p in network.model.generator_p :\n",
    "        if generator_outputs[gen_p[0]].loc[gen_p[1]] > 0 :\n",
    "            nonzero_gen_p.append(gen_p)\n",
    "    \n",
    "    # Build new MGA objective function.\n",
    "    MGA_objective = 0\n",
    "    for gen_p in nonzero_gen_p:\n",
    "        MGA_objective += network.model.generator_p[gen_p]\n",
    "\n",
    "    # Add the new MGA objective function to the model.\n",
    "    network.model.mga_objective = pyomo_env.Objective(expr=MGA_objective)\n",
    "\n",
    "    # Deactivate the old objective function and activate the MGA objective function.\n",
    "    network.model.objective.deactivate()\n",
    "    network.model.mga_objective.activate()\n",
    "\n",
    "    # Add the MGA slack constraint.\n",
    "    #print('old objective value ',old_objective_value)\n",
    "    network.model.mga_constraint = pyomo_env.Constraint(expr=network.model.objective.expr <= \n",
    "                                          (1 + MGA_slack) * old_objective_value)"
   ]
  },
  {
   "cell_type": "markdown",
   "metadata": {},
   "source": [
    "# Itterating"
   ]
  },
  {
   "cell_type": "code",
   "execution_count": 11,
   "metadata": {},
   "outputs": [
    {
     "name": "stderr",
     "output_type": "stream",
     "text": [
      "INFO:pypsa.pf:Slack bus for sub-network 0 is bus\n",
      "INFO:pypsa.opf:Performed preliminary steps\n",
      "INFO:pypsa.opf:Building pyomo model using `angles` formulation\n",
      "INFO:pypsa.opf:Solving model using gurobi\n",
      "INFO:pypsa.opf:Optimization successful\n",
      "INFO:pypsa.pf:Slack bus for sub-network 0 is bus\n",
      "INFO:pypsa.opf:Performed preliminary steps\n",
      "INFO:pypsa.opf:Building pyomo model using `angles` formulation\n",
      "INFO:pypsa.opf:Solving model using gurobi\n"
     ]
    },
    {
     "name": "stdout",
     "output_type": "stream",
     "text": [
      "# ==========================================================\n",
      "# = Solver Results                                         =\n",
      "# ==========================================================\n",
      "# ----------------------------------------------------------\n",
      "#   Problem Information\n",
      "# ----------------------------------------------------------\n",
      "Problem: \n",
      "- Name: x29\n",
      "  Lower bound: 10800.0\n",
      "  Upper bound: 10800.0\n",
      "  Number of objectives: 1\n",
      "  Number of constraints: 34\n",
      "  Number of variables: 29\n",
      "  Number of binary variables: 12\n",
      "  Number of integer variables: 12\n",
      "  Number of continuous variables: 17\n",
      "  Number of nonzeros: 77\n",
      "  Sense: minimize\n",
      "# ----------------------------------------------------------\n",
      "#   Solver Information\n",
      "# ----------------------------------------------------------\n",
      "Solver: \n",
      "- Status: ok\n",
      "  Return code: 0\n",
      "  Message: Model was solved to optimality (subject to tolerances), and an optimal solution is available.\n",
      "  Termination condition: optimal\n",
      "  Termination message: Model was solved to optimality (subject to tolerances), and an optimal solution is available.\n",
      "  Wall time: 0.0\n",
      "  Error rc: 0\n",
      "  Time: 0.1718456745147705\n",
      "# ----------------------------------------------------------\n",
      "#   Solution Information\n",
      "# ----------------------------------------------------------\n",
      "Solution: \n",
      "- number of solutions: 0\n",
      "  number of solutions displayed: 0\n"
     ]
    },
    {
     "name": "stderr",
     "output_type": "stream",
     "text": [
      "INFO:pypsa.opf:Optimization successful\n",
      "INFO:pypsa.pf:Slack bus for sub-network 0 is bus\n",
      "INFO:pypsa.opf:Performed preliminary steps\n",
      "INFO:pypsa.opf:Building pyomo model using `angles` formulation\n",
      "INFO:pypsa.opf:Solving model using gurobi\n"
     ]
    },
    {
     "name": "stdout",
     "output_type": "stream",
     "text": [
      "# ==========================================================\n",
      "# = Solver Results                                         =\n",
      "# ==========================================================\n",
      "# ----------------------------------------------------------\n",
      "#   Problem Information\n",
      "# ----------------------------------------------------------\n",
      "Problem: \n",
      "- Name: x29\n",
      "  Lower bound: 12000.0\n",
      "  Upper bound: 12000.0\n",
      "  Number of objectives: 1\n",
      "  Number of constraints: 34\n",
      "  Number of variables: 29\n",
      "  Number of binary variables: 12\n",
      "  Number of integer variables: 12\n",
      "  Number of continuous variables: 17\n",
      "  Number of nonzeros: 77\n",
      "  Sense: minimize\n",
      "# ----------------------------------------------------------\n",
      "#   Solver Information\n",
      "# ----------------------------------------------------------\n",
      "Solver: \n",
      "- Status: ok\n",
      "  Return code: 0\n",
      "  Message: Model was solved to optimality (subject to tolerances), and an optimal solution is available.\n",
      "  Termination condition: optimal\n",
      "  Termination message: Model was solved to optimality (subject to tolerances), and an optimal solution is available.\n",
      "  Wall time: 0.0\n",
      "  Error rc: 0\n",
      "  Time: 0.1718583106994629\n",
      "# ----------------------------------------------------------\n",
      "#   Solution Information\n",
      "# ----------------------------------------------------------\n",
      "Solution: \n",
      "- number of solutions: 0\n",
      "  number of solutions displayed: 0\n"
     ]
    },
    {
     "name": "stderr",
     "output_type": "stream",
     "text": [
      "INFO:pypsa.opf:Optimization successful\n"
     ]
    },
    {
     "name": "stdout",
     "output_type": "stream",
     "text": [
      "# ==========================================================\n",
      "# = Solver Results                                         =\n",
      "# ==========================================================\n",
      "# ----------------------------------------------------------\n",
      "#   Problem Information\n",
      "# ----------------------------------------------------------\n",
      "Problem: \n",
      "- Name: x29\n",
      "  Lower bound: 10800.0\n",
      "  Upper bound: 10800.0\n",
      "  Number of objectives: 1\n",
      "  Number of constraints: 34\n",
      "  Number of variables: 29\n",
      "  Number of binary variables: 12\n",
      "  Number of integer variables: 12\n",
      "  Number of continuous variables: 17\n",
      "  Number of nonzeros: 77\n",
      "  Sense: minimize\n",
      "# ----------------------------------------------------------\n",
      "#   Solver Information\n",
      "# ----------------------------------------------------------\n",
      "Solver: \n",
      "- Status: ok\n",
      "  Return code: 0\n",
      "  Message: Model was solved to optimality (subject to tolerances), and an optimal solution is available.\n",
      "  Termination condition: optimal\n",
      "  Termination message: Model was solved to optimality (subject to tolerances), and an optimal solution is available.\n",
      "  Wall time: 0.01564788818359375\n",
      "  Error rc: 0\n",
      "  Time: 0.156233549118042\n",
      "# ----------------------------------------------------------\n",
      "#   Solution Information\n",
      "# ----------------------------------------------------------\n",
      "Solution: \n",
      "- number of solutions: 0\n",
      "  number of solutions displayed: 0\n"
     ]
    }
   ],
   "source": [
    "# Defining a list for solutions\n",
    "network.solutions = []\n",
    "MGA_slack = 0.1\n",
    "# Loop until a non original solution is found\n",
    "while True:\n",
    "    network.lopf(network.snapshots,solver_name='gurobi',extra_functionality=lambda network, snapshots: extra_functionality(network, snapshots, MGA_slack)) \n",
    "    # Tjek if the solution is seen before, otherwise add solution to list of solutions\n",
    "    for i in range(len(network.solutions)):\n",
    "        if network.generators_t.p.equals(network.solutions[i]):\n",
    "            break\n",
    "    else : \n",
    "        network.solutions.append(network.generators_t.p)\n",
    "        continue\n",
    "    break\n",
    "            \n",
    "        \n",
    " "
   ]
  },
  {
   "cell_type": "code",
   "execution_count": 12,
   "metadata": {},
   "outputs": [
    {
     "name": "stdout",
     "output_type": "stream",
     "text": [
      "solution  1\n",
      "     coal     gas    gas2\n",
      "0  3800.0     0.0   200.0\n",
      "1  3000.0  1000.0  2000.0\n",
      "2  4000.0  1000.0     0.0\n",
      "3     0.0   800.0     0.0\n",
      "solution  2\n",
      "     coal     gas    gas2\n",
      "0  3000.0  1000.0     0.0\n",
      "1  6000.0     0.0     0.0\n",
      "2  3000.0     0.0  2000.0\n",
      "3     0.0     0.0   800.0\n"
     ]
    }
   ],
   "source": [
    "# Print found solutions\n",
    "for i in range(len(network.solutions)):\n",
    "    print('solution ',i+1)\n",
    "    print(network.solutions[i])\n"
   ]
  },
  {
   "cell_type": "code",
   "execution_count": null,
   "metadata": {},
   "outputs": [],
   "source": []
  }
 ],
 "metadata": {
  "kernelspec": {
   "display_name": "Python 3",
   "language": "python",
   "name": "python3"
  },
  "language_info": {
   "codemirror_mode": {
    "name": "ipython",
    "version": 3
   },
   "file_extension": ".py",
   "mimetype": "text/x-python",
   "name": "python",
   "nbconvert_exporter": "python",
   "pygments_lexer": "ipython3",
   "version": "3.7.3"
  },
  "varInspector": {
   "cols": {
    "lenName": 16,
    "lenType": 16,
    "lenVar": 40
   },
   "kernels_config": {
    "python": {
     "delete_cmd_postfix": "",
     "delete_cmd_prefix": "del ",
     "library": "var_list.py",
     "varRefreshCmd": "print(var_dic_list())"
    },
    "r": {
     "delete_cmd_postfix": ") ",
     "delete_cmd_prefix": "rm(",
     "library": "var_list.r",
     "varRefreshCmd": "cat(var_dic_list()) "
    }
   },
   "position": {
    "height": "458.85px",
    "left": "1550px",
    "right": "20px",
    "top": "120px",
    "width": "350px"
   },
   "types_to_exclude": [
    "module",
    "function",
    "builtin_function_or_method",
    "instance",
    "_Feature"
   ],
   "window_display": true
  }
 },
 "nbformat": 4,
 "nbformat_minor": 2
}
