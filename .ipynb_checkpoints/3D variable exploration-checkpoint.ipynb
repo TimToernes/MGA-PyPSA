{
 "cells": [
  {
   "cell_type": "code",
   "execution_count": 1,
   "metadata": {},
   "outputs": [
    {
     "name": "stderr",
     "output_type": "stream",
     "text": [
      "C:\\Users\\Tim\\Anaconda3\\lib\\site-packages\\dask\\config.py:168: YAMLLoadWarning: calling yaml.load() without Loader=... is deprecated, as the default Loader is unsafe. Please read https://msg.pyyaml.org/load for full details.\n",
      "  data = yaml.load(f.read()) or {}\n",
      "C:\\Users\\Tim\\Anaconda3\\lib\\site-packages\\distributed\\config.py:20: YAMLLoadWarning: calling yaml.load() without Loader=... is deprecated, as the default Loader is unsafe. Please read https://msg.pyyaml.org/load for full details.\n",
      "  defaults = yaml.load(f)\n"
     ]
    },
    {
     "data": {
      "text/html": [
       "        <script type=\"text/javascript\">\n",
       "        window.PlotlyConfig = {MathJaxConfig: 'local'};\n",
       "        if (window.MathJax) {MathJax.Hub.Config({SVG: {font: \"STIX-Web\"}});}\n",
       "        if (typeof require !== 'undefined') {\n",
       "        require.undef(\"plotly\");\n",
       "        requirejs.config({\n",
       "            paths: {\n",
       "                'plotly': ['https://cdn.plot.ly/plotly-latest.min']\n",
       "            }\n",
       "        });\n",
       "        require(['plotly'], function(Plotly) {\n",
       "            window._Plotly = Plotly;\n",
       "        });\n",
       "        }\n",
       "        </script>\n",
       "        "
      ]
     },
     "metadata": {},
     "output_type": "display_data"
    }
   ],
   "source": [
    "import pypsa\n",
    "import pandas as pd\n",
    "import numpy as np\n",
    "import time\n",
    "import cufflinks as cf\n",
    "import plotly.offline as pltly\n",
    "pltly.init_notebook_mode(connected=True)\n",
    "import matplotlib.pyplot as plt\n",
    "from mpl_toolkits.mplot3d import Axes3D"
   ]
  },
  {
   "cell_type": "markdown",
   "metadata": {},
   "source": [
    "### Loading network from file"
   ]
  },
  {
   "cell_type": "code",
   "execution_count": 2,
   "metadata": {},
   "outputs": [],
   "source": [
    "network = pypsa.Network()"
   ]
  },
  {
   "cell_type": "code",
   "execution_count": 3,
   "metadata": {},
   "outputs": [
    {
     "name": "stderr",
     "output_type": "stream",
     "text": [
      "INFO:pypsa.io:Imported network Scandinavia has buses, generators, lines, loads\n"
     ]
    }
   ],
   "source": [
    "network.import_from_hdf5('Scandinavia')"
   ]
  },
  {
   "cell_type": "code",
   "execution_count": 4,
   "metadata": {},
   "outputs": [
    {
     "name": "stderr",
     "output_type": "stream",
     "text": [
      "INFO:pypsa.io:Imported network euro-30 has buses, carriers, generators, links, loads\n"
     ]
    },
    {
     "data": {
      "text/plain": [
       "DatetimeIndex(['2011-01-01 00:00:00', '2011-01-01 01:00:00'], dtype='datetime64[ns]', name='name', freq='H')"
      ]
     },
     "execution_count": 4,
     "metadata": {},
     "output_type": "execute_result"
    }
   ],
   "source": [
    "network.import_from_hdf5('euro-30')\n",
    "network.snapshots = network.snapshots[0:2]\n",
    "network.snapshots"
   ]
  },
  {
   "cell_type": "markdown",
   "metadata": {},
   "source": [
    "### Initial solution of network"
   ]
  },
  {
   "cell_type": "code",
   "execution_count": 5,
   "metadata": {
    "scrolled": true
   },
   "outputs": [
    {
     "name": "stderr",
     "output_type": "stream",
     "text": [
      "INFO:pypsa.pf:Slack bus for sub-network 0 is My bus 0\n",
      "INFO:pypsa.pf:Slack bus for sub-network 1 is AT\n",
      "INFO:pypsa.pf:Slack bus for sub-network 2 is BA\n",
      "INFO:pypsa.pf:Slack bus for sub-network 3 is BE\n",
      "INFO:pypsa.pf:Slack bus for sub-network 4 is BG\n",
      "INFO:pypsa.pf:Slack bus for sub-network 5 is CH\n",
      "INFO:pypsa.pf:Slack bus for sub-network 6 is CZ\n",
      "INFO:pypsa.pf:Slack bus for sub-network 7 is DE\n",
      "INFO:pypsa.pf:Slack bus for sub-network 8 is DK\n",
      "INFO:pypsa.pf:Slack bus for sub-network 9 is EE\n",
      "INFO:pypsa.pf:Slack bus for sub-network 10 is ES\n",
      "INFO:pypsa.pf:Slack bus for sub-network 11 is FI\n",
      "INFO:pypsa.pf:Slack bus for sub-network 12 is FR\n",
      "INFO:pypsa.pf:Slack bus for sub-network 13 is GB\n",
      "INFO:pypsa.pf:Slack bus for sub-network 14 is GR\n",
      "INFO:pypsa.pf:Slack bus for sub-network 15 is HR\n",
      "INFO:pypsa.pf:Slack bus for sub-network 16 is HU\n",
      "INFO:pypsa.pf:Slack bus for sub-network 17 is IE\n",
      "INFO:pypsa.pf:Slack bus for sub-network 18 is IT\n",
      "INFO:pypsa.pf:Slack bus for sub-network 19 is LT\n",
      "INFO:pypsa.pf:Slack bus for sub-network 20 is LU\n",
      "INFO:pypsa.pf:Slack bus for sub-network 21 is LV\n",
      "INFO:pypsa.pf:Slack bus for sub-network 22 is NL\n",
      "INFO:pypsa.pf:Slack bus for sub-network 23 is NO\n",
      "INFO:pypsa.pf:Slack bus for sub-network 24 is PL\n",
      "INFO:pypsa.pf:Slack bus for sub-network 25 is PT\n",
      "INFO:pypsa.pf:Slack bus for sub-network 26 is RO\n",
      "INFO:pypsa.pf:Slack bus for sub-network 27 is RS\n",
      "INFO:pypsa.pf:Slack bus for sub-network 28 is SE\n",
      "INFO:pypsa.pf:Slack bus for sub-network 29 is SI\n",
      "INFO:pypsa.pf:Slack bus for sub-network 30 is SK\n",
      "INFO:pypsa.opf:Performed preliminary steps\n",
      "INFO:pypsa.opf:Building pyomo model using `angles` formulation\n",
      "WARNING:pypsa.opf:The following generators have both investment optimisation and unit commitment:\n",
      "Index(['gas 0', 'gas 1', 'gas 2', 'wind 0', 'wind 1', 'wind 2', 'solar 0',\n",
      "       'solar 1', 'solar 2'],\n",
      "      dtype='object', name='name')\n",
      "Currently PyPSA cannot do both these functions, so PyPSA is choosing investment optimisation for these generators.\n",
      "INFO:pypsa.opf:Solving model using gurobi\n",
      "INFO:pypsa.opf:Optimization successful\n"
     ]
    },
    {
     "name": "stdout",
     "output_type": "stream",
     "text": [
      "# ==========================================================\n",
      "# = Solver Results                                         =\n",
      "# ==========================================================\n",
      "# ----------------------------------------------------------\n",
      "#   Problem Information\n",
      "# ----------------------------------------------------------\n",
      "Problem: \n",
      "- Name: x655\n",
      "  Lower bound: 16421323022.048317\n",
      "  Upper bound: 16421323022.048317\n",
      "  Number of objectives: 1\n",
      "  Number of constraints: 919\n",
      "  Number of variables: 655\n",
      "  Number of binary variables: 0\n",
      "  Number of integer variables: 0\n",
      "  Number of continuous variables: 655\n",
      "  Number of nonzeros: 1807\n",
      "  Sense: minimize\n",
      "# ----------------------------------------------------------\n",
      "#   Solver Information\n",
      "# ----------------------------------------------------------\n",
      "Solver: \n",
      "- Status: ok\n",
      "  Return code: 0\n",
      "  Message: Model was solved to optimality (subject to tolerances), and an optimal solution is available.\n",
      "  Termination condition: optimal\n",
      "  Termination message: Model was solved to optimality (subject to tolerances), and an optimal solution is available.\n",
      "  Wall time: 0.015621185302734375\n",
      "  Error rc: 0\n",
      "  Time: 0.35933709144592285\n",
      "# ----------------------------------------------------------\n",
      "#   Solution Information\n",
      "# ----------------------------------------------------------\n",
      "Solution: \n",
      "- number of solutions: 0\n",
      "  number of solutions displayed: 0\n"
     ]
    }
   ],
   "source": [
    "solver_options = {\n",
    "  'method': 2,\n",
    "  'threads': 8,\n",
    "  'logfile': 'solver.log',\n",
    "  'BarConvTol' : 1.e-8, #1.e-12 ###1e-8 # [0..1]\n",
    "  'crossover' : 0,   # or -1\n",
    "  'FeasibilityTol' : 1.e-6 }#1e-2 ###1e-6 # [1e-9..1e-2]\n",
    "network.lopf(network.snapshots, solver_name='gurobi',solver_options=solver_options)\n",
    "old_objective_value = network.model.objective()"
   ]
  },
  {
   "cell_type": "code",
   "execution_count": 6,
   "metadata": {},
   "outputs": [],
   "source": [
    "original_solution = [sum(network.generators[network.generators.type=='convetional'].p_nom_opt),\n",
    "                     sum(network.generators[network.generators.type=='wind'].p_nom_opt),\n",
    "                     sum(network.generators[network.generators.type=='solar'].p_nom_opt)]"
   ]
  },
  {
   "cell_type": "code",
   "execution_count": 7,
   "metadata": {},
   "outputs": [],
   "source": [
    "original_solution\n",
    "df_points = pd.DataFrame(columns=['type','feasable','ocgt','wind','solar'])\n",
    "df_points.loc[0] = ['original',True] + original_solution\n",
    "\n",
    "df_detail = pd.DataFrame(columns=network.generators.p_nom_opt.index)\n",
    "df_detail.loc[0] = list(network.generators.p_nom_opt.values)"
   ]
  },
  {
   "cell_type": "markdown",
   "metadata": {},
   "source": [
    "### Finding maximum and minimum points"
   ]
  },
  {
   "cell_type": "code",
   "execution_count": 8,
   "metadata": {},
   "outputs": [],
   "source": [
    "import pyomo.environ as pyomo_env\n",
    "# Defining exstra functionality, that updates the objective function of the network\n",
    "def maxmin_functionality(network, snapshots,  MGA_slack = 0.05, counter = 0):\n",
    "# Identify the nonzero decision variables that should enter the MGA objective function.\n",
    "\n",
    "    maxmin_objective = 0\n",
    "    variables = [gen_p for gen_p in network.model.generator_p_nom]\n",
    "\n",
    "    types = ['OCGT','wind','olar']\n",
    "    gen_p_type = [gen_p  for gen_p in variables if gen_p[-4:]==types[int(counter/2)]]\n",
    "    maxmin_objective += sum([network.model.generator_p_nom[gen_p] for gen_p in gen_p_type])\n",
    "\n",
    "    if counter%2 == 0 :\n",
    "        maxmin_objective = -maxmin_objective\n",
    "    print(maxmin_objective)\n",
    "    # Add the new MGA objective function to the model.\n",
    "    network.model.mga_objective = pyomo_env.Objective(expr=maxmin_objective)\n",
    "    # Deactivate the old objective function and activate the MGA objective function.\n",
    "    network.model.objective.deactivate()\n",
    "    network.model.mga_objective.activate()\n",
    "    # Add the MGA slack constraint.\n",
    "    #print('old objective value ',old_objective_value)\n",
    "    network.model.mga_constraint = pyomo_env.Constraint(expr=network.model.objective.expr <= \n",
    "                                          (1 + MGA_slack) * old_objective_value)"
   ]
  },
  {
   "cell_type": "code",
   "execution_count": 9,
   "metadata": {},
   "outputs": [
    {
     "name": "stderr",
     "output_type": "stream",
     "text": [
      "INFO:pypsa.pf:Slack bus for sub-network 0 is My bus 0\n",
      "INFO:pypsa.pf:Slack bus for sub-network 1 is AT\n",
      "INFO:pypsa.pf:Slack bus for sub-network 2 is BA\n",
      "INFO:pypsa.pf:Slack bus for sub-network 3 is BE\n",
      "INFO:pypsa.pf:Slack bus for sub-network 4 is BG\n",
      "INFO:pypsa.pf:Slack bus for sub-network 5 is CH\n",
      "INFO:pypsa.pf:Slack bus for sub-network 6 is CZ\n",
      "INFO:pypsa.pf:Slack bus for sub-network 7 is DE\n",
      "INFO:pypsa.pf:Slack bus for sub-network 8 is DK\n",
      "INFO:pypsa.pf:Slack bus for sub-network 9 is EE\n",
      "INFO:pypsa.pf:Slack bus for sub-network 10 is ES\n",
      "INFO:pypsa.pf:Slack bus for sub-network 11 is FI\n",
      "INFO:pypsa.pf:Slack bus for sub-network 12 is FR\n",
      "INFO:pypsa.pf:Slack bus for sub-network 13 is GB\n",
      "INFO:pypsa.pf:Slack bus for sub-network 14 is GR\n",
      "INFO:pypsa.pf:Slack bus for sub-network 15 is HR\n",
      "INFO:pypsa.pf:Slack bus for sub-network 16 is HU\n",
      "INFO:pypsa.pf:Slack bus for sub-network 17 is IE\n",
      "INFO:pypsa.pf:Slack bus for sub-network 18 is IT\n",
      "INFO:pypsa.pf:Slack bus for sub-network 19 is LT\n",
      "INFO:pypsa.pf:Slack bus for sub-network 20 is LU\n",
      "INFO:pypsa.pf:Slack bus for sub-network 21 is LV\n",
      "INFO:pypsa.pf:Slack bus for sub-network 22 is NL\n",
      "INFO:pypsa.pf:Slack bus for sub-network 23 is NO\n",
      "INFO:pypsa.pf:Slack bus for sub-network 24 is PL\n",
      "INFO:pypsa.pf:Slack bus for sub-network 25 is PT\n",
      "INFO:pypsa.pf:Slack bus for sub-network 26 is RO\n",
      "INFO:pypsa.pf:Slack bus for sub-network 27 is RS\n",
      "INFO:pypsa.pf:Slack bus for sub-network 28 is SE\n",
      "INFO:pypsa.pf:Slack bus for sub-network 29 is SI\n",
      "INFO:pypsa.pf:Slack bus for sub-network 30 is SK\n",
      "INFO:pypsa.opf:Performed preliminary steps\n",
      "INFO:pypsa.opf:Building pyomo model using `angles` formulation\n",
      "WARNING:pypsa.opf:The following generators have both investment optimisation and unit commitment:\n",
      "Index(['gas 0', 'gas 1', 'gas 2', 'wind 0', 'wind 1', 'wind 2', 'solar 0',\n",
      "       'solar 1', 'solar 2'],\n",
      "      dtype='object', name='name')\n",
      "Currently PyPSA cannot do both these functions, so PyPSA is choosing investment optimisation for these generators.\n",
      "INFO:pypsa.opf:Solving model using gurobi\n"
     ]
    },
    {
     "name": "stdout",
     "output_type": "stream",
     "text": [
      "- (generator_p_nom[AT OCGT] + generator_p_nom[BA OCGT] + generator_p_nom[BE OCGT] + generator_p_nom[BG OCGT] + generator_p_nom[CH OCGT] + generator_p_nom[CZ OCGT] + generator_p_nom[DE OCGT] + generator_p_nom[DK OCGT] + generator_p_nom[EE OCGT] + generator_p_nom[ES OCGT] + generator_p_nom[FI OCGT] + generator_p_nom[FR OCGT] + generator_p_nom[GB OCGT] + generator_p_nom[GR OCGT] + generator_p_nom[HR OCGT] + generator_p_nom[HU OCGT] + generator_p_nom[IE OCGT] + generator_p_nom[IT OCGT] + generator_p_nom[LT OCGT] + generator_p_nom[LU OCGT] + generator_p_nom[LV OCGT] + generator_p_nom[NL OCGT] + generator_p_nom[NO OCGT] + generator_p_nom[PL OCGT] + generator_p_nom[PT OCGT] + generator_p_nom[RO OCGT] + generator_p_nom[RS OCGT] + generator_p_nom[SE OCGT] + generator_p_nom[SI OCGT] + generator_p_nom[SK OCGT])\n"
     ]
    },
    {
     "name": "stderr",
     "output_type": "stream",
     "text": [
      "INFO:pypsa.opf:Optimization successful\n"
     ]
    },
    {
     "name": "stdout",
     "output_type": "stream",
     "text": [
      "# ==========================================================\n",
      "# = Solver Results                                         =\n",
      "# ==========================================================\n",
      "# ----------------------------------------------------------\n",
      "#   Problem Information\n",
      "# ----------------------------------------------------------\n",
      "Problem: \n",
      "- Name: x655\n",
      "  Lower bound: -381561.78331550426\n",
      "  Upper bound: -381561.78331550426\n",
      "  Number of objectives: 1\n",
      "  Number of constraints: 920\n",
      "  Number of variables: 655\n",
      "  Number of binary variables: 0\n",
      "  Number of integer variables: 0\n",
      "  Number of continuous variables: 655\n",
      "  Number of nonzeros: 2273\n",
      "  Sense: minimize\n",
      "# ----------------------------------------------------------\n",
      "#   Solver Information\n",
      "# ----------------------------------------------------------\n",
      "Solver: \n",
      "- Status: ok\n",
      "  Return code: 0\n",
      "  Message: Model was solved to optimality (subject to tolerances), and an optimal solution is available.\n",
      "  Termination condition: optimal\n",
      "  Termination message: Model was solved to optimality (subject to tolerances), and an optimal solution is available.\n",
      "  Wall time: 0.031244277954101562\n",
      "  Error rc: 0\n",
      "  Time: 0.36879825592041016\n",
      "# ----------------------------------------------------------\n",
      "#   Solution Information\n",
      "# ----------------------------------------------------------\n",
      "Solution: \n",
      "- number of solutions: 0\n",
      "  number of solutions displayed: 0\n"
     ]
    },
    {
     "name": "stderr",
     "output_type": "stream",
     "text": [
      "INFO:pypsa.pf:Slack bus for sub-network 0 is My bus 0\n",
      "INFO:pypsa.pf:Slack bus for sub-network 1 is AT\n",
      "INFO:pypsa.pf:Slack bus for sub-network 2 is BA\n",
      "INFO:pypsa.pf:Slack bus for sub-network 3 is BE\n",
      "INFO:pypsa.pf:Slack bus for sub-network 4 is BG\n",
      "INFO:pypsa.pf:Slack bus for sub-network 5 is CH\n",
      "INFO:pypsa.pf:Slack bus for sub-network 6 is CZ\n",
      "INFO:pypsa.pf:Slack bus for sub-network 7 is DE\n",
      "INFO:pypsa.pf:Slack bus for sub-network 8 is DK\n",
      "INFO:pypsa.pf:Slack bus for sub-network 9 is EE\n",
      "INFO:pypsa.pf:Slack bus for sub-network 10 is ES\n",
      "INFO:pypsa.pf:Slack bus for sub-network 11 is FI\n",
      "INFO:pypsa.pf:Slack bus for sub-network 12 is FR\n",
      "INFO:pypsa.pf:Slack bus for sub-network 13 is GB\n",
      "INFO:pypsa.pf:Slack bus for sub-network 14 is GR\n",
      "INFO:pypsa.pf:Slack bus for sub-network 15 is HR\n",
      "INFO:pypsa.pf:Slack bus for sub-network 16 is HU\n",
      "INFO:pypsa.pf:Slack bus for sub-network 17 is IE\n",
      "INFO:pypsa.pf:Slack bus for sub-network 18 is IT\n",
      "INFO:pypsa.pf:Slack bus for sub-network 19 is LT\n",
      "INFO:pypsa.pf:Slack bus for sub-network 20 is LU\n",
      "INFO:pypsa.pf:Slack bus for sub-network 21 is LV\n",
      "INFO:pypsa.pf:Slack bus for sub-network 22 is NL\n",
      "INFO:pypsa.pf:Slack bus for sub-network 23 is NO\n",
      "INFO:pypsa.pf:Slack bus for sub-network 24 is PL\n",
      "INFO:pypsa.pf:Slack bus for sub-network 25 is PT\n",
      "INFO:pypsa.pf:Slack bus for sub-network 26 is RO\n",
      "INFO:pypsa.pf:Slack bus for sub-network 27 is RS\n",
      "INFO:pypsa.pf:Slack bus for sub-network 28 is SE\n",
      "INFO:pypsa.pf:Slack bus for sub-network 29 is SI\n",
      "INFO:pypsa.pf:Slack bus for sub-network 30 is SK\n",
      "INFO:pypsa.opf:Performed preliminary steps\n",
      "INFO:pypsa.opf:Building pyomo model using `angles` formulation\n",
      "WARNING:pypsa.opf:The following generators have both investment optimisation and unit commitment:\n",
      "Index(['gas 0', 'gas 1', 'gas 2', 'wind 0', 'wind 1', 'wind 2', 'solar 0',\n",
      "       'solar 1', 'solar 2'],\n",
      "      dtype='object', name='name')\n",
      "Currently PyPSA cannot do both these functions, so PyPSA is choosing investment optimisation for these generators.\n",
      "INFO:pypsa.opf:Solving model using gurobi\n"
     ]
    },
    {
     "name": "stdout",
     "output_type": "stream",
     "text": [
      "generator_p_nom[AT OCGT] + generator_p_nom[BA OCGT] + generator_p_nom[BE OCGT] + generator_p_nom[BG OCGT] + generator_p_nom[CH OCGT] + generator_p_nom[CZ OCGT] + generator_p_nom[DE OCGT] + generator_p_nom[DK OCGT] + generator_p_nom[EE OCGT] + generator_p_nom[ES OCGT] + generator_p_nom[FI OCGT] + generator_p_nom[FR OCGT] + generator_p_nom[GB OCGT] + generator_p_nom[GR OCGT] + generator_p_nom[HR OCGT] + generator_p_nom[HU OCGT] + generator_p_nom[IE OCGT] + generator_p_nom[IT OCGT] + generator_p_nom[LT OCGT] + generator_p_nom[LU OCGT] + generator_p_nom[LV OCGT] + generator_p_nom[NL OCGT] + generator_p_nom[NO OCGT] + generator_p_nom[PL OCGT] + generator_p_nom[PT OCGT] + generator_p_nom[RO OCGT] + generator_p_nom[RS OCGT] + generator_p_nom[SE OCGT] + generator_p_nom[SI OCGT] + generator_p_nom[SK OCGT]\n"
     ]
    },
    {
     "name": "stderr",
     "output_type": "stream",
     "text": [
      "INFO:pypsa.opf:Optimization successful\n"
     ]
    },
    {
     "name": "stdout",
     "output_type": "stream",
     "text": [
      "# ==========================================================\n",
      "# = Solver Results                                         =\n",
      "# ==========================================================\n",
      "# ----------------------------------------------------------\n",
      "#   Problem Information\n",
      "# ----------------------------------------------------------\n",
      "Problem: \n",
      "- Name: x655\n",
      "  Lower bound: 328906.64671719697\n",
      "  Upper bound: 328906.64671719697\n",
      "  Number of objectives: 1\n",
      "  Number of constraints: 920\n",
      "  Number of variables: 655\n",
      "  Number of binary variables: 0\n",
      "  Number of integer variables: 0\n",
      "  Number of continuous variables: 655\n",
      "  Number of nonzeros: 2273\n",
      "  Sense: minimize\n",
      "# ----------------------------------------------------------\n",
      "#   Solver Information\n",
      "# ----------------------------------------------------------\n",
      "Solver: \n",
      "- Status: ok\n",
      "  Return code: 0\n",
      "  Message: Model was solved to optimality (subject to tolerances), and an optimal solution is available.\n",
      "  Termination condition: optimal\n",
      "  Termination message: Model was solved to optimality (subject to tolerances), and an optimal solution is available.\n",
      "  Wall time: 0.015607833862304688\n",
      "  Error rc: 0\n",
      "  Time: 0.34371089935302734\n",
      "# ----------------------------------------------------------\n",
      "#   Solution Information\n",
      "# ----------------------------------------------------------\n",
      "Solution: \n",
      "- number of solutions: 0\n",
      "  number of solutions displayed: 0\n"
     ]
    },
    {
     "name": "stderr",
     "output_type": "stream",
     "text": [
      "INFO:pypsa.pf:Slack bus for sub-network 0 is My bus 0\n",
      "INFO:pypsa.pf:Slack bus for sub-network 1 is AT\n",
      "INFO:pypsa.pf:Slack bus for sub-network 2 is BA\n",
      "INFO:pypsa.pf:Slack bus for sub-network 3 is BE\n",
      "INFO:pypsa.pf:Slack bus for sub-network 4 is BG\n",
      "INFO:pypsa.pf:Slack bus for sub-network 5 is CH\n",
      "INFO:pypsa.pf:Slack bus for sub-network 6 is CZ\n",
      "INFO:pypsa.pf:Slack bus for sub-network 7 is DE\n",
      "INFO:pypsa.pf:Slack bus for sub-network 8 is DK\n",
      "INFO:pypsa.pf:Slack bus for sub-network 9 is EE\n",
      "INFO:pypsa.pf:Slack bus for sub-network 10 is ES\n",
      "INFO:pypsa.pf:Slack bus for sub-network 11 is FI\n",
      "INFO:pypsa.pf:Slack bus for sub-network 12 is FR\n",
      "INFO:pypsa.pf:Slack bus for sub-network 13 is GB\n",
      "INFO:pypsa.pf:Slack bus for sub-network 14 is GR\n",
      "INFO:pypsa.pf:Slack bus for sub-network 15 is HR\n",
      "INFO:pypsa.pf:Slack bus for sub-network 16 is HU\n",
      "INFO:pypsa.pf:Slack bus for sub-network 17 is IE\n",
      "INFO:pypsa.pf:Slack bus for sub-network 18 is IT\n",
      "INFO:pypsa.pf:Slack bus for sub-network 19 is LT\n",
      "INFO:pypsa.pf:Slack bus for sub-network 20 is LU\n",
      "INFO:pypsa.pf:Slack bus for sub-network 21 is LV\n",
      "INFO:pypsa.pf:Slack bus for sub-network 22 is NL\n",
      "INFO:pypsa.pf:Slack bus for sub-network 23 is NO\n",
      "INFO:pypsa.pf:Slack bus for sub-network 24 is PL\n",
      "INFO:pypsa.pf:Slack bus for sub-network 25 is PT\n",
      "INFO:pypsa.pf:Slack bus for sub-network 26 is RO\n",
      "INFO:pypsa.pf:Slack bus for sub-network 27 is RS\n",
      "INFO:pypsa.pf:Slack bus for sub-network 28 is SE\n",
      "INFO:pypsa.pf:Slack bus for sub-network 29 is SI\n",
      "INFO:pypsa.pf:Slack bus for sub-network 30 is SK\n",
      "INFO:pypsa.opf:Performed preliminary steps\n",
      "INFO:pypsa.opf:Building pyomo model using `angles` formulation\n",
      "WARNING:pypsa.opf:The following generators have both investment optimisation and unit commitment:\n",
      "Index(['gas 0', 'gas 1', 'gas 2', 'wind 0', 'wind 1', 'wind 2', 'solar 0',\n",
      "       'solar 1', 'solar 2'],\n",
      "      dtype='object', name='name')\n",
      "Currently PyPSA cannot do both these functions, so PyPSA is choosing investment optimisation for these generators.\n",
      "INFO:pypsa.opf:Solving model using gurobi\n"
     ]
    },
    {
     "name": "stdout",
     "output_type": "stream",
     "text": [
      "- (generator_p_nom[AT onwind] + generator_p_nom[BA onwind] + generator_p_nom[BE onwind] + generator_p_nom[BE offwind] + generator_p_nom[BG onwind] + generator_p_nom[BG offwind] + generator_p_nom[CH onwind] + generator_p_nom[CZ onwind] + generator_p_nom[DE0 onwind] + generator_p_nom[DE1 onwind] + generator_p_nom[DE2 onwind] + generator_p_nom[DE offwind] + generator_p_nom[DK onwind] + generator_p_nom[DK offwind] + generator_p_nom[EE onwind] + generator_p_nom[EE offwind] + generator_p_nom[ES0 onwind] + generator_p_nom[ES1 onwind] + generator_p_nom[ES2 onwind] + generator_p_nom[ES3 onwind] + generator_p_nom[ES offwind] + generator_p_nom[FI0 onwind] + generator_p_nom[FI1 onwind] + generator_p_nom[FI2 onwind] + generator_p_nom[FI offwind] + generator_p_nom[FR0 onwind] + generator_p_nom[FR1 onwind] + generator_p_nom[FR2 onwind] + generator_p_nom[FR3 onwind] + generator_p_nom[FR offwind] + generator_p_nom[GB0 onwind] + generator_p_nom[GB1 onwind] + generator_p_nom[GB offwind] + generator_p_nom[GR onwind] + generator_p_nom[GR offwind] + generator_p_nom[HR onwind] + generator_p_nom[HR offwind] + generator_p_nom[HU onwind] + generator_p_nom[IE onwind] + generator_p_nom[IE offwind] + generator_p_nom[IT0 onwind] + generator_p_nom[IT1 onwind] + generator_p_nom[IT2 onwind] + generator_p_nom[IT offwind] + generator_p_nom[LT onwind] + generator_p_nom[LT offwind] + generator_p_nom[LU onwind] + generator_p_nom[LV onwind] + generator_p_nom[LV offwind] + generator_p_nom[NL onwind] + generator_p_nom[NL offwind] + generator_p_nom[NO0 onwind] + generator_p_nom[NO1 onwind] + generator_p_nom[NO2 onwind] + generator_p_nom[NO offwind] + generator_p_nom[PL0 onwind] + generator_p_nom[PL1 onwind] + generator_p_nom[PL2 onwind] + generator_p_nom[PL offwind] + generator_p_nom[PT onwind] + generator_p_nom[PT offwind] + generator_p_nom[RO0 onwind] + generator_p_nom[RO1 onwind] + generator_p_nom[RO offwind] + generator_p_nom[RS onwind] + generator_p_nom[SE0 onwind] + generator_p_nom[SE1 onwind] + generator_p_nom[SE2 onwind] + generator_p_nom[SE3 onwind] + generator_p_nom[SE offwind] + generator_p_nom[SI onwind] + generator_p_nom[SK onwind])\n"
     ]
    },
    {
     "name": "stderr",
     "output_type": "stream",
     "text": [
      "INFO:pypsa.opf:Optimization successful\n"
     ]
    },
    {
     "name": "stdout",
     "output_type": "stream",
     "text": [
      "# ==========================================================\n",
      "# = Solver Results                                         =\n",
      "# ==========================================================\n",
      "# ----------------------------------------------------------\n",
      "#   Problem Information\n",
      "# ----------------------------------------------------------\n",
      "Problem: \n",
      "- Name: x655\n",
      "  Lower bound: -18239.514751477614\n",
      "  Upper bound: -18239.514751477614\n",
      "  Number of objectives: 1\n",
      "  Number of constraints: 920\n",
      "  Number of variables: 655\n",
      "  Number of binary variables: 0\n",
      "  Number of integer variables: 0\n",
      "  Number of continuous variables: 655\n",
      "  Number of nonzeros: 2273\n",
      "  Sense: minimize\n",
      "# ----------------------------------------------------------\n",
      "#   Solver Information\n",
      "# ----------------------------------------------------------\n",
      "Solver: \n",
      "- Status: ok\n",
      "  Return code: 0\n",
      "  Message: Model was solved to optimality (subject to tolerances), and an optimal solution is available.\n",
      "  Termination condition: optimal\n",
      "  Termination message: Model was solved to optimality (subject to tolerances), and an optimal solution is available.\n",
      "  Wall time: 0.015623092651367188\n",
      "  Error rc: 0\n",
      "  Time: 0.34371209144592285\n",
      "# ----------------------------------------------------------\n",
      "#   Solution Information\n",
      "# ----------------------------------------------------------\n",
      "Solution: \n",
      "- number of solutions: 0\n",
      "  number of solutions displayed: 0\n"
     ]
    },
    {
     "name": "stderr",
     "output_type": "stream",
     "text": [
      "INFO:pypsa.pf:Slack bus for sub-network 0 is My bus 0\n",
      "INFO:pypsa.pf:Slack bus for sub-network 1 is AT\n",
      "INFO:pypsa.pf:Slack bus for sub-network 2 is BA\n",
      "INFO:pypsa.pf:Slack bus for sub-network 3 is BE\n",
      "INFO:pypsa.pf:Slack bus for sub-network 4 is BG\n",
      "INFO:pypsa.pf:Slack bus for sub-network 5 is CH\n",
      "INFO:pypsa.pf:Slack bus for sub-network 6 is CZ\n",
      "INFO:pypsa.pf:Slack bus for sub-network 7 is DE\n",
      "INFO:pypsa.pf:Slack bus for sub-network 8 is DK\n",
      "INFO:pypsa.pf:Slack bus for sub-network 9 is EE\n",
      "INFO:pypsa.pf:Slack bus for sub-network 10 is ES\n",
      "INFO:pypsa.pf:Slack bus for sub-network 11 is FI\n",
      "INFO:pypsa.pf:Slack bus for sub-network 12 is FR\n",
      "INFO:pypsa.pf:Slack bus for sub-network 13 is GB\n",
      "INFO:pypsa.pf:Slack bus for sub-network 14 is GR\n",
      "INFO:pypsa.pf:Slack bus for sub-network 15 is HR\n",
      "INFO:pypsa.pf:Slack bus for sub-network 16 is HU\n",
      "INFO:pypsa.pf:Slack bus for sub-network 17 is IE\n",
      "INFO:pypsa.pf:Slack bus for sub-network 18 is IT\n",
      "INFO:pypsa.pf:Slack bus for sub-network 19 is LT\n",
      "INFO:pypsa.pf:Slack bus for sub-network 20 is LU\n",
      "INFO:pypsa.pf:Slack bus for sub-network 21 is LV\n",
      "INFO:pypsa.pf:Slack bus for sub-network 22 is NL\n",
      "INFO:pypsa.pf:Slack bus for sub-network 23 is NO\n",
      "INFO:pypsa.pf:Slack bus for sub-network 24 is PL\n",
      "INFO:pypsa.pf:Slack bus for sub-network 25 is PT\n",
      "INFO:pypsa.pf:Slack bus for sub-network 26 is RO\n",
      "INFO:pypsa.pf:Slack bus for sub-network 27 is RS\n",
      "INFO:pypsa.pf:Slack bus for sub-network 28 is SE\n",
      "INFO:pypsa.pf:Slack bus for sub-network 29 is SI\n",
      "INFO:pypsa.pf:Slack bus for sub-network 30 is SK\n",
      "INFO:pypsa.opf:Performed preliminary steps\n",
      "INFO:pypsa.opf:Building pyomo model using `angles` formulation\n",
      "WARNING:pypsa.opf:The following generators have both investment optimisation and unit commitment:\n",
      "Index(['gas 0', 'gas 1', 'gas 2', 'wind 0', 'wind 1', 'wind 2', 'solar 0',\n",
      "       'solar 1', 'solar 2'],\n",
      "      dtype='object', name='name')\n",
      "Currently PyPSA cannot do both these functions, so PyPSA is choosing investment optimisation for these generators.\n",
      "INFO:pypsa.opf:Solving model using gurobi\n"
     ]
    },
    {
     "name": "stdout",
     "output_type": "stream",
     "text": [
      "generator_p_nom[AT onwind] + generator_p_nom[BA onwind] + generator_p_nom[BE onwind] + generator_p_nom[BE offwind] + generator_p_nom[BG onwind] + generator_p_nom[BG offwind] + generator_p_nom[CH onwind] + generator_p_nom[CZ onwind] + generator_p_nom[DE0 onwind] + generator_p_nom[DE1 onwind] + generator_p_nom[DE2 onwind] + generator_p_nom[DE offwind] + generator_p_nom[DK onwind] + generator_p_nom[DK offwind] + generator_p_nom[EE onwind] + generator_p_nom[EE offwind] + generator_p_nom[ES0 onwind] + generator_p_nom[ES1 onwind] + generator_p_nom[ES2 onwind] + generator_p_nom[ES3 onwind] + generator_p_nom[ES offwind] + generator_p_nom[FI0 onwind] + generator_p_nom[FI1 onwind] + generator_p_nom[FI2 onwind] + generator_p_nom[FI offwind] + generator_p_nom[FR0 onwind] + generator_p_nom[FR1 onwind] + generator_p_nom[FR2 onwind] + generator_p_nom[FR3 onwind] + generator_p_nom[FR offwind] + generator_p_nom[GB0 onwind] + generator_p_nom[GB1 onwind] + generator_p_nom[GB offwind] + generator_p_nom[GR onwind] + generator_p_nom[GR offwind] + generator_p_nom[HR onwind] + generator_p_nom[HR offwind] + generator_p_nom[HU onwind] + generator_p_nom[IE onwind] + generator_p_nom[IE offwind] + generator_p_nom[IT0 onwind] + generator_p_nom[IT1 onwind] + generator_p_nom[IT2 onwind] + generator_p_nom[IT offwind] + generator_p_nom[LT onwind] + generator_p_nom[LT offwind] + generator_p_nom[LU onwind] + generator_p_nom[LV onwind] + generator_p_nom[LV offwind] + generator_p_nom[NL onwind] + generator_p_nom[NL offwind] + generator_p_nom[NO0 onwind] + generator_p_nom[NO1 onwind] + generator_p_nom[NO2 onwind] + generator_p_nom[NO offwind] + generator_p_nom[PL0 onwind] + generator_p_nom[PL1 onwind] + generator_p_nom[PL2 onwind] + generator_p_nom[PL offwind] + generator_p_nom[PT onwind] + generator_p_nom[PT offwind] + generator_p_nom[RO0 onwind] + generator_p_nom[RO1 onwind] + generator_p_nom[RO offwind] + generator_p_nom[RS onwind] + generator_p_nom[SE0 onwind] + generator_p_nom[SE1 onwind] + generator_p_nom[SE2 onwind] + generator_p_nom[SE3 onwind] + generator_p_nom[SE offwind] + generator_p_nom[SI onwind] + generator_p_nom[SK onwind]\n"
     ]
    },
    {
     "name": "stderr",
     "output_type": "stream",
     "text": [
      "INFO:pypsa.opf:Optimization successful\n"
     ]
    },
    {
     "name": "stdout",
     "output_type": "stream",
     "text": [
      "# ==========================================================\n",
      "# = Solver Results                                         =\n",
      "# ==========================================================\n",
      "# ----------------------------------------------------------\n",
      "#   Problem Information\n",
      "# ----------------------------------------------------------\n",
      "Problem: \n",
      "- Name: x655\n",
      "  Lower bound: 3.197725627490476e-11\n",
      "  Upper bound: 3.197725627490476e-11\n",
      "  Number of objectives: 1\n",
      "  Number of constraints: 920\n",
      "  Number of variables: 655\n",
      "  Number of binary variables: 0\n",
      "  Number of integer variables: 0\n",
      "  Number of continuous variables: 655\n",
      "  Number of nonzeros: 2273\n",
      "  Sense: minimize\n",
      "# ----------------------------------------------------------\n",
      "#   Solver Information\n",
      "# ----------------------------------------------------------\n",
      "Solver: \n",
      "- Status: ok\n",
      "  Return code: 0\n",
      "  Message: Model was solved to optimality (subject to tolerances), and an optimal solution is available.\n",
      "  Termination condition: optimal\n",
      "  Termination message: Model was solved to optimality (subject to tolerances), and an optimal solution is available.\n",
      "  Wall time: 0.015621185302734375\n",
      "  Error rc: 0\n",
      "  Time: 0.34372448921203613\n",
      "# ----------------------------------------------------------\n",
      "#   Solution Information\n",
      "# ----------------------------------------------------------\n",
      "Solution: \n",
      "- number of solutions: 0\n",
      "  number of solutions displayed: 0\n"
     ]
    },
    {
     "name": "stderr",
     "output_type": "stream",
     "text": [
      "INFO:pypsa.pf:Slack bus for sub-network 0 is My bus 0\n",
      "INFO:pypsa.pf:Slack bus for sub-network 1 is AT\n",
      "INFO:pypsa.pf:Slack bus for sub-network 2 is BA\n",
      "INFO:pypsa.pf:Slack bus for sub-network 3 is BE\n",
      "INFO:pypsa.pf:Slack bus for sub-network 4 is BG\n",
      "INFO:pypsa.pf:Slack bus for sub-network 5 is CH\n",
      "INFO:pypsa.pf:Slack bus for sub-network 6 is CZ\n",
      "INFO:pypsa.pf:Slack bus for sub-network 7 is DE\n",
      "INFO:pypsa.pf:Slack bus for sub-network 8 is DK\n",
      "INFO:pypsa.pf:Slack bus for sub-network 9 is EE\n",
      "INFO:pypsa.pf:Slack bus for sub-network 10 is ES\n",
      "INFO:pypsa.pf:Slack bus for sub-network 11 is FI\n",
      "INFO:pypsa.pf:Slack bus for sub-network 12 is FR\n",
      "INFO:pypsa.pf:Slack bus for sub-network 13 is GB\n",
      "INFO:pypsa.pf:Slack bus for sub-network 14 is GR\n",
      "INFO:pypsa.pf:Slack bus for sub-network 15 is HR\n",
      "INFO:pypsa.pf:Slack bus for sub-network 16 is HU\n",
      "INFO:pypsa.pf:Slack bus for sub-network 17 is IE\n",
      "INFO:pypsa.pf:Slack bus for sub-network 18 is IT\n",
      "INFO:pypsa.pf:Slack bus for sub-network 19 is LT\n",
      "INFO:pypsa.pf:Slack bus for sub-network 20 is LU\n",
      "INFO:pypsa.pf:Slack bus for sub-network 21 is LV\n",
      "INFO:pypsa.pf:Slack bus for sub-network 22 is NL\n",
      "INFO:pypsa.pf:Slack bus for sub-network 23 is NO\n",
      "INFO:pypsa.pf:Slack bus for sub-network 24 is PL\n",
      "INFO:pypsa.pf:Slack bus for sub-network 25 is PT\n",
      "INFO:pypsa.pf:Slack bus for sub-network 26 is RO\n",
      "INFO:pypsa.pf:Slack bus for sub-network 27 is RS\n",
      "INFO:pypsa.pf:Slack bus for sub-network 28 is SE\n",
      "INFO:pypsa.pf:Slack bus for sub-network 29 is SI\n",
      "INFO:pypsa.pf:Slack bus for sub-network 30 is SK\n",
      "INFO:pypsa.opf:Performed preliminary steps\n",
      "INFO:pypsa.opf:Building pyomo model using `angles` formulation\n",
      "WARNING:pypsa.opf:The following generators have both investment optimisation and unit commitment:\n",
      "Index(['gas 0', 'gas 1', 'gas 2', 'wind 0', 'wind 1', 'wind 2', 'solar 0',\n",
      "       'solar 1', 'solar 2'],\n",
      "      dtype='object', name='name')\n",
      "Currently PyPSA cannot do both these functions, so PyPSA is choosing investment optimisation for these generators.\n",
      "INFO:pypsa.opf:Solving model using gurobi\n"
     ]
    },
    {
     "name": "stdout",
     "output_type": "stream",
     "text": [
      "- (generator_p_nom[AT solar] + generator_p_nom[BA solar] + generator_p_nom[BE solar] + generator_p_nom[BG solar] + generator_p_nom[CH solar] + generator_p_nom[CZ solar] + generator_p_nom[DE solar] + generator_p_nom[DK solar] + generator_p_nom[EE solar] + generator_p_nom[ES solar] + generator_p_nom[FI solar] + generator_p_nom[FR solar] + generator_p_nom[GB solar] + generator_p_nom[GR solar] + generator_p_nom[HR solar] + generator_p_nom[HU solar] + generator_p_nom[IE solar] + generator_p_nom[IT solar] + generator_p_nom[LT solar] + generator_p_nom[LU solar] + generator_p_nom[LV solar] + generator_p_nom[NL solar] + generator_p_nom[NO solar] + generator_p_nom[PL solar] + generator_p_nom[PT solar] + generator_p_nom[RO solar] + generator_p_nom[RS solar] + generator_p_nom[SE solar] + generator_p_nom[SI solar] + generator_p_nom[SK solar])\n"
     ]
    },
    {
     "name": "stderr",
     "output_type": "stream",
     "text": [
      "INFO:pypsa.opf:Optimization successful\n"
     ]
    },
    {
     "name": "stdout",
     "output_type": "stream",
     "text": [
      "# ==========================================================\n",
      "# = Solver Results                                         =\n",
      "# ==========================================================\n",
      "# ----------------------------------------------------------\n",
      "#   Problem Information\n",
      "# ----------------------------------------------------------\n",
      "Problem: \n",
      "- Name: x655\n",
      "  Lower bound: -21460.289910555424\n",
      "  Upper bound: -21460.289910555424\n",
      "  Number of objectives: 1\n",
      "  Number of constraints: 920\n",
      "  Number of variables: 655\n",
      "  Number of binary variables: 0\n",
      "  Number of integer variables: 0\n",
      "  Number of continuous variables: 655\n",
      "  Number of nonzeros: 2273\n",
      "  Sense: minimize\n",
      "# ----------------------------------------------------------\n",
      "#   Solver Information\n",
      "# ----------------------------------------------------------\n",
      "Solver: \n",
      "- Status: ok\n",
      "  Return code: 0\n",
      "  Message: Model was solved to optimality (subject to tolerances), and an optimal solution is available.\n",
      "  Termination condition: optimal\n",
      "  Termination message: Model was solved to optimality (subject to tolerances), and an optimal solution is available.\n",
      "  Wall time: 0.031248092651367188\n",
      "  Error rc: 0\n",
      "  Time: 0.3514735698699951\n",
      "# ----------------------------------------------------------\n",
      "#   Solution Information\n",
      "# ----------------------------------------------------------\n",
      "Solution: \n",
      "- number of solutions: 0\n",
      "  number of solutions displayed: 0\n"
     ]
    },
    {
     "name": "stderr",
     "output_type": "stream",
     "text": [
      "INFO:pypsa.pf:Slack bus for sub-network 0 is My bus 0\n",
      "INFO:pypsa.pf:Slack bus for sub-network 1 is AT\n",
      "INFO:pypsa.pf:Slack bus for sub-network 2 is BA\n",
      "INFO:pypsa.pf:Slack bus for sub-network 3 is BE\n",
      "INFO:pypsa.pf:Slack bus for sub-network 4 is BG\n",
      "INFO:pypsa.pf:Slack bus for sub-network 5 is CH\n",
      "INFO:pypsa.pf:Slack bus for sub-network 6 is CZ\n",
      "INFO:pypsa.pf:Slack bus for sub-network 7 is DE\n",
      "INFO:pypsa.pf:Slack bus for sub-network 8 is DK\n",
      "INFO:pypsa.pf:Slack bus for sub-network 9 is EE\n",
      "INFO:pypsa.pf:Slack bus for sub-network 10 is ES\n",
      "INFO:pypsa.pf:Slack bus for sub-network 11 is FI\n",
      "INFO:pypsa.pf:Slack bus for sub-network 12 is FR\n",
      "INFO:pypsa.pf:Slack bus for sub-network 13 is GB\n",
      "INFO:pypsa.pf:Slack bus for sub-network 14 is GR\n",
      "INFO:pypsa.pf:Slack bus for sub-network 15 is HR\n",
      "INFO:pypsa.pf:Slack bus for sub-network 16 is HU\n",
      "INFO:pypsa.pf:Slack bus for sub-network 17 is IE\n",
      "INFO:pypsa.pf:Slack bus for sub-network 18 is IT\n",
      "INFO:pypsa.pf:Slack bus for sub-network 19 is LT\n",
      "INFO:pypsa.pf:Slack bus for sub-network 20 is LU\n",
      "INFO:pypsa.pf:Slack bus for sub-network 21 is LV\n",
      "INFO:pypsa.pf:Slack bus for sub-network 22 is NL\n",
      "INFO:pypsa.pf:Slack bus for sub-network 23 is NO\n",
      "INFO:pypsa.pf:Slack bus for sub-network 24 is PL\n",
      "INFO:pypsa.pf:Slack bus for sub-network 25 is PT\n",
      "INFO:pypsa.pf:Slack bus for sub-network 26 is RO\n",
      "INFO:pypsa.pf:Slack bus for sub-network 27 is RS\n",
      "INFO:pypsa.pf:Slack bus for sub-network 28 is SE\n",
      "INFO:pypsa.pf:Slack bus for sub-network 29 is SI\n",
      "INFO:pypsa.pf:Slack bus for sub-network 30 is SK\n",
      "INFO:pypsa.opf:Performed preliminary steps\n",
      "INFO:pypsa.opf:Building pyomo model using `angles` formulation\n",
      "WARNING:pypsa.opf:The following generators have both investment optimisation and unit commitment:\n",
      "Index(['gas 0', 'gas 1', 'gas 2', 'wind 0', 'wind 1', 'wind 2', 'solar 0',\n",
      "       'solar 1', 'solar 2'],\n",
      "      dtype='object', name='name')\n",
      "Currently PyPSA cannot do both these functions, so PyPSA is choosing investment optimisation for these generators.\n",
      "INFO:pypsa.opf:Solving model using gurobi\n"
     ]
    },
    {
     "name": "stdout",
     "output_type": "stream",
     "text": [
      "generator_p_nom[AT solar] + generator_p_nom[BA solar] + generator_p_nom[BE solar] + generator_p_nom[BG solar] + generator_p_nom[CH solar] + generator_p_nom[CZ solar] + generator_p_nom[DE solar] + generator_p_nom[DK solar] + generator_p_nom[EE solar] + generator_p_nom[ES solar] + generator_p_nom[FI solar] + generator_p_nom[FR solar] + generator_p_nom[GB solar] + generator_p_nom[GR solar] + generator_p_nom[HR solar] + generator_p_nom[HU solar] + generator_p_nom[IE solar] + generator_p_nom[IT solar] + generator_p_nom[LT solar] + generator_p_nom[LU solar] + generator_p_nom[LV solar] + generator_p_nom[NL solar] + generator_p_nom[NO solar] + generator_p_nom[PL solar] + generator_p_nom[PT solar] + generator_p_nom[RO solar] + generator_p_nom[RS solar] + generator_p_nom[SE solar] + generator_p_nom[SI solar] + generator_p_nom[SK solar]\n"
     ]
    },
    {
     "name": "stderr",
     "output_type": "stream",
     "text": [
      "INFO:pypsa.opf:Optimization successful\n"
     ]
    },
    {
     "name": "stdout",
     "output_type": "stream",
     "text": [
      "# ==========================================================\n",
      "# = Solver Results                                         =\n",
      "# ==========================================================\n",
      "# ----------------------------------------------------------\n",
      "#   Problem Information\n",
      "# ----------------------------------------------------------\n",
      "Problem: \n",
      "- Name: x655\n",
      "  Lower bound: 0.0\n",
      "  Upper bound: 0.0\n",
      "  Number of objectives: 1\n",
      "  Number of constraints: 920\n",
      "  Number of variables: 655\n",
      "  Number of binary variables: 0\n",
      "  Number of integer variables: 0\n",
      "  Number of continuous variables: 655\n",
      "  Number of nonzeros: 2273\n",
      "  Sense: minimize\n",
      "# ----------------------------------------------------------\n",
      "#   Solver Information\n",
      "# ----------------------------------------------------------\n",
      "Solver: \n",
      "- Status: ok\n",
      "  Return code: 0\n",
      "  Message: Model was solved to optimality (subject to tolerances), and an optimal solution is available.\n",
      "  Termination condition: optimal\n",
      "  Termination message: Model was solved to optimality (subject to tolerances), and an optimal solution is available.\n",
      "  Wall time: 0.015613555908203125\n",
      "  Error rc: 0\n",
      "  Time: 0.3593435287475586\n",
      "# ----------------------------------------------------------\n",
      "#   Solution Information\n",
      "# ----------------------------------------------------------\n",
      "Solution: \n",
      "- number of solutions: 0\n",
      "  number of solutions displayed: 0\n"
     ]
    }
   ],
   "source": [
    "\n",
    "MGA_slack = 0.1\n",
    "\n",
    "\n",
    "idx_l = ['max ocgt','min ocgt','max wind','min wind','max solar','min solar']\n",
    "\n",
    "for i,idx in zip(range(6),idx_l):\n",
    "    network.lopf(network.snapshots,\\\n",
    "                         solver_name='gurobi',\\\n",
    "                         extra_functionality=lambda network,\\\n",
    "                         snapshots: maxmin_functionality(network, snapshots, MGA_slack,i),\n",
    "                         solver_options=solver_options)\n",
    "    \n",
    "    df_points.loc[df_points.index.max()+1]=[idx,True,\n",
    "                                            sum(network.generators[network.generators.type=='convetional'].p_nom_opt),\n",
    "                                            sum(network.generators[network.generators.type=='wind'].p_nom_opt),\n",
    "                                            sum(network.generators[network.generators.type=='solar'].p_nom_opt)]\n",
    "    df_detail.loc[df_detail.index.max()+1]=list(network.generators.p_nom_opt.values)\n",
    "    "
   ]
  },
  {
   "cell_type": "markdown",
   "metadata": {},
   "source": [
    "### Plot of max and min points "
   ]
  },
  {
   "cell_type": "code",
   "execution_count": 10,
   "metadata": {},
   "outputs": [
    {
     "data": {
      "application/vnd.jupyter.widget-view+json": {
       "model_id": "ee1301d0b6814d0ab94b6e5190b0aa5b",
       "version_major": 2,
       "version_minor": 0
      },
      "text/plain": [
       "Canvas(toolbar=Toolbar(toolitems=[('Home', 'Reset original view', 'home', 'home'), ('Back', 'Back to previous …"
      ]
     },
     "metadata": {},
     "output_type": "display_data"
    },
    {
     "data": {
      "text/plain": [
       "Text(0.5, 0, 'solar')"
      ]
     },
     "execution_count": 10,
     "metadata": {},
     "output_type": "execute_result"
    }
   ],
   "source": [
    "%matplotlib widget\n",
    "fig = plt.figure()\n",
    "ax = fig.add_subplot(111, projection='3d')\n",
    "  \n",
    "ax.plot(df_points['ocgt'],df_points['wind'],df_points['solar'], \"go\")\n",
    "\n",
    "ax.set_xlabel('gas')\n",
    "ax.set_ylabel('wind')\n",
    "ax.set_zlabel('solar')"
   ]
  },
  {
   "cell_type": "markdown",
   "metadata": {},
   "source": [
    "### Defining functions to test individual points "
   ]
  },
  {
   "cell_type": "code",
   "execution_count": 11,
   "metadata": {},
   "outputs": [],
   "source": [
    "def in_hull(p, hull):\n",
    "    \"\"\"\n",
    "    Test if points in `p` are in `hull`\n",
    "\n",
    "    `p` should be a `NxK` coordinates of `N` points in `K` dimensions\n",
    "    `hull` is either a scipy.spatial.Delaunay object or the `MxK` array of the \n",
    "    coordinates of `M` points in `K`dimensions for which Delaunay triangulation\n",
    "    will be computed\n",
    "    \"\"\"\n",
    "    from scipy.spatial import Delaunay\n",
    "    if not isinstance(hull,Delaunay):\n",
    "        hull = Delaunay(hull)\n",
    "\n",
    "    return hull.find_simplex(p)>=0"
   ]
  },
  {
   "cell_type": "code",
   "execution_count": 12,
   "metadata": {},
   "outputs": [],
   "source": [
    "def hull_centroid(hull):\n",
    "    \n",
    "    x = np.mean(hull.points[:,0])\n",
    "    y = np.mean(hull.points[:,1])\n",
    "    z = np.mean(hull.points[:,2])\n",
    "    centroid = [x,y,z]\n",
    "    return centroid "
   ]
  },
  {
   "cell_type": "code",
   "execution_count": 13,
   "metadata": {},
   "outputs": [],
   "source": [
    "def fill_hull(df_points,hull,dens):\n",
    "\n",
    "\n",
    "    h_min = hull.min_bound\n",
    "    h_max = hull.max_bound\n",
    "    x,y,z = np.meshgrid(np.linspace(h_min[0],h_max[0],dens),np.linspace(h_min[1],h_max[1],dens),np.linspace(h_min[2],h_max[2],dens))\n",
    "    x = x.reshape((dens)**3)\n",
    "    y = y.reshape((dens)**3)\n",
    "    z = z.reshape((dens)**3)\n",
    " \n",
    "    grid = [[x_,y_,z_] for x_,y_,z_ in zip(x,y,z)]\n",
    "    new_points = [point for point in grid if all(in_hull([point],hull))]\n",
    "    new_points = np.array(new_points)\n",
    "    \n",
    "    for i in range(len(new_points)):\n",
    "        df_new = pd.DataFrame({'type':'grid','ocgt':new_points[i,0],'wind':new_points[i,1],'solar':new_points[i,2],'feasable':True},index=[1])\n",
    "        df_points = pd.concat([df_points,df_new],sort=False).fillna(0)\n",
    "        \n",
    "        \n",
    "\n",
    "    #new_points = (list(new_points)+list(hull.points))\n",
    "    \n",
    "    #hull = Delaunay(new_points,incremental=False)\n",
    "    \n",
    "    #hull.add_points(new_points,restart=False)\n",
    "\n",
    "    return df_points\n",
    "    \n",
    "                    \n",
    "    "
   ]
  },
  {
   "cell_type": "code",
   "execution_count": 14,
   "metadata": {},
   "outputs": [],
   "source": [
    "def constraint_functionality(network, snapshots,  MGA_slack = 0.05, constraint_values = [-1,-1,-1]):\n",
    "    import pyomo.environ as pyomo_env\n",
    "\n",
    "    variables = [gen_p for gen_p in network.model.generator_p_nom]\n",
    "\n",
    "    types = ['OCGT','wind','olar']\n",
    "\n",
    "    #OCGT\n",
    "    if constraint_values[0] >= 0 :\n",
    "        gen_p_type = [gen_p  for gen_p in variables if gen_p[-4:]==types[0]]\n",
    "        gas_constraint = sum([network.model.generator_p_nom[gen_p] for gen_p in gen_p_type])\n",
    "        network.model.gas_constraint = pyomo_env.Constraint(expr=gas_constraint==constraint_values[0])\n",
    "    #Wind\n",
    "    if constraint_values[1] >= 0 :\n",
    "        gen_p_type = [gen_p  for gen_p in variables if gen_p[-4:]==types[1]]\n",
    "        wind_constraint = sum([network.model.generator_p_nom[gen_p] for gen_p in gen_p_type])\n",
    "        network.model.wind_constraint = pyomo_env.Constraint(expr=wind_constraint==constraint_values[1])\n",
    "    #Solar\n",
    "    if constraint_values[2] >= 0 :\n",
    "        gen_p_type = [gen_p  for gen_p in variables if gen_p[-4:]==types[2]]\n",
    "        solar_constraint = sum([network.model.generator_p_nom[gen_p] for gen_p in gen_p_type])\n",
    "        network.model.solar_constraint = pyomo_env.Constraint(expr=solar_constraint==constraint_values[2])"
   ]
  },
  {
   "cell_type": "code",
   "execution_count": 15,
   "metadata": {},
   "outputs": [],
   "source": [
    "def test_point(network,variables):\n",
    "\n",
    "    out = network.lopf(network.snapshots,\\\n",
    "                 solver_name='gurobi',\\\n",
    "                 skip_pre=True,\\\n",
    "                 extra_functionality=lambda network,\\\n",
    "                 snapshots: constraint_functionality(network, snapshots, MGA_slack,variables),\n",
    "                 solver_options = {'threads':8});\n",
    "\n",
    "    feasable = str(network.results['Solver'].status) == 'ok' and (network.model.objective()<= (1 + MGA_slack) * old_objective_value)\n",
    "      \n",
    "    variables_out = [sum(network.generators.p_nom_opt[0:3]),sum(network.generators.p_nom_opt[3:6]),sum(network.generators.p_nom_opt[6:9])]\n",
    "    variables_out_detailed = list(network.generators.p_nom_opt)\n",
    "    \n",
    "    return(feasable,variables_out_detailed)"
   ]
  },
  {
   "cell_type": "code",
   "execution_count": 16,
   "metadata": {},
   "outputs": [],
   "source": [
    "def isBetween(a, b, c):\n",
    "    # a Feasable point \n",
    "    # b infeasable point or feasable point if between test\n",
    "    # c point to be tested\n",
    "    \n",
    "    between = True\n",
    "    outside = False\n",
    "    \n",
    "    \n",
    "    crossproduct = np.cross((b-a),(c-a))\n",
    "    \n",
    "    dotproduct = np.dot((c-a),(b-a))\n",
    "                                \n",
    "    # compare versus epsilon for floating point values, or != 0 if using integers\n",
    "    # Test if c is on same axis as a and b\n",
    "    #print(abs(crossproduct))\n",
    "    epsilon = np.sqrt(abs(dotproduct))/10\n",
    "    #print(epsilon)\n",
    "    if any(abs(crossproduct) > epsilon):\n",
    "        # c not in line with a and b\n",
    "        between =  False\n",
    "        outside = False\n",
    "        return between, outside\n",
    "    \n",
    "    if all(a == b):\n",
    "        between = False\n",
    "        outside = False\n",
    "        return between, outside      \n",
    "\n",
    "    squaredlengthba = np.linalg.norm(b-a)**2\n",
    "    #print(squaredlengthba)\n",
    "    if dotproduct > squaredlengthba:\n",
    "        between = False\n",
    "        outside = False\n",
    "        return between, outside\n",
    "    \n",
    "    #print(dotproduct)\n",
    "    # Test if point c is further away from a then point b\n",
    "    if dotproduct < 0:\n",
    "        between =  False\n",
    "        outside = True \n",
    "        return between, outside\n",
    "\n",
    "    return between, outside\n",
    "    "
   ]
  },
  {
   "cell_type": "code",
   "execution_count": 17,
   "metadata": {},
   "outputs": [],
   "source": [
    "def reshape_grid(df_points):\n",
    "\n",
    "    df_points['dist_to_mid']=np.sqrt(abs(df_points.ocgt - df_points[df_points.feasable].ocgt.mean())**2\n",
    "                                    +abs(df_points.wind - df_points[df_points.feasable].wind.mean())**2\n",
    "                                    +abs(df_points.solar - df_points[df_points.feasable].solar.mean())**2)\n",
    "\n",
    "    df_points = df_points.sort_values(by=['dist_to_mid'])\n",
    "    df_points = df_points.reset_index(drop=True)\n",
    "    \n",
    "    return df_points"
   ]
  },
  {
   "cell_type": "markdown",
   "metadata": {},
   "source": [
    "### Creating grid of points  "
   ]
  },
  {
   "cell_type": "code",
   "execution_count": 18,
   "metadata": {
    "scrolled": true
   },
   "outputs": [],
   "source": [
    "\n",
    "dens = 4\n",
    "\n",
    "gas, wind, solar  = np.meshgrid(np.linspace(df_points[df_points.type=='min ocgt'].ocgt,df_points[df_points.type=='max ocgt'].ocgt,dens),\\\n",
    "                                            np.linspace(df_points[df_points.type=='min wind'].wind,df_points[df_points.type=='max wind'].wind,dens),\\\n",
    "                                            np.linspace(df_points[df_points.type=='min solar'].solar,df_points[df_points.type=='max solar'].solar,dens))\n",
    "gas = gas.reshape((dens)**3)\n",
    "wind = wind.reshape((dens)**3)\n",
    "solar = solar.reshape((dens)**3)\n",
    "\n",
    "for i in range(len(gas)):\n",
    "    df_points.loc[df_points.index.max()+1] = ['grid',False,gas[i],wind[i],solar[i]]\n",
    "\n",
    "df_points = reshape_grid(df_points)\n"
   ]
  },
  {
   "cell_type": "code",
   "execution_count": 19,
   "metadata": {
    "scrolled": true
   },
   "outputs": [
    {
     "name": "stdout",
     "output_type": "stream",
     "text": [
      "Computation time estimate: 1.5383333333333333min\n"
     ]
    }
   ],
   "source": [
    "print('Computation time estimate: ' + str(len(df_points)*1.3/60) + 'min')"
   ]
  },
  {
   "cell_type": "markdown",
   "metadata": {},
   "source": [
    "### Computing feasable points"
   ]
  },
  {
   "cell_type": "code",
   "execution_count": 21,
   "metadata": {},
   "outputs": [],
   "source": [
    "from scipy.spatial import ConvexHull, convex_hull_plot_2d, Delaunay\n",
    "\n",
    "\n",
    "dhull = Delaunay(df_points[df_points.feasable][['ocgt','wind','solar']],incremental=True)\n",
    "\n",
    "\n",
    "simulations = 0\n",
    "\n",
    "df_points = fill_hull(df_points,dhull,10)\n"
   ]
  },
  {
   "cell_type": "code",
   "execution_count": 26,
   "metadata": {
    "scrolled": true
   },
   "outputs": [
    {
     "name": "stderr",
     "output_type": "stream",
     "text": [
      "INFO:pypsa.opf:Building pyomo model using `angles` formulation\n",
      "WARNING:pypsa.opf:The following generators have both investment optimisation and unit commitment:\n",
      "Index(['gas 0', 'gas 1', 'gas 2', 'wind 0', 'wind 1', 'wind 2', 'solar 0',\n",
      "       'solar 1', 'solar 2'],\n",
      "      dtype='object', name='name')\n",
      "Currently PyPSA cannot do both these functions, so PyPSA is choosing investment optimisation for these generators.\n",
      "INFO:pypsa.opf:Solving model using gurobi\n",
      "WARNING:pyomo.core:Loading a SolverResults object with a warning status into model=Linear Optimal Power Flow;\n",
      "    message from solver=Problem proven to be infeasible or unbounded.\n",
      "ERROR:pypsa.opf:Optimisation failed with status warning and terminal condition infeasibleOrUnbounded\n"
     ]
    },
    {
     "name": "stdout",
     "output_type": "stream",
     "text": [
      "WARNING: Loading a SolverResults object with a warning status into\n",
      "    model=Linear Optimal Power Flow;\n",
      "        message from solver=Problem proven to be infeasible or unbounded.\n",
      "# ==========================================================\n",
      "# = Solver Results                                         =\n",
      "# ==========================================================\n",
      "# ----------------------------------------------------------\n",
      "#   Problem Information\n",
      "# ----------------------------------------------------------\n",
      "Problem: \n",
      "- Name: x655\n",
      "  Lower bound: -inf\n",
      "  Upper bound: inf\n",
      "  Number of objectives: 1\n",
      "  Number of constraints: 922\n",
      "  Number of variables: 655\n",
      "  Number of binary variables: 0\n",
      "  Number of integer variables: 0\n",
      "  Number of continuous variables: 655\n",
      "  Number of nonzeros: 1939\n",
      "  Sense: minimize\n",
      "# ----------------------------------------------------------\n",
      "#   Solver Information\n",
      "# ----------------------------------------------------------\n",
      "Solver: \n",
      "- Status: warning\n",
      "  Return code: 0\n",
      "  Message: Problem proven to be infeasible or unbounded.\n",
      "  Termination condition: infeasibleOrUnbounded\n",
      "  Termination message: Problem proven to be infeasible or unbounded.\n",
      "  Wall time: 0.01563262939453125\n",
      "  Error rc: 0\n",
      "  Time: 0.3593320846557617\n"
     ]
    },
    {
     "name": "stderr",
     "output_type": "stream",
     "text": [
      "INFO:pypsa.opf:Building pyomo model using `angles` formulation\n",
      "WARNING:pypsa.opf:The following generators have both investment optimisation and unit commitment:\n",
      "Index(['gas 0', 'gas 1', 'gas 2', 'wind 0', 'wind 1', 'wind 2', 'solar 0',\n",
      "       'solar 1', 'solar 2'],\n",
      "      dtype='object', name='name')\n",
      "Currently PyPSA cannot do both these functions, so PyPSA is choosing investment optimisation for these generators.\n",
      "INFO:pypsa.opf:Solving model using gurobi\n",
      "WARNING:pyomo.core:Loading a SolverResults object with a warning status into model=Linear Optimal Power Flow;\n",
      "    message from solver=Problem proven to be infeasible or unbounded.\n",
      "ERROR:pypsa.opf:Optimisation failed with status warning and terminal condition infeasibleOrUnbounded\n"
     ]
    },
    {
     "name": "stdout",
     "output_type": "stream",
     "text": [
      "WARNING: Loading a SolverResults object with a warning status into\n",
      "    model=Linear Optimal Power Flow;\n",
      "        message from solver=Problem proven to be infeasible or unbounded.\n",
      "# ==========================================================\n",
      "# = Solver Results                                         =\n",
      "# ==========================================================\n",
      "# ----------------------------------------------------------\n",
      "#   Problem Information\n",
      "# ----------------------------------------------------------\n",
      "Problem: \n",
      "- Name: x655\n",
      "  Lower bound: -inf\n",
      "  Upper bound: inf\n",
      "  Number of objectives: 1\n",
      "  Number of constraints: 922\n",
      "  Number of variables: 655\n",
      "  Number of binary variables: 0\n",
      "  Number of integer variables: 0\n",
      "  Number of continuous variables: 655\n",
      "  Number of nonzeros: 1939\n",
      "  Sense: minimize\n",
      "# ----------------------------------------------------------\n",
      "#   Solver Information\n",
      "# ----------------------------------------------------------\n",
      "Solver: \n",
      "- Status: warning\n",
      "  Return code: 0\n",
      "  Message: Problem proven to be infeasible or unbounded.\n",
      "  Termination condition: infeasibleOrUnbounded\n",
      "  Termination message: Problem proven to be infeasible or unbounded.\n",
      "  Wall time: 0.0\n",
      "  Error rc: 0\n",
      "  Time: 0.44930148124694824\n"
     ]
    },
    {
     "name": "stderr",
     "output_type": "stream",
     "text": [
      "INFO:pypsa.opf:Building pyomo model using `angles` formulation\n",
      "WARNING:pypsa.opf:The following generators have both investment optimisation and unit commitment:\n",
      "Index(['gas 0', 'gas 1', 'gas 2', 'wind 0', 'wind 1', 'wind 2', 'solar 0',\n",
      "       'solar 1', 'solar 2'],\n",
      "      dtype='object', name='name')\n",
      "Currently PyPSA cannot do both these functions, so PyPSA is choosing investment optimisation for these generators.\n",
      "INFO:pypsa.opf:Solving model using gurobi\n",
      "INFO:pypsa.opf:Optimization successful\n"
     ]
    },
    {
     "name": "stdout",
     "output_type": "stream",
     "text": [
      "# ==========================================================\n",
      "# = Solver Results                                         =\n",
      "# ==========================================================\n",
      "# ----------------------------------------------------------\n",
      "#   Problem Information\n",
      "# ----------------------------------------------------------\n",
      "Problem: \n",
      "- Name: x655\n",
      "  Lower bound: 18609758790.938496\n",
      "  Upper bound: 18609758790.938496\n",
      "  Number of objectives: 1\n",
      "  Number of constraints: 922\n",
      "  Number of variables: 655\n",
      "  Number of binary variables: 0\n",
      "  Number of integer variables: 0\n",
      "  Number of continuous variables: 655\n",
      "  Number of nonzeros: 1939\n",
      "  Sense: minimize\n",
      "# ----------------------------------------------------------\n",
      "#   Solver Information\n",
      "# ----------------------------------------------------------\n",
      "Solver: \n",
      "- Status: ok\n",
      "  Return code: 0\n",
      "  Message: Model was solved to optimality (subject to tolerances), and an optimal solution is available.\n",
      "  Termination condition: optimal\n",
      "  Termination message: Model was solved to optimality (subject to tolerances), and an optimal solution is available.\n",
      "  Wall time: 0.015625\n",
      "  Error rc: 0\n",
      "  Time: 0.32810187339782715\n",
      "# ----------------------------------------------------------\n",
      "#   Solution Information\n",
      "# ----------------------------------------------------------\n",
      "Solution: \n",
      "- number of solutions: 0\n",
      "  number of solutions displayed: 0\n"
     ]
    }
   ],
   "source": [
    "\n",
    "t = time.time()\n",
    "\n",
    "for index, row in df_points[df_points.feasable==False].iterrows():\n",
    "    \n",
    "    point3 = [row.ocgt,row.wind,row.solar]\n",
    "    \n",
    "    feasable = df_points[df_points.feasable][['ocgt','wind','solar']].values\n",
    "    infeasable = df_points[df_points.feasable==False][['ocgt','wind','solar']].values\n",
    "    \n",
    "    #between = any([isBetween(point1,point2,point3)[0] for point1 in grid.feasable for point2 in grid.feasable])\n",
    "    outside = any([isBetween(point2,point1,point3)[1] for point1 in feasable for point2 in infeasable])\n",
    "    inside = in_hull(p=point3,hull=dhull)\n",
    "    #print(between,outside,inside)\n",
    "    \n",
    "    if (not inside) and (not outside) :\n",
    "        is_good , variables_out = test_point(network,point3)\n",
    "        simulations += 1\n",
    "        if is_good:\n",
    "            df_points.iloc[index].feasable = True\n",
    "            df_detail.loc[df_detail.index.max()+1]=list(network.generators.p_nom_opt.values)\n",
    "            #grid.feasable.append(point3)\n",
    "            dhull.add_points([point3],True)\n",
    "            #print(grid.feasable)\n",
    "            #grid.detailed.append(variables_out)\n",
    "        #else : \n",
    "            #grid.infeasable.append(point3)\n",
    "    elif inside:\n",
    "        dhull.add_points([point3],False)\n",
    "        df_points.iloc[index].feasable = True\n",
    "    else :\n",
    "        #grid.irelevant.append(point3)\n",
    "        df_points.type = 'irrelevant'\n",
    "elapsed = time.time() - t\n"
   ]
  },
  {
   "cell_type": "code",
   "execution_count": 27,
   "metadata": {
    "scrolled": true
   },
   "outputs": [
    {
     "name": "stdout",
     "output_type": "stream",
     "text": [
      "0.4166645884513855\n",
      "7\n"
     ]
    },
    {
     "data": {
      "text/plain": [
       "0.05952351263591221"
      ]
     },
     "execution_count": 27,
     "metadata": {},
     "output_type": "execute_result"
    }
   ],
   "source": [
    "print(elapsed/60)\n",
    "print(simulations)\n",
    "elapsed/60/simulations"
   ]
  },
  {
   "cell_type": "code",
   "execution_count": 28,
   "metadata": {},
   "outputs": [],
   "source": [
    "#np.save('feasable_points_euro30',np.array(list(grid.feasable) + max_min_points + [original_solution]))"
   ]
  },
  {
   "cell_type": "code",
   "execution_count": 29,
   "metadata": {},
   "outputs": [],
   "source": [
    "#grid.feasable = np.load('feasable_points.npy')"
   ]
  },
  {
   "cell_type": "markdown",
   "metadata": {},
   "source": [
    "### Plotting feasable region"
   ]
  },
  {
   "cell_type": "code",
   "execution_count": 30,
   "metadata": {},
   "outputs": [
    {
     "data": {
      "text/plain": [
       "array([[3.46814000e+05, 1.47583614e-11, 0.00000000e+00],\n",
       "       [3.63185229e+05, 3.92311130e+03, 0.00000000e+00],\n",
       "       [3.46814000e+05, 4.26126646e-08, 2.14602899e+04],\n",
       "       [3.73492706e+05, 3.19772563e-11, 0.00000000e+00],\n",
       "       [3.28907137e+05, 1.82395148e+04, 0.00000000e+00],\n",
       "       [3.28906647e+05, 1.82400142e+04, 0.00000000e+00],\n",
       "       [3.81561783e+05, 3.24174071e-08, 0.00000000e+00],\n",
       "       [3.46458359e+05, 6.07983825e+03, 0.00000000e+00],\n",
       "       [3.46458359e+05, 6.07983825e+03, 7.15342997e+03],\n",
       "       [3.46458359e+05, 1.21596765e+04, 0.00000000e+00],\n",
       "       [3.64010071e+05, 6.07983825e+03, 0.00000000e+00],\n",
       "       [3.64010071e+05, 3.19772563e-11, 0.00000000e+00],\n",
       "       [3.64010071e+05, 3.19772563e-11, 7.15342997e+03],\n",
       "       [3.46458359e+05, 6.07983825e+03, 0.00000000e+00],\n",
       "       [3.46458359e+05, 6.07983825e+03, 7.15342997e+03],\n",
       "       [3.46458359e+05, 1.21596765e+04, 0.00000000e+00],\n",
       "       [3.64010071e+05, 6.07983825e+03, 0.00000000e+00],\n",
       "       [3.64010071e+05, 3.19772563e-11, 0.00000000e+00],\n",
       "       [3.64010071e+05, 3.19772563e-11, 7.15342997e+03]])"
      ]
     },
     "execution_count": 30,
     "metadata": {},
     "output_type": "execute_result"
    }
   ],
   "source": [
    "dhull.points"
   ]
  },
  {
   "cell_type": "code",
   "execution_count": 34,
   "metadata": {
    "scrolled": false
   },
   "outputs": [
    {
     "data": {
      "application/vnd.jupyter.widget-view+json": {
       "model_id": "1667c1d0c60f4c3da7502b7ccb15880d",
       "version_major": 2,
       "version_minor": 0
      },
      "text/plain": [
       "Canvas(toolbar=Toolbar(toolitems=[('Home', 'Reset original view', 'home', 'home'), ('Back', 'Back to previous …"
      ]
     },
     "metadata": {},
     "output_type": "display_data"
    }
   ],
   "source": [
    "fig = plt.figure()\n",
    "ax = fig.add_subplot(111, projection='3d')\n",
    "\n",
    "#for i in range(len(max_min_points)):\n",
    "#       ax.plot([max_min_points[i][0]],[max_min_points[i][1]],[max_min_points[i][2]], \"go\",markersize=10)\n",
    "\n",
    "\n",
    "ax.plot(df_points[df_points.feasable]['ocgt'],df_points[df_points.feasable]['wind'],df_points[df_points.feasable]['solar'], \"bo\",markersize=7)\n",
    "ax.plot(df_points[df_points.feasable==False]['ocgt'],df_points[df_points.feasable==False]['wind'],df_points[df_points.feasable==False]['solar'], \"ro\",markersize=7)\n",
    "\n",
    "#ax.plot(grid.irelevant[:,0],grid.irelevant[:,1],grid.irelevant[:,2], \"co\",markersize=6)\n",
    "#ax.plot([original_solution[0]],[original_solution[1]],[original_solution[2]],'yo')\n",
    "    \n",
    "plt.show();\n",
    "ax.set_xlabel('Gas');\n",
    "ax.set_ylabel('Wind');\n",
    "ax.set_zlabel('Solar');"
   ]
  },
  {
   "cell_type": "code",
   "execution_count": 33,
   "metadata": {},
   "outputs": [
    {
     "data": {
      "text/html": [
       "<div>\n",
       "<style scoped>\n",
       "    .dataframe tbody tr th:only-of-type {\n",
       "        vertical-align: middle;\n",
       "    }\n",
       "\n",
       "    .dataframe tbody tr th {\n",
       "        vertical-align: top;\n",
       "    }\n",
       "\n",
       "    .dataframe thead th {\n",
       "        text-align: right;\n",
       "    }\n",
       "</style>\n",
       "<table border=\"1\" class=\"dataframe\">\n",
       "  <thead>\n",
       "    <tr style=\"text-align: right;\">\n",
       "      <th>name</th>\n",
       "      <th>gas 0</th>\n",
       "      <th>gas 1</th>\n",
       "      <th>gas 2</th>\n",
       "      <th>wind 0</th>\n",
       "      <th>wind 1</th>\n",
       "      <th>wind 2</th>\n",
       "      <th>solar 0</th>\n",
       "      <th>solar 1</th>\n",
       "      <th>solar 2</th>\n",
       "      <th>AT onwind</th>\n",
       "      <th>...</th>\n",
       "      <th>SE3 onwind</th>\n",
       "      <th>SE offwind</th>\n",
       "      <th>SE solar</th>\n",
       "      <th>SE OCGT</th>\n",
       "      <th>SI onwind</th>\n",
       "      <th>SI solar</th>\n",
       "      <th>SI OCGT</th>\n",
       "      <th>SK onwind</th>\n",
       "      <th>SK solar</th>\n",
       "      <th>SK OCGT</th>\n",
       "    </tr>\n",
       "  </thead>\n",
       "  <tbody>\n",
       "    <tr>\n",
       "      <th>0</th>\n",
       "      <td>3.839788e-13</td>\n",
       "      <td>3.839788e-13</td>\n",
       "      <td>3.839788e-13</td>\n",
       "      <td>2.516164e-13</td>\n",
       "      <td>2.516164e-13</td>\n",
       "      <td>2.516164e-13</td>\n",
       "      <td>5.074187e-13</td>\n",
       "      <td>5.074187e-13</td>\n",
       "      <td>5.074187e-13</td>\n",
       "      <td>2.344365e-13</td>\n",
       "      <td>...</td>\n",
       "      <td>2.984600e-13</td>\n",
       "      <td>1.138441e-13</td>\n",
       "      <td>0.0</td>\n",
       "      <td>17565.000001</td>\n",
       "      <td>2.329723e-13</td>\n",
       "      <td>0.0</td>\n",
       "      <td>1146.000010</td>\n",
       "      <td>2.335200e-13</td>\n",
       "      <td>0.0</td>\n",
       "      <td>3168.000005</td>\n",
       "    </tr>\n",
       "    <tr>\n",
       "      <th>1</th>\n",
       "      <td>9.923502e-10</td>\n",
       "      <td>9.812025e-10</td>\n",
       "      <td>9.773169e-10</td>\n",
       "      <td>6.732491e-10</td>\n",
       "      <td>6.595061e-10</td>\n",
       "      <td>6.632760e-10</td>\n",
       "      <td>1.287773e-09</td>\n",
       "      <td>1.272818e-09</td>\n",
       "      <td>1.270258e-09</td>\n",
       "      <td>5.428612e-10</td>\n",
       "      <td>...</td>\n",
       "      <td>5.430624e-10</td>\n",
       "      <td>2.510484e-10</td>\n",
       "      <td>0.0</td>\n",
       "      <td>12352.389419</td>\n",
       "      <td>5.428525e-10</td>\n",
       "      <td>0.0</td>\n",
       "      <td>12762.405796</td>\n",
       "      <td>5.428574e-10</td>\n",
       "      <td>0.0</td>\n",
       "      <td>12813.151664</td>\n",
       "    </tr>\n",
       "    <tr>\n",
       "      <th>2</th>\n",
       "      <td>1.709476e-18</td>\n",
       "      <td>1.708174e-18</td>\n",
       "      <td>1.711205e-18</td>\n",
       "      <td>5.721134e-19</td>\n",
       "      <td>5.717952e-19</td>\n",
       "      <td>5.725286e-19</td>\n",
       "      <td>1.544327e-18</td>\n",
       "      <td>1.543198e-18</td>\n",
       "      <td>1.545798e-18</td>\n",
       "      <td>1.833756e-19</td>\n",
       "      <td>...</td>\n",
       "      <td>8.380834e-18</td>\n",
       "      <td>1.035795e-19</td>\n",
       "      <td>0.0</td>\n",
       "      <td>11276.934137</td>\n",
       "      <td>1.724009e-19</td>\n",
       "      <td>0.0</td>\n",
       "      <td>10017.859791</td>\n",
       "      <td>1.792669e-19</td>\n",
       "      <td>0.0</td>\n",
       "      <td>9882.560928</td>\n",
       "    </tr>\n",
       "    <tr>\n",
       "      <th>3</th>\n",
       "      <td>3.103626e-18</td>\n",
       "      <td>3.104815e-18</td>\n",
       "      <td>3.103710e-18</td>\n",
       "      <td>8.912231e-19</td>\n",
       "      <td>8.892891e-19</td>\n",
       "      <td>8.912297e-19</td>\n",
       "      <td>2.374528e-18</td>\n",
       "      <td>2.367932e-18</td>\n",
       "      <td>2.374546e-18</td>\n",
       "      <td>6.727005e-19</td>\n",
       "      <td>...</td>\n",
       "      <td>3.753795e-17</td>\n",
       "      <td>2.101869e-19</td>\n",
       "      <td>0.0</td>\n",
       "      <td>10925.584898</td>\n",
       "      <td>5.906145e-19</td>\n",
       "      <td>0.0</td>\n",
       "      <td>10201.219701</td>\n",
       "      <td>6.225750e-19</td>\n",
       "      <td>0.0</td>\n",
       "      <td>10315.991357</td>\n",
       "    </tr>\n",
       "    <tr>\n",
       "      <th>4</th>\n",
       "      <td>1.650440e+03</td>\n",
       "      <td>1.650440e+03</td>\n",
       "      <td>1.650440e+03</td>\n",
       "      <td>7.449649e+01</td>\n",
       "      <td>7.449649e+01</td>\n",
       "      <td>7.449649e+01</td>\n",
       "      <td>4.054202e+02</td>\n",
       "      <td>4.054202e+02</td>\n",
       "      <td>4.054202e+02</td>\n",
       "      <td>3.208919e-13</td>\n",
       "      <td>...</td>\n",
       "      <td>4.899222e-13</td>\n",
       "      <td>6.552633e-13</td>\n",
       "      <td>0.0</td>\n",
       "      <td>12390.836551</td>\n",
       "      <td>3.777702e-13</td>\n",
       "      <td>0.0</td>\n",
       "      <td>11604.795405</td>\n",
       "      <td>3.578109e-13</td>\n",
       "      <td>0.0</td>\n",
       "      <td>11700.728095</td>\n",
       "    </tr>\n",
       "    <tr>\n",
       "      <th>5</th>\n",
       "      <td>1.106210e-09</td>\n",
       "      <td>1.106174e-09</td>\n",
       "      <td>1.106224e-09</td>\n",
       "      <td>7.255902e-10</td>\n",
       "      <td>7.763817e-10</td>\n",
       "      <td>7.831879e-10</td>\n",
       "      <td>1.474104e-09</td>\n",
       "      <td>1.461192e-09</td>\n",
       "      <td>1.500289e-09</td>\n",
       "      <td>6.742017e-10</td>\n",
       "      <td>...</td>\n",
       "      <td>8.579773e-10</td>\n",
       "      <td>3.273931e-10</td>\n",
       "      <td>0.0</td>\n",
       "      <td>11189.255920</td>\n",
       "      <td>7.368516e-10</td>\n",
       "      <td>0.0</td>\n",
       "      <td>11262.077502</td>\n",
       "      <td>6.715660e-10</td>\n",
       "      <td>0.0</td>\n",
       "      <td>11275.293406</td>\n",
       "    </tr>\n",
       "    <tr>\n",
       "      <th>6</th>\n",
       "      <td>1.164099e+03</td>\n",
       "      <td>1.164099e+03</td>\n",
       "      <td>1.164099e+03</td>\n",
       "      <td>7.271498e+01</td>\n",
       "      <td>7.271498e+01</td>\n",
       "      <td>7.271498e+01</td>\n",
       "      <td>3.105730e+02</td>\n",
       "      <td>3.105730e+02</td>\n",
       "      <td>3.105730e+02</td>\n",
       "      <td>4.379003e+01</td>\n",
       "      <td>...</td>\n",
       "      <td>7.820280e+01</td>\n",
       "      <td>1.686936e+01</td>\n",
       "      <td>0.0</td>\n",
       "      <td>12083.206276</td>\n",
       "      <td>2.264453e+01</td>\n",
       "      <td>0.0</td>\n",
       "      <td>11159.923481</td>\n",
       "      <td>3.234996e+01</td>\n",
       "      <td>0.0</td>\n",
       "      <td>11279.218736</td>\n",
       "    </tr>\n",
       "  </tbody>\n",
       "</table>\n",
       "<p>7 rows × 141 columns</p>\n",
       "</div>"
      ],
      "text/plain": [
       "name         gas 0         gas 1         gas 2        wind 0        wind 1  \\\n",
       "0     3.839788e-13  3.839788e-13  3.839788e-13  2.516164e-13  2.516164e-13   \n",
       "1     9.923502e-10  9.812025e-10  9.773169e-10  6.732491e-10  6.595061e-10   \n",
       "2     1.709476e-18  1.708174e-18  1.711205e-18  5.721134e-19  5.717952e-19   \n",
       "3     3.103626e-18  3.104815e-18  3.103710e-18  8.912231e-19  8.892891e-19   \n",
       "4     1.650440e+03  1.650440e+03  1.650440e+03  7.449649e+01  7.449649e+01   \n",
       "5     1.106210e-09  1.106174e-09  1.106224e-09  7.255902e-10  7.763817e-10   \n",
       "6     1.164099e+03  1.164099e+03  1.164099e+03  7.271498e+01  7.271498e+01   \n",
       "\n",
       "name        wind 2       solar 0       solar 1       solar 2     AT onwind  \\\n",
       "0     2.516164e-13  5.074187e-13  5.074187e-13  5.074187e-13  2.344365e-13   \n",
       "1     6.632760e-10  1.287773e-09  1.272818e-09  1.270258e-09  5.428612e-10   \n",
       "2     5.725286e-19  1.544327e-18  1.543198e-18  1.545798e-18  1.833756e-19   \n",
       "3     8.912297e-19  2.374528e-18  2.367932e-18  2.374546e-18  6.727005e-19   \n",
       "4     7.449649e+01  4.054202e+02  4.054202e+02  4.054202e+02  3.208919e-13   \n",
       "5     7.831879e-10  1.474104e-09  1.461192e-09  1.500289e-09  6.742017e-10   \n",
       "6     7.271498e+01  3.105730e+02  3.105730e+02  3.105730e+02  4.379003e+01   \n",
       "\n",
       "name  ...    SE3 onwind    SE offwind  SE solar       SE OCGT     SI onwind  \\\n",
       "0     ...  2.984600e-13  1.138441e-13       0.0  17565.000001  2.329723e-13   \n",
       "1     ...  5.430624e-10  2.510484e-10       0.0  12352.389419  5.428525e-10   \n",
       "2     ...  8.380834e-18  1.035795e-19       0.0  11276.934137  1.724009e-19   \n",
       "3     ...  3.753795e-17  2.101869e-19       0.0  10925.584898  5.906145e-19   \n",
       "4     ...  4.899222e-13  6.552633e-13       0.0  12390.836551  3.777702e-13   \n",
       "5     ...  8.579773e-10  3.273931e-10       0.0  11189.255920  7.368516e-10   \n",
       "6     ...  7.820280e+01  1.686936e+01       0.0  12083.206276  2.264453e+01   \n",
       "\n",
       "name  SI solar       SI OCGT     SK onwind  SK solar       SK OCGT  \n",
       "0          0.0   1146.000010  2.335200e-13       0.0   3168.000005  \n",
       "1          0.0  12762.405796  5.428574e-10       0.0  12813.151664  \n",
       "2          0.0  10017.859791  1.792669e-19       0.0   9882.560928  \n",
       "3          0.0  10201.219701  6.225750e-19       0.0  10315.991357  \n",
       "4          0.0  11604.795405  3.578109e-13       0.0  11700.728095  \n",
       "5          0.0  11262.077502  6.715660e-10       0.0  11275.293406  \n",
       "6          0.0  11159.923481  3.234996e+01       0.0  11279.218736  \n",
       "\n",
       "[7 rows x 141 columns]"
      ]
     },
     "execution_count": 33,
     "metadata": {},
     "output_type": "execute_result"
    }
   ],
   "source": [
    "df_detail"
   ]
  },
  {
   "cell_type": "code",
   "execution_count": null,
   "metadata": {},
   "outputs": [],
   "source": []
  },
  {
   "cell_type": "code",
   "execution_count": null,
   "metadata": {},
   "outputs": [],
   "source": []
  },
  {
   "cell_type": "code",
   "execution_count": null,
   "metadata": {},
   "outputs": [],
   "source": []
  }
 ],
 "metadata": {
  "kernelspec": {
   "display_name": "Python 3",
   "language": "python",
   "name": "python3"
  },
  "language_info": {
   "codemirror_mode": {
    "name": "ipython",
    "version": 3
   },
   "file_extension": ".py",
   "mimetype": "text/x-python",
   "name": "python",
   "nbconvert_exporter": "python",
   "pygments_lexer": "ipython3",
   "version": "3.7.3"
  },
  "varInspector": {
   "cols": {
    "lenName": 16,
    "lenType": 16,
    "lenVar": 40
   },
   "kernels_config": {
    "python": {
     "delete_cmd_postfix": "",
     "delete_cmd_prefix": "del ",
     "library": "var_list.py",
     "varRefreshCmd": "print(var_dic_list())"
    },
    "r": {
     "delete_cmd_postfix": ") ",
     "delete_cmd_prefix": "rm(",
     "library": "var_list.r",
     "varRefreshCmd": "cat(var_dic_list()) "
    }
   },
   "types_to_exclude": [
    "module",
    "function",
    "builtin_function_or_method",
    "instance",
    "_Feature"
   ],
   "window_display": false
  }
 },
 "nbformat": 4,
 "nbformat_minor": 2
}
