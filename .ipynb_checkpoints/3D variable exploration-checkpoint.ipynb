{
 "cells": [
  {
   "cell_type": "code",
   "execution_count": 76,
   "metadata": {},
   "outputs": [
    {
     "data": {
      "text/html": [
       "        <script type=\"text/javascript\">\n",
       "        window.PlotlyConfig = {MathJaxConfig: 'local'};\n",
       "        if (window.MathJax) {MathJax.Hub.Config({SVG: {font: \"STIX-Web\"}});}\n",
       "        if (typeof require !== 'undefined') {\n",
       "        require.undef(\"plotly\");\n",
       "        requirejs.config({\n",
       "            paths: {\n",
       "                'plotly': ['https://cdn.plot.ly/plotly-latest.min']\n",
       "            }\n",
       "        });\n",
       "        require(['plotly'], function(Plotly) {\n",
       "            window._Plotly = Plotly;\n",
       "        });\n",
       "        }\n",
       "        </script>\n",
       "        "
      ]
     },
     "metadata": {},
     "output_type": "display_data"
    }
   ],
   "source": [
    "import pypsa\n",
    "import pandas as pd\n",
    "import numpy as np\n",
    "import time\n",
    "import cufflinks as cf\n",
    "import plotly.offline as pltly\n",
    "pltly.init_notebook_mode(connected=True)\n",
    "import matplotlib.pyplot as plt\n",
    "from mpl_toolkits.mplot3d import Axes3D"
   ]
  },
  {
   "cell_type": "code",
   "execution_count": 3,
   "metadata": {},
   "outputs": [],
   "source": [
    "network = pypsa.Network()"
   ]
  },
  {
   "cell_type": "code",
   "execution_count": 4,
   "metadata": {},
   "outputs": [
    {
     "name": "stderr",
     "output_type": "stream",
     "text": [
      "INFO:pypsa.io:Imported network Scandinavia has buses, generators, lines, loads\n"
     ]
    }
   ],
   "source": [
    "network.import_from_hdf5('Scandinavia')"
   ]
  },
  {
   "cell_type": "code",
   "execution_count": 14,
   "metadata": {},
   "outputs": [
    {
     "name": "stderr",
     "output_type": "stream",
     "text": [
      "INFO:pypsa.pf:Slack bus for sub-network 0 is My bus 0\n",
      "INFO:pypsa.opf:Performed preliminary steps\n",
      "INFO:pypsa.opf:Building pyomo model using `angles` formulation\n",
      "WARNING:pypsa.opf:The following generators have both investment optimisation and unit commitment:\n",
      "Index(['gas 0', 'gas 1', 'gas 2', 'wind 0', 'wind 1', 'wind 2', 'solar 0',\n",
      "       'solar 1', 'solar 2'],\n",
      "      dtype='object', name='name')\n",
      "Currently PyPSA cannot do both these functions, so PyPSA is choosing investment optimisation for these generators.\n",
      "INFO:pypsa.opf:Solving model using gurobi\n",
      "INFO:pypsa.opf:Optimization successful\n"
     ]
    },
    {
     "name": "stdout",
     "output_type": "stream",
     "text": [
      "# ==========================================================\n",
      "# = Solver Results                                         =\n",
      "# ==========================================================\n",
      "# ----------------------------------------------------------\n",
      "#   Problem Information\n",
      "# ----------------------------------------------------------\n",
      "Problem: \n",
      "- Name: x11533_copy\n",
      "  Lower bound: 25130497365.626984\n",
      "  Upper bound: 25130497365.626984\n",
      "  Number of objectives: 1\n",
      "  Number of constraints: 23809\n",
      "  Number of variables: 11533\n",
      "  Number of binary variables: 0\n",
      "  Number of integer variables: 0\n",
      "  Number of continuous variables: 11533\n",
      "  Number of nonzeros: 47523\n",
      "  Sense: minimize\n",
      "# ----------------------------------------------------------\n",
      "#   Solver Information\n",
      "# ----------------------------------------------------------\n",
      "Solver: \n",
      "- Status: ok\n",
      "  Return code: 0\n",
      "  Message: Model was solved to optimality (subject to tolerances), and an optimal solution is available.\n",
      "  Termination condition: optimal\n",
      "  Termination message: Model was solved to optimality (subject to tolerances), and an optimal solution is available.\n",
      "  Wall time: 0.2031097412109375\n",
      "  Error rc: 0\n",
      "  Time: 0.609306812286377\n",
      "# ----------------------------------------------------------\n",
      "#   Solution Information\n",
      "# ----------------------------------------------------------\n",
      "Solution: \n",
      "- number of solutions: 0\n",
      "  number of solutions displayed: 0\n"
     ]
    }
   ],
   "source": [
    "network.lopf(network.snapshots, solver_name='gurobi')\n",
    "old_objective_value = network.model.objective()"
   ]
  },
  {
   "cell_type": "code",
   "execution_count": 42,
   "metadata": {},
   "outputs": [],
   "source": [
    "counter = 5\n",
    "MGA_slack = 0.1"
   ]
  },
  {
   "cell_type": "code",
   "execution_count": 44,
   "metadata": {},
   "outputs": [],
   "source": [
    "import pyomo.environ as pyomo_env\n",
    "# Defining exstra functionality, that updates the objective function of the network\n",
    "def maxmin_functionality(network, snapshots,  MGA_slack = 0.05, counter = 0,test = [0,0,0]):\n",
    "# Identify the nonzero decision variables that should enter the MGA objective function.\n",
    "\n",
    "    MGA_objective = 0\n",
    "    variables = [gen_p for gen_p in network.model.generator_p_nom]\n",
    "    gen_p1 = variables[int(counter/2)*3]\n",
    "    gen_p2 = variables[int(counter/2)*3+1]\n",
    "    gen_p3 = variables[int(counter/2)*3+2]\n",
    "\n",
    "    MGA_objective += network.model.generator_p_nom[gen_p1]\n",
    "    MGA_objective += network.model.generator_p_nom[gen_p2]\n",
    "    MGA_objective += network.model.generator_p_nom[gen_p3]\n",
    "    if counter%2 == 0 :\n",
    "        MGA_objective = -MGA_objective\n",
    "    print(MGA_objective)\n",
    "\n",
    "    # Add the new MGA objective function to the model.\n",
    "    network.model.mga_objective = pyomo_env.Objective(expr=MGA_objective)\n",
    "    # Deactivate the old objective function and activate the MGA objective function.\n",
    "    network.model.objective.deactivate()\n",
    "    network.model.mga_objective.activate()\n",
    "    # Add the MGA slack constraint.\n",
    "    #print('old objective value ',old_objective_value)\n",
    "    network.model.mga_constraint = pyomo_env.Constraint(expr=network.model.objective.expr <= \n",
    "                                          (1 + MGA_slack) * old_objective_value)"
   ]
  },
  {
   "cell_type": "code",
   "execution_count": 51,
   "metadata": {},
   "outputs": [
    {
     "name": "stderr",
     "output_type": "stream",
     "text": [
      "INFO:pypsa.pf:Slack bus for sub-network 0 is My bus 0\n",
      "INFO:pypsa.opf:Performed preliminary steps\n",
      "INFO:pypsa.opf:Building pyomo model using `angles` formulation\n",
      "WARNING:pypsa.opf:The following generators have both investment optimisation and unit commitment:\n",
      "Index(['gas 0', 'gas 1', 'gas 2', 'wind 0', 'wind 1', 'wind 2', 'solar 0',\n",
      "       'solar 1', 'solar 2'],\n",
      "      dtype='object', name='name')\n",
      "Currently PyPSA cannot do both these functions, so PyPSA is choosing investment optimisation for these generators.\n"
     ]
    },
    {
     "name": "stdout",
     "output_type": "stream",
     "text": [
      "0\n"
     ]
    },
    {
     "name": "stderr",
     "output_type": "stream",
     "text": [
      "INFO:pypsa.opf:Solving model using gurobi\n"
     ]
    },
    {
     "name": "stdout",
     "output_type": "stream",
     "text": [
      "- (generator_p_nom[gas 0] + generator_p_nom[gas 1] + generator_p_nom[gas 2])\n"
     ]
    },
    {
     "name": "stderr",
     "output_type": "stream",
     "text": [
      "INFO:pypsa.opf:Optimization successful\n"
     ]
    },
    {
     "name": "stdout",
     "output_type": "stream",
     "text": [
      "# ==========================================================\n",
      "# = Solver Results                                         =\n",
      "# ==========================================================\n",
      "# ----------------------------------------------------------\n",
      "#   Problem Information\n",
      "# ----------------------------------------------------------\n",
      "Problem: \n",
      "- Name: x11533_copy\n",
      "  Lower bound: -12000.0\n",
      "  Upper bound: -12000.0\n",
      "  Number of objectives: 1\n",
      "  Number of constraints: 23810\n",
      "  Number of variables: 11533\n",
      "  Number of binary variables: 0\n",
      "  Number of integer variables: 0\n",
      "  Number of continuous variables: 11533\n",
      "  Number of nonzeros: 49839\n",
      "  Sense: minimize\n",
      "# ----------------------------------------------------------\n",
      "#   Solver Information\n",
      "# ----------------------------------------------------------\n",
      "Solver: \n",
      "- Status: ok\n",
      "  Return code: 0\n",
      "  Message: Model was solved to optimality (subject to tolerances), and an optimal solution is available.\n",
      "  Termination condition: optimal\n",
      "  Termination message: Model was solved to optimality (subject to tolerances), and an optimal solution is available.\n",
      "  Wall time: 0.6249542236328125\n",
      "  Error rc: 0\n",
      "  Time: 1.0624220371246338\n",
      "# ----------------------------------------------------------\n",
      "#   Solution Information\n",
      "# ----------------------------------------------------------\n",
      "Solution: \n",
      "- number of solutions: 0\n",
      "  number of solutions displayed: 0\n"
     ]
    },
    {
     "name": "stderr",
     "output_type": "stream",
     "text": [
      "INFO:pypsa.pf:Slack bus for sub-network 0 is My bus 0\n",
      "INFO:pypsa.opf:Performed preliminary steps\n",
      "INFO:pypsa.opf:Building pyomo model using `angles` formulation\n",
      "WARNING:pypsa.opf:The following generators have both investment optimisation and unit commitment:\n",
      "Index(['gas 0', 'gas 1', 'gas 2', 'wind 0', 'wind 1', 'wind 2', 'solar 0',\n",
      "       'solar 1', 'solar 2'],\n",
      "      dtype='object', name='name')\n",
      "Currently PyPSA cannot do both these functions, so PyPSA is choosing investment optimisation for these generators.\n"
     ]
    },
    {
     "name": "stdout",
     "output_type": "stream",
     "text": [
      "1\n"
     ]
    },
    {
     "name": "stderr",
     "output_type": "stream",
     "text": [
      "INFO:pypsa.opf:Solving model using gurobi\n"
     ]
    },
    {
     "name": "stdout",
     "output_type": "stream",
     "text": [
      "generator_p_nom[gas 0] + generator_p_nom[gas 1] + generator_p_nom[gas 2]\n"
     ]
    },
    {
     "name": "stderr",
     "output_type": "stream",
     "text": [
      "INFO:pypsa.opf:Optimization successful\n"
     ]
    },
    {
     "name": "stdout",
     "output_type": "stream",
     "text": [
      "# ==========================================================\n",
      "# = Solver Results                                         =\n",
      "# ==========================================================\n",
      "# ----------------------------------------------------------\n",
      "#   Problem Information\n",
      "# ----------------------------------------------------------\n",
      "Problem: \n",
      "- Name: x11533_copy\n",
      "  Lower bound: 7635.747099411689\n",
      "  Upper bound: 7635.747099411689\n",
      "  Number of objectives: 1\n",
      "  Number of constraints: 23810\n",
      "  Number of variables: 11533\n",
      "  Number of binary variables: 0\n",
      "  Number of integer variables: 0\n",
      "  Number of continuous variables: 11533\n",
      "  Number of nonzeros: 49839\n",
      "  Sense: minimize\n",
      "# ----------------------------------------------------------\n",
      "#   Solver Information\n",
      "# ----------------------------------------------------------\n",
      "Solver: \n",
      "- Status: ok\n",
      "  Return code: 0\n",
      "  Message: Model was solved to optimality (subject to tolerances), and an optimal solution is available.\n",
      "  Termination condition: optimal\n",
      "  Termination message: Model was solved to optimality (subject to tolerances), and an optimal solution is available.\n",
      "  Wall time: 1.4530220031738281\n",
      "  Error rc: 0\n",
      "  Time: 1.9217376708984375\n",
      "# ----------------------------------------------------------\n",
      "#   Solution Information\n",
      "# ----------------------------------------------------------\n",
      "Solution: \n",
      "- number of solutions: 0\n",
      "  number of solutions displayed: 0\n"
     ]
    },
    {
     "name": "stderr",
     "output_type": "stream",
     "text": [
      "INFO:pypsa.pf:Slack bus for sub-network 0 is My bus 0\n",
      "INFO:pypsa.opf:Performed preliminary steps\n",
      "INFO:pypsa.opf:Building pyomo model using `angles` formulation\n",
      "WARNING:pypsa.opf:The following generators have both investment optimisation and unit commitment:\n",
      "Index(['gas 0', 'gas 1', 'gas 2', 'wind 0', 'wind 1', 'wind 2', 'solar 0',\n",
      "       'solar 1', 'solar 2'],\n",
      "      dtype='object', name='name')\n",
      "Currently PyPSA cannot do both these functions, so PyPSA is choosing investment optimisation for these generators.\n"
     ]
    },
    {
     "name": "stdout",
     "output_type": "stream",
     "text": [
      "2\n"
     ]
    },
    {
     "name": "stderr",
     "output_type": "stream",
     "text": [
      "INFO:pypsa.opf:Solving model using gurobi\n"
     ]
    },
    {
     "name": "stdout",
     "output_type": "stream",
     "text": [
      "- (generator_p_nom[wind 0] + generator_p_nom[wind 1] + generator_p_nom[wind 2])\n"
     ]
    },
    {
     "name": "stderr",
     "output_type": "stream",
     "text": [
      "INFO:pypsa.opf:Optimization successful\n"
     ]
    },
    {
     "name": "stdout",
     "output_type": "stream",
     "text": [
      "# ==========================================================\n",
      "# = Solver Results                                         =\n",
      "# ==========================================================\n",
      "# ----------------------------------------------------------\n",
      "#   Problem Information\n",
      "# ----------------------------------------------------------\n",
      "Problem: \n",
      "- Name: x11533_copy\n",
      "  Lower bound: -336524.2036704634\n",
      "  Upper bound: -336524.2036704634\n",
      "  Number of objectives: 1\n",
      "  Number of constraints: 23810\n",
      "  Number of variables: 11533\n",
      "  Number of binary variables: 0\n",
      "  Number of integer variables: 0\n",
      "  Number of continuous variables: 11533\n",
      "  Number of nonzeros: 49839\n",
      "  Sense: minimize\n",
      "# ----------------------------------------------------------\n",
      "#   Solver Information\n",
      "# ----------------------------------------------------------\n",
      "Solver: \n",
      "- Status: ok\n",
      "  Return code: 0\n",
      "  Message: Model was solved to optimality (subject to tolerances), and an optimal solution is available.\n",
      "  Termination condition: optimal\n",
      "  Termination message: Model was solved to optimality (subject to tolerances), and an optimal solution is available.\n",
      "  Wall time: 0.5312156677246094\n",
      "  Error rc: 0\n",
      "  Time: 0.984299898147583\n",
      "# ----------------------------------------------------------\n",
      "#   Solution Information\n",
      "# ----------------------------------------------------------\n",
      "Solution: \n",
      "- number of solutions: 0\n",
      "  number of solutions displayed: 0\n"
     ]
    },
    {
     "name": "stderr",
     "output_type": "stream",
     "text": [
      "INFO:pypsa.pf:Slack bus for sub-network 0 is My bus 0\n",
      "INFO:pypsa.opf:Performed preliminary steps\n",
      "INFO:pypsa.opf:Building pyomo model using `angles` formulation\n",
      "WARNING:pypsa.opf:The following generators have both investment optimisation and unit commitment:\n",
      "Index(['gas 0', 'gas 1', 'gas 2', 'wind 0', 'wind 1', 'wind 2', 'solar 0',\n",
      "       'solar 1', 'solar 2'],\n",
      "      dtype='object', name='name')\n",
      "Currently PyPSA cannot do both these functions, so PyPSA is choosing investment optimisation for these generators.\n"
     ]
    },
    {
     "name": "stdout",
     "output_type": "stream",
     "text": [
      "3\n"
     ]
    },
    {
     "name": "stderr",
     "output_type": "stream",
     "text": [
      "INFO:pypsa.opf:Solving model using gurobi\n"
     ]
    },
    {
     "name": "stdout",
     "output_type": "stream",
     "text": [
      "generator_p_nom[wind 0] + generator_p_nom[wind 1] + generator_p_nom[wind 2]\n"
     ]
    },
    {
     "name": "stderr",
     "output_type": "stream",
     "text": [
      "INFO:pypsa.opf:Optimization successful\n"
     ]
    },
    {
     "name": "stdout",
     "output_type": "stream",
     "text": [
      "# ==========================================================\n",
      "# = Solver Results                                         =\n",
      "# ==========================================================\n",
      "# ----------------------------------------------------------\n",
      "#   Problem Information\n",
      "# ----------------------------------------------------------\n",
      "Problem: \n",
      "- Name: x11533_copy\n",
      "  Lower bound: 293690.4125042862\n",
      "  Upper bound: 293690.4125042862\n",
      "  Number of objectives: 1\n",
      "  Number of constraints: 23810\n",
      "  Number of variables: 11533\n",
      "  Number of binary variables: 0\n",
      "  Number of integer variables: 0\n",
      "  Number of continuous variables: 11533\n",
      "  Number of nonzeros: 49839\n",
      "  Sense: minimize\n",
      "# ----------------------------------------------------------\n",
      "#   Solver Information\n",
      "# ----------------------------------------------------------\n",
      "Solver: \n",
      "- Status: ok\n",
      "  Return code: 0\n",
      "  Message: Model was solved to optimality (subject to tolerances), and an optimal solution is available.\n",
      "  Termination condition: optimal\n",
      "  Termination message: Model was solved to optimality (subject to tolerances), and an optimal solution is available.\n",
      "  Wall time: 0.437469482421875\n",
      "  Error rc: 0\n",
      "  Time: 0.8592886924743652\n",
      "# ----------------------------------------------------------\n",
      "#   Solution Information\n",
      "# ----------------------------------------------------------\n",
      "Solution: \n",
      "- number of solutions: 0\n",
      "  number of solutions displayed: 0\n"
     ]
    },
    {
     "name": "stderr",
     "output_type": "stream",
     "text": [
      "INFO:pypsa.pf:Slack bus for sub-network 0 is My bus 0\n",
      "INFO:pypsa.opf:Performed preliminary steps\n",
      "INFO:pypsa.opf:Building pyomo model using `angles` formulation\n",
      "WARNING:pypsa.opf:The following generators have both investment optimisation and unit commitment:\n",
      "Index(['gas 0', 'gas 1', 'gas 2', 'wind 0', 'wind 1', 'wind 2', 'solar 0',\n",
      "       'solar 1', 'solar 2'],\n",
      "      dtype='object', name='name')\n",
      "Currently PyPSA cannot do both these functions, so PyPSA is choosing investment optimisation for these generators.\n"
     ]
    },
    {
     "name": "stdout",
     "output_type": "stream",
     "text": [
      "4\n"
     ]
    },
    {
     "name": "stderr",
     "output_type": "stream",
     "text": [
      "INFO:pypsa.opf:Solving model using gurobi\n"
     ]
    },
    {
     "name": "stdout",
     "output_type": "stream",
     "text": [
      "- (generator_p_nom[solar 0] + generator_p_nom[solar 1] + generator_p_nom[solar 2])\n"
     ]
    },
    {
     "name": "stderr",
     "output_type": "stream",
     "text": [
      "INFO:pypsa.opf:Optimization successful\n"
     ]
    },
    {
     "name": "stdout",
     "output_type": "stream",
     "text": [
      "# ==========================================================\n",
      "# = Solver Results                                         =\n",
      "# ==========================================================\n",
      "# ----------------------------------------------------------\n",
      "#   Problem Information\n",
      "# ----------------------------------------------------------\n",
      "Problem: \n",
      "- Name: x11533_copy\n",
      "  Lower bound: -67047.43711616163\n",
      "  Upper bound: -67047.43711616163\n",
      "  Number of objectives: 1\n",
      "  Number of constraints: 23810\n",
      "  Number of variables: 11533\n",
      "  Number of binary variables: 0\n",
      "  Number of integer variables: 0\n",
      "  Number of continuous variables: 11533\n",
      "  Number of nonzeros: 49839\n",
      "  Sense: minimize\n",
      "# ----------------------------------------------------------\n",
      "#   Solver Information\n",
      "# ----------------------------------------------------------\n",
      "Solver: \n",
      "- Status: ok\n",
      "  Return code: 0\n",
      "  Message: Model was solved to optimality (subject to tolerances), and an optimal solution is available.\n",
      "  Termination condition: optimal\n",
      "  Termination message: Model was solved to optimality (subject to tolerances), and an optimal solution is available.\n",
      "  Wall time: 0.48432159423828125\n",
      "  Error rc: 0\n",
      "  Time: 0.8905622959136963\n",
      "# ----------------------------------------------------------\n",
      "#   Solution Information\n",
      "# ----------------------------------------------------------\n",
      "Solution: \n",
      "- number of solutions: 0\n",
      "  number of solutions displayed: 0\n"
     ]
    },
    {
     "name": "stderr",
     "output_type": "stream",
     "text": [
      "INFO:pypsa.pf:Slack bus for sub-network 0 is My bus 0\n",
      "INFO:pypsa.opf:Performed preliminary steps\n",
      "INFO:pypsa.opf:Building pyomo model using `angles` formulation\n",
      "WARNING:pypsa.opf:The following generators have both investment optimisation and unit commitment:\n",
      "Index(['gas 0', 'gas 1', 'gas 2', 'wind 0', 'wind 1', 'wind 2', 'solar 0',\n",
      "       'solar 1', 'solar 2'],\n",
      "      dtype='object', name='name')\n",
      "Currently PyPSA cannot do both these functions, so PyPSA is choosing investment optimisation for these generators.\n"
     ]
    },
    {
     "name": "stdout",
     "output_type": "stream",
     "text": [
      "5\n"
     ]
    },
    {
     "name": "stderr",
     "output_type": "stream",
     "text": [
      "INFO:pypsa.opf:Solving model using gurobi\n"
     ]
    },
    {
     "name": "stdout",
     "output_type": "stream",
     "text": [
      "generator_p_nom[solar 0] + generator_p_nom[solar 1] + generator_p_nom[solar 2]\n"
     ]
    },
    {
     "name": "stderr",
     "output_type": "stream",
     "text": [
      "INFO:pypsa.opf:Optimization successful\n"
     ]
    },
    {
     "name": "stdout",
     "output_type": "stream",
     "text": [
      "# ==========================================================\n",
      "# = Solver Results                                         =\n",
      "# ==========================================================\n",
      "# ----------------------------------------------------------\n",
      "#   Problem Information\n",
      "# ----------------------------------------------------------\n",
      "Problem: \n",
      "- Name: x11533_copy\n",
      "  Lower bound: 0.0\n",
      "  Upper bound: 0.0\n",
      "  Number of objectives: 1\n",
      "  Number of constraints: 23810\n",
      "  Number of variables: 11533\n",
      "  Number of binary variables: 0\n",
      "  Number of integer variables: 0\n",
      "  Number of continuous variables: 11533\n",
      "  Number of nonzeros: 49839\n",
      "  Sense: minimize\n",
      "# ----------------------------------------------------------\n",
      "#   Solver Information\n",
      "# ----------------------------------------------------------\n",
      "Solver: \n",
      "- Status: ok\n",
      "  Return code: 0\n",
      "  Message: Model was solved to optimality (subject to tolerances), and an optimal solution is available.\n",
      "  Termination condition: optimal\n",
      "  Termination message: Model was solved to optimality (subject to tolerances), and an optimal solution is available.\n",
      "  Wall time: 0.5312118530273438\n",
      "  Error rc: 0\n",
      "  Time: 0.953047513961792\n",
      "# ----------------------------------------------------------\n",
      "#   Solution Information\n",
      "# ----------------------------------------------------------\n",
      "Solution: \n",
      "- number of solutions: 0\n",
      "  number of solutions displayed: 0\n"
     ]
    }
   ],
   "source": [
    "counter = 0\n",
    "MGA_slack = 0.1\n",
    "\n",
    "#network= update_network(network,[-1,-1,-1])\n",
    "\n",
    "N = 3\n",
    "test = 1*((np.arange(2**N)[:,None] & (1 << np.arange(N))) > 0)\n",
    "\n",
    "network.solutions = []\n",
    "\n",
    "for counter in range(6):  #(len(network.generators)*2):\n",
    "    print(counter)\n",
    "    network.lopf(network.snapshots,\\\n",
    "                         solver_name='gurobi',\\\n",
    "                         extra_functionality=lambda network,\\\n",
    "                         snapshots: maxmin_functionality(network, snapshots, MGA_slack,counter,test))\n",
    "    network.solutions.append(network.copy())"
   ]
  },
  {
   "cell_type": "code",
   "execution_count": 63,
   "metadata": {
    "scrolled": true
   },
   "outputs": [
    {
     "data": {
      "text/plain": [
       "[[12000.0, 299228.22478979855, 32761.36846505116],\n",
       " [7635.747099411689, 332723.7587424936, 0.0],\n",
       " [10645.194310946237, 336524.2036704634, 0.0],\n",
       " [12000.0, 293690.4125042862, 3561.451518882409],\n",
       " [12000.0, 295532.0547945205, 67047.43711616163],\n",
       " [11852.010148124551, 314341.2327785299, 0.0]]"
      ]
     },
     "execution_count": 63,
     "metadata": {},
     "output_type": "execute_result"
    }
   ],
   "source": [
    "max_min_points = []\n",
    "for i in range(len(network.solutions)):\n",
    "    test = []\n",
    "    for j in range(3):\n",
    "        test.append(sum(network.solutions[i].generators.p_nom_opt[j*3:j*3+3]))\n",
    "    max_min_points.append(test)\n",
    "max_min_points"
   ]
  },
  {
   "cell_type": "code",
   "execution_count": 110,
   "metadata": {},
   "outputs": [
    {
     "data": {
      "text/plain": [
       "0.0"
      ]
     },
     "execution_count": 110,
     "metadata": {},
     "output_type": "execute_result"
    }
   ],
   "source": [
    "max_min_points[5][2]"
   ]
  },
  {
   "cell_type": "code",
   "execution_count": 160,
   "metadata": {},
   "outputs": [
    {
     "data": {
      "application/vnd.jupyter.widget-view+json": {
       "model_id": "29f8d077afe140caa8e02c05eed94e93",
       "version_major": 2,
       "version_minor": 0
      },
      "text/plain": [
       "Canvas(toolbar=Toolbar(toolitems=[('Home', 'Reset original view', 'home', 'home'), ('Back', 'Back to previous …"
      ]
     },
     "metadata": {},
     "output_type": "display_data"
    },
    {
     "data": {
      "text/plain": [
       "Text(0.5, 0, 'solar')"
      ]
     },
     "execution_count": 160,
     "metadata": {},
     "output_type": "execute_result"
    }
   ],
   "source": [
    "%matplotlib widget\n",
    "fig = plt.figure()\n",
    "ax = fig.add_subplot(111, projection='3d')\n",
    "  \n",
    "for i in range(len(max_min_points)):\n",
    "    ax.plot([max_min_points[i][0]],[max_min_points[i][1]],[max_min_points[i][2]], \"go\")\n",
    "\n",
    "\n",
    "ax.set_xlabel('gas')\n",
    "ax.set_ylabel('wind')\n",
    "ax.set_zlabel('solar')"
   ]
  },
  {
   "cell_type": "code",
   "execution_count": 104,
   "metadata": {},
   "outputs": [],
   "source": [
    "def constraint_functionality(network, snapshots,  MGA_slack = 0.05, constraint_values = [-1,-1,-1]):\n",
    "    import pyomo.environ as pyomo_env\n",
    "    #MGA_slack = 0.1\n",
    "\n",
    "    network.model.mga_constraint = pyomo_env.Constraint(expr=network.model.objective.expr <= \n",
    "                                                  (1 + MGA_slack) * old_objective_value)\n",
    "\n",
    "    print((1 + MGA_slack) * old_objective_value)\n",
    "\n",
    "    variables = [gen_p for gen_p in network.model.generator_p_nom]\n",
    "\n",
    "    gas_constraint = network.model.generator_p_nom[variables[0]]\n",
    "    gas_constraint += network.model.generator_p_nom[variables[1]]\n",
    "    gas_constraint += network.model.generator_p_nom[variables[2]]\n",
    "    if constraint_values[0] > 0 :\n",
    "        network.model.gas_constraint = pyomo_env.Constraint(expr=gas_constraint==constraint_values[0])\n",
    "        print(' gas constraint')\n",
    "        print(network.model.gas_constraint.expr)\n",
    "\n",
    "    wind_constraint = network.model.generator_p_nom[variables[3]]\n",
    "    wind_constraint += network.model.generator_p_nom[variables[4]]\n",
    "    wind_constraint += network.model.generator_p_nom[variables[5]]\n",
    "    if constraint_values[1] > 0 :\n",
    "        network.model.wind_constraint = pyomo_env.Constraint(expr=wind_constraint==constraint_values[1])\n",
    "        print(' wind constraint')\n",
    "        print(network.model.wind_constraint.expr)\n",
    "    solar_constraint = network.model.generator_p_nom[variables[6]]\n",
    "    solar_constraint += network.model.generator_p_nom[variables[7]]\n",
    "    solar_constraint += network.model.generator_p_nom[variables[8]]\n",
    "    if constraint_values[2] > 0 :\n",
    "        network.model.solar_constraint = pyomo_env.Constraint(expr=solar_constraint==constraint_values[2])\n",
    "        print(' solar constraint')\n",
    "        print(network.model.solar_constraint.expr)"
   ]
  },
  {
   "cell_type": "code",
   "execution_count": 130,
   "metadata": {},
   "outputs": [],
   "source": [
    "def test_point(network,variables):\n",
    "\n",
    "    \n",
    "    out = network.lopf(network.snapshots,\\\n",
    "                 solver_name='gurobi',\\\n",
    "                 skip_pre=True,\\\n",
    "                 extra_functionality=lambda network,\\\n",
    "                 snapshots: constraint_functionality(network, snapshots, MGA_slack,variables),\n",
    "                 solver_options = {'threads':8})\n",
    "\n",
    "    if str(network.results['Solver'].status) == 'ok':\n",
    "        feasable = True\n",
    "        variables_out = [sum(network.generators.p_nom_opt[0:3]),sum(network.generators.p_nom_opt[3:6]),sum(network.generators.p_nom_opt[6:9])]\n",
    "\n",
    "    else : \n",
    "        feasable = False\n",
    "        variables_out = [0,0,0]\n",
    "        \n",
    "    \n",
    "\n",
    "    return(feasable,variables_out)"
   ]
  },
  {
   "cell_type": "code",
   "execution_count": 131,
   "metadata": {},
   "outputs": [],
   "source": [
    "class grid :\n",
    "    pass\n",
    "\n",
    "dens = 11\n",
    "grid.wind,grid.solar  = np.meshgrid(np.linspace(max_min_points[3][1],max_min_points[2][1],dens),\\\n",
    "                                  np.linspace(max_min_points[5][2],max_min_points[4][2],dens))\n",
    "\n",
    "grid.wind = grid.wind.reshape(dens**2)\n",
    "grid.solar = grid.solar.reshape(dens**2)\n",
    "\n",
    "mid_point = [grid.wind.mean(),grid.solar.mean()]\n",
    "dist_to_mid=np.sqrt((abs(grid.wind-grid.solar.mean())+abs(grid.wind-grid.solar.mean()))**2)\n",
    "sort_idx = np.argsort(-dist_to_mid)\n",
    "grid.wind = grid.wind[sort_idx]\n",
    "grid.solar = grid.solar[sort_idx]"
   ]
  },
  {
   "cell_type": "code",
   "execution_count": 132,
   "metadata": {},
   "outputs": [
    {
     "name": "stderr",
     "output_type": "stream",
     "text": [
      "INFO:pypsa.opf:Building pyomo model using `angles` formulation\n",
      "WARNING:pypsa.opf:The following generators have both investment optimisation and unit commitment:\n",
      "Index(['gas 0', 'gas 1', 'gas 2', 'wind 0', 'wind 1', 'wind 2', 'solar 0',\n",
      "       'solar 1', 'solar 2'],\n",
      "      dtype='object', name='name')\n",
      "Currently PyPSA cannot do both these functions, so PyPSA is choosing investment optimisation for these generators.\n",
      "INFO:pypsa.opf:Solving model using gurobi\n"
     ]
    },
    {
     "name": "stdout",
     "output_type": "stream",
     "text": [
      "27643547102.18967\n",
      " wind constraint\n",
      "generator_p_nom[wind 0] + generator_p_nom[wind 1] + generator_p_nom[wind 2]  ==  336524.2036704634\n",
      " solar constraint\n",
      "generator_p_nom[solar 0] + generator_p_nom[solar 1] + generator_p_nom[solar 2]  ==  67047.43711616163\n"
     ]
    },
    {
     "name": "stderr",
     "output_type": "stream",
     "text": [
      "WARNING:pyomo.core:Loading a SolverResults object with a warning status into model=Linear Optimal Power Flow;\n",
      "    message from solver=Problem proven to be infeasible or unbounded.\n",
      "ERROR:pypsa.opf:Optimisation failed with status warning and terminal condition infeasibleOrUnbounded\n",
      "INFO:pypsa.opf:Building pyomo model using `angles` formulation\n",
      "WARNING:pypsa.opf:The following generators have both investment optimisation and unit commitment:\n",
      "Index(['gas 0', 'gas 1', 'gas 2', 'wind 0', 'wind 1', 'wind 2', 'solar 0',\n",
      "       'solar 1', 'solar 2'],\n",
      "      dtype='object', name='name')\n",
      "Currently PyPSA cannot do both these functions, so PyPSA is choosing investment optimisation for these generators.\n"
     ]
    },
    {
     "name": "stdout",
     "output_type": "stream",
     "text": [
      "WARNING: Loading a SolverResults object with a warning status into\n",
      "    model=Linear Optimal Power Flow;\n",
      "        message from solver=Problem proven to be infeasible or unbounded.\n",
      "# ==========================================================\n",
      "# = Solver Results                                         =\n",
      "# ==========================================================\n",
      "# ----------------------------------------------------------\n",
      "#   Problem Information\n",
      "# ----------------------------------------------------------\n",
      "Problem: \n",
      "- Name: x11533\n",
      "  Lower bound: -inf\n",
      "  Upper bound: inf\n",
      "  Number of objectives: 1\n",
      "  Number of constraints: 23812\n",
      "  Number of variables: 11533\n",
      "  Number of binary variables: 0\n",
      "  Number of integer variables: 0\n",
      "  Number of continuous variables: 11533\n",
      "  Number of nonzeros: 49845\n",
      "  Sense: minimize\n",
      "# ----------------------------------------------------------\n",
      "#   Solver Information\n",
      "# ----------------------------------------------------------\n",
      "Solver: \n",
      "- Status: warning\n",
      "  Return code: 0\n",
      "  Message: Problem proven to be infeasible or unbounded.\n",
      "  Termination condition: infeasibleOrUnbounded\n",
      "  Termination message: Problem proven to be infeasible or unbounded.\n",
      "  Wall time: 0.0625\n",
      "  Error rc: 0\n",
      "  Time: 0.3905966281890869\n"
     ]
    },
    {
     "name": "stderr",
     "output_type": "stream",
     "text": [
      "INFO:pypsa.opf:Solving model using gurobi\n"
     ]
    },
    {
     "name": "stdout",
     "output_type": "stream",
     "text": [
      "27643547102.18967\n",
      " wind constraint\n",
      "generator_p_nom[wind 0] + generator_p_nom[wind 1] + generator_p_nom[wind 2]  ==  336524.2036704634\n",
      " solar constraint\n",
      "generator_p_nom[solar 0] + generator_p_nom[solar 1] + generator_p_nom[solar 2]  ==  53637.9496929293\n"
     ]
    },
    {
     "name": "stderr",
     "output_type": "stream",
     "text": [
      "WARNING:pyomo.core:Loading a SolverResults object with a warning status into model=Linear Optimal Power Flow;\n",
      "    message from solver=Problem proven to be infeasible or unbounded.\n",
      "ERROR:pypsa.opf:Optimisation failed with status warning and terminal condition infeasibleOrUnbounded\n",
      "INFO:pypsa.opf:Building pyomo model using `angles` formulation\n",
      "WARNING:pypsa.opf:The following generators have both investment optimisation and unit commitment:\n",
      "Index(['gas 0', 'gas 1', 'gas 2', 'wind 0', 'wind 1', 'wind 2', 'solar 0',\n",
      "       'solar 1', 'solar 2'],\n",
      "      dtype='object', name='name')\n",
      "Currently PyPSA cannot do both these functions, so PyPSA is choosing investment optimisation for these generators.\n"
     ]
    },
    {
     "name": "stdout",
     "output_type": "stream",
     "text": [
      "WARNING: Loading a SolverResults object with a warning status into\n",
      "    model=Linear Optimal Power Flow;\n",
      "        message from solver=Problem proven to be infeasible or unbounded.\n",
      "# ==========================================================\n",
      "# = Solver Results                                         =\n",
      "# ==========================================================\n",
      "# ----------------------------------------------------------\n",
      "#   Problem Information\n",
      "# ----------------------------------------------------------\n",
      "Problem: \n",
      "- Name: x11533\n",
      "  Lower bound: -inf\n",
      "  Upper bound: inf\n",
      "  Number of objectives: 1\n",
      "  Number of constraints: 23812\n",
      "  Number of variables: 11533\n",
      "  Number of binary variables: 0\n",
      "  Number of integer variables: 0\n",
      "  Number of continuous variables: 11533\n",
      "  Number of nonzeros: 49845\n",
      "  Sense: minimize\n",
      "# ----------------------------------------------------------\n",
      "#   Solver Information\n",
      "# ----------------------------------------------------------\n",
      "Solver: \n",
      "- Status: warning\n",
      "  Return code: 0\n",
      "  Message: Problem proven to be infeasible or unbounded.\n",
      "  Termination condition: infeasibleOrUnbounded\n",
      "  Termination message: Problem proven to be infeasible or unbounded.\n",
      "  Wall time: 0.17186355590820312\n",
      "  Error rc: 0\n",
      "  Time: 0.49996447563171387\n"
     ]
    },
    {
     "name": "stderr",
     "output_type": "stream",
     "text": [
      "INFO:pypsa.opf:Solving model using gurobi\n"
     ]
    },
    {
     "name": "stdout",
     "output_type": "stream",
     "text": [
      "27643547102.18967\n",
      " wind constraint\n",
      "generator_p_nom[wind 0] + generator_p_nom[wind 1] + generator_p_nom[wind 2]  ==  336524.2036704634\n",
      " solar constraint\n",
      "generator_p_nom[solar 0] + generator_p_nom[solar 1] + generator_p_nom[solar 2]  ==  46933.20598131314\n"
     ]
    },
    {
     "name": "stderr",
     "output_type": "stream",
     "text": [
      "WARNING:pyomo.core:Loading a SolverResults object with a warning status into model=Linear Optimal Power Flow;\n",
      "    message from solver=Problem proven to be infeasible or unbounded.\n",
      "ERROR:pypsa.opf:Optimisation failed with status warning and terminal condition infeasibleOrUnbounded\n",
      "INFO:pypsa.opf:Building pyomo model using `angles` formulation\n",
      "WARNING:pypsa.opf:The following generators have both investment optimisation and unit commitment:\n",
      "Index(['gas 0', 'gas 1', 'gas 2', 'wind 0', 'wind 1', 'wind 2', 'solar 0',\n",
      "       'solar 1', 'solar 2'],\n",
      "      dtype='object', name='name')\n",
      "Currently PyPSA cannot do both these functions, so PyPSA is choosing investment optimisation for these generators.\n"
     ]
    },
    {
     "name": "stdout",
     "output_type": "stream",
     "text": [
      "WARNING: Loading a SolverResults object with a warning status into\n",
      "    model=Linear Optimal Power Flow;\n",
      "        message from solver=Problem proven to be infeasible or unbounded.\n",
      "# ==========================================================\n",
      "# = Solver Results                                         =\n",
      "# ==========================================================\n",
      "# ----------------------------------------------------------\n",
      "#   Problem Information\n",
      "# ----------------------------------------------------------\n",
      "Problem: \n",
      "- Name: x11533\n",
      "  Lower bound: -inf\n",
      "  Upper bound: inf\n",
      "  Number of objectives: 1\n",
      "  Number of constraints: 23812\n",
      "  Number of variables: 11533\n",
      "  Number of binary variables: 0\n",
      "  Number of integer variables: 0\n",
      "  Number of continuous variables: 11533\n",
      "  Number of nonzeros: 49845\n",
      "  Sense: minimize\n",
      "# ----------------------------------------------------------\n",
      "#   Solver Information\n",
      "# ----------------------------------------------------------\n",
      "Solver: \n",
      "- Status: warning\n",
      "  Return code: 0\n",
      "  Message: Problem proven to be infeasible or unbounded.\n",
      "  Termination condition: infeasibleOrUnbounded\n",
      "  Termination message: Problem proven to be infeasible or unbounded.\n",
      "  Wall time: 0.20311355590820312\n",
      "  Error rc: 0\n",
      "  Time: 0.5468347072601318\n"
     ]
    },
    {
     "name": "stderr",
     "output_type": "stream",
     "text": [
      "INFO:pypsa.opf:Solving model using gurobi\n"
     ]
    },
    {
     "name": "stdout",
     "output_type": "stream",
     "text": [
      "27643547102.18967\n",
      " wind constraint\n",
      "generator_p_nom[wind 0] + generator_p_nom[wind 1] + generator_p_nom[wind 2]  ==  336524.2036704634\n",
      " solar constraint\n",
      "generator_p_nom[solar 0] + generator_p_nom[solar 1] + generator_p_nom[solar 2]  ==  13409.487423232325\n"
     ]
    },
    {
     "name": "stderr",
     "output_type": "stream",
     "text": [
      "WARNING:pyomo.core:Loading a SolverResults object with a warning status into model=Linear Optimal Power Flow;\n",
      "    message from solver=Problem proven to be infeasible or unbounded.\n",
      "ERROR:pypsa.opf:Optimisation failed with status warning and terminal condition infeasibleOrUnbounded\n",
      "INFO:pypsa.opf:Building pyomo model using `angles` formulation\n",
      "WARNING:pypsa.opf:The following generators have both investment optimisation and unit commitment:\n",
      "Index(['gas 0', 'gas 1', 'gas 2', 'wind 0', 'wind 1', 'wind 2', 'solar 0',\n",
      "       'solar 1', 'solar 2'],\n",
      "      dtype='object', name='name')\n",
      "Currently PyPSA cannot do both these functions, so PyPSA is choosing investment optimisation for these generators.\n"
     ]
    },
    {
     "name": "stdout",
     "output_type": "stream",
     "text": [
      "WARNING: Loading a SolverResults object with a warning status into\n",
      "    model=Linear Optimal Power Flow;\n",
      "        message from solver=Problem proven to be infeasible or unbounded.\n",
      "# ==========================================================\n",
      "# = Solver Results                                         =\n",
      "# ==========================================================\n",
      "# ----------------------------------------------------------\n",
      "#   Problem Information\n",
      "# ----------------------------------------------------------\n",
      "Problem: \n",
      "- Name: x11533\n",
      "  Lower bound: -inf\n",
      "  Upper bound: inf\n",
      "  Number of objectives: 1\n",
      "  Number of constraints: 23812\n",
      "  Number of variables: 11533\n",
      "  Number of binary variables: 0\n",
      "  Number of integer variables: 0\n",
      "  Number of continuous variables: 11533\n",
      "  Number of nonzeros: 49845\n",
      "  Sense: minimize\n",
      "# ----------------------------------------------------------\n",
      "#   Solver Information\n",
      "# ----------------------------------------------------------\n",
      "Solver: \n",
      "- Status: warning\n",
      "  Return code: 0\n",
      "  Message: Problem proven to be infeasible or unbounded.\n",
      "  Termination condition: infeasibleOrUnbounded\n",
      "  Termination message: Problem proven to be infeasible or unbounded.\n",
      "  Wall time: 0.17186355590820312\n",
      "  Error rc: 0\n",
      "  Time: 0.5155854225158691\n"
     ]
    },
    {
     "name": "stderr",
     "output_type": "stream",
     "text": [
      "INFO:pypsa.opf:Solving model using gurobi\n"
     ]
    },
    {
     "name": "stdout",
     "output_type": "stream",
     "text": [
      "27643547102.18967\n",
      " wind constraint\n",
      "generator_p_nom[wind 0] + generator_p_nom[wind 1] + generator_p_nom[wind 2]  ==  336524.2036704634\n"
     ]
    },
    {
     "name": "stderr",
     "output_type": "stream",
     "text": [
      "INFO:pypsa.opf:Optimization successful\n",
      "INFO:pypsa.opf:Building pyomo model using `angles` formulation\n",
      "WARNING:pypsa.opf:The following generators have both investment optimisation and unit commitment:\n",
      "Index(['gas 0', 'gas 1', 'gas 2', 'wind 0', 'wind 1', 'wind 2', 'solar 0',\n",
      "       'solar 1', 'solar 2'],\n",
      "      dtype='object', name='name')\n",
      "Currently PyPSA cannot do both these functions, so PyPSA is choosing investment optimisation for these generators.\n"
     ]
    },
    {
     "name": "stdout",
     "output_type": "stream",
     "text": [
      "# ==========================================================\n",
      "# = Solver Results                                         =\n",
      "# ==========================================================\n",
      "# ----------------------------------------------------------\n",
      "#   Problem Information\n",
      "# ----------------------------------------------------------\n",
      "Problem: \n",
      "- Name: x11533_copy\n",
      "  Lower bound: 27643547102.18961\n",
      "  Upper bound: 27643547102.18961\n",
      "  Number of objectives: 1\n",
      "  Number of constraints: 23811\n",
      "  Number of variables: 11533\n",
      "  Number of binary variables: 0\n",
      "  Number of integer variables: 0\n",
      "  Number of continuous variables: 11533\n",
      "  Number of nonzeros: 49842\n",
      "  Sense: minimize\n",
      "# ----------------------------------------------------------\n",
      "#   Solver Information\n",
      "# ----------------------------------------------------------\n",
      "Solver: \n",
      "- Status: ok\n",
      "  Return code: 0\n",
      "  Message: Model was solved to optimality (subject to tolerances), and an optimal solution is available.\n",
      "  Termination condition: optimal\n",
      "  Termination message: Model was solved to optimality (subject to tolerances), and an optimal solution is available.\n",
      "  Wall time: 0.49996376037597656\n",
      "  Error rc: 0\n",
      "  Time: 0.937431812286377\n",
      "# ----------------------------------------------------------\n",
      "#   Solution Information\n",
      "# ----------------------------------------------------------\n",
      "Solution: \n",
      "- number of solutions: 0\n",
      "  number of solutions displayed: 0\n"
     ]
    },
    {
     "name": "stderr",
     "output_type": "stream",
     "text": [
      "INFO:pypsa.opf:Solving model using gurobi\n"
     ]
    },
    {
     "name": "stdout",
     "output_type": "stream",
     "text": [
      "27643547102.18967\n",
      " wind constraint\n",
      "generator_p_nom[wind 0] + generator_p_nom[wind 1] + generator_p_nom[wind 2]  ==  336524.2036704634\n",
      " solar constraint\n",
      "generator_p_nom[solar 0] + generator_p_nom[solar 1] + generator_p_nom[solar 2]  ==  6704.743711616163\n"
     ]
    },
    {
     "name": "stderr",
     "output_type": "stream",
     "text": [
      "WARNING:pyomo.core:Loading a SolverResults object with a warning status into model=Linear Optimal Power Flow;\n",
      "    message from solver=Problem proven to be infeasible or unbounded.\n",
      "ERROR:pypsa.opf:Optimisation failed with status warning and terminal condition infeasibleOrUnbounded\n",
      "INFO:pypsa.opf:Building pyomo model using `angles` formulation\n",
      "WARNING:pypsa.opf:The following generators have both investment optimisation and unit commitment:\n",
      "Index(['gas 0', 'gas 1', 'gas 2', 'wind 0', 'wind 1', 'wind 2', 'solar 0',\n",
      "       'solar 1', 'solar 2'],\n",
      "      dtype='object', name='name')\n",
      "Currently PyPSA cannot do both these functions, so PyPSA is choosing investment optimisation for these generators.\n"
     ]
    },
    {
     "name": "stdout",
     "output_type": "stream",
     "text": [
      "WARNING: Loading a SolverResults object with a warning status into\n",
      "    model=Linear Optimal Power Flow;\n",
      "        message from solver=Problem proven to be infeasible or unbounded.\n",
      "# ==========================================================\n",
      "# = Solver Results                                         =\n",
      "# ==========================================================\n",
      "# ----------------------------------------------------------\n",
      "#   Problem Information\n",
      "# ----------------------------------------------------------\n",
      "Problem: \n",
      "- Name: x11533\n",
      "  Lower bound: -inf\n",
      "  Upper bound: inf\n",
      "  Number of objectives: 1\n",
      "  Number of constraints: 23812\n",
      "  Number of variables: 11533\n",
      "  Number of binary variables: 0\n",
      "  Number of integer variables: 0\n",
      "  Number of continuous variables: 11533\n",
      "  Number of nonzeros: 49845\n",
      "  Sense: minimize\n",
      "# ----------------------------------------------------------\n",
      "#   Solver Information\n",
      "# ----------------------------------------------------------\n",
      "Solver: \n",
      "- Status: warning\n",
      "  Return code: 0\n",
      "  Message: Problem proven to be infeasible or unbounded.\n",
      "  Termination condition: infeasibleOrUnbounded\n",
      "  Termination message: Problem proven to be infeasible or unbounded.\n",
      "  Wall time: 0.421844482421875\n",
      "  Error rc: 0\n",
      "  Time: 0.7343363761901855\n"
     ]
    },
    {
     "name": "stderr",
     "output_type": "stream",
     "text": [
      "INFO:pypsa.opf:Solving model using gurobi\n"
     ]
    },
    {
     "name": "stdout",
     "output_type": "stream",
     "text": [
      "27643547102.18967\n",
      " wind constraint\n",
      "generator_p_nom[wind 0] + generator_p_nom[wind 1] + generator_p_nom[wind 2]  ==  336524.2036704634\n",
      " solar constraint\n",
      "generator_p_nom[solar 0] + generator_p_nom[solar 1] + generator_p_nom[solar 2]  ==  20114.231134848487\n"
     ]
    },
    {
     "name": "stderr",
     "output_type": "stream",
     "text": [
      "WARNING:pyomo.core:Loading a SolverResults object with a warning status into model=Linear Optimal Power Flow;\n",
      "    message from solver=Problem proven to be infeasible or unbounded.\n",
      "ERROR:pypsa.opf:Optimisation failed with status warning and terminal condition infeasibleOrUnbounded\n",
      "INFO:pypsa.opf:Building pyomo model using `angles` formulation\n",
      "WARNING:pypsa.opf:The following generators have both investment optimisation and unit commitment:\n",
      "Index(['gas 0', 'gas 1', 'gas 2', 'wind 0', 'wind 1', 'wind 2', 'solar 0',\n",
      "       'solar 1', 'solar 2'],\n",
      "      dtype='object', name='name')\n",
      "Currently PyPSA cannot do both these functions, so PyPSA is choosing investment optimisation for these generators.\n"
     ]
    },
    {
     "name": "stdout",
     "output_type": "stream",
     "text": [
      "WARNING: Loading a SolverResults object with a warning status into\n",
      "    model=Linear Optimal Power Flow;\n",
      "        message from solver=Problem proven to be infeasible or unbounded.\n",
      "# ==========================================================\n",
      "# = Solver Results                                         =\n",
      "# ==========================================================\n",
      "# ----------------------------------------------------------\n",
      "#   Problem Information\n",
      "# ----------------------------------------------------------\n",
      "Problem: \n",
      "- Name: x11533\n",
      "  Lower bound: -inf\n",
      "  Upper bound: inf\n",
      "  Number of objectives: 1\n",
      "  Number of constraints: 23812\n",
      "  Number of variables: 11533\n",
      "  Number of binary variables: 0\n",
      "  Number of integer variables: 0\n",
      "  Number of continuous variables: 11533\n",
      "  Number of nonzeros: 49845\n",
      "  Sense: minimize\n",
      "# ----------------------------------------------------------\n",
      "#   Solver Information\n",
      "# ----------------------------------------------------------\n",
      "Solver: \n",
      "- Status: warning\n",
      "  Return code: 0\n",
      "  Message: Problem proven to be infeasible or unbounded.\n",
      "  Termination condition: infeasibleOrUnbounded\n",
      "  Termination message: Problem proven to be infeasible or unbounded.\n",
      "  Wall time: 0.218719482421875\n",
      "  Error rc: 0\n",
      "  Time: 0.5624399185180664\n"
     ]
    },
    {
     "name": "stderr",
     "output_type": "stream",
     "text": [
      "INFO:pypsa.opf:Solving model using gurobi\n"
     ]
    },
    {
     "name": "stdout",
     "output_type": "stream",
     "text": [
      "27643547102.18967\n",
      " wind constraint\n",
      "generator_p_nom[wind 0] + generator_p_nom[wind 1] + generator_p_nom[wind 2]  ==  336524.2036704634\n",
      " solar constraint\n",
      "generator_p_nom[solar 0] + generator_p_nom[solar 1] + generator_p_nom[solar 2]  ==  40228.462269696975\n"
     ]
    },
    {
     "name": "stderr",
     "output_type": "stream",
     "text": [
      "WARNING:pyomo.core:Loading a SolverResults object with a warning status into model=Linear Optimal Power Flow;\n",
      "    message from solver=Problem proven to be infeasible or unbounded.\n",
      "ERROR:pypsa.opf:Optimisation failed with status warning and terminal condition infeasibleOrUnbounded\n",
      "INFO:pypsa.opf:Building pyomo model using `angles` formulation\n",
      "WARNING:pypsa.opf:The following generators have both investment optimisation and unit commitment:\n",
      "Index(['gas 0', 'gas 1', 'gas 2', 'wind 0', 'wind 1', 'wind 2', 'solar 0',\n",
      "       'solar 1', 'solar 2'],\n",
      "      dtype='object', name='name')\n",
      "Currently PyPSA cannot do both these functions, so PyPSA is choosing investment optimisation for these generators.\n"
     ]
    },
    {
     "name": "stdout",
     "output_type": "stream",
     "text": [
      "WARNING: Loading a SolverResults object with a warning status into\n",
      "    model=Linear Optimal Power Flow;\n",
      "        message from solver=Problem proven to be infeasible or unbounded.\n",
      "# ==========================================================\n",
      "# = Solver Results                                         =\n",
      "# ==========================================================\n",
      "# ----------------------------------------------------------\n",
      "#   Problem Information\n",
      "# ----------------------------------------------------------\n",
      "Problem: \n",
      "- Name: x11533\n",
      "  Lower bound: -inf\n",
      "  Upper bound: inf\n",
      "  Number of objectives: 1\n",
      "  Number of constraints: 23812\n",
      "  Number of variables: 11533\n",
      "  Number of binary variables: 0\n",
      "  Number of integer variables: 0\n",
      "  Number of continuous variables: 11533\n",
      "  Number of nonzeros: 49845\n",
      "  Sense: minimize\n",
      "# ----------------------------------------------------------\n",
      "#   Solver Information\n",
      "# ----------------------------------------------------------\n",
      "Solver: \n",
      "- Status: warning\n",
      "  Return code: 0\n",
      "  Message: Problem proven to be infeasible or unbounded.\n",
      "  Termination condition: infeasibleOrUnbounded\n",
      "  Termination message: Problem proven to be infeasible or unbounded.\n",
      "  Wall time: 0.2031078338623047\n",
      "  Error rc: 0\n",
      "  Time: 0.6093308925628662\n"
     ]
    },
    {
     "name": "stderr",
     "output_type": "stream",
     "text": [
      "INFO:pypsa.opf:Solving model using gurobi\n"
     ]
    },
    {
     "name": "stdout",
     "output_type": "stream",
     "text": [
      "27643547102.18967\n",
      " wind constraint\n",
      "generator_p_nom[wind 0] + generator_p_nom[wind 1] + generator_p_nom[wind 2]  ==  336524.2036704634\n",
      " solar constraint\n",
      "generator_p_nom[solar 0] + generator_p_nom[solar 1] + generator_p_nom[solar 2]  ==  60342.69340454546\n"
     ]
    },
    {
     "name": "stderr",
     "output_type": "stream",
     "text": [
      "WARNING:pyomo.core:Loading a SolverResults object with a warning status into model=Linear Optimal Power Flow;\n",
      "    message from solver=Problem proven to be infeasible or unbounded.\n",
      "ERROR:pypsa.opf:Optimisation failed with status warning and terminal condition infeasibleOrUnbounded\n",
      "INFO:pypsa.opf:Building pyomo model using `angles` formulation\n",
      "WARNING:pypsa.opf:The following generators have both investment optimisation and unit commitment:\n",
      "Index(['gas 0', 'gas 1', 'gas 2', 'wind 0', 'wind 1', 'wind 2', 'solar 0',\n",
      "       'solar 1', 'solar 2'],\n",
      "      dtype='object', name='name')\n",
      "Currently PyPSA cannot do both these functions, so PyPSA is choosing investment optimisation for these generators.\n"
     ]
    },
    {
     "name": "stdout",
     "output_type": "stream",
     "text": [
      "WARNING: Loading a SolverResults object with a warning status into\n",
      "    model=Linear Optimal Power Flow;\n",
      "        message from solver=Problem proven to be infeasible or unbounded.\n",
      "# ==========================================================\n",
      "# = Solver Results                                         =\n",
      "# ==========================================================\n",
      "# ----------------------------------------------------------\n",
      "#   Problem Information\n",
      "# ----------------------------------------------------------\n",
      "Problem: \n",
      "- Name: x11533\n",
      "  Lower bound: -inf\n",
      "  Upper bound: inf\n",
      "  Number of objectives: 1\n",
      "  Number of constraints: 23812\n",
      "  Number of variables: 11533\n",
      "  Number of binary variables: 0\n",
      "  Number of integer variables: 0\n",
      "  Number of continuous variables: 11533\n",
      "  Number of nonzeros: 49845\n",
      "  Sense: minimize\n",
      "# ----------------------------------------------------------\n",
      "#   Solver Information\n",
      "# ----------------------------------------------------------\n",
      "Solver: \n",
      "- Status: warning\n",
      "  Return code: 0\n",
      "  Message: Problem proven to be infeasible or unbounded.\n",
      "  Termination condition: infeasibleOrUnbounded\n",
      "  Termination message: Problem proven to be infeasible or unbounded.\n",
      "  Wall time: 0.10935020446777344\n",
      "  Error rc: 0\n",
      "  Time: 0.4824552536010742\n"
     ]
    },
    {
     "name": "stderr",
     "output_type": "stream",
     "text": [
      "INFO:pypsa.opf:Solving model using gurobi\n"
     ]
    },
    {
     "name": "stdout",
     "output_type": "stream",
     "text": [
      "27643547102.18967\n",
      " wind constraint\n",
      "generator_p_nom[wind 0] + generator_p_nom[wind 1] + generator_p_nom[wind 2]  ==  336524.2036704634\n",
      " solar constraint\n",
      "generator_p_nom[solar 0] + generator_p_nom[solar 1] + generator_p_nom[solar 2]  ==  33523.718558080815\n"
     ]
    },
    {
     "name": "stderr",
     "output_type": "stream",
     "text": [
      "WARNING:pyomo.core:Loading a SolverResults object with a warning status into model=Linear Optimal Power Flow;\n",
      "    message from solver=Problem proven to be infeasible or unbounded.\n",
      "ERROR:pypsa.opf:Optimisation failed with status warning and terminal condition infeasibleOrUnbounded\n",
      "INFO:pypsa.opf:Building pyomo model using `angles` formulation\n",
      "WARNING:pypsa.opf:The following generators have both investment optimisation and unit commitment:\n",
      "Index(['gas 0', 'gas 1', 'gas 2', 'wind 0', 'wind 1', 'wind 2', 'solar 0',\n",
      "       'solar 1', 'solar 2'],\n",
      "      dtype='object', name='name')\n",
      "Currently PyPSA cannot do both these functions, so PyPSA is choosing investment optimisation for these generators.\n"
     ]
    },
    {
     "name": "stdout",
     "output_type": "stream",
     "text": [
      "WARNING: Loading a SolverResults object with a warning status into\n",
      "    model=Linear Optimal Power Flow;\n",
      "        message from solver=Problem proven to be infeasible or unbounded.\n",
      "# ==========================================================\n",
      "# = Solver Results                                         =\n",
      "# ==========================================================\n",
      "# ----------------------------------------------------------\n",
      "#   Problem Information\n",
      "# ----------------------------------------------------------\n",
      "Problem: \n",
      "- Name: x11533\n",
      "  Lower bound: -inf\n",
      "  Upper bound: inf\n",
      "  Number of objectives: 1\n",
      "  Number of constraints: 23812\n",
      "  Number of variables: 11533\n",
      "  Number of binary variables: 0\n",
      "  Number of integer variables: 0\n",
      "  Number of continuous variables: 11533\n",
      "  Number of nonzeros: 49845\n",
      "  Sense: minimize\n",
      "# ----------------------------------------------------------\n",
      "#   Solver Information\n",
      "# ----------------------------------------------------------\n",
      "Solver: \n",
      "- Status: warning\n",
      "  Return code: 0\n",
      "  Message: Problem proven to be infeasible or unbounded.\n",
      "  Termination condition: infeasibleOrUnbounded\n",
      "  Termination message: Problem proven to be infeasible or unbounded.\n",
      "  Wall time: 0.2187347412109375\n",
      "  Error rc: 0\n",
      "  Time: 0.5624704360961914\n"
     ]
    },
    {
     "name": "stderr",
     "output_type": "stream",
     "text": [
      "INFO:pypsa.opf:Solving model using gurobi\n"
     ]
    },
    {
     "name": "stdout",
     "output_type": "stream",
     "text": [
      "27643547102.18967\n",
      " wind constraint\n",
      "generator_p_nom[wind 0] + generator_p_nom[wind 1] + generator_p_nom[wind 2]  ==  336524.2036704634\n",
      " solar constraint\n",
      "generator_p_nom[solar 0] + generator_p_nom[solar 1] + generator_p_nom[solar 2]  ==  26818.97484646465\n"
     ]
    },
    {
     "name": "stderr",
     "output_type": "stream",
     "text": [
      "WARNING:pyomo.core:Loading a SolverResults object with a warning status into model=Linear Optimal Power Flow;\n",
      "    message from solver=Problem proven to be infeasible or unbounded.\n",
      "ERROR:pypsa.opf:Optimisation failed with status warning and terminal condition infeasibleOrUnbounded\n",
      "INFO:pypsa.opf:Building pyomo model using `angles` formulation\n",
      "WARNING:pypsa.opf:The following generators have both investment optimisation and unit commitment:\n",
      "Index(['gas 0', 'gas 1', 'gas 2', 'wind 0', 'wind 1', 'wind 2', 'solar 0',\n",
      "       'solar 1', 'solar 2'],\n",
      "      dtype='object', name='name')\n",
      "Currently PyPSA cannot do both these functions, so PyPSA is choosing investment optimisation for these generators.\n"
     ]
    },
    {
     "name": "stdout",
     "output_type": "stream",
     "text": [
      "WARNING: Loading a SolverResults object with a warning status into\n",
      "    model=Linear Optimal Power Flow;\n",
      "        message from solver=Problem proven to be infeasible or unbounded.\n",
      "# ==========================================================\n",
      "# = Solver Results                                         =\n",
      "# ==========================================================\n",
      "# ----------------------------------------------------------\n",
      "#   Problem Information\n",
      "# ----------------------------------------------------------\n",
      "Problem: \n",
      "- Name: x11533\n",
      "  Lower bound: -inf\n",
      "  Upper bound: inf\n",
      "  Number of objectives: 1\n",
      "  Number of constraints: 23812\n",
      "  Number of variables: 11533\n",
      "  Number of binary variables: 0\n",
      "  Number of integer variables: 0\n",
      "  Number of continuous variables: 11533\n",
      "  Number of nonzeros: 49845\n",
      "  Sense: minimize\n",
      "# ----------------------------------------------------------\n",
      "#   Solver Information\n",
      "# ----------------------------------------------------------\n",
      "Solver: \n",
      "- Status: warning\n",
      "  Return code: 0\n",
      "  Message: Problem proven to be infeasible or unbounded.\n",
      "  Termination condition: infeasibleOrUnbounded\n",
      "  Termination message: Problem proven to be infeasible or unbounded.\n",
      "  Wall time: 0.28122901916503906\n",
      "  Error rc: 0\n",
      "  Time: 0.624953031539917\n"
     ]
    },
    {
     "name": "stderr",
     "output_type": "stream",
     "text": [
      "INFO:pypsa.opf:Solving model using gurobi\n"
     ]
    },
    {
     "name": "stdout",
     "output_type": "stream",
     "text": [
      "27643547102.18967\n",
      " wind constraint\n",
      "generator_p_nom[wind 0] + generator_p_nom[wind 1] + generator_p_nom[wind 2]  ==  332240.8245538457\n",
      " solar constraint\n",
      "generator_p_nom[solar 0] + generator_p_nom[solar 1] + generator_p_nom[solar 2]  ==  20114.231134848487\n"
     ]
    },
    {
     "name": "stderr",
     "output_type": "stream",
     "text": [
      "WARNING:pyomo.core:Loading a SolverResults object with a warning status into model=Linear Optimal Power Flow;\n",
      "    message from solver=Problem proven to be infeasible or unbounded.\n",
      "ERROR:pypsa.opf:Optimisation failed with status warning and terminal condition infeasibleOrUnbounded\n",
      "INFO:pypsa.opf:Building pyomo model using `angles` formulation\n",
      "WARNING:pypsa.opf:The following generators have both investment optimisation and unit commitment:\n",
      "Index(['gas 0', 'gas 1', 'gas 2', 'wind 0', 'wind 1', 'wind 2', 'solar 0',\n",
      "       'solar 1', 'solar 2'],\n",
      "      dtype='object', name='name')\n",
      "Currently PyPSA cannot do both these functions, so PyPSA is choosing investment optimisation for these generators.\n"
     ]
    },
    {
     "name": "stdout",
     "output_type": "stream",
     "text": [
      "WARNING: Loading a SolverResults object with a warning status into\n",
      "    model=Linear Optimal Power Flow;\n",
      "        message from solver=Problem proven to be infeasible or unbounded.\n",
      "# ==========================================================\n",
      "# = Solver Results                                         =\n",
      "# ==========================================================\n",
      "# ----------------------------------------------------------\n",
      "#   Problem Information\n",
      "# ----------------------------------------------------------\n",
      "Problem: \n",
      "- Name: x11533\n",
      "  Lower bound: -inf\n",
      "  Upper bound: inf\n",
      "  Number of objectives: 1\n",
      "  Number of constraints: 23812\n",
      "  Number of variables: 11533\n",
      "  Number of binary variables: 0\n",
      "  Number of integer variables: 0\n",
      "  Number of continuous variables: 11533\n",
      "  Number of nonzeros: 49845\n",
      "  Sense: minimize\n",
      "# ----------------------------------------------------------\n",
      "#   Solver Information\n",
      "# ----------------------------------------------------------\n",
      "Solver: \n",
      "- Status: warning\n",
      "  Return code: 0\n",
      "  Message: Problem proven to be infeasible or unbounded.\n",
      "  Termination condition: infeasibleOrUnbounded\n",
      "  Termination message: Problem proven to be infeasible or unbounded.\n",
      "  Wall time: 0.1874866485595703\n",
      "  Error rc: 0\n",
      "  Time: 0.48434019088745117\n"
     ]
    },
    {
     "name": "stderr",
     "output_type": "stream",
     "text": [
      "INFO:pypsa.opf:Solving model using gurobi\n"
     ]
    },
    {
     "name": "stdout",
     "output_type": "stream",
     "text": [
      "27643547102.18967\n",
      " wind constraint\n",
      "generator_p_nom[wind 0] + generator_p_nom[wind 1] + generator_p_nom[wind 2]  ==  332240.8245538457\n",
      " solar constraint\n",
      "generator_p_nom[solar 0] + generator_p_nom[solar 1] + generator_p_nom[solar 2]  ==  46933.20598131314\n"
     ]
    },
    {
     "name": "stderr",
     "output_type": "stream",
     "text": [
      "WARNING:pyomo.core:Loading a SolverResults object with a warning status into model=Linear Optimal Power Flow;\n",
      "    message from solver=Problem proven to be infeasible or unbounded.\n",
      "ERROR:pypsa.opf:Optimisation failed with status warning and terminal condition infeasibleOrUnbounded\n",
      "INFO:pypsa.opf:Building pyomo model using `angles` formulation\n",
      "WARNING:pypsa.opf:The following generators have both investment optimisation and unit commitment:\n",
      "Index(['gas 0', 'gas 1', 'gas 2', 'wind 0', 'wind 1', 'wind 2', 'solar 0',\n",
      "       'solar 1', 'solar 2'],\n",
      "      dtype='object', name='name')\n",
      "Currently PyPSA cannot do both these functions, so PyPSA is choosing investment optimisation for these generators.\n"
     ]
    },
    {
     "name": "stdout",
     "output_type": "stream",
     "text": [
      "WARNING: Loading a SolverResults object with a warning status into\n",
      "    model=Linear Optimal Power Flow;\n",
      "        message from solver=Problem proven to be infeasible or unbounded.\n",
      "# ==========================================================\n",
      "# = Solver Results                                         =\n",
      "# ==========================================================\n",
      "# ----------------------------------------------------------\n",
      "#   Problem Information\n",
      "# ----------------------------------------------------------\n",
      "Problem: \n",
      "- Name: x11533\n",
      "  Lower bound: -inf\n",
      "  Upper bound: inf\n",
      "  Number of objectives: 1\n",
      "  Number of constraints: 23812\n",
      "  Number of variables: 11533\n",
      "  Number of binary variables: 0\n",
      "  Number of integer variables: 0\n",
      "  Number of continuous variables: 11533\n",
      "  Number of nonzeros: 49845\n",
      "  Sense: minimize\n",
      "# ----------------------------------------------------------\n",
      "#   Solver Information\n",
      "# ----------------------------------------------------------\n",
      "Solver: \n",
      "- Status: warning\n",
      "  Return code: 0\n",
      "  Message: Problem proven to be infeasible or unbounded.\n",
      "  Termination condition: infeasibleOrUnbounded\n",
      "  Termination message: Problem proven to be infeasible or unbounded.\n",
      "  Wall time: 0.2031078338623047\n",
      "  Error rc: 0\n",
      "  Time: 0.53121018409729\n"
     ]
    },
    {
     "name": "stderr",
     "output_type": "stream",
     "text": [
      "INFO:pypsa.opf:Solving model using gurobi\n"
     ]
    },
    {
     "name": "stdout",
     "output_type": "stream",
     "text": [
      "27643547102.18967\n",
      " wind constraint\n",
      "generator_p_nom[wind 0] + generator_p_nom[wind 1] + generator_p_nom[wind 2]  ==  332240.8245538457\n",
      " solar constraint\n",
      "generator_p_nom[solar 0] + generator_p_nom[solar 1] + generator_p_nom[solar 2]  ==  26818.97484646465\n"
     ]
    },
    {
     "name": "stderr",
     "output_type": "stream",
     "text": [
      "WARNING:pyomo.core:Loading a SolverResults object with a warning status into model=Linear Optimal Power Flow;\n",
      "    message from solver=Problem proven to be infeasible or unbounded.\n",
      "ERROR:pypsa.opf:Optimisation failed with status warning and terminal condition infeasibleOrUnbounded\n",
      "INFO:pypsa.opf:Building pyomo model using `angles` formulation\n",
      "WARNING:pypsa.opf:The following generators have both investment optimisation and unit commitment:\n",
      "Index(['gas 0', 'gas 1', 'gas 2', 'wind 0', 'wind 1', 'wind 2', 'solar 0',\n",
      "       'solar 1', 'solar 2'],\n",
      "      dtype='object', name='name')\n",
      "Currently PyPSA cannot do both these functions, so PyPSA is choosing investment optimisation for these generators.\n"
     ]
    },
    {
     "name": "stdout",
     "output_type": "stream",
     "text": [
      "WARNING: Loading a SolverResults object with a warning status into\n",
      "    model=Linear Optimal Power Flow;\n",
      "        message from solver=Problem proven to be infeasible or unbounded.\n",
      "# ==========================================================\n",
      "# = Solver Results                                         =\n",
      "# ==========================================================\n",
      "# ----------------------------------------------------------\n",
      "#   Problem Information\n",
      "# ----------------------------------------------------------\n",
      "Problem: \n",
      "- Name: x11533\n",
      "  Lower bound: -inf\n",
      "  Upper bound: inf\n",
      "  Number of objectives: 1\n",
      "  Number of constraints: 23812\n",
      "  Number of variables: 11533\n",
      "  Number of binary variables: 0\n",
      "  Number of integer variables: 0\n",
      "  Number of continuous variables: 11533\n",
      "  Number of nonzeros: 49845\n",
      "  Sense: minimize\n",
      "# ----------------------------------------------------------\n",
      "#   Solver Information\n",
      "# ----------------------------------------------------------\n",
      "Solver: \n",
      "- Status: warning\n",
      "  Return code: 0\n",
      "  Message: Problem proven to be infeasible or unbounded.\n",
      "  Termination condition: infeasibleOrUnbounded\n",
      "  Termination message: Problem proven to be infeasible or unbounded.\n",
      "  Wall time: 0.2968406677246094\n",
      "  Error rc: 0\n",
      "  Time: 0.6093306541442871\n"
     ]
    },
    {
     "name": "stderr",
     "output_type": "stream",
     "text": [
      "INFO:pypsa.opf:Solving model using gurobi\n"
     ]
    },
    {
     "name": "stdout",
     "output_type": "stream",
     "text": [
      "27643547102.18967\n",
      " wind constraint\n",
      "generator_p_nom[wind 0] + generator_p_nom[wind 1] + generator_p_nom[wind 2]  ==  332240.8245538457\n",
      " solar constraint\n",
      "generator_p_nom[solar 0] + generator_p_nom[solar 1] + generator_p_nom[solar 2]  ==  13409.487423232325\n"
     ]
    },
    {
     "name": "stderr",
     "output_type": "stream",
     "text": [
      "WARNING:pyomo.core:Loading a SolverResults object with a warning status into model=Linear Optimal Power Flow;\n",
      "    message from solver=Problem proven to be infeasible or unbounded.\n",
      "ERROR:pypsa.opf:Optimisation failed with status warning and terminal condition infeasibleOrUnbounded\n",
      "INFO:pypsa.opf:Building pyomo model using `angles` formulation\n",
      "WARNING:pypsa.opf:The following generators have both investment optimisation and unit commitment:\n",
      "Index(['gas 0', 'gas 1', 'gas 2', 'wind 0', 'wind 1', 'wind 2', 'solar 0',\n",
      "       'solar 1', 'solar 2'],\n",
      "      dtype='object', name='name')\n",
      "Currently PyPSA cannot do both these functions, so PyPSA is choosing investment optimisation for these generators.\n"
     ]
    },
    {
     "name": "stdout",
     "output_type": "stream",
     "text": [
      "WARNING: Loading a SolverResults object with a warning status into\n",
      "    model=Linear Optimal Power Flow;\n",
      "        message from solver=Problem proven to be infeasible or unbounded.\n",
      "# ==========================================================\n",
      "# = Solver Results                                         =\n",
      "# ==========================================================\n",
      "# ----------------------------------------------------------\n",
      "#   Problem Information\n",
      "# ----------------------------------------------------------\n",
      "Problem: \n",
      "- Name: x11533\n",
      "  Lower bound: -inf\n",
      "  Upper bound: inf\n",
      "  Number of objectives: 1\n",
      "  Number of constraints: 23812\n",
      "  Number of variables: 11533\n",
      "  Number of binary variables: 0\n",
      "  Number of integer variables: 0\n",
      "  Number of continuous variables: 11533\n",
      "  Number of nonzeros: 49845\n",
      "  Sense: minimize\n",
      "# ----------------------------------------------------------\n",
      "#   Solver Information\n",
      "# ----------------------------------------------------------\n",
      "Solver: \n",
      "- Status: warning\n",
      "  Return code: 0\n",
      "  Message: Problem proven to be infeasible or unbounded.\n",
      "  Termination condition: infeasibleOrUnbounded\n",
      "  Termination message: Problem proven to be infeasible or unbounded.\n",
      "  Wall time: 0.4218254089355469\n",
      "  Error rc: 0\n",
      "  Time: 0.7186977863311768\n"
     ]
    },
    {
     "name": "stderr",
     "output_type": "stream",
     "text": [
      "INFO:pypsa.opf:Solving model using gurobi\n"
     ]
    },
    {
     "name": "stdout",
     "output_type": "stream",
     "text": [
      "27643547102.18967\n",
      " wind constraint\n",
      "generator_p_nom[wind 0] + generator_p_nom[wind 1] + generator_p_nom[wind 2]  ==  332240.8245538457\n",
      " solar constraint\n",
      "generator_p_nom[solar 0] + generator_p_nom[solar 1] + generator_p_nom[solar 2]  ==  53637.9496929293\n"
     ]
    },
    {
     "name": "stderr",
     "output_type": "stream",
     "text": [
      "WARNING:pyomo.core:Loading a SolverResults object with a warning status into model=Linear Optimal Power Flow;\n",
      "    message from solver=Problem proven to be infeasible or unbounded.\n",
      "ERROR:pypsa.opf:Optimisation failed with status warning and terminal condition infeasibleOrUnbounded\n",
      "INFO:pypsa.opf:Building pyomo model using `angles` formulation\n",
      "WARNING:pypsa.opf:The following generators have both investment optimisation and unit commitment:\n",
      "Index(['gas 0', 'gas 1', 'gas 2', 'wind 0', 'wind 1', 'wind 2', 'solar 0',\n",
      "       'solar 1', 'solar 2'],\n",
      "      dtype='object', name='name')\n",
      "Currently PyPSA cannot do both these functions, so PyPSA is choosing investment optimisation for these generators.\n"
     ]
    },
    {
     "name": "stdout",
     "output_type": "stream",
     "text": [
      "WARNING: Loading a SolverResults object with a warning status into\n",
      "    model=Linear Optimal Power Flow;\n",
      "        message from solver=Problem proven to be infeasible or unbounded.\n",
      "# ==========================================================\n",
      "# = Solver Results                                         =\n",
      "# ==========================================================\n",
      "# ----------------------------------------------------------\n",
      "#   Problem Information\n",
      "# ----------------------------------------------------------\n",
      "Problem: \n",
      "- Name: x11533\n",
      "  Lower bound: -inf\n",
      "  Upper bound: inf\n",
      "  Number of objectives: 1\n",
      "  Number of constraints: 23812\n",
      "  Number of variables: 11533\n",
      "  Number of binary variables: 0\n",
      "  Number of integer variables: 0\n",
      "  Number of continuous variables: 11533\n",
      "  Number of nonzeros: 49845\n",
      "  Sense: minimize\n",
      "# ----------------------------------------------------------\n",
      "#   Solver Information\n",
      "# ----------------------------------------------------------\n",
      "Solver: \n",
      "- Status: warning\n",
      "  Return code: 0\n",
      "  Message: Problem proven to be infeasible or unbounded.\n",
      "  Termination condition: infeasibleOrUnbounded\n",
      "  Termination message: Problem proven to be infeasible or unbounded.\n",
      "  Wall time: 0.2187347412109375\n",
      "  Error rc: 0\n",
      "  Time: 0.5624566078186035\n"
     ]
    },
    {
     "name": "stderr",
     "output_type": "stream",
     "text": [
      "INFO:pypsa.opf:Solving model using gurobi\n"
     ]
    },
    {
     "name": "stdout",
     "output_type": "stream",
     "text": [
      "27643547102.18967\n",
      " wind constraint\n",
      "generator_p_nom[wind 0] + generator_p_nom[wind 1] + generator_p_nom[wind 2]  ==  332240.8245538457\n",
      " solar constraint\n",
      "generator_p_nom[solar 0] + generator_p_nom[solar 1] + generator_p_nom[solar 2]  ==  33523.718558080815\n"
     ]
    },
    {
     "name": "stderr",
     "output_type": "stream",
     "text": [
      "WARNING:pyomo.core:Loading a SolverResults object with a warning status into model=Linear Optimal Power Flow;\n",
      "    message from solver=Problem proven to be infeasible or unbounded.\n",
      "ERROR:pypsa.opf:Optimisation failed with status warning and terminal condition infeasibleOrUnbounded\n",
      "INFO:pypsa.opf:Building pyomo model using `angles` formulation\n",
      "WARNING:pypsa.opf:The following generators have both investment optimisation and unit commitment:\n",
      "Index(['gas 0', 'gas 1', 'gas 2', 'wind 0', 'wind 1', 'wind 2', 'solar 0',\n",
      "       'solar 1', 'solar 2'],\n",
      "      dtype='object', name='name')\n",
      "Currently PyPSA cannot do both these functions, so PyPSA is choosing investment optimisation for these generators.\n"
     ]
    },
    {
     "name": "stdout",
     "output_type": "stream",
     "text": [
      "WARNING: Loading a SolverResults object with a warning status into\n",
      "    model=Linear Optimal Power Flow;\n",
      "        message from solver=Problem proven to be infeasible or unbounded.\n",
      "# ==========================================================\n",
      "# = Solver Results                                         =\n",
      "# ==========================================================\n",
      "# ----------------------------------------------------------\n",
      "#   Problem Information\n",
      "# ----------------------------------------------------------\n",
      "Problem: \n",
      "- Name: x11533\n",
      "  Lower bound: -inf\n",
      "  Upper bound: inf\n",
      "  Number of objectives: 1\n",
      "  Number of constraints: 23812\n",
      "  Number of variables: 11533\n",
      "  Number of binary variables: 0\n",
      "  Number of integer variables: 0\n",
      "  Number of continuous variables: 11533\n",
      "  Number of nonzeros: 49845\n",
      "  Sense: minimize\n",
      "# ----------------------------------------------------------\n",
      "#   Solver Information\n",
      "# ----------------------------------------------------------\n",
      "Solver: \n",
      "- Status: warning\n",
      "  Return code: 0\n",
      "  Message: Problem proven to be infeasible or unbounded.\n",
      "  Termination condition: infeasibleOrUnbounded\n",
      "  Termination message: Problem proven to be infeasible or unbounded.\n",
      "  Wall time: 0.2031097412109375\n",
      "  Error rc: 0\n",
      "  Time: 0.531196117401123\n"
     ]
    },
    {
     "name": "stderr",
     "output_type": "stream",
     "text": [
      "INFO:pypsa.opf:Solving model using gurobi\n"
     ]
    },
    {
     "name": "stdout",
     "output_type": "stream",
     "text": [
      "27643547102.18967\n",
      " wind constraint\n",
      "generator_p_nom[wind 0] + generator_p_nom[wind 1] + generator_p_nom[wind 2]  ==  332240.8245538457\n",
      " solar constraint\n",
      "generator_p_nom[solar 0] + generator_p_nom[solar 1] + generator_p_nom[solar 2]  ==  40228.462269696975\n"
     ]
    },
    {
     "name": "stderr",
     "output_type": "stream",
     "text": [
      "WARNING:pyomo.core:Loading a SolverResults object with a warning status into model=Linear Optimal Power Flow;\n",
      "    message from solver=Problem proven to be infeasible or unbounded.\n",
      "ERROR:pypsa.opf:Optimisation failed with status warning and terminal condition infeasibleOrUnbounded\n",
      "INFO:pypsa.opf:Building pyomo model using `angles` formulation\n",
      "WARNING:pypsa.opf:The following generators have both investment optimisation and unit commitment:\n",
      "Index(['gas 0', 'gas 1', 'gas 2', 'wind 0', 'wind 1', 'wind 2', 'solar 0',\n",
      "       'solar 1', 'solar 2'],\n",
      "      dtype='object', name='name')\n",
      "Currently PyPSA cannot do both these functions, so PyPSA is choosing investment optimisation for these generators.\n"
     ]
    },
    {
     "name": "stdout",
     "output_type": "stream",
     "text": [
      "WARNING: Loading a SolverResults object with a warning status into\n",
      "    model=Linear Optimal Power Flow;\n",
      "        message from solver=Problem proven to be infeasible or unbounded.\n",
      "# ==========================================================\n",
      "# = Solver Results                                         =\n",
      "# ==========================================================\n",
      "# ----------------------------------------------------------\n",
      "#   Problem Information\n",
      "# ----------------------------------------------------------\n",
      "Problem: \n",
      "- Name: x11533\n",
      "  Lower bound: -inf\n",
      "  Upper bound: inf\n",
      "  Number of objectives: 1\n",
      "  Number of constraints: 23812\n",
      "  Number of variables: 11533\n",
      "  Number of binary variables: 0\n",
      "  Number of integer variables: 0\n",
      "  Number of continuous variables: 11533\n",
      "  Number of nonzeros: 49845\n",
      "  Sense: minimize\n",
      "# ----------------------------------------------------------\n",
      "#   Solver Information\n",
      "# ----------------------------------------------------------\n",
      "Solver: \n",
      "- Status: warning\n",
      "  Return code: 0\n",
      "  Message: Problem proven to be infeasible or unbounded.\n",
      "  Termination condition: infeasibleOrUnbounded\n",
      "  Termination message: Problem proven to be infeasible or unbounded.\n",
      "  Wall time: 0.2499828338623047\n",
      "  Error rc: 0\n",
      "  Time: 0.578082799911499\n"
     ]
    },
    {
     "name": "stderr",
     "output_type": "stream",
     "text": [
      "INFO:pypsa.opf:Solving model using gurobi\n"
     ]
    },
    {
     "name": "stdout",
     "output_type": "stream",
     "text": [
      "27643547102.18967\n",
      " wind constraint\n",
      "generator_p_nom[wind 0] + generator_p_nom[wind 1] + generator_p_nom[wind 2]  ==  332240.8245538457\n",
      " solar constraint\n",
      "generator_p_nom[solar 0] + generator_p_nom[solar 1] + generator_p_nom[solar 2]  ==  6704.743711616163\n"
     ]
    },
    {
     "name": "stderr",
     "output_type": "stream",
     "text": [
      "INFO:pypsa.opf:Optimization successful\n",
      "INFO:pypsa.opf:Building pyomo model using `angles` formulation\n",
      "WARNING:pypsa.opf:The following generators have both investment optimisation and unit commitment:\n",
      "Index(['gas 0', 'gas 1', 'gas 2', 'wind 0', 'wind 1', 'wind 2', 'solar 0',\n",
      "       'solar 1', 'solar 2'],\n",
      "      dtype='object', name='name')\n",
      "Currently PyPSA cannot do both these functions, so PyPSA is choosing investment optimisation for these generators.\n"
     ]
    },
    {
     "name": "stdout",
     "output_type": "stream",
     "text": [
      "# ==========================================================\n",
      "# = Solver Results                                         =\n",
      "# ==========================================================\n",
      "# ----------------------------------------------------------\n",
      "#   Problem Information\n",
      "# ----------------------------------------------------------\n",
      "Problem: \n",
      "- Name: x11533_copy\n",
      "  Lower bound: 27593770265.925674\n",
      "  Upper bound: 27593770265.925674\n",
      "  Number of objectives: 1\n",
      "  Number of constraints: 23812\n",
      "  Number of variables: 11533\n",
      "  Number of binary variables: 0\n",
      "  Number of integer variables: 0\n",
      "  Number of continuous variables: 11533\n",
      "  Number of nonzeros: 49845\n",
      "  Sense: minimize\n",
      "# ----------------------------------------------------------\n",
      "#   Solver Information\n",
      "# ----------------------------------------------------------\n",
      "Solver: \n",
      "- Status: ok\n",
      "  Return code: 0\n",
      "  Message: Model was solved to optimality (subject to tolerances), and an optimal solution is available.\n",
      "  Termination condition: optimal\n",
      "  Termination message: Model was solved to optimality (subject to tolerances), and an optimal solution is available.\n",
      "  Wall time: 0.4530906677246094\n",
      "  Error rc: 0\n",
      "  Time: 0.9218058586120605\n",
      "# ----------------------------------------------------------\n",
      "#   Solution Information\n",
      "# ----------------------------------------------------------\n",
      "Solution: \n",
      "- number of solutions: 0\n",
      "  number of solutions displayed: 0\n"
     ]
    },
    {
     "name": "stderr",
     "output_type": "stream",
     "text": [
      "INFO:pypsa.opf:Solving model using gurobi\n"
     ]
    },
    {
     "name": "stdout",
     "output_type": "stream",
     "text": [
      "27643547102.18967\n",
      " wind constraint\n",
      "generator_p_nom[wind 0] + generator_p_nom[wind 1] + generator_p_nom[wind 2]  ==  332240.8245538457\n",
      " solar constraint\n",
      "generator_p_nom[solar 0] + generator_p_nom[solar 1] + generator_p_nom[solar 2]  ==  67047.43711616163\n"
     ]
    },
    {
     "name": "stderr",
     "output_type": "stream",
     "text": [
      "WARNING:pyomo.core:Loading a SolverResults object with a warning status into model=Linear Optimal Power Flow;\n",
      "    message from solver=Problem proven to be infeasible or unbounded.\n",
      "ERROR:pypsa.opf:Optimisation failed with status warning and terminal condition infeasibleOrUnbounded\n",
      "INFO:pypsa.opf:Building pyomo model using `angles` formulation\n",
      "WARNING:pypsa.opf:The following generators have both investment optimisation and unit commitment:\n",
      "Index(['gas 0', 'gas 1', 'gas 2', 'wind 0', 'wind 1', 'wind 2', 'solar 0',\n",
      "       'solar 1', 'solar 2'],\n",
      "      dtype='object', name='name')\n",
      "Currently PyPSA cannot do both these functions, so PyPSA is choosing investment optimisation for these generators.\n"
     ]
    },
    {
     "name": "stdout",
     "output_type": "stream",
     "text": [
      "WARNING: Loading a SolverResults object with a warning status into\n",
      "    model=Linear Optimal Power Flow;\n",
      "        message from solver=Problem proven to be infeasible or unbounded.\n",
      "# ==========================================================\n",
      "# = Solver Results                                         =\n",
      "# ==========================================================\n",
      "# ----------------------------------------------------------\n",
      "#   Problem Information\n",
      "# ----------------------------------------------------------\n",
      "Problem: \n",
      "- Name: x11533\n",
      "  Lower bound: -inf\n",
      "  Upper bound: inf\n",
      "  Number of objectives: 1\n",
      "  Number of constraints: 23812\n",
      "  Number of variables: 11533\n",
      "  Number of binary variables: 0\n",
      "  Number of integer variables: 0\n",
      "  Number of continuous variables: 11533\n",
      "  Number of nonzeros: 49845\n",
      "  Sense: minimize\n",
      "# ----------------------------------------------------------\n",
      "#   Solver Information\n",
      "# ----------------------------------------------------------\n",
      "Solver: \n",
      "- Status: warning\n",
      "  Return code: 0\n",
      "  Message: Problem proven to be infeasible or unbounded.\n",
      "  Termination condition: infeasibleOrUnbounded\n",
      "  Termination message: Problem proven to be infeasible or unbounded.\n",
      "  Wall time: 0.14059829711914062\n",
      "  Error rc: 0\n",
      "  Time: 0.4374537467956543\n"
     ]
    },
    {
     "name": "stderr",
     "output_type": "stream",
     "text": [
      "INFO:pypsa.opf:Solving model using gurobi\n"
     ]
    },
    {
     "name": "stdout",
     "output_type": "stream",
     "text": [
      "27643547102.18967\n",
      " wind constraint\n",
      "generator_p_nom[wind 0] + generator_p_nom[wind 1] + generator_p_nom[wind 2]  ==  332240.8245538457\n",
      " solar constraint\n",
      "generator_p_nom[solar 0] + generator_p_nom[solar 1] + generator_p_nom[solar 2]  ==  60342.69340454546\n"
     ]
    },
    {
     "name": "stderr",
     "output_type": "stream",
     "text": [
      "WARNING:pyomo.core:Loading a SolverResults object with a warning status into model=Linear Optimal Power Flow;\n",
      "    message from solver=Problem proven to be infeasible or unbounded.\n",
      "ERROR:pypsa.opf:Optimisation failed with status warning and terminal condition infeasibleOrUnbounded\n",
      "INFO:pypsa.opf:Building pyomo model using `angles` formulation\n",
      "WARNING:pypsa.opf:The following generators have both investment optimisation and unit commitment:\n",
      "Index(['gas 0', 'gas 1', 'gas 2', 'wind 0', 'wind 1', 'wind 2', 'solar 0',\n",
      "       'solar 1', 'solar 2'],\n",
      "      dtype='object', name='name')\n",
      "Currently PyPSA cannot do both these functions, so PyPSA is choosing investment optimisation for these generators.\n"
     ]
    },
    {
     "name": "stdout",
     "output_type": "stream",
     "text": [
      "WARNING: Loading a SolverResults object with a warning status into\n",
      "    model=Linear Optimal Power Flow;\n",
      "        message from solver=Problem proven to be infeasible or unbounded.\n",
      "# ==========================================================\n",
      "# = Solver Results                                         =\n",
      "# ==========================================================\n",
      "# ----------------------------------------------------------\n",
      "#   Problem Information\n",
      "# ----------------------------------------------------------\n",
      "Problem: \n",
      "- Name: x11533\n",
      "  Lower bound: -inf\n",
      "  Upper bound: inf\n",
      "  Number of objectives: 1\n",
      "  Number of constraints: 23812\n",
      "  Number of variables: 11533\n",
      "  Number of binary variables: 0\n",
      "  Number of integer variables: 0\n",
      "  Number of continuous variables: 11533\n",
      "  Number of nonzeros: 49845\n",
      "  Sense: minimize\n",
      "# ----------------------------------------------------------\n",
      "#   Solver Information\n",
      "# ----------------------------------------------------------\n",
      "Solver: \n",
      "- Status: warning\n",
      "  Return code: 0\n",
      "  Message: Problem proven to be infeasible or unbounded.\n",
      "  Termination condition: infeasibleOrUnbounded\n",
      "  Termination message: Problem proven to be infeasible or unbounded.\n",
      "  Wall time: 0.14061546325683594\n",
      "  Error rc: 0\n",
      "  Time: 0.4530904293060303\n"
     ]
    },
    {
     "name": "stderr",
     "output_type": "stream",
     "text": [
      "INFO:pypsa.opf:Solving model using gurobi\n"
     ]
    },
    {
     "name": "stdout",
     "output_type": "stream",
     "text": [
      "27643547102.18967\n",
      " wind constraint\n",
      "generator_p_nom[wind 0] + generator_p_nom[wind 1] + generator_p_nom[wind 2]  ==  332240.8245538457\n"
     ]
    },
    {
     "name": "stderr",
     "output_type": "stream",
     "text": [
      "INFO:pypsa.opf:Optimization successful\n",
      "INFO:pypsa.opf:Building pyomo model using `angles` formulation\n",
      "WARNING:pypsa.opf:The following generators have both investment optimisation and unit commitment:\n",
      "Index(['gas 0', 'gas 1', 'gas 2', 'wind 0', 'wind 1', 'wind 2', 'solar 0',\n",
      "       'solar 1', 'solar 2'],\n",
      "      dtype='object', name='name')\n",
      "Currently PyPSA cannot do both these functions, so PyPSA is choosing investment optimisation for these generators.\n"
     ]
    },
    {
     "name": "stdout",
     "output_type": "stream",
     "text": [
      "# ==========================================================\n",
      "# = Solver Results                                         =\n",
      "# ==========================================================\n",
      "# ----------------------------------------------------------\n",
      "#   Problem Information\n",
      "# ----------------------------------------------------------\n",
      "Problem: \n",
      "- Name: x11533_copy\n",
      "  Lower bound: 27350337446.022396\n",
      "  Upper bound: 27350337446.022396\n",
      "  Number of objectives: 1\n",
      "  Number of constraints: 23811\n",
      "  Number of variables: 11533\n",
      "  Number of binary variables: 0\n",
      "  Number of integer variables: 0\n",
      "  Number of continuous variables: 11533\n",
      "  Number of nonzeros: 49842\n",
      "  Sense: minimize\n",
      "# ----------------------------------------------------------\n",
      "#   Solver Information\n",
      "# ----------------------------------------------------------\n",
      "Solver: \n",
      "- Status: ok\n",
      "  Return code: 0\n",
      "  Message: Model was solved to optimality (subject to tolerances), and an optimal solution is available.\n",
      "  Termination condition: optimal\n",
      "  Termination message: Model was solved to optimality (subject to tolerances), and an optimal solution is available.\n",
      "  Wall time: 0.45310211181640625\n",
      "  Error rc: 0\n",
      "  Time: 0.8749363422393799\n",
      "# ----------------------------------------------------------\n",
      "#   Solution Information\n",
      "# ----------------------------------------------------------\n",
      "Solution: \n",
      "- number of solutions: 0\n",
      "  number of solutions displayed: 0\n"
     ]
    },
    {
     "name": "stderr",
     "output_type": "stream",
     "text": [
      "INFO:pypsa.opf:Solving model using gurobi\n"
     ]
    },
    {
     "name": "stdout",
     "output_type": "stream",
     "text": [
      "27643547102.18967\n",
      " wind constraint\n",
      "generator_p_nom[wind 0] + generator_p_nom[wind 1] + generator_p_nom[wind 2]  ==  327957.44543722796\n",
      " solar constraint\n",
      "generator_p_nom[solar 0] + generator_p_nom[solar 1] + generator_p_nom[solar 2]  ==  40228.462269696975\n"
     ]
    },
    {
     "name": "stderr",
     "output_type": "stream",
     "text": [
      "WARNING:pyomo.core:Loading a SolverResults object with a warning status into model=Linear Optimal Power Flow;\n",
      "    message from solver=Problem proven to be infeasible or unbounded.\n",
      "ERROR:pypsa.opf:Optimisation failed with status warning and terminal condition infeasibleOrUnbounded\n",
      "INFO:pypsa.opf:Building pyomo model using `angles` formulation\n",
      "WARNING:pypsa.opf:The following generators have both investment optimisation and unit commitment:\n",
      "Index(['gas 0', 'gas 1', 'gas 2', 'wind 0', 'wind 1', 'wind 2', 'solar 0',\n",
      "       'solar 1', 'solar 2'],\n",
      "      dtype='object', name='name')\n",
      "Currently PyPSA cannot do both these functions, so PyPSA is choosing investment optimisation for these generators.\n"
     ]
    },
    {
     "name": "stdout",
     "output_type": "stream",
     "text": [
      "WARNING: Loading a SolverResults object with a warning status into\n",
      "    model=Linear Optimal Power Flow;\n",
      "        message from solver=Problem proven to be infeasible or unbounded.\n",
      "# ==========================================================\n",
      "# = Solver Results                                         =\n",
      "# ==========================================================\n",
      "# ----------------------------------------------------------\n",
      "#   Problem Information\n",
      "# ----------------------------------------------------------\n",
      "Problem: \n",
      "- Name: x11533\n",
      "  Lower bound: -inf\n",
      "  Upper bound: inf\n",
      "  Number of objectives: 1\n",
      "  Number of constraints: 23812\n",
      "  Number of variables: 11533\n",
      "  Number of binary variables: 0\n",
      "  Number of integer variables: 0\n",
      "  Number of continuous variables: 11533\n",
      "  Number of nonzeros: 49845\n",
      "  Sense: minimize\n",
      "# ----------------------------------------------------------\n",
      "#   Solver Information\n",
      "# ----------------------------------------------------------\n",
      "Solver: \n",
      "- Status: warning\n",
      "  Return code: 0\n",
      "  Message: Problem proven to be infeasible or unbounded.\n",
      "  Termination condition: infeasibleOrUnbounded\n",
      "  Termination message: Problem proven to be infeasible or unbounded.\n",
      "  Wall time: 0.28122901916503906\n",
      "  Error rc: 0\n",
      "  Time: 0.6093266010284424\n"
     ]
    },
    {
     "name": "stderr",
     "output_type": "stream",
     "text": [
      "INFO:pypsa.opf:Solving model using gurobi\n"
     ]
    },
    {
     "name": "stdout",
     "output_type": "stream",
     "text": [
      "27643547102.18967\n",
      " wind constraint\n",
      "generator_p_nom[wind 0] + generator_p_nom[wind 1] + generator_p_nom[wind 2]  ==  327957.44543722796\n",
      " solar constraint\n",
      "generator_p_nom[solar 0] + generator_p_nom[solar 1] + generator_p_nom[solar 2]  ==  20114.231134848487\n"
     ]
    },
    {
     "name": "stderr",
     "output_type": "stream",
     "text": [
      "WARNING:pyomo.core:Loading a SolverResults object with a warning status into model=Linear Optimal Power Flow;\n",
      "    message from solver=Problem proven to be infeasible or unbounded.\n",
      "ERROR:pypsa.opf:Optimisation failed with status warning and terminal condition infeasibleOrUnbounded\n",
      "INFO:pypsa.opf:Building pyomo model using `angles` formulation\n",
      "WARNING:pypsa.opf:The following generators have both investment optimisation and unit commitment:\n",
      "Index(['gas 0', 'gas 1', 'gas 2', 'wind 0', 'wind 1', 'wind 2', 'solar 0',\n",
      "       'solar 1', 'solar 2'],\n",
      "      dtype='object', name='name')\n",
      "Currently PyPSA cannot do both these functions, so PyPSA is choosing investment optimisation for these generators.\n"
     ]
    },
    {
     "name": "stdout",
     "output_type": "stream",
     "text": [
      "WARNING: Loading a SolverResults object with a warning status into\n",
      "    model=Linear Optimal Power Flow;\n",
      "        message from solver=Problem proven to be infeasible or unbounded.\n",
      "# ==========================================================\n",
      "# = Solver Results                                         =\n",
      "# ==========================================================\n",
      "# ----------------------------------------------------------\n",
      "#   Problem Information\n",
      "# ----------------------------------------------------------\n",
      "Problem: \n",
      "- Name: x11533\n",
      "  Lower bound: -inf\n",
      "  Upper bound: inf\n",
      "  Number of objectives: 1\n",
      "  Number of constraints: 23812\n",
      "  Number of variables: 11533\n",
      "  Number of binary variables: 0\n",
      "  Number of integer variables: 0\n",
      "  Number of continuous variables: 11533\n",
      "  Number of nonzeros: 49845\n",
      "  Sense: minimize\n",
      "# ----------------------------------------------------------\n",
      "#   Solver Information\n",
      "# ----------------------------------------------------------\n",
      "Solver: \n",
      "- Status: warning\n",
      "  Return code: 0\n",
      "  Message: Problem proven to be infeasible or unbounded.\n",
      "  Termination condition: infeasibleOrUnbounded\n",
      "  Termination message: Problem proven to be infeasible or unbounded.\n",
      "  Wall time: 0.3749542236328125\n",
      "  Error rc: 0\n",
      "  Time: 0.6718075275421143\n"
     ]
    },
    {
     "name": "stderr",
     "output_type": "stream",
     "text": [
      "INFO:pypsa.opf:Solving model using gurobi\n"
     ]
    },
    {
     "name": "stdout",
     "output_type": "stream",
     "text": [
      "27643547102.18967\n",
      " wind constraint\n",
      "generator_p_nom[wind 0] + generator_p_nom[wind 1] + generator_p_nom[wind 2]  ==  327957.44543722796\n"
     ]
    },
    {
     "name": "stderr",
     "output_type": "stream",
     "text": [
      "INFO:pypsa.opf:Optimization successful\n",
      "INFO:pypsa.opf:Building pyomo model using `angles` formulation\n",
      "WARNING:pypsa.opf:The following generators have both investment optimisation and unit commitment:\n",
      "Index(['gas 0', 'gas 1', 'gas 2', 'wind 0', 'wind 1', 'wind 2', 'solar 0',\n",
      "       'solar 1', 'solar 2'],\n",
      "      dtype='object', name='name')\n",
      "Currently PyPSA cannot do both these functions, so PyPSA is choosing investment optimisation for these generators.\n"
     ]
    },
    {
     "name": "stdout",
     "output_type": "stream",
     "text": [
      "# ==========================================================\n",
      "# = Solver Results                                         =\n",
      "# ==========================================================\n",
      "# ----------------------------------------------------------\n",
      "#   Problem Information\n",
      "# ----------------------------------------------------------\n",
      "Problem: \n",
      "- Name: x11533_copy\n",
      "  Lower bound: 27057236504.062084\n",
      "  Upper bound: 27057236504.062084\n",
      "  Number of objectives: 1\n",
      "  Number of constraints: 23811\n",
      "  Number of variables: 11533\n",
      "  Number of binary variables: 0\n",
      "  Number of integer variables: 0\n",
      "  Number of continuous variables: 11533\n",
      "  Number of nonzeros: 49842\n",
      "  Sense: minimize\n",
      "# ----------------------------------------------------------\n",
      "#   Solver Information\n",
      "# ----------------------------------------------------------\n",
      "Solver: \n",
      "- Status: ok\n",
      "  Return code: 0\n",
      "  Message: Model was solved to optimality (subject to tolerances), and an optimal solution is available.\n",
      "  Termination condition: optimal\n",
      "  Termination message: Model was solved to optimality (subject to tolerances), and an optimal solution is available.\n",
      "  Wall time: 0.468719482421875\n",
      "  Error rc: 0\n",
      "  Time: 0.9061825275421143\n",
      "# ----------------------------------------------------------\n",
      "#   Solution Information\n",
      "# ----------------------------------------------------------\n",
      "Solution: \n",
      "- number of solutions: 0\n",
      "  number of solutions displayed: 0\n"
     ]
    },
    {
     "name": "stderr",
     "output_type": "stream",
     "text": [
      "INFO:pypsa.opf:Solving model using gurobi\n"
     ]
    },
    {
     "name": "stdout",
     "output_type": "stream",
     "text": [
      "27643547102.18967\n",
      " wind constraint\n",
      "generator_p_nom[wind 0] + generator_p_nom[wind 1] + generator_p_nom[wind 2]  ==  327957.44543722796\n",
      " solar constraint\n",
      "generator_p_nom[solar 0] + generator_p_nom[solar 1] + generator_p_nom[solar 2]  ==  46933.20598131314\n"
     ]
    },
    {
     "name": "stderr",
     "output_type": "stream",
     "text": [
      "WARNING:pyomo.core:Loading a SolverResults object with a warning status into model=Linear Optimal Power Flow;\n",
      "    message from solver=Problem proven to be infeasible or unbounded.\n",
      "ERROR:pypsa.opf:Optimisation failed with status warning and terminal condition infeasibleOrUnbounded\n",
      "INFO:pypsa.opf:Building pyomo model using `angles` formulation\n",
      "WARNING:pypsa.opf:The following generators have both investment optimisation and unit commitment:\n",
      "Index(['gas 0', 'gas 1', 'gas 2', 'wind 0', 'wind 1', 'wind 2', 'solar 0',\n",
      "       'solar 1', 'solar 2'],\n",
      "      dtype='object', name='name')\n",
      "Currently PyPSA cannot do both these functions, so PyPSA is choosing investment optimisation for these generators.\n"
     ]
    },
    {
     "name": "stdout",
     "output_type": "stream",
     "text": [
      "WARNING: Loading a SolverResults object with a warning status into\n",
      "    model=Linear Optimal Power Flow;\n",
      "        message from solver=Problem proven to be infeasible or unbounded.\n",
      "# ==========================================================\n",
      "# = Solver Results                                         =\n",
      "# ==========================================================\n",
      "# ----------------------------------------------------------\n",
      "#   Problem Information\n",
      "# ----------------------------------------------------------\n",
      "Problem: \n",
      "- Name: x11533\n",
      "  Lower bound: -inf\n",
      "  Upper bound: inf\n",
      "  Number of objectives: 1\n",
      "  Number of constraints: 23812\n",
      "  Number of variables: 11533\n",
      "  Number of binary variables: 0\n",
      "  Number of integer variables: 0\n",
      "  Number of continuous variables: 11533\n",
      "  Number of nonzeros: 49845\n",
      "  Sense: minimize\n",
      "# ----------------------------------------------------------\n",
      "#   Solver Information\n",
      "# ----------------------------------------------------------\n",
      "Solver: \n",
      "- Status: warning\n",
      "  Return code: 0\n",
      "  Message: Problem proven to be infeasible or unbounded.\n",
      "  Termination condition: infeasibleOrUnbounded\n",
      "  Termination message: Problem proven to be infeasible or unbounded.\n",
      "  Wall time: 0.1874866485595703\n",
      "  Error rc: 0\n",
      "  Time: 0.5155856609344482\n"
     ]
    },
    {
     "name": "stderr",
     "output_type": "stream",
     "text": [
      "INFO:pypsa.opf:Solving model using gurobi\n"
     ]
    },
    {
     "name": "stdout",
     "output_type": "stream",
     "text": [
      "27643547102.18967\n",
      " wind constraint\n",
      "generator_p_nom[wind 0] + generator_p_nom[wind 1] + generator_p_nom[wind 2]  ==  327957.44543722796\n",
      " solar constraint\n",
      "generator_p_nom[solar 0] + generator_p_nom[solar 1] + generator_p_nom[solar 2]  ==  60342.69340454546\n"
     ]
    },
    {
     "name": "stderr",
     "output_type": "stream",
     "text": [
      "WARNING:pyomo.core:Loading a SolverResults object with a warning status into model=Linear Optimal Power Flow;\n",
      "    message from solver=Problem proven to be infeasible or unbounded.\n",
      "ERROR:pypsa.opf:Optimisation failed with status warning and terminal condition infeasibleOrUnbounded\n",
      "INFO:pypsa.opf:Building pyomo model using `angles` formulation\n",
      "WARNING:pypsa.opf:The following generators have both investment optimisation and unit commitment:\n",
      "Index(['gas 0', 'gas 1', 'gas 2', 'wind 0', 'wind 1', 'wind 2', 'solar 0',\n",
      "       'solar 1', 'solar 2'],\n",
      "      dtype='object', name='name')\n",
      "Currently PyPSA cannot do both these functions, so PyPSA is choosing investment optimisation for these generators.\n"
     ]
    },
    {
     "name": "stdout",
     "output_type": "stream",
     "text": [
      "WARNING: Loading a SolverResults object with a warning status into\n",
      "    model=Linear Optimal Power Flow;\n",
      "        message from solver=Problem proven to be infeasible or unbounded.\n",
      "# ==========================================================\n",
      "# = Solver Results                                         =\n",
      "# ==========================================================\n",
      "# ----------------------------------------------------------\n",
      "#   Problem Information\n",
      "# ----------------------------------------------------------\n",
      "Problem: \n",
      "- Name: x11533\n",
      "  Lower bound: -inf\n",
      "  Upper bound: inf\n",
      "  Number of objectives: 1\n",
      "  Number of constraints: 23812\n",
      "  Number of variables: 11533\n",
      "  Number of binary variables: 0\n",
      "  Number of integer variables: 0\n",
      "  Number of continuous variables: 11533\n",
      "  Number of nonzeros: 49845\n",
      "  Sense: minimize\n",
      "# ----------------------------------------------------------\n",
      "#   Solver Information\n",
      "# ----------------------------------------------------------\n",
      "Solver: \n",
      "- Status: warning\n",
      "  Return code: 0\n",
      "  Message: Problem proven to be infeasible or unbounded.\n",
      "  Termination condition: infeasibleOrUnbounded\n",
      "  Termination message: Problem proven to be infeasible or unbounded.\n",
      "  Wall time: 0.171844482421875\n",
      "  Error rc: 0\n",
      "  Time: 0.49996352195739746\n"
     ]
    },
    {
     "name": "stderr",
     "output_type": "stream",
     "text": [
      "INFO:pypsa.opf:Solving model using gurobi\n"
     ]
    },
    {
     "name": "stdout",
     "output_type": "stream",
     "text": [
      "27643547102.18967\n",
      " wind constraint\n",
      "generator_p_nom[wind 0] + generator_p_nom[wind 1] + generator_p_nom[wind 2]  ==  327957.44543722796\n",
      " solar constraint\n",
      "generator_p_nom[solar 0] + generator_p_nom[solar 1] + generator_p_nom[solar 2]  ==  13409.487423232325\n"
     ]
    },
    {
     "name": "stderr",
     "output_type": "stream",
     "text": [
      "INFO:pypsa.opf:Optimization successful\n",
      "INFO:pypsa.opf:Building pyomo model using `angles` formulation\n",
      "WARNING:pypsa.opf:The following generators have both investment optimisation and unit commitment:\n",
      "Index(['gas 0', 'gas 1', 'gas 2', 'wind 0', 'wind 1', 'wind 2', 'solar 0',\n",
      "       'solar 1', 'solar 2'],\n",
      "      dtype='object', name='name')\n",
      "Currently PyPSA cannot do both these functions, so PyPSA is choosing investment optimisation for these generators.\n"
     ]
    },
    {
     "name": "stdout",
     "output_type": "stream",
     "text": [
      "# ==========================================================\n",
      "# = Solver Results                                         =\n",
      "# ==========================================================\n",
      "# ----------------------------------------------------------\n",
      "#   Problem Information\n",
      "# ----------------------------------------------------------\n",
      "Problem: \n",
      "- Name: x11533_copy\n",
      "  Lower bound: 27555747132.75002\n",
      "  Upper bound: 27555747132.75002\n",
      "  Number of objectives: 1\n",
      "  Number of constraints: 23812\n",
      "  Number of variables: 11533\n",
      "  Number of binary variables: 0\n",
      "  Number of integer variables: 0\n",
      "  Number of continuous variables: 11533\n",
      "  Number of nonzeros: 49845\n",
      "  Sense: minimize\n",
      "# ----------------------------------------------------------\n",
      "#   Solver Information\n",
      "# ----------------------------------------------------------\n",
      "Solver: \n",
      "- Status: ok\n",
      "  Return code: 0\n",
      "  Message: Model was solved to optimality (subject to tolerances), and an optimal solution is available.\n",
      "  Termination condition: optimal\n",
      "  Termination message: Model was solved to optimality (subject to tolerances), and an optimal solution is available.\n",
      "  Wall time: 0.4687175750732422\n",
      "  Error rc: 0\n",
      "  Time: 0.8905625343322754\n",
      "# ----------------------------------------------------------\n",
      "#   Solution Information\n",
      "# ----------------------------------------------------------\n",
      "Solution: \n",
      "- number of solutions: 0\n",
      "  number of solutions displayed: 0\n"
     ]
    },
    {
     "name": "stderr",
     "output_type": "stream",
     "text": [
      "INFO:pypsa.opf:Solving model using gurobi\n"
     ]
    },
    {
     "name": "stdout",
     "output_type": "stream",
     "text": [
      "27643547102.18967\n",
      " wind constraint\n",
      "generator_p_nom[wind 0] + generator_p_nom[wind 1] + generator_p_nom[wind 2]  ==  327957.44543722796\n",
      " solar constraint\n",
      "generator_p_nom[solar 0] + generator_p_nom[solar 1] + generator_p_nom[solar 2]  ==  6704.743711616163\n"
     ]
    },
    {
     "name": "stderr",
     "output_type": "stream",
     "text": [
      "INFO:pypsa.opf:Optimization successful\n",
      "INFO:pypsa.opf:Building pyomo model using `angles` formulation\n",
      "WARNING:pypsa.opf:The following generators have both investment optimisation and unit commitment:\n",
      "Index(['gas 0', 'gas 1', 'gas 2', 'wind 0', 'wind 1', 'wind 2', 'solar 0',\n",
      "       'solar 1', 'solar 2'],\n",
      "      dtype='object', name='name')\n",
      "Currently PyPSA cannot do both these functions, so PyPSA is choosing investment optimisation for these generators.\n"
     ]
    },
    {
     "name": "stdout",
     "output_type": "stream",
     "text": [
      "# ==========================================================\n",
      "# = Solver Results                                         =\n",
      "# ==========================================================\n",
      "# ----------------------------------------------------------\n",
      "#   Problem Information\n",
      "# ----------------------------------------------------------\n",
      "Problem: \n",
      "- Name: x11533_copy\n",
      "  Lower bound: 27305074292.6224\n",
      "  Upper bound: 27305074292.6224\n",
      "  Number of objectives: 1\n",
      "  Number of constraints: 23812\n",
      "  Number of variables: 11533\n",
      "  Number of binary variables: 0\n",
      "  Number of integer variables: 0\n",
      "  Number of continuous variables: 11533\n",
      "  Number of nonzeros: 49845\n",
      "  Sense: minimize\n",
      "# ----------------------------------------------------------\n",
      "#   Solver Information\n",
      "# ----------------------------------------------------------\n",
      "Solver: \n",
      "- Status: ok\n",
      "  Return code: 0\n",
      "  Message: Model was solved to optimality (subject to tolerances), and an optimal solution is available.\n",
      "  Termination condition: optimal\n",
      "  Termination message: Model was solved to optimality (subject to tolerances), and an optimal solution is available.\n",
      "  Wall time: 0.3749732971191406\n",
      "  Error rc: 0\n",
      "  Time: 0.82806396484375\n",
      "# ----------------------------------------------------------\n",
      "#   Solution Information\n",
      "# ----------------------------------------------------------\n",
      "Solution: \n",
      "- number of solutions: 0\n",
      "  number of solutions displayed: 0\n"
     ]
    },
    {
     "name": "stderr",
     "output_type": "stream",
     "text": [
      "INFO:pypsa.opf:Solving model using gurobi\n"
     ]
    },
    {
     "name": "stdout",
     "output_type": "stream",
     "text": [
      "27643547102.18967\n",
      " wind constraint\n",
      "generator_p_nom[wind 0] + generator_p_nom[wind 1] + generator_p_nom[wind 2]  ==  327957.44543722796\n",
      " solar constraint\n",
      "generator_p_nom[solar 0] + generator_p_nom[solar 1] + generator_p_nom[solar 2]  ==  26818.97484646465\n"
     ]
    },
    {
     "name": "stderr",
     "output_type": "stream",
     "text": [
      "WARNING:pyomo.core:Loading a SolverResults object with a warning status into model=Linear Optimal Power Flow;\n",
      "    message from solver=Problem proven to be infeasible or unbounded.\n",
      "ERROR:pypsa.opf:Optimisation failed with status warning and terminal condition infeasibleOrUnbounded\n",
      "INFO:pypsa.opf:Building pyomo model using `angles` formulation\n",
      "WARNING:pypsa.opf:The following generators have both investment optimisation and unit commitment:\n",
      "Index(['gas 0', 'gas 1', 'gas 2', 'wind 0', 'wind 1', 'wind 2', 'solar 0',\n",
      "       'solar 1', 'solar 2'],\n",
      "      dtype='object', name='name')\n",
      "Currently PyPSA cannot do both these functions, so PyPSA is choosing investment optimisation for these generators.\n"
     ]
    },
    {
     "name": "stdout",
     "output_type": "stream",
     "text": [
      "WARNING: Loading a SolverResults object with a warning status into\n",
      "    model=Linear Optimal Power Flow;\n",
      "        message from solver=Problem proven to be infeasible or unbounded.\n",
      "# ==========================================================\n",
      "# = Solver Results                                         =\n",
      "# ==========================================================\n",
      "# ----------------------------------------------------------\n",
      "#   Problem Information\n",
      "# ----------------------------------------------------------\n",
      "Problem: \n",
      "- Name: x11533\n",
      "  Lower bound: -inf\n",
      "  Upper bound: inf\n",
      "  Number of objectives: 1\n",
      "  Number of constraints: 23812\n",
      "  Number of variables: 11533\n",
      "  Number of binary variables: 0\n",
      "  Number of integer variables: 0\n",
      "  Number of continuous variables: 11533\n",
      "  Number of nonzeros: 49845\n",
      "  Sense: minimize\n",
      "# ----------------------------------------------------------\n",
      "#   Solver Information\n",
      "# ----------------------------------------------------------\n",
      "Solver: \n",
      "- Status: warning\n",
      "  Return code: 0\n",
      "  Message: Problem proven to be infeasible or unbounded.\n",
      "  Termination condition: infeasibleOrUnbounded\n",
      "  Termination message: Problem proven to be infeasible or unbounded.\n",
      "  Wall time: 0.2812309265136719\n",
      "  Error rc: 0\n",
      "  Time: 0.5937216281890869\n"
     ]
    },
    {
     "name": "stderr",
     "output_type": "stream",
     "text": [
      "INFO:pypsa.opf:Solving model using gurobi\n"
     ]
    },
    {
     "name": "stdout",
     "output_type": "stream",
     "text": [
      "27643547102.18967\n",
      " wind constraint\n",
      "generator_p_nom[wind 0] + generator_p_nom[wind 1] + generator_p_nom[wind 2]  ==  327957.44543722796\n",
      " solar constraint\n",
      "generator_p_nom[solar 0] + generator_p_nom[solar 1] + generator_p_nom[solar 2]  ==  67047.43711616163\n"
     ]
    },
    {
     "name": "stderr",
     "output_type": "stream",
     "text": [
      "WARNING:pyomo.core:Loading a SolverResults object with a warning status into model=Linear Optimal Power Flow;\n",
      "    message from solver=Problem proven to be infeasible or unbounded.\n",
      "ERROR:pypsa.opf:Optimisation failed with status warning and terminal condition infeasibleOrUnbounded\n",
      "INFO:pypsa.opf:Building pyomo model using `angles` formulation\n",
      "WARNING:pypsa.opf:The following generators have both investment optimisation and unit commitment:\n",
      "Index(['gas 0', 'gas 1', 'gas 2', 'wind 0', 'wind 1', 'wind 2', 'solar 0',\n",
      "       'solar 1', 'solar 2'],\n",
      "      dtype='object', name='name')\n",
      "Currently PyPSA cannot do both these functions, so PyPSA is choosing investment optimisation for these generators.\n"
     ]
    },
    {
     "name": "stdout",
     "output_type": "stream",
     "text": [
      "WARNING: Loading a SolverResults object with a warning status into\n",
      "    model=Linear Optimal Power Flow;\n",
      "        message from solver=Problem proven to be infeasible or unbounded.\n",
      "# ==========================================================\n",
      "# = Solver Results                                         =\n",
      "# ==========================================================\n",
      "# ----------------------------------------------------------\n",
      "#   Problem Information\n",
      "# ----------------------------------------------------------\n",
      "Problem: \n",
      "- Name: x11533\n",
      "  Lower bound: -inf\n",
      "  Upper bound: inf\n",
      "  Number of objectives: 1\n",
      "  Number of constraints: 23812\n",
      "  Number of variables: 11533\n",
      "  Number of binary variables: 0\n",
      "  Number of integer variables: 0\n",
      "  Number of continuous variables: 11533\n",
      "  Number of nonzeros: 49845\n",
      "  Sense: minimize\n",
      "# ----------------------------------------------------------\n",
      "#   Solver Information\n",
      "# ----------------------------------------------------------\n",
      "Solver: \n",
      "- Status: warning\n",
      "  Return code: 0\n",
      "  Message: Problem proven to be infeasible or unbounded.\n",
      "  Termination condition: infeasibleOrUnbounded\n",
      "  Termination message: Problem proven to be infeasible or unbounded.\n",
      "  Wall time: 0.1562213897705078\n",
      "  Error rc: 0\n",
      "  Time: 0.45306849479675293\n"
     ]
    },
    {
     "name": "stderr",
     "output_type": "stream",
     "text": [
      "INFO:pypsa.opf:Solving model using gurobi\n"
     ]
    },
    {
     "name": "stdout",
     "output_type": "stream",
     "text": [
      "27643547102.18967\n",
      " wind constraint\n",
      "generator_p_nom[wind 0] + generator_p_nom[wind 1] + generator_p_nom[wind 2]  ==  327957.44543722796\n",
      " solar constraint\n",
      "generator_p_nom[solar 0] + generator_p_nom[solar 1] + generator_p_nom[solar 2]  ==  53637.9496929293\n"
     ]
    },
    {
     "name": "stderr",
     "output_type": "stream",
     "text": [
      "WARNING:pyomo.core:Loading a SolverResults object with a warning status into model=Linear Optimal Power Flow;\n",
      "    message from solver=Problem proven to be infeasible or unbounded.\n",
      "ERROR:pypsa.opf:Optimisation failed with status warning and terminal condition infeasibleOrUnbounded\n",
      "INFO:pypsa.opf:Building pyomo model using `angles` formulation\n",
      "WARNING:pypsa.opf:The following generators have both investment optimisation and unit commitment:\n",
      "Index(['gas 0', 'gas 1', 'gas 2', 'wind 0', 'wind 1', 'wind 2', 'solar 0',\n",
      "       'solar 1', 'solar 2'],\n",
      "      dtype='object', name='name')\n",
      "Currently PyPSA cannot do both these functions, so PyPSA is choosing investment optimisation for these generators.\n"
     ]
    },
    {
     "name": "stdout",
     "output_type": "stream",
     "text": [
      "WARNING: Loading a SolverResults object with a warning status into\n",
      "    model=Linear Optimal Power Flow;\n",
      "        message from solver=Problem proven to be infeasible or unbounded.\n",
      "# ==========================================================\n",
      "# = Solver Results                                         =\n",
      "# ==========================================================\n",
      "# ----------------------------------------------------------\n",
      "#   Problem Information\n",
      "# ----------------------------------------------------------\n",
      "Problem: \n",
      "- Name: x11533\n",
      "  Lower bound: -inf\n",
      "  Upper bound: inf\n",
      "  Number of objectives: 1\n",
      "  Number of constraints: 23812\n",
      "  Number of variables: 11533\n",
      "  Number of binary variables: 0\n",
      "  Number of integer variables: 0\n",
      "  Number of continuous variables: 11533\n",
      "  Number of nonzeros: 49845\n",
      "  Sense: minimize\n",
      "# ----------------------------------------------------------\n",
      "#   Solver Information\n",
      "# ----------------------------------------------------------\n",
      "Solver: \n",
      "- Status: warning\n",
      "  Return code: 0\n",
      "  Message: Problem proven to be infeasible or unbounded.\n",
      "  Termination condition: infeasibleOrUnbounded\n",
      "  Termination message: Problem proven to be infeasible or unbounded.\n",
      "  Wall time: 0.28121185302734375\n",
      "  Error rc: 0\n",
      "  Time: 0.5624737739562988\n"
     ]
    },
    {
     "name": "stderr",
     "output_type": "stream",
     "text": [
      "INFO:pypsa.opf:Solving model using gurobi\n"
     ]
    },
    {
     "name": "stdout",
     "output_type": "stream",
     "text": [
      "27643547102.18967\n",
      " wind constraint\n",
      "generator_p_nom[wind 0] + generator_p_nom[wind 1] + generator_p_nom[wind 2]  ==  327957.44543722796\n",
      " solar constraint\n",
      "generator_p_nom[solar 0] + generator_p_nom[solar 1] + generator_p_nom[solar 2]  ==  33523.718558080815\n"
     ]
    },
    {
     "name": "stderr",
     "output_type": "stream",
     "text": [
      "WARNING:pyomo.core:Loading a SolverResults object with a warning status into model=Linear Optimal Power Flow;\n",
      "    message from solver=Problem proven to be infeasible or unbounded.\n",
      "ERROR:pypsa.opf:Optimisation failed with status warning and terminal condition infeasibleOrUnbounded\n",
      "INFO:pypsa.opf:Building pyomo model using `angles` formulation\n",
      "WARNING:pypsa.opf:The following generators have both investment optimisation and unit commitment:\n",
      "Index(['gas 0', 'gas 1', 'gas 2', 'wind 0', 'wind 1', 'wind 2', 'solar 0',\n",
      "       'solar 1', 'solar 2'],\n",
      "      dtype='object', name='name')\n",
      "Currently PyPSA cannot do both these functions, so PyPSA is choosing investment optimisation for these generators.\n"
     ]
    },
    {
     "name": "stdout",
     "output_type": "stream",
     "text": [
      "WARNING: Loading a SolverResults object with a warning status into\n",
      "    model=Linear Optimal Power Flow;\n",
      "        message from solver=Problem proven to be infeasible or unbounded.\n",
      "# ==========================================================\n",
      "# = Solver Results                                         =\n",
      "# ==========================================================\n",
      "# ----------------------------------------------------------\n",
      "#   Problem Information\n",
      "# ----------------------------------------------------------\n",
      "Problem: \n",
      "- Name: x11533\n",
      "  Lower bound: -inf\n",
      "  Upper bound: inf\n",
      "  Number of objectives: 1\n",
      "  Number of constraints: 23812\n",
      "  Number of variables: 11533\n",
      "  Number of binary variables: 0\n",
      "  Number of integer variables: 0\n",
      "  Number of continuous variables: 11533\n",
      "  Number of nonzeros: 49845\n",
      "  Sense: minimize\n",
      "# ----------------------------------------------------------\n",
      "#   Solver Information\n",
      "# ----------------------------------------------------------\n",
      "Solver: \n",
      "- Status: warning\n",
      "  Return code: 0\n",
      "  Message: Problem proven to be infeasible or unbounded.\n",
      "  Termination condition: infeasibleOrUnbounded\n",
      "  Termination message: Problem proven to be infeasible or unbounded.\n",
      "  Wall time: 0.2655906677246094\n",
      "  Error rc: 0\n",
      "  Time: 0.5624606609344482\n"
     ]
    },
    {
     "name": "stderr",
     "output_type": "stream",
     "text": [
      "INFO:pypsa.opf:Solving model using gurobi\n"
     ]
    },
    {
     "name": "stdout",
     "output_type": "stream",
     "text": [
      "27643547102.18967\n",
      " wind constraint\n",
      "generator_p_nom[wind 0] + generator_p_nom[wind 1] + generator_p_nom[wind 2]  ==  323674.06632061023\n",
      " solar constraint\n",
      "generator_p_nom[solar 0] + generator_p_nom[solar 1] + generator_p_nom[solar 2]  ==  26818.97484646465\n"
     ]
    },
    {
     "name": "stderr",
     "output_type": "stream",
     "text": [
      "WARNING:pyomo.core:Loading a SolverResults object with a warning status into model=Linear Optimal Power Flow;\n",
      "    message from solver=Problem proven to be infeasible or unbounded.\n",
      "ERROR:pypsa.opf:Optimisation failed with status warning and terminal condition infeasibleOrUnbounded\n",
      "INFO:pypsa.opf:Building pyomo model using `angles` formulation\n",
      "WARNING:pypsa.opf:The following generators have both investment optimisation and unit commitment:\n",
      "Index(['gas 0', 'gas 1', 'gas 2', 'wind 0', 'wind 1', 'wind 2', 'solar 0',\n",
      "       'solar 1', 'solar 2'],\n",
      "      dtype='object', name='name')\n",
      "Currently PyPSA cannot do both these functions, so PyPSA is choosing investment optimisation for these generators.\n"
     ]
    },
    {
     "name": "stdout",
     "output_type": "stream",
     "text": [
      "WARNING: Loading a SolverResults object with a warning status into\n",
      "    model=Linear Optimal Power Flow;\n",
      "        message from solver=Problem proven to be infeasible or unbounded.\n",
      "# ==========================================================\n",
      "# = Solver Results                                         =\n",
      "# ==========================================================\n",
      "# ----------------------------------------------------------\n",
      "#   Problem Information\n",
      "# ----------------------------------------------------------\n",
      "Problem: \n",
      "- Name: x11533\n",
      "  Lower bound: -inf\n",
      "  Upper bound: inf\n",
      "  Number of objectives: 1\n",
      "  Number of constraints: 23812\n",
      "  Number of variables: 11533\n",
      "  Number of binary variables: 0\n",
      "  Number of integer variables: 0\n",
      "  Number of continuous variables: 11533\n",
      "  Number of nonzeros: 49845\n",
      "  Sense: minimize\n",
      "# ----------------------------------------------------------\n",
      "#   Solver Information\n",
      "# ----------------------------------------------------------\n",
      "Solver: \n",
      "- Status: warning\n",
      "  Return code: 0\n",
      "  Message: Problem proven to be infeasible or unbounded.\n",
      "  Termination condition: infeasibleOrUnbounded\n",
      "  Termination message: Problem proven to be infeasible or unbounded.\n",
      "  Wall time: 0.3281211853027344\n",
      "  Error rc: 0\n",
      "  Time: 0.6249496936798096\n"
     ]
    },
    {
     "name": "stderr",
     "output_type": "stream",
     "text": [
      "INFO:pypsa.opf:Solving model using gurobi\n"
     ]
    },
    {
     "name": "stdout",
     "output_type": "stream",
     "text": [
      "27643547102.18967\n",
      " wind constraint\n",
      "generator_p_nom[wind 0] + generator_p_nom[wind 1] + generator_p_nom[wind 2]  ==  323674.06632061023\n"
     ]
    },
    {
     "name": "stderr",
     "output_type": "stream",
     "text": [
      "INFO:pypsa.opf:Optimization successful\n",
      "INFO:pypsa.opf:Building pyomo model using `angles` formulation\n",
      "WARNING:pypsa.opf:The following generators have both investment optimisation and unit commitment:\n",
      "Index(['gas 0', 'gas 1', 'gas 2', 'wind 0', 'wind 1', 'wind 2', 'solar 0',\n",
      "       'solar 1', 'solar 2'],\n",
      "      dtype='object', name='name')\n",
      "Currently PyPSA cannot do both these functions, so PyPSA is choosing investment optimisation for these generators.\n"
     ]
    },
    {
     "name": "stdout",
     "output_type": "stream",
     "text": [
      "# ==========================================================\n",
      "# = Solver Results                                         =\n",
      "# ==========================================================\n",
      "# ----------------------------------------------------------\n",
      "#   Problem Information\n",
      "# ----------------------------------------------------------\n",
      "Problem: \n",
      "- Name: x11533_copy\n",
      "  Lower bound: 26766983466.013905\n",
      "  Upper bound: 26766983466.013905\n",
      "  Number of objectives: 1\n",
      "  Number of constraints: 23811\n",
      "  Number of variables: 11533\n",
      "  Number of binary variables: 0\n",
      "  Number of integer variables: 0\n",
      "  Number of continuous variables: 11533\n",
      "  Number of nonzeros: 49842\n",
      "  Sense: minimize\n",
      "# ----------------------------------------------------------\n",
      "#   Solver Information\n",
      "# ----------------------------------------------------------\n",
      "Solver: \n",
      "- Status: ok\n",
      "  Return code: 0\n",
      "  Message: Model was solved to optimality (subject to tolerances), and an optimal solution is available.\n",
      "  Termination condition: optimal\n",
      "  Termination message: Model was solved to optimality (subject to tolerances), and an optimal solution is available.\n",
      "  Wall time: 0.3905792236328125\n",
      "  Error rc: 0\n",
      "  Time: 0.8124358654022217\n",
      "# ----------------------------------------------------------\n",
      "#   Solution Information\n",
      "# ----------------------------------------------------------\n",
      "Solution: \n",
      "- number of solutions: 0\n",
      "  number of solutions displayed: 0\n"
     ]
    },
    {
     "name": "stderr",
     "output_type": "stream",
     "text": [
      "INFO:pypsa.opf:Solving model using gurobi\n"
     ]
    },
    {
     "name": "stdout",
     "output_type": "stream",
     "text": [
      "27643547102.18967\n",
      " wind constraint\n",
      "generator_p_nom[wind 0] + generator_p_nom[wind 1] + generator_p_nom[wind 2]  ==  323674.06632061023\n",
      " solar constraint\n",
      "generator_p_nom[solar 0] + generator_p_nom[solar 1] + generator_p_nom[solar 2]  ==  67047.43711616163\n"
     ]
    },
    {
     "name": "stderr",
     "output_type": "stream",
     "text": [
      "WARNING:pyomo.core:Loading a SolverResults object with a warning status into model=Linear Optimal Power Flow;\n",
      "    message from solver=Problem proven to be infeasible or unbounded.\n",
      "ERROR:pypsa.opf:Optimisation failed with status warning and terminal condition infeasibleOrUnbounded\n",
      "INFO:pypsa.opf:Building pyomo model using `angles` formulation\n",
      "WARNING:pypsa.opf:The following generators have both investment optimisation and unit commitment:\n",
      "Index(['gas 0', 'gas 1', 'gas 2', 'wind 0', 'wind 1', 'wind 2', 'solar 0',\n",
      "       'solar 1', 'solar 2'],\n",
      "      dtype='object', name='name')\n",
      "Currently PyPSA cannot do both these functions, so PyPSA is choosing investment optimisation for these generators.\n"
     ]
    },
    {
     "name": "stdout",
     "output_type": "stream",
     "text": [
      "WARNING: Loading a SolverResults object with a warning status into\n",
      "    model=Linear Optimal Power Flow;\n",
      "        message from solver=Problem proven to be infeasible or unbounded.\n",
      "# ==========================================================\n",
      "# = Solver Results                                         =\n",
      "# ==========================================================\n",
      "# ----------------------------------------------------------\n",
      "#   Problem Information\n",
      "# ----------------------------------------------------------\n",
      "Problem: \n",
      "- Name: x11533\n",
      "  Lower bound: -inf\n",
      "  Upper bound: inf\n",
      "  Number of objectives: 1\n",
      "  Number of constraints: 23812\n",
      "  Number of variables: 11533\n",
      "  Number of binary variables: 0\n",
      "  Number of integer variables: 0\n",
      "  Number of continuous variables: 11533\n",
      "  Number of nonzeros: 49845\n",
      "  Sense: minimize\n",
      "# ----------------------------------------------------------\n",
      "#   Solver Information\n",
      "# ----------------------------------------------------------\n",
      "Solver: \n",
      "- Status: warning\n",
      "  Return code: 0\n",
      "  Message: Problem proven to be infeasible or unbounded.\n",
      "  Termination condition: infeasibleOrUnbounded\n",
      "  Termination message: Problem proven to be infeasible or unbounded.\n",
      "  Wall time: 0.1874866485595703\n",
      "  Error rc: 0\n",
      "  Time: 0.48433732986450195\n"
     ]
    },
    {
     "name": "stderr",
     "output_type": "stream",
     "text": [
      "INFO:pypsa.opf:Solving model using gurobi\n"
     ]
    },
    {
     "name": "stdout",
     "output_type": "stream",
     "text": [
      "27643547102.18967\n",
      " wind constraint\n",
      "generator_p_nom[wind 0] + generator_p_nom[wind 1] + generator_p_nom[wind 2]  ==  323674.06632061023\n",
      " solar constraint\n",
      "generator_p_nom[solar 0] + generator_p_nom[solar 1] + generator_p_nom[solar 2]  ==  33523.718558080815\n"
     ]
    },
    {
     "name": "stderr",
     "output_type": "stream",
     "text": [
      "WARNING:pyomo.core:Loading a SolverResults object with a warning status into model=Linear Optimal Power Flow;\n",
      "    message from solver=Problem proven to be infeasible or unbounded.\n",
      "ERROR:pypsa.opf:Optimisation failed with status warning and terminal condition infeasibleOrUnbounded\n",
      "INFO:pypsa.opf:Building pyomo model using `angles` formulation\n",
      "WARNING:pypsa.opf:The following generators have both investment optimisation and unit commitment:\n",
      "Index(['gas 0', 'gas 1', 'gas 2', 'wind 0', 'wind 1', 'wind 2', 'solar 0',\n",
      "       'solar 1', 'solar 2'],\n",
      "      dtype='object', name='name')\n",
      "Currently PyPSA cannot do both these functions, so PyPSA is choosing investment optimisation for these generators.\n"
     ]
    },
    {
     "name": "stdout",
     "output_type": "stream",
     "text": [
      "WARNING: Loading a SolverResults object with a warning status into\n",
      "    model=Linear Optimal Power Flow;\n",
      "        message from solver=Problem proven to be infeasible or unbounded.\n",
      "# ==========================================================\n",
      "# = Solver Results                                         =\n",
      "# ==========================================================\n",
      "# ----------------------------------------------------------\n",
      "#   Problem Information\n",
      "# ----------------------------------------------------------\n",
      "Problem: \n",
      "- Name: x11533\n",
      "  Lower bound: -inf\n",
      "  Upper bound: inf\n",
      "  Number of objectives: 1\n",
      "  Number of constraints: 23812\n",
      "  Number of variables: 11533\n",
      "  Number of binary variables: 0\n",
      "  Number of integer variables: 0\n",
      "  Number of continuous variables: 11533\n",
      "  Number of nonzeros: 49845\n",
      "  Sense: minimize\n",
      "# ----------------------------------------------------------\n",
      "#   Solver Information\n",
      "# ----------------------------------------------------------\n",
      "Solver: \n",
      "- Status: warning\n",
      "  Return code: 0\n",
      "  Message: Problem proven to be infeasible or unbounded.\n",
      "  Termination condition: infeasibleOrUnbounded\n",
      "  Termination message: Problem proven to be infeasible or unbounded.\n",
      "  Wall time: 0.2812309265136719\n",
      "  Error rc: 0\n",
      "  Time: 0.5937068462371826\n"
     ]
    },
    {
     "name": "stderr",
     "output_type": "stream",
     "text": [
      "INFO:pypsa.opf:Solving model using gurobi\n"
     ]
    },
    {
     "name": "stdout",
     "output_type": "stream",
     "text": [
      "27643547102.18967\n",
      " wind constraint\n",
      "generator_p_nom[wind 0] + generator_p_nom[wind 1] + generator_p_nom[wind 2]  ==  323674.06632061023\n",
      " solar constraint\n",
      "generator_p_nom[solar 0] + generator_p_nom[solar 1] + generator_p_nom[solar 2]  ==  20114.231134848487\n"
     ]
    },
    {
     "name": "stderr",
     "output_type": "stream",
     "text": [
      "INFO:pypsa.opf:Optimization successful\n",
      "INFO:pypsa.opf:Building pyomo model using `angles` formulation\n",
      "WARNING:pypsa.opf:The following generators have both investment optimisation and unit commitment:\n",
      "Index(['gas 0', 'gas 1', 'gas 2', 'wind 0', 'wind 1', 'wind 2', 'solar 0',\n",
      "       'solar 1', 'solar 2'],\n",
      "      dtype='object', name='name')\n",
      "Currently PyPSA cannot do both these functions, so PyPSA is choosing investment optimisation for these generators.\n"
     ]
    },
    {
     "name": "stdout",
     "output_type": "stream",
     "text": [
      "# ==========================================================\n",
      "# = Solver Results                                         =\n",
      "# ==========================================================\n",
      "# ----------------------------------------------------------\n",
      "#   Problem Information\n",
      "# ----------------------------------------------------------\n",
      "Problem: \n",
      "- Name: x11533_copy\n",
      "  Lower bound: 27518390074.6803\n",
      "  Upper bound: 27518390074.6803\n",
      "  Number of objectives: 1\n",
      "  Number of constraints: 23812\n",
      "  Number of variables: 11533\n",
      "  Number of binary variables: 0\n",
      "  Number of integer variables: 0\n",
      "  Number of continuous variables: 11533\n",
      "  Number of nonzeros: 49845\n",
      "  Sense: minimize\n",
      "# ----------------------------------------------------------\n",
      "#   Solver Information\n",
      "# ----------------------------------------------------------\n",
      "Solver: \n",
      "- Status: ok\n",
      "  Return code: 0\n",
      "  Message: Model was solved to optimality (subject to tolerances), and an optimal solution is available.\n",
      "  Termination condition: optimal\n",
      "  Termination message: Model was solved to optimality (subject to tolerances), and an optimal solution is available.\n",
      "  Wall time: 0.3749732971191406\n",
      "  Error rc: 0\n",
      "  Time: 0.843684196472168\n",
      "# ----------------------------------------------------------\n",
      "#   Solution Information\n",
      "# ----------------------------------------------------------\n",
      "Solution: \n",
      "- number of solutions: 0\n",
      "  number of solutions displayed: 0\n"
     ]
    },
    {
     "name": "stderr",
     "output_type": "stream",
     "text": [
      "INFO:pypsa.opf:Solving model using gurobi\n"
     ]
    },
    {
     "name": "stdout",
     "output_type": "stream",
     "text": [
      "27643547102.18967\n",
      " wind constraint\n",
      "generator_p_nom[wind 0] + generator_p_nom[wind 1] + generator_p_nom[wind 2]  ==  323674.06632061023\n",
      " solar constraint\n",
      "generator_p_nom[solar 0] + generator_p_nom[solar 1] + generator_p_nom[solar 2]  ==  40228.462269696975\n"
     ]
    },
    {
     "name": "stderr",
     "output_type": "stream",
     "text": [
      "WARNING:pyomo.core:Loading a SolverResults object with a warning status into model=Linear Optimal Power Flow;\n",
      "    message from solver=Problem proven to be infeasible or unbounded.\n",
      "ERROR:pypsa.opf:Optimisation failed with status warning and terminal condition infeasibleOrUnbounded\n",
      "INFO:pypsa.opf:Building pyomo model using `angles` formulation\n",
      "WARNING:pypsa.opf:The following generators have both investment optimisation and unit commitment:\n",
      "Index(['gas 0', 'gas 1', 'gas 2', 'wind 0', 'wind 1', 'wind 2', 'solar 0',\n",
      "       'solar 1', 'solar 2'],\n",
      "      dtype='object', name='name')\n",
      "Currently PyPSA cannot do both these functions, so PyPSA is choosing investment optimisation for these generators.\n"
     ]
    },
    {
     "name": "stdout",
     "output_type": "stream",
     "text": [
      "WARNING: Loading a SolverResults object with a warning status into\n",
      "    model=Linear Optimal Power Flow;\n",
      "        message from solver=Problem proven to be infeasible or unbounded.\n",
      "# ==========================================================\n",
      "# = Solver Results                                         =\n",
      "# ==========================================================\n",
      "# ----------------------------------------------------------\n",
      "#   Problem Information\n",
      "# ----------------------------------------------------------\n",
      "Problem: \n",
      "- Name: x11533\n",
      "  Lower bound: -inf\n",
      "  Upper bound: inf\n",
      "  Number of objectives: 1\n",
      "  Number of constraints: 23812\n",
      "  Number of variables: 11533\n",
      "  Number of binary variables: 0\n",
      "  Number of integer variables: 0\n",
      "  Number of continuous variables: 11533\n",
      "  Number of nonzeros: 49845\n",
      "  Sense: minimize\n",
      "# ----------------------------------------------------------\n",
      "#   Solver Information\n",
      "# ----------------------------------------------------------\n",
      "Solver: \n",
      "- Status: warning\n",
      "  Return code: 0\n",
      "  Message: Problem proven to be infeasible or unbounded.\n",
      "  Termination condition: infeasibleOrUnbounded\n",
      "  Termination message: Problem proven to be infeasible or unbounded.\n",
      "  Wall time: 0.1718616485595703\n",
      "  Error rc: 0\n",
      "  Time: 0.49996185302734375\n"
     ]
    },
    {
     "name": "stderr",
     "output_type": "stream",
     "text": [
      "INFO:pypsa.opf:Solving model using gurobi\n"
     ]
    },
    {
     "name": "stdout",
     "output_type": "stream",
     "text": [
      "27643547102.18967\n",
      " wind constraint\n",
      "generator_p_nom[wind 0] + generator_p_nom[wind 1] + generator_p_nom[wind 2]  ==  323674.06632061023\n",
      " solar constraint\n",
      "generator_p_nom[solar 0] + generator_p_nom[solar 1] + generator_p_nom[solar 2]  ==  6704.743711616163\n"
     ]
    },
    {
     "name": "stderr",
     "output_type": "stream",
     "text": [
      "INFO:pypsa.opf:Optimization successful\n",
      "INFO:pypsa.opf:Building pyomo model using `angles` formulation\n",
      "WARNING:pypsa.opf:The following generators have both investment optimisation and unit commitment:\n",
      "Index(['gas 0', 'gas 1', 'gas 2', 'wind 0', 'wind 1', 'wind 2', 'solar 0',\n",
      "       'solar 1', 'solar 2'],\n",
      "      dtype='object', name='name')\n",
      "Currently PyPSA cannot do both these functions, so PyPSA is choosing investment optimisation for these generators.\n"
     ]
    },
    {
     "name": "stdout",
     "output_type": "stream",
     "text": [
      "# ==========================================================\n",
      "# = Solver Results                                         =\n",
      "# ==========================================================\n",
      "# ----------------------------------------------------------\n",
      "#   Problem Information\n",
      "# ----------------------------------------------------------\n",
      "Problem: \n",
      "- Name: x11533_copy\n",
      "  Lower bound: 27016649622.839233\n",
      "  Upper bound: 27016649622.839233\n",
      "  Number of objectives: 1\n",
      "  Number of constraints: 23812\n",
      "  Number of variables: 11533\n",
      "  Number of binary variables: 0\n",
      "  Number of integer variables: 0\n",
      "  Number of continuous variables: 11533\n",
      "  Number of nonzeros: 49845\n",
      "  Sense: minimize\n",
      "# ----------------------------------------------------------\n",
      "#   Solver Information\n",
      "# ----------------------------------------------------------\n",
      "Solver: \n",
      "- Status: ok\n",
      "  Return code: 0\n",
      "  Message: Model was solved to optimality (subject to tolerances), and an optimal solution is available.\n",
      "  Termination condition: optimal\n",
      "  Termination message: Model was solved to optimality (subject to tolerances), and an optimal solution is available.\n",
      "  Wall time: 0.4687004089355469\n",
      "  Error rc: 0\n",
      "  Time: 0.8749370574951172\n",
      "# ----------------------------------------------------------\n",
      "#   Solution Information\n",
      "# ----------------------------------------------------------\n",
      "Solution: \n",
      "- number of solutions: 0\n",
      "  number of solutions displayed: 0\n"
     ]
    },
    {
     "name": "stderr",
     "output_type": "stream",
     "text": [
      "INFO:pypsa.opf:Solving model using gurobi\n"
     ]
    },
    {
     "name": "stdout",
     "output_type": "stream",
     "text": [
      "27643547102.18967\n",
      " wind constraint\n",
      "generator_p_nom[wind 0] + generator_p_nom[wind 1] + generator_p_nom[wind 2]  ==  323674.06632061023\n",
      " solar constraint\n",
      "generator_p_nom[solar 0] + generator_p_nom[solar 1] + generator_p_nom[solar 2]  ==  13409.487423232325\n"
     ]
    },
    {
     "name": "stderr",
     "output_type": "stream",
     "text": [
      "INFO:pypsa.opf:Optimization successful\n",
      "INFO:pypsa.opf:Building pyomo model using `angles` formulation\n"
     ]
    },
    {
     "name": "stdout",
     "output_type": "stream",
     "text": [
      "# ==========================================================\n",
      "# = Solver Results                                         =\n",
      "# ==========================================================\n",
      "# ----------------------------------------------------------\n",
      "#   Problem Information\n",
      "# ----------------------------------------------------------\n",
      "Problem: \n",
      "- Name: x11533_copy\n",
      "  Lower bound: 27267347017.80509\n",
      "  Upper bound: 27267347017.80509\n",
      "  Number of objectives: 1\n",
      "  Number of constraints: 23812\n",
      "  Number of variables: 11533\n",
      "  Number of binary variables: 0\n",
      "  Number of integer variables: 0\n",
      "  Number of continuous variables: 11533\n",
      "  Number of nonzeros: 49845\n",
      "  Sense: minimize\n",
      "# ----------------------------------------------------------\n",
      "#   Solver Information\n",
      "# ----------------------------------------------------------\n",
      "Solver: \n",
      "- Status: ok\n",
      "  Return code: 0\n",
      "  Message: Model was solved to optimality (subject to tolerances), and an optimal solution is available.\n",
      "  Termination condition: optimal\n",
      "  Termination message: Model was solved to optimality (subject to tolerances), and an optimal solution is available.\n",
      "  Wall time: 0.48433876037597656\n",
      "  Error rc: 0\n",
      "  Time: 0.9374451637268066\n",
      "# ----------------------------------------------------------\n",
      "#   Solution Information\n",
      "# ----------------------------------------------------------\n",
      "Solution: \n",
      "- number of solutions: 0\n",
      "  number of solutions displayed: 0\n"
     ]
    },
    {
     "name": "stderr",
     "output_type": "stream",
     "text": [
      "WARNING:pypsa.opf:The following generators have both investment optimisation and unit commitment:\n",
      "Index(['gas 0', 'gas 1', 'gas 2', 'wind 0', 'wind 1', 'wind 2', 'solar 0',\n",
      "       'solar 1', 'solar 2'],\n",
      "      dtype='object', name='name')\n",
      "Currently PyPSA cannot do both these functions, so PyPSA is choosing investment optimisation for these generators.\n",
      "INFO:pypsa.opf:Solving model using gurobi\n"
     ]
    },
    {
     "name": "stdout",
     "output_type": "stream",
     "text": [
      "27643547102.18967\n",
      " wind constraint\n",
      "generator_p_nom[wind 0] + generator_p_nom[wind 1] + generator_p_nom[wind 2]  ==  323674.06632061023\n",
      " solar constraint\n",
      "generator_p_nom[solar 0] + generator_p_nom[solar 1] + generator_p_nom[solar 2]  ==  46933.20598131314\n"
     ]
    },
    {
     "name": "stderr",
     "output_type": "stream",
     "text": [
      "WARNING:pyomo.core:Loading a SolverResults object with a warning status into model=Linear Optimal Power Flow;\n",
      "    message from solver=Problem proven to be infeasible or unbounded.\n",
      "ERROR:pypsa.opf:Optimisation failed with status warning and terminal condition infeasibleOrUnbounded\n",
      "INFO:pypsa.opf:Building pyomo model using `angles` formulation\n",
      "WARNING:pypsa.opf:The following generators have both investment optimisation and unit commitment:\n",
      "Index(['gas 0', 'gas 1', 'gas 2', 'wind 0', 'wind 1', 'wind 2', 'solar 0',\n",
      "       'solar 1', 'solar 2'],\n",
      "      dtype='object', name='name')\n",
      "Currently PyPSA cannot do both these functions, so PyPSA is choosing investment optimisation for these generators.\n"
     ]
    },
    {
     "name": "stdout",
     "output_type": "stream",
     "text": [
      "WARNING: Loading a SolverResults object with a warning status into\n",
      "    model=Linear Optimal Power Flow;\n",
      "        message from solver=Problem proven to be infeasible or unbounded.\n",
      "# ==========================================================\n",
      "# = Solver Results                                         =\n",
      "# ==========================================================\n",
      "# ----------------------------------------------------------\n",
      "#   Problem Information\n",
      "# ----------------------------------------------------------\n",
      "Problem: \n",
      "- Name: x11533\n",
      "  Lower bound: -inf\n",
      "  Upper bound: inf\n",
      "  Number of objectives: 1\n",
      "  Number of constraints: 23812\n",
      "  Number of variables: 11533\n",
      "  Number of binary variables: 0\n",
      "  Number of integer variables: 0\n",
      "  Number of continuous variables: 11533\n",
      "  Number of nonzeros: 49845\n",
      "  Sense: minimize\n",
      "# ----------------------------------------------------------\n",
      "#   Solver Information\n",
      "# ----------------------------------------------------------\n",
      "Solver: \n",
      "- Status: warning\n",
      "  Return code: 0\n",
      "  Message: Problem proven to be infeasible or unbounded.\n",
      "  Termination condition: infeasibleOrUnbounded\n",
      "  Termination message: Problem proven to be infeasible or unbounded.\n",
      "  Wall time: 0.28122901916503906\n",
      "  Error rc: 0\n",
      "  Time: 0.6249306201934814\n"
     ]
    },
    {
     "name": "stderr",
     "output_type": "stream",
     "text": [
      "INFO:pypsa.opf:Solving model using gurobi\n"
     ]
    },
    {
     "name": "stdout",
     "output_type": "stream",
     "text": [
      "27643547102.18967\n",
      " wind constraint\n",
      "generator_p_nom[wind 0] + generator_p_nom[wind 1] + generator_p_nom[wind 2]  ==  323674.06632061023\n",
      " solar constraint\n",
      "generator_p_nom[solar 0] + generator_p_nom[solar 1] + generator_p_nom[solar 2]  ==  60342.69340454546\n"
     ]
    },
    {
     "name": "stderr",
     "output_type": "stream",
     "text": [
      "WARNING:pyomo.core:Loading a SolverResults object with a warning status into model=Linear Optimal Power Flow;\n",
      "    message from solver=Problem proven to be infeasible or unbounded.\n",
      "ERROR:pypsa.opf:Optimisation failed with status warning and terminal condition infeasibleOrUnbounded\n",
      "INFO:pypsa.opf:Building pyomo model using `angles` formulation\n",
      "WARNING:pypsa.opf:The following generators have both investment optimisation and unit commitment:\n",
      "Index(['gas 0', 'gas 1', 'gas 2', 'wind 0', 'wind 1', 'wind 2', 'solar 0',\n",
      "       'solar 1', 'solar 2'],\n",
      "      dtype='object', name='name')\n",
      "Currently PyPSA cannot do both these functions, so PyPSA is choosing investment optimisation for these generators.\n"
     ]
    },
    {
     "name": "stdout",
     "output_type": "stream",
     "text": [
      "WARNING: Loading a SolverResults object with a warning status into\n",
      "    model=Linear Optimal Power Flow;\n",
      "        message from solver=Problem proven to be infeasible or unbounded.\n",
      "# ==========================================================\n",
      "# = Solver Results                                         =\n",
      "# ==========================================================\n",
      "# ----------------------------------------------------------\n",
      "#   Problem Information\n",
      "# ----------------------------------------------------------\n",
      "Problem: \n",
      "- Name: x11533\n",
      "  Lower bound: -inf\n",
      "  Upper bound: inf\n",
      "  Number of objectives: 1\n",
      "  Number of constraints: 23812\n",
      "  Number of variables: 11533\n",
      "  Number of binary variables: 0\n",
      "  Number of integer variables: 0\n",
      "  Number of continuous variables: 11533\n",
      "  Number of nonzeros: 49845\n",
      "  Sense: minimize\n",
      "# ----------------------------------------------------------\n",
      "#   Solver Information\n",
      "# ----------------------------------------------------------\n",
      "Solver: \n",
      "- Status: warning\n",
      "  Return code: 0\n",
      "  Message: Problem proven to be infeasible or unbounded.\n",
      "  Termination condition: infeasibleOrUnbounded\n",
      "  Termination message: Problem proven to be infeasible or unbounded.\n",
      "  Wall time: 0.2343597412109375\n",
      "  Error rc: 0\n",
      "  Time: 0.5311908721923828\n"
     ]
    },
    {
     "name": "stderr",
     "output_type": "stream",
     "text": [
      "INFO:pypsa.opf:Solving model using gurobi\n"
     ]
    },
    {
     "name": "stdout",
     "output_type": "stream",
     "text": [
      "27643547102.18967\n",
      " wind constraint\n",
      "generator_p_nom[wind 0] + generator_p_nom[wind 1] + generator_p_nom[wind 2]  ==  323674.06632061023\n",
      " solar constraint\n",
      "generator_p_nom[solar 0] + generator_p_nom[solar 1] + generator_p_nom[solar 2]  ==  53637.9496929293\n"
     ]
    },
    {
     "name": "stderr",
     "output_type": "stream",
     "text": [
      "WARNING:pyomo.core:Loading a SolverResults object with a warning status into model=Linear Optimal Power Flow;\n",
      "    message from solver=Problem proven to be infeasible or unbounded.\n",
      "ERROR:pypsa.opf:Optimisation failed with status warning and terminal condition infeasibleOrUnbounded\n",
      "INFO:pypsa.opf:Building pyomo model using `angles` formulation\n",
      "WARNING:pypsa.opf:The following generators have both investment optimisation and unit commitment:\n",
      "Index(['gas 0', 'gas 1', 'gas 2', 'wind 0', 'wind 1', 'wind 2', 'solar 0',\n",
      "       'solar 1', 'solar 2'],\n",
      "      dtype='object', name='name')\n",
      "Currently PyPSA cannot do both these functions, so PyPSA is choosing investment optimisation for these generators.\n"
     ]
    },
    {
     "name": "stdout",
     "output_type": "stream",
     "text": [
      "WARNING: Loading a SolverResults object with a warning status into\n",
      "    model=Linear Optimal Power Flow;\n",
      "        message from solver=Problem proven to be infeasible or unbounded.\n",
      "# ==========================================================\n",
      "# = Solver Results                                         =\n",
      "# ==========================================================\n",
      "# ----------------------------------------------------------\n",
      "#   Problem Information\n",
      "# ----------------------------------------------------------\n",
      "Problem: \n",
      "- Name: x11533\n",
      "  Lower bound: -inf\n",
      "  Upper bound: inf\n",
      "  Number of objectives: 1\n",
      "  Number of constraints: 23812\n",
      "  Number of variables: 11533\n",
      "  Number of binary variables: 0\n",
      "  Number of integer variables: 0\n",
      "  Number of continuous variables: 11533\n",
      "  Number of nonzeros: 49845\n",
      "  Sense: minimize\n",
      "# ----------------------------------------------------------\n",
      "#   Solver Information\n",
      "# ----------------------------------------------------------\n",
      "Solver: \n",
      "- Status: warning\n",
      "  Return code: 0\n",
      "  Message: Problem proven to be infeasible or unbounded.\n",
      "  Termination condition: infeasibleOrUnbounded\n",
      "  Termination message: Problem proven to be infeasible or unbounded.\n",
      "  Wall time: 0.20311546325683594\n",
      "  Error rc: 0\n",
      "  Time: 0.5312049388885498\n"
     ]
    },
    {
     "name": "stderr",
     "output_type": "stream",
     "text": [
      "INFO:pypsa.opf:Solving model using gurobi\n"
     ]
    },
    {
     "name": "stdout",
     "output_type": "stream",
     "text": [
      "27643547102.18967\n",
      " wind constraint\n",
      "generator_p_nom[wind 0] + generator_p_nom[wind 1] + generator_p_nom[wind 2]  ==  319390.6872039925\n",
      " solar constraint\n",
      "generator_p_nom[solar 0] + generator_p_nom[solar 1] + generator_p_nom[solar 2]  ==  46933.20598131314\n"
     ]
    },
    {
     "name": "stderr",
     "output_type": "stream",
     "text": [
      "WARNING:pyomo.core:Loading a SolverResults object with a warning status into model=Linear Optimal Power Flow;\n",
      "    message from solver=Problem proven to be infeasible or unbounded.\n",
      "ERROR:pypsa.opf:Optimisation failed with status warning and terminal condition infeasibleOrUnbounded\n",
      "INFO:pypsa.opf:Building pyomo model using `angles` formulation\n",
      "WARNING:pypsa.opf:The following generators have both investment optimisation and unit commitment:\n",
      "Index(['gas 0', 'gas 1', 'gas 2', 'wind 0', 'wind 1', 'wind 2', 'solar 0',\n",
      "       'solar 1', 'solar 2'],\n",
      "      dtype='object', name='name')\n",
      "Currently PyPSA cannot do both these functions, so PyPSA is choosing investment optimisation for these generators.\n"
     ]
    },
    {
     "name": "stdout",
     "output_type": "stream",
     "text": [
      "WARNING: Loading a SolverResults object with a warning status into\n",
      "    model=Linear Optimal Power Flow;\n",
      "        message from solver=Problem proven to be infeasible or unbounded.\n",
      "# ==========================================================\n",
      "# = Solver Results                                         =\n",
      "# ==========================================================\n",
      "# ----------------------------------------------------------\n",
      "#   Problem Information\n",
      "# ----------------------------------------------------------\n",
      "Problem: \n",
      "- Name: x11533\n",
      "  Lower bound: -inf\n",
      "  Upper bound: inf\n",
      "  Number of objectives: 1\n",
      "  Number of constraints: 23812\n",
      "  Number of variables: 11533\n",
      "  Number of binary variables: 0\n",
      "  Number of integer variables: 0\n",
      "  Number of continuous variables: 11533\n",
      "  Number of nonzeros: 49845\n",
      "  Sense: minimize\n",
      "# ----------------------------------------------------------\n",
      "#   Solver Information\n",
      "# ----------------------------------------------------------\n",
      "Solver: \n",
      "- Status: warning\n",
      "  Return code: 0\n",
      "  Message: Problem proven to be infeasible or unbounded.\n",
      "  Termination condition: infeasibleOrUnbounded\n",
      "  Termination message: Problem proven to be infeasible or unbounded.\n",
      "  Wall time: 0.32810211181640625\n",
      "  Error rc: 0\n",
      "  Time: 0.6249496936798096\n"
     ]
    },
    {
     "name": "stderr",
     "output_type": "stream",
     "text": [
      "INFO:pypsa.opf:Solving model using gurobi\n"
     ]
    },
    {
     "name": "stdout",
     "output_type": "stream",
     "text": [
      "27643547102.18967\n",
      " wind constraint\n",
      "generator_p_nom[wind 0] + generator_p_nom[wind 1] + generator_p_nom[wind 2]  ==  319390.6872039925\n",
      " solar constraint\n",
      "generator_p_nom[solar 0] + generator_p_nom[solar 1] + generator_p_nom[solar 2]  ==  6704.743711616163\n"
     ]
    },
    {
     "name": "stderr",
     "output_type": "stream",
     "text": [
      "INFO:pypsa.opf:Optimization successful\n",
      "INFO:pypsa.opf:Building pyomo model using `angles` formulation\n",
      "WARNING:pypsa.opf:The following generators have both investment optimisation and unit commitment:\n",
      "Index(['gas 0', 'gas 1', 'gas 2', 'wind 0', 'wind 1', 'wind 2', 'solar 0',\n",
      "       'solar 1', 'solar 2'],\n",
      "      dtype='object', name='name')\n",
      "Currently PyPSA cannot do both these functions, so PyPSA is choosing investment optimisation for these generators.\n"
     ]
    },
    {
     "name": "stdout",
     "output_type": "stream",
     "text": [
      "# ==========================================================\n",
      "# = Solver Results                                         =\n",
      "# ==========================================================\n",
      "# ----------------------------------------------------------\n",
      "#   Problem Information\n",
      "# ----------------------------------------------------------\n",
      "Problem: \n",
      "- Name: x11533_copy\n",
      "  Lower bound: 26728387864.291405\n",
      "  Upper bound: 26728387864.291405\n",
      "  Number of objectives: 1\n",
      "  Number of constraints: 23812\n",
      "  Number of variables: 11533\n",
      "  Number of binary variables: 0\n",
      "  Number of integer variables: 0\n",
      "  Number of continuous variables: 11533\n",
      "  Number of nonzeros: 49845\n",
      "  Sense: minimize\n",
      "# ----------------------------------------------------------\n",
      "#   Solver Information\n",
      "# ----------------------------------------------------------\n",
      "Solver: \n",
      "- Status: ok\n",
      "  Return code: 0\n",
      "  Message: Model was solved to optimality (subject to tolerances), and an optimal solution is available.\n",
      "  Termination condition: optimal\n",
      "  Termination message: Model was solved to optimality (subject to tolerances), and an optimal solution is available.\n",
      "  Wall time: 0.5155887603759766\n",
      "  Error rc: 0\n",
      "  Time: 0.9374344348907471\n",
      "# ----------------------------------------------------------\n",
      "#   Solution Information\n",
      "# ----------------------------------------------------------\n",
      "Solution: \n",
      "- number of solutions: 0\n",
      "  number of solutions displayed: 0\n"
     ]
    },
    {
     "name": "stderr",
     "output_type": "stream",
     "text": [
      "INFO:pypsa.opf:Solving model using gurobi\n"
     ]
    },
    {
     "name": "stdout",
     "output_type": "stream",
     "text": [
      "27643547102.18967\n",
      " wind constraint\n",
      "generator_p_nom[wind 0] + generator_p_nom[wind 1] + generator_p_nom[wind 2]  ==  319390.6872039925\n",
      " solar constraint\n",
      "generator_p_nom[solar 0] + generator_p_nom[solar 1] + generator_p_nom[solar 2]  ==  53637.9496929293\n"
     ]
    },
    {
     "name": "stderr",
     "output_type": "stream",
     "text": [
      "WARNING:pyomo.core:Loading a SolverResults object with a warning status into model=Linear Optimal Power Flow;\n",
      "    message from solver=Problem proven to be infeasible or unbounded.\n",
      "ERROR:pypsa.opf:Optimisation failed with status warning and terminal condition infeasibleOrUnbounded\n",
      "INFO:pypsa.opf:Building pyomo model using `angles` formulation\n",
      "WARNING:pypsa.opf:The following generators have both investment optimisation and unit commitment:\n",
      "Index(['gas 0', 'gas 1', 'gas 2', 'wind 0', 'wind 1', 'wind 2', 'solar 0',\n",
      "       'solar 1', 'solar 2'],\n",
      "      dtype='object', name='name')\n",
      "Currently PyPSA cannot do both these functions, so PyPSA is choosing investment optimisation for these generators.\n"
     ]
    },
    {
     "name": "stdout",
     "output_type": "stream",
     "text": [
      "WARNING: Loading a SolverResults object with a warning status into\n",
      "    model=Linear Optimal Power Flow;\n",
      "        message from solver=Problem proven to be infeasible or unbounded.\n",
      "# ==========================================================\n",
      "# = Solver Results                                         =\n",
      "# ==========================================================\n",
      "# ----------------------------------------------------------\n",
      "#   Problem Information\n",
      "# ----------------------------------------------------------\n",
      "Problem: \n",
      "- Name: x11533\n",
      "  Lower bound: -inf\n",
      "  Upper bound: inf\n",
      "  Number of objectives: 1\n",
      "  Number of constraints: 23812\n",
      "  Number of variables: 11533\n",
      "  Number of binary variables: 0\n",
      "  Number of integer variables: 0\n",
      "  Number of continuous variables: 11533\n",
      "  Number of nonzeros: 49845\n",
      "  Sense: minimize\n",
      "# ----------------------------------------------------------\n",
      "#   Solver Information\n",
      "# ----------------------------------------------------------\n",
      "Solver: \n",
      "- Status: warning\n",
      "  Return code: 0\n",
      "  Message: Problem proven to be infeasible or unbounded.\n",
      "  Termination condition: infeasibleOrUnbounded\n",
      "  Termination message: Problem proven to be infeasible or unbounded.\n",
      "  Wall time: 0.3593311309814453\n",
      "  Error rc: 0\n",
      "  Time: 0.6718251705169678\n"
     ]
    },
    {
     "name": "stderr",
     "output_type": "stream",
     "text": [
      "INFO:pypsa.opf:Solving model using gurobi\n"
     ]
    },
    {
     "name": "stdout",
     "output_type": "stream",
     "text": [
      "27643547102.18967\n",
      " wind constraint\n",
      "generator_p_nom[wind 0] + generator_p_nom[wind 1] + generator_p_nom[wind 2]  ==  319390.6872039925\n",
      " solar constraint\n",
      "generator_p_nom[solar 0] + generator_p_nom[solar 1] + generator_p_nom[solar 2]  ==  67047.43711616163\n"
     ]
    },
    {
     "name": "stderr",
     "output_type": "stream",
     "text": [
      "WARNING:pyomo.core:Loading a SolverResults object with a warning status into model=Linear Optimal Power Flow;\n",
      "    message from solver=Problem proven to be infeasible or unbounded.\n",
      "ERROR:pypsa.opf:Optimisation failed with status warning and terminal condition infeasibleOrUnbounded\n",
      "INFO:pypsa.opf:Building pyomo model using `angles` formulation\n",
      "WARNING:pypsa.opf:The following generators have both investment optimisation and unit commitment:\n",
      "Index(['gas 0', 'gas 1', 'gas 2', 'wind 0', 'wind 1', 'wind 2', 'solar 0',\n",
      "       'solar 1', 'solar 2'],\n",
      "      dtype='object', name='name')\n",
      "Currently PyPSA cannot do both these functions, so PyPSA is choosing investment optimisation for these generators.\n"
     ]
    },
    {
     "name": "stdout",
     "output_type": "stream",
     "text": [
      "WARNING: Loading a SolverResults object with a warning status into\n",
      "    model=Linear Optimal Power Flow;\n",
      "        message from solver=Problem proven to be infeasible or unbounded.\n",
      "# ==========================================================\n",
      "# = Solver Results                                         =\n",
      "# ==========================================================\n",
      "# ----------------------------------------------------------\n",
      "#   Problem Information\n",
      "# ----------------------------------------------------------\n",
      "Problem: \n",
      "- Name: x11533\n",
      "  Lower bound: -inf\n",
      "  Upper bound: inf\n",
      "  Number of objectives: 1\n",
      "  Number of constraints: 23812\n",
      "  Number of variables: 11533\n",
      "  Number of binary variables: 0\n",
      "  Number of integer variables: 0\n",
      "  Number of continuous variables: 11533\n",
      "  Number of nonzeros: 49845\n",
      "  Sense: minimize\n",
      "# ----------------------------------------------------------\n",
      "#   Solver Information\n",
      "# ----------------------------------------------------------\n",
      "Solver: \n",
      "- Status: warning\n",
      "  Return code: 0\n",
      "  Message: Problem proven to be infeasible or unbounded.\n",
      "  Termination condition: infeasibleOrUnbounded\n",
      "  Termination message: Problem proven to be infeasible or unbounded.\n",
      "  Wall time: 0.2187347412109375\n",
      "  Error rc: 0\n",
      "  Time: 0.5312047004699707\n"
     ]
    },
    {
     "name": "stderr",
     "output_type": "stream",
     "text": [
      "INFO:pypsa.opf:Solving model using gurobi\n"
     ]
    },
    {
     "name": "stdout",
     "output_type": "stream",
     "text": [
      "27643547102.18967\n",
      " wind constraint\n",
      "generator_p_nom[wind 0] + generator_p_nom[wind 1] + generator_p_nom[wind 2]  ==  319390.6872039925\n",
      " solar constraint\n",
      "generator_p_nom[solar 0] + generator_p_nom[solar 1] + generator_p_nom[solar 2]  ==  60342.69340454546\n"
     ]
    },
    {
     "name": "stderr",
     "output_type": "stream",
     "text": [
      "WARNING:pyomo.core:Loading a SolverResults object with a warning status into model=Linear Optimal Power Flow;\n",
      "    message from solver=Problem proven to be infeasible or unbounded.\n",
      "ERROR:pypsa.opf:Optimisation failed with status warning and terminal condition infeasibleOrUnbounded\n",
      "INFO:pypsa.opf:Building pyomo model using `angles` formulation\n",
      "WARNING:pypsa.opf:The following generators have both investment optimisation and unit commitment:\n",
      "Index(['gas 0', 'gas 1', 'gas 2', 'wind 0', 'wind 1', 'wind 2', 'solar 0',\n",
      "       'solar 1', 'solar 2'],\n",
      "      dtype='object', name='name')\n",
      "Currently PyPSA cannot do both these functions, so PyPSA is choosing investment optimisation for these generators.\n"
     ]
    },
    {
     "name": "stdout",
     "output_type": "stream",
     "text": [
      "WARNING: Loading a SolverResults object with a warning status into\n",
      "    model=Linear Optimal Power Flow;\n",
      "        message from solver=Problem proven to be infeasible or unbounded.\n",
      "# ==========================================================\n",
      "# = Solver Results                                         =\n",
      "# ==========================================================\n",
      "# ----------------------------------------------------------\n",
      "#   Problem Information\n",
      "# ----------------------------------------------------------\n",
      "Problem: \n",
      "- Name: x11533\n",
      "  Lower bound: -inf\n",
      "  Upper bound: inf\n",
      "  Number of objectives: 1\n",
      "  Number of constraints: 23812\n",
      "  Number of variables: 11533\n",
      "  Number of binary variables: 0\n",
      "  Number of integer variables: 0\n",
      "  Number of continuous variables: 11533\n",
      "  Number of nonzeros: 49845\n",
      "  Sense: minimize\n",
      "# ----------------------------------------------------------\n",
      "#   Solver Information\n",
      "# ----------------------------------------------------------\n",
      "Solver: \n",
      "- Status: warning\n",
      "  Return code: 0\n",
      "  Message: Problem proven to be infeasible or unbounded.\n",
      "  Termination condition: infeasibleOrUnbounded\n",
      "  Termination message: Problem proven to be infeasible or unbounded.\n",
      "  Wall time: 0.2343578338623047\n",
      "  Error rc: 0\n",
      "  Time: 0.5468084812164307\n"
     ]
    },
    {
     "name": "stderr",
     "output_type": "stream",
     "text": [
      "INFO:pypsa.opf:Solving model using gurobi\n"
     ]
    },
    {
     "name": "stdout",
     "output_type": "stream",
     "text": [
      "27643547102.18967\n",
      " wind constraint\n",
      "generator_p_nom[wind 0] + generator_p_nom[wind 1] + generator_p_nom[wind 2]  ==  319390.6872039925\n",
      " solar constraint\n",
      "generator_p_nom[solar 0] + generator_p_nom[solar 1] + generator_p_nom[solar 2]  ==  26818.97484646465\n"
     ]
    },
    {
     "name": "stderr",
     "output_type": "stream",
     "text": [
      "INFO:pypsa.opf:Optimization successful\n",
      "INFO:pypsa.opf:Building pyomo model using `angles` formulation\n",
      "WARNING:pypsa.opf:The following generators have both investment optimisation and unit commitment:\n",
      "Index(['gas 0', 'gas 1', 'gas 2', 'wind 0', 'wind 1', 'wind 2', 'solar 0',\n",
      "       'solar 1', 'solar 2'],\n",
      "      dtype='object', name='name')\n",
      "Currently PyPSA cannot do both these functions, so PyPSA is choosing investment optimisation for these generators.\n"
     ]
    },
    {
     "name": "stdout",
     "output_type": "stream",
     "text": [
      "# ==========================================================\n",
      "# = Solver Results                                         =\n",
      "# ==========================================================\n",
      "# ----------------------------------------------------------\n",
      "#   Problem Information\n",
      "# ----------------------------------------------------------\n",
      "Problem: \n",
      "- Name: x11533_copy\n",
      "  Lower bound: 27481396951.180836\n",
      "  Upper bound: 27481396951.180836\n",
      "  Number of objectives: 1\n",
      "  Number of constraints: 23812\n",
      "  Number of variables: 11533\n",
      "  Number of binary variables: 0\n",
      "  Number of integer variables: 0\n",
      "  Number of continuous variables: 11533\n",
      "  Number of nonzeros: 49845\n",
      "  Sense: minimize\n",
      "# ----------------------------------------------------------\n",
      "#   Solver Information\n",
      "# ----------------------------------------------------------\n",
      "Solver: \n",
      "- Status: ok\n",
      "  Return code: 0\n",
      "  Message: Model was solved to optimality (subject to tolerances), and an optimal solution is available.\n",
      "  Termination condition: optimal\n",
      "  Termination message: Model was solved to optimality (subject to tolerances), and an optimal solution is available.\n",
      "  Wall time: 0.46871376037597656\n",
      "  Error rc: 0\n",
      "  Time: 0.906182050704956\n",
      "# ----------------------------------------------------------\n",
      "#   Solution Information\n",
      "# ----------------------------------------------------------\n",
      "Solution: \n",
      "- number of solutions: 0\n",
      "  number of solutions displayed: 0\n"
     ]
    },
    {
     "name": "stderr",
     "output_type": "stream",
     "text": [
      "INFO:pypsa.opf:Solving model using gurobi\n"
     ]
    },
    {
     "name": "stdout",
     "output_type": "stream",
     "text": [
      "27643547102.18967\n",
      " wind constraint\n",
      "generator_p_nom[wind 0] + generator_p_nom[wind 1] + generator_p_nom[wind 2]  ==  319390.6872039925\n",
      " solar constraint\n",
      "generator_p_nom[solar 0] + generator_p_nom[solar 1] + generator_p_nom[solar 2]  ==  40228.462269696975\n"
     ]
    },
    {
     "name": "stderr",
     "output_type": "stream",
     "text": [
      "WARNING:pyomo.core:Loading a SolverResults object with a warning status into model=Linear Optimal Power Flow;\n",
      "    message from solver=Problem proven to be infeasible or unbounded.\n",
      "ERROR:pypsa.opf:Optimisation failed with status warning and terminal condition infeasibleOrUnbounded\n",
      "INFO:pypsa.opf:Building pyomo model using `angles` formulation\n",
      "WARNING:pypsa.opf:The following generators have both investment optimisation and unit commitment:\n",
      "Index(['gas 0', 'gas 1', 'gas 2', 'wind 0', 'wind 1', 'wind 2', 'solar 0',\n",
      "       'solar 1', 'solar 2'],\n",
      "      dtype='object', name='name')\n",
      "Currently PyPSA cannot do both these functions, so PyPSA is choosing investment optimisation for these generators.\n"
     ]
    },
    {
     "name": "stdout",
     "output_type": "stream",
     "text": [
      "WARNING: Loading a SolverResults object with a warning status into\n",
      "    model=Linear Optimal Power Flow;\n",
      "        message from solver=Problem proven to be infeasible or unbounded.\n",
      "# ==========================================================\n",
      "# = Solver Results                                         =\n",
      "# ==========================================================\n",
      "# ----------------------------------------------------------\n",
      "#   Problem Information\n",
      "# ----------------------------------------------------------\n",
      "Problem: \n",
      "- Name: x11533\n",
      "  Lower bound: -inf\n",
      "  Upper bound: inf\n",
      "  Number of objectives: 1\n",
      "  Number of constraints: 23812\n",
      "  Number of variables: 11533\n",
      "  Number of binary variables: 0\n",
      "  Number of integer variables: 0\n",
      "  Number of continuous variables: 11533\n",
      "  Number of nonzeros: 49845\n",
      "  Sense: minimize\n",
      "# ----------------------------------------------------------\n",
      "#   Solver Information\n",
      "# ----------------------------------------------------------\n",
      "Solver: \n",
      "- Status: warning\n",
      "  Return code: 0\n",
      "  Message: Problem proven to be infeasible or unbounded.\n",
      "  Termination condition: infeasibleOrUnbounded\n",
      "  Termination message: Problem proven to be infeasible or unbounded.\n",
      "  Wall time: 0.2656059265136719\n",
      "  Error rc: 0\n",
      "  Time: 0.5780835151672363\n"
     ]
    },
    {
     "name": "stderr",
     "output_type": "stream",
     "text": [
      "INFO:pypsa.opf:Solving model using gurobi\n"
     ]
    },
    {
     "name": "stdout",
     "output_type": "stream",
     "text": [
      "27643547102.18967\n",
      " wind constraint\n",
      "generator_p_nom[wind 0] + generator_p_nom[wind 1] + generator_p_nom[wind 2]  ==  319390.6872039925\n",
      " solar constraint\n",
      "generator_p_nom[solar 0] + generator_p_nom[solar 1] + generator_p_nom[solar 2]  ==  13409.487423232325\n"
     ]
    },
    {
     "name": "stderr",
     "output_type": "stream",
     "text": [
      "INFO:pypsa.opf:Optimization successful\n",
      "INFO:pypsa.opf:Building pyomo model using `angles` formulation\n"
     ]
    },
    {
     "name": "stdout",
     "output_type": "stream",
     "text": [
      "# ==========================================================\n",
      "# = Solver Results                                         =\n",
      "# ==========================================================\n",
      "# ----------------------------------------------------------\n",
      "#   Problem Information\n",
      "# ----------------------------------------------------------\n",
      "Problem: \n",
      "- Name: x11533_copy\n",
      "  Lower bound: 26979067707.72021\n",
      "  Upper bound: 26979067707.72021\n",
      "  Number of objectives: 1\n",
      "  Number of constraints: 23812\n",
      "  Number of variables: 11533\n",
      "  Number of binary variables: 0\n",
      "  Number of integer variables: 0\n",
      "  Number of continuous variables: 11533\n",
      "  Number of nonzeros: 49845\n",
      "  Sense: minimize\n",
      "# ----------------------------------------------------------\n",
      "#   Solver Information\n",
      "# ----------------------------------------------------------\n",
      "Solver: \n",
      "- Status: ok\n",
      "  Return code: 0\n",
      "  Message: Model was solved to optimality (subject to tolerances), and an optimal solution is available.\n",
      "  Termination condition: optimal\n",
      "  Termination message: Model was solved to optimality (subject to tolerances), and an optimal solution is available.\n",
      "  Wall time: 0.374969482421875\n",
      "  Error rc: 0\n",
      "  Time: 0.7967963218688965\n",
      "# ----------------------------------------------------------\n",
      "#   Solution Information\n",
      "# ----------------------------------------------------------\n",
      "Solution: \n",
      "- number of solutions: 0\n",
      "  number of solutions displayed: 0\n"
     ]
    },
    {
     "name": "stderr",
     "output_type": "stream",
     "text": [
      "WARNING:pypsa.opf:The following generators have both investment optimisation and unit commitment:\n",
      "Index(['gas 0', 'gas 1', 'gas 2', 'wind 0', 'wind 1', 'wind 2', 'solar 0',\n",
      "       'solar 1', 'solar 2'],\n",
      "      dtype='object', name='name')\n",
      "Currently PyPSA cannot do both these functions, so PyPSA is choosing investment optimisation for these generators.\n",
      "INFO:pypsa.opf:Solving model using gurobi\n"
     ]
    },
    {
     "name": "stdout",
     "output_type": "stream",
     "text": [
      "27643547102.18967\n",
      " wind constraint\n",
      "generator_p_nom[wind 0] + generator_p_nom[wind 1] + generator_p_nom[wind 2]  ==  319390.6872039925\n",
      " solar constraint\n",
      "generator_p_nom[solar 0] + generator_p_nom[solar 1] + generator_p_nom[solar 2]  ==  33523.718558080815\n"
     ]
    },
    {
     "name": "stderr",
     "output_type": "stream",
     "text": [
      "WARNING:pyomo.core:Loading a SolverResults object with a warning status into model=Linear Optimal Power Flow;\n",
      "    message from solver=Problem proven to be infeasible or unbounded.\n",
      "ERROR:pypsa.opf:Optimisation failed with status warning and terminal condition infeasibleOrUnbounded\n",
      "INFO:pypsa.opf:Building pyomo model using `angles` formulation\n",
      "WARNING:pypsa.opf:The following generators have both investment optimisation and unit commitment:\n",
      "Index(['gas 0', 'gas 1', 'gas 2', 'wind 0', 'wind 1', 'wind 2', 'solar 0',\n",
      "       'solar 1', 'solar 2'],\n",
      "      dtype='object', name='name')\n",
      "Currently PyPSA cannot do both these functions, so PyPSA is choosing investment optimisation for these generators.\n"
     ]
    },
    {
     "name": "stdout",
     "output_type": "stream",
     "text": [
      "WARNING: Loading a SolverResults object with a warning status into\n",
      "    model=Linear Optimal Power Flow;\n",
      "        message from solver=Problem proven to be infeasible or unbounded.\n",
      "# ==========================================================\n",
      "# = Solver Results                                         =\n",
      "# ==========================================================\n",
      "# ----------------------------------------------------------\n",
      "#   Problem Information\n",
      "# ----------------------------------------------------------\n",
      "Problem: \n",
      "- Name: x11533\n",
      "  Lower bound: -inf\n",
      "  Upper bound: inf\n",
      "  Number of objectives: 1\n",
      "  Number of constraints: 23812\n",
      "  Number of variables: 11533\n",
      "  Number of binary variables: 0\n",
      "  Number of integer variables: 0\n",
      "  Number of continuous variables: 11533\n",
      "  Number of nonzeros: 49845\n",
      "  Sense: minimize\n",
      "# ----------------------------------------------------------\n",
      "#   Solver Information\n",
      "# ----------------------------------------------------------\n",
      "Solver: \n",
      "- Status: warning\n",
      "  Return code: 0\n",
      "  Message: Problem proven to be infeasible or unbounded.\n",
      "  Termination condition: infeasibleOrUnbounded\n",
      "  Termination message: Problem proven to be infeasible or unbounded.\n",
      "  Wall time: 0.390594482421875\n",
      "  Error rc: 0\n",
      "  Time: 0.7030737400054932\n"
     ]
    },
    {
     "name": "stderr",
     "output_type": "stream",
     "text": [
      "INFO:pypsa.opf:Solving model using gurobi\n"
     ]
    },
    {
     "name": "stdout",
     "output_type": "stream",
     "text": [
      "27643547102.18967\n",
      " wind constraint\n",
      "generator_p_nom[wind 0] + generator_p_nom[wind 1] + generator_p_nom[wind 2]  ==  319390.6872039925\n"
     ]
    },
    {
     "name": "stderr",
     "output_type": "stream",
     "text": [
      "INFO:pypsa.opf:Optimization successful\n"
     ]
    },
    {
     "name": "stdout",
     "output_type": "stream",
     "text": [
      "# ==========================================================\n",
      "# = Solver Results                                         =\n",
      "# ==========================================================\n",
      "# ----------------------------------------------------------\n",
      "#   Problem Information\n",
      "# ----------------------------------------------------------\n",
      "Problem: \n",
      "- Name: x11533_copy\n",
      "  Lower bound: 26478751540.583004\n",
      "  Upper bound: 26478751540.583004\n",
      "  Number of objectives: 1\n",
      "  Number of constraints: 23811\n",
      "  Number of variables: 11533\n",
      "  Number of binary variables: 0\n",
      "  Number of integer variables: 0\n",
      "  Number of continuous variables: 11533\n",
      "  Number of nonzeros: 49842\n",
      "  Sense: minimize\n",
      "# ----------------------------------------------------------\n",
      "#   Solver Information\n",
      "# ----------------------------------------------------------\n",
      "Solver: \n",
      "- Status: ok\n",
      "  Return code: 0\n",
      "  Message: Model was solved to optimality (subject to tolerances), and an optimal solution is available.\n",
      "  Termination condition: optimal\n",
      "  Termination message: Model was solved to optimality (subject to tolerances), and an optimal solution is available.\n",
      "  Wall time: 0.4062232971191406\n",
      "  Error rc: 0\n",
      "  Time: 0.8436892032623291\n",
      "# ----------------------------------------------------------\n",
      "#   Solution Information\n",
      "# ----------------------------------------------------------\n",
      "Solution: \n",
      "- number of solutions: 0\n",
      "  number of solutions displayed: 0\n"
     ]
    },
    {
     "name": "stderr",
     "output_type": "stream",
     "text": [
      "INFO:pypsa.opf:Building pyomo model using `angles` formulation\n",
      "WARNING:pypsa.opf:The following generators have both investment optimisation and unit commitment:\n",
      "Index(['gas 0', 'gas 1', 'gas 2', 'wind 0', 'wind 1', 'wind 2', 'solar 0',\n",
      "       'solar 1', 'solar 2'],\n",
      "      dtype='object', name='name')\n",
      "Currently PyPSA cannot do both these functions, so PyPSA is choosing investment optimisation for these generators.\n",
      "INFO:pypsa.opf:Solving model using gurobi\n"
     ]
    },
    {
     "name": "stdout",
     "output_type": "stream",
     "text": [
      "27643547102.18967\n",
      " wind constraint\n",
      "generator_p_nom[wind 0] + generator_p_nom[wind 1] + generator_p_nom[wind 2]  ==  319390.6872039925\n",
      " solar constraint\n",
      "generator_p_nom[solar 0] + generator_p_nom[solar 1] + generator_p_nom[solar 2]  ==  20114.231134848487\n"
     ]
    },
    {
     "name": "stderr",
     "output_type": "stream",
     "text": [
      "INFO:pypsa.opf:Optimization successful\n",
      "INFO:pypsa.opf:Building pyomo model using `angles` formulation\n",
      "WARNING:pypsa.opf:The following generators have both investment optimisation and unit commitment:\n",
      "Index(['gas 0', 'gas 1', 'gas 2', 'wind 0', 'wind 1', 'wind 2', 'solar 0',\n",
      "       'solar 1', 'solar 2'],\n",
      "      dtype='object', name='name')\n",
      "Currently PyPSA cannot do both these functions, so PyPSA is choosing investment optimisation for these generators.\n"
     ]
    },
    {
     "name": "stdout",
     "output_type": "stream",
     "text": [
      "# ==========================================================\n",
      "# = Solver Results                                         =\n",
      "# ==========================================================\n",
      "# ----------------------------------------------------------\n",
      "#   Problem Information\n",
      "# ----------------------------------------------------------\n",
      "Problem: \n",
      "- Name: x11533_copy\n",
      "  Lower bound: 27230097548.75783\n",
      "  Upper bound: 27230097548.75783\n",
      "  Number of objectives: 1\n",
      "  Number of constraints: 23812\n",
      "  Number of variables: 11533\n",
      "  Number of binary variables: 0\n",
      "  Number of integer variables: 0\n",
      "  Number of continuous variables: 11533\n",
      "  Number of nonzeros: 49845\n",
      "  Sense: minimize\n",
      "# ----------------------------------------------------------\n",
      "#   Solver Information\n",
      "# ----------------------------------------------------------\n",
      "Solver: \n",
      "- Status: ok\n",
      "  Return code: 0\n",
      "  Message: Model was solved to optimality (subject to tolerances), and an optimal solution is available.\n",
      "  Termination condition: optimal\n",
      "  Termination message: Model was solved to optimality (subject to tolerances), and an optimal solution is available.\n",
      "  Wall time: 0.3905963897705078\n",
      "  Error rc: 0\n",
      "  Time: 0.8280544281005859\n",
      "# ----------------------------------------------------------\n",
      "#   Solution Information\n",
      "# ----------------------------------------------------------\n",
      "Solution: \n",
      "- number of solutions: 0\n",
      "  number of solutions displayed: 0\n"
     ]
    },
    {
     "name": "stderr",
     "output_type": "stream",
     "text": [
      "INFO:pypsa.opf:Solving model using gurobi\n"
     ]
    },
    {
     "name": "stdout",
     "output_type": "stream",
     "text": [
      "27643547102.18967\n",
      " wind constraint\n",
      "generator_p_nom[wind 0] + generator_p_nom[wind 1] + generator_p_nom[wind 2]  ==  315107.3080873748\n",
      " solar constraint\n",
      "generator_p_nom[solar 0] + generator_p_nom[solar 1] + generator_p_nom[solar 2]  ==  46933.20598131314\n"
     ]
    },
    {
     "name": "stderr",
     "output_type": "stream",
     "text": [
      "WARNING:pyomo.core:Loading a SolverResults object with a warning status into model=Linear Optimal Power Flow;\n",
      "    message from solver=Problem proven to be infeasible or unbounded.\n",
      "ERROR:pypsa.opf:Optimisation failed with status warning and terminal condition infeasibleOrUnbounded\n",
      "INFO:pypsa.opf:Building pyomo model using `angles` formulation\n",
      "WARNING:pypsa.opf:The following generators have both investment optimisation and unit commitment:\n",
      "Index(['gas 0', 'gas 1', 'gas 2', 'wind 0', 'wind 1', 'wind 2', 'solar 0',\n",
      "       'solar 1', 'solar 2'],\n",
      "      dtype='object', name='name')\n",
      "Currently PyPSA cannot do both these functions, so PyPSA is choosing investment optimisation for these generators.\n"
     ]
    },
    {
     "name": "stdout",
     "output_type": "stream",
     "text": [
      "WARNING: Loading a SolverResults object with a warning status into\n",
      "    model=Linear Optimal Power Flow;\n",
      "        message from solver=Problem proven to be infeasible or unbounded.\n",
      "# ==========================================================\n",
      "# = Solver Results                                         =\n",
      "# ==========================================================\n",
      "# ----------------------------------------------------------\n",
      "#   Problem Information\n",
      "# ----------------------------------------------------------\n",
      "Problem: \n",
      "- Name: x11533\n",
      "  Lower bound: -inf\n",
      "  Upper bound: inf\n",
      "  Number of objectives: 1\n",
      "  Number of constraints: 23812\n",
      "  Number of variables: 11533\n",
      "  Number of binary variables: 0\n",
      "  Number of integer variables: 0\n",
      "  Number of continuous variables: 11533\n",
      "  Number of nonzeros: 49845\n",
      "  Sense: minimize\n",
      "# ----------------------------------------------------------\n",
      "#   Solver Information\n",
      "# ----------------------------------------------------------\n",
      "Solver: \n",
      "- Status: warning\n",
      "  Return code: 0\n",
      "  Message: Problem proven to be infeasible or unbounded.\n",
      "  Termination condition: infeasibleOrUnbounded\n",
      "  Termination message: Problem proven to be infeasible or unbounded.\n",
      "  Wall time: 0.32808876037597656\n",
      "  Error rc: 0\n",
      "  Time: 0.6405539512634277\n"
     ]
    },
    {
     "name": "stderr",
     "output_type": "stream",
     "text": [
      "INFO:pypsa.opf:Solving model using gurobi\n"
     ]
    },
    {
     "name": "stdout",
     "output_type": "stream",
     "text": [
      "27643547102.18967\n",
      " wind constraint\n",
      "generator_p_nom[wind 0] + generator_p_nom[wind 1] + generator_p_nom[wind 2]  ==  315107.3080873748\n",
      " solar constraint\n",
      "generator_p_nom[solar 0] + generator_p_nom[solar 1] + generator_p_nom[solar 2]  ==  40228.462269696975\n"
     ]
    },
    {
     "name": "stderr",
     "output_type": "stream",
     "text": [
      "WARNING:pyomo.core:Loading a SolverResults object with a warning status into model=Linear Optimal Power Flow;\n",
      "    message from solver=Problem proven to be infeasible or unbounded.\n",
      "ERROR:pypsa.opf:Optimisation failed with status warning and terminal condition infeasibleOrUnbounded\n",
      "INFO:pypsa.opf:Building pyomo model using `angles` formulation\n",
      "WARNING:pypsa.opf:The following generators have both investment optimisation and unit commitment:\n",
      "Index(['gas 0', 'gas 1', 'gas 2', 'wind 0', 'wind 1', 'wind 2', 'solar 0',\n",
      "       'solar 1', 'solar 2'],\n",
      "      dtype='object', name='name')\n",
      "Currently PyPSA cannot do both these functions, so PyPSA is choosing investment optimisation for these generators.\n"
     ]
    },
    {
     "name": "stdout",
     "output_type": "stream",
     "text": [
      "WARNING: Loading a SolverResults object with a warning status into\n",
      "    model=Linear Optimal Power Flow;\n",
      "        message from solver=Problem proven to be infeasible or unbounded.\n",
      "# ==========================================================\n",
      "# = Solver Results                                         =\n",
      "# ==========================================================\n",
      "# ----------------------------------------------------------\n",
      "#   Problem Information\n",
      "# ----------------------------------------------------------\n",
      "Problem: \n",
      "- Name: x11533\n",
      "  Lower bound: -inf\n",
      "  Upper bound: inf\n",
      "  Number of objectives: 1\n",
      "  Number of constraints: 23812\n",
      "  Number of variables: 11533\n",
      "  Number of binary variables: 0\n",
      "  Number of integer variables: 0\n",
      "  Number of continuous variables: 11533\n",
      "  Number of nonzeros: 49845\n",
      "  Sense: minimize\n",
      "# ----------------------------------------------------------\n",
      "#   Solver Information\n",
      "# ----------------------------------------------------------\n",
      "Solver: \n",
      "- Status: warning\n",
      "  Return code: 0\n",
      "  Message: Problem proven to be infeasible or unbounded.\n",
      "  Termination condition: infeasibleOrUnbounded\n",
      "  Termination message: Problem proven to be infeasible or unbounded.\n",
      "  Wall time: 0.34372520446777344\n",
      "  Error rc: 0\n",
      "  Time: 0.6405739784240723\n"
     ]
    },
    {
     "name": "stderr",
     "output_type": "stream",
     "text": [
      "INFO:pypsa.opf:Solving model using gurobi\n"
     ]
    },
    {
     "name": "stdout",
     "output_type": "stream",
     "text": [
      "27643547102.18967\n",
      " wind constraint\n",
      "generator_p_nom[wind 0] + generator_p_nom[wind 1] + generator_p_nom[wind 2]  ==  315107.3080873748\n",
      " solar constraint\n",
      "generator_p_nom[solar 0] + generator_p_nom[solar 1] + generator_p_nom[solar 2]  ==  53637.9496929293\n"
     ]
    },
    {
     "name": "stderr",
     "output_type": "stream",
     "text": [
      "WARNING:pyomo.core:Loading a SolverResults object with a warning status into model=Linear Optimal Power Flow;\n",
      "    message from solver=Problem proven to be infeasible or unbounded.\n",
      "ERROR:pypsa.opf:Optimisation failed with status warning and terminal condition infeasibleOrUnbounded\n",
      "INFO:pypsa.opf:Building pyomo model using `angles` formulation\n",
      "WARNING:pypsa.opf:The following generators have both investment optimisation and unit commitment:\n",
      "Index(['gas 0', 'gas 1', 'gas 2', 'wind 0', 'wind 1', 'wind 2', 'solar 0',\n",
      "       'solar 1', 'solar 2'],\n",
      "      dtype='object', name='name')\n",
      "Currently PyPSA cannot do both these functions, so PyPSA is choosing investment optimisation for these generators.\n"
     ]
    },
    {
     "name": "stdout",
     "output_type": "stream",
     "text": [
      "WARNING: Loading a SolverResults object with a warning status into\n",
      "    model=Linear Optimal Power Flow;\n",
      "        message from solver=Problem proven to be infeasible or unbounded.\n",
      "# ==========================================================\n",
      "# = Solver Results                                         =\n",
      "# ==========================================================\n",
      "# ----------------------------------------------------------\n",
      "#   Problem Information\n",
      "# ----------------------------------------------------------\n",
      "Problem: \n",
      "- Name: x11533\n",
      "  Lower bound: -inf\n",
      "  Upper bound: inf\n",
      "  Number of objectives: 1\n",
      "  Number of constraints: 23812\n",
      "  Number of variables: 11533\n",
      "  Number of binary variables: 0\n",
      "  Number of integer variables: 0\n",
      "  Number of continuous variables: 11533\n",
      "  Number of nonzeros: 49845\n",
      "  Sense: minimize\n",
      "# ----------------------------------------------------------\n",
      "#   Solver Information\n",
      "# ----------------------------------------------------------\n",
      "Solver: \n",
      "- Status: warning\n",
      "  Return code: 0\n",
      "  Message: Problem proven to be infeasible or unbounded.\n",
      "  Termination condition: infeasibleOrUnbounded\n",
      "  Termination message: Problem proven to be infeasible or unbounded.\n",
      "  Wall time: 0.406219482421875\n",
      "  Error rc: 0\n",
      "  Time: 0.7499403953552246\n"
     ]
    },
    {
     "name": "stderr",
     "output_type": "stream",
     "text": [
      "INFO:pypsa.opf:Solving model using gurobi\n"
     ]
    },
    {
     "name": "stdout",
     "output_type": "stream",
     "text": [
      "27643547102.18967\n",
      " wind constraint\n",
      "generator_p_nom[wind 0] + generator_p_nom[wind 1] + generator_p_nom[wind 2]  ==  315107.3080873748\n",
      " solar constraint\n",
      "generator_p_nom[solar 0] + generator_p_nom[solar 1] + generator_p_nom[solar 2]  ==  60342.69340454546\n"
     ]
    },
    {
     "name": "stderr",
     "output_type": "stream",
     "text": [
      "WARNING:pyomo.core:Loading a SolverResults object with a warning status into model=Linear Optimal Power Flow;\n",
      "    message from solver=Problem proven to be infeasible or unbounded.\n",
      "ERROR:pypsa.opf:Optimisation failed with status warning and terminal condition infeasibleOrUnbounded\n",
      "INFO:pypsa.opf:Building pyomo model using `angles` formulation\n",
      "WARNING:pypsa.opf:The following generators have both investment optimisation and unit commitment:\n",
      "Index(['gas 0', 'gas 1', 'gas 2', 'wind 0', 'wind 1', 'wind 2', 'solar 0',\n",
      "       'solar 1', 'solar 2'],\n",
      "      dtype='object', name='name')\n",
      "Currently PyPSA cannot do both these functions, so PyPSA is choosing investment optimisation for these generators.\n"
     ]
    },
    {
     "name": "stdout",
     "output_type": "stream",
     "text": [
      "WARNING: Loading a SolverResults object with a warning status into\n",
      "    model=Linear Optimal Power Flow;\n",
      "        message from solver=Problem proven to be infeasible or unbounded.\n",
      "# ==========================================================\n",
      "# = Solver Results                                         =\n",
      "# ==========================================================\n",
      "# ----------------------------------------------------------\n",
      "#   Problem Information\n",
      "# ----------------------------------------------------------\n",
      "Problem: \n",
      "- Name: x11533\n",
      "  Lower bound: -inf\n",
      "  Upper bound: inf\n",
      "  Number of objectives: 1\n",
      "  Number of constraints: 23812\n",
      "  Number of variables: 11533\n",
      "  Number of binary variables: 0\n",
      "  Number of integer variables: 0\n",
      "  Number of continuous variables: 11533\n",
      "  Number of nonzeros: 49845\n",
      "  Sense: minimize\n",
      "# ----------------------------------------------------------\n",
      "#   Solver Information\n",
      "# ----------------------------------------------------------\n",
      "Solver: \n",
      "- Status: warning\n",
      "  Return code: 0\n",
      "  Message: Problem proven to be infeasible or unbounded.\n",
      "  Termination condition: infeasibleOrUnbounded\n",
      "  Termination message: Problem proven to be infeasible or unbounded.\n",
      "  Wall time: 0.2187328338623047\n",
      "  Error rc: 0\n",
      "  Time: 0.5155889987945557\n"
     ]
    },
    {
     "name": "stderr",
     "output_type": "stream",
     "text": [
      "INFO:pypsa.opf:Solving model using gurobi\n"
     ]
    },
    {
     "name": "stdout",
     "output_type": "stream",
     "text": [
      "27643547102.18967\n",
      " wind constraint\n",
      "generator_p_nom[wind 0] + generator_p_nom[wind 1] + generator_p_nom[wind 2]  ==  315107.3080873748\n",
      " solar constraint\n",
      "generator_p_nom[solar 0] + generator_p_nom[solar 1] + generator_p_nom[solar 2]  ==  67047.43711616163\n"
     ]
    },
    {
     "name": "stderr",
     "output_type": "stream",
     "text": [
      "WARNING:pyomo.core:Loading a SolverResults object with a warning status into model=Linear Optimal Power Flow;\n",
      "    message from solver=Problem proven to be infeasible or unbounded.\n",
      "ERROR:pypsa.opf:Optimisation failed with status warning and terminal condition infeasibleOrUnbounded\n",
      "INFO:pypsa.opf:Building pyomo model using `angles` formulation\n",
      "WARNING:pypsa.opf:The following generators have both investment optimisation and unit commitment:\n",
      "Index(['gas 0', 'gas 1', 'gas 2', 'wind 0', 'wind 1', 'wind 2', 'solar 0',\n",
      "       'solar 1', 'solar 2'],\n",
      "      dtype='object', name='name')\n",
      "Currently PyPSA cannot do both these functions, so PyPSA is choosing investment optimisation for these generators.\n"
     ]
    },
    {
     "name": "stdout",
     "output_type": "stream",
     "text": [
      "WARNING: Loading a SolverResults object with a warning status into\n",
      "    model=Linear Optimal Power Flow;\n",
      "        message from solver=Problem proven to be infeasible or unbounded.\n",
      "# ==========================================================\n",
      "# = Solver Results                                         =\n",
      "# ==========================================================\n",
      "# ----------------------------------------------------------\n",
      "#   Problem Information\n",
      "# ----------------------------------------------------------\n",
      "Problem: \n",
      "- Name: x11533\n",
      "  Lower bound: -inf\n",
      "  Upper bound: inf\n",
      "  Number of objectives: 1\n",
      "  Number of constraints: 23812\n",
      "  Number of variables: 11533\n",
      "  Number of binary variables: 0\n",
      "  Number of integer variables: 0\n",
      "  Number of continuous variables: 11533\n",
      "  Number of nonzeros: 49845\n",
      "  Sense: minimize\n",
      "# ----------------------------------------------------------\n",
      "#   Solver Information\n",
      "# ----------------------------------------------------------\n",
      "Solver: \n",
      "- Status: warning\n",
      "  Return code: 0\n",
      "  Message: Problem proven to be infeasible or unbounded.\n",
      "  Termination condition: infeasibleOrUnbounded\n",
      "  Termination message: Problem proven to be infeasible or unbounded.\n",
      "  Wall time: 0.24996376037597656\n",
      "  Error rc: 0\n",
      "  Time: 0.5624580383300781\n"
     ]
    },
    {
     "name": "stderr",
     "output_type": "stream",
     "text": [
      "INFO:pypsa.opf:Solving model using gurobi\n"
     ]
    },
    {
     "name": "stdout",
     "output_type": "stream",
     "text": [
      "27643547102.18967\n",
      " wind constraint\n",
      "generator_p_nom[wind 0] + generator_p_nom[wind 1] + generator_p_nom[wind 2]  ==  315107.3080873748\n",
      " solar constraint\n",
      "generator_p_nom[solar 0] + generator_p_nom[solar 1] + generator_p_nom[solar 2]  ==  33523.718558080815\n"
     ]
    },
    {
     "name": "stderr",
     "output_type": "stream",
     "text": [
      "INFO:pypsa.opf:Optimization successful\n"
     ]
    },
    {
     "name": "stdout",
     "output_type": "stream",
     "text": [
      "# ==========================================================\n",
      "# = Solver Results                                         =\n",
      "# ==========================================================\n",
      "# ----------------------------------------------------------\n",
      "#   Problem Information\n",
      "# ----------------------------------------------------------\n",
      "Problem: \n",
      "- Name: x11533_copy\n",
      "  Lower bound: 27444763540.21535\n",
      "  Upper bound: 27444763540.21535\n",
      "  Number of objectives: 1\n",
      "  Number of constraints: 23812\n",
      "  Number of variables: 11533\n",
      "  Number of binary variables: 0\n",
      "  Number of integer variables: 0\n",
      "  Number of continuous variables: 11533\n",
      "  Number of nonzeros: 49845\n",
      "  Sense: minimize\n",
      "# ----------------------------------------------------------\n",
      "#   Solver Information\n",
      "# ----------------------------------------------------------\n",
      "Solver: \n",
      "- Status: ok\n",
      "  Return code: 0\n",
      "  Message: Model was solved to optimality (subject to tolerances), and an optimal solution is available.\n",
      "  Termination condition: optimal\n",
      "  Termination message: Model was solved to optimality (subject to tolerances), and an optimal solution is available.\n",
      "  Wall time: 0.4218425750732422\n",
      "  Error rc: 0\n",
      "  Time: 0.8749136924743652\n",
      "# ----------------------------------------------------------\n",
      "#   Solution Information\n",
      "# ----------------------------------------------------------\n",
      "Solution: \n",
      "- number of solutions: 0\n",
      "  number of solutions displayed: 0\n"
     ]
    },
    {
     "name": "stderr",
     "output_type": "stream",
     "text": [
      "INFO:pypsa.opf:Building pyomo model using `angles` formulation\n",
      "WARNING:pypsa.opf:The following generators have both investment optimisation and unit commitment:\n",
      "Index(['gas 0', 'gas 1', 'gas 2', 'wind 0', 'wind 1', 'wind 2', 'solar 0',\n",
      "       'solar 1', 'solar 2'],\n",
      "      dtype='object', name='name')\n",
      "Currently PyPSA cannot do both these functions, so PyPSA is choosing investment optimisation for these generators.\n",
      "INFO:pypsa.opf:Solving model using gurobi\n"
     ]
    },
    {
     "name": "stdout",
     "output_type": "stream",
     "text": [
      "27643547102.18967\n",
      " wind constraint\n",
      "generator_p_nom[wind 0] + generator_p_nom[wind 1] + generator_p_nom[wind 2]  ==  315107.3080873748\n",
      " solar constraint\n",
      "generator_p_nom[solar 0] + generator_p_nom[solar 1] + generator_p_nom[solar 2]  ==  20114.231134848487\n"
     ]
    },
    {
     "name": "stderr",
     "output_type": "stream",
     "text": [
      "INFO:pypsa.opf:Optimization successful\n",
      "INFO:pypsa.opf:Building pyomo model using `angles` formulation\n",
      "WARNING:pypsa.opf:The following generators have both investment optimisation and unit commitment:\n",
      "Index(['gas 0', 'gas 1', 'gas 2', 'wind 0', 'wind 1', 'wind 2', 'solar 0',\n",
      "       'solar 1', 'solar 2'],\n",
      "      dtype='object', name='name')\n",
      "Currently PyPSA cannot do both these functions, so PyPSA is choosing investment optimisation for these generators.\n"
     ]
    },
    {
     "name": "stdout",
     "output_type": "stream",
     "text": [
      "# ==========================================================\n",
      "# = Solver Results                                         =\n",
      "# ==========================================================\n",
      "# ----------------------------------------------------------\n",
      "#   Problem Information\n",
      "# ----------------------------------------------------------\n",
      "Problem: \n",
      "- Name: x11533_copy\n",
      "  Lower bound: 26941934783.93875\n",
      "  Upper bound: 26941934783.93875\n",
      "  Number of objectives: 1\n",
      "  Number of constraints: 23812\n",
      "  Number of variables: 11533\n",
      "  Number of binary variables: 0\n",
      "  Number of integer variables: 0\n",
      "  Number of continuous variables: 11533\n",
      "  Number of nonzeros: 49845\n",
      "  Sense: minimize\n",
      "# ----------------------------------------------------------\n",
      "#   Solver Information\n",
      "# ----------------------------------------------------------\n",
      "Solver: \n",
      "- Status: ok\n",
      "  Return code: 0\n",
      "  Message: Model was solved to optimality (subject to tolerances), and an optimal solution is available.\n",
      "  Termination condition: optimal\n",
      "  Termination message: Model was solved to optimality (subject to tolerances), and an optimal solution is available.\n",
      "  Wall time: 0.3749561309814453\n",
      "  Error rc: 0\n",
      "  Time: 0.8436717987060547\n",
      "# ----------------------------------------------------------\n",
      "#   Solution Information\n",
      "# ----------------------------------------------------------\n",
      "Solution: \n",
      "- number of solutions: 0\n",
      "  number of solutions displayed: 0\n"
     ]
    },
    {
     "name": "stderr",
     "output_type": "stream",
     "text": [
      "INFO:pypsa.opf:Solving model using gurobi\n"
     ]
    },
    {
     "name": "stdout",
     "output_type": "stream",
     "text": [
      "27643547102.18967\n",
      " wind constraint\n",
      "generator_p_nom[wind 0] + generator_p_nom[wind 1] + generator_p_nom[wind 2]  ==  315107.3080873748\n",
      " solar constraint\n",
      "generator_p_nom[solar 0] + generator_p_nom[solar 1] + generator_p_nom[solar 2]  ==  13409.487423232325\n"
     ]
    },
    {
     "name": "stderr",
     "output_type": "stream",
     "text": [
      "INFO:pypsa.opf:Optimization successful\n",
      "INFO:pypsa.opf:Building pyomo model using `angles` formulation\n"
     ]
    },
    {
     "name": "stdout",
     "output_type": "stream",
     "text": [
      "# ==========================================================\n",
      "# = Solver Results                                         =\n",
      "# ==========================================================\n",
      "# ----------------------------------------------------------\n",
      "#   Problem Information\n",
      "# ----------------------------------------------------------\n",
      "Problem: \n",
      "- Name: x11533_copy\n",
      "  Lower bound: 26690937993.0459\n",
      "  Upper bound: 26690937993.0459\n",
      "  Number of objectives: 1\n",
      "  Number of constraints: 23812\n",
      "  Number of variables: 11533\n",
      "  Number of binary variables: 0\n",
      "  Number of integer variables: 0\n",
      "  Number of continuous variables: 11533\n",
      "  Number of nonzeros: 49845\n",
      "  Sense: minimize\n",
      "# ----------------------------------------------------------\n",
      "#   Solver Information\n",
      "# ----------------------------------------------------------\n",
      "Solver: \n",
      "- Status: ok\n",
      "  Return code: 0\n",
      "  Message: Model was solved to optimality (subject to tolerances), and an optimal solution is available.\n",
      "  Termination condition: optimal\n",
      "  Termination message: Model was solved to optimality (subject to tolerances), and an optimal solution is available.\n",
      "  Wall time: 0.4062213897705078\n",
      "  Error rc: 0\n",
      "  Time: 0.8436863422393799\n",
      "# ----------------------------------------------------------\n",
      "#   Solution Information\n",
      "# ----------------------------------------------------------\n",
      "Solution: \n",
      "- number of solutions: 0\n",
      "  number of solutions displayed: 0\n"
     ]
    },
    {
     "name": "stderr",
     "output_type": "stream",
     "text": [
      "WARNING:pypsa.opf:The following generators have both investment optimisation and unit commitment:\n",
      "Index(['gas 0', 'gas 1', 'gas 2', 'wind 0', 'wind 1', 'wind 2', 'solar 0',\n",
      "       'solar 1', 'solar 2'],\n",
      "      dtype='object', name='name')\n",
      "Currently PyPSA cannot do both these functions, so PyPSA is choosing investment optimisation for these generators.\n",
      "INFO:pypsa.opf:Solving model using gurobi\n"
     ]
    },
    {
     "name": "stdout",
     "output_type": "stream",
     "text": [
      "27643547102.18967\n",
      " wind constraint\n",
      "generator_p_nom[wind 0] + generator_p_nom[wind 1] + generator_p_nom[wind 2]  ==  315107.3080873748\n",
      " solar constraint\n",
      "generator_p_nom[solar 0] + generator_p_nom[solar 1] + generator_p_nom[solar 2]  ==  26818.97484646465\n"
     ]
    },
    {
     "name": "stderr",
     "output_type": "stream",
     "text": [
      "INFO:pypsa.opf:Optimization successful\n",
      "INFO:pypsa.opf:Building pyomo model using `angles` formulation\n",
      "WARNING:pypsa.opf:The following generators have both investment optimisation and unit commitment:\n",
      "Index(['gas 0', 'gas 1', 'gas 2', 'wind 0', 'wind 1', 'wind 2', 'solar 0',\n",
      "       'solar 1', 'solar 2'],\n",
      "      dtype='object', name='name')\n",
      "Currently PyPSA cannot do both these functions, so PyPSA is choosing investment optimisation for these generators.\n"
     ]
    },
    {
     "name": "stdout",
     "output_type": "stream",
     "text": [
      "# ==========================================================\n",
      "# = Solver Results                                         =\n",
      "# ==========================================================\n",
      "# ----------------------------------------------------------\n",
      "#   Problem Information\n",
      "# ----------------------------------------------------------\n",
      "Problem: \n",
      "- Name: x11533_copy\n",
      "  Lower bound: 27193206547.3872\n",
      "  Upper bound: 27193206547.3872\n",
      "  Number of objectives: 1\n",
      "  Number of constraints: 23812\n",
      "  Number of variables: 11533\n",
      "  Number of binary variables: 0\n",
      "  Number of integer variables: 0\n",
      "  Number of continuous variables: 11533\n",
      "  Number of nonzeros: 49845\n",
      "  Sense: minimize\n",
      "# ----------------------------------------------------------\n",
      "#   Solver Information\n",
      "# ----------------------------------------------------------\n",
      "Solver: \n",
      "- Status: ok\n",
      "  Return code: 0\n",
      "  Message: Model was solved to optimality (subject to tolerances), and an optimal solution is available.\n",
      "  Termination condition: optimal\n",
      "  Termination message: Model was solved to optimality (subject to tolerances), and an optimal solution is available.\n",
      "  Wall time: 0.4530906677246094\n",
      "  Error rc: 0\n",
      "  Time: 0.8749375343322754\n",
      "# ----------------------------------------------------------\n",
      "#   Solution Information\n",
      "# ----------------------------------------------------------\n",
      "Solution: \n",
      "- number of solutions: 0\n",
      "  number of solutions displayed: 0\n"
     ]
    },
    {
     "name": "stderr",
     "output_type": "stream",
     "text": [
      "INFO:pypsa.opf:Solving model using gurobi\n"
     ]
    },
    {
     "name": "stdout",
     "output_type": "stream",
     "text": [
      "27643547102.18967\n",
      " wind constraint\n",
      "generator_p_nom[wind 0] + generator_p_nom[wind 1] + generator_p_nom[wind 2]  ==  315107.3080873748\n",
      " solar constraint\n",
      "generator_p_nom[solar 0] + generator_p_nom[solar 1] + generator_p_nom[solar 2]  ==  6704.743711616163\n"
     ]
    },
    {
     "name": "stderr",
     "output_type": "stream",
     "text": [
      "INFO:pypsa.opf:Optimization successful\n",
      "INFO:pypsa.opf:Building pyomo model using `angles` formulation\n",
      "WARNING:pypsa.opf:The following generators have both investment optimisation and unit commitment:\n",
      "Index(['gas 0', 'gas 1', 'gas 2', 'wind 0', 'wind 1', 'wind 2', 'solar 0',\n",
      "       'solar 1', 'solar 2'],\n",
      "      dtype='object', name='name')\n",
      "Currently PyPSA cannot do both these functions, so PyPSA is choosing investment optimisation for these generators.\n"
     ]
    },
    {
     "name": "stdout",
     "output_type": "stream",
     "text": [
      "# ==========================================================\n",
      "# = Solver Results                                         =\n",
      "# ==========================================================\n",
      "# ----------------------------------------------------------\n",
      "#   Problem Information\n",
      "# ----------------------------------------------------------\n",
      "Problem: \n",
      "- Name: x11533_copy\n",
      "  Lower bound: 26440277786.61505\n",
      "  Upper bound: 26440277786.61505\n",
      "  Number of objectives: 1\n",
      "  Number of constraints: 23812\n",
      "  Number of variables: 11533\n",
      "  Number of binary variables: 0\n",
      "  Number of integer variables: 0\n",
      "  Number of continuous variables: 11533\n",
      "  Number of nonzeros: 49845\n",
      "  Sense: minimize\n",
      "# ----------------------------------------------------------\n",
      "#   Solver Information\n",
      "# ----------------------------------------------------------\n",
      "Solver: \n",
      "- Status: ok\n",
      "  Return code: 0\n",
      "  Message: Model was solved to optimality (subject to tolerances), and an optimal solution is available.\n",
      "  Termination condition: optimal\n",
      "  Termination message: Model was solved to optimality (subject to tolerances), and an optimal solution is available.\n",
      "  Wall time: 0.49996185302734375\n",
      "  Error rc: 0\n",
      "  Time: 0.9842956066131592\n",
      "# ----------------------------------------------------------\n",
      "#   Solution Information\n",
      "# ----------------------------------------------------------\n",
      "Solution: \n",
      "- number of solutions: 0\n",
      "  number of solutions displayed: 0\n"
     ]
    },
    {
     "name": "stderr",
     "output_type": "stream",
     "text": [
      "INFO:pypsa.opf:Solving model using gurobi\n"
     ]
    },
    {
     "name": "stdout",
     "output_type": "stream",
     "text": [
      "27643547102.18967\n",
      " wind constraint\n",
      "generator_p_nom[wind 0] + generator_p_nom[wind 1] + generator_p_nom[wind 2]  ==  315107.3080873748\n"
     ]
    },
    {
     "name": "stderr",
     "output_type": "stream",
     "text": [
      "INFO:pypsa.opf:Optimization successful\n",
      "INFO:pypsa.opf:Building pyomo model using `angles` formulation\n",
      "WARNING:pypsa.opf:The following generators have both investment optimisation and unit commitment:\n",
      "Index(['gas 0', 'gas 1', 'gas 2', 'wind 0', 'wind 1', 'wind 2', 'solar 0',\n",
      "       'solar 1', 'solar 2'],\n",
      "      dtype='object', name='name')\n",
      "Currently PyPSA cannot do both these functions, so PyPSA is choosing investment optimisation for these generators.\n"
     ]
    },
    {
     "name": "stdout",
     "output_type": "stream",
     "text": [
      "# ==========================================================\n",
      "# = Solver Results                                         =\n",
      "# ==========================================================\n",
      "# ----------------------------------------------------------\n",
      "#   Problem Information\n",
      "# ----------------------------------------------------------\n",
      "Problem: \n",
      "- Name: x11533_copy\n",
      "  Lower bound: 26190658993.608425\n",
      "  Upper bound: 26190658993.608425\n",
      "  Number of objectives: 1\n",
      "  Number of constraints: 23811\n",
      "  Number of variables: 11533\n",
      "  Number of binary variables: 0\n",
      "  Number of integer variables: 0\n",
      "  Number of continuous variables: 11533\n",
      "  Number of nonzeros: 49842\n",
      "  Sense: minimize\n",
      "# ----------------------------------------------------------\n",
      "#   Solver Information\n",
      "# ----------------------------------------------------------\n",
      "Solver: \n",
      "- Status: ok\n",
      "  Return code: 0\n",
      "  Message: Model was solved to optimality (subject to tolerances), and an optimal solution is available.\n",
      "  Termination condition: optimal\n",
      "  Termination message: Model was solved to optimality (subject to tolerances), and an optimal solution is available.\n",
      "  Wall time: 0.4374675750732422\n",
      "  Error rc: 0\n",
      "  Time: 0.9062008857727051\n",
      "# ----------------------------------------------------------\n",
      "#   Solution Information\n",
      "# ----------------------------------------------------------\n",
      "Solution: \n",
      "- number of solutions: 0\n",
      "  number of solutions displayed: 0\n"
     ]
    },
    {
     "name": "stderr",
     "output_type": "stream",
     "text": [
      "INFO:pypsa.opf:Solving model using gurobi\n"
     ]
    },
    {
     "name": "stdout",
     "output_type": "stream",
     "text": [
      "27643547102.18967\n",
      " wind constraint\n",
      "generator_p_nom[wind 0] + generator_p_nom[wind 1] + generator_p_nom[wind 2]  ==  310823.9289707571\n",
      " solar constraint\n",
      "generator_p_nom[solar 0] + generator_p_nom[solar 1] + generator_p_nom[solar 2]  ==  33523.718558080815\n"
     ]
    },
    {
     "name": "stderr",
     "output_type": "stream",
     "text": [
      "INFO:pypsa.opf:Optimization successful\n",
      "INFO:pypsa.opf:Building pyomo model using `angles` formulation\n",
      "WARNING:pypsa.opf:The following generators have both investment optimisation and unit commitment:\n",
      "Index(['gas 0', 'gas 1', 'gas 2', 'wind 0', 'wind 1', 'wind 2', 'solar 0',\n",
      "       'solar 1', 'solar 2'],\n",
      "      dtype='object', name='name')\n",
      "Currently PyPSA cannot do both these functions, so PyPSA is choosing investment optimisation for these generators.\n"
     ]
    },
    {
     "name": "stdout",
     "output_type": "stream",
     "text": [
      "# ==========================================================\n",
      "# = Solver Results                                         =\n",
      "# ==========================================================\n",
      "# ----------------------------------------------------------\n",
      "#   Problem Information\n",
      "# ----------------------------------------------------------\n",
      "Problem: \n",
      "- Name: x11533_copy\n",
      "  Lower bound: 27156720527.20715\n",
      "  Upper bound: 27156720527.20715\n",
      "  Number of objectives: 1\n",
      "  Number of constraints: 23812\n",
      "  Number of variables: 11533\n",
      "  Number of binary variables: 0\n",
      "  Number of integer variables: 0\n",
      "  Number of continuous variables: 11533\n",
      "  Number of nonzeros: 49845\n",
      "  Sense: minimize\n",
      "# ----------------------------------------------------------\n",
      "#   Solver Information\n",
      "# ----------------------------------------------------------\n",
      "Solver: \n",
      "- Status: ok\n",
      "  Return code: 0\n",
      "  Message: Model was solved to optimality (subject to tolerances), and an optimal solution is available.\n",
      "  Termination condition: optimal\n",
      "  Termination message: Model was solved to optimality (subject to tolerances), and an optimal solution is available.\n",
      "  Wall time: 0.3437042236328125\n",
      "  Error rc: 0\n",
      "  Time: 0.7811923027038574\n",
      "# ----------------------------------------------------------\n",
      "#   Solution Information\n",
      "# ----------------------------------------------------------\n",
      "Solution: \n",
      "- number of solutions: 0\n",
      "  number of solutions displayed: 0\n"
     ]
    },
    {
     "name": "stderr",
     "output_type": "stream",
     "text": [
      "INFO:pypsa.opf:Solving model using gurobi\n"
     ]
    },
    {
     "name": "stdout",
     "output_type": "stream",
     "text": [
      "27643547102.18967\n",
      " wind constraint\n",
      "generator_p_nom[wind 0] + generator_p_nom[wind 1] + generator_p_nom[wind 2]  ==  310823.9289707571\n",
      " solar constraint\n",
      "generator_p_nom[solar 0] + generator_p_nom[solar 1] + generator_p_nom[solar 2]  ==  13409.487423232325\n"
     ]
    },
    {
     "name": "stderr",
     "output_type": "stream",
     "text": [
      "INFO:pypsa.opf:Optimization successful\n",
      "INFO:pypsa.opf:Building pyomo model using `angles` formulation\n",
      "WARNING:pypsa.opf:The following generators have both investment optimisation and unit commitment:\n",
      "Index(['gas 0', 'gas 1', 'gas 2', 'wind 0', 'wind 1', 'wind 2', 'solar 0',\n",
      "       'solar 1', 'solar 2'],\n",
      "      dtype='object', name='name')\n",
      "Currently PyPSA cannot do both these functions, so PyPSA is choosing investment optimisation for these generators.\n"
     ]
    },
    {
     "name": "stdout",
     "output_type": "stream",
     "text": [
      "# ==========================================================\n",
      "# = Solver Results                                         =\n",
      "# ==========================================================\n",
      "# ----------------------------------------------------------\n",
      "#   Problem Information\n",
      "# ----------------------------------------------------------\n",
      "Problem: \n",
      "- Name: x11533_copy\n",
      "  Lower bound: 26402971692.736977\n",
      "  Upper bound: 26402971692.736977\n",
      "  Number of objectives: 1\n",
      "  Number of constraints: 23812\n",
      "  Number of variables: 11533\n",
      "  Number of binary variables: 0\n",
      "  Number of integer variables: 0\n",
      "  Number of continuous variables: 11533\n",
      "  Number of nonzeros: 49845\n",
      "  Sense: minimize\n",
      "# ----------------------------------------------------------\n",
      "#   Solver Information\n",
      "# ----------------------------------------------------------\n",
      "Solver: \n",
      "- Status: ok\n",
      "  Return code: 0\n",
      "  Message: Model was solved to optimality (subject to tolerances), and an optimal solution is available.\n",
      "  Termination condition: optimal\n",
      "  Termination message: Model was solved to optimality (subject to tolerances), and an optimal solution is available.\n",
      "  Wall time: 0.40622901916503906\n",
      "  Error rc: 0\n",
      "  Time: 0.8436691761016846\n",
      "# ----------------------------------------------------------\n",
      "#   Solution Information\n",
      "# ----------------------------------------------------------\n",
      "Solution: \n",
      "- number of solutions: 0\n",
      "  number of solutions displayed: 0\n"
     ]
    },
    {
     "name": "stderr",
     "output_type": "stream",
     "text": [
      "INFO:pypsa.opf:Solving model using gurobi\n"
     ]
    },
    {
     "name": "stdout",
     "output_type": "stream",
     "text": [
      "27643547102.18967\n",
      " wind constraint\n",
      "generator_p_nom[wind 0] + generator_p_nom[wind 1] + generator_p_nom[wind 2]  ==  310823.9289707571\n",
      " solar constraint\n",
      "generator_p_nom[solar 0] + generator_p_nom[solar 1] + generator_p_nom[solar 2]  ==  20114.231134848487\n"
     ]
    },
    {
     "name": "stderr",
     "output_type": "stream",
     "text": [
      "INFO:pypsa.opf:Optimization successful\n"
     ]
    },
    {
     "name": "stdout",
     "output_type": "stream",
     "text": [
      "# ==========================================================\n",
      "# = Solver Results                                         =\n",
      "# ==========================================================\n",
      "# ----------------------------------------------------------\n",
      "#   Problem Information\n",
      "# ----------------------------------------------------------\n",
      "Problem: \n",
      "- Name: x11533_copy\n",
      "  Lower bound: 26653934192.039116\n",
      "  Upper bound: 26653934192.039116\n",
      "  Number of objectives: 1\n",
      "  Number of constraints: 23812\n",
      "  Number of variables: 11533\n",
      "  Number of binary variables: 0\n",
      "  Number of integer variables: 0\n",
      "  Number of continuous variables: 11533\n",
      "  Number of nonzeros: 49845\n",
      "  Sense: minimize\n",
      "# ----------------------------------------------------------\n",
      "#   Solver Information\n",
      "# ----------------------------------------------------------\n",
      "Solver: \n",
      "- Status: ok\n",
      "  Return code: 0\n",
      "  Message: Model was solved to optimality (subject to tolerances), and an optimal solution is available.\n",
      "  Termination condition: optimal\n",
      "  Termination message: Model was solved to optimality (subject to tolerances), and an optimal solution is available.\n",
      "  Wall time: 0.3905982971191406\n",
      "  Error rc: 0\n",
      "  Time: 0.8124217987060547\n",
      "# ----------------------------------------------------------\n",
      "#   Solution Information\n",
      "# ----------------------------------------------------------\n",
      "Solution: \n",
      "- number of solutions: 0\n",
      "  number of solutions displayed: 0\n"
     ]
    },
    {
     "name": "stderr",
     "output_type": "stream",
     "text": [
      "INFO:pypsa.opf:Building pyomo model using `angles` formulation\n",
      "WARNING:pypsa.opf:The following generators have both investment optimisation and unit commitment:\n",
      "Index(['gas 0', 'gas 1', 'gas 2', 'wind 0', 'wind 1', 'wind 2', 'solar 0',\n",
      "       'solar 1', 'solar 2'],\n",
      "      dtype='object', name='name')\n",
      "Currently PyPSA cannot do both these functions, so PyPSA is choosing investment optimisation for these generators.\n",
      "INFO:pypsa.opf:Solving model using gurobi\n"
     ]
    },
    {
     "name": "stdout",
     "output_type": "stream",
     "text": [
      "27643547102.18967\n",
      " wind constraint\n",
      "generator_p_nom[wind 0] + generator_p_nom[wind 1] + generator_p_nom[wind 2]  ==  310823.9289707571\n",
      " solar constraint\n",
      "generator_p_nom[solar 0] + generator_p_nom[solar 1] + generator_p_nom[solar 2]  ==  46933.20598131314\n"
     ]
    },
    {
     "name": "stderr",
     "output_type": "stream",
     "text": [
      "WARNING:pyomo.core:Loading a SolverResults object with a warning status into model=Linear Optimal Power Flow;\n",
      "    message from solver=Problem proven to be infeasible or unbounded.\n",
      "ERROR:pypsa.opf:Optimisation failed with status warning and terminal condition infeasibleOrUnbounded\n",
      "INFO:pypsa.opf:Building pyomo model using `angles` formulation\n",
      "WARNING:pypsa.opf:The following generators have both investment optimisation and unit commitment:\n",
      "Index(['gas 0', 'gas 1', 'gas 2', 'wind 0', 'wind 1', 'wind 2', 'solar 0',\n",
      "       'solar 1', 'solar 2'],\n",
      "      dtype='object', name='name')\n",
      "Currently PyPSA cannot do both these functions, so PyPSA is choosing investment optimisation for these generators.\n"
     ]
    },
    {
     "name": "stdout",
     "output_type": "stream",
     "text": [
      "WARNING: Loading a SolverResults object with a warning status into\n",
      "    model=Linear Optimal Power Flow;\n",
      "        message from solver=Problem proven to be infeasible or unbounded.\n",
      "# ==========================================================\n",
      "# = Solver Results                                         =\n",
      "# ==========================================================\n",
      "# ----------------------------------------------------------\n",
      "#   Problem Information\n",
      "# ----------------------------------------------------------\n",
      "Problem: \n",
      "- Name: x11533\n",
      "  Lower bound: -inf\n",
      "  Upper bound: inf\n",
      "  Number of objectives: 1\n",
      "  Number of constraints: 23812\n",
      "  Number of variables: 11533\n",
      "  Number of binary variables: 0\n",
      "  Number of integer variables: 0\n",
      "  Number of continuous variables: 11533\n",
      "  Number of nonzeros: 49845\n",
      "  Sense: minimize\n",
      "# ----------------------------------------------------------\n",
      "#   Solver Information\n",
      "# ----------------------------------------------------------\n",
      "Solver: \n",
      "- Status: warning\n",
      "  Return code: 0\n",
      "  Message: Problem proven to be infeasible or unbounded.\n",
      "  Termination condition: infeasibleOrUnbounded\n",
      "  Termination message: Problem proven to be infeasible or unbounded.\n",
      "  Wall time: 0.4374675750732422\n",
      "  Error rc: 0\n",
      "  Time: 0.7343013286590576\n"
     ]
    },
    {
     "name": "stderr",
     "output_type": "stream",
     "text": [
      "INFO:pypsa.opf:Solving model using gurobi\n"
     ]
    },
    {
     "name": "stdout",
     "output_type": "stream",
     "text": [
      "27643547102.18967\n",
      " wind constraint\n",
      "generator_p_nom[wind 0] + generator_p_nom[wind 1] + generator_p_nom[wind 2]  ==  310823.9289707571\n",
      " solar constraint\n",
      "generator_p_nom[solar 0] + generator_p_nom[solar 1] + generator_p_nom[solar 2]  ==  60342.69340454546\n"
     ]
    },
    {
     "name": "stderr",
     "output_type": "stream",
     "text": [
      "WARNING:pyomo.core:Loading a SolverResults object with a warning status into model=Linear Optimal Power Flow;\n",
      "    message from solver=Problem proven to be infeasible or unbounded.\n",
      "ERROR:pypsa.opf:Optimisation failed with status warning and terminal condition infeasibleOrUnbounded\n",
      "INFO:pypsa.opf:Building pyomo model using `angles` formulation\n",
      "WARNING:pypsa.opf:The following generators have both investment optimisation and unit commitment:\n",
      "Index(['gas 0', 'gas 1', 'gas 2', 'wind 0', 'wind 1', 'wind 2', 'solar 0',\n",
      "       'solar 1', 'solar 2'],\n",
      "      dtype='object', name='name')\n",
      "Currently PyPSA cannot do both these functions, so PyPSA is choosing investment optimisation for these generators.\n"
     ]
    },
    {
     "name": "stdout",
     "output_type": "stream",
     "text": [
      "WARNING: Loading a SolverResults object with a warning status into\n",
      "    model=Linear Optimal Power Flow;\n",
      "        message from solver=Problem proven to be infeasible or unbounded.\n",
      "# ==========================================================\n",
      "# = Solver Results                                         =\n",
      "# ==========================================================\n",
      "# ----------------------------------------------------------\n",
      "#   Problem Information\n",
      "# ----------------------------------------------------------\n",
      "Problem: \n",
      "- Name: x11533\n",
      "  Lower bound: -inf\n",
      "  Upper bound: inf\n",
      "  Number of objectives: 1\n",
      "  Number of constraints: 23812\n",
      "  Number of variables: 11533\n",
      "  Number of binary variables: 0\n",
      "  Number of integer variables: 0\n",
      "  Number of continuous variables: 11533\n",
      "  Number of nonzeros: 49845\n",
      "  Sense: minimize\n",
      "# ----------------------------------------------------------\n",
      "#   Solver Information\n",
      "# ----------------------------------------------------------\n",
      "Solver: \n",
      "- Status: warning\n",
      "  Return code: 0\n",
      "  Message: Problem proven to be infeasible or unbounded.\n",
      "  Termination condition: infeasibleOrUnbounded\n",
      "  Termination message: Problem proven to be infeasible or unbounded.\n",
      "  Wall time: 0.26558494567871094\n",
      "  Error rc: 0\n",
      "  Time: 0.5624594688415527\n"
     ]
    },
    {
     "name": "stderr",
     "output_type": "stream",
     "text": [
      "INFO:pypsa.opf:Solving model using gurobi\n"
     ]
    },
    {
     "name": "stdout",
     "output_type": "stream",
     "text": [
      "27643547102.18967\n",
      " wind constraint\n",
      "generator_p_nom[wind 0] + generator_p_nom[wind 1] + generator_p_nom[wind 2]  ==  310823.9289707571\n",
      " solar constraint\n",
      "generator_p_nom[solar 0] + generator_p_nom[solar 1] + generator_p_nom[solar 2]  ==  6704.743711616163\n"
     ]
    },
    {
     "name": "stderr",
     "output_type": "stream",
     "text": [
      "INFO:pypsa.opf:Optimization successful\n",
      "INFO:pypsa.opf:Building pyomo model using `angles` formulation\n"
     ]
    },
    {
     "name": "stdout",
     "output_type": "stream",
     "text": [
      "# ==========================================================\n",
      "# = Solver Results                                         =\n",
      "# ==========================================================\n",
      "# ----------------------------------------------------------\n",
      "#   Problem Information\n",
      "# ----------------------------------------------------------\n",
      "Problem: \n",
      "- Name: x11533_copy\n",
      "  Lower bound: 26152321900.11435\n",
      "  Upper bound: 26152321900.11435\n",
      "  Number of objectives: 1\n",
      "  Number of constraints: 23812\n",
      "  Number of variables: 11533\n",
      "  Number of binary variables: 0\n",
      "  Number of integer variables: 0\n",
      "  Number of continuous variables: 11533\n",
      "  Number of nonzeros: 49845\n",
      "  Sense: minimize\n",
      "# ----------------------------------------------------------\n",
      "#   Solver Information\n",
      "# ----------------------------------------------------------\n",
      "Solver: \n",
      "- Status: ok\n",
      "  Return code: 0\n",
      "  Message: Model was solved to optimality (subject to tolerances), and an optimal solution is available.\n",
      "  Termination condition: optimal\n",
      "  Termination message: Model was solved to optimality (subject to tolerances), and an optimal solution is available.\n",
      "  Wall time: 0.4218425750732422\n",
      "  Error rc: 0\n",
      "  Time: 0.8436906337738037\n",
      "# ----------------------------------------------------------\n",
      "#   Solution Information\n",
      "# ----------------------------------------------------------\n",
      "Solution: \n",
      "- number of solutions: 0\n",
      "  number of solutions displayed: 0\n"
     ]
    },
    {
     "name": "stderr",
     "output_type": "stream",
     "text": [
      "WARNING:pypsa.opf:The following generators have both investment optimisation and unit commitment:\n",
      "Index(['gas 0', 'gas 1', 'gas 2', 'wind 0', 'wind 1', 'wind 2', 'solar 0',\n",
      "       'solar 1', 'solar 2'],\n",
      "      dtype='object', name='name')\n",
      "Currently PyPSA cannot do both these functions, so PyPSA is choosing investment optimisation for these generators.\n",
      "INFO:pypsa.opf:Solving model using gurobi\n"
     ]
    },
    {
     "name": "stdout",
     "output_type": "stream",
     "text": [
      "27643547102.18967\n",
      " wind constraint\n",
      "generator_p_nom[wind 0] + generator_p_nom[wind 1] + generator_p_nom[wind 2]  ==  310823.9289707571\n",
      " solar constraint\n",
      "generator_p_nom[solar 0] + generator_p_nom[solar 1] + generator_p_nom[solar 2]  ==  53637.9496929293\n"
     ]
    },
    {
     "name": "stderr",
     "output_type": "stream",
     "text": [
      "WARNING:pyomo.core:Loading a SolverResults object with a warning status into model=Linear Optimal Power Flow;\n",
      "    message from solver=Problem proven to be infeasible or unbounded.\n",
      "ERROR:pypsa.opf:Optimisation failed with status warning and terminal condition infeasibleOrUnbounded\n",
      "INFO:pypsa.opf:Building pyomo model using `angles` formulation\n",
      "WARNING:pypsa.opf:The following generators have both investment optimisation and unit commitment:\n",
      "Index(['gas 0', 'gas 1', 'gas 2', 'wind 0', 'wind 1', 'wind 2', 'solar 0',\n",
      "       'solar 1', 'solar 2'],\n",
      "      dtype='object', name='name')\n",
      "Currently PyPSA cannot do both these functions, so PyPSA is choosing investment optimisation for these generators.\n"
     ]
    },
    {
     "name": "stdout",
     "output_type": "stream",
     "text": [
      "WARNING: Loading a SolverResults object with a warning status into\n",
      "    model=Linear Optimal Power Flow;\n",
      "        message from solver=Problem proven to be infeasible or unbounded.\n",
      "# ==========================================================\n",
      "# = Solver Results                                         =\n",
      "# ==========================================================\n",
      "# ----------------------------------------------------------\n",
      "#   Problem Information\n",
      "# ----------------------------------------------------------\n",
      "Problem: \n",
      "- Name: x11533\n",
      "  Lower bound: -inf\n",
      "  Upper bound: inf\n",
      "  Number of objectives: 1\n",
      "  Number of constraints: 23812\n",
      "  Number of variables: 11533\n",
      "  Number of binary variables: 0\n",
      "  Number of integer variables: 0\n",
      "  Number of continuous variables: 11533\n",
      "  Number of nonzeros: 49845\n",
      "  Sense: minimize\n",
      "# ----------------------------------------------------------\n",
      "#   Solver Information\n",
      "# ----------------------------------------------------------\n",
      "Solver: \n",
      "- Status: warning\n",
      "  Return code: 0\n",
      "  Message: Problem proven to be infeasible or unbounded.\n",
      "  Termination condition: infeasibleOrUnbounded\n",
      "  Termination message: Problem proven to be infeasible or unbounded.\n",
      "  Wall time: 0.34372520446777344\n",
      "  Error rc: 0\n",
      "  Time: 0.6874499320983887\n"
     ]
    },
    {
     "name": "stderr",
     "output_type": "stream",
     "text": [
      "INFO:pypsa.opf:Solving model using gurobi\n"
     ]
    },
    {
     "name": "stdout",
     "output_type": "stream",
     "text": [
      "27643547102.18967\n",
      " wind constraint\n",
      "generator_p_nom[wind 0] + generator_p_nom[wind 1] + generator_p_nom[wind 2]  ==  310823.9289707571\n",
      " solar constraint\n",
      "generator_p_nom[solar 0] + generator_p_nom[solar 1] + generator_p_nom[solar 2]  ==  26818.97484646465\n"
     ]
    },
    {
     "name": "stderr",
     "output_type": "stream",
     "text": [
      "INFO:pypsa.opf:Optimization successful\n",
      "INFO:pypsa.opf:Building pyomo model using `angles` formulation\n",
      "WARNING:pypsa.opf:The following generators have both investment optimisation and unit commitment:\n",
      "Index(['gas 0', 'gas 1', 'gas 2', 'wind 0', 'wind 1', 'wind 2', 'solar 0',\n",
      "       'solar 1', 'solar 2'],\n",
      "      dtype='object', name='name')\n",
      "Currently PyPSA cannot do both these functions, so PyPSA is choosing investment optimisation for these generators.\n"
     ]
    },
    {
     "name": "stdout",
     "output_type": "stream",
     "text": [
      "# ==========================================================\n",
      "# = Solver Results                                         =\n",
      "# ==========================================================\n",
      "# ----------------------------------------------------------\n",
      "#   Problem Information\n",
      "# ----------------------------------------------------------\n",
      "Problem: \n",
      "- Name: x11533_copy\n",
      "  Lower bound: 26905173737.007504\n",
      "  Upper bound: 26905173737.007504\n",
      "  Number of objectives: 1\n",
      "  Number of constraints: 23812\n",
      "  Number of variables: 11533\n",
      "  Number of binary variables: 0\n",
      "  Number of integer variables: 0\n",
      "  Number of continuous variables: 11533\n",
      "  Number of nonzeros: 49845\n",
      "  Sense: minimize\n",
      "# ----------------------------------------------------------\n",
      "#   Solver Information\n",
      "# ----------------------------------------------------------\n",
      "Solver: \n",
      "- Status: ok\n",
      "  Return code: 0\n",
      "  Message: Model was solved to optimality (subject to tolerances), and an optimal solution is available.\n",
      "  Termination condition: optimal\n",
      "  Termination message: Model was solved to optimality (subject to tolerances), and an optimal solution is available.\n",
      "  Wall time: 0.4218425750732422\n",
      "  Error rc: 0\n",
      "  Time: 0.8593122959136963\n",
      "# ----------------------------------------------------------\n",
      "#   Solution Information\n",
      "# ----------------------------------------------------------\n",
      "Solution: \n",
      "- number of solutions: 0\n",
      "  number of solutions displayed: 0\n"
     ]
    },
    {
     "name": "stderr",
     "output_type": "stream",
     "text": [
      "INFO:pypsa.opf:Solving model using gurobi\n"
     ]
    },
    {
     "name": "stdout",
     "output_type": "stream",
     "text": [
      "27643547102.18967\n",
      " wind constraint\n",
      "generator_p_nom[wind 0] + generator_p_nom[wind 1] + generator_p_nom[wind 2]  ==  310823.9289707571\n"
     ]
    },
    {
     "name": "stderr",
     "output_type": "stream",
     "text": [
      "INFO:pypsa.opf:Optimization successful\n",
      "INFO:pypsa.opf:Building pyomo model using `angles` formulation\n",
      "WARNING:pypsa.opf:The following generators have both investment optimisation and unit commitment:\n",
      "Index(['gas 0', 'gas 1', 'gas 2', 'wind 0', 'wind 1', 'wind 2', 'solar 0',\n",
      "       'solar 1', 'solar 2'],\n",
      "      dtype='object', name='name')\n",
      "Currently PyPSA cannot do both these functions, so PyPSA is choosing investment optimisation for these generators.\n"
     ]
    },
    {
     "name": "stdout",
     "output_type": "stream",
     "text": [
      "# ==========================================================\n",
      "# = Solver Results                                         =\n",
      "# ==========================================================\n",
      "# ----------------------------------------------------------\n",
      "#   Problem Information\n",
      "# ----------------------------------------------------------\n",
      "Problem: \n",
      "- Name: x11533_copy\n",
      "  Lower bound: 25902749685.535053\n",
      "  Upper bound: 25902749685.535053\n",
      "  Number of objectives: 1\n",
      "  Number of constraints: 23811\n",
      "  Number of variables: 11533\n",
      "  Number of binary variables: 0\n",
      "  Number of integer variables: 0\n",
      "  Number of continuous variables: 11533\n",
      "  Number of nonzeros: 49842\n",
      "  Sense: minimize\n",
      "# ----------------------------------------------------------\n",
      "#   Solver Information\n",
      "# ----------------------------------------------------------\n",
      "Solver: \n",
      "- Status: ok\n",
      "  Return code: 0\n",
      "  Message: Model was solved to optimality (subject to tolerances), and an optimal solution is available.\n",
      "  Termination condition: optimal\n",
      "  Termination message: Model was solved to optimality (subject to tolerances), and an optimal solution is available.\n",
      "  Wall time: 0.48433876037597656\n",
      "  Error rc: 0\n",
      "  Time: 0.9218273162841797\n",
      "# ----------------------------------------------------------\n",
      "#   Solution Information\n",
      "# ----------------------------------------------------------\n",
      "Solution: \n",
      "- number of solutions: 0\n",
      "  number of solutions displayed: 0\n"
     ]
    },
    {
     "name": "stderr",
     "output_type": "stream",
     "text": [
      "INFO:pypsa.opf:Solving model using gurobi\n"
     ]
    },
    {
     "name": "stdout",
     "output_type": "stream",
     "text": [
      "27643547102.18967\n",
      " wind constraint\n",
      "generator_p_nom[wind 0] + generator_p_nom[wind 1] + generator_p_nom[wind 2]  ==  310823.9289707571\n",
      " solar constraint\n",
      "generator_p_nom[solar 0] + generator_p_nom[solar 1] + generator_p_nom[solar 2]  ==  40228.462269696975\n"
     ]
    },
    {
     "name": "stderr",
     "output_type": "stream",
     "text": [
      "INFO:pypsa.opf:Optimization successful\n",
      "INFO:pypsa.opf:Building pyomo model using `angles` formulation\n",
      "WARNING:pypsa.opf:The following generators have both investment optimisation and unit commitment:\n",
      "Index(['gas 0', 'gas 1', 'gas 2', 'wind 0', 'wind 1', 'wind 2', 'solar 0',\n",
      "       'solar 1', 'solar 2'],\n",
      "      dtype='object', name='name')\n",
      "Currently PyPSA cannot do both these functions, so PyPSA is choosing investment optimisation for these generators.\n"
     ]
    },
    {
     "name": "stdout",
     "output_type": "stream",
     "text": [
      "# ==========================================================\n",
      "# = Solver Results                                         =\n",
      "# ==========================================================\n",
      "# ----------------------------------------------------------\n",
      "#   Problem Information\n",
      "# ----------------------------------------------------------\n",
      "Problem: \n",
      "- Name: x11533_copy\n",
      "  Lower bound: 27408444343.095234\n",
      "  Upper bound: 27408444343.095234\n",
      "  Number of objectives: 1\n",
      "  Number of constraints: 23812\n",
      "  Number of variables: 11533\n",
      "  Number of binary variables: 0\n",
      "  Number of integer variables: 0\n",
      "  Number of continuous variables: 11533\n",
      "  Number of nonzeros: 49845\n",
      "  Sense: minimize\n",
      "# ----------------------------------------------------------\n",
      "#   Solver Information\n",
      "# ----------------------------------------------------------\n",
      "Solver: \n",
      "- Status: ok\n",
      "  Return code: 0\n",
      "  Message: Model was solved to optimality (subject to tolerances), and an optimal solution is available.\n",
      "  Termination condition: optimal\n",
      "  Termination message: Model was solved to optimality (subject to tolerances), and an optimal solution is available.\n",
      "  Wall time: 0.3593311309814453\n",
      "  Error rc: 0\n",
      "  Time: 0.7811799049377441\n",
      "# ----------------------------------------------------------\n",
      "#   Solution Information\n",
      "# ----------------------------------------------------------\n",
      "Solution: \n",
      "- number of solutions: 0\n",
      "  number of solutions displayed: 0\n"
     ]
    },
    {
     "name": "stderr",
     "output_type": "stream",
     "text": [
      "INFO:pypsa.opf:Solving model using gurobi\n"
     ]
    },
    {
     "name": "stdout",
     "output_type": "stream",
     "text": [
      "27643547102.18967\n",
      " wind constraint\n",
      "generator_p_nom[wind 0] + generator_p_nom[wind 1] + generator_p_nom[wind 2]  ==  310823.9289707571\n",
      " solar constraint\n",
      "generator_p_nom[solar 0] + generator_p_nom[solar 1] + generator_p_nom[solar 2]  ==  67047.43711616163\n"
     ]
    },
    {
     "name": "stderr",
     "output_type": "stream",
     "text": [
      "WARNING:pyomo.core:Loading a SolverResults object with a warning status into model=Linear Optimal Power Flow;\n",
      "    message from solver=Problem proven to be infeasible or unbounded.\n",
      "ERROR:pypsa.opf:Optimisation failed with status warning and terminal condition infeasibleOrUnbounded\n",
      "INFO:pypsa.opf:Building pyomo model using `angles` formulation\n",
      "WARNING:pypsa.opf:The following generators have both investment optimisation and unit commitment:\n",
      "Index(['gas 0', 'gas 1', 'gas 2', 'wind 0', 'wind 1', 'wind 2', 'solar 0',\n",
      "       'solar 1', 'solar 2'],\n",
      "      dtype='object', name='name')\n",
      "Currently PyPSA cannot do both these functions, so PyPSA is choosing investment optimisation for these generators.\n"
     ]
    },
    {
     "name": "stdout",
     "output_type": "stream",
     "text": [
      "WARNING: Loading a SolverResults object with a warning status into\n",
      "    model=Linear Optimal Power Flow;\n",
      "        message from solver=Problem proven to be infeasible or unbounded.\n",
      "# ==========================================================\n",
      "# = Solver Results                                         =\n",
      "# ==========================================================\n",
      "# ----------------------------------------------------------\n",
      "#   Problem Information\n",
      "# ----------------------------------------------------------\n",
      "Problem: \n",
      "- Name: x11533\n",
      "  Lower bound: -inf\n",
      "  Upper bound: inf\n",
      "  Number of objectives: 1\n",
      "  Number of constraints: 23812\n",
      "  Number of variables: 11533\n",
      "  Number of binary variables: 0\n",
      "  Number of integer variables: 0\n",
      "  Number of continuous variables: 11533\n",
      "  Number of nonzeros: 49845\n",
      "  Sense: minimize\n",
      "# ----------------------------------------------------------\n",
      "#   Solver Information\n",
      "# ----------------------------------------------------------\n",
      "Solver: \n",
      "- Status: warning\n",
      "  Return code: 0\n",
      "  Message: Problem proven to be infeasible or unbounded.\n",
      "  Termination condition: infeasibleOrUnbounded\n",
      "  Termination message: Problem proven to be infeasible or unbounded.\n",
      "  Wall time: 0.2656078338623047\n",
      "  Error rc: 0\n",
      "  Time: 0.5624454021453857\n"
     ]
    },
    {
     "name": "stderr",
     "output_type": "stream",
     "text": [
      "INFO:pypsa.opf:Solving model using gurobi\n"
     ]
    },
    {
     "name": "stdout",
     "output_type": "stream",
     "text": [
      "27643547102.18967\n",
      " wind constraint\n",
      "generator_p_nom[wind 0] + generator_p_nom[wind 1] + generator_p_nom[wind 2]  ==  306540.5498541394\n"
     ]
    },
    {
     "name": "stderr",
     "output_type": "stream",
     "text": [
      "INFO:pypsa.opf:Optimization successful\n"
     ]
    },
    {
     "name": "stdout",
     "output_type": "stream",
     "text": [
      "# ==========================================================\n",
      "# = Solver Results                                         =\n",
      "# ==========================================================\n",
      "# ----------------------------------------------------------\n",
      "#   Problem Information\n",
      "# ----------------------------------------------------------\n",
      "Problem: \n",
      "- Name: x11533_copy\n",
      "  Lower bound: 25615742078.358383\n",
      "  Upper bound: 25615742078.358383\n",
      "  Number of objectives: 1\n",
      "  Number of constraints: 23811\n",
      "  Number of variables: 11533\n",
      "  Number of binary variables: 0\n",
      "  Number of integer variables: 0\n",
      "  Number of continuous variables: 11533\n",
      "  Number of nonzeros: 49842\n",
      "  Sense: minimize\n",
      "# ----------------------------------------------------------\n",
      "#   Solver Information\n",
      "# ----------------------------------------------------------\n",
      "Solver: \n",
      "- Status: ok\n",
      "  Return code: 0\n",
      "  Message: Model was solved to optimality (subject to tolerances), and an optimal solution is available.\n",
      "  Termination condition: optimal\n",
      "  Termination message: Model was solved to optimality (subject to tolerances), and an optimal solution is available.\n",
      "  Wall time: 0.4530925750732422\n",
      "  Error rc: 0\n",
      "  Time: 0.8749284744262695\n",
      "# ----------------------------------------------------------\n",
      "#   Solution Information\n",
      "# ----------------------------------------------------------\n",
      "Solution: \n",
      "- number of solutions: 0\n",
      "  number of solutions displayed: 0\n"
     ]
    },
    {
     "name": "stderr",
     "output_type": "stream",
     "text": [
      "INFO:pypsa.opf:Building pyomo model using `angles` formulation\n",
      "WARNING:pypsa.opf:The following generators have both investment optimisation and unit commitment:\n",
      "Index(['gas 0', 'gas 1', 'gas 2', 'wind 0', 'wind 1', 'wind 2', 'solar 0',\n",
      "       'solar 1', 'solar 2'],\n",
      "      dtype='object', name='name')\n",
      "Currently PyPSA cannot do both these functions, so PyPSA is choosing investment optimisation for these generators.\n",
      "INFO:pypsa.opf:Solving model using gurobi\n"
     ]
    },
    {
     "name": "stdout",
     "output_type": "stream",
     "text": [
      "27643547102.18967\n",
      " wind constraint\n",
      "generator_p_nom[wind 0] + generator_p_nom[wind 1] + generator_p_nom[wind 2]  ==  306540.5498541394\n",
      " solar constraint\n",
      "generator_p_nom[solar 0] + generator_p_nom[solar 1] + generator_p_nom[solar 2]  ==  13409.487423232325\n"
     ]
    },
    {
     "name": "stderr",
     "output_type": "stream",
     "text": [
      "INFO:pypsa.opf:Optimization successful\n",
      "INFO:pypsa.opf:Building pyomo model using `angles` formulation\n",
      "WARNING:pypsa.opf:The following generators have both investment optimisation and unit commitment:\n",
      "Index(['gas 0', 'gas 1', 'gas 2', 'wind 0', 'wind 1', 'wind 2', 'solar 0',\n",
      "       'solar 1', 'solar 2'],\n",
      "      dtype='object', name='name')\n",
      "Currently PyPSA cannot do both these functions, so PyPSA is choosing investment optimisation for these generators.\n"
     ]
    },
    {
     "name": "stdout",
     "output_type": "stream",
     "text": [
      "# ==========================================================\n",
      "# = Solver Results                                         =\n",
      "# ==========================================================\n",
      "# ----------------------------------------------------------\n",
      "#   Problem Information\n",
      "# ----------------------------------------------------------\n",
      "Problem: \n",
      "- Name: x11533_copy\n",
      "  Lower bound: 26115863040.04514\n",
      "  Upper bound: 26115863040.04514\n",
      "  Number of objectives: 1\n",
      "  Number of constraints: 23812\n",
      "  Number of variables: 11533\n",
      "  Number of binary variables: 0\n",
      "  Number of integer variables: 0\n",
      "  Number of continuous variables: 11533\n",
      "  Number of nonzeros: 49845\n",
      "  Sense: minimize\n",
      "# ----------------------------------------------------------\n",
      "#   Solver Information\n",
      "# ----------------------------------------------------------\n",
      "Solver: \n",
      "- Status: ok\n",
      "  Return code: 0\n",
      "  Message: Model was solved to optimality (subject to tolerances), and an optimal solution is available.\n",
      "  Termination condition: optimal\n",
      "  Termination message: Model was solved to optimality (subject to tolerances), and an optimal solution is available.\n",
      "  Wall time: 0.3437080383300781\n",
      "  Error rc: 0\n",
      "  Time: 0.7655491828918457\n",
      "# ----------------------------------------------------------\n",
      "#   Solution Information\n",
      "# ----------------------------------------------------------\n",
      "Solution: \n",
      "- number of solutions: 0\n",
      "  number of solutions displayed: 0\n"
     ]
    },
    {
     "name": "stderr",
     "output_type": "stream",
     "text": [
      "INFO:pypsa.opf:Solving model using gurobi\n"
     ]
    },
    {
     "name": "stdout",
     "output_type": "stream",
     "text": [
      "27643547102.18967\n",
      " wind constraint\n",
      "generator_p_nom[wind 0] + generator_p_nom[wind 1] + generator_p_nom[wind 2]  ==  306540.5498541394\n",
      " solar constraint\n",
      "generator_p_nom[solar 0] + generator_p_nom[solar 1] + generator_p_nom[solar 2]  ==  20114.231134848487\n"
     ]
    },
    {
     "name": "stderr",
     "output_type": "stream",
     "text": [
      "INFO:pypsa.opf:Optimization successful\n",
      "INFO:pypsa.opf:Building pyomo model using `angles` formulation\n"
     ]
    },
    {
     "name": "stdout",
     "output_type": "stream",
     "text": [
      "# ==========================================================\n",
      "# = Solver Results                                         =\n",
      "# ==========================================================\n",
      "# ----------------------------------------------------------\n",
      "#   Problem Information\n",
      "# ----------------------------------------------------------\n",
      "Problem: \n",
      "- Name: x11533_copy\n",
      "  Lower bound: 26366786685.569584\n",
      "  Upper bound: 26366786685.569584\n",
      "  Number of objectives: 1\n",
      "  Number of constraints: 23812\n",
      "  Number of variables: 11533\n",
      "  Number of binary variables: 0\n",
      "  Number of integer variables: 0\n",
      "  Number of continuous variables: 11533\n",
      "  Number of nonzeros: 49845\n",
      "  Sense: minimize\n",
      "# ----------------------------------------------------------\n",
      "#   Solver Information\n",
      "# ----------------------------------------------------------\n",
      "Solver: \n",
      "- Status: ok\n",
      "  Return code: 0\n",
      "  Message: Model was solved to optimality (subject to tolerances), and an optimal solution is available.\n",
      "  Termination condition: optimal\n",
      "  Termination message: Model was solved to optimality (subject to tolerances), and an optimal solution is available.\n",
      "  Wall time: 0.4218463897705078\n",
      "  Error rc: 0\n",
      "  Time: 0.8593058586120605\n",
      "# ----------------------------------------------------------\n",
      "#   Solution Information\n",
      "# ----------------------------------------------------------\n",
      "Solution: \n",
      "- number of solutions: 0\n",
      "  number of solutions displayed: 0\n"
     ]
    },
    {
     "name": "stderr",
     "output_type": "stream",
     "text": [
      "WARNING:pypsa.opf:The following generators have both investment optimisation and unit commitment:\n",
      "Index(['gas 0', 'gas 1', 'gas 2', 'wind 0', 'wind 1', 'wind 2', 'solar 0',\n",
      "       'solar 1', 'solar 2'],\n",
      "      dtype='object', name='name')\n",
      "Currently PyPSA cannot do both these functions, so PyPSA is choosing investment optimisation for these generators.\n",
      "INFO:pypsa.opf:Solving model using gurobi\n"
     ]
    },
    {
     "name": "stdout",
     "output_type": "stream",
     "text": [
      "27643547102.18967\n",
      " wind constraint\n",
      "generator_p_nom[wind 0] + generator_p_nom[wind 1] + generator_p_nom[wind 2]  ==  306540.5498541394\n",
      " solar constraint\n",
      "generator_p_nom[solar 0] + generator_p_nom[solar 1] + generator_p_nom[solar 2]  ==  26818.97484646465\n"
     ]
    },
    {
     "name": "stderr",
     "output_type": "stream",
     "text": [
      "INFO:pypsa.opf:Optimization successful\n"
     ]
    },
    {
     "name": "stdout",
     "output_type": "stream",
     "text": [
      "# ==========================================================\n",
      "# = Solver Results                                         =\n",
      "# ==========================================================\n",
      "# ----------------------------------------------------------\n",
      "#   Problem Information\n",
      "# ----------------------------------------------------------\n",
      "Problem: \n",
      "- Name: x11533_copy\n",
      "  Lower bound: 26618019355.787777\n",
      "  Upper bound: 26618019355.787777\n",
      "  Number of objectives: 1\n",
      "  Number of constraints: 23812\n",
      "  Number of variables: 11533\n",
      "  Number of binary variables: 0\n",
      "  Number of integer variables: 0\n",
      "  Number of continuous variables: 11533\n",
      "  Number of nonzeros: 49845\n",
      "  Sense: minimize\n",
      "# ----------------------------------------------------------\n",
      "#   Solver Information\n",
      "# ----------------------------------------------------------\n",
      "Solver: \n",
      "- Status: ok\n",
      "  Return code: 0\n",
      "  Message: Model was solved to optimality (subject to tolerances), and an optimal solution is available.\n",
      "  Termination condition: optimal\n",
      "  Termination message: Model was solved to optimality (subject to tolerances), and an optimal solution is available.\n",
      "  Wall time: 0.4218425750732422\n",
      "  Error rc: 0\n",
      "  Time: 0.8436894416809082\n",
      "# ----------------------------------------------------------\n",
      "#   Solution Information\n",
      "# ----------------------------------------------------------\n",
      "Solution: \n",
      "- number of solutions: 0\n",
      "  number of solutions displayed: 0\n"
     ]
    },
    {
     "name": "stderr",
     "output_type": "stream",
     "text": [
      "INFO:pypsa.opf:Building pyomo model using `angles` formulation\n",
      "WARNING:pypsa.opf:The following generators have both investment optimisation and unit commitment:\n",
      "Index(['gas 0', 'gas 1', 'gas 2', 'wind 0', 'wind 1', 'wind 2', 'solar 0',\n",
      "       'solar 1', 'solar 2'],\n",
      "      dtype='object', name='name')\n",
      "Currently PyPSA cannot do both these functions, so PyPSA is choosing investment optimisation for these generators.\n",
      "INFO:pypsa.opf:Solving model using gurobi\n"
     ]
    },
    {
     "name": "stdout",
     "output_type": "stream",
     "text": [
      "27643547102.18967\n",
      " wind constraint\n",
      "generator_p_nom[wind 0] + generator_p_nom[wind 1] + generator_p_nom[wind 2]  ==  306540.5498541394\n",
      " solar constraint\n",
      "generator_p_nom[solar 0] + generator_p_nom[solar 1] + generator_p_nom[solar 2]  ==  67047.43711616163\n"
     ]
    },
    {
     "name": "stderr",
     "output_type": "stream",
     "text": [
      "WARNING:pyomo.core:Loading a SolverResults object with a warning status into model=Linear Optimal Power Flow;\n",
      "    message from solver=Problem proven to be infeasible or unbounded.\n",
      "ERROR:pypsa.opf:Optimisation failed with status warning and terminal condition infeasibleOrUnbounded\n",
      "INFO:pypsa.opf:Building pyomo model using `angles` formulation\n",
      "WARNING:pypsa.opf:The following generators have both investment optimisation and unit commitment:\n",
      "Index(['gas 0', 'gas 1', 'gas 2', 'wind 0', 'wind 1', 'wind 2', 'solar 0',\n",
      "       'solar 1', 'solar 2'],\n",
      "      dtype='object', name='name')\n",
      "Currently PyPSA cannot do both these functions, so PyPSA is choosing investment optimisation for these generators.\n"
     ]
    },
    {
     "name": "stdout",
     "output_type": "stream",
     "text": [
      "WARNING: Loading a SolverResults object with a warning status into\n",
      "    model=Linear Optimal Power Flow;\n",
      "        message from solver=Problem proven to be infeasible or unbounded.\n",
      "# ==========================================================\n",
      "# = Solver Results                                         =\n",
      "# ==========================================================\n",
      "# ----------------------------------------------------------\n",
      "#   Problem Information\n",
      "# ----------------------------------------------------------\n",
      "Problem: \n",
      "- Name: x11533\n",
      "  Lower bound: -inf\n",
      "  Upper bound: inf\n",
      "  Number of objectives: 1\n",
      "  Number of constraints: 23812\n",
      "  Number of variables: 11533\n",
      "  Number of binary variables: 0\n",
      "  Number of integer variables: 0\n",
      "  Number of continuous variables: 11533\n",
      "  Number of nonzeros: 49845\n",
      "  Sense: minimize\n",
      "# ----------------------------------------------------------\n",
      "#   Solver Information\n",
      "# ----------------------------------------------------------\n",
      "Solver: \n",
      "- Status: warning\n",
      "  Return code: 0\n",
      "  Message: Problem proven to be infeasible or unbounded.\n",
      "  Termination condition: infeasibleOrUnbounded\n",
      "  Termination message: Problem proven to be infeasible or unbounded.\n",
      "  Wall time: 0.31247711181640625\n",
      "  Error rc: 0\n",
      "  Time: 0.6093499660491943\n"
     ]
    },
    {
     "name": "stderr",
     "output_type": "stream",
     "text": [
      "INFO:pypsa.opf:Solving model using gurobi\n"
     ]
    },
    {
     "name": "stdout",
     "output_type": "stream",
     "text": [
      "27643547102.18967\n",
      " wind constraint\n",
      "generator_p_nom[wind 0] + generator_p_nom[wind 1] + generator_p_nom[wind 2]  ==  306540.5498541394\n",
      " solar constraint\n",
      "generator_p_nom[solar 0] + generator_p_nom[solar 1] + generator_p_nom[solar 2]  ==  46933.20598131314\n"
     ]
    },
    {
     "name": "stderr",
     "output_type": "stream",
     "text": [
      "INFO:pypsa.opf:Optimization successful\n",
      "INFO:pypsa.opf:Building pyomo model using `angles` formulation\n",
      "WARNING:pypsa.opf:The following generators have both investment optimisation and unit commitment:\n",
      "Index(['gas 0', 'gas 1', 'gas 2', 'wind 0', 'wind 1', 'wind 2', 'solar 0',\n",
      "       'solar 1', 'solar 2'],\n",
      "      dtype='object', name='name')\n",
      "Currently PyPSA cannot do both these functions, so PyPSA is choosing investment optimisation for these generators.\n"
     ]
    },
    {
     "name": "stdout",
     "output_type": "stream",
     "text": [
      "# ==========================================================\n",
      "# = Solver Results                                         =\n",
      "# ==========================================================\n",
      "# ----------------------------------------------------------\n",
      "#   Problem Information\n",
      "# ----------------------------------------------------------\n",
      "Problem: \n",
      "- Name: x11533_copy\n",
      "  Lower bound: 27373010256.963654\n",
      "  Upper bound: 27373010256.963654\n",
      "  Number of objectives: 1\n",
      "  Number of constraints: 23812\n",
      "  Number of variables: 11533\n",
      "  Number of binary variables: 0\n",
      "  Number of integer variables: 0\n",
      "  Number of continuous variables: 11533\n",
      "  Number of nonzeros: 49845\n",
      "  Sense: minimize\n",
      "# ----------------------------------------------------------\n",
      "#   Solver Information\n",
      "# ----------------------------------------------------------\n",
      "Solver: \n",
      "- Status: ok\n",
      "  Return code: 0\n",
      "  Message: Model was solved to optimality (subject to tolerances), and an optimal solution is available.\n",
      "  Termination condition: optimal\n",
      "  Termination message: Model was solved to optimality (subject to tolerances), and an optimal solution is available.\n",
      "  Wall time: 0.4687023162841797\n",
      "  Error rc: 0\n",
      "  Time: 0.937431812286377\n",
      "# ----------------------------------------------------------\n",
      "#   Solution Information\n",
      "# ----------------------------------------------------------\n",
      "Solution: \n",
      "- number of solutions: 0\n",
      "  number of solutions displayed: 0\n"
     ]
    },
    {
     "name": "stderr",
     "output_type": "stream",
     "text": [
      "INFO:pypsa.opf:Solving model using gurobi\n"
     ]
    },
    {
     "name": "stdout",
     "output_type": "stream",
     "text": [
      "27643547102.18967\n",
      " wind constraint\n",
      "generator_p_nom[wind 0] + generator_p_nom[wind 1] + generator_p_nom[wind 2]  ==  306540.5498541394\n",
      " solar constraint\n",
      "generator_p_nom[solar 0] + generator_p_nom[solar 1] + generator_p_nom[solar 2]  ==  60342.69340454546\n"
     ]
    },
    {
     "name": "stderr",
     "output_type": "stream",
     "text": [
      "WARNING:pyomo.core:Loading a SolverResults object with a warning status into model=Linear Optimal Power Flow;\n",
      "    message from solver=Problem proven to be infeasible or unbounded.\n",
      "ERROR:pypsa.opf:Optimisation failed with status warning and terminal condition infeasibleOrUnbounded\n",
      "INFO:pypsa.opf:Building pyomo model using `angles` formulation\n",
      "WARNING:pypsa.opf:The following generators have both investment optimisation and unit commitment:\n",
      "Index(['gas 0', 'gas 1', 'gas 2', 'wind 0', 'wind 1', 'wind 2', 'solar 0',\n",
      "       'solar 1', 'solar 2'],\n",
      "      dtype='object', name='name')\n",
      "Currently PyPSA cannot do both these functions, so PyPSA is choosing investment optimisation for these generators.\n"
     ]
    },
    {
     "name": "stdout",
     "output_type": "stream",
     "text": [
      "WARNING: Loading a SolverResults object with a warning status into\n",
      "    model=Linear Optimal Power Flow;\n",
      "        message from solver=Problem proven to be infeasible or unbounded.\n",
      "# ==========================================================\n",
      "# = Solver Results                                         =\n",
      "# ==========================================================\n",
      "# ----------------------------------------------------------\n",
      "#   Problem Information\n",
      "# ----------------------------------------------------------\n",
      "Problem: \n",
      "- Name: x11533\n",
      "  Lower bound: -inf\n",
      "  Upper bound: inf\n",
      "  Number of objectives: 1\n",
      "  Number of constraints: 23812\n",
      "  Number of variables: 11533\n",
      "  Number of binary variables: 0\n",
      "  Number of integer variables: 0\n",
      "  Number of continuous variables: 11533\n",
      "  Number of nonzeros: 49845\n",
      "  Sense: minimize\n",
      "# ----------------------------------------------------------\n",
      "#   Solver Information\n",
      "# ----------------------------------------------------------\n",
      "Solver: \n",
      "- Status: warning\n",
      "  Return code: 0\n",
      "  Message: Problem proven to be infeasible or unbounded.\n",
      "  Termination condition: infeasibleOrUnbounded\n",
      "  Termination message: Problem proven to be infeasible or unbounded.\n",
      "  Wall time: 0.3124561309814453\n",
      "  Error rc: 0\n",
      "  Time: 0.6093277931213379\n"
     ]
    },
    {
     "name": "stderr",
     "output_type": "stream",
     "text": [
      "INFO:pypsa.opf:Solving model using gurobi\n"
     ]
    },
    {
     "name": "stdout",
     "output_type": "stream",
     "text": [
      "27643547102.18967\n",
      " wind constraint\n",
      "generator_p_nom[wind 0] + generator_p_nom[wind 1] + generator_p_nom[wind 2]  ==  306540.5498541394\n",
      " solar constraint\n",
      "generator_p_nom[solar 0] + generator_p_nom[solar 1] + generator_p_nom[solar 2]  ==  40228.462269696975\n"
     ]
    },
    {
     "name": "stderr",
     "output_type": "stream",
     "text": [
      "INFO:pypsa.opf:Optimization successful\n",
      "INFO:pypsa.opf:Building pyomo model using `angles` formulation\n",
      "WARNING:pypsa.opf:The following generators have both investment optimisation and unit commitment:\n",
      "Index(['gas 0', 'gas 1', 'gas 2', 'wind 0', 'wind 1', 'wind 2', 'solar 0',\n",
      "       'solar 1', 'solar 2'],\n",
      "      dtype='object', name='name')\n",
      "Currently PyPSA cannot do both these functions, so PyPSA is choosing investment optimisation for these generators.\n"
     ]
    },
    {
     "name": "stdout",
     "output_type": "stream",
     "text": [
      "# ==========================================================\n",
      "# = Solver Results                                         =\n",
      "# ==========================================================\n",
      "# ----------------------------------------------------------\n",
      "#   Problem Information\n",
      "# ----------------------------------------------------------\n",
      "Problem: \n",
      "- Name: x11533_copy\n",
      "  Lower bound: 27121269513.67095\n",
      "  Upper bound: 27121269513.67095\n",
      "  Number of objectives: 1\n",
      "  Number of constraints: 23812\n",
      "  Number of variables: 11533\n",
      "  Number of binary variables: 0\n",
      "  Number of integer variables: 0\n",
      "  Number of continuous variables: 11533\n",
      "  Number of nonzeros: 49845\n",
      "  Sense: minimize\n",
      "# ----------------------------------------------------------\n",
      "#   Solver Information\n",
      "# ----------------------------------------------------------\n",
      "Solver: \n",
      "- Status: ok\n",
      "  Return code: 0\n",
      "  Message: Model was solved to optimality (subject to tolerances), and an optimal solution is available.\n",
      "  Termination condition: optimal\n",
      "  Termination message: Model was solved to optimality (subject to tolerances), and an optimal solution is available.\n",
      "  Wall time: 0.3749732971191406\n",
      "  Error rc: 0\n",
      "  Time: 0.8124399185180664\n",
      "# ----------------------------------------------------------\n",
      "#   Solution Information\n",
      "# ----------------------------------------------------------\n",
      "Solution: \n",
      "- number of solutions: 0\n",
      "  number of solutions displayed: 0\n"
     ]
    },
    {
     "name": "stderr",
     "output_type": "stream",
     "text": [
      "INFO:pypsa.opf:Solving model using gurobi\n"
     ]
    },
    {
     "name": "stdout",
     "output_type": "stream",
     "text": [
      "27643547102.18967\n",
      " wind constraint\n",
      "generator_p_nom[wind 0] + generator_p_nom[wind 1] + generator_p_nom[wind 2]  ==  306540.5498541394\n",
      " solar constraint\n",
      "generator_p_nom[solar 0] + generator_p_nom[solar 1] + generator_p_nom[solar 2]  ==  53637.9496929293\n"
     ]
    },
    {
     "name": "stderr",
     "output_type": "stream",
     "text": [
      "INFO:pypsa.opf:Optimization successful\n"
     ]
    },
    {
     "name": "stdout",
     "output_type": "stream",
     "text": [
      "# ==========================================================\n",
      "# = Solver Results                                         =\n",
      "# ==========================================================\n",
      "# ----------------------------------------------------------\n",
      "#   Problem Information\n",
      "# ----------------------------------------------------------\n",
      "Problem: \n",
      "- Name: x11533_copy\n",
      "  Lower bound: 27624758511.52485\n",
      "  Upper bound: 27624758511.52485\n",
      "  Number of objectives: 1\n",
      "  Number of constraints: 23812\n",
      "  Number of variables: 11533\n",
      "  Number of binary variables: 0\n",
      "  Number of integer variables: 0\n",
      "  Number of continuous variables: 11533\n",
      "  Number of nonzeros: 49845\n",
      "  Sense: minimize\n",
      "# ----------------------------------------------------------\n",
      "#   Solver Information\n",
      "# ----------------------------------------------------------\n",
      "Solver: \n",
      "- Status: ok\n",
      "  Return code: 0\n",
      "  Message: Model was solved to optimality (subject to tolerances), and an optimal solution is available.\n",
      "  Termination condition: optimal\n",
      "  Termination message: Model was solved to optimality (subject to tolerances), and an optimal solution is available.\n",
      "  Wall time: 0.453094482421875\n",
      "  Error rc: 0\n",
      "  Time: 0.8905673027038574\n",
      "# ----------------------------------------------------------\n",
      "#   Solution Information\n",
      "# ----------------------------------------------------------\n",
      "Solution: \n",
      "- number of solutions: 0\n",
      "  number of solutions displayed: 0\n"
     ]
    },
    {
     "name": "stderr",
     "output_type": "stream",
     "text": [
      "INFO:pypsa.opf:Building pyomo model using `angles` formulation\n",
      "WARNING:pypsa.opf:The following generators have both investment optimisation and unit commitment:\n",
      "Index(['gas 0', 'gas 1', 'gas 2', 'wind 0', 'wind 1', 'wind 2', 'solar 0',\n",
      "       'solar 1', 'solar 2'],\n",
      "      dtype='object', name='name')\n",
      "Currently PyPSA cannot do both these functions, so PyPSA is choosing investment optimisation for these generators.\n",
      "INFO:pypsa.opf:Solving model using gurobi\n"
     ]
    },
    {
     "name": "stdout",
     "output_type": "stream",
     "text": [
      "27643547102.18967\n",
      " wind constraint\n",
      "generator_p_nom[wind 0] + generator_p_nom[wind 1] + generator_p_nom[wind 2]  ==  306540.5498541394\n",
      " solar constraint\n",
      "generator_p_nom[solar 0] + generator_p_nom[solar 1] + generator_p_nom[solar 2]  ==  6704.743711616163\n"
     ]
    },
    {
     "name": "stderr",
     "output_type": "stream",
     "text": [
      "INFO:pypsa.opf:Optimization successful\n",
      "INFO:pypsa.opf:Building pyomo model using `angles` formulation\n",
      "WARNING:pypsa.opf:The following generators have both investment optimisation and unit commitment:\n",
      "Index(['gas 0', 'gas 1', 'gas 2', 'wind 0', 'wind 1', 'wind 2', 'solar 0',\n",
      "       'solar 1', 'solar 2'],\n",
      "      dtype='object', name='name')\n",
      "Currently PyPSA cannot do both these functions, so PyPSA is choosing investment optimisation for these generators.\n"
     ]
    },
    {
     "name": "stdout",
     "output_type": "stream",
     "text": [
      "# ==========================================================\n",
      "# = Solver Results                                         =\n",
      "# ==========================================================\n",
      "# ----------------------------------------------------------\n",
      "#   Problem Information\n",
      "# ----------------------------------------------------------\n",
      "Problem: \n",
      "- Name: x11533_copy\n",
      "  Lower bound: 25865288846.40061\n",
      "  Upper bound: 25865288846.40061\n",
      "  Number of objectives: 1\n",
      "  Number of constraints: 23812\n",
      "  Number of variables: 11533\n",
      "  Number of binary variables: 0\n",
      "  Number of integer variables: 0\n",
      "  Number of continuous variables: 11533\n",
      "  Number of nonzeros: 49845\n",
      "  Sense: minimize\n",
      "# ----------------------------------------------------------\n",
      "#   Solver Information\n",
      "# ----------------------------------------------------------\n",
      "Solver: \n",
      "- Status: ok\n",
      "  Return code: 0\n",
      "  Message: Model was solved to optimality (subject to tolerances), and an optimal solution is available.\n",
      "  Termination condition: optimal\n",
      "  Termination message: Model was solved to optimality (subject to tolerances), and an optimal solution is available.\n",
      "  Wall time: 0.3593311309814453\n",
      "  Error rc: 0\n",
      "  Time: 0.7774696350097656\n",
      "# ----------------------------------------------------------\n",
      "#   Solution Information\n",
      "# ----------------------------------------------------------\n",
      "Solution: \n",
      "- number of solutions: 0\n",
      "  number of solutions displayed: 0\n"
     ]
    },
    {
     "name": "stderr",
     "output_type": "stream",
     "text": [
      "INFO:pypsa.opf:Solving model using gurobi\n"
     ]
    },
    {
     "name": "stdout",
     "output_type": "stream",
     "text": [
      "27643547102.18967\n",
      " wind constraint\n",
      "generator_p_nom[wind 0] + generator_p_nom[wind 1] + generator_p_nom[wind 2]  ==  306540.5498541394\n",
      " solar constraint\n",
      "generator_p_nom[solar 0] + generator_p_nom[solar 1] + generator_p_nom[solar 2]  ==  33523.718558080815\n"
     ]
    },
    {
     "name": "stderr",
     "output_type": "stream",
     "text": [
      "INFO:pypsa.opf:Optimization successful\n",
      "INFO:pypsa.opf:Building pyomo model using `angles` formulation\n",
      "WARNING:pypsa.opf:The following generators have both investment optimisation and unit commitment:\n",
      "Index(['gas 0', 'gas 1', 'gas 2', 'wind 0', 'wind 1', 'wind 2', 'solar 0',\n",
      "       'solar 1', 'solar 2'],\n",
      "      dtype='object', name='name')\n",
      "Currently PyPSA cannot do both these functions, so PyPSA is choosing investment optimisation for these generators.\n"
     ]
    },
    {
     "name": "stdout",
     "output_type": "stream",
     "text": [
      "# ==========================================================\n",
      "# = Solver Results                                         =\n",
      "# ==========================================================\n",
      "# ----------------------------------------------------------\n",
      "#   Problem Information\n",
      "# ----------------------------------------------------------\n",
      "Problem: \n",
      "- Name: x11533_copy\n",
      "  Lower bound: 26869545735.775322\n",
      "  Upper bound: 26869545735.775322\n",
      "  Number of objectives: 1\n",
      "  Number of constraints: 23812\n",
      "  Number of variables: 11533\n",
      "  Number of binary variables: 0\n",
      "  Number of integer variables: 0\n",
      "  Number of continuous variables: 11533\n",
      "  Number of nonzeros: 49845\n",
      "  Sense: minimize\n",
      "# ----------------------------------------------------------\n",
      "#   Solver Information\n",
      "# ----------------------------------------------------------\n",
      "Solver: \n",
      "- Status: ok\n",
      "  Return code: 0\n",
      "  Message: Model was solved to optimality (subject to tolerances), and an optimal solution is available.\n",
      "  Termination condition: optimal\n",
      "  Termination message: Model was solved to optimality (subject to tolerances), and an optimal solution is available.\n",
      "  Wall time: 0.45307350158691406\n",
      "  Error rc: 0\n",
      "  Time: 0.8749361038208008\n",
      "# ----------------------------------------------------------\n",
      "#   Solution Information\n",
      "# ----------------------------------------------------------\n",
      "Solution: \n",
      "- number of solutions: 0\n",
      "  number of solutions displayed: 0\n"
     ]
    },
    {
     "name": "stderr",
     "output_type": "stream",
     "text": [
      "INFO:pypsa.opf:Solving model using gurobi\n"
     ]
    },
    {
     "name": "stdout",
     "output_type": "stream",
     "text": [
      "27643547102.18967\n",
      " wind constraint\n",
      "generator_p_nom[wind 0] + generator_p_nom[wind 1] + generator_p_nom[wind 2]  ==  302257.17073752166\n",
      " solar constraint\n",
      "generator_p_nom[solar 0] + generator_p_nom[solar 1] + generator_p_nom[solar 2]  ==  60342.69340454546\n"
     ]
    },
    {
     "name": "stderr",
     "output_type": "stream",
     "text": [
      "INFO:pypsa.opf:Optimization successful\n",
      "INFO:pypsa.opf:Building pyomo model using `angles` formulation\n"
     ]
    },
    {
     "name": "stdout",
     "output_type": "stream",
     "text": [
      "# ==========================================================\n",
      "# = Solver Results                                         =\n",
      "# ==========================================================\n",
      "# ----------------------------------------------------------\n",
      "#   Problem Information\n",
      "# ----------------------------------------------------------\n",
      "Problem: \n",
      "- Name: x11533_copy\n",
      "  Lower bound: 27612616667.85859\n",
      "  Upper bound: 27612616667.85859\n",
      "  Number of objectives: 1\n",
      "  Number of constraints: 23812\n",
      "  Number of variables: 11533\n",
      "  Number of binary variables: 0\n",
      "  Number of integer variables: 0\n",
      "  Number of continuous variables: 11533\n",
      "  Number of nonzeros: 49845\n",
      "  Sense: minimize\n",
      "# ----------------------------------------------------------\n",
      "#   Solver Information\n",
      "# ----------------------------------------------------------\n",
      "Solver: \n",
      "- Status: ok\n",
      "  Return code: 0\n",
      "  Message: Model was solved to optimality (subject to tolerances), and an optimal solution is available.\n",
      "  Termination condition: optimal\n",
      "  Termination message: Model was solved to optimality (subject to tolerances), and an optimal solution is available.\n",
      "  Wall time: 0.3749713897705078\n",
      "  Error rc: 0\n",
      "  Time: 0.7968189716339111\n",
      "# ----------------------------------------------------------\n",
      "#   Solution Information\n",
      "# ----------------------------------------------------------\n",
      "Solution: \n",
      "- number of solutions: 0\n",
      "  number of solutions displayed: 0\n"
     ]
    },
    {
     "name": "stderr",
     "output_type": "stream",
     "text": [
      "WARNING:pypsa.opf:The following generators have both investment optimisation and unit commitment:\n",
      "Index(['gas 0', 'gas 1', 'gas 2', 'wind 0', 'wind 1', 'wind 2', 'solar 0',\n",
      "       'solar 1', 'solar 2'],\n",
      "      dtype='object', name='name')\n",
      "Currently PyPSA cannot do both these functions, so PyPSA is choosing investment optimisation for these generators.\n",
      "INFO:pypsa.opf:Solving model using gurobi\n"
     ]
    },
    {
     "name": "stdout",
     "output_type": "stream",
     "text": [
      "27643547102.18967\n",
      " wind constraint\n",
      "generator_p_nom[wind 0] + generator_p_nom[wind 1] + generator_p_nom[wind 2]  ==  302257.17073752166\n",
      " solar constraint\n",
      "generator_p_nom[solar 0] + generator_p_nom[solar 1] + generator_p_nom[solar 2]  ==  13409.487423232325\n"
     ]
    },
    {
     "name": "stderr",
     "output_type": "stream",
     "text": [
      "INFO:pypsa.opf:Optimization successful\n"
     ]
    },
    {
     "name": "stdout",
     "output_type": "stream",
     "text": [
      "# ==========================================================\n",
      "# = Solver Results                                         =\n",
      "# ==========================================================\n",
      "# ----------------------------------------------------------\n",
      "#   Problem Information\n",
      "# ----------------------------------------------------------\n",
      "Problem: \n",
      "- Name: x11533_copy\n",
      "  Lower bound: 25851878157.669918\n",
      "  Upper bound: 25851878157.669918\n",
      "  Number of objectives: 1\n",
      "  Number of constraints: 23812\n",
      "  Number of variables: 11533\n",
      "  Number of binary variables: 0\n",
      "  Number of integer variables: 0\n",
      "  Number of continuous variables: 11533\n",
      "  Number of nonzeros: 49845\n",
      "  Sense: minimize\n",
      "# ----------------------------------------------------------\n",
      "#   Solver Information\n",
      "# ----------------------------------------------------------\n",
      "Solver: \n",
      "- Status: ok\n",
      "  Return code: 0\n",
      "  Message: Model was solved to optimality (subject to tolerances), and an optimal solution is available.\n",
      "  Termination condition: optimal\n",
      "  Termination message: Model was solved to optimality (subject to tolerances), and an optimal solution is available.\n",
      "  Wall time: 0.4530925750732422\n",
      "  Error rc: 0\n",
      "  Time: 0.8749117851257324\n",
      "# ----------------------------------------------------------\n",
      "#   Solution Information\n",
      "# ----------------------------------------------------------\n",
      "Solution: \n",
      "- number of solutions: 0\n",
      "  number of solutions displayed: 0\n"
     ]
    },
    {
     "name": "stderr",
     "output_type": "stream",
     "text": [
      "INFO:pypsa.opf:Building pyomo model using `angles` formulation\n",
      "WARNING:pypsa.opf:The following generators have both investment optimisation and unit commitment:\n",
      "Index(['gas 0', 'gas 1', 'gas 2', 'wind 0', 'wind 1', 'wind 2', 'solar 0',\n",
      "       'solar 1', 'solar 2'],\n",
      "      dtype='object', name='name')\n",
      "Currently PyPSA cannot do both these functions, so PyPSA is choosing investment optimisation for these generators.\n",
      "INFO:pypsa.opf:Solving model using gurobi\n"
     ]
    },
    {
     "name": "stdout",
     "output_type": "stream",
     "text": [
      "27643547102.18967\n",
      " wind constraint\n",
      "generator_p_nom[wind 0] + generator_p_nom[wind 1] + generator_p_nom[wind 2]  ==  302257.17073752166\n",
      " solar constraint\n",
      "generator_p_nom[solar 0] + generator_p_nom[solar 1] + generator_p_nom[solar 2]  ==  6704.743711616163\n"
     ]
    },
    {
     "name": "stderr",
     "output_type": "stream",
     "text": [
      "INFO:pypsa.opf:Optimization successful\n",
      "INFO:pypsa.opf:Building pyomo model using `angles` formulation\n",
      "WARNING:pypsa.opf:The following generators have both investment optimisation and unit commitment:\n",
      "Index(['gas 0', 'gas 1', 'gas 2', 'wind 0', 'wind 1', 'wind 2', 'solar 0',\n",
      "       'solar 1', 'solar 2'],\n",
      "      dtype='object', name='name')\n",
      "Currently PyPSA cannot do both these functions, so PyPSA is choosing investment optimisation for these generators.\n"
     ]
    },
    {
     "name": "stdout",
     "output_type": "stream",
     "text": [
      "# ==========================================================\n",
      "# = Solver Results                                         =\n",
      "# ==========================================================\n",
      "# ----------------------------------------------------------\n",
      "#   Problem Information\n",
      "# ----------------------------------------------------------\n",
      "Problem: \n",
      "- Name: x11533_copy\n",
      "  Lower bound: 25601376502.215385\n",
      "  Upper bound: 25601376502.215385\n",
      "  Number of objectives: 1\n",
      "  Number of constraints: 23812\n",
      "  Number of variables: 11533\n",
      "  Number of binary variables: 0\n",
      "  Number of integer variables: 0\n",
      "  Number of continuous variables: 11533\n",
      "  Number of nonzeros: 49845\n",
      "  Sense: minimize\n",
      "# ----------------------------------------------------------\n",
      "#   Solver Information\n",
      "# ----------------------------------------------------------\n",
      "Solver: \n",
      "- Status: ok\n",
      "  Return code: 0\n",
      "  Message: Model was solved to optimality (subject to tolerances), and an optimal solution is available.\n",
      "  Termination condition: optimal\n",
      "  Termination message: Model was solved to optimality (subject to tolerances), and an optimal solution is available.\n",
      "  Wall time: 0.4374504089355469\n",
      "  Error rc: 0\n",
      "  Time: 0.8437042236328125\n",
      "# ----------------------------------------------------------\n",
      "#   Solution Information\n",
      "# ----------------------------------------------------------\n",
      "Solution: \n",
      "- number of solutions: 0\n",
      "  number of solutions displayed: 0\n"
     ]
    },
    {
     "name": "stderr",
     "output_type": "stream",
     "text": [
      "INFO:pypsa.opf:Solving model using gurobi\n"
     ]
    },
    {
     "name": "stdout",
     "output_type": "stream",
     "text": [
      "27643547102.18967\n",
      " wind constraint\n",
      "generator_p_nom[wind 0] + generator_p_nom[wind 1] + generator_p_nom[wind 2]  ==  302257.17073752166\n"
     ]
    },
    {
     "name": "stderr",
     "output_type": "stream",
     "text": [
      "INFO:pypsa.opf:Optimization successful\n",
      "INFO:pypsa.opf:Building pyomo model using `angles` formulation\n",
      "WARNING:pypsa.opf:The following generators have both investment optimisation and unit commitment:\n",
      "Index(['gas 0', 'gas 1', 'gas 2', 'wind 0', 'wind 1', 'wind 2', 'solar 0',\n",
      "       'solar 1', 'solar 2'],\n",
      "      dtype='object', name='name')\n",
      "Currently PyPSA cannot do both these functions, so PyPSA is choosing investment optimisation for these generators.\n"
     ]
    },
    {
     "name": "stdout",
     "output_type": "stream",
     "text": [
      "# ==========================================================\n",
      "# = Solver Results                                         =\n",
      "# ==========================================================\n",
      "# ----------------------------------------------------------\n",
      "#   Problem Information\n",
      "# ----------------------------------------------------------\n",
      "Problem: \n",
      "- Name: x11533_copy\n",
      "  Lower bound: 25351903071.373405\n",
      "  Upper bound: 25351903071.373405\n",
      "  Number of objectives: 1\n",
      "  Number of constraints: 23811\n",
      "  Number of variables: 11533\n",
      "  Number of binary variables: 0\n",
      "  Number of integer variables: 0\n",
      "  Number of continuous variables: 11533\n",
      "  Number of nonzeros: 49842\n",
      "  Sense: minimize\n",
      "# ----------------------------------------------------------\n",
      "#   Solver Information\n",
      "# ----------------------------------------------------------\n",
      "Solver: \n",
      "- Status: ok\n",
      "  Return code: 0\n",
      "  Message: Model was solved to optimality (subject to tolerances), and an optimal solution is available.\n",
      "  Termination condition: optimal\n",
      "  Termination message: Model was solved to optimality (subject to tolerances), and an optimal solution is available.\n",
      "  Wall time: 0.4062213897705078\n",
      "  Error rc: 0\n",
      "  Time: 0.8436803817749023\n",
      "# ----------------------------------------------------------\n",
      "#   Solution Information\n",
      "# ----------------------------------------------------------\n",
      "Solution: \n",
      "- number of solutions: 0\n",
      "  number of solutions displayed: 0\n"
     ]
    },
    {
     "name": "stderr",
     "output_type": "stream",
     "text": [
      "INFO:pypsa.opf:Solving model using gurobi\n"
     ]
    },
    {
     "name": "stdout",
     "output_type": "stream",
     "text": [
      "27643547102.18967\n",
      " wind constraint\n",
      "generator_p_nom[wind 0] + generator_p_nom[wind 1] + generator_p_nom[wind 2]  ==  302257.17073752166\n",
      " solar constraint\n",
      "generator_p_nom[solar 0] + generator_p_nom[solar 1] + generator_p_nom[solar 2]  ==  67047.43711616163\n"
     ]
    },
    {
     "name": "stderr",
     "output_type": "stream",
     "text": [
      "WARNING:pyomo.core:Loading a SolverResults object with a warning status into model=Linear Optimal Power Flow;\n",
      "    message from solver=Problem proven to be infeasible or unbounded.\n",
      "ERROR:pypsa.opf:Optimisation failed with status warning and terminal condition infeasibleOrUnbounded\n",
      "INFO:pypsa.opf:Building pyomo model using `angles` formulation\n",
      "WARNING:pypsa.opf:The following generators have both investment optimisation and unit commitment:\n",
      "Index(['gas 0', 'gas 1', 'gas 2', 'wind 0', 'wind 1', 'wind 2', 'solar 0',\n",
      "       'solar 1', 'solar 2'],\n",
      "      dtype='object', name='name')\n",
      "Currently PyPSA cannot do both these functions, so PyPSA is choosing investment optimisation for these generators.\n"
     ]
    },
    {
     "name": "stdout",
     "output_type": "stream",
     "text": [
      "WARNING: Loading a SolverResults object with a warning status into\n",
      "    model=Linear Optimal Power Flow;\n",
      "        message from solver=Problem proven to be infeasible or unbounded.\n",
      "# ==========================================================\n",
      "# = Solver Results                                         =\n",
      "# ==========================================================\n",
      "# ----------------------------------------------------------\n",
      "#   Problem Information\n",
      "# ----------------------------------------------------------\n",
      "Problem: \n",
      "- Name: x11533\n",
      "  Lower bound: -inf\n",
      "  Upper bound: inf\n",
      "  Number of objectives: 1\n",
      "  Number of constraints: 23812\n",
      "  Number of variables: 11533\n",
      "  Number of binary variables: 0\n",
      "  Number of integer variables: 0\n",
      "  Number of continuous variables: 11533\n",
      "  Number of nonzeros: 49845\n",
      "  Sense: minimize\n",
      "# ----------------------------------------------------------\n",
      "#   Solver Information\n",
      "# ----------------------------------------------------------\n",
      "Solver: \n",
      "- Status: warning\n",
      "  Return code: 0\n",
      "  Message: Problem proven to be infeasible or unbounded.\n",
      "  Termination condition: infeasibleOrUnbounded\n",
      "  Termination message: Problem proven to be infeasible or unbounded.\n",
      "  Wall time: 0.32810020446777344\n",
      "  Error rc: 0\n",
      "  Time: 0.6405587196350098\n"
     ]
    },
    {
     "name": "stderr",
     "output_type": "stream",
     "text": [
      "INFO:pypsa.opf:Solving model using gurobi\n"
     ]
    },
    {
     "name": "stdout",
     "output_type": "stream",
     "text": [
      "27643547102.18967\n",
      " wind constraint\n",
      "generator_p_nom[wind 0] + generator_p_nom[wind 1] + generator_p_nom[wind 2]  ==  302257.17073752166\n",
      " solar constraint\n",
      "generator_p_nom[solar 0] + generator_p_nom[solar 1] + generator_p_nom[solar 2]  ==  53637.9496929293\n"
     ]
    },
    {
     "name": "stderr",
     "output_type": "stream",
     "text": [
      "INFO:pypsa.opf:Optimization successful\n",
      "INFO:pypsa.opf:Building pyomo model using `angles` formulation\n",
      "WARNING:pypsa.opf:The following generators have both investment optimisation and unit commitment:\n",
      "Index(['gas 0', 'gas 1', 'gas 2', 'wind 0', 'wind 1', 'wind 2', 'solar 0',\n",
      "       'solar 1', 'solar 2'],\n",
      "      dtype='object', name='name')\n",
      "Currently PyPSA cannot do both these functions, so PyPSA is choosing investment optimisation for these generators.\n"
     ]
    },
    {
     "name": "stdout",
     "output_type": "stream",
     "text": [
      "# ==========================================================\n",
      "# = Solver Results                                         =\n",
      "# ==========================================================\n",
      "# ----------------------------------------------------------\n",
      "#   Problem Information\n",
      "# ----------------------------------------------------------\n",
      "Problem: \n",
      "- Name: x11533_copy\n",
      "  Lower bound: 27360845474.714462\n",
      "  Upper bound: 27360845474.714462\n",
      "  Number of objectives: 1\n",
      "  Number of constraints: 23812\n",
      "  Number of variables: 11533\n",
      "  Number of binary variables: 0\n",
      "  Number of integer variables: 0\n",
      "  Number of continuous variables: 11533\n",
      "  Number of nonzeros: 49845\n",
      "  Sense: minimize\n",
      "# ----------------------------------------------------------\n",
      "#   Solver Information\n",
      "# ----------------------------------------------------------\n",
      "Solver: \n",
      "- Status: ok\n",
      "  Return code: 0\n",
      "  Message: Model was solved to optimality (subject to tolerances), and an optimal solution is available.\n",
      "  Termination condition: optimal\n",
      "  Termination message: Model was solved to optimality (subject to tolerances), and an optimal solution is available.\n",
      "  Wall time: 0.4374561309814453\n",
      "  Error rc: 0\n",
      "  Time: 0.8593294620513916\n",
      "# ----------------------------------------------------------\n",
      "#   Solution Information\n",
      "# ----------------------------------------------------------\n",
      "Solution: \n",
      "- number of solutions: 0\n",
      "  number of solutions displayed: 0\n"
     ]
    },
    {
     "name": "stderr",
     "output_type": "stream",
     "text": [
      "INFO:pypsa.opf:Solving model using gurobi\n"
     ]
    },
    {
     "name": "stdout",
     "output_type": "stream",
     "text": [
      "27643547102.18967\n",
      " wind constraint\n",
      "generator_p_nom[wind 0] + generator_p_nom[wind 1] + generator_p_nom[wind 2]  ==  302257.17073752166\n",
      " solar constraint\n",
      "generator_p_nom[solar 0] + generator_p_nom[solar 1] + generator_p_nom[solar 2]  ==  46933.20598131314\n"
     ]
    },
    {
     "name": "stderr",
     "output_type": "stream",
     "text": [
      "INFO:pypsa.opf:Optimization successful\n",
      "INFO:pypsa.opf:Building pyomo model using `angles` formulation\n"
     ]
    },
    {
     "name": "stdout",
     "output_type": "stream",
     "text": [
      "# ==========================================================\n",
      "# = Solver Results                                         =\n",
      "# ==========================================================\n",
      "# ----------------------------------------------------------\n",
      "#   Problem Information\n",
      "# ----------------------------------------------------------\n",
      "Problem: \n",
      "- Name: x11533_copy\n",
      "  Lower bound: 27109081921.85308\n",
      "  Upper bound: 27109081921.85308\n",
      "  Number of objectives: 1\n",
      "  Number of constraints: 23812\n",
      "  Number of variables: 11533\n",
      "  Number of binary variables: 0\n",
      "  Number of integer variables: 0\n",
      "  Number of continuous variables: 11533\n",
      "  Number of nonzeros: 49845\n",
      "  Sense: minimize\n",
      "# ----------------------------------------------------------\n",
      "#   Solver Information\n",
      "# ----------------------------------------------------------\n",
      "Solver: \n",
      "- Status: ok\n",
      "  Return code: 0\n",
      "  Message: Model was solved to optimality (subject to tolerances), and an optimal solution is available.\n",
      "  Termination condition: optimal\n",
      "  Termination message: Model was solved to optimality (subject to tolerances), and an optimal solution is available.\n",
      "  Wall time: 0.40622520446777344\n",
      "  Error rc: 0\n",
      "  Time: 0.8436868190765381\n",
      "# ----------------------------------------------------------\n",
      "#   Solution Information\n",
      "# ----------------------------------------------------------\n",
      "Solution: \n",
      "- number of solutions: 0\n",
      "  number of solutions displayed: 0\n"
     ]
    },
    {
     "name": "stderr",
     "output_type": "stream",
     "text": [
      "WARNING:pypsa.opf:The following generators have both investment optimisation and unit commitment:\n",
      "Index(['gas 0', 'gas 1', 'gas 2', 'wind 0', 'wind 1', 'wind 2', 'solar 0',\n",
      "       'solar 1', 'solar 2'],\n",
      "      dtype='object', name='name')\n",
      "Currently PyPSA cannot do both these functions, so PyPSA is choosing investment optimisation for these generators.\n",
      "INFO:pypsa.opf:Solving model using gurobi\n"
     ]
    },
    {
     "name": "stdout",
     "output_type": "stream",
     "text": [
      "27643547102.18967\n",
      " wind constraint\n",
      "generator_p_nom[wind 0] + generator_p_nom[wind 1] + generator_p_nom[wind 2]  ==  302257.17073752166\n",
      " solar constraint\n",
      "generator_p_nom[solar 0] + generator_p_nom[solar 1] + generator_p_nom[solar 2]  ==  26818.97484646465\n"
     ]
    },
    {
     "name": "stderr",
     "output_type": "stream",
     "text": [
      "INFO:pypsa.opf:Optimization successful\n",
      "INFO:pypsa.opf:Building pyomo model using `angles` formulation\n"
     ]
    },
    {
     "name": "stdout",
     "output_type": "stream",
     "text": [
      "# ==========================================================\n",
      "# = Solver Results                                         =\n",
      "# ==========================================================\n",
      "# ----------------------------------------------------------\n",
      "#   Problem Information\n",
      "# ----------------------------------------------------------\n",
      "Problem: \n",
      "- Name: x11533_copy\n",
      "  Lower bound: 26354069796.90097\n",
      "  Upper bound: 26354069796.90097\n",
      "  Number of objectives: 1\n",
      "  Number of constraints: 23812\n",
      "  Number of variables: 11533\n",
      "  Number of binary variables: 0\n",
      "  Number of integer variables: 0\n",
      "  Number of continuous variables: 11533\n",
      "  Number of nonzeros: 49845\n",
      "  Sense: minimize\n",
      "# ----------------------------------------------------------\n",
      "#   Solver Information\n",
      "# ----------------------------------------------------------\n",
      "Solver: \n",
      "- Status: ok\n",
      "  Return code: 0\n",
      "  Message: Model was solved to optimality (subject to tolerances), and an optimal solution is available.\n",
      "  Termination condition: optimal\n",
      "  Termination message: Model was solved to optimality (subject to tolerances), and an optimal solution is available.\n",
      "  Wall time: 0.49996185302734375\n",
      "  Error rc: 0\n",
      "  Time: 0.9218065738677979\n",
      "# ----------------------------------------------------------\n",
      "#   Solution Information\n",
      "# ----------------------------------------------------------\n",
      "Solution: \n",
      "- number of solutions: 0\n",
      "  number of solutions displayed: 0\n"
     ]
    },
    {
     "name": "stderr",
     "output_type": "stream",
     "text": [
      "WARNING:pypsa.opf:The following generators have both investment optimisation and unit commitment:\n",
      "Index(['gas 0', 'gas 1', 'gas 2', 'wind 0', 'wind 1', 'wind 2', 'solar 0',\n",
      "       'solar 1', 'solar 2'],\n",
      "      dtype='object', name='name')\n",
      "Currently PyPSA cannot do both these functions, so PyPSA is choosing investment optimisation for these generators.\n",
      "INFO:pypsa.opf:Solving model using gurobi\n"
     ]
    },
    {
     "name": "stdout",
     "output_type": "stream",
     "text": [
      "27643547102.18967\n",
      " wind constraint\n",
      "generator_p_nom[wind 0] + generator_p_nom[wind 1] + generator_p_nom[wind 2]  ==  302257.17073752166\n",
      " solar constraint\n",
      "generator_p_nom[solar 0] + generator_p_nom[solar 1] + generator_p_nom[solar 2]  ==  33523.718558080815\n"
     ]
    },
    {
     "name": "stderr",
     "output_type": "stream",
     "text": [
      "INFO:pypsa.opf:Optimization successful\n"
     ]
    },
    {
     "name": "stdout",
     "output_type": "stream",
     "text": [
      "# ==========================================================\n",
      "# = Solver Results                                         =\n",
      "# ==========================================================\n",
      "# ----------------------------------------------------------\n",
      "#   Problem Information\n",
      "# ----------------------------------------------------------\n",
      "Problem: \n",
      "- Name: x11533_copy\n",
      "  Lower bound: 26605633182.702133\n",
      "  Upper bound: 26605633182.702133\n",
      "  Number of objectives: 1\n",
      "  Number of constraints: 23812\n",
      "  Number of variables: 11533\n",
      "  Number of binary variables: 0\n",
      "  Number of integer variables: 0\n",
      "  Number of continuous variables: 11533\n",
      "  Number of nonzeros: 49845\n",
      "  Sense: minimize\n",
      "# ----------------------------------------------------------\n",
      "#   Solver Information\n",
      "# ----------------------------------------------------------\n",
      "Solver: \n",
      "- Status: ok\n",
      "  Return code: 0\n",
      "  Message: Model was solved to optimality (subject to tolerances), and an optimal solution is available.\n",
      "  Termination condition: optimal\n",
      "  Termination message: Model was solved to optimality (subject to tolerances), and an optimal solution is available.\n",
      "  Wall time: 0.4530925750732422\n",
      "  Error rc: 0\n",
      "  Time: 0.8593072891235352\n",
      "# ----------------------------------------------------------\n",
      "#   Solution Information\n",
      "# ----------------------------------------------------------\n",
      "Solution: \n",
      "- number of solutions: 0\n",
      "  number of solutions displayed: 0\n"
     ]
    },
    {
     "name": "stderr",
     "output_type": "stream",
     "text": [
      "INFO:pypsa.opf:Building pyomo model using `angles` formulation\n",
      "WARNING:pypsa.opf:The following generators have both investment optimisation and unit commitment:\n",
      "Index(['gas 0', 'gas 1', 'gas 2', 'wind 0', 'wind 1', 'wind 2', 'solar 0',\n",
      "       'solar 1', 'solar 2'],\n",
      "      dtype='object', name='name')\n",
      "Currently PyPSA cannot do both these functions, so PyPSA is choosing investment optimisation for these generators.\n",
      "INFO:pypsa.opf:Solving model using gurobi\n"
     ]
    },
    {
     "name": "stdout",
     "output_type": "stream",
     "text": [
      "27643547102.18967\n",
      " wind constraint\n",
      "generator_p_nom[wind 0] + generator_p_nom[wind 1] + generator_p_nom[wind 2]  ==  302257.17073752166\n",
      " solar constraint\n",
      "generator_p_nom[solar 0] + generator_p_nom[solar 1] + generator_p_nom[solar 2]  ==  20114.231134848487\n"
     ]
    },
    {
     "name": "stderr",
     "output_type": "stream",
     "text": [
      "INFO:pypsa.opf:Optimization successful\n",
      "INFO:pypsa.opf:Building pyomo model using `angles` formulation\n"
     ]
    },
    {
     "name": "stdout",
     "output_type": "stream",
     "text": [
      "# ==========================================================\n",
      "# = Solver Results                                         =\n",
      "# ==========================================================\n",
      "# ----------------------------------------------------------\n",
      "#   Problem Information\n",
      "# ----------------------------------------------------------\n",
      "Problem: \n",
      "- Name: x11533_copy\n",
      "  Lower bound: 26102805235.968246\n",
      "  Upper bound: 26102805235.968246\n",
      "  Number of objectives: 1\n",
      "  Number of constraints: 23812\n",
      "  Number of variables: 11533\n",
      "  Number of binary variables: 0\n",
      "  Number of integer variables: 0\n",
      "  Number of continuous variables: 11533\n",
      "  Number of nonzeros: 49845\n",
      "  Sense: minimize\n",
      "# ----------------------------------------------------------\n",
      "#   Solver Information\n",
      "# ----------------------------------------------------------\n",
      "Solver: \n",
      "- Status: ok\n",
      "  Return code: 0\n",
      "  Message: Model was solved to optimality (subject to tolerances), and an optimal solution is available.\n",
      "  Termination condition: optimal\n",
      "  Termination message: Model was solved to optimality (subject to tolerances), and an optimal solution is available.\n",
      "  Wall time: 0.4374675750732422\n",
      "  Error rc: 0\n",
      "  Time: 0.8905596733093262\n",
      "# ----------------------------------------------------------\n",
      "#   Solution Information\n",
      "# ----------------------------------------------------------\n",
      "Solution: \n",
      "- number of solutions: 0\n",
      "  number of solutions displayed: 0\n"
     ]
    },
    {
     "name": "stderr",
     "output_type": "stream",
     "text": [
      "WARNING:pypsa.opf:The following generators have both investment optimisation and unit commitment:\n",
      "Index(['gas 0', 'gas 1', 'gas 2', 'wind 0', 'wind 1', 'wind 2', 'solar 0',\n",
      "       'solar 1', 'solar 2'],\n",
      "      dtype='object', name='name')\n",
      "Currently PyPSA cannot do both these functions, so PyPSA is choosing investment optimisation for these generators.\n",
      "INFO:pypsa.opf:Solving model using gurobi\n"
     ]
    },
    {
     "name": "stdout",
     "output_type": "stream",
     "text": [
      "27643547102.18967\n",
      " wind constraint\n",
      "generator_p_nom[wind 0] + generator_p_nom[wind 1] + generator_p_nom[wind 2]  ==  302257.17073752166\n",
      " solar constraint\n",
      "generator_p_nom[solar 0] + generator_p_nom[solar 1] + generator_p_nom[solar 2]  ==  40228.462269696975\n"
     ]
    },
    {
     "name": "stderr",
     "output_type": "stream",
     "text": [
      "INFO:pypsa.opf:Optimization successful\n",
      "INFO:pypsa.opf:Building pyomo model using `angles` formulation\n",
      "WARNING:pypsa.opf:The following generators have both investment optimisation and unit commitment:\n",
      "Index(['gas 0', 'gas 1', 'gas 2', 'wind 0', 'wind 1', 'wind 2', 'solar 0',\n",
      "       'solar 1', 'solar 2'],\n",
      "      dtype='object', name='name')\n",
      "Currently PyPSA cannot do both these functions, so PyPSA is choosing investment optimisation for these generators.\n"
     ]
    },
    {
     "name": "stdout",
     "output_type": "stream",
     "text": [
      "# ==========================================================\n",
      "# = Solver Results                                         =\n",
      "# ==========================================================\n",
      "# ----------------------------------------------------------\n",
      "#   Problem Information\n",
      "# ----------------------------------------------------------\n",
      "Problem: \n",
      "- Name: x11533_copy\n",
      "  Lower bound: 26857341178.560402\n",
      "  Upper bound: 26857341178.560402\n",
      "  Number of objectives: 1\n",
      "  Number of constraints: 23812\n",
      "  Number of variables: 11533\n",
      "  Number of binary variables: 0\n",
      "  Number of integer variables: 0\n",
      "  Number of continuous variables: 11533\n",
      "  Number of nonzeros: 49845\n",
      "  Sense: minimize\n",
      "# ----------------------------------------------------------\n",
      "#   Solver Information\n",
      "# ----------------------------------------------------------\n",
      "Solver: \n",
      "- Status: ok\n",
      "  Return code: 0\n",
      "  Message: Model was solved to optimality (subject to tolerances), and an optimal solution is available.\n",
      "  Termination condition: optimal\n",
      "  Termination message: Model was solved to optimality (subject to tolerances), and an optimal solution is available.\n",
      "  Wall time: 0.3749713897705078\n",
      "  Error rc: 0\n",
      "  Time: 0.7968118190765381\n",
      "# ----------------------------------------------------------\n",
      "#   Solution Information\n",
      "# ----------------------------------------------------------\n",
      "Solution: \n",
      "- number of solutions: 0\n",
      "  number of solutions displayed: 0\n"
     ]
    },
    {
     "name": "stderr",
     "output_type": "stream",
     "text": [
      "INFO:pypsa.opf:Solving model using gurobi\n"
     ]
    },
    {
     "name": "stdout",
     "output_type": "stream",
     "text": [
      "27643547102.18967\n",
      " wind constraint\n",
      "generator_p_nom[wind 0] + generator_p_nom[wind 1] + generator_p_nom[wind 2]  ==  297973.79162090394\n",
      " solar constraint\n",
      "generator_p_nom[solar 0] + generator_p_nom[solar 1] + generator_p_nom[solar 2]  ==  40228.462269696975\n"
     ]
    },
    {
     "name": "stderr",
     "output_type": "stream",
     "text": [
      "INFO:pypsa.opf:Optimization successful\n",
      "INFO:pypsa.opf:Building pyomo model using `angles` formulation\n"
     ]
    },
    {
     "name": "stdout",
     "output_type": "stream",
     "text": [
      "# ==========================================================\n",
      "# = Solver Results                                         =\n",
      "# ==========================================================\n",
      "# ----------------------------------------------------------\n",
      "#   Problem Information\n",
      "# ----------------------------------------------------------\n",
      "Problem: \n",
      "- Name: x11533_copy\n",
      "  Lower bound: 26665796347.010468\n",
      "  Upper bound: 26665796347.010468\n",
      "  Number of objectives: 1\n",
      "  Number of constraints: 23812\n",
      "  Number of variables: 11533\n",
      "  Number of binary variables: 0\n",
      "  Number of integer variables: 0\n",
      "  Number of continuous variables: 11533\n",
      "  Number of nonzeros: 49845\n",
      "  Sense: minimize\n",
      "# ----------------------------------------------------------\n",
      "#   Solver Information\n",
      "# ----------------------------------------------------------\n",
      "Solver: \n",
      "- Status: ok\n",
      "  Return code: 0\n",
      "  Message: Model was solved to optimality (subject to tolerances), and an optimal solution is available.\n",
      "  Termination condition: optimal\n",
      "  Termination message: Model was solved to optimality (subject to tolerances), and an optimal solution is available.\n",
      "  Wall time: 0.3749523162841797\n",
      "  Error rc: 0\n",
      "  Time: 0.8124358654022217\n",
      "# ----------------------------------------------------------\n",
      "#   Solution Information\n",
      "# ----------------------------------------------------------\n",
      "Solution: \n",
      "- number of solutions: 0\n",
      "  number of solutions displayed: 0\n"
     ]
    },
    {
     "name": "stderr",
     "output_type": "stream",
     "text": [
      "WARNING:pypsa.opf:The following generators have both investment optimisation and unit commitment:\n",
      "Index(['gas 0', 'gas 1', 'gas 2', 'wind 0', 'wind 1', 'wind 2', 'solar 0',\n",
      "       'solar 1', 'solar 2'],\n",
      "      dtype='object', name='name')\n",
      "Currently PyPSA cannot do both these functions, so PyPSA is choosing investment optimisation for these generators.\n",
      "INFO:pypsa.opf:Solving model using gurobi\n"
     ]
    },
    {
     "name": "stdout",
     "output_type": "stream",
     "text": [
      "27643547102.18967\n",
      " wind constraint\n",
      "generator_p_nom[wind 0] + generator_p_nom[wind 1] + generator_p_nom[wind 2]  ==  297973.79162090394\n",
      " solar constraint\n",
      "generator_p_nom[solar 0] + generator_p_nom[solar 1] + generator_p_nom[solar 2]  ==  53637.9496929293\n"
     ]
    },
    {
     "name": "stderr",
     "output_type": "stream",
     "text": [
      "INFO:pypsa.opf:Optimization successful\n",
      "INFO:pypsa.opf:Building pyomo model using `angles` formulation\n",
      "WARNING:pypsa.opf:The following generators have both investment optimisation and unit commitment:\n",
      "Index(['gas 0', 'gas 1', 'gas 2', 'wind 0', 'wind 1', 'wind 2', 'solar 0',\n",
      "       'solar 1', 'solar 2'],\n",
      "      dtype='object', name='name')\n",
      "Currently PyPSA cannot do both these functions, so PyPSA is choosing investment optimisation for these generators.\n"
     ]
    },
    {
     "name": "stdout",
     "output_type": "stream",
     "text": [
      "# ==========================================================\n",
      "# = Solver Results                                         =\n",
      "# ==========================================================\n",
      "# ----------------------------------------------------------\n",
      "#   Problem Information\n",
      "# ----------------------------------------------------------\n",
      "Problem: \n",
      "- Name: x11533_copy\n",
      "  Lower bound: 27169343533.439224\n",
      "  Upper bound: 27169343533.439224\n",
      "  Number of objectives: 1\n",
      "  Number of constraints: 23812\n",
      "  Number of variables: 11533\n",
      "  Number of binary variables: 0\n",
      "  Number of integer variables: 0\n",
      "  Number of continuous variables: 11533\n",
      "  Number of nonzeros: 49845\n",
      "  Sense: minimize\n",
      "# ----------------------------------------------------------\n",
      "#   Solver Information\n",
      "# ----------------------------------------------------------\n",
      "Solver: \n",
      "- Status: ok\n",
      "  Return code: 0\n",
      "  Message: Model was solved to optimality (subject to tolerances), and an optimal solution is available.\n",
      "  Termination condition: optimal\n",
      "  Termination message: Model was solved to optimality (subject to tolerances), and an optimal solution is available.\n",
      "  Wall time: 0.4062042236328125\n",
      "  Error rc: 0\n",
      "  Time: 0.8280477523803711\n",
      "# ----------------------------------------------------------\n",
      "#   Solution Information\n",
      "# ----------------------------------------------------------\n",
      "Solution: \n",
      "- number of solutions: 0\n",
      "  number of solutions displayed: 0\n"
     ]
    },
    {
     "name": "stderr",
     "output_type": "stream",
     "text": [
      "INFO:pypsa.opf:Solving model using gurobi\n"
     ]
    },
    {
     "name": "stdout",
     "output_type": "stream",
     "text": [
      "27643547102.18967\n",
      " wind constraint\n",
      "generator_p_nom[wind 0] + generator_p_nom[wind 1] + generator_p_nom[wind 2]  ==  297973.79162090394\n",
      " solar constraint\n",
      "generator_p_nom[solar 0] + generator_p_nom[solar 1] + generator_p_nom[solar 2]  ==  26818.97484646465\n"
     ]
    },
    {
     "name": "stderr",
     "output_type": "stream",
     "text": [
      "INFO:pypsa.opf:Optimization successful\n",
      "INFO:pypsa.opf:Building pyomo model using `angles` formulation\n"
     ]
    },
    {
     "name": "stdout",
     "output_type": "stream",
     "text": [
      "# ==========================================================\n",
      "# = Solver Results                                         =\n",
      "# ==========================================================\n",
      "# ----------------------------------------------------------\n",
      "#   Problem Information\n",
      "# ----------------------------------------------------------\n",
      "Problem: \n",
      "- Name: x11533_copy\n",
      "  Lower bound: 26162422682.377544\n",
      "  Upper bound: 26162422682.377544\n",
      "  Number of objectives: 1\n",
      "  Number of constraints: 23812\n",
      "  Number of variables: 11533\n",
      "  Number of binary variables: 0\n",
      "  Number of integer variables: 0\n",
      "  Number of continuous variables: 11533\n",
      "  Number of nonzeros: 49845\n",
      "  Sense: minimize\n",
      "# ----------------------------------------------------------\n",
      "#   Solver Information\n",
      "# ----------------------------------------------------------\n",
      "Solver: \n",
      "- Status: ok\n",
      "  Return code: 0\n",
      "  Message: Model was solved to optimality (subject to tolerances), and an optimal solution is available.\n",
      "  Termination condition: optimal\n",
      "  Termination message: Model was solved to optimality (subject to tolerances), and an optimal solution is available.\n",
      "  Wall time: 0.421844482421875\n",
      "  Error rc: 0\n",
      "  Time: 0.9686784744262695\n",
      "# ----------------------------------------------------------\n",
      "#   Solution Information\n",
      "# ----------------------------------------------------------\n",
      "Solution: \n",
      "- number of solutions: 0\n",
      "  number of solutions displayed: 0\n"
     ]
    },
    {
     "name": "stderr",
     "output_type": "stream",
     "text": [
      "WARNING:pypsa.opf:The following generators have both investment optimisation and unit commitment:\n",
      "Index(['gas 0', 'gas 1', 'gas 2', 'wind 0', 'wind 1', 'wind 2', 'solar 0',\n",
      "       'solar 1', 'solar 2'],\n",
      "      dtype='object', name='name')\n",
      "Currently PyPSA cannot do both these functions, so PyPSA is choosing investment optimisation for these generators.\n",
      "INFO:pypsa.opf:Solving model using gurobi\n"
     ]
    },
    {
     "name": "stdout",
     "output_type": "stream",
     "text": [
      "27643547102.18967\n",
      " wind constraint\n",
      "generator_p_nom[wind 0] + generator_p_nom[wind 1] + generator_p_nom[wind 2]  ==  297973.79162090394\n",
      " solar constraint\n",
      "generator_p_nom[solar 0] + generator_p_nom[solar 1] + generator_p_nom[solar 2]  ==  46933.20598131314\n"
     ]
    },
    {
     "name": "stderr",
     "output_type": "stream",
     "text": [
      "INFO:pypsa.opf:Optimization successful\n",
      "INFO:pypsa.opf:Building pyomo model using `angles` formulation\n",
      "WARNING:pypsa.opf:The following generators have both investment optimisation and unit commitment:\n",
      "Index(['gas 0', 'gas 1', 'gas 2', 'wind 0', 'wind 1', 'wind 2', 'solar 0',\n",
      "       'solar 1', 'solar 2'],\n",
      "      dtype='object', name='name')\n",
      "Currently PyPSA cannot do both these functions, so PyPSA is choosing investment optimisation for these generators.\n"
     ]
    },
    {
     "name": "stdout",
     "output_type": "stream",
     "text": [
      "# ==========================================================\n",
      "# = Solver Results                                         =\n",
      "# ==========================================================\n",
      "# ----------------------------------------------------------\n",
      "#   Problem Information\n",
      "# ----------------------------------------------------------\n",
      "Problem: \n",
      "- Name: x11533_copy\n",
      "  Lower bound: 26917568998.238228\n",
      "  Upper bound: 26917568998.238228\n",
      "  Number of objectives: 1\n",
      "  Number of constraints: 23812\n",
      "  Number of variables: 11533\n",
      "  Number of binary variables: 0\n",
      "  Number of integer variables: 0\n",
      "  Number of continuous variables: 11533\n",
      "  Number of nonzeros: 49845\n",
      "  Sense: minimize\n",
      "# ----------------------------------------------------------\n",
      "#   Solver Information\n",
      "# ----------------------------------------------------------\n",
      "Solver: \n",
      "- Status: ok\n",
      "  Return code: 0\n",
      "  Message: Model was solved to optimality (subject to tolerances), and an optimal solution is available.\n",
      "  Termination condition: optimal\n",
      "  Termination message: Model was solved to optimality (subject to tolerances), and an optimal solution is available.\n",
      "  Wall time: 0.4218273162841797\n",
      "  Error rc: 0\n",
      "  Time: 0.8437039852142334\n",
      "# ----------------------------------------------------------\n",
      "#   Solution Information\n",
      "# ----------------------------------------------------------\n",
      "Solution: \n",
      "- number of solutions: 0\n",
      "  number of solutions displayed: 0\n"
     ]
    },
    {
     "name": "stderr",
     "output_type": "stream",
     "text": [
      "INFO:pypsa.opf:Solving model using gurobi\n"
     ]
    },
    {
     "name": "stdout",
     "output_type": "stream",
     "text": [
      "27643547102.18967\n",
      " wind constraint\n",
      "generator_p_nom[wind 0] + generator_p_nom[wind 1] + generator_p_nom[wind 2]  ==  297973.79162090394\n",
      " solar constraint\n",
      "generator_p_nom[solar 0] + generator_p_nom[solar 1] + generator_p_nom[solar 2]  ==  6704.743711616163\n"
     ]
    },
    {
     "name": "stderr",
     "output_type": "stream",
     "text": [
      "INFO:pypsa.opf:Optimization successful\n",
      "INFO:pypsa.opf:Building pyomo model using `angles` formulation\n",
      "WARNING:pypsa.opf:The following generators have both investment optimisation and unit commitment:\n",
      "Index(['gas 0', 'gas 1', 'gas 2', 'wind 0', 'wind 1', 'wind 2', 'solar 0',\n",
      "       'solar 1', 'solar 2'],\n",
      "      dtype='object', name='name')\n",
      "Currently PyPSA cannot do both these functions, so PyPSA is choosing investment optimisation for these generators.\n"
     ]
    },
    {
     "name": "stdout",
     "output_type": "stream",
     "text": [
      "# ==========================================================\n",
      "# = Solver Results                                         =\n",
      "# ==========================================================\n",
      "# ----------------------------------------------------------\n",
      "#   Problem Information\n",
      "# ----------------------------------------------------------\n",
      "Problem: \n",
      "- Name: x11533_copy\n",
      "  Lower bound: 25409451654.955463\n",
      "  Upper bound: 25409451654.955463\n",
      "  Number of objectives: 1\n",
      "  Number of constraints: 23812\n",
      "  Number of variables: 11533\n",
      "  Number of binary variables: 0\n",
      "  Number of integer variables: 0\n",
      "  Number of continuous variables: 11533\n",
      "  Number of nonzeros: 49845\n",
      "  Sense: minimize\n",
      "# ----------------------------------------------------------\n",
      "#   Solver Information\n",
      "# ----------------------------------------------------------\n",
      "Solver: \n",
      "- Status: ok\n",
      "  Return code: 0\n",
      "  Message: Model was solved to optimality (subject to tolerances), and an optimal solution is available.\n",
      "  Termination condition: optimal\n",
      "  Termination message: Model was solved to optimality (subject to tolerances), and an optimal solution is available.\n",
      "  Wall time: 0.5468349456787109\n",
      "  Error rc: 0\n",
      "  Time: 0.968698263168335\n",
      "# ----------------------------------------------------------\n",
      "#   Solution Information\n",
      "# ----------------------------------------------------------\n",
      "Solution: \n",
      "- number of solutions: 0\n",
      "  number of solutions displayed: 0\n"
     ]
    },
    {
     "name": "stderr",
     "output_type": "stream",
     "text": [
      "INFO:pypsa.opf:Solving model using gurobi\n"
     ]
    },
    {
     "name": "stdout",
     "output_type": "stream",
     "text": [
      "27643547102.18967\n",
      " wind constraint\n",
      "generator_p_nom[wind 0] + generator_p_nom[wind 1] + generator_p_nom[wind 2]  ==  297973.79162090394\n",
      " solar constraint\n",
      "generator_p_nom[solar 0] + generator_p_nom[solar 1] + generator_p_nom[solar 2]  ==  33523.718558080815\n"
     ]
    },
    {
     "name": "stderr",
     "output_type": "stream",
     "text": [
      "INFO:pypsa.opf:Optimization successful\n",
      "INFO:pypsa.opf:Building pyomo model using `angles` formulation\n",
      "WARNING:pypsa.opf:The following generators have both investment optimisation and unit commitment:\n",
      "Index(['gas 0', 'gas 1', 'gas 2', 'wind 0', 'wind 1', 'wind 2', 'solar 0',\n",
      "       'solar 1', 'solar 2'],\n",
      "      dtype='object', name='name')\n",
      "Currently PyPSA cannot do both these functions, so PyPSA is choosing investment optimisation for these generators.\n"
     ]
    },
    {
     "name": "stdout",
     "output_type": "stream",
     "text": [
      "# ==========================================================\n",
      "# = Solver Results                                         =\n",
      "# ==========================================================\n",
      "# ----------------------------------------------------------\n",
      "#   Problem Information\n",
      "# ----------------------------------------------------------\n",
      "Problem: \n",
      "- Name: x11533_copy\n",
      "  Lower bound: 26414074938.178936\n",
      "  Upper bound: 26414074938.178936\n",
      "  Number of objectives: 1\n",
      "  Number of constraints: 23812\n",
      "  Number of variables: 11533\n",
      "  Number of binary variables: 0\n",
      "  Number of integer variables: 0\n",
      "  Number of continuous variables: 11533\n",
      "  Number of nonzeros: 49845\n",
      "  Sense: minimize\n",
      "# ----------------------------------------------------------\n",
      "#   Solver Information\n",
      "# ----------------------------------------------------------\n",
      "Solver: \n",
      "- Status: ok\n",
      "  Return code: 0\n",
      "  Message: Model was solved to optimality (subject to tolerances), and an optimal solution is available.\n",
      "  Termination condition: optimal\n",
      "  Termination message: Model was solved to optimality (subject to tolerances), and an optimal solution is available.\n",
      "  Wall time: 0.4218273162841797\n",
      "  Error rc: 0\n",
      "  Time: 0.8280825614929199\n",
      "# ----------------------------------------------------------\n",
      "#   Solution Information\n",
      "# ----------------------------------------------------------\n",
      "Solution: \n",
      "- number of solutions: 0\n",
      "  number of solutions displayed: 0\n"
     ]
    },
    {
     "name": "stderr",
     "output_type": "stream",
     "text": [
      "INFO:pypsa.opf:Solving model using gurobi\n"
     ]
    },
    {
     "name": "stdout",
     "output_type": "stream",
     "text": [
      "27643547102.18967\n",
      " wind constraint\n",
      "generator_p_nom[wind 0] + generator_p_nom[wind 1] + generator_p_nom[wind 2]  ==  297973.79162090394\n",
      " solar constraint\n",
      "generator_p_nom[solar 0] + generator_p_nom[solar 1] + generator_p_nom[solar 2]  ==  20114.231134848487\n"
     ]
    },
    {
     "name": "stderr",
     "output_type": "stream",
     "text": [
      "INFO:pypsa.opf:Optimization successful\n",
      "INFO:pypsa.opf:Building pyomo model using `angles` formulation\n",
      "WARNING:pypsa.opf:The following generators have both investment optimisation and unit commitment:\n",
      "Index(['gas 0', 'gas 1', 'gas 2', 'wind 0', 'wind 1', 'wind 2', 'solar 0',\n",
      "       'solar 1', 'solar 2'],\n",
      "      dtype='object', name='name')\n",
      "Currently PyPSA cannot do both these functions, so PyPSA is choosing investment optimisation for these generators.\n"
     ]
    },
    {
     "name": "stdout",
     "output_type": "stream",
     "text": [
      "# ==========================================================\n",
      "# = Solver Results                                         =\n",
      "# ==========================================================\n",
      "# ----------------------------------------------------------\n",
      "#   Problem Information\n",
      "# ----------------------------------------------------------\n",
      "Problem: \n",
      "- Name: x11533_copy\n",
      "  Lower bound: 25910958696.216984\n",
      "  Upper bound: 25910958696.216984\n",
      "  Number of objectives: 1\n",
      "  Number of constraints: 23812\n",
      "  Number of variables: 11533\n",
      "  Number of binary variables: 0\n",
      "  Number of integer variables: 0\n",
      "  Number of continuous variables: 11533\n",
      "  Number of nonzeros: 49845\n",
      "  Sense: minimize\n",
      "# ----------------------------------------------------------\n",
      "#   Solver Information\n",
      "# ----------------------------------------------------------\n",
      "Solver: \n",
      "- Status: ok\n",
      "  Return code: 0\n",
      "  Message: Model was solved to optimality (subject to tolerances), and an optimal solution is available.\n",
      "  Termination condition: optimal\n",
      "  Termination message: Model was solved to optimality (subject to tolerances), and an optimal solution is available.\n",
      "  Wall time: 0.48433685302734375\n",
      "  Error rc: 0\n",
      "  Time: 0.9217867851257324\n",
      "# ----------------------------------------------------------\n",
      "#   Solution Information\n",
      "# ----------------------------------------------------------\n",
      "Solution: \n",
      "- number of solutions: 0\n",
      "  number of solutions displayed: 0\n"
     ]
    },
    {
     "name": "stderr",
     "output_type": "stream",
     "text": [
      "INFO:pypsa.opf:Solving model using gurobi\n"
     ]
    },
    {
     "name": "stdout",
     "output_type": "stream",
     "text": [
      "27643547102.18967\n",
      " wind constraint\n",
      "generator_p_nom[wind 0] + generator_p_nom[wind 1] + generator_p_nom[wind 2]  ==  297973.79162090394\n",
      " solar constraint\n",
      "generator_p_nom[solar 0] + generator_p_nom[solar 1] + generator_p_nom[solar 2]  ==  13409.487423232325\n"
     ]
    },
    {
     "name": "stderr",
     "output_type": "stream",
     "text": [
      "INFO:pypsa.opf:Optimization successful\n",
      "INFO:pypsa.opf:Building pyomo model using `angles` formulation\n"
     ]
    },
    {
     "name": "stdout",
     "output_type": "stream",
     "text": [
      "# ==========================================================\n",
      "# = Solver Results                                         =\n",
      "# ==========================================================\n",
      "# ----------------------------------------------------------\n",
      "#   Problem Information\n",
      "# ----------------------------------------------------------\n",
      "Problem: \n",
      "- Name: x11533_copy\n",
      "  Lower bound: 25659945693.15008\n",
      "  Upper bound: 25659945693.15008\n",
      "  Number of objectives: 1\n",
      "  Number of constraints: 23812\n",
      "  Number of variables: 11533\n",
      "  Number of binary variables: 0\n",
      "  Number of integer variables: 0\n",
      "  Number of continuous variables: 11533\n",
      "  Number of nonzeros: 49845\n",
      "  Sense: minimize\n",
      "# ----------------------------------------------------------\n",
      "#   Solver Information\n",
      "# ----------------------------------------------------------\n",
      "Solver: \n",
      "- Status: ok\n",
      "  Return code: 0\n",
      "  Message: Model was solved to optimality (subject to tolerances), and an optimal solution is available.\n",
      "  Termination condition: optimal\n",
      "  Termination message: Model was solved to optimality (subject to tolerances), and an optimal solution is available.\n",
      "  Wall time: 0.3905963897705078\n",
      "  Error rc: 0\n",
      "  Time: 0.8280694484710693\n",
      "# ----------------------------------------------------------\n",
      "#   Solution Information\n",
      "# ----------------------------------------------------------\n",
      "Solution: \n",
      "- number of solutions: 0\n",
      "  number of solutions displayed: 0\n"
     ]
    },
    {
     "name": "stderr",
     "output_type": "stream",
     "text": [
      "WARNING:pypsa.opf:The following generators have both investment optimisation and unit commitment:\n",
      "Index(['gas 0', 'gas 1', 'gas 2', 'wind 0', 'wind 1', 'wind 2', 'solar 0',\n",
      "       'solar 1', 'solar 2'],\n",
      "      dtype='object', name='name')\n",
      "Currently PyPSA cannot do both these functions, so PyPSA is choosing investment optimisation for these generators.\n",
      "INFO:pypsa.opf:Solving model using gurobi\n"
     ]
    },
    {
     "name": "stdout",
     "output_type": "stream",
     "text": [
      "27643547102.18967\n",
      " wind constraint\n",
      "generator_p_nom[wind 0] + generator_p_nom[wind 1] + generator_p_nom[wind 2]  ==  297973.79162090394\n"
     ]
    },
    {
     "name": "stderr",
     "output_type": "stream",
     "text": [
      "INFO:pypsa.opf:Optimization successful\n",
      "INFO:pypsa.opf:Building pyomo model using `angles` formulation\n"
     ]
    },
    {
     "name": "stdout",
     "output_type": "stream",
     "text": [
      "# ==========================================================\n",
      "# = Solver Results                                         =\n",
      "# ==========================================================\n",
      "# ----------------------------------------------------------\n",
      "#   Problem Information\n",
      "# ----------------------------------------------------------\n",
      "Problem: \n",
      "- Name: x11533_copy\n",
      "  Lower bound: 25160305554.67815\n",
      "  Upper bound: 25160305554.67815\n",
      "  Number of objectives: 1\n",
      "  Number of constraints: 23811\n",
      "  Number of variables: 11533\n",
      "  Number of binary variables: 0\n",
      "  Number of integer variables: 0\n",
      "  Number of continuous variables: 11533\n",
      "  Number of nonzeros: 49842\n",
      "  Sense: minimize\n",
      "# ----------------------------------------------------------\n",
      "#   Solver Information\n",
      "# ----------------------------------------------------------\n",
      "Solver: \n",
      "- Status: ok\n",
      "  Return code: 0\n",
      "  Message: Model was solved to optimality (subject to tolerances), and an optimal solution is available.\n",
      "  Termination condition: optimal\n",
      "  Termination message: Model was solved to optimality (subject to tolerances), and an optimal solution is available.\n",
      "  Wall time: 0.4218311309814453\n",
      "  Error rc: 0\n",
      "  Time: 0.8905417919158936\n",
      "# ----------------------------------------------------------\n",
      "#   Solution Information\n",
      "# ----------------------------------------------------------\n",
      "Solution: \n",
      "- number of solutions: 0\n",
      "  number of solutions displayed: 0\n"
     ]
    },
    {
     "name": "stderr",
     "output_type": "stream",
     "text": [
      "WARNING:pypsa.opf:The following generators have both investment optimisation and unit commitment:\n",
      "Index(['gas 0', 'gas 1', 'gas 2', 'wind 0', 'wind 1', 'wind 2', 'solar 0',\n",
      "       'solar 1', 'solar 2'],\n",
      "      dtype='object', name='name')\n",
      "Currently PyPSA cannot do both these functions, so PyPSA is choosing investment optimisation for these generators.\n",
      "INFO:pypsa.opf:Solving model using gurobi\n"
     ]
    },
    {
     "name": "stdout",
     "output_type": "stream",
     "text": [
      "27643547102.18967\n",
      " wind constraint\n",
      "generator_p_nom[wind 0] + generator_p_nom[wind 1] + generator_p_nom[wind 2]  ==  297973.79162090394\n",
      " solar constraint\n",
      "generator_p_nom[solar 0] + generator_p_nom[solar 1] + generator_p_nom[solar 2]  ==  60342.69340454546\n"
     ]
    },
    {
     "name": "stderr",
     "output_type": "stream",
     "text": [
      "INFO:pypsa.opf:Optimization successful\n",
      "INFO:pypsa.opf:Building pyomo model using `angles` formulation\n"
     ]
    },
    {
     "name": "stdout",
     "output_type": "stream",
     "text": [
      "# ==========================================================\n",
      "# = Solver Results                                         =\n",
      "# ==========================================================\n",
      "# ----------------------------------------------------------\n",
      "#   Problem Information\n",
      "# ----------------------------------------------------------\n",
      "Problem: \n",
      "- Name: x11533_copy\n",
      "  Lower bound: 27421118068.640205\n",
      "  Upper bound: 27421118068.640205\n",
      "  Number of objectives: 1\n",
      "  Number of constraints: 23812\n",
      "  Number of variables: 11533\n",
      "  Number of binary variables: 0\n",
      "  Number of integer variables: 0\n",
      "  Number of continuous variables: 11533\n",
      "  Number of nonzeros: 49845\n",
      "  Sense: minimize\n",
      "# ----------------------------------------------------------\n",
      "#   Solver Information\n",
      "# ----------------------------------------------------------\n",
      "Solver: \n",
      "- Status: ok\n",
      "  Return code: 0\n",
      "  Message: Model was solved to optimality (subject to tolerances), and an optimal solution is available.\n",
      "  Termination condition: optimal\n",
      "  Termination message: Model was solved to optimality (subject to tolerances), and an optimal solution is available.\n",
      "  Wall time: 0.4062213897705078\n",
      "  Error rc: 0\n",
      "  Time: 0.8280825614929199\n",
      "# ----------------------------------------------------------\n",
      "#   Solution Information\n",
      "# ----------------------------------------------------------\n",
      "Solution: \n",
      "- number of solutions: 0\n",
      "  number of solutions displayed: 0\n"
     ]
    },
    {
     "name": "stderr",
     "output_type": "stream",
     "text": [
      "WARNING:pypsa.opf:The following generators have both investment optimisation and unit commitment:\n",
      "Index(['gas 0', 'gas 1', 'gas 2', 'wind 0', 'wind 1', 'wind 2', 'solar 0',\n",
      "       'solar 1', 'solar 2'],\n",
      "      dtype='object', name='name')\n",
      "Currently PyPSA cannot do both these functions, so PyPSA is choosing investment optimisation for these generators.\n",
      "INFO:pypsa.opf:Solving model using gurobi\n"
     ]
    },
    {
     "name": "stdout",
     "output_type": "stream",
     "text": [
      "27643547102.18967\n",
      " wind constraint\n",
      "generator_p_nom[wind 0] + generator_p_nom[wind 1] + generator_p_nom[wind 2]  ==  297973.79162090394\n",
      " solar constraint\n",
      "generator_p_nom[solar 0] + generator_p_nom[solar 1] + generator_p_nom[solar 2]  ==  67047.43711616163\n"
     ]
    },
    {
     "name": "stderr",
     "output_type": "stream",
     "text": [
      "WARNING:pyomo.core:Loading a SolverResults object with a warning status into model=Linear Optimal Power Flow;\n",
      "    message from solver=Problem proven to be infeasible or unbounded.\n",
      "ERROR:pypsa.opf:Optimisation failed with status warning and terminal condition infeasibleOrUnbounded\n",
      "INFO:pypsa.opf:Building pyomo model using `angles` formulation\n",
      "WARNING:pypsa.opf:The following generators have both investment optimisation and unit commitment:\n",
      "Index(['gas 0', 'gas 1', 'gas 2', 'wind 0', 'wind 1', 'wind 2', 'solar 0',\n",
      "       'solar 1', 'solar 2'],\n",
      "      dtype='object', name='name')\n",
      "Currently PyPSA cannot do both these functions, so PyPSA is choosing investment optimisation for these generators.\n"
     ]
    },
    {
     "name": "stdout",
     "output_type": "stream",
     "text": [
      "WARNING: Loading a SolverResults object with a warning status into\n",
      "    model=Linear Optimal Power Flow;\n",
      "        message from solver=Problem proven to be infeasible or unbounded.\n",
      "# ==========================================================\n",
      "# = Solver Results                                         =\n",
      "# ==========================================================\n",
      "# ----------------------------------------------------------\n",
      "#   Problem Information\n",
      "# ----------------------------------------------------------\n",
      "Problem: \n",
      "- Name: x11533\n",
      "  Lower bound: -inf\n",
      "  Upper bound: inf\n",
      "  Number of objectives: 1\n",
      "  Number of constraints: 23812\n",
      "  Number of variables: 11533\n",
      "  Number of binary variables: 0\n",
      "  Number of integer variables: 0\n",
      "  Number of continuous variables: 11533\n",
      "  Number of nonzeros: 49845\n",
      "  Sense: minimize\n",
      "# ----------------------------------------------------------\n",
      "#   Solver Information\n",
      "# ----------------------------------------------------------\n",
      "Solver: \n",
      "- Status: warning\n",
      "  Return code: 0\n",
      "  Message: Problem proven to be infeasible or unbounded.\n",
      "  Termination condition: infeasibleOrUnbounded\n",
      "  Termination message: Problem proven to be infeasible or unbounded.\n",
      "  Wall time: 0.421844482421875\n",
      "  Error rc: 0\n",
      "  Time: 0.7186760902404785\n"
     ]
    },
    {
     "name": "stderr",
     "output_type": "stream",
     "text": [
      "INFO:pypsa.opf:Solving model using gurobi\n"
     ]
    },
    {
     "name": "stdout",
     "output_type": "stream",
     "text": [
      "27643547102.18967\n",
      " wind constraint\n",
      "generator_p_nom[wind 0] + generator_p_nom[wind 1] + generator_p_nom[wind 2]  ==  293690.4125042862\n",
      " solar constraint\n",
      "generator_p_nom[solar 0] + generator_p_nom[solar 1] + generator_p_nom[solar 2]  ==  33523.718558080815\n"
     ]
    },
    {
     "name": "stderr",
     "output_type": "stream",
     "text": [
      "INFO:pypsa.opf:Optimization successful\n",
      "INFO:pypsa.opf:Building pyomo model using `angles` formulation\n",
      "WARNING:pypsa.opf:The following generators have both investment optimisation and unit commitment:\n",
      "Index(['gas 0', 'gas 1', 'gas 2', 'wind 0', 'wind 1', 'wind 2', 'solar 0',\n",
      "       'solar 1', 'solar 2'],\n",
      "      dtype='object', name='name')\n",
      "Currently PyPSA cannot do both these functions, so PyPSA is choosing investment optimisation for these generators.\n"
     ]
    },
    {
     "name": "stdout",
     "output_type": "stream",
     "text": [
      "# ==========================================================\n",
      "# = Solver Results                                         =\n",
      "# ==========================================================\n",
      "# ----------------------------------------------------------\n",
      "#   Problem Information\n",
      "# ----------------------------------------------------------\n",
      "Problem: \n",
      "- Name: x11533_copy\n",
      "  Lower bound: 26558600682.944855\n",
      "  Upper bound: 26558600682.944855\n",
      "  Number of objectives: 1\n",
      "  Number of constraints: 23812\n",
      "  Number of variables: 11533\n",
      "  Number of binary variables: 0\n",
      "  Number of integer variables: 0\n",
      "  Number of continuous variables: 11533\n",
      "  Number of nonzeros: 49845\n",
      "  Sense: minimize\n",
      "# ----------------------------------------------------------\n",
      "#   Solver Information\n",
      "# ----------------------------------------------------------\n",
      "Solver: \n",
      "- Status: ok\n",
      "  Return code: 0\n",
      "  Message: Model was solved to optimality (subject to tolerances), and an optimal solution is available.\n",
      "  Termination condition: optimal\n",
      "  Termination message: Model was solved to optimality (subject to tolerances), and an optimal solution is available.\n",
      "  Wall time: 0.45308685302734375\n",
      "  Error rc: 0\n",
      "  Time: 0.8749454021453857\n",
      "# ----------------------------------------------------------\n",
      "#   Solution Information\n",
      "# ----------------------------------------------------------\n",
      "Solution: \n",
      "- number of solutions: 0\n",
      "  number of solutions displayed: 0\n"
     ]
    },
    {
     "name": "stderr",
     "output_type": "stream",
     "text": [
      "INFO:pypsa.opf:Solving model using gurobi\n"
     ]
    },
    {
     "name": "stdout",
     "output_type": "stream",
     "text": [
      "27643547102.18967\n",
      " wind constraint\n",
      "generator_p_nom[wind 0] + generator_p_nom[wind 1] + generator_p_nom[wind 2]  ==  293690.4125042862\n",
      " solar constraint\n",
      "generator_p_nom[solar 0] + generator_p_nom[solar 1] + generator_p_nom[solar 2]  ==  40228.462269696975\n"
     ]
    },
    {
     "name": "stderr",
     "output_type": "stream",
     "text": [
      "INFO:pypsa.opf:Optimization successful\n"
     ]
    },
    {
     "name": "stdout",
     "output_type": "stream",
     "text": [
      "# ==========================================================\n",
      "# = Solver Results                                         =\n",
      "# ==========================================================\n",
      "# ----------------------------------------------------------\n",
      "#   Problem Information\n",
      "# ----------------------------------------------------------\n",
      "Problem: \n",
      "- Name: x11533_copy\n",
      "  Lower bound: 26810279591.866924\n",
      "  Upper bound: 26810279591.866924\n",
      "  Number of objectives: 1\n",
      "  Number of constraints: 23812\n",
      "  Number of variables: 11533\n",
      "  Number of binary variables: 0\n",
      "  Number of integer variables: 0\n",
      "  Number of continuous variables: 11533\n",
      "  Number of nonzeros: 49845\n",
      "  Sense: minimize\n",
      "# ----------------------------------------------------------\n",
      "#   Solver Information\n",
      "# ----------------------------------------------------------\n",
      "Solver: \n",
      "- Status: ok\n",
      "  Return code: 0\n",
      "  Message: Model was solved to optimality (subject to tolerances), and an optimal solution is available.\n",
      "  Termination condition: optimal\n",
      "  Termination message: Model was solved to optimality (subject to tolerances), and an optimal solution is available.\n",
      "  Wall time: 0.46871376037597656\n",
      "  Error rc: 0\n",
      "  Time: 0.8905751705169678\n",
      "# ----------------------------------------------------------\n",
      "#   Solution Information\n",
      "# ----------------------------------------------------------\n",
      "Solution: \n",
      "- number of solutions: 0\n",
      "  number of solutions displayed: 0\n"
     ]
    },
    {
     "name": "stderr",
     "output_type": "stream",
     "text": [
      "INFO:pypsa.opf:Building pyomo model using `angles` formulation\n",
      "WARNING:pypsa.opf:The following generators have both investment optimisation and unit commitment:\n",
      "Index(['gas 0', 'gas 1', 'gas 2', 'wind 0', 'wind 1', 'wind 2', 'solar 0',\n",
      "       'solar 1', 'solar 2'],\n",
      "      dtype='object', name='name')\n",
      "Currently PyPSA cannot do both these functions, so PyPSA is choosing investment optimisation for these generators.\n",
      "INFO:pypsa.opf:Solving model using gurobi\n"
     ]
    },
    {
     "name": "stdout",
     "output_type": "stream",
     "text": [
      "27643547102.18967\n",
      " wind constraint\n",
      "generator_p_nom[wind 0] + generator_p_nom[wind 1] + generator_p_nom[wind 2]  ==  293690.4125042862\n",
      " solar constraint\n",
      "generator_p_nom[solar 0] + generator_p_nom[solar 1] + generator_p_nom[solar 2]  ==  53637.9496929293\n"
     ]
    },
    {
     "name": "stderr",
     "output_type": "stream",
     "text": [
      "INFO:pypsa.opf:Optimization successful\n",
      "INFO:pypsa.opf:Building pyomo model using `angles` formulation\n",
      "WARNING:pypsa.opf:The following generators have both investment optimisation and unit commitment:\n",
      "Index(['gas 0', 'gas 1', 'gas 2', 'wind 0', 'wind 1', 'wind 2', 'solar 0',\n",
      "       'solar 1', 'solar 2'],\n",
      "      dtype='object', name='name')\n",
      "Currently PyPSA cannot do both these functions, so PyPSA is choosing investment optimisation for these generators.\n"
     ]
    },
    {
     "name": "stdout",
     "output_type": "stream",
     "text": [
      "# ==========================================================\n",
      "# = Solver Results                                         =\n",
      "# ==========================================================\n",
      "# ----------------------------------------------------------\n",
      "#   Problem Information\n",
      "# ----------------------------------------------------------\n",
      "Problem: \n",
      "- Name: x11533_copy\n",
      "  Lower bound: 27313730182.474995\n",
      "  Upper bound: 27313730182.474995\n",
      "  Number of objectives: 1\n",
      "  Number of constraints: 23812\n",
      "  Number of variables: 11533\n",
      "  Number of binary variables: 0\n",
      "  Number of integer variables: 0\n",
      "  Number of continuous variables: 11533\n",
      "  Number of nonzeros: 49845\n",
      "  Sense: minimize\n",
      "# ----------------------------------------------------------\n",
      "#   Solver Information\n",
      "# ----------------------------------------------------------\n",
      "Solver: \n",
      "- Status: ok\n",
      "  Return code: 0\n",
      "  Message: Model was solved to optimality (subject to tolerances), and an optimal solution is available.\n",
      "  Termination condition: optimal\n",
      "  Termination message: Model was solved to optimality (subject to tolerances), and an optimal solution is available.\n",
      "  Wall time: 0.4062213897705078\n",
      "  Error rc: 0\n",
      "  Time: 0.8593096733093262\n",
      "# ----------------------------------------------------------\n",
      "#   Solution Information\n",
      "# ----------------------------------------------------------\n",
      "Solution: \n",
      "- number of solutions: 0\n",
      "  number of solutions displayed: 0\n"
     ]
    },
    {
     "name": "stderr",
     "output_type": "stream",
     "text": [
      "INFO:pypsa.opf:Solving model using gurobi\n"
     ]
    },
    {
     "name": "stdout",
     "output_type": "stream",
     "text": [
      "27643547102.18967\n",
      " wind constraint\n",
      "generator_p_nom[wind 0] + generator_p_nom[wind 1] + generator_p_nom[wind 2]  ==  293690.4125042862\n",
      " solar constraint\n",
      "generator_p_nom[solar 0] + generator_p_nom[solar 1] + generator_p_nom[solar 2]  ==  6704.743711616163\n"
     ]
    },
    {
     "name": "stderr",
     "output_type": "stream",
     "text": [
      "INFO:pypsa.opf:Optimization successful\n",
      "INFO:pypsa.opf:Building pyomo model using `angles` formulation\n",
      "WARNING:pypsa.opf:The following generators have both investment optimisation and unit commitment:\n",
      "Index(['gas 0', 'gas 1', 'gas 2', 'wind 0', 'wind 1', 'wind 2', 'solar 0',\n",
      "       'solar 1', 'solar 2'],\n",
      "      dtype='object', name='name')\n",
      "Currently PyPSA cannot do both these functions, so PyPSA is choosing investment optimisation for these generators.\n"
     ]
    },
    {
     "name": "stdout",
     "output_type": "stream",
     "text": [
      "# ==========================================================\n",
      "# = Solver Results                                         =\n",
      "# ==========================================================\n",
      "# ----------------------------------------------------------\n",
      "#   Problem Information\n",
      "# ----------------------------------------------------------\n",
      "Problem: \n",
      "- Name: x11533_copy\n",
      "  Lower bound: 25553629429.17723\n",
      "  Upper bound: 25553629429.17723\n",
      "  Number of objectives: 1\n",
      "  Number of constraints: 23812\n",
      "  Number of variables: 11533\n",
      "  Number of binary variables: 0\n",
      "  Number of integer variables: 0\n",
      "  Number of continuous variables: 11533\n",
      "  Number of nonzeros: 49845\n",
      "  Sense: minimize\n",
      "# ----------------------------------------------------------\n",
      "#   Solver Information\n",
      "# ----------------------------------------------------------\n",
      "Solver: \n",
      "- Status: ok\n",
      "  Return code: 0\n",
      "  Message: Model was solved to optimality (subject to tolerances), and an optimal solution is available.\n",
      "  Termination condition: optimal\n",
      "  Termination message: Model was solved to optimality (subject to tolerances), and an optimal solution is available.\n",
      "  Wall time: 0.3593311309814453\n",
      "  Error rc: 0\n",
      "  Time: 0.7968158721923828\n",
      "# ----------------------------------------------------------\n",
      "#   Solution Information\n",
      "# ----------------------------------------------------------\n",
      "Solution: \n",
      "- number of solutions: 0\n",
      "  number of solutions displayed: 0\n"
     ]
    },
    {
     "name": "stderr",
     "output_type": "stream",
     "text": [
      "INFO:pypsa.opf:Solving model using gurobi\n"
     ]
    },
    {
     "name": "stdout",
     "output_type": "stream",
     "text": [
      "27643547102.18967\n",
      " wind constraint\n",
      "generator_p_nom[wind 0] + generator_p_nom[wind 1] + generator_p_nom[wind 2]  ==  293690.4125042862\n",
      " solar constraint\n",
      "generator_p_nom[solar 0] + generator_p_nom[solar 1] + generator_p_nom[solar 2]  ==  26818.97484646465\n"
     ]
    },
    {
     "name": "stderr",
     "output_type": "stream",
     "text": [
      "INFO:pypsa.opf:Optimization successful\n"
     ]
    },
    {
     "name": "stdout",
     "output_type": "stream",
     "text": [
      "# ==========================================================\n",
      "# = Solver Results                                         =\n",
      "# ==========================================================\n",
      "# ----------------------------------------------------------\n",
      "#   Problem Information\n",
      "# ----------------------------------------------------------\n",
      "Problem: \n",
      "- Name: x11533_copy\n",
      "  Lower bound: 26306940526.08778\n",
      "  Upper bound: 26306940526.08778\n",
      "  Number of objectives: 1\n",
      "  Number of constraints: 23812\n",
      "  Number of variables: 11533\n",
      "  Number of binary variables: 0\n",
      "  Number of integer variables: 0\n",
      "  Number of continuous variables: 11533\n",
      "  Number of nonzeros: 49845\n",
      "  Sense: minimize\n",
      "# ----------------------------------------------------------\n",
      "#   Solver Information\n",
      "# ----------------------------------------------------------\n",
      "Solver: \n",
      "- Status: ok\n",
      "  Return code: 0\n",
      "  Message: Model was solved to optimality (subject to tolerances), and an optimal solution is available.\n",
      "  Termination condition: optimal\n",
      "  Termination message: Model was solved to optimality (subject to tolerances), and an optimal solution is available.\n",
      "  Wall time: 0.42185211181640625\n",
      "  Error rc: 0\n",
      "  Time: 0.8593082427978516\n",
      "# ----------------------------------------------------------\n",
      "#   Solution Information\n",
      "# ----------------------------------------------------------\n",
      "Solution: \n",
      "- number of solutions: 0\n",
      "  number of solutions displayed: 0\n"
     ]
    },
    {
     "name": "stderr",
     "output_type": "stream",
     "text": [
      "INFO:pypsa.opf:Building pyomo model using `angles` formulation\n",
      "WARNING:pypsa.opf:The following generators have both investment optimisation and unit commitment:\n",
      "Index(['gas 0', 'gas 1', 'gas 2', 'wind 0', 'wind 1', 'wind 2', 'solar 0',\n",
      "       'solar 1', 'solar 2'],\n",
      "      dtype='object', name='name')\n",
      "Currently PyPSA cannot do both these functions, so PyPSA is choosing investment optimisation for these generators.\n",
      "INFO:pypsa.opf:Solving model using gurobi\n"
     ]
    },
    {
     "name": "stdout",
     "output_type": "stream",
     "text": [
      "27643547102.18967\n",
      " wind constraint\n",
      "generator_p_nom[wind 0] + generator_p_nom[wind 1] + generator_p_nom[wind 2]  ==  293690.4125042862\n",
      " solar constraint\n",
      "generator_p_nom[solar 0] + generator_p_nom[solar 1] + generator_p_nom[solar 2]  ==  46933.20598131314\n"
     ]
    },
    {
     "name": "stderr",
     "output_type": "stream",
     "text": [
      "INFO:pypsa.opf:Optimization successful\n",
      "INFO:pypsa.opf:Building pyomo model using `angles` formulation\n"
     ]
    },
    {
     "name": "stdout",
     "output_type": "stream",
     "text": [
      "# ==========================================================\n",
      "# = Solver Results                                         =\n",
      "# ==========================================================\n",
      "# ----------------------------------------------------------\n",
      "#   Problem Information\n",
      "# ----------------------------------------------------------\n",
      "Problem: \n",
      "- Name: x11533_copy\n",
      "  Lower bound: 27061985799.996914\n",
      "  Upper bound: 27061985799.996914\n",
      "  Number of objectives: 1\n",
      "  Number of constraints: 23812\n",
      "  Number of variables: 11533\n",
      "  Number of binary variables: 0\n",
      "  Number of integer variables: 0\n",
      "  Number of continuous variables: 11533\n",
      "  Number of nonzeros: 49845\n",
      "  Sense: minimize\n",
      "# ----------------------------------------------------------\n",
      "#   Solver Information\n",
      "# ----------------------------------------------------------\n",
      "Solver: \n",
      "- Status: ok\n",
      "  Return code: 0\n",
      "  Message: Model was solved to optimality (subject to tolerances), and an optimal solution is available.\n",
      "  Termination condition: optimal\n",
      "  Termination message: Model was solved to optimality (subject to tolerances), and an optimal solution is available.\n",
      "  Wall time: 0.3437328338623047\n",
      "  Error rc: 0\n",
      "  Time: 0.7968151569366455\n",
      "# ----------------------------------------------------------\n",
      "#   Solution Information\n",
      "# ----------------------------------------------------------\n",
      "Solution: \n",
      "- number of solutions: 0\n",
      "  number of solutions displayed: 0\n"
     ]
    },
    {
     "name": "stderr",
     "output_type": "stream",
     "text": [
      "WARNING:pypsa.opf:The following generators have both investment optimisation and unit commitment:\n",
      "Index(['gas 0', 'gas 1', 'gas 2', 'wind 0', 'wind 1', 'wind 2', 'solar 0',\n",
      "       'solar 1', 'solar 2'],\n",
      "      dtype='object', name='name')\n",
      "Currently PyPSA cannot do both these functions, so PyPSA is choosing investment optimisation for these generators.\n",
      "INFO:pypsa.opf:Solving model using gurobi\n"
     ]
    },
    {
     "name": "stdout",
     "output_type": "stream",
     "text": [
      "27643547102.18967\n",
      " wind constraint\n",
      "generator_p_nom[wind 0] + generator_p_nom[wind 1] + generator_p_nom[wind 2]  ==  293690.4125042862\n",
      " solar constraint\n",
      "generator_p_nom[solar 0] + generator_p_nom[solar 1] + generator_p_nom[solar 2]  ==  60342.69340454546\n"
     ]
    },
    {
     "name": "stderr",
     "output_type": "stream",
     "text": [
      "INFO:pypsa.opf:Optimization successful\n"
     ]
    },
    {
     "name": "stdout",
     "output_type": "stream",
     "text": [
      "# ==========================================================\n",
      "# = Solver Results                                         =\n",
      "# ==========================================================\n",
      "# ----------------------------------------------------------\n",
      "#   Problem Information\n",
      "# ----------------------------------------------------------\n",
      "Problem: \n",
      "- Name: x11533_copy\n",
      "  Lower bound: 27565482994.306355\n",
      "  Upper bound: 27565482994.306355\n",
      "  Number of objectives: 1\n",
      "  Number of constraints: 23812\n",
      "  Number of variables: 11533\n",
      "  Number of binary variables: 0\n",
      "  Number of integer variables: 0\n",
      "  Number of continuous variables: 11533\n",
      "  Number of nonzeros: 49845\n",
      "  Sense: minimize\n",
      "# ----------------------------------------------------------\n",
      "#   Solver Information\n",
      "# ----------------------------------------------------------\n",
      "Solver: \n",
      "- Status: ok\n",
      "  Return code: 0\n",
      "  Message: Model was solved to optimality (subject to tolerances), and an optimal solution is available.\n",
      "  Termination condition: optimal\n",
      "  Termination message: Model was solved to optimality (subject to tolerances), and an optimal solution is available.\n",
      "  Wall time: 0.45307350158691406\n",
      "  Error rc: 0\n",
      "  Time: 0.8905410766601562\n",
      "# ----------------------------------------------------------\n",
      "#   Solution Information\n",
      "# ----------------------------------------------------------\n",
      "Solution: \n",
      "- number of solutions: 0\n",
      "  number of solutions displayed: 0\n"
     ]
    },
    {
     "name": "stderr",
     "output_type": "stream",
     "text": [
      "INFO:pypsa.opf:Building pyomo model using `angles` formulation\n",
      "WARNING:pypsa.opf:The following generators have both investment optimisation and unit commitment:\n",
      "Index(['gas 0', 'gas 1', 'gas 2', 'wind 0', 'wind 1', 'wind 2', 'solar 0',\n",
      "       'solar 1', 'solar 2'],\n",
      "      dtype='object', name='name')\n",
      "Currently PyPSA cannot do both these functions, so PyPSA is choosing investment optimisation for these generators.\n",
      "INFO:pypsa.opf:Solving model using gurobi\n"
     ]
    },
    {
     "name": "stdout",
     "output_type": "stream",
     "text": [
      "27643547102.18967\n",
      " wind constraint\n",
      "generator_p_nom[wind 0] + generator_p_nom[wind 1] + generator_p_nom[wind 2]  ==  293690.4125042862\n",
      " solar constraint\n",
      "generator_p_nom[solar 0] + generator_p_nom[solar 1] + generator_p_nom[solar 2]  ==  13409.487423232325\n"
     ]
    },
    {
     "name": "stderr",
     "output_type": "stream",
     "text": [
      "INFO:pypsa.opf:Optimization successful\n"
     ]
    },
    {
     "name": "stdout",
     "output_type": "stream",
     "text": [
      "# ==========================================================\n",
      "# = Solver Results                                         =\n",
      "# ==========================================================\n",
      "# ----------------------------------------------------------\n",
      "#   Problem Information\n",
      "# ----------------------------------------------------------\n",
      "Problem: \n",
      "- Name: x11533_copy\n",
      "  Lower bound: 25804020314.051105\n",
      "  Upper bound: 25804020314.051105\n",
      "  Number of objectives: 1\n",
      "  Number of constraints: 23812\n",
      "  Number of variables: 11533\n",
      "  Number of binary variables: 0\n",
      "  Number of integer variables: 0\n",
      "  Number of continuous variables: 11533\n",
      "  Number of nonzeros: 49845\n",
      "  Sense: minimize\n",
      "# ----------------------------------------------------------\n",
      "#   Solver Information\n",
      "# ----------------------------------------------------------\n",
      "Solver: \n",
      "- Status: ok\n",
      "  Return code: 0\n",
      "  Message: Model was solved to optimality (subject to tolerances), and an optimal solution is available.\n",
      "  Termination condition: optimal\n",
      "  Termination message: Model was solved to optimality (subject to tolerances), and an optimal solution is available.\n",
      "  Wall time: 0.5625648498535156\n",
      "  Error rc: 0\n",
      "  Time: 1.0625250339508057\n",
      "# ----------------------------------------------------------\n",
      "#   Solution Information\n",
      "# ----------------------------------------------------------\n",
      "Solution: \n",
      "- number of solutions: 0\n",
      "  number of solutions displayed: 0\n"
     ]
    },
    {
     "name": "stderr",
     "output_type": "stream",
     "text": [
      "INFO:pypsa.opf:Building pyomo model using `angles` formulation\n",
      "WARNING:pypsa.opf:The following generators have both investment optimisation and unit commitment:\n",
      "Index(['gas 0', 'gas 1', 'gas 2', 'wind 0', 'wind 1', 'wind 2', 'solar 0',\n",
      "       'solar 1', 'solar 2'],\n",
      "      dtype='object', name='name')\n",
      "Currently PyPSA cannot do both these functions, so PyPSA is choosing investment optimisation for these generators.\n",
      "INFO:pypsa.opf:Solving model using gurobi\n"
     ]
    },
    {
     "name": "stdout",
     "output_type": "stream",
     "text": [
      "27643547102.18967\n",
      " wind constraint\n",
      "generator_p_nom[wind 0] + generator_p_nom[wind 1] + generator_p_nom[wind 2]  ==  293690.4125042862\n",
      " solar constraint\n",
      "generator_p_nom[solar 0] + generator_p_nom[solar 1] + generator_p_nom[solar 2]  ==  20114.231134848487\n"
     ]
    },
    {
     "name": "stderr",
     "output_type": "stream",
     "text": [
      "INFO:pypsa.opf:Optimization successful\n",
      "INFO:pypsa.opf:Building pyomo model using `angles` formulation\n",
      "WARNING:pypsa.opf:The following generators have both investment optimisation and unit commitment:\n",
      "Index(['gas 0', 'gas 1', 'gas 2', 'wind 0', 'wind 1', 'wind 2', 'solar 0',\n",
      "       'solar 1', 'solar 2'],\n",
      "      dtype='object', name='name')\n",
      "Currently PyPSA cannot do both these functions, so PyPSA is choosing investment optimisation for these generators.\n"
     ]
    },
    {
     "name": "stdout",
     "output_type": "stream",
     "text": [
      "# ==========================================================\n",
      "# = Solver Results                                         =\n",
      "# ==========================================================\n",
      "# ----------------------------------------------------------\n",
      "#   Problem Information\n",
      "# ----------------------------------------------------------\n",
      "Problem: \n",
      "- Name: x11533_copy\n",
      "  Lower bound: 26055304375.538998\n",
      "  Upper bound: 26055304375.538998\n",
      "  Number of objectives: 1\n",
      "  Number of constraints: 23812\n",
      "  Number of variables: 11533\n",
      "  Number of binary variables: 0\n",
      "  Number of integer variables: 0\n",
      "  Number of continuous variables: 11533\n",
      "  Number of nonzeros: 49845\n",
      "  Sense: minimize\n",
      "# ----------------------------------------------------------\n",
      "#   Solver Information\n",
      "# ----------------------------------------------------------\n",
      "Solver: \n",
      "- Status: ok\n",
      "  Return code: 0\n",
      "  Message: Model was solved to optimality (subject to tolerances), and an optimal solution is available.\n",
      "  Termination condition: optimal\n",
      "  Termination message: Model was solved to optimality (subject to tolerances), and an optimal solution is available.\n",
      "  Wall time: 0.4062080383300781\n",
      "  Error rc: 0\n",
      "  Time: 0.8436827659606934\n",
      "# ----------------------------------------------------------\n",
      "#   Solution Information\n",
      "# ----------------------------------------------------------\n",
      "Solution: \n",
      "- number of solutions: 0\n",
      "  number of solutions displayed: 0\n"
     ]
    },
    {
     "name": "stderr",
     "output_type": "stream",
     "text": [
      "INFO:pypsa.opf:Solving model using gurobi\n"
     ]
    },
    {
     "name": "stdout",
     "output_type": "stream",
     "text": [
      "27643547102.18967\n",
      " wind constraint\n",
      "generator_p_nom[wind 0] + generator_p_nom[wind 1] + generator_p_nom[wind 2]  ==  293690.4125042862\n",
      " solar constraint\n",
      "generator_p_nom[solar 0] + generator_p_nom[solar 1] + generator_p_nom[solar 2]  ==  67047.43711616163\n"
     ]
    },
    {
     "name": "stderr",
     "output_type": "stream",
     "text": [
      "WARNING:pyomo.core:Loading a SolverResults object with a warning status into model=Linear Optimal Power Flow;\n",
      "    message from solver=Problem proven to be infeasible or unbounded.\n",
      "ERROR:pypsa.opf:Optimisation failed with status warning and terminal condition infeasibleOrUnbounded\n",
      "INFO:pypsa.opf:Building pyomo model using `angles` formulation\n",
      "WARNING:pypsa.opf:The following generators have both investment optimisation and unit commitment:\n",
      "Index(['gas 0', 'gas 1', 'gas 2', 'wind 0', 'wind 1', 'wind 2', 'solar 0',\n",
      "       'solar 1', 'solar 2'],\n",
      "      dtype='object', name='name')\n",
      "Currently PyPSA cannot do both these functions, so PyPSA is choosing investment optimisation for these generators.\n"
     ]
    },
    {
     "name": "stdout",
     "output_type": "stream",
     "text": [
      "WARNING: Loading a SolverResults object with a warning status into\n",
      "    model=Linear Optimal Power Flow;\n",
      "        message from solver=Problem proven to be infeasible or unbounded.\n",
      "# ==========================================================\n",
      "# = Solver Results                                         =\n",
      "# ==========================================================\n",
      "# ----------------------------------------------------------\n",
      "#   Problem Information\n",
      "# ----------------------------------------------------------\n",
      "Problem: \n",
      "- Name: x11533\n",
      "  Lower bound: -inf\n",
      "  Upper bound: inf\n",
      "  Number of objectives: 1\n",
      "  Number of constraints: 23812\n",
      "  Number of variables: 11533\n",
      "  Number of binary variables: 0\n",
      "  Number of integer variables: 0\n",
      "  Number of continuous variables: 11533\n",
      "  Number of nonzeros: 49845\n",
      "  Sense: minimize\n",
      "# ----------------------------------------------------------\n",
      "#   Solver Information\n",
      "# ----------------------------------------------------------\n",
      "Solver: \n",
      "- Status: warning\n",
      "  Return code: 0\n",
      "  Message: Problem proven to be infeasible or unbounded.\n",
      "  Termination condition: infeasibleOrUnbounded\n",
      "  Termination message: Problem proven to be infeasible or unbounded.\n",
      "  Wall time: 0.45307350158691406\n",
      "  Error rc: 0\n",
      "  Time: 0.7811717987060547\n"
     ]
    },
    {
     "name": "stderr",
     "output_type": "stream",
     "text": [
      "INFO:pypsa.opf:Solving model using gurobi\n"
     ]
    },
    {
     "name": "stdout",
     "output_type": "stream",
     "text": [
      "27643547102.18967\n",
      " wind constraint\n",
      "generator_p_nom[wind 0] + generator_p_nom[wind 1] + generator_p_nom[wind 2]  ==  293690.4125042862\n"
     ]
    },
    {
     "name": "stderr",
     "output_type": "stream",
     "text": [
      "INFO:pypsa.opf:Optimization successful\n"
     ]
    },
    {
     "name": "stdout",
     "output_type": "stream",
     "text": [
      "# ==========================================================\n",
      "# = Solver Results                                         =\n",
      "# ==========================================================\n",
      "# ----------------------------------------------------------\n",
      "#   Problem Information\n",
      "# ----------------------------------------------------------\n",
      "Problem: \n",
      "- Name: x11533_copy\n",
      "  Lower bound: 25305048760.07927\n",
      "  Upper bound: 25305048760.07927\n",
      "  Number of objectives: 1\n",
      "  Number of constraints: 23811\n",
      "  Number of variables: 11533\n",
      "  Number of binary variables: 0\n",
      "  Number of integer variables: 0\n",
      "  Number of continuous variables: 11533\n",
      "  Number of nonzeros: 49842\n",
      "  Sense: minimize\n",
      "# ----------------------------------------------------------\n",
      "#   Solver Information\n",
      "# ----------------------------------------------------------\n",
      "Solver: \n",
      "- Status: ok\n",
      "  Return code: 0\n",
      "  Message: Model was solved to optimality (subject to tolerances), and an optimal solution is available.\n",
      "  Termination condition: optimal\n",
      "  Termination message: Model was solved to optimality (subject to tolerances), and an optimal solution is available.\n",
      "  Wall time: 0.4374675750732422\n",
      "  Error rc: 0\n",
      "  Time: 0.8749215602874756\n",
      "# ----------------------------------------------------------\n",
      "#   Solution Information\n",
      "# ----------------------------------------------------------\n",
      "Solution: \n",
      "- number of solutions: 0\n",
      "  number of solutions displayed: 0\n"
     ]
    }
   ],
   "source": [
    "test = []\n",
    "grid.feasable = []\n",
    "grid.infeasable = []\n",
    "simulations = 0\n",
    "\n",
    "for wind,solar in zip(grid.wind,grid.solar):\n",
    "    \n",
    "    is_good , variables_out = test_point(network,[-1,wind,solar])\n",
    "    simulations += 1\n",
    "    if is_good:\n",
    "        grid.feasable.append(variables_out)\n",
    "    else :\n",
    "        grid.infeasable.append([0,0,0])"
   ]
  },
  {
   "cell_type": "code",
   "execution_count": 193,
   "metadata": {},
   "outputs": [
    {
     "name": "stderr",
     "output_type": "stream",
     "text": [
      "C:\\Users\\Tim\\Anaconda3\\lib\\site-packages\\matplotlib\\pyplot.py:514: RuntimeWarning:\n",
      "\n",
      "More than 20 figures have been opened. Figures created through the pyplot interface (`matplotlib.pyplot.figure`) are retained until explicitly closed and may consume too much memory. (To control this warning, see the rcParam `figure.max_open_warning`).\n",
      "\n"
     ]
    },
    {
     "data": {
      "application/vnd.jupyter.widget-view+json": {
       "model_id": "a1727042f8f64586b99261f98b5adab1",
       "version_major": 2,
       "version_minor": 0
      },
      "text/plain": [
       "Canvas(toolbar=Toolbar(toolitems=[('Home', 'Reset original view', 'home', 'home'), ('Back', 'Back to previous …"
      ]
     },
     "metadata": {},
     "output_type": "display_data"
    },
    {
     "data": {
      "text/plain": [
       "Text(0.5, 0, 'Bio')"
      ]
     },
     "execution_count": 193,
     "metadata": {},
     "output_type": "execute_result"
    }
   ],
   "source": [
    "import time \n",
    "fig = plt.figure()\n",
    "ax = fig.add_subplot(111, projection='3d')\n",
    "plt.show()\n",
    "\n",
    "\n",
    "\n",
    "\n",
    "ax.plot(grid.feasable[:,0],grid.feasable[:,1],grid.feasable[:,2], \"bo\")\n",
    "\n",
    "    \n",
    "    \n",
    "#for i in range(len(max_min_points)):\n",
    "#       ax.plot([max_min_points[i][0]],[max_min_points[i][1]],[max_min_points[i][2]], \"go\")\n",
    "\n",
    "plt.show();\n",
    "ax.set_xlabel('Coal')\n",
    "ax.set_ylabel('Gas')\n",
    "ax.set_zlabel('Bio')"
   ]
  },
  {
   "cell_type": "code",
   "execution_count": 185,
   "metadata": {},
   "outputs": [],
   "source": [
    "grid.feasable = np.array(grid.feasable)"
   ]
  },
  {
   "cell_type": "code",
   "execution_count": 186,
   "metadata": {},
   "outputs": [
    {
     "data": {
      "text/plain": [
       "array([336524.20367046, 332240.82455385, 332240.82455385, 327957.44543723,\n",
       "       327957.44543723, 327957.44543723, 323674.06632061, 323674.06632061,\n",
       "       323674.06632061, 323674.06632061, 319390.68720399, 319390.68720399,\n",
       "       319390.68720399, 319390.68720399, 319390.68720399, 315107.30808737,\n",
       "       315107.30808737, 315107.30808737, 315107.30808737, 315107.30808737,\n",
       "       315107.30808737, 310823.92897076, 310823.92897076, 310823.92897076,\n",
       "       310823.92897076, 310823.92897076, 310823.92897076, 310823.92897076,\n",
       "       306540.54985414, 306540.54985414, 306540.54985414, 306540.54985414,\n",
       "       306540.54985414, 306540.54985414, 306540.54985414, 306540.54985414,\n",
       "       306540.54985414, 302257.17073752, 302257.17073752, 302257.17073752,\n",
       "       302257.17073752, 302257.17073752, 302257.17073752, 302257.17073752,\n",
       "       302257.17073752, 302257.17073752, 302257.17073752, 297973.7916209 ,\n",
       "       297973.7916209 , 297973.7916209 , 297973.7916209 , 297973.7916209 ,\n",
       "       297973.7916209 , 297973.7916209 , 297973.7916209 , 297973.7916209 ,\n",
       "       297973.7916209 , 293690.41250429, 293690.41250429, 293690.41250429,\n",
       "       293690.41250429, 293690.41250429, 293690.41250429, 293690.41250429,\n",
       "       293690.41250429, 293690.41250429, 293690.41250429])"
      ]
     },
     "execution_count": 186,
     "metadata": {},
     "output_type": "execute_result"
    }
   ],
   "source": [
    "grid.feasable[:,1]"
   ]
  },
  {
   "cell_type": "code",
   "execution_count": 187,
   "metadata": {},
   "outputs": [
    {
     "data": {
      "text/plain": [
       "array([[ 10645.19431095, 336524.20367046,      0.        ],\n",
       "       [ 12000.        , 332240.82455385,   6704.74371162],\n",
       "       [ 11207.26883725, 332240.82455385,      0.        ],\n",
       "       [ 11769.34336355, 327957.44543723,      0.        ],\n",
       "       [ 12000.        , 327957.44543723,  13409.48742323],\n",
       "       [ 12000.        , 327957.44543723,   6704.74371162],\n",
       "       [ 12000.        , 323674.06632061,      0.        ],\n",
       "       [ 12000.        , 323674.06632061,  20114.23113485],\n",
       "       [ 12000.        , 323674.06632061,   6704.74371162],\n",
       "       [ 12000.        , 323674.06632061,  13409.48742323],\n",
       "       [ 12000.        , 319390.68720399,   6704.74371162],\n",
       "       [ 12000.        , 319390.68720399,  26818.97484646],\n",
       "       [ 12000.        , 319390.68720399,  13409.48742323],\n",
       "       [ 12000.        , 319390.68720399,      0.        ],\n",
       "       [ 12000.        , 319390.68720399,  20114.23113485],\n",
       "       [ 12000.        , 315107.30808737,  33523.71855808],\n",
       "       [ 12000.        , 315107.30808737,  20114.23113485],\n",
       "       [ 12000.        , 315107.30808737,  13409.48742323],\n",
       "       [ 12000.        , 315107.30808737,  26818.97484646],\n",
       "       [ 12000.        , 315107.30808737,   6704.74371162],\n",
       "       [ 12000.        , 315107.30808737,      0.        ],\n",
       "       [ 12000.        , 310823.92897076,  33523.71855808],\n",
       "       [ 12000.        , 310823.92897076,  13409.48742323],\n",
       "       [ 12000.        , 310823.92897076,  20114.23113485],\n",
       "       [ 12000.        , 310823.92897076,   6704.74371162],\n",
       "       [ 12000.        , 310823.92897076,  26818.97484646],\n",
       "       [ 12000.        , 310823.92897076,      0.        ],\n",
       "       [ 12000.        , 310823.92897076,  40228.4622697 ],\n",
       "       [ 12000.        , 306540.54985414,      0.        ],\n",
       "       [ 12000.        , 306540.54985414,  13409.48742323],\n",
       "       [ 12000.        , 306540.54985414,  20114.23113485],\n",
       "       [ 12000.        , 306540.54985414,  26818.97484646],\n",
       "       [ 12000.        , 306540.54985414,  46933.20598131],\n",
       "       [ 12000.        , 306540.54985414,  40228.4622697 ],\n",
       "       [ 12000.        , 306540.54985414,  53637.94969293],\n",
       "       [ 12000.        , 306540.54985414,   6704.74371162],\n",
       "       [ 12000.        , 306540.54985414,  33523.71855808],\n",
       "       [ 12000.        , 302257.17073752,  60342.69340455],\n",
       "       [ 12000.        , 302257.17073752,  13409.48742323],\n",
       "       [ 12000.        , 302257.17073752,   6704.74371162],\n",
       "       [ 12000.        , 302257.17073752,      0.        ],\n",
       "       [ 12000.        , 302257.17073752,  53637.94969293],\n",
       "       [ 12000.        , 302257.17073752,  46933.20598131],\n",
       "       [ 12000.        , 302257.17073752,  26818.97484646],\n",
       "       [ 12000.        , 302257.17073752,  33523.71855808],\n",
       "       [ 12000.        , 302257.17073752,  20114.23113485],\n",
       "       [ 12000.        , 302257.17073752,  40228.4622697 ],\n",
       "       [ 12000.        , 297973.7916209 ,  40228.4622697 ],\n",
       "       [ 12000.        , 297973.7916209 ,  53637.94969293],\n",
       "       [ 12000.        , 297973.7916209 ,  26818.97484646],\n",
       "       [ 12000.        , 297973.7916209 ,  46933.20598131],\n",
       "       [ 12000.        , 297973.7916209 ,   6704.74371162],\n",
       "       [ 12000.        , 297973.7916209 ,  33523.71855808],\n",
       "       [ 12000.        , 297973.7916209 ,  20114.23113485],\n",
       "       [ 12000.        , 297973.7916209 ,  13409.48742323],\n",
       "       [ 12000.        , 297973.7916209 ,      0.        ],\n",
       "       [ 12000.        , 297973.7916209 ,  60342.69340455],\n",
       "       [ 12000.        , 293690.41250429,  33523.71855808],\n",
       "       [ 12000.        , 293690.41250429,  40228.4622697 ],\n",
       "       [ 12000.        , 293690.41250429,  53637.94969293],\n",
       "       [ 12000.        , 293690.41250429,   6704.74371162],\n",
       "       [ 12000.        , 293690.41250429,  26818.97484646],\n",
       "       [ 12000.        , 293690.41250429,  46933.20598131],\n",
       "       [ 12000.        , 293690.41250429,  60342.69340455],\n",
       "       [ 12000.        , 293690.41250429,  13409.48742323],\n",
       "       [ 12000.        , 293690.41250429,  20114.23113485],\n",
       "       [ 12000.        , 293690.41250429,      0.        ]])"
      ]
     },
     "execution_count": 187,
     "metadata": {},
     "output_type": "execute_result"
    }
   ],
   "source": [
    "grid.feasable"
   ]
  },
  {
   "cell_type": "code",
   "execution_count": 192,
   "metadata": {},
   "outputs": [],
   "source": [
    "plt.close()"
   ]
  },
  {
   "cell_type": "code",
   "execution_count": null,
   "metadata": {},
   "outputs": [],
   "source": []
  }
 ],
 "metadata": {
  "kernelspec": {
   "display_name": "Python 3",
   "language": "python",
   "name": "python3"
  },
  "language_info": {
   "codemirror_mode": {
    "name": "ipython",
    "version": 3
   },
   "file_extension": ".py",
   "mimetype": "text/x-python",
   "name": "python",
   "nbconvert_exporter": "python",
   "pygments_lexer": "ipython3",
   "version": "3.7.3"
  },
  "varInspector": {
   "cols": {
    "lenName": 16,
    "lenType": 16,
    "lenVar": 40
   },
   "kernels_config": {
    "python": {
     "delete_cmd_postfix": "",
     "delete_cmd_prefix": "del ",
     "library": "var_list.py",
     "varRefreshCmd": "print(var_dic_list())"
    },
    "r": {
     "delete_cmd_postfix": ") ",
     "delete_cmd_prefix": "rm(",
     "library": "var_list.r",
     "varRefreshCmd": "cat(var_dic_list()) "
    }
   },
   "types_to_exclude": [
    "module",
    "function",
    "builtin_function_or_method",
    "instance",
    "_Feature"
   ],
   "window_display": false
  }
 },
 "nbformat": 4,
 "nbformat_minor": 2
}
