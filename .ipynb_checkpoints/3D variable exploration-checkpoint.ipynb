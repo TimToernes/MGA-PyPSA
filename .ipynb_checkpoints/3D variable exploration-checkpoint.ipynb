{
 "cells": [
  {
   "cell_type": "code",
   "execution_count": 1,
   "metadata": {},
   "outputs": [],
   "source": [
    "import pypsa\n",
    "import pandas as pd"
   ]
  },
  {
   "cell_type": "code",
   "execution_count": 2,
   "metadata": {},
   "outputs": [],
   "source": [
    "def annuity(n,r):\n",
    "    \"\"\"Calculate the annuity factor for an asset with lifetime n years and\n",
    "    discount rate of r, e.g. annuity(20,0.05)*20 = 1.6\"\"\"\n",
    "\n",
    "    if r > 0:\n",
    "        return r/(1. - 1./(1.+r)**n)\n",
    "    else:\n",
    "        return 1/n"
   ]
  },
  {
   "cell_type": "markdown",
   "metadata": {},
   "source": [
    "## Definie network and load data "
   ]
  },
  {
   "cell_type": "code",
   "execution_count": 5,
   "metadata": {},
   "outputs": [],
   "source": [
    "# Create network\n",
    "network = pypsa.Network()\n",
    "hours_in_2018=pd.date_range('2017-06-01T00:00Z','2017-06-02T00:00Z',freq='H') #'2017-12-31T23:00Z'\n",
    "network.set_snapshots(hours_in_2018)\n",
    "\n",
    "network.add(\"Bus\",\"electricity bus\")\n",
    "\n",
    "# load electricity demand data\n",
    "df_elec = pd.read_csv('data/Total Load - Day Ahead _ Actual_DK_201701010000-201801010000.csv',sep=',',index_col=0) # in MWh\n",
    "#df_elec.drop(df_elec.tail(1).index,inplace=True)\n",
    "df_elec = df_elec[:network.snapshots.size]\n",
    "\n",
    "# add load to the bus\n",
    "network.add(\"Load\",\"load\", bus=\"electricity bus\", p_set=df_elec['Actual Total Load [MW] - Denmark (DK)'].tolist())\n",
    "\n",
    "network.add(\"Carrier\", \"gas\", co2_emissions=0.19) # in t_CO2/MWh_th\n",
    "network.add(\"Carrier\", \"onshorewind\")\n",
    "network.add(\"Carrier\", \"solar\")\n",
    "\n",
    "# add onshore wind generator\n",
    "df_onshorewind = pd.read_csv('data/onshore_wind_1979-2017.csv',sep=';',index_col=0)\n",
    "CF_wind=df_onshorewind['ESP'][[hour.strftime(\"%Y-%m-%dT%H:%M:%SZ\") for hour in network.snapshots]]\n",
    "capital_cost_onshorewind=annuity(30,0.07)*910000*(1+0.033) # in €/MW\n",
    "network.add(\"Generator\",\n",
    "            \"onshorewind\",\n",
    "            bus=\"electricity bus\",\n",
    "            p_nom_extendable=True,\n",
    "            carrier=\"onshorewind\",\n",
    "            #p_nom_max=1000,\n",
    "            capital_cost = capital_cost_onshorewind,\n",
    "            marginal_cost = 0,\n",
    "            p_max_pu = CF_wind)\n",
    "\n",
    "# add solar PV generator\n",
    "df_solar = pd.read_csv('data/pv_optimal.csv',sep=';',index_col=0)\n",
    "CF_solar=df_solar['ESP'][[hour.strftime(\"%Y-%m-%dT%H:%M:%SZ\") for hour in network.snapshots]]\n",
    "capital_cost_solar=annuity(25,0.07)*425000*(1+0.03) # in €/MW\n",
    "network.add(\"Generator\",\n",
    "            \"solar\",\n",
    "            bus=\"electricity bus\",\n",
    "            p_nom_extendable=True,\n",
    "            carrier=\"solar\",\n",
    "            #p_nom_max=1000,\n",
    "            capital_cost = capital_cost_solar,\n",
    "            marginal_cost = 0,\n",
    "            p_max_pu = CF_solar)\n",
    "\n",
    "# Add gas turbine generator\n",
    "capital_cost_OCGT=annuity(25,0.07)*560000*(1+0.033) # in €/MW\n",
    "fuel_cost=21.6 # in €/MWh_th\n",
    "efficiency=0.39\n",
    "marginal_cost_OCGT=fuel_cost/efficiency # in €/MWh_el\n",
    "network.add(\"Generator\",\n",
    "            \"OCGT\",\n",
    "            bus=\"electricity bus\",\n",
    "            p_nom_extendable=True,\n",
    "            carrier=\"gas\",\n",
    "            p_nom_max=4000,\n",
    "            capital_cost = capital_cost_OCGT,\n",
    "            marginal_cost = marginal_cost_OCGT\n",
    "           )"
   ]
  },
  {
   "cell_type": "code",
   "execution_count": 6,
   "metadata": {},
   "outputs": [],
   "source": [
    "def MGA_solver (network, MGA_slack = 0.05):\n",
    "    import pyomo.environ as pyomo_env\n",
    "    \n",
    "    # Defining exstra functionality, that updates the objective function of the network\n",
    "    def extra_functionality(network, snapshots,  MGA_slack = 0.05):\n",
    "        # Identify the nonzero decision variables that should enter the MGA objective function.\n",
    "        generator_outputs = network.generators_t.p\n",
    "        nonzero_gen_p = list()\n",
    "        for gen_p in network.model.generator_p :\n",
    "            if generator_outputs[gen_p[0]].loc[gen_p[1]] > 0 :\n",
    "                nonzero_gen_p.append(gen_p)\n",
    "        # Build new MGA objective function.\n",
    "        MGA_objective = 0\n",
    "        for gen_p in nonzero_gen_p:\n",
    "            MGA_objective += network.model.generator_p[gen_p]\n",
    "        # Add the new MGA objective function to the model.\n",
    "        network.model.mga_objective = pyomo_env.Objective(expr=MGA_objective)\n",
    "        # Deactivate the old objective function and activate the MGA objective function.\n",
    "        network.model.objective.deactivate()\n",
    "        network.model.mga_objective.activate()\n",
    "        # Add the MGA slack constraint.\n",
    "        #print('old objective value ',old_objective_value)\n",
    "        network.model.mga_constraint = pyomo_env.Constraint(expr=network.model.objective.expr <= \n",
    "                                              (1 + MGA_slack) * old_objective_value)\n",
    "    \n",
    "\n",
    "    # Initial solution of network, with non MGA objective function \n",
    "    network.lopf(network.snapshots,solver_name='gurobi')\n",
    "    # Saving the value of the old objective function.\n",
    "    old_objective_value = network.model.objective()\n",
    "    # Define a list of soltutions to the network object containing coppys of the network\n",
    "    network.solutions = []\n",
    "    # Loop until a non original solution is found\n",
    "    original_solution = True\n",
    "    while original_solution:\n",
    "        # Save current version of network in solutions\n",
    "        network.solutions.append(network.copy())\n",
    "        #Solve network with updated objective function\n",
    "        network.lopf(network.snapshots,\\\n",
    "                     solver_name='gurobi',\\\n",
    "                     extra_functionality=lambda network,\\\n",
    "                     snapshots: extra_functionality(network, snapshots, MGA_slack)) \n",
    "        # Tjek if the solution is seen before\n",
    "        for i in range(len(network.solutions)):\n",
    "            if network.generators_t.p.equals(network.solutions[i].generators_t.p):\n",
    "                original_solution = False\n",
    "        \n",
    "    return network\n"
   ]
  },
  {
   "cell_type": "code",
   "execution_count": 7,
   "metadata": {},
   "outputs": [
    {
     "name": "stderr",
     "output_type": "stream",
     "text": [
      "INFO:pypsa.pf:Slack bus for sub-network 0 is electricity bus\n",
      "INFO:pypsa.opf:Performed preliminary steps\n",
      "INFO:pypsa.opf:Building pyomo model using `angles` formulation\n",
      "INFO:pypsa.opf:Solving model using gurobi\n",
      "INFO:pypsa.opf:Optimization successful\n"
     ]
    },
    {
     "name": "stdout",
     "output_type": "stream",
     "text": [
      "# ==========================================================\n",
      "# = Solver Results                                         =\n",
      "# ==========================================================\n",
      "# ----------------------------------------------------------\n",
      "#   Problem Information\n",
      "# ----------------------------------------------------------\n",
      "Problem: \n",
      "- Name: x104\n",
      "  Lower bound: 240466424.14282188\n",
      "  Upper bound: 240466424.14282188\n",
      "  Number of objectives: 1\n",
      "  Number of constraints: 201\n",
      "  Number of variables: 104\n",
      "  Number of binary variables: 0\n",
      "  Number of integer variables: 0\n",
      "  Number of continuous variables: 104\n",
      "  Number of nonzeros: 316\n",
      "  Sense: minimize\n",
      "# ----------------------------------------------------------\n",
      "#   Solver Information\n",
      "# ----------------------------------------------------------\n",
      "Solver: \n",
      "- Status: ok\n",
      "  Return code: 0\n",
      "  Message: Model was solved to optimality (subject to tolerances), and an optimal solution is available.\n",
      "  Termination condition: optimal\n",
      "  Termination message: Model was solved to optimality (subject to tolerances), and an optimal solution is available.\n",
      "  Wall time: 0.00499725341796875\n",
      "  Error rc: 0\n",
      "  Time: 0.1708996295928955\n",
      "# ----------------------------------------------------------\n",
      "#   Solution Information\n",
      "# ----------------------------------------------------------\n",
      "Solution: \n",
      "- number of solutions: 0\n",
      "  number of solutions displayed: 0\n"
     ]
    },
    {
     "name": "stderr",
     "output_type": "stream",
     "text": [
      "INFO:pypsa.pf:Slack bus for sub-network 0 is electricity bus\n",
      "INFO:pypsa.opf:Performed preliminary steps\n",
      "INFO:pypsa.opf:Building pyomo model using `angles` formulation\n",
      "INFO:pypsa.opf:Solving model using gurobi\n",
      "INFO:pypsa.opf:Optimization successful\n"
     ]
    },
    {
     "name": "stdout",
     "output_type": "stream",
     "text": [
      "# ==========================================================\n",
      "# = Solver Results                                         =\n",
      "# ==========================================================\n",
      "# ----------------------------------------------------------\n",
      "#   Problem Information\n",
      "# ----------------------------------------------------------\n",
      "Problem: \n",
      "- Name: x104\n",
      "  Lower bound: 77664.00000000001\n",
      "  Upper bound: 77664.00000000001\n",
      "  Number of objectives: 1\n",
      "  Number of constraints: 202\n",
      "  Number of variables: 104\n",
      "  Number of binary variables: 0\n",
      "  Number of integer variables: 0\n",
      "  Number of continuous variables: 104\n",
      "  Number of nonzeros: 344\n",
      "  Sense: minimize\n",
      "# ----------------------------------------------------------\n",
      "#   Solver Information\n",
      "# ----------------------------------------------------------\n",
      "Solver: \n",
      "- Status: ok\n",
      "  Return code: 0\n",
      "  Message: Model was solved to optimality (subject to tolerances), and an optimal solution is available.\n",
      "  Termination condition: optimal\n",
      "  Termination message: Model was solved to optimality (subject to tolerances), and an optimal solution is available.\n",
      "  Wall time: 0.00299835205078125\n",
      "  Error rc: 0\n",
      "  Time: 0.18389415740966797\n",
      "# ----------------------------------------------------------\n",
      "#   Solution Information\n",
      "# ----------------------------------------------------------\n",
      "Solution: \n",
      "- number of solutions: 0\n",
      "  number of solutions displayed: 0\n"
     ]
    },
    {
     "name": "stderr",
     "output_type": "stream",
     "text": [
      "INFO:pypsa.pf:Slack bus for sub-network 0 is electricity bus\n",
      "INFO:pypsa.opf:Performed preliminary steps\n",
      "INFO:pypsa.opf:Building pyomo model using `angles` formulation\n",
      "INFO:pypsa.opf:Solving model using gurobi\n",
      "INFO:pypsa.opf:Optimization successful\n"
     ]
    },
    {
     "name": "stdout",
     "output_type": "stream",
     "text": [
      "# ==========================================================\n",
      "# = Solver Results                                         =\n",
      "# ==========================================================\n",
      "# ----------------------------------------------------------\n",
      "#   Problem Information\n",
      "# ----------------------------------------------------------\n",
      "Problem: \n",
      "- Name: x104\n",
      "  Lower bound: 73797.62725420449\n",
      "  Upper bound: 73797.62725420449\n",
      "  Number of objectives: 1\n",
      "  Number of constraints: 202\n",
      "  Number of variables: 104\n",
      "  Number of binary variables: 0\n",
      "  Number of integer variables: 0\n",
      "  Number of continuous variables: 104\n",
      "  Number of nonzeros: 344\n",
      "  Sense: minimize\n",
      "# ----------------------------------------------------------\n",
      "#   Solver Information\n",
      "# ----------------------------------------------------------\n",
      "Solver: \n",
      "- Status: ok\n",
      "  Return code: 0\n",
      "  Message: Model was solved to optimality (subject to tolerances), and an optimal solution is available.\n",
      "  Termination condition: optimal\n",
      "  Termination message: Model was solved to optimality (subject to tolerances), and an optimal solution is available.\n",
      "  Wall time: 0.00499725341796875\n",
      "  Error rc: 0\n",
      "  Time: 0.16990256309509277\n",
      "# ----------------------------------------------------------\n",
      "#   Solution Information\n",
      "# ----------------------------------------------------------\n",
      "Solution: \n",
      "- number of solutions: 0\n",
      "  number of solutions displayed: 0\n"
     ]
    },
    {
     "name": "stderr",
     "output_type": "stream",
     "text": [
      "INFO:pypsa.pf:Slack bus for sub-network 0 is electricity bus\n",
      "INFO:pypsa.opf:Performed preliminary steps\n",
      "INFO:pypsa.opf:Building pyomo model using `angles` formulation\n",
      "INFO:pypsa.opf:Solving model using gurobi\n",
      "INFO:pypsa.opf:Optimization successful\n"
     ]
    },
    {
     "name": "stdout",
     "output_type": "stream",
     "text": [
      "# ==========================================================\n",
      "# = Solver Results                                         =\n",
      "# ==========================================================\n",
      "# ----------------------------------------------------------\n",
      "#   Problem Information\n",
      "# ----------------------------------------------------------\n",
      "Problem: \n",
      "- Name: x104\n",
      "  Lower bound: 77664.00000000001\n",
      "  Upper bound: 77664.00000000001\n",
      "  Number of objectives: 1\n",
      "  Number of constraints: 202\n",
      "  Number of variables: 104\n",
      "  Number of binary variables: 0\n",
      "  Number of integer variables: 0\n",
      "  Number of continuous variables: 104\n",
      "  Number of nonzeros: 344\n",
      "  Sense: minimize\n",
      "# ----------------------------------------------------------\n",
      "#   Solver Information\n",
      "# ----------------------------------------------------------\n",
      "Solver: \n",
      "- Status: ok\n",
      "  Return code: 0\n",
      "  Message: Model was solved to optimality (subject to tolerances), and an optimal solution is available.\n",
      "  Termination condition: optimal\n",
      "  Termination message: Model was solved to optimality (subject to tolerances), and an optimal solution is available.\n",
      "  Wall time: 0.0049991607666015625\n",
      "  Error rc: 0\n",
      "  Time: 0.17490792274475098\n",
      "# ----------------------------------------------------------\n",
      "#   Solution Information\n",
      "# ----------------------------------------------------------\n",
      "Solution: \n",
      "- number of solutions: 0\n",
      "  number of solutions displayed: 0\n"
     ]
    }
   ],
   "source": [
    "network = MGA_solver(network,0.01)"
   ]
  },
  {
   "cell_type": "code",
   "execution_count": 8,
   "metadata": {},
   "outputs": [],
   "source": [
    "def plot_generator_mix(network):\n",
    "    import matplotlib.pyplot as plt\n",
    "    labels = network.generators.index.tolist()\n",
    "    sizes = []\n",
    "    for generator in network.generators.index.tolist():\n",
    "        sizes.append(network.generators_t.p[generator].sum())\n",
    "\n",
    "\n",
    "    colors=['blue', 'orange', 'brown']\n",
    "    plt.figure()\n",
    "    plt.pie(sizes, \n",
    "            colors=colors, \n",
    "            labels=labels, \n",
    "            wedgeprops={'linewidth':0})\n",
    "    plt.axis('equal')\n",
    "\n",
    "    plt.title('Electricity mix', y=1.07)"
   ]
  },
  {
   "cell_type": "code",
   "execution_count": 9,
   "metadata": {},
   "outputs": [
    {
     "data": {
      "image/png": "[encoded data removed]",
      "text/plain": [
       "<Figure size 432x288 with 1 Axes>"
      ]
     },
     "metadata": {},
     "output_type": "display_data"
    },
    {
     "data": {
      "image/png": "[encoded data removed]",
      "text/plain": [
       "<Figure size 432x288 with 1 Axes>"
      ]
     },
     "metadata": {},
     "output_type": "display_data"
    },
    {
     "data": {
      "image/png": "[encoded data removed]",
      "text/plain": [
       "<Figure size 432x288 with 1 Axes>"
      ]
     },
     "metadata": {},
     "output_type": "display_data"
    }
   ],
   "source": [
    "for solution in network.solutions:\n",
    "    plot_generator_mix(solution) "
   ]
  },
  {
   "cell_type": "code",
   "execution_count": null,
   "metadata": {},
   "outputs": [],
   "source": []
  }
 ],
 "metadata": {
  "kernelspec": {
   "display_name": "Python 3",
   "language": "python",
   "name": "python3"
  },
  "language_info": {
   "codemirror_mode": {
    "name": "ipython",
    "version": 3
   },
   "file_extension": ".py",
   "mimetype": "text/x-python",
   "name": "python",
   "nbconvert_exporter": "python",
   "pygments_lexer": "ipython3",
   "version": "3.7.3"
  },
  "varInspector": {
   "cols": {
    "lenName": 16,
    "lenType": 16,
    "lenVar": 40
   },
   "kernels_config": {
    "python": {
     "delete_cmd_postfix": "",
     "delete_cmd_prefix": "del ",
     "library": "var_list.py",
     "varRefreshCmd": "print(var_dic_list())"
    },
    "r": {
     "delete_cmd_postfix": ") ",
     "delete_cmd_prefix": "rm(",
     "library": "var_list.r",
     "varRefreshCmd": "cat(var_dic_list()) "
    }
   },
   "types_to_exclude": [
    "module",
    "function",
    "builtin_function_or_method",
    "instance",
    "_Feature"
   ],
   "window_display": false
  }
 },
 "nbformat": 4,
 "nbformat_minor": 2
}
