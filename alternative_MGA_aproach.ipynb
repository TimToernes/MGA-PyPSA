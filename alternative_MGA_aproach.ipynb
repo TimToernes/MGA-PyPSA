{
 "cells": [
  {
   "cell_type": "markdown",
   "metadata": {},
   "source": [
    "## Alternative aproach to MGA using euclidean distance"
   ]
  },
  {
   "cell_type": "code",
   "execution_count": 1,
   "metadata": {},
   "outputs": [],
   "source": [
    "import pypsa\n",
    "import pandas as pd"
   ]
  },
  {
   "cell_type": "markdown",
   "metadata": {},
   "source": [
    "In this section a series of coppies of seperate disconected busses/networks is generated. They are all in the same PyPSA model, but will not influence each other"
   ]
  },
  {
   "cell_type": "markdown",
   "metadata": {},
   "source": [
    "### Network 1\n",
    "This is a simple network with a limited number of variables"
   ]
  },
  {
   "cell_type": "code",
   "execution_count": 2,
   "metadata": {},
   "outputs": [],
   "source": [
    "# Creating a networks and adding a MGA class to the network object\n",
    "network1 = pypsa.Network()\n",
    "class MGA:\n",
    "    pass\n",
    "network1.MGA = MGA\n",
    "network1.MGA.nr_of_networks = 5\n",
    "\n",
    "# Setting number of snapshots to simulate\n",
    "network1.set_snapshots(range(1))\n",
    "# Looping over the number of networks to be created,\n",
    "# and altering the bus name and the generator names.\n",
    "# The last number in the generator name indicates which instance\n",
    "# of the networks they belong to\n",
    "for i in range(network1.MGA.nr_of_networks):\n",
    "    \n",
    "    # Add a bus to the network.\n",
    "    bus_nr = 'bus'+str(i+1)\n",
    "    network1.add(\"Bus\",bus_nr,x=i,y=i%2)\n",
    "\n",
    "    # Add a coal power plant to the bus.\n",
    "    network1.add(\"Generator\",'coal'+str(i+1),bus=bus_nr,\n",
    "           type = 'coal',\n",
    "           committable=True,\n",
    "           p_min_pu=0.2,\n",
    "           marginal_cost=55,\n",
    "           capital_cost = 49000,\n",
    "           p_nom_extendable=True,\n",
    "           p_nom_max=4000)\n",
    "\n",
    "    # Add a gas power plant to the bus.\n",
    "    network1.add(\"Generator\",'gas'+str(i+1),bus=bus_nr,\n",
    "           type = 'gas',\n",
    "           committable=True,\n",
    "           marginal_cost=20,\n",
    "           capital_cost = 75000,\n",
    "           p_min_pu=0,\n",
    "           p_nom_extendable=True,\n",
    "           p_nom_max=2000)\n",
    "    # Add a gas power plant to the bus.\n",
    "    network1.add(\"Generator\",'bio'+str(i+1),bus=bus_nr,\n",
    "           type = 'bio',\n",
    "           committable=True,\n",
    "           marginal_cost=75,\n",
    "           capital_cost = 37500,\n",
    "           p_min_pu=0,\n",
    "           p_nom_extendable=True,\n",
    "           p_nom_max=3000)\n",
    "    # Add load to the bus.\n",
    "    network1.add(\"Load\",'load'+str(i+1),bus=bus_nr,p_set=[4000])"
   ]
  },
  {
   "cell_type": "code",
   "execution_count": 3,
   "metadata": {
    "scrolled": false
   },
   "outputs": [
    {
     "data": {
      "text/plain": [
       "(<matplotlib.collections.PathCollection at 0x2900c75e2e8>,)"
      ]
     },
     "execution_count": 3,
     "metadata": {},
     "output_type": "execute_result"
    },
    {
     "data": {
      "image/png": "[encoded data removed]",
      "text/plain": [
       "<Figure size 432x288 with 1 Axes>"
      ]
     },
     "metadata": {
      "needs_background": "light"
     },
     "output_type": "display_data"
    }
   ],
   "source": [
    "network1.plot()"
   ]
  },
  {
   "cell_type": "markdown",
   "metadata": {},
   "source": [
    "### Network 2\n",
    "A much more complex network, simulating an entire year of production with hourly data"
   ]
  },
  {
   "cell_type": "code",
   "execution_count": 4,
   "metadata": {},
   "outputs": [],
   "source": [
    "def annuity(n,r):\n",
    "    \"\"\"Calculate the annuity factor for an asset with lifetime n years and\n",
    "    discount rate of r, e.g. annuity(20,0.05)*20 = 1.6\"\"\"\n",
    "\n",
    "    if r > 0:\n",
    "        return r/(1. - 1./(1.+r)**n)\n",
    "    else:\n",
    "        return 1/n\n",
    "    \n",
    "# Create network\n",
    "network2 = pypsa.Network()\n",
    "class MGA:\n",
    "    pass\n",
    "network2.MGA = MGA\n",
    "network2.MGA.nr_of_networks = 5\n",
    "\n",
    "# Import of data\n",
    "hours_in_2018=pd.date_range('2017-06-01T00:00Z','2017-07-01T00:00Z',freq='H') #'2017-12-31T23:00Z'\n",
    "network2.set_snapshots(hours_in_2018)\n",
    "# wind data\n",
    "df_onshorewind = pd.read_csv('data/onshore_wind_1979-2017.csv',sep=';',index_col=0)\n",
    "CF_wind=df_onshorewind['ESP'][[hour.strftime(\"%Y-%m-%dT%H:%M:%SZ\") for hour in network2.snapshots]]\n",
    "capital_cost_onshorewind=annuity(30,0.07)*910000*(1+0.033) # in €/MW\n",
    "# solar data\n",
    "df_solar = pd.read_csv('data/pv_optimal.csv',sep=';',index_col=0)\n",
    "CF_solar=df_solar['ESP'][[hour.strftime(\"%Y-%m-%dT%H:%M:%SZ\") for hour in network2.snapshots]]\n",
    "capital_cost_solar=annuity(25,0.07)*425000*(1+0.03) # in €/MW\n",
    "# OCGT data\n",
    "capital_cost_OCGT=annuity(25,0.07)*560000*(1+0.033) # in €/MW\n",
    "fuel_cost=21.6 # in €/MWh_th\n",
    "efficiency=0.39\n",
    "marginal_cost_OCGT=fuel_cost/efficiency # in €/MWh_el\n",
    "\n",
    "# electricity demand data\n",
    "df_elec = pd.read_csv('data/Total Load - Day Ahead _ Actual_DK_201701010000-201801010000.csv',sep=',',index_col=0) # in MWh\n",
    "df_elec = df_elec[:network2.snapshots.size]\n",
    "\n",
    "# As with network1, i loop over the number of networks to be generated, \n",
    "# altering the index on the names\n",
    "for i in range(network2.MGA.nr_of_networks):\n",
    "\n",
    "    # Add a electricity bus to the network\n",
    "    bus_nr = 'bus'+str(i+1)\n",
    "    network2.add(\"Bus\",bus_nr)\n",
    "\n",
    "    # add load to the bus\n",
    "    network2.add(\"Load\",\"load\"+str(i+1), \n",
    "                bus=bus_nr, \n",
    "                p_set=df_elec['Actual Total Load [MW] - Denmark (DK)'].tolist())\n",
    "    \n",
    "    # add onshore wind generator\n",
    "    network2.add(\"Generator\",\n",
    "                \"onshorewind\"+str(i+1),\n",
    "                bus=bus_nr,\n",
    "                p_nom_extendable=True,\n",
    "                #carrier=\"onshorewind\",\n",
    "                #p_nom_max=1000,\n",
    "                capital_cost = capital_cost_onshorewind,\n",
    "                marginal_cost = 0,\n",
    "                p_max_pu = CF_wind)\n",
    "\n",
    "    # add solar PV generator\n",
    "    network2.add(\"Generator\",\n",
    "                \"solar\"+str(i+1),\n",
    "                bus=bus_nr,\n",
    "                p_nom_extendable=True,\n",
    "                #carrier=\"solar\",\n",
    "                #p_nom_max=1000,\n",
    "                capital_cost = capital_cost_solar,\n",
    "                marginal_cost = 0,\n",
    "                p_max_pu = CF_solar)\n",
    "\n",
    "\n",
    "    network2.add(\"Generator\",\n",
    "                \"OCGT\"+str(i+1),\n",
    "                bus=bus_nr,\n",
    "                p_nom_extendable=True,\n",
    "                #carrier=\"gas\",\n",
    "                p_nom_max=4000,\n",
    "                capital_cost = capital_cost_OCGT,\n",
    "                marginal_cost = marginal_cost_OCGT\n",
    "               )"
   ]
  },
  {
   "cell_type": "code",
   "execution_count": null,
   "metadata": {},
   "outputs": [],
   "source": []
  },
  {
   "cell_type": "markdown",
   "metadata": {},
   "source": [
    "As with the regular MGA aproach the network is first solved without the new objective function"
   ]
  },
  {
   "cell_type": "code",
   "execution_count": 5,
   "metadata": {
    "scrolled": false
   },
   "outputs": [
    {
     "name": "stderr",
     "output_type": "stream",
     "text": [
      "INFO:pypsa.pf:Slack bus for sub-network 0 is bus1\n",
      "INFO:pypsa.pf:Slack bus for sub-network 1 is bus2\n",
      "INFO:pypsa.pf:Slack bus for sub-network 2 is bus3\n",
      "INFO:pypsa.pf:Slack bus for sub-network 3 is bus4\n",
      "INFO:pypsa.pf:Slack bus for sub-network 4 is bus5\n",
      "INFO:pypsa.opf:Performed preliminary steps\n",
      "INFO:pypsa.opf:Building pyomo model using `angles` formulation\n",
      "WARNING:pypsa.opf:The following generators have both investment optimisation and unit commitment:\n",
      "Index(['coal1', 'gas1', 'bio1', 'coal2', 'gas2', 'bio2', 'coal3', 'gas3',\n",
      "       'bio3', 'coal4', 'gas4', 'bio4', 'coal5', 'gas5', 'bio5'],\n",
      "      dtype='object')\n",
      "Currently PyPSA cannot do both these functions, so PyPSA is choosing investment optimisation for these generators.\n",
      "INFO:pypsa.opf:Solving model using gurobi\n",
      "INFO:pypsa.opf:Optimization successful\n"
     ]
    },
    {
     "name": "stdout",
     "output_type": "stream",
     "text": [
      "# ==========================================================\n",
      "# = Solver Results                                         =\n",
      "# ==========================================================\n",
      "# ----------------------------------------------------------\n",
      "#   Problem Information\n",
      "# ----------------------------------------------------------\n",
      "Problem: \n",
      "- Name: x36\n",
      "  Lower bound: 808900000.0\n",
      "  Upper bound: 808900000.0\n",
      "  Number of objectives: 1\n",
      "  Number of constraints: 41\n",
      "  Number of variables: 36\n",
      "  Number of binary variables: 0\n",
      "  Number of integer variables: 0\n",
      "  Number of continuous variables: 36\n",
      "  Number of nonzeros: 71\n",
      "  Sense: minimize\n",
      "# ----------------------------------------------------------\n",
      "#   Solver Information\n",
      "# ----------------------------------------------------------\n",
      "Solver: \n",
      "- Status: ok\n",
      "  Return code: 0\n",
      "  Message: Model was solved to optimality (subject to tolerances), and an optimal solution is available.\n",
      "  Termination condition: optimal\n",
      "  Termination message: Model was solved to optimality (subject to tolerances), and an optimal solution is available.\n",
      "  Wall time: 0.0040493011474609375\n",
      "  Error rc: 0\n",
      "  Time: 0.17595314979553223\n",
      "# ----------------------------------------------------------\n",
      "#   Solution Information\n",
      "# ----------------------------------------------------------\n",
      "Solution: \n",
      "- number of solutions: 0\n",
      "  number of solutions displayed: 0\n"
     ]
    },
    {
     "data": {
      "text/plain": [
       "('ok', 'optimal')"
      ]
     },
     "execution_count": 5,
     "metadata": {},
     "output_type": "execute_result"
    }
   ],
   "source": [
    "    # Initial solution of network, with non MGA objective function \n",
    "    network = network1\n",
    "    network.lopf(network.snapshots,solver_name='gurobi')"
   ]
  },
  {
   "cell_type": "markdown",
   "metadata": {},
   "source": [
    "The initial solution will alway contain a set of identical networks. The last number in the generators describe which network they belong to"
   ]
  },
  {
   "cell_type": "code",
   "execution_count": 6,
   "metadata": {
    "scrolled": true
   },
   "outputs": [
    {
     "data": {
      "text/html": [
       "<div>\n",
       "<style scoped>\n",
       "    .dataframe tbody tr th:only-of-type {\n",
       "        vertical-align: middle;\n",
       "    }\n",
       "\n",
       "    .dataframe tbody tr th {\n",
       "        vertical-align: top;\n",
       "    }\n",
       "\n",
       "    .dataframe thead th {\n",
       "        text-align: right;\n",
       "    }\n",
       "</style>\n",
       "<table border=\"1\" class=\"dataframe\">\n",
       "  <thead>\n",
       "    <tr style=\"text-align: right;\">\n",
       "      <th></th>\n",
       "      <th>coal1</th>\n",
       "      <th>gas1</th>\n",
       "      <th>bio1</th>\n",
       "      <th>coal2</th>\n",
       "      <th>gas2</th>\n",
       "      <th>bio2</th>\n",
       "      <th>coal3</th>\n",
       "      <th>gas3</th>\n",
       "      <th>bio3</th>\n",
       "      <th>coal4</th>\n",
       "      <th>gas4</th>\n",
       "      <th>bio4</th>\n",
       "      <th>coal5</th>\n",
       "      <th>gas5</th>\n",
       "      <th>bio5</th>\n",
       "    </tr>\n",
       "  </thead>\n",
       "  <tbody>\n",
       "    <tr>\n",
       "      <th>0</th>\n",
       "      <td>1000.0</td>\n",
       "      <td>0.0</td>\n",
       "      <td>3000.0</td>\n",
       "      <td>1000.0</td>\n",
       "      <td>0.0</td>\n",
       "      <td>3000.0</td>\n",
       "      <td>1000.0</td>\n",
       "      <td>0.0</td>\n",
       "      <td>3000.0</td>\n",
       "      <td>1000.0</td>\n",
       "      <td>0.0</td>\n",
       "      <td>3000.0</td>\n",
       "      <td>1000.0</td>\n",
       "      <td>0.0</td>\n",
       "      <td>3000.0</td>\n",
       "    </tr>\n",
       "  </tbody>\n",
       "</table>\n",
       "</div>"
      ],
      "text/plain": [
       "    coal1  gas1    bio1   coal2  gas2    bio2   coal3  gas3    bio3   coal4  \\\n",
       "0  1000.0   0.0  3000.0  1000.0   0.0  3000.0  1000.0   0.0  3000.0  1000.0   \n",
       "\n",
       "   gas4    bio4   coal5  gas5    bio5  \n",
       "0   0.0  3000.0  1000.0   0.0  3000.0  "
      ]
     },
     "execution_count": 6,
     "metadata": {},
     "output_type": "execute_result"
    }
   ],
   "source": [
    "network.generators_t.p"
   ]
  },
  {
   "cell_type": "code",
   "execution_count": 7,
   "metadata": {},
   "outputs": [
    {
     "data": {
      "text/plain": [
       "161.78"
      ]
     },
     "execution_count": 7,
     "metadata": {},
     "output_type": "execute_result"
    }
   ],
   "source": [
    "    # Saving the value of the old objective function.\n",
    "    old_objective_value = network.model.objective()\n",
    "    old_objective_value/network.MGA.nr_of_networks/1000000"
   ]
  },
  {
   "cell_type": "markdown",
   "metadata": {},
   "source": [
    "## Defining an alternative objective function \n",
    "\n",
    "In this alternative aproach, the MGA objective function seeks to maximize the distance between a number $N$ of networks with $K$ variables. The distance between the networks can be described with the squared euqlidian distance for an $n$ dimentional vector. \n",
    "\n",
    "$ d = \\sum_{i=1}^n{(x_{i}-x_{i})^2} $\n",
    "\n",
    "By summing the distance from each network to all other networks, an expression describing the distinction between the networks is found. The following objective function will try to maximize the distance between all networks:\n",
    "\n",
    "$N$ : Number of independent networks \n",
    "\n",
    "$K$ : Number of variables in each network\n",
    "\n",
    "$x$ : 2D vector containing all variables. 1st index specifies the variable and 2nd index specifies the network\n",
    "\n",
    "$ p= - \\frac{1}{2}  \\sum_i^N{\\sum_j^N{\\sum_k^K{(x_{k,i}-x_{k,j})^2}}}  $ \n",
    "\n",
    "The drawback is that the objective function is now a square function, increasing computation time, however gurobi is capable of handeling it, at least for smaller energy systems"
   ]
  },
  {
   "cell_type": "code",
   "execution_count": 44,
   "metadata": {},
   "outputs": [],
   "source": [
    "def extra_functionality(network, snapshots,  MGA_slack = 0.05):\n",
    "    # Defining exstra functionality, that updates the objective function of the network\n",
    "    # Default value for MGA_slack is 0.05 if nothing else is specified \n",
    "    import pyomo.environ as pyomo_env\n",
    "\n",
    "    # Number of networks\n",
    "    #N = int(list(network.generators_t.p.columns)[-1][-1]) \n",
    "    N = network.MGA.nr_of_networks\n",
    "    # Generating a list of variables sorted after their variable index and network number\n",
    "    # First index: Variable nr\n",
    "    # Second index: Network number    \n",
    "    gen_p_list = [[] for i in range(N)]\n",
    "    for gen_p in network.model.generator_p:\n",
    "        gen_p_network_idx = int(gen_p[0][-1])-1\n",
    "        gen_p_list[gen_p_network_idx].append(gen_p)\n",
    "    # Number of variables in each network\n",
    "    K = len(gen_p_list[0]) \n",
    "\n",
    "    # Creating the MGA objective function\n",
    "    MGA_objective = 0\n",
    "    for i in range(N):\n",
    "        for j in range(N):\n",
    "            for k in range(K):\n",
    "                if i < j:\n",
    "                    gen_p1 = network.model.generator_p[gen_p_list[i][k]]\n",
    "                    gen_p2 = network.model.generator_p[gen_p_list[j][k]]\n",
    "                    MGA_objective += (gen_p1**2 + gen_p2**2 - 2*gen_p1*gen_p2 )\n",
    "    # Changing sign of objective function to make it a minimization problem\n",
    "    MGA_objective = - MGA_objective \n",
    "    #print (MGA_objective)\n",
    "\n",
    "    # Adding new MGA objective function to network \n",
    "    network.model.mga_objective = pyomo_env.Objective(expr=MGA_objective)\n",
    "    # Deactivate the old objective function and activate the MGA objective function.\n",
    "    network.model.objective.deactivate()\n",
    "    network.model.mga_objective.activate()\n",
    "    # Add the MGA slack constraint.\n",
    "    #network.model.mga_constraint = pyomo_env.Constraint(expr=network.model.objective.expr <= \n",
    "    #                                      (1 + MGA_slack) * old_objective_value)\n",
    "\n",
    "\n",
    "    constraint0 = 0\n",
    "    constraint1 = 0\n",
    "    constraint2 = 0\n",
    "    constraint3 = 0\n",
    "    constraint4 = 0\n",
    "    for i in range(3):\n",
    "        constraint0 += network.generators.ix[i,'marginal_cost']*network.model.generator_p[gen_p_list[0][i]]\n",
    "        constraint0 += network.generators.ix[i,'capital_cost']*network.model.generator_p_nom[gen_p_list[0][i]]\n",
    "        constraint1 += network.generators.ix[i,'marginal_cost']*network.model.generator_p[gen_p_list[1][i]]\n",
    "        constraint1 += network.generators.ix[i,'capital_cost']*network.model.generator_p[gen_p_list[1][i]]\n",
    "        constraint2 += network.generators.ix[i,'marginal_cost']*network.model.generator_p[gen_p_list[2][i]]\n",
    "        constraint2 += network.generators.ix[i,'capital_cost']*network.model.generator_p[gen_p_list[2][i]]\n",
    "        constraint3 += network.generators.ix[i,'marginal_cost']*network.model.generator_p[gen_p_list[3][i]]\n",
    "        constraint3 += network.generators.ix[i,'capital_cost']*network.model.generator_p[gen_p_list[3][i]]\n",
    "        constraint4 += network.generators.ix[i,'marginal_cost']*network.model.generator_p[gen_p_list[4][i]]\n",
    "        constraint4 += network.generators.ix[i,'capital_cost']*network.model.generator_p[gen_p_list[4][i]]\n",
    "    \n",
    "    network.model.mga_constraint0 = pyomo_env.Constraint(expr = constraint0<= (1 + MGA_slack) * old_objective_value/5)\n",
    "    network.model.mga_constraint1 = pyomo_env.Constraint(expr = constraint1<= (1 + MGA_slack) * old_objective_value/5)\n",
    "    network.model.mga_constraint2 = pyomo_env.Constraint(expr = constraint2<= (1 + MGA_slack) * old_objective_value/5)\n",
    "    network.model.mga_constraint3 = pyomo_env.Constraint(expr = constraint3<= (1 + MGA_slack) * old_objective_value/5)\n",
    "    network.model.mga_constraint4 = pyomo_env.Constraint(expr = constraint4<= (1 + MGA_slack) * old_objective_value/5)"
   ]
  },
  {
   "cell_type": "code",
   "execution_count": 45,
   "metadata": {},
   "outputs": [
    {
     "name": "stdout",
     "output_type": "stream",
     "text": [
      "generator_p\n"
     ]
    }
   ],
   "source": [
    "#print(network.model.objective.expr)\n",
    "\n",
    "print(network.model.generator_p)"
   ]
  },
  {
   "cell_type": "markdown",
   "metadata": {},
   "source": [
    "### Solving network with MGA objective function"
   ]
  },
  {
   "cell_type": "code",
   "execution_count": 46,
   "metadata": {
    "scrolled": true
   },
   "outputs": [
    {
     "name": "stderr",
     "output_type": "stream",
     "text": [
      "INFO:pypsa.pf:Slack bus for sub-network 0 is bus1\n",
      "INFO:pypsa.pf:Slack bus for sub-network 1 is bus2\n",
      "INFO:pypsa.pf:Slack bus for sub-network 2 is bus3\n",
      "INFO:pypsa.pf:Slack bus for sub-network 3 is bus4\n",
      "INFO:pypsa.pf:Slack bus for sub-network 4 is bus5\n",
      "INFO:pypsa.opf:Performed preliminary steps\n",
      "INFO:pypsa.opf:Building pyomo model using `angles` formulation\n",
      "WARNING:pypsa.opf:The following generators have both investment optimisation and unit commitment:\n",
      "Index(['coal1', 'gas1', 'bio1', 'coal2', 'gas2', 'bio2', 'coal3', 'gas3',\n",
      "       'bio3', 'coal4', 'gas4', 'bio4', 'coal5', 'gas5', 'bio5'],\n",
      "      dtype='object')\n",
      "Currently PyPSA cannot do both these functions, so PyPSA is choosing investment optimisation for these generators.\n",
      "C:\\Users\\Tim\\Anaconda3\\lib\\site-packages\\ipykernel_launcher.py:48: DeprecationWarning: \n",
      ".ix is deprecated. Please use\n",
      ".loc for label based indexing or\n",
      ".iloc for positional indexing\n",
      "\n",
      "See the documentation here:\n",
      "http://pandas.pydata.org/pandas-docs/stable/indexing.html#ix-indexer-is-deprecated\n",
      "C:\\Users\\Tim\\Anaconda3\\lib\\site-packages\\ipykernel_launcher.py:49: DeprecationWarning: \n",
      ".ix is deprecated. Please use\n",
      ".loc for label based indexing or\n",
      ".iloc for positional indexing\n",
      "\n",
      "See the documentation here:\n",
      "http://pandas.pydata.org/pandas-docs/stable/indexing.html#ix-indexer-is-deprecated\n"
     ]
    },
    {
     "ename": "KeyError",
     "evalue": "\"Index '('coal1', 0)' is not valid for indexed component 'generator_p_nom'\"",
     "output_type": "error",
     "traceback": [
      "\u001b[1;31m---------------------------------------------------------------------------\u001b[0m",
      "\u001b[1;31mKeyError\u001b[0m                                  Traceback (most recent call last)",
      "\u001b[1;32m<ipython-input-46-d82470b12fd5>\u001b[0m in \u001b[0;36m<module>\u001b[1;34m\u001b[0m\n\u001b[0;32m      5\u001b[0m              \u001b[0mextra_functionality\u001b[0m\u001b[1;33m=\u001b[0m\u001b[1;32mlambda\u001b[0m \u001b[0mnetwork\u001b[0m\u001b[1;33m,\u001b[0m\u001b[0;31m\\\u001b[0m\u001b[1;33m\u001b[0m\u001b[1;33m\u001b[0m\u001b[0m\n\u001b[0;32m      6\u001b[0m              \u001b[0msnapshots\u001b[0m\u001b[1;33m:\u001b[0m \u001b[0mextra_functionality\u001b[0m\u001b[1;33m(\u001b[0m\u001b[0mnetwork\u001b[0m\u001b[1;33m,\u001b[0m \u001b[0msnapshots\u001b[0m\u001b[1;33m,\u001b[0m \u001b[0mMGA_slack\u001b[0m\u001b[1;33m)\u001b[0m\u001b[1;33m,\u001b[0m\u001b[1;33m\u001b[0m\u001b[1;33m\u001b[0m\u001b[0m\n\u001b[1;32m----> 7\u001b[1;33m              solver_options = {'psdtol':100,'presolve':-1}) \n\u001b[0m",
      "\u001b[1;32m~\\Anaconda3\\lib\\site-packages\\pypsa\\opf.py\u001b[0m in \u001b[0;36mnetwork_lopf\u001b[1;34m(network, snapshots, solver_name, solver_io, skip_pre, extra_functionality, solver_logfile, solver_options, keep_files, formulation, ptdf_tolerance, free_memory, extra_postprocessing)\u001b[0m\n\u001b[0;32m   1564\u001b[0m \u001b[1;33m\u001b[0m\u001b[0m\n\u001b[0;32m   1565\u001b[0m     \u001b[1;32mif\u001b[0m \u001b[0mextra_functionality\u001b[0m \u001b[1;32mis\u001b[0m \u001b[1;32mnot\u001b[0m \u001b[1;32mNone\u001b[0m\u001b[1;33m:\u001b[0m\u001b[1;33m\u001b[0m\u001b[1;33m\u001b[0m\u001b[0m\n\u001b[1;32m-> 1566\u001b[1;33m         \u001b[0mextra_functionality\u001b[0m\u001b[1;33m(\u001b[0m\u001b[0mnetwork\u001b[0m\u001b[1;33m,\u001b[0m\u001b[0msnapshots\u001b[0m\u001b[1;33m)\u001b[0m\u001b[1;33m\u001b[0m\u001b[1;33m\u001b[0m\u001b[0m\n\u001b[0m\u001b[0;32m   1567\u001b[0m \u001b[1;33m\u001b[0m\u001b[0m\n\u001b[0;32m   1568\u001b[0m     network_lopf_prepare_solver(network, solver_name=solver_name,\n",
      "\u001b[1;32m<ipython-input-46-d82470b12fd5>\u001b[0m in \u001b[0;36m<lambda>\u001b[1;34m(network, snapshots)\u001b[0m\n\u001b[0;32m      4\u001b[0m              \u001b[0msolver_name\u001b[0m\u001b[1;33m=\u001b[0m\u001b[1;34m'gurobi'\u001b[0m\u001b[1;33m,\u001b[0m\u001b[0;31m\\\u001b[0m\u001b[1;33m\u001b[0m\u001b[1;33m\u001b[0m\u001b[0m\n\u001b[0;32m      5\u001b[0m              \u001b[0mextra_functionality\u001b[0m\u001b[1;33m=\u001b[0m\u001b[1;32mlambda\u001b[0m \u001b[0mnetwork\u001b[0m\u001b[1;33m,\u001b[0m\u001b[0;31m\\\u001b[0m\u001b[1;33m\u001b[0m\u001b[1;33m\u001b[0m\u001b[0m\n\u001b[1;32m----> 6\u001b[1;33m              \u001b[0msnapshots\u001b[0m\u001b[1;33m:\u001b[0m \u001b[0mextra_functionality\u001b[0m\u001b[1;33m(\u001b[0m\u001b[0mnetwork\u001b[0m\u001b[1;33m,\u001b[0m \u001b[0msnapshots\u001b[0m\u001b[1;33m,\u001b[0m \u001b[0mMGA_slack\u001b[0m\u001b[1;33m)\u001b[0m\u001b[1;33m,\u001b[0m\u001b[1;33m\u001b[0m\u001b[1;33m\u001b[0m\u001b[0m\n\u001b[0m\u001b[0;32m      7\u001b[0m              solver_options = {'psdtol':100,'presolve':-1}) \n",
      "\u001b[1;32m<ipython-input-44-3df5dbfbb32f>\u001b[0m in \u001b[0;36mextra_functionality\u001b[1;34m(network, snapshots, MGA_slack)\u001b[0m\n\u001b[0;32m     47\u001b[0m     \u001b[1;32mfor\u001b[0m \u001b[0mi\u001b[0m \u001b[1;32min\u001b[0m \u001b[0mrange\u001b[0m\u001b[1;33m(\u001b[0m\u001b[1;36m3\u001b[0m\u001b[1;33m)\u001b[0m\u001b[1;33m:\u001b[0m\u001b[1;33m\u001b[0m\u001b[1;33m\u001b[0m\u001b[0m\n\u001b[0;32m     48\u001b[0m         \u001b[0mconstraint0\u001b[0m \u001b[1;33m+=\u001b[0m \u001b[0mnetwork\u001b[0m\u001b[1;33m.\u001b[0m\u001b[0mgenerators\u001b[0m\u001b[1;33m.\u001b[0m\u001b[0mix\u001b[0m\u001b[1;33m[\u001b[0m\u001b[0mi\u001b[0m\u001b[1;33m,\u001b[0m\u001b[1;34m'marginal_cost'\u001b[0m\u001b[1;33m]\u001b[0m\u001b[1;33m*\u001b[0m\u001b[0mnetwork\u001b[0m\u001b[1;33m.\u001b[0m\u001b[0mmodel\u001b[0m\u001b[1;33m.\u001b[0m\u001b[0mgenerator_p\u001b[0m\u001b[1;33m[\u001b[0m\u001b[0mgen_p_list\u001b[0m\u001b[1;33m[\u001b[0m\u001b[1;36m0\u001b[0m\u001b[1;33m]\u001b[0m\u001b[1;33m[\u001b[0m\u001b[0mi\u001b[0m\u001b[1;33m]\u001b[0m\u001b[1;33m]\u001b[0m\u001b[1;33m\u001b[0m\u001b[1;33m\u001b[0m\u001b[0m\n\u001b[1;32m---> 49\u001b[1;33m         \u001b[0mconstraint0\u001b[0m \u001b[1;33m+=\u001b[0m \u001b[0mnetwork\u001b[0m\u001b[1;33m.\u001b[0m\u001b[0mgenerators\u001b[0m\u001b[1;33m.\u001b[0m\u001b[0mix\u001b[0m\u001b[1;33m[\u001b[0m\u001b[0mi\u001b[0m\u001b[1;33m,\u001b[0m\u001b[1;34m'capital_cost'\u001b[0m\u001b[1;33m]\u001b[0m\u001b[1;33m*\u001b[0m\u001b[0mnetwork\u001b[0m\u001b[1;33m.\u001b[0m\u001b[0mmodel\u001b[0m\u001b[1;33m.\u001b[0m\u001b[0mgenerator_p_nom\u001b[0m\u001b[1;33m[\u001b[0m\u001b[0mgen_p_list\u001b[0m\u001b[1;33m[\u001b[0m\u001b[1;36m0\u001b[0m\u001b[1;33m]\u001b[0m\u001b[1;33m[\u001b[0m\u001b[0mi\u001b[0m\u001b[1;33m]\u001b[0m\u001b[1;33m]\u001b[0m\u001b[1;33m\u001b[0m\u001b[1;33m\u001b[0m\u001b[0m\n\u001b[0m\u001b[0;32m     50\u001b[0m         \u001b[0mconstraint1\u001b[0m \u001b[1;33m+=\u001b[0m \u001b[0mnetwork\u001b[0m\u001b[1;33m.\u001b[0m\u001b[0mgenerators\u001b[0m\u001b[1;33m.\u001b[0m\u001b[0mix\u001b[0m\u001b[1;33m[\u001b[0m\u001b[0mi\u001b[0m\u001b[1;33m,\u001b[0m\u001b[1;34m'marginal_cost'\u001b[0m\u001b[1;33m]\u001b[0m\u001b[1;33m*\u001b[0m\u001b[0mnetwork\u001b[0m\u001b[1;33m.\u001b[0m\u001b[0mmodel\u001b[0m\u001b[1;33m.\u001b[0m\u001b[0mgenerator_p\u001b[0m\u001b[1;33m[\u001b[0m\u001b[0mgen_p_list\u001b[0m\u001b[1;33m[\u001b[0m\u001b[1;36m1\u001b[0m\u001b[1;33m]\u001b[0m\u001b[1;33m[\u001b[0m\u001b[0mi\u001b[0m\u001b[1;33m]\u001b[0m\u001b[1;33m]\u001b[0m\u001b[1;33m\u001b[0m\u001b[1;33m\u001b[0m\u001b[0m\n\u001b[0;32m     51\u001b[0m         \u001b[0mconstraint1\u001b[0m \u001b[1;33m+=\u001b[0m \u001b[0mnetwork\u001b[0m\u001b[1;33m.\u001b[0m\u001b[0mgenerators\u001b[0m\u001b[1;33m.\u001b[0m\u001b[0mix\u001b[0m\u001b[1;33m[\u001b[0m\u001b[0mi\u001b[0m\u001b[1;33m,\u001b[0m\u001b[1;34m'capital_cost'\u001b[0m\u001b[1;33m]\u001b[0m\u001b[1;33m*\u001b[0m\u001b[0mnetwork\u001b[0m\u001b[1;33m.\u001b[0m\u001b[0mmodel\u001b[0m\u001b[1;33m.\u001b[0m\u001b[0mgenerator_p\u001b[0m\u001b[1;33m[\u001b[0m\u001b[0mgen_p_list\u001b[0m\u001b[1;33m[\u001b[0m\u001b[1;36m1\u001b[0m\u001b[1;33m]\u001b[0m\u001b[1;33m[\u001b[0m\u001b[0mi\u001b[0m\u001b[1;33m]\u001b[0m\u001b[1;33m]\u001b[0m\u001b[1;33m\u001b[0m\u001b[1;33m\u001b[0m\u001b[0m\n",
      "\u001b[1;32m~\\Anaconda3\\lib\\site-packages\\pyomo\\core\\base\\indexed_component.py\u001b[0m in \u001b[0;36m__getitem__\u001b[1;34m(self, index)\u001b[0m\n\u001b[0;32m    340\u001b[0m             \u001b[1;32mif\u001b[0m \u001b[0mindex\u001b[0m\u001b[1;33m.\u001b[0m\u001b[0m__class__\u001b[0m \u001b[1;32mis\u001b[0m \u001b[0mEXPR\u001b[0m\u001b[1;33m.\u001b[0m\u001b[0mGetItemExpression\u001b[0m\u001b[1;33m:\u001b[0m\u001b[1;33m\u001b[0m\u001b[1;33m\u001b[0m\u001b[0m\n\u001b[0;32m    341\u001b[0m                 \u001b[1;32mreturn\u001b[0m \u001b[0mindex\u001b[0m\u001b[1;33m\u001b[0m\u001b[1;33m\u001b[0m\u001b[0m\n\u001b[1;32m--> 342\u001b[1;33m             \u001b[0mvalidated_index\u001b[0m \u001b[1;33m=\u001b[0m \u001b[0mself\u001b[0m\u001b[1;33m.\u001b[0m\u001b[0m_validate_index\u001b[0m\u001b[1;33m(\u001b[0m\u001b[0mindex\u001b[0m\u001b[1;33m)\u001b[0m\u001b[1;33m\u001b[0m\u001b[1;33m\u001b[0m\u001b[0m\n\u001b[0m\u001b[0;32m    343\u001b[0m             \u001b[1;32mif\u001b[0m \u001b[0mvalidated_index\u001b[0m \u001b[1;32mis\u001b[0m \u001b[1;32mnot\u001b[0m \u001b[0mindex\u001b[0m\u001b[1;33m:\u001b[0m\u001b[1;33m\u001b[0m\u001b[1;33m\u001b[0m\u001b[0m\n\u001b[0;32m    344\u001b[0m                 \u001b[0mindex\u001b[0m \u001b[1;33m=\u001b[0m \u001b[0mvalidated_index\u001b[0m\u001b[1;33m\u001b[0m\u001b[1;33m\u001b[0m\u001b[0m\n",
      "\u001b[1;32m~\\Anaconda3\\lib\\site-packages\\pyomo\\core\\base\\indexed_component.py\u001b[0m in \u001b[0;36m_validate_index\u001b[1;34m(self, idx)\u001b[0m\n\u001b[0;32m    500\u001b[0m         raise KeyError(\n\u001b[0;32m    501\u001b[0m             \u001b[1;34m\"Index '%s' is not valid for indexed component '%s'\"\u001b[0m\u001b[1;33m\u001b[0m\u001b[1;33m\u001b[0m\u001b[0m\n\u001b[1;32m--> 502\u001b[1;33m             % ( idx, self.name, ))\n\u001b[0m\u001b[0;32m    503\u001b[0m \u001b[1;33m\u001b[0m\u001b[0m\n\u001b[0;32m    504\u001b[0m     \u001b[1;32mdef\u001b[0m \u001b[0m_processUnhashableIndex\u001b[0m\u001b[1;33m(\u001b[0m\u001b[0mself\u001b[0m\u001b[1;33m,\u001b[0m \u001b[0midx\u001b[0m\u001b[1;33m)\u001b[0m\u001b[1;33m:\u001b[0m\u001b[1;33m\u001b[0m\u001b[1;33m\u001b[0m\u001b[0m\n",
      "\u001b[1;31mKeyError\u001b[0m: \"Index '('coal1', 0)' is not valid for indexed component 'generator_p_nom'\""
     ]
    }
   ],
   "source": [
    "MGA_slack = 0.1\n",
    "#Solve network with updated objective function\n",
    "network.lopf(network.snapshots,\\\n",
    "             solver_name='gurobi',\\\n",
    "             extra_functionality=lambda network,\\\n",
    "             snapshots: extra_functionality(network, snapshots, MGA_slack),\n",
    "             solver_options = {'psdtol':100,'presolve':-1}) "
   ]
  },
  {
   "cell_type": "code",
   "execution_count": 24,
   "metadata": {},
   "outputs": [
    {
     "data": {
      "text/html": [
       "<div>\n",
       "<style scoped>\n",
       "    .dataframe tbody tr th:only-of-type {\n",
       "        vertical-align: middle;\n",
       "    }\n",
       "\n",
       "    .dataframe tbody tr th {\n",
       "        vertical-align: top;\n",
       "    }\n",
       "\n",
       "    .dataframe thead th {\n",
       "        text-align: right;\n",
       "    }\n",
       "</style>\n",
       "<table border=\"1\" class=\"dataframe\">\n",
       "  <thead>\n",
       "    <tr style=\"text-align: right;\">\n",
       "      <th></th>\n",
       "      <th>coal1</th>\n",
       "      <th>gas1</th>\n",
       "      <th>bio1</th>\n",
       "      <th>coal2</th>\n",
       "      <th>gas2</th>\n",
       "      <th>bio2</th>\n",
       "      <th>coal3</th>\n",
       "      <th>gas3</th>\n",
       "      <th>bio3</th>\n",
       "      <th>coal4</th>\n",
       "      <th>gas4</th>\n",
       "      <th>bio4</th>\n",
       "      <th>coal5</th>\n",
       "      <th>gas5</th>\n",
       "      <th>bio5</th>\n",
       "    </tr>\n",
       "  </thead>\n",
       "  <tbody>\n",
       "    <tr>\n",
       "      <th>0</th>\n",
       "      <td>2409.233449</td>\n",
       "      <td>1.297806e-14</td>\n",
       "      <td>1590.766551</td>\n",
       "      <td>1704.320765</td>\n",
       "      <td>216.114237</td>\n",
       "      <td>2079.564998</td>\n",
       "      <td>1704.320651</td>\n",
       "      <td>216.114272</td>\n",
       "      <td>2079.565077</td>\n",
       "      <td>1704.320875</td>\n",
       "      <td>216.114204</td>\n",
       "      <td>2079.564921</td>\n",
       "      <td>376.930483</td>\n",
       "      <td>623.069517</td>\n",
       "      <td>3000.0</td>\n",
       "    </tr>\n",
       "  </tbody>\n",
       "</table>\n",
       "</div>"
      ],
      "text/plain": [
       "         coal1          gas1         bio1        coal2        gas2  \\\n",
       "0  2409.233449  1.297806e-14  1590.766551  1704.320765  216.114237   \n",
       "\n",
       "          bio2        coal3        gas3         bio3        coal4        gas4  \\\n",
       "0  2079.564998  1704.320651  216.114272  2079.565077  1704.320875  216.114204   \n",
       "\n",
       "          bio4       coal5        gas5    bio5  \n",
       "0  2079.564921  376.930483  623.069517  3000.0  "
      ]
     },
     "execution_count": 24,
     "metadata": {},
     "output_type": "execute_result"
    }
   ],
   "source": [
    "network.generators_t.p"
   ]
  },
  {
   "cell_type": "markdown",
   "metadata": {},
   "source": [
    "### Plotting funciton "
   ]
  },
  {
   "cell_type": "code",
   "execution_count": 25,
   "metadata": {},
   "outputs": [
    {
     "data": {
      "image/png": "[encoded data removed]",
      "text/plain": [
       "<Figure size 648x216 with 2 Axes>"
      ]
     },
     "metadata": {
      "needs_background": "light"
     },
     "output_type": "display_data"
    },
    {
     "data": {
      "image/png": "[encoded data removed]",
      "text/plain": [
       "<Figure size 648x216 with 2 Axes>"
      ]
     },
     "metadata": {
      "needs_background": "light"
     },
     "output_type": "display_data"
    },
    {
     "data": {
      "image/png": "[encoded data removed]",
      "text/plain": [
       "<Figure size 648x216 with 2 Axes>"
      ]
     },
     "metadata": {
      "needs_background": "light"
     },
     "output_type": "display_data"
    },
    {
     "data": {
      "image/png": "[encoded data removed]",
      "text/plain": [
       "<Figure size 648x216 with 2 Axes>"
      ]
     },
     "metadata": {
      "needs_background": "light"
     },
     "output_type": "display_data"
    },
    {
     "data": {
      "image/png": "[encoded data removed]",
      "text/plain": [
       "<Figure size 648x216 with 2 Axes>"
      ]
     },
     "metadata": {
      "needs_background": "light"
     },
     "output_type": "display_data"
    }
   ],
   "source": [
    "import matplotlib.pyplot as plt\n",
    "labels = network.generators.index.tolist()\n",
    "productions = [] # Production in MWh per technology\n",
    "for generator in network.generators.index.tolist():\n",
    "    productions.append(network.generators_t.p[generator].sum())\n",
    "\n",
    "sizes=network.generators['p_nom_opt'] # Plant sizes in MW\n",
    "\n",
    "generator_cost = network.generators['capital_cost']*sizes+productions*network.generators['marginal_cost']\n",
    "network_cost = [] # Total cost for one year of opperation\n",
    "for i in range(network.MGA.nr_of_networks):\n",
    "    network_cost.append( int(sum(generator_cost[i*3:i*3+3])/1000000))\n",
    "    \n",
    "for idx in range(network.MGA.nr_of_networks):\n",
    "    colors=['blue', 'orange', 'brown']\n",
    "    fig, axs = plt.subplots(1, 2, figsize=(9, 3), sharey=False)\n",
    "    #plt.figure(idx+1)\n",
    "    \n",
    "    fig.suptitle('Solution '+str(idx+1) + ', Cost: ' + str(network_cost[idx]),y=1.1)\n",
    "    \n",
    "    axs[0].pie(productions[3*idx:3*idx+3], \n",
    "            colors=colors, \n",
    "            labels=labels[3*idx:3*idx+3], \n",
    "            wedgeprops={'linewidth':0})\n",
    "    axs[0].axis('equal')\n",
    "    axs[0].set_title('Electricity mix [MWh]', y=1)\n",
    "    \n",
    "    axs[1].bar([0,1,2],\n",
    "               sizes[3*idx:3*idx+3], \n",
    "               width=0.8,\n",
    "               bottom=-1)\n",
    "    axs[1].set_ylim(0,max(sizes)*1.1)\n",
    "    axs[1].set_xticks([0,1,2])\n",
    "    axs[1].set_xticklabels(labels[3*idx:3*idx+3])\n",
    "    axs[1].set_title('Generator sizes [MW]', y=1)"
   ]
  },
  {
   "cell_type": "code",
   "execution_count": 26,
   "metadata": {},
   "outputs": [
    {
     "data": {
      "text/html": [
       "<div>\n",
       "<style scoped>\n",
       "    .dataframe tbody tr th:only-of-type {\n",
       "        vertical-align: middle;\n",
       "    }\n",
       "\n",
       "    .dataframe tbody tr th {\n",
       "        vertical-align: top;\n",
       "    }\n",
       "\n",
       "    .dataframe thead th {\n",
       "        text-align: right;\n",
       "    }\n",
       "</style>\n",
       "<table border=\"1\" class=\"dataframe\">\n",
       "  <thead>\n",
       "    <tr style=\"text-align: right;\">\n",
       "      <th></th>\n",
       "      <th>coal1</th>\n",
       "      <th>gas1</th>\n",
       "      <th>bio1</th>\n",
       "      <th>coal2</th>\n",
       "      <th>gas2</th>\n",
       "      <th>bio2</th>\n",
       "      <th>coal3</th>\n",
       "      <th>gas3</th>\n",
       "      <th>bio3</th>\n",
       "      <th>coal4</th>\n",
       "      <th>gas4</th>\n",
       "      <th>bio4</th>\n",
       "      <th>coal5</th>\n",
       "      <th>gas5</th>\n",
       "      <th>bio5</th>\n",
       "    </tr>\n",
       "  </thead>\n",
       "  <tbody>\n",
       "    <tr>\n",
       "      <th>0</th>\n",
       "      <td>2409.233449</td>\n",
       "      <td>1.297806e-14</td>\n",
       "      <td>1590.766551</td>\n",
       "      <td>1704.320765</td>\n",
       "      <td>216.114237</td>\n",
       "      <td>2079.564998</td>\n",
       "      <td>1704.320651</td>\n",
       "      <td>216.114272</td>\n",
       "      <td>2079.565077</td>\n",
       "      <td>1704.320875</td>\n",
       "      <td>216.114204</td>\n",
       "      <td>2079.564921</td>\n",
       "      <td>376.930483</td>\n",
       "      <td>623.069517</td>\n",
       "      <td>3000.0</td>\n",
       "    </tr>\n",
       "  </tbody>\n",
       "</table>\n",
       "</div>"
      ],
      "text/plain": [
       "         coal1          gas1         bio1        coal2        gas2  \\\n",
       "0  2409.233449  1.297806e-14  1590.766551  1704.320765  216.114237   \n",
       "\n",
       "          bio2        coal3        gas3         bio3        coal4        gas4  \\\n",
       "0  2079.564998  1704.320651  216.114272  2079.565077  1704.320875  216.114204   \n",
       "\n",
       "          bio4       coal5        gas5    bio5  \n",
       "0  2079.564921  376.930483  623.069517  3000.0  "
      ]
     },
     "execution_count": 26,
     "metadata": {},
     "output_type": "execute_result"
    }
   ],
   "source": [
    "network.generators_t.p"
   ]
  },
  {
   "cell_type": "code",
   "execution_count": 27,
   "metadata": {},
   "outputs": [
    {
     "data": {
      "text/html": [
       "<div>\n",
       "<style scoped>\n",
       "    .dataframe tbody tr th:only-of-type {\n",
       "        vertical-align: middle;\n",
       "    }\n",
       "\n",
       "    .dataframe tbody tr th {\n",
       "        vertical-align: top;\n",
       "    }\n",
       "\n",
       "    .dataframe thead th {\n",
       "        text-align: right;\n",
       "    }\n",
       "</style>\n",
       "<table border=\"1\" class=\"dataframe\">\n",
       "  <thead>\n",
       "    <tr style=\"text-align: right;\">\n",
       "      <th>attribute</th>\n",
       "      <th>bus</th>\n",
       "      <th>control</th>\n",
       "      <th>type</th>\n",
       "      <th>p_nom</th>\n",
       "      <th>p_nom_extendable</th>\n",
       "      <th>p_nom_min</th>\n",
       "      <th>p_nom_max</th>\n",
       "      <th>p_min_pu</th>\n",
       "      <th>p_max_pu</th>\n",
       "      <th>p_set</th>\n",
       "      <th>...</th>\n",
       "      <th>start_up_cost</th>\n",
       "      <th>shut_down_cost</th>\n",
       "      <th>min_up_time</th>\n",
       "      <th>min_down_time</th>\n",
       "      <th>initial_status</th>\n",
       "      <th>ramp_limit_up</th>\n",
       "      <th>ramp_limit_down</th>\n",
       "      <th>ramp_limit_start_up</th>\n",
       "      <th>ramp_limit_shut_down</th>\n",
       "      <th>p_nom_opt</th>\n",
       "    </tr>\n",
       "  </thead>\n",
       "  <tbody>\n",
       "    <tr>\n",
       "      <th>bio1</th>\n",
       "      <td>bus1</td>\n",
       "      <td>PQ</td>\n",
       "      <td>bio</td>\n",
       "      <td>0.0</td>\n",
       "      <td>True</td>\n",
       "      <td>0.0</td>\n",
       "      <td>3000.0</td>\n",
       "      <td>0.0</td>\n",
       "      <td>1.0</td>\n",
       "      <td>0.0</td>\n",
       "      <td>...</td>\n",
       "      <td>0.0</td>\n",
       "      <td>0.0</td>\n",
       "      <td>0</td>\n",
       "      <td>0</td>\n",
       "      <td>1</td>\n",
       "      <td>NaN</td>\n",
       "      <td>NaN</td>\n",
       "      <td>1.0</td>\n",
       "      <td>1.0</td>\n",
       "      <td>3000.0</td>\n",
       "    </tr>\n",
       "    <tr>\n",
       "      <th>bio2</th>\n",
       "      <td>bus2</td>\n",
       "      <td>PQ</td>\n",
       "      <td>bio</td>\n",
       "      <td>0.0</td>\n",
       "      <td>True</td>\n",
       "      <td>0.0</td>\n",
       "      <td>3000.0</td>\n",
       "      <td>0.0</td>\n",
       "      <td>1.0</td>\n",
       "      <td>0.0</td>\n",
       "      <td>...</td>\n",
       "      <td>0.0</td>\n",
       "      <td>0.0</td>\n",
       "      <td>0</td>\n",
       "      <td>0</td>\n",
       "      <td>1</td>\n",
       "      <td>NaN</td>\n",
       "      <td>NaN</td>\n",
       "      <td>1.0</td>\n",
       "      <td>1.0</td>\n",
       "      <td>3000.0</td>\n",
       "    </tr>\n",
       "    <tr>\n",
       "      <th>bio3</th>\n",
       "      <td>bus3</td>\n",
       "      <td>PQ</td>\n",
       "      <td>bio</td>\n",
       "      <td>0.0</td>\n",
       "      <td>True</td>\n",
       "      <td>0.0</td>\n",
       "      <td>3000.0</td>\n",
       "      <td>0.0</td>\n",
       "      <td>1.0</td>\n",
       "      <td>0.0</td>\n",
       "      <td>...</td>\n",
       "      <td>0.0</td>\n",
       "      <td>0.0</td>\n",
       "      <td>0</td>\n",
       "      <td>0</td>\n",
       "      <td>1</td>\n",
       "      <td>NaN</td>\n",
       "      <td>NaN</td>\n",
       "      <td>1.0</td>\n",
       "      <td>1.0</td>\n",
       "      <td>3000.0</td>\n",
       "    </tr>\n",
       "    <tr>\n",
       "      <th>bio4</th>\n",
       "      <td>bus4</td>\n",
       "      <td>PQ</td>\n",
       "      <td>bio</td>\n",
       "      <td>0.0</td>\n",
       "      <td>True</td>\n",
       "      <td>0.0</td>\n",
       "      <td>3000.0</td>\n",
       "      <td>0.0</td>\n",
       "      <td>1.0</td>\n",
       "      <td>0.0</td>\n",
       "      <td>...</td>\n",
       "      <td>0.0</td>\n",
       "      <td>0.0</td>\n",
       "      <td>0</td>\n",
       "      <td>0</td>\n",
       "      <td>1</td>\n",
       "      <td>NaN</td>\n",
       "      <td>NaN</td>\n",
       "      <td>1.0</td>\n",
       "      <td>1.0</td>\n",
       "      <td>3000.0</td>\n",
       "    </tr>\n",
       "    <tr>\n",
       "      <th>bio5</th>\n",
       "      <td>bus5</td>\n",
       "      <td>PQ</td>\n",
       "      <td>bio</td>\n",
       "      <td>0.0</td>\n",
       "      <td>True</td>\n",
       "      <td>0.0</td>\n",
       "      <td>3000.0</td>\n",
       "      <td>0.0</td>\n",
       "      <td>1.0</td>\n",
       "      <td>0.0</td>\n",
       "      <td>...</td>\n",
       "      <td>0.0</td>\n",
       "      <td>0.0</td>\n",
       "      <td>0</td>\n",
       "      <td>0</td>\n",
       "      <td>1</td>\n",
       "      <td>NaN</td>\n",
       "      <td>NaN</td>\n",
       "      <td>1.0</td>\n",
       "      <td>1.0</td>\n",
       "      <td>3000.0</td>\n",
       "    </tr>\n",
       "  </tbody>\n",
       "</table>\n",
       "<p>5 rows × 27 columns</p>\n",
       "</div>"
      ],
      "text/plain": [
       "attribute   bus control type  p_nom  p_nom_extendable  p_nom_min  p_nom_max  \\\n",
       "bio1       bus1      PQ  bio    0.0              True        0.0     3000.0   \n",
       "bio2       bus2      PQ  bio    0.0              True        0.0     3000.0   \n",
       "bio3       bus3      PQ  bio    0.0              True        0.0     3000.0   \n",
       "bio4       bus4      PQ  bio    0.0              True        0.0     3000.0   \n",
       "bio5       bus5      PQ  bio    0.0              True        0.0     3000.0   \n",
       "\n",
       "attribute  p_min_pu  p_max_pu  p_set  ...  start_up_cost  shut_down_cost  \\\n",
       "bio1            0.0       1.0    0.0  ...            0.0             0.0   \n",
       "bio2            0.0       1.0    0.0  ...            0.0             0.0   \n",
       "bio3            0.0       1.0    0.0  ...            0.0             0.0   \n",
       "bio4            0.0       1.0    0.0  ...            0.0             0.0   \n",
       "bio5            0.0       1.0    0.0  ...            0.0             0.0   \n",
       "\n",
       "attribute min_up_time  min_down_time  initial_status  ramp_limit_up  \\\n",
       "bio1                0              0               1            NaN   \n",
       "bio2                0              0               1            NaN   \n",
       "bio3                0              0               1            NaN   \n",
       "bio4                0              0               1            NaN   \n",
       "bio5                0              0               1            NaN   \n",
       "\n",
       "attribute  ramp_limit_down  ramp_limit_start_up  ramp_limit_shut_down  \\\n",
       "bio1                   NaN                  1.0                   1.0   \n",
       "bio2                   NaN                  1.0                   1.0   \n",
       "bio3                   NaN                  1.0                   1.0   \n",
       "bio4                   NaN                  1.0                   1.0   \n",
       "bio5                   NaN                  1.0                   1.0   \n",
       "\n",
       "attribute  p_nom_opt  \n",
       "bio1          3000.0  \n",
       "bio2          3000.0  \n",
       "bio3          3000.0  \n",
       "bio4          3000.0  \n",
       "bio5          3000.0  \n",
       "\n",
       "[5 rows x 27 columns]"
      ]
     },
     "execution_count": 27,
     "metadata": {},
     "output_type": "execute_result"
    }
   ],
   "source": [
    "network.generators[network.generators['type']=='bio']"
   ]
  },
  {
   "cell_type": "code",
   "execution_count": 28,
   "metadata": {},
   "outputs": [
    {
     "data": {
      "text/plain": [
       "177.95800000000003"
      ]
     },
     "execution_count": 28,
     "metadata": {},
     "output_type": "execute_result"
    }
   ],
   "source": [
    "(1+MGA_slack)*old_objective_value/5000000"
   ]
  },
  {
   "cell_type": "code",
   "execution_count": 39,
   "metadata": {},
   "outputs": [
    {
     "name": "stdout",
     "output_type": "stream",
     "text": [
      "55.0*generator_p[coal1,0] + 49000.0*generator_p[coal1,0] + 20.0*generator_p[gas1,0] + 75000.0*generator_p[gas1,0] + 75.0*generator_p[bio1,0] + 37500.0*generator_p[bio1,0]  <=  177958000.00000003\n",
      "55.0*generator_p[coal1,0] + 20.0*generator_p[gas1,0] + 75.0*generator_p[bio1,0] + 55.0*generator_p[coal2,0] + 20.0*generator_p[gas2,0] + 75.0*generator_p[bio2,0] + 55.0*generator_p[coal3,0] + 20.0*generator_p[gas3,0] + 75.0*generator_p[bio3,0] + 55.0*generator_p[coal4,0] + 20.0*generator_p[gas4,0] + 75.0*generator_p[bio4,0] + 55.0*generator_p[coal5,0] + 20.0*generator_p[gas5,0] + 75.0*generator_p[bio5,0] + 49000.0*generator_p_nom[coal1] + 75000.0*generator_p_nom[gas1] + 37500.0*generator_p_nom[bio1] + 49000.0*generator_p_nom[coal2] + 75000.0*generator_p_nom[gas2] + 37500.0*generator_p_nom[bio2] + 49000.0*generator_p_nom[coal3] + 75000.0*generator_p_nom[gas3] + 37500.0*generator_p_nom[bio3] + 49000.0*generator_p_nom[coal4] + 75000.0*generator_p_nom[gas4] + 37500.0*generator_p_nom[bio4] + 49000.0*generator_p_nom[coal5] + 75000.0*generator_p_nom[gas5] + 37500.0*generator_p_nom[bio5]\n"
     ]
    }
   ],
   "source": [
    "print(network.model.mga_constraint0.expr)\n",
    "print(network.model.objective.expr)"
   ]
  },
  {
   "cell_type": "code",
   "execution_count": 43,
   "metadata": {},
   "outputs": [
    {
     "name": "stdout",
     "output_type": "stream",
     "text": [
      "generator_p_nom\n"
     ]
    }
   ],
   "source": [
    "print(network.model.generator_p_nom)"
   ]
  },
  {
   "cell_type": "code",
   "execution_count": 49,
   "metadata": {},
   "outputs": [
    {
     "data": {
      "text/plain": [
       "coal1    3427.946693\n",
       "gas1     2000.000000\n",
       "bio1     3000.000000\n",
       "coal2    3003.677437\n",
       "gas2     2000.000000\n",
       "bio2     3000.000000\n",
       "coal3    3003.677135\n",
       "gas3     2000.000000\n",
       "bio3     3000.000000\n",
       "coal4    3003.677591\n",
       "gas4     2000.000000\n",
       "bio4     3000.000000\n",
       "coal5    1350.554709\n",
       "gas5     2000.000000\n",
       "bio5     3000.000000\n",
       "Name: p_nom_opt, dtype: float64"
      ]
     },
     "execution_count": 49,
     "metadata": {},
     "output_type": "execute_result"
    }
   ],
   "source": [
    "network.generators['p_nom_opt']"
   ]
  },
  {
   "cell_type": "code",
   "execution_count": null,
   "metadata": {},
   "outputs": [],
   "source": []
  }
 ],
 "metadata": {
  "kernelspec": {
   "display_name": "Python 3",
   "language": "python",
   "name": "python3"
  },
  "language_info": {
   "codemirror_mode": {
    "name": "ipython",
    "version": 3
   },
   "file_extension": ".py",
   "mimetype": "text/x-python",
   "name": "python",
   "nbconvert_exporter": "python",
   "pygments_lexer": "ipython3",
   "version": "3.7.3"
  },
  "varInspector": {
   "cols": {
    "lenName": 16,
    "lenType": 16,
    "lenVar": 40
   },
   "kernels_config": {
    "python": {
     "delete_cmd_postfix": "",
     "delete_cmd_prefix": "del ",
     "library": "var_list.py",
     "varRefreshCmd": "print(var_dic_list())"
    },
    "r": {
     "delete_cmd_postfix": ") ",
     "delete_cmd_prefix": "rm(",
     "library": "var_list.r",
     "varRefreshCmd": "cat(var_dic_list()) "
    }
   },
   "types_to_exclude": [
    "module",
    "function",
    "builtin_function_or_method",
    "instance",
    "_Feature"
   ],
   "window_display": false
  }
 },
 "nbformat": 4,
 "nbformat_minor": 2
}
