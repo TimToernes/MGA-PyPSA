{
 "cells": [
  {
   "cell_type": "markdown",
   "metadata": {},
   "source": [
    "## Alternative aproach to MGA  "
   ]
  },
  {
   "cell_type": "code",
   "execution_count": 1,
   "metadata": {},
   "outputs": [],
   "source": [
    "import pypsa\n",
    "import pandas as pd"
   ]
  },
  {
   "cell_type": "markdown",
   "metadata": {},
   "source": [
    "In this section a series of coppies of seperate disconected busses/networks is generated. They are all in the same PyPSA model, but will not influence each other"
   ]
  },
  {
   "cell_type": "code",
   "execution_count": 2,
   "metadata": {},
   "outputs": [],
   "source": [
    "network = pypsa.Network()\n",
    "nr_of_networks = 3\n",
    "# Create an empty network.\n",
    "network.set_snapshots(range(2))\n",
    "# Looping over the number of networks to be created,\n",
    "# and altering the bus name and the generator names.\n",
    "# The last number in the generator name indicates which instance\n",
    "# of the networks they belong to\n",
    "for i in range(nr_of_networks):\n",
    "    \n",
    "    # Add a bus to the network.\n",
    "    bus_nr = 'bus'+str(i+1)\n",
    "    network.add(\"Bus\",bus_nr,x=i,y=i%2)\n",
    "\n",
    "    # Add a coal power plant to the bus.\n",
    "    network.add(\"Generator\",'coal'+str(i+1),bus=bus_nr,\n",
    "           type = 'coal',\n",
    "           committable=True,\n",
    "           p_min_pu=0.2,\n",
    "           marginal_cost=20,\n",
    "           p_nom_extendable=False,\n",
    "           p_nom=4000)\n",
    "\n",
    "    # Add a gas power plant to the bus.\n",
    "    network.add(\"Generator\",'gas'+str(i+1),bus=bus_nr,\n",
    "           type = 'gas',\n",
    "           committable=True,\n",
    "           marginal_cost=15,\n",
    "           p_min_pu=0,\n",
    "           p_nom_extendable=True,\n",
    "           p_nom_max=4000)\n",
    "\n",
    "    # Add load to the bus.\n",
    "    network.add(\"Load\",'load'+str(i+1),bus=bus_nr,p_set=[1200,800])"
   ]
  },
  {
   "cell_type": "code",
   "execution_count": 3,
   "metadata": {
    "scrolled": true
   },
   "outputs": [
    {
     "data": {
      "text/plain": [
       "(<matplotlib.collections.PathCollection at 0x24079a3ccf8>,)"
      ]
     },
     "execution_count": 3,
     "metadata": {},
     "output_type": "execute_result"
    },
    {
     "data": {
      "image/png": "[encoded data removed]",
      "text/plain": [
       "<Figure size 432x288 with 1 Axes>"
      ]
     },
     "metadata": {
      "needs_background": "light"
     },
     "output_type": "display_data"
    }
   ],
   "source": [
    "network.plot()"
   ]
  },
  {
   "cell_type": "markdown",
   "metadata": {},
   "source": [
    "As with the regular MGA aproach the network is first solved without the new objective function"
   ]
  },
  {
   "cell_type": "code",
   "execution_count": 4,
   "metadata": {
    "scrolled": false
   },
   "outputs": [
    {
     "name": "stderr",
     "output_type": "stream",
     "text": [
      "INFO:pypsa.pf:Slack bus for sub-network 0 is bus1\n",
      "INFO:pypsa.pf:Slack bus for sub-network 1 is bus2\n",
      "INFO:pypsa.pf:Slack bus for sub-network 2 is bus3\n",
      "INFO:pypsa.opf:Performed preliminary steps\n",
      "INFO:pypsa.opf:Building pyomo model using `angles` formulation\n",
      "WARNING:pypsa.opf:The following generators have both investment optimisation and unit commitment:\n",
      "Index(['gas1', 'gas2', 'gas3'], dtype='object')\n",
      "Currently PyPSA cannot do both these functions, so PyPSA is choosing investment optimisation for these generators.\n",
      "INFO:pypsa.opf:Solving model using gurobi\n",
      "INFO:pypsa.opf:Optimization successful\n"
     ]
    },
    {
     "name": "stdout",
     "output_type": "stream",
     "text": [
      "# ==========================================================\n",
      "# = Solver Results                                         =\n",
      "# ==========================================================\n",
      "# ----------------------------------------------------------\n",
      "#   Problem Information\n",
      "# ----------------------------------------------------------\n",
      "Problem: \n",
      "- Name: x28\n",
      "  Lower bound: 90000.0\n",
      "  Upper bound: 90000.0\n",
      "  Number of objectives: 1\n",
      "  Number of constraints: 37\n",
      "  Number of variables: 28\n",
      "  Number of binary variables: 6\n",
      "  Number of integer variables: 6\n",
      "  Number of continuous variables: 22\n",
      "  Number of nonzeros: 61\n",
      "  Sense: minimize\n",
      "# ----------------------------------------------------------\n",
      "#   Solver Information\n",
      "# ----------------------------------------------------------\n",
      "Solver: \n",
      "- Status: ok\n",
      "  Return code: 0\n",
      "  Message: Model was solved to optimality (subject to tolerances), and an optimal solution is available.\n",
      "  Termination condition: optimal\n",
      "  Termination message: Model was solved to optimality (subject to tolerances), and an optimal solution is available.\n",
      "  Wall time: 0.0\n",
      "  Error rc: 0\n",
      "  Time: 0.1562354564666748\n",
      "# ----------------------------------------------------------\n",
      "#   Solution Information\n",
      "# ----------------------------------------------------------\n",
      "Solution: \n",
      "- number of solutions: 0\n",
      "  number of solutions displayed: 0\n"
     ]
    },
    {
     "data": {
      "text/plain": [
       "('ok', 'optimal')"
      ]
     },
     "execution_count": 4,
     "metadata": {},
     "output_type": "execute_result"
    }
   ],
   "source": [
    "    # Initial solution of network, with non MGA objective function \n",
    "    network.lopf(network.snapshots,solver_name='gurobi')"
   ]
  },
  {
   "cell_type": "markdown",
   "metadata": {},
   "source": [
    "The initial solution will alway contain a set of identical networks. The last number in the generators describe which network they belong to"
   ]
  },
  {
   "cell_type": "code",
   "execution_count": 5,
   "metadata": {
    "scrolled": true
   },
   "outputs": [
    {
     "data": {
      "text/html": [
       "<div>\n",
       "<style scoped>\n",
       "    .dataframe tbody tr th:only-of-type {\n",
       "        vertical-align: middle;\n",
       "    }\n",
       "\n",
       "    .dataframe tbody tr th {\n",
       "        vertical-align: top;\n",
       "    }\n",
       "\n",
       "    .dataframe thead th {\n",
       "        text-align: right;\n",
       "    }\n",
       "</style>\n",
       "<table border=\"1\" class=\"dataframe\">\n",
       "  <thead>\n",
       "    <tr style=\"text-align: right;\">\n",
       "      <th></th>\n",
       "      <th>coal1</th>\n",
       "      <th>gas1</th>\n",
       "      <th>coal2</th>\n",
       "      <th>gas2</th>\n",
       "      <th>coal3</th>\n",
       "      <th>gas3</th>\n",
       "    </tr>\n",
       "  </thead>\n",
       "  <tbody>\n",
       "    <tr>\n",
       "      <th>0</th>\n",
       "      <td>0.0</td>\n",
       "      <td>1200.0</td>\n",
       "      <td>0.0</td>\n",
       "      <td>1200.0</td>\n",
       "      <td>0.0</td>\n",
       "      <td>1200.0</td>\n",
       "    </tr>\n",
       "    <tr>\n",
       "      <th>1</th>\n",
       "      <td>-0.0</td>\n",
       "      <td>800.0</td>\n",
       "      <td>-0.0</td>\n",
       "      <td>800.0</td>\n",
       "      <td>-0.0</td>\n",
       "      <td>800.0</td>\n",
       "    </tr>\n",
       "  </tbody>\n",
       "</table>\n",
       "</div>"
      ],
      "text/plain": [
       "   coal1    gas1  coal2    gas2  coal3    gas3\n",
       "0    0.0  1200.0    0.0  1200.0    0.0  1200.0\n",
       "1   -0.0   800.0   -0.0   800.0   -0.0   800.0"
      ]
     },
     "execution_count": 5,
     "metadata": {},
     "output_type": "execute_result"
    }
   ],
   "source": [
    "network.generators_t.p"
   ]
  },
  {
   "cell_type": "code",
   "execution_count": 6,
   "metadata": {},
   "outputs": [
    {
     "data": {
      "text/plain": [
       "90000.0"
      ]
     },
     "execution_count": 6,
     "metadata": {},
     "output_type": "execute_result"
    }
   ],
   "source": [
    "    # Saving the value of the old objective function.\n",
    "    old_objective_value = network.model.objective()\n",
    "    old_objective_value"
   ]
  },
  {
   "cell_type": "markdown",
   "metadata": {},
   "source": [
    "## An alternative objective function \n",
    "\n",
    "In this alternative aproach, the MGA objective function seeks to maximize the distance between a number $N$ of networks with $K$ variables. The distance between the networks can be described with the squared euqlidian distance for an $n$ dimentional vector. \n",
    "\n",
    "$ d = \\sum_{i=1}^n{(x_{i}-x_{i})^2} $\n",
    "\n",
    "By summing the distance from each network to all other networks, an expression describing the distinction between the networks is found. The following objective function will try to maximize the distance between all networks:\n",
    "\n",
    "$N$ : Number of independent networks \n",
    "\n",
    "$K$ : Number of variables in each network\n",
    "\n",
    "$x$ : 2D vector containing all variables. 1st index specifies the variable and 2nd index specifies the network\n",
    "\n",
    "$ p= - \\frac{1}{2}  \\sum_i^N{\\sum_j^N{\\sum_k^K{(x_{k,i}-x_{k,j})^2}}}  $ \n",
    "\n",
    "The drawback is that the objective function is now a square function, increasing computation time, however gurobi is capable of handeling it, at least for smaller energy systems"
   ]
  },
  {
   "cell_type": "code",
   "execution_count": 7,
   "metadata": {},
   "outputs": [],
   "source": [
    "def extra_functionality(network, snapshots,  MGA_slack = 0.05):\n",
    "    # Defining exstra functionality, that updates the objective function of the network\n",
    "    # Default value for MGA_slack is 0.05 if nothing else is specified \n",
    "    import pyomo.environ as pyomo_env\n",
    "\n",
    "    \n",
    "    # Number of networks\n",
    "    N = int(list(network.generators_t.p.columns)[-1][-1]) \n",
    "    # Generating a list of variables sorted after their variable index and network number\n",
    "    # First index: Variable nr\n",
    "    # Second index: Network number    \n",
    "    gen_p_list = [[] for i in range(N)]\n",
    "    for gen_p in network.model.generator_p:\n",
    "        gen_p_network_idx = int(gen_p[0][-1])-1\n",
    "        gen_p_list[gen_p_network_idx].append(gen_p)\n",
    "    # Number of variables in each network\n",
    "    K = len(gen_p_list[0]) \n",
    "\n",
    "    # Creating the MGA objective function\n",
    "    MGA_objective = 0\n",
    "\n",
    "    for i in range(N):\n",
    "        for j in range(N):\n",
    "            for k in range(K):\n",
    "                if i < j:\n",
    "                    gen_p1 = network.model.generator_p[gen_p_list[i][k]]\n",
    "                    gen_p2 = network.model.generator_p[gen_p_list[j][k]]\n",
    "                    MGA_objective += (gen_p1**2 + gen_p2**2 - 2*gen_p1*gen_p2 )\n",
    "    # Changing sign of objective function to make it a minimization problem\n",
    "    MGA_objective = - MGA_objective \n",
    "    print (MGA_objective)\n",
    "    \n",
    "    # Adding new MGA objective function to network \n",
    "    network.model.mga_objective = pyomo_env.Objective(expr=MGA_objective)\n",
    "    # Deactivate the old objective function and activate the MGA objective function.\n",
    "    network.model.objective.deactivate()\n",
    "    network.model.mga_objective.activate()\n",
    "    # Add the MGA slack constraint.\n",
    "    network.model.mga_constraint = pyomo_env.Constraint(expr=network.model.objective.expr <= \n",
    "                                          (1 + MGA_slack) * old_objective_value)\n",
    "\n"
   ]
  },
  {
   "cell_type": "code",
   "execution_count": 8,
   "metadata": {
    "scrolled": false
   },
   "outputs": [
    {
     "name": "stderr",
     "output_type": "stream",
     "text": [
      "INFO:pypsa.pf:Slack bus for sub-network 0 is bus1\n",
      "INFO:pypsa.pf:Slack bus for sub-network 1 is bus2\n",
      "INFO:pypsa.pf:Slack bus for sub-network 2 is bus3\n",
      "INFO:pypsa.opf:Performed preliminary steps\n",
      "INFO:pypsa.opf:Building pyomo model using `angles` formulation\n",
      "WARNING:pypsa.opf:The following generators have both investment optimisation and unit commitment:\n",
      "Index(['gas1', 'gas2', 'gas3'], dtype='object')\n",
      "Currently PyPSA cannot do both these functions, so PyPSA is choosing investment optimisation for these generators.\n",
      "INFO:pypsa.opf:Solving model using gurobi\n"
     ]
    },
    {
     "name": "stdout",
     "output_type": "stream",
     "text": [
      "- (generator_p[coal1,0]**2 + generator_p[coal2,0]**2 - 2*generator_p[coal1,0]*generator_p[coal2,0] + generator_p[coal1,1]**2 + generator_p[coal2,1]**2 - 2*generator_p[coal1,1]*generator_p[coal2,1] + generator_p[gas1,0]**2 + generator_p[gas2,0]**2 - 2*generator_p[gas1,0]*generator_p[gas2,0] + generator_p[gas1,1]**2 + generator_p[gas2,1]**2 - 2*generator_p[gas1,1]*generator_p[gas2,1] + generator_p[coal1,0]**2 + generator_p[coal3,0]**2 - 2*generator_p[coal1,0]*generator_p[coal3,0] + generator_p[coal1,1]**2 + generator_p[coal3,1]**2 - 2*generator_p[coal1,1]*generator_p[coal3,1] + generator_p[gas1,0]**2 + generator_p[gas3,0]**2 - 2*generator_p[gas1,0]*generator_p[gas3,0] + generator_p[gas1,1]**2 + generator_p[gas3,1]**2 - 2*generator_p[gas1,1]*generator_p[gas3,1] + generator_p[coal2,0]**2 + generator_p[coal3,0]**2 - 2*generator_p[coal2,0]*generator_p[coal3,0] + generator_p[coal2,1]**2 + generator_p[coal3,1]**2 - 2*generator_p[coal2,1]*generator_p[coal3,1] + generator_p[gas2,0]**2 + generator_p[gas3,0]**2 - 2*generator_p[gas2,0]*generator_p[gas3,0] + generator_p[gas2,1]**2 + generator_p[gas3,1]**2 - 2*generator_p[gas2,1]*generator_p[gas3,1])\n"
     ]
    },
    {
     "name": "stderr",
     "output_type": "stream",
     "text": [
      "INFO:pypsa.opf:Optimization successful\n"
     ]
    },
    {
     "name": "stdout",
     "output_type": "stream",
     "text": [
      "# ==========================================================\n",
      "# = Solver Results                                         =\n",
      "# ==========================================================\n",
      "# ----------------------------------------------------------\n",
      "#   Problem Information\n",
      "# ----------------------------------------------------------\n",
      "Problem: \n",
      "- Name: x28\n",
      "  Lower bound: 11726820.0\n",
      "  Upper bound: -5249600.0\n",
      "  Number of objectives: 1\n",
      "  Number of constraints: 38\n",
      "  Number of variables: 28\n",
      "  Number of binary variables: 6\n",
      "  Number of integer variables: 6\n",
      "  Number of continuous variables: 22\n",
      "  Number of nonzeros: 73\n",
      "  Sense: minimize\n",
      "# ----------------------------------------------------------\n",
      "#   Solver Information\n",
      "# ----------------------------------------------------------\n",
      "Solver: \n",
      "- Status: ok\n",
      "  Return code: 0\n",
      "  Message: Model was solved to optimality (subject to tolerances), and an optimal solution is available.\n",
      "  Termination condition: optimal\n",
      "  Termination message: Model was solved to optimality (subject to tolerances), and an optimal solution is available.\n",
      "  Wall time: 0.015623092651367188\n",
      "  Error rc: 0\n",
      "  Time: 0.17186737060546875\n",
      "# ----------------------------------------------------------\n",
      "#   Solution Information\n",
      "# ----------------------------------------------------------\n",
      "Solution: \n",
      "- number of solutions: 0\n",
      "  number of solutions displayed: 0\n"
     ]
    },
    {
     "data": {
      "text/plain": [
       "('ok', 'optimal')"
      ]
     },
     "execution_count": 8,
     "metadata": {},
     "output_type": "execute_result"
    }
   ],
   "source": [
    "MGA_slack = 0.09\n",
    "#Solve network with updated objective function\n",
    "network.lopf(network.snapshots,\\\n",
    "             solver_name='gurobi',\\\n",
    "             extra_functionality=lambda network,\\\n",
    "             snapshots: extra_functionality(network, snapshots, MGA_slack),\n",
    "             solver_options = {'psdtol':10,'presolve':-1}) "
   ]
  },
  {
   "cell_type": "code",
   "execution_count": 9,
   "metadata": {},
   "outputs": [
    {
     "data": {
      "text/html": [
       "<div>\n",
       "<style scoped>\n",
       "    .dataframe tbody tr th:only-of-type {\n",
       "        vertical-align: middle;\n",
       "    }\n",
       "\n",
       "    .dataframe tbody tr th {\n",
       "        vertical-align: top;\n",
       "    }\n",
       "\n",
       "    .dataframe thead th {\n",
       "        text-align: right;\n",
       "    }\n",
       "</style>\n",
       "<table border=\"1\" class=\"dataframe\">\n",
       "  <thead>\n",
       "    <tr style=\"text-align: right;\">\n",
       "      <th></th>\n",
       "      <th>coal1</th>\n",
       "      <th>gas1</th>\n",
       "      <th>coal2</th>\n",
       "      <th>gas2</th>\n",
       "      <th>coal3</th>\n",
       "      <th>gas3</th>\n",
       "    </tr>\n",
       "  </thead>\n",
       "  <tbody>\n",
       "    <tr>\n",
       "      <th>0</th>\n",
       "      <td>0.0</td>\n",
       "      <td>1200.0</td>\n",
       "      <td>0.0</td>\n",
       "      <td>1200.0</td>\n",
       "      <td>820.0</td>\n",
       "      <td>380.0</td>\n",
       "    </tr>\n",
       "    <tr>\n",
       "      <th>1</th>\n",
       "      <td>0.0</td>\n",
       "      <td>800.0</td>\n",
       "      <td>800.0</td>\n",
       "      <td>0.0</td>\n",
       "      <td>0.0</td>\n",
       "      <td>800.0</td>\n",
       "    </tr>\n",
       "  </tbody>\n",
       "</table>\n",
       "</div>"
      ],
      "text/plain": [
       "   coal1    gas1  coal2    gas2  coal3   gas3\n",
       "0    0.0  1200.0    0.0  1200.0  820.0  380.0\n",
       "1    0.0   800.0  800.0     0.0    0.0  800.0"
      ]
     },
     "execution_count": 9,
     "metadata": {},
     "output_type": "execute_result"
    }
   ],
   "source": [
    "network.generators_t.p"
   ]
  },
  {
   "cell_type": "code",
   "execution_count": 10,
   "metadata": {},
   "outputs": [
    {
     "name": "stdout",
     "output_type": "stream",
     "text": [
      "98100.0\n"
     ]
    }
   ],
   "source": [
    "print(network.model.objective())"
   ]
  },
  {
   "cell_type": "code",
   "execution_count": null,
   "metadata": {},
   "outputs": [],
   "source": [
    "\n"
   ]
  },
  {
   "cell_type": "code",
   "execution_count": null,
   "metadata": {},
   "outputs": [],
   "source": []
  }
 ],
 "metadata": {
  "kernelspec": {
   "display_name": "Python 3",
   "language": "python",
   "name": "python3"
  },
  "language_info": {
   "codemirror_mode": {
    "name": "ipython",
    "version": 3
   },
   "file_extension": ".py",
   "mimetype": "text/x-python",
   "name": "python",
   "nbconvert_exporter": "python",
   "pygments_lexer": "ipython3",
   "version": "3.7.3"
  },
  "varInspector": {
   "cols": {
    "lenName": 16,
    "lenType": 16,
    "lenVar": 40
   },
   "kernels_config": {
    "python": {
     "delete_cmd_postfix": "",
     "delete_cmd_prefix": "del ",
     "library": "var_list.py",
     "varRefreshCmd": "print(var_dic_list())"
    },
    "r": {
     "delete_cmd_postfix": ") ",
     "delete_cmd_prefix": "rm(",
     "library": "var_list.r",
     "varRefreshCmd": "cat(var_dic_list()) "
    }
   },
   "types_to_exclude": [
    "module",
    "function",
    "builtin_function_or_method",
    "instance",
    "_Feature"
   ],
   "window_display": false
  }
 },
 "nbformat": 4,
 "nbformat_minor": 2
}
