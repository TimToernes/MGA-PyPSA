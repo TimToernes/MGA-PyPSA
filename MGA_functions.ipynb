{
 "cells": [
  {
   "cell_type": "markdown",
   "metadata": {},
   "source": [
    "## MGA_functions\n",
    "This notebook contains functions related to using the MGA method on PyPSA networks.\n",
    "The main function is the MGA_solver that deploys the MGA method given a PyPSA network.\n",
    "The functions in this notebook can be importet to other notebooks by using the import_ipynb package.\n",
    "To import this script in a different notebook, simply install import_ipynb with pip and run the following lines in the scrip where you want to import these functions:\n",
    "\n",
    "import import_ipynb\n",
    "\n",
    "from MGA_functions import * "
   ]
  },
  {
   "cell_type": "markdown",
   "metadata": {},
   "source": [
    "## MGA_solver"
   ]
  },
  {
   "cell_type": "code",
   "execution_count": 1,
   "metadata": {},
   "outputs": [],
   "source": [
    "def MGA_solver (network, MGA_slack = 0.05):\n",
    "    import pyomo.environ as pyomo_env\n",
    "    \n",
    "    # Defining exstra functionality, that updates the objective function of the network\n",
    "    def extra_functionality(network, snapshots,  MGA_slack = 0.05):\n",
    "        # Identify the nonzero decision variables that should enter the MGA objective function.\n",
    "        generator_outputs = network.generators_t.p\n",
    "        nonzero_gen_p = list()\n",
    "        for gen_p in network.model.generator_p :\n",
    "            if generator_outputs[gen_p[0]].loc[gen_p[1]] > 0 :\n",
    "                nonzero_gen_p.append(gen_p)\n",
    "        # Build new MGA objective function.\n",
    "        MGA_objective = 0\n",
    "        for gen_p in nonzero_gen_p:\n",
    "            MGA_objective += network.model.generator_p[gen_p]\n",
    "        # Add the new MGA objective function to the model.\n",
    "        network.model.mga_objective = pyomo_env.Objective(expr=MGA_objective)\n",
    "        # Deactivate the old objective function and activate the MGA objective function.\n",
    "        network.model.objective.deactivate()\n",
    "        network.model.mga_objective.activate()\n",
    "        # Add the MGA slack constraint.\n",
    "        #print('old objective value ',old_objective_value)\n",
    "        network.model.mga_constraint = pyomo_env.Constraint(expr=network.model.objective.expr <= \n",
    "                                              (1 + MGA_slack) * old_objective_value)\n",
    "    \n",
    "\n",
    "    # Initial solution of network, with non MGA objective function \n",
    "    network.lopf(network.snapshots,solver_name='gurobi')\n",
    "    # Saving the value of the old objective function.\n",
    "    old_objective_value = network.model.objective()\n",
    "    # Define a list of soltutions to the network object containing coppys of the network\n",
    "    network.solutions = []\n",
    "    # Loop until a non original solution is found\n",
    "    original_solution = True\n",
    "    while original_solution:\n",
    "        # Save current version of network in solutions\n",
    "        network.solutions.append(network.copy())\n",
    "        #Solve network with updated objective function\n",
    "        network.lopf(network.snapshots,\\\n",
    "                     solver_name='gurobi',\\\n",
    "                     extra_functionality=lambda network,\\\n",
    "                     snapshots: extra_functionality(network, snapshots, MGA_slack)) \n",
    "        # Tjek if the solution is seen before\n",
    "        for i in range(len(network.solutions)):\n",
    "            if network.generators_t.p.equals(network.solutions[i].generators_t.p):\n",
    "                original_solution = False\n",
    "        \n",
    "    return network"
   ]
  },
  {
   "cell_type": "markdown",
   "metadata": {},
   "source": [
    "## Plotting functions"
   ]
  },
  {
   "cell_type": "code",
   "execution_count": 2,
   "metadata": {},
   "outputs": [],
   "source": [
    "def plot_generator_mix(network):\n",
    "    import matplotlib.pyplot as plt\n",
    "    labels = network.generators.index.tolist()\n",
    "    sizes = []\n",
    "    for generator in network.generators.index.tolist():\n",
    "        sizes.append(network.generators_t.p[generator].sum())\n",
    "\n",
    "\n",
    "    colors=['blue', 'orange', 'brown']\n",
    "    plt.figure()\n",
    "    plt.pie(sizes, \n",
    "            colors=colors, \n",
    "            labels=labels, \n",
    "            wedgeprops={'linewidth':0})\n",
    "    plt.axis('equal')\n",
    "\n",
    "    plt.title('Electricity mix', y=1.07)"
   ]
  },
  {
   "cell_type": "code",
   "execution_count": 3,
   "metadata": {},
   "outputs": [],
   "source": [
    "def plot_timeseries(network):\n",
    "    import matplotlib.pyplot as plt\n",
    "    import matplotlib as mpl\n",
    "    \n",
    "    plt.figure()\n",
    "    #fig, ax = plt.subplots()\n",
    "    #mpl.style.use('default')\n",
    "\n",
    "    plt.plot(network.loads_t.p['load'][0:96], label='demand')\n",
    "    for generator in network.generators.index.tolist():\n",
    "        plt.plot(network.generators_t.p[generator][0:96], label=generator)\n",
    "    plt.legend(fancybox=True, shadow=True, loc='best')"
   ]
  }
 ],
 "metadata": {
  "kernelspec": {
   "display_name": "Python 3",
   "language": "python",
   "name": "python3"
  },
  "language_info": {
   "codemirror_mode": {
    "name": "ipython",
    "version": 3
   },
   "file_extension": ".py",
   "mimetype": "text/x-python",
   "name": "python",
   "nbconvert_exporter": "python",
   "pygments_lexer": "ipython3",
   "version": "3.7.3"
  },
  "varInspector": {
   "cols": {
    "lenName": 16,
    "lenType": 16,
    "lenVar": 40
   },
   "kernels_config": {
    "python": {
     "delete_cmd_postfix": "",
     "delete_cmd_prefix": "del ",
     "library": "var_list.py",
     "varRefreshCmd": "print(var_dic_list())"
    },
    "r": {
     "delete_cmd_postfix": ") ",
     "delete_cmd_prefix": "rm(",
     "library": "var_list.r",
     "varRefreshCmd": "cat(var_dic_list()) "
    }
   },
   "types_to_exclude": [
    "module",
    "function",
    "builtin_function_or_method",
    "instance",
    "_Feature"
   ],
   "window_display": false
  }
 },
 "nbformat": 4,
 "nbformat_minor": 2
}
