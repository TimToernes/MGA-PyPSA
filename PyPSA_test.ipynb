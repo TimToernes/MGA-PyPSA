{
 "cells": [
  {
   "cell_type": "code",
   "execution_count": 1,
   "metadata": {},
   "outputs": [],
   "source": [
    "import pypsa\n",
    "import pandas as pd"
   ]
  },
  {
   "cell_type": "markdown",
   "metadata": {},
   "source": [
    "## Defining Network"
   ]
  },
  {
   "cell_type": "code",
   "execution_count": 73,
   "metadata": {},
   "outputs": [],
   "source": [
    "network = pypsa.Network()\n",
    "\n",
    "# Create an empty network.\n",
    "network.set_snapshots(range(4))\n",
    "\n",
    "# Add a bus to the network.\n",
    "network.add(\"Bus\",\"bus\")\n",
    "\n",
    "# Add a coal power plant to the bus.\n",
    "network.add(\"Generator\",\"coal\",bus=\"bus\",\n",
    "       committable=True,\n",
    "       p_min_pu=0.3,\n",
    "       marginal_cost=20,\n",
    "       p_nom_extendable=False,\n",
    "       p_nom=4000)\n",
    "\n",
    "# Add a gas power plant to the bus.\n",
    "network.add(\"Generator\",\"gas\",bus=\"bus\",\n",
    "       committable=True,\n",
    "       marginal_cost=25,\n",
    "       p_min_pu=0,\n",
    "       p_nom_extendable=True,\n",
    "       p_nom_max=2000)\n",
    "\n",
    "# Add a 2nd gas power plant to the bus.\n",
    "network.add(\"Generator\",\"gas2\",bus=\"bus\",\n",
    "       committable=True,\n",
    "       marginal_cost=30,\n",
    "       p_min_pu=0,\n",
    "       p_nom_extendable=True,\n",
    "       p_nom_max=3000)\n",
    "\n",
    "# Add load to the bus.\n",
    "network.add(\"Load\",\"load\",bus=\"bus\",p_set=[4000,6000,5000,800])"
   ]
  },
  {
   "cell_type": "markdown",
   "metadata": {},
   "source": [
    "## Defining MGA solver for PyPSA networks"
   ]
  },
  {
   "cell_type": "code",
   "execution_count": 74,
   "metadata": {},
   "outputs": [],
   "source": [
    "def MGA_solver (network, MGA_slack = 0.05):\n",
    "    import pyomo.environ as pyomo_env\n",
    "    \n",
    "    # Defining exstra functionality, that updates the objective function of the network\n",
    "    def extra_functionality(network, snapshots,  MGA_slack = 0.05):\n",
    "        # Identify the nonzero decision variables that should enter the MGA objective function.\n",
    "        generator_outputs = network.generators_t.p\n",
    "        nonzero_gen_p = list()\n",
    "        for gen_p in network.model.generator_p :\n",
    "            if generator_outputs[gen_p[0]].loc[gen_p[1]] > 0 :\n",
    "                nonzero_gen_p.append(gen_p)\n",
    "        # Build new MGA objective function.\n",
    "        MGA_objective = 0\n",
    "        for gen_p in nonzero_gen_p:\n",
    "            MGA_objective += network.model.generator_p[gen_p]\n",
    "        # Add the new MGA objective function to the model.\n",
    "        network.model.mga_objective = pyomo_env.Objective(expr=MGA_objective)\n",
    "        # Deactivate the old objective function and activate the MGA objective function.\n",
    "        network.model.objective.deactivate()\n",
    "        network.model.mga_objective.activate()\n",
    "        # Add the MGA slack constraint.\n",
    "        #print('old objective value ',old_objective_value)\n",
    "        network.model.mga_constraint = pyomo_env.Constraint(expr=network.model.objective.expr <= \n",
    "                                              (1 + MGA_slack) * old_objective_value)\n",
    "    \n",
    "\n",
    "    # Initial solution of network, with non MGA objective function \n",
    "    network.lopf(network.snapshots,solver_name='gurobi')\n",
    "    # Saving the value of the old objective function.\n",
    "    old_objective_value = network.model.objective()\n",
    "    # Define a list of soltutions to the network object containing coppys of the network\n",
    "    network.solutions = []\n",
    "    # Loop until a non original solution is found\n",
    "    original_solution = True\n",
    "    while original_solution:\n",
    "        # Save current version of network in solutions\n",
    "        network.solutions.append(network.copy())\n",
    "        #Solve network with updated objective function\n",
    "        network.lopf(network.snapshots,\\\n",
    "                     solver_name='gurobi',\\\n",
    "                     extra_functionality=lambda network,\\\n",
    "                     snapshots: extra_functionality(network, snapshots, MGA_slack)) \n",
    "        # Tjek if the solution is seen before\n",
    "        for i in range(len(network.solutions)):\n",
    "            if network.generators_t.p.equals(network.solutions[i].generators_t.p):\n",
    "                original_solution = False\n",
    "        \n",
    "    return network"
   ]
  },
  {
   "cell_type": "markdown",
   "metadata": {},
   "source": [
    "#### Solving network with MGA solver "
   ]
  },
  {
   "cell_type": "code",
   "execution_count": 75,
   "metadata": {},
   "outputs": [
    {
     "name": "stderr",
     "output_type": "stream",
     "text": [
      "INFO:pypsa.pf:Slack bus for sub-network 0 is bus\n",
      "INFO:pypsa.opf:Performed preliminary steps\n",
      "INFO:pypsa.opf:Building pyomo model using `angles` formulation\n",
      "WARNING:pypsa.opf:The following generators have both investment optimisation and unit commitment:\n",
      "Index(['gas', 'gas2'], dtype='object')\n",
      "Currently PyPSA cannot do both these functions, so PyPSA is choosing investment optimisation for these generators.\n",
      "INFO:pypsa.opf:Solving model using gurobi\n",
      "INFO:pypsa.opf:Optimization successful\n"
     ]
    },
    {
     "name": "stdout",
     "output_type": "stream",
     "text": [
      "# ==========================================================\n",
      "# = Solver Results                                         =\n",
      "# ==========================================================\n",
      "# ----------------------------------------------------------\n",
      "#   Problem Information\n",
      "# ----------------------------------------------------------\n",
      "Problem: \n",
      "- Name: x23\n",
      "  Lower bound: 335000.0\n",
      "  Upper bound: 335000.0\n",
      "  Number of objectives: 1\n",
      "  Number of constraints: 33\n",
      "  Number of variables: 23\n",
      "  Number of binary variables: 4\n",
      "  Number of integer variables: 4\n",
      "  Number of continuous variables: 19\n",
      "  Number of nonzeros: 57\n",
      "  Sense: minimize\n",
      "# ----------------------------------------------------------\n",
      "#   Solver Information\n",
      "# ----------------------------------------------------------\n",
      "Solver: \n",
      "- Status: ok\n",
      "  Return code: 0\n",
      "  Message: Model was solved to optimality (subject to tolerances), and an optimal solution is available.\n",
      "  Termination condition: optimal\n",
      "  Termination message: Model was solved to optimality (subject to tolerances), and an optimal solution is available.\n",
      "  Wall time: 0.00899505615234375\n",
      "  Error rc: 0\n",
      "  Time: 0.16887903213500977\n",
      "# ----------------------------------------------------------\n",
      "#   Solution Information\n",
      "# ----------------------------------------------------------\n",
      "Solution: \n",
      "- number of solutions: 0\n",
      "  number of solutions displayed: 0\n"
     ]
    },
    {
     "name": "stderr",
     "output_type": "stream",
     "text": [
      "INFO:pypsa.pf:Slack bus for sub-network 0 is bus\n",
      "INFO:pypsa.opf:Performed preliminary steps\n",
      "INFO:pypsa.opf:Building pyomo model using `angles` formulation\n",
      "WARNING:pypsa.opf:The following generators have both investment optimisation and unit commitment:\n",
      "Index(['gas', 'gas2'], dtype='object')\n",
      "Currently PyPSA cannot do both these functions, so PyPSA is choosing investment optimisation for these generators.\n",
      "INFO:pypsa.opf:Solving model using gurobi\n",
      "INFO:pypsa.opf:Optimization successful\n"
     ]
    },
    {
     "name": "stdout",
     "output_type": "stream",
     "text": [
      "# ==========================================================\n",
      "# = Solver Results                                         =\n",
      "# ==========================================================\n",
      "# ----------------------------------------------------------\n",
      "#   Problem Information\n",
      "# ----------------------------------------------------------\n",
      "Problem: \n",
      "- Name: x23\n",
      "  Lower bound: 15130.0\n",
      "  Upper bound: 15130.0\n",
      "  Number of objectives: 1\n",
      "  Number of constraints: 34\n",
      "  Number of variables: 23\n",
      "  Number of binary variables: 4\n",
      "  Number of integer variables: 4\n",
      "  Number of continuous variables: 19\n",
      "  Number of nonzeros: 69\n",
      "  Sense: minimize\n",
      "# ----------------------------------------------------------\n",
      "#   Solver Information\n",
      "# ----------------------------------------------------------\n",
      "Solver: \n",
      "- Status: ok\n",
      "  Return code: 0\n",
      "  Message: Model was solved to optimality (subject to tolerances), and an optimal solution is available.\n",
      "  Termination condition: optimal\n",
      "  Termination message: Model was solved to optimality (subject to tolerances), and an optimal solution is available.\n",
      "  Wall time: 0.0040073394775390625\n",
      "  Error rc: 0\n",
      "  Time: 0.16490507125854492\n",
      "# ----------------------------------------------------------\n",
      "#   Solution Information\n",
      "# ----------------------------------------------------------\n",
      "Solution: \n",
      "- number of solutions: 0\n",
      "  number of solutions displayed: 0\n"
     ]
    },
    {
     "name": "stderr",
     "output_type": "stream",
     "text": [
      "INFO:pypsa.pf:Slack bus for sub-network 0 is bus\n",
      "INFO:pypsa.opf:Performed preliminary steps\n",
      "INFO:pypsa.opf:Building pyomo model using `angles` formulation\n",
      "WARNING:pypsa.opf:The following generators have both investment optimisation and unit commitment:\n",
      "Index(['gas', 'gas2'], dtype='object')\n",
      "Currently PyPSA cannot do both these functions, so PyPSA is choosing investment optimisation for these generators.\n",
      "INFO:pypsa.opf:Solving model using gurobi\n",
      "INFO:pypsa.opf:Optimization successful\n"
     ]
    },
    {
     "name": "stdout",
     "output_type": "stream",
     "text": [
      "# ==========================================================\n",
      "# = Solver Results                                         =\n",
      "# ==========================================================\n",
      "# ----------------------------------------------------------\n",
      "#   Problem Information\n",
      "# ----------------------------------------------------------\n",
      "Problem: \n",
      "- Name: x23\n",
      "  Lower bound: 15130.0\n",
      "  Upper bound: 15130.0\n",
      "  Number of objectives: 1\n",
      "  Number of constraints: 34\n",
      "  Number of variables: 23\n",
      "  Number of binary variables: 4\n",
      "  Number of integer variables: 4\n",
      "  Number of continuous variables: 19\n",
      "  Number of nonzeros: 69\n",
      "  Sense: minimize\n",
      "# ----------------------------------------------------------\n",
      "#   Solver Information\n",
      "# ----------------------------------------------------------\n",
      "Solver: \n",
      "- Status: ok\n",
      "  Return code: 0\n",
      "  Message: Model was solved to optimality (subject to tolerances), and an optimal solution is available.\n",
      "  Termination condition: optimal\n",
      "  Termination message: Model was solved to optimality (subject to tolerances), and an optimal solution is available.\n",
      "  Wall time: 0.00299835205078125\n",
      "  Error rc: 0\n",
      "  Time: 0.1598958969116211\n",
      "# ----------------------------------------------------------\n",
      "#   Solution Information\n",
      "# ----------------------------------------------------------\n",
      "Solution: \n",
      "- number of solutions: 0\n",
      "  number of solutions displayed: 0\n"
     ]
    },
    {
     "name": "stderr",
     "output_type": "stream",
     "text": [
      "INFO:pypsa.pf:Slack bus for sub-network 0 is bus\n",
      "INFO:pypsa.opf:Performed preliminary steps\n",
      "INFO:pypsa.opf:Building pyomo model using `angles` formulation\n",
      "WARNING:pypsa.opf:The following generators have both investment optimisation and unit commitment:\n",
      "Index(['gas', 'gas2'], dtype='object')\n",
      "Currently PyPSA cannot do both these functions, so PyPSA is choosing investment optimisation for these generators.\n",
      "INFO:pypsa.opf:Solving model using gurobi\n",
      "INFO:pypsa.opf:Optimization successful\n"
     ]
    },
    {
     "name": "stdout",
     "output_type": "stream",
     "text": [
      "# ==========================================================\n",
      "# = Solver Results                                         =\n",
      "# ==========================================================\n",
      "# ----------------------------------------------------------\n",
      "#   Problem Information\n",
      "# ----------------------------------------------------------\n",
      "Problem: \n",
      "- Name: x23\n",
      "  Lower bound: 15130.0\n",
      "  Upper bound: 15130.0\n",
      "  Number of objectives: 1\n",
      "  Number of constraints: 34\n",
      "  Number of variables: 23\n",
      "  Number of binary variables: 4\n",
      "  Number of integer variables: 4\n",
      "  Number of continuous variables: 19\n",
      "  Number of nonzeros: 69\n",
      "  Sense: minimize\n",
      "# ----------------------------------------------------------\n",
      "#   Solver Information\n",
      "# ----------------------------------------------------------\n",
      "Solver: \n",
      "- Status: ok\n",
      "  Return code: 0\n",
      "  Message: Model was solved to optimality (subject to tolerances), and an optimal solution is available.\n",
      "  Termination condition: optimal\n",
      "  Termination message: Model was solved to optimality (subject to tolerances), and an optimal solution is available.\n",
      "  Wall time: 0.0039958953857421875\n",
      "  Error rc: 0\n",
      "  Time: 0.16091084480285645\n",
      "# ----------------------------------------------------------\n",
      "#   Solution Information\n",
      "# ----------------------------------------------------------\n",
      "Solution: \n",
      "- number of solutions: 0\n",
      "  number of solutions displayed: 0\n"
     ]
    }
   ],
   "source": [
    "network = MGA_solver(network,0.01)"
   ]
  },
  {
   "cell_type": "markdown",
   "metadata": {},
   "source": [
    "#### Displaying solutions "
   ]
  },
  {
   "cell_type": "code",
   "execution_count": 76,
   "metadata": {},
   "outputs": [
    {
     "name": "stdout",
     "output_type": "stream",
     "text": [
      "solution  1\n",
      "     coal     gas  gas2\n",
      "0  4000.0     0.0   0.0\n",
      "1  4000.0  2000.0   0.0\n",
      "2  4000.0  1000.0   0.0\n",
      "3     0.0   800.0   0.0\n",
      "solution  2\n",
      "     coal     gas   gas2\n",
      "0  4000.0     0.0    0.0\n",
      "1  4000.0  2000.0    0.0\n",
      "2  4000.0   330.0  670.0\n",
      "3     0.0   800.0    0.0\n",
      "solution  3\n",
      "     coal     gas   gas2\n",
      "0  4000.0     0.0    0.0\n",
      "1  4000.0  2000.0    0.0\n",
      "2  4000.0  1000.0    0.0\n",
      "3     0.0   130.0  670.0\n"
     ]
    }
   ],
   "source": [
    "for i in range(len(network.solutions)):\n",
    "    print('solution ',i+1)\n",
    "    print(network.solutions[i].generators_t.p)"
   ]
  },
  {
   "cell_type": "code",
   "execution_count": 78,
   "metadata": {},
   "outputs": [],
   "source": [
    "def plot_generator_mix(network):\n",
    "    import matplotlib.pyplot as plt\n",
    "    labels = network.generators.index.tolist()\n",
    "    sizes = []\n",
    "    for generator in network.generators.index.tolist():\n",
    "        sizes.append(network.generators_t.p[generator].sum())\n",
    "\n",
    "\n",
    "    colors=['blue', 'orange', 'brown']\n",
    "    plt.figure()\n",
    "    plt.pie(sizes, \n",
    "            colors=colors, \n",
    "            labels=labels, \n",
    "            wedgeprops={'linewidth':0})\n",
    "    plt.axis('equal')\n",
    "\n",
    "    plt.title('Electricity mix', y=1.07)"
   ]
  },
  {
   "cell_type": "code",
   "execution_count": 66,
   "metadata": {},
   "outputs": [
    {
     "data": {
      "image/png": "[encoded data removed]",
      "text/plain": [
       "<Figure size 432x288 with 1 Axes>"
      ]
     },
     "metadata": {},
     "output_type": "display_data"
    },
    {
     "data": {
      "image/png": "[encoded data removed]",
      "text/plain": [
       "<Figure size 432x288 with 1 Axes>"
      ]
     },
     "metadata": {},
     "output_type": "display_data"
    },
    {
     "data": {
      "image/png": "[encoded data removed]",
      "text/plain": [
       "<Figure size 432x288 with 1 Axes>"
      ]
     },
     "metadata": {},
     "output_type": "display_data"
    }
   ],
   "source": [
    "for solution in network.solutions:\n",
    "    plot_generator_mix(solution) "
   ]
  },
  {
   "cell_type": "code",
   "execution_count": null,
   "metadata": {},
   "outputs": [],
   "source": []
  }
 ],
 "metadata": {
  "kernelspec": {
   "display_name": "Python 3",
   "language": "python",
   "name": "python3"
  },
  "language_info": {
   "codemirror_mode": {
    "name": "ipython",
    "version": 3
   },
   "file_extension": ".py",
   "mimetype": "text/x-python",
   "name": "python",
   "nbconvert_exporter": "python",
   "pygments_lexer": "ipython3",
   "version": "3.7.3"
  },
  "varInspector": {
   "cols": {
    "lenName": 16,
    "lenType": 16,
    "lenVar": 40
   },
   "kernels_config": {
    "python": {
     "delete_cmd_postfix": "",
     "delete_cmd_prefix": "del ",
     "library": "var_list.py",
     "varRefreshCmd": "print(var_dic_list())"
    },
    "r": {
     "delete_cmd_postfix": ") ",
     "delete_cmd_prefix": "rm(",
     "library": "var_list.r",
     "varRefreshCmd": "cat(var_dic_list()) "
    }
   },
   "position": {
    "height": "458.85px",
    "left": "1550px",
    "right": "20px",
    "top": "120px",
    "width": "350px"
   },
   "types_to_exclude": [
    "module",
    "function",
    "builtin_function_or_method",
    "instance",
    "_Feature"
   ],
   "window_display": true
  }
 },
 "nbformat": 4,
 "nbformat_minor": 2
}
