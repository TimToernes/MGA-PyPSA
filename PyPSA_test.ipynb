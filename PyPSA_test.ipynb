{
 "cells": [
  {
   "cell_type": "code",
   "execution_count": 1,
   "metadata": {},
   "outputs": [],
   "source": [
    "import pypsa\n",
    "import pandas as pd"
   ]
  },
  {
   "cell_type": "code",
   "execution_count": 2,
   "metadata": {},
   "outputs": [
    {
     "name": "stdout",
     "output_type": "stream",
     "text": [
      "importing Jupyter notebook from MGA_functions.ipynb\n"
     ]
    }
   ],
   "source": [
    "import import_ipynb\n",
    "# This line imports the MGA_functions notebook which contains \n",
    "# the MGA_solver function and other plotting functions\n",
    "from MGA_functions import *"
   ]
  },
  {
   "cell_type": "markdown",
   "metadata": {},
   "source": [
    "## Defining Network"
   ]
  },
  {
   "cell_type": "code",
   "execution_count": 12,
   "metadata": {},
   "outputs": [],
   "source": [
    "network = pypsa.Network()\n",
    "\n",
    "# Create an empty network.\n",
    "network.set_snapshots(range(2))\n",
    "\n",
    "# Add a bus to the network.\n",
    "network.add(\"Bus\",\"bus\")\n",
    "\n",
    "# Add a coal power plant to the bus.\n",
    "network.add(\"Generator\",\"coal\",bus=\"bus\",\n",
    "       committable=True,\n",
    "       p_min_pu=0.2,\n",
    "       marginal_cost=15,\n",
    "       p_nom_extendable=False,\n",
    "       p_nom=4000)\n",
    "\n",
    "# Add a gas power plant to the bus.\n",
    "network.add(\"Generator\",\"gas\",bus=\"bus\",\n",
    "       committable=True,\n",
    "       marginal_cost=20,\n",
    "       p_min_pu=0,\n",
    "       p_nom_extendable=True,\n",
    "       p_nom_max=1000)\n",
    "\n",
    "# Add a 2nd gas power plant to the bus.\n",
    "network.add(\"Generator\",\"bio\",bus=\"bus\",\n",
    "       committable=True,\n",
    "       marginal_cost=18,\n",
    "       p_min_pu=0,\n",
    "       p_nom_extendable=True,\n",
    "       p_nom_max=3000)\n",
    "\n",
    "# Add load to the bus.\n",
    "network.add(\"Load\",\"load\",bus=\"bus\",p_set=[6000,1200])"
   ]
  },
  {
   "cell_type": "markdown",
   "metadata": {},
   "source": [
    "#### Solving network with MGA solver "
   ]
  },
  {
   "cell_type": "code",
   "execution_count": 13,
   "metadata": {},
   "outputs": [
    {
     "name": "stderr",
     "output_type": "stream",
     "text": [
      "INFO:pypsa.pf:Slack bus for sub-network 0 is bus\n",
      "INFO:pypsa.opf:Performed preliminary steps\n",
      "INFO:pypsa.opf:Building pyomo model using `angles` formulation\n",
      "WARNING:pypsa.opf:The following generators have both investment optimisation and unit commitment:\n",
      "Index(['gas', 'bio'], dtype='object')\n",
      "Currently PyPSA cannot do both these functions, so PyPSA is choosing investment optimisation for these generators.\n",
      "INFO:pypsa.opf:Solving model using gurobi\n",
      "INFO:pypsa.opf:Optimization successful\n"
     ]
    },
    {
     "name": "stdout",
     "output_type": "stream",
     "text": [
      "# ==========================================================\n",
      "# = Solver Results                                         =\n",
      "# ==========================================================\n",
      "# ----------------------------------------------------------\n",
      "#   Problem Information\n",
      "# ----------------------------------------------------------\n",
      "Problem: \n",
      "- Name: x13\n",
      "  Lower bound: 114000.0\n",
      "  Upper bound: 114000.0\n",
      "  Number of objectives: 1\n",
      "  Number of constraints: 17\n",
      "  Number of variables: 13\n",
      "  Number of binary variables: 2\n",
      "  Number of integer variables: 2\n",
      "  Number of continuous variables: 11\n",
      "  Number of nonzeros: 29\n",
      "  Sense: minimize\n",
      "# ----------------------------------------------------------\n",
      "#   Solver Information\n",
      "# ----------------------------------------------------------\n",
      "Solver: \n",
      "- Status: ok\n",
      "  Return code: 0\n",
      "  Message: Model was solved to optimality (subject to tolerances), and an optimal solution is available.\n",
      "  Termination condition: optimal\n",
      "  Termination message: Model was solved to optimality (subject to tolerances), and an optimal solution is available.\n",
      "  Wall time: 0.0\n",
      "  Error rc: 0\n",
      "  Time: 0.24998188018798828\n",
      "# ----------------------------------------------------------\n",
      "#   Solution Information\n",
      "# ----------------------------------------------------------\n",
      "Solution: \n",
      "- number of solutions: 0\n",
      "  number of solutions displayed: 0\n"
     ]
    },
    {
     "name": "stderr",
     "output_type": "stream",
     "text": [
      "INFO:pypsa.pf:Slack bus for sub-network 0 is bus\n",
      "INFO:pypsa.opf:Performed preliminary steps\n",
      "INFO:pypsa.opf:Building pyomo model using `angles` formulation\n",
      "WARNING:pypsa.opf:The following generators have both investment optimisation and unit commitment:\n",
      "Index(['gas', 'bio'], dtype='object')\n",
      "Currently PyPSA cannot do both these functions, so PyPSA is choosing investment optimisation for these generators.\n",
      "INFO:pypsa.opf:Solving model using gurobi\n",
      "INFO:pypsa.opf:Optimization successful\n"
     ]
    },
    {
     "name": "stdout",
     "output_type": "stream",
     "text": [
      "# ==========================================================\n",
      "# = Solver Results                                         =\n",
      "# ==========================================================\n",
      "# ----------------------------------------------------------\n",
      "#   Problem Information\n",
      "# ----------------------------------------------------------\n",
      "Problem: \n",
      "- Name: x13\n",
      "  Lower bound: 6630.0\n",
      "  Upper bound: 6630.0\n",
      "  Number of objectives: 1\n",
      "  Number of constraints: 18\n",
      "  Number of variables: 13\n",
      "  Number of binary variables: 2\n",
      "  Number of integer variables: 2\n",
      "  Number of continuous variables: 11\n",
      "  Number of nonzeros: 35\n",
      "  Sense: minimize\n",
      "# ----------------------------------------------------------\n",
      "#   Solver Information\n",
      "# ----------------------------------------------------------\n",
      "Solver: \n",
      "- Status: ok\n",
      "  Return code: 0\n",
      "  Message: Model was solved to optimality (subject to tolerances), and an optimal solution is available.\n",
      "  Termination condition: optimal\n",
      "  Termination message: Model was solved to optimality (subject to tolerances), and an optimal solution is available.\n",
      "  Wall time: 0.015625\n",
      "  Error rc: 0\n",
      "  Time: 0.2656056880950928\n",
      "# ----------------------------------------------------------\n",
      "#   Solution Information\n",
      "# ----------------------------------------------------------\n",
      "Solution: \n",
      "- number of solutions: 0\n",
      "  number of solutions displayed: 0\n"
     ]
    },
    {
     "name": "stderr",
     "output_type": "stream",
     "text": [
      "INFO:pypsa.pf:Slack bus for sub-network 0 is bus\n",
      "INFO:pypsa.opf:Performed preliminary steps\n",
      "INFO:pypsa.opf:Building pyomo model using `angles` formulation\n",
      "WARNING:pypsa.opf:The following generators have both investment optimisation and unit commitment:\n",
      "Index(['gas', 'bio'], dtype='object')\n",
      "Currently PyPSA cannot do both these functions, so PyPSA is choosing investment optimisation for these generators.\n",
      "INFO:pypsa.opf:Solving model using gurobi\n",
      "INFO:pypsa.opf:Optimization successful\n"
     ]
    },
    {
     "name": "stdout",
     "output_type": "stream",
     "text": [
      "# ==========================================================\n",
      "# = Solver Results                                         =\n",
      "# ==========================================================\n",
      "# ----------------------------------------------------------\n",
      "#   Problem Information\n",
      "# ----------------------------------------------------------\n",
      "Problem: \n",
      "- Name: x13\n",
      "  Lower bound: 6820.0\n",
      "  Upper bound: 6820.0\n",
      "  Number of objectives: 1\n",
      "  Number of constraints: 18\n",
      "  Number of variables: 13\n",
      "  Number of binary variables: 2\n",
      "  Number of integer variables: 2\n",
      "  Number of continuous variables: 11\n",
      "  Number of nonzeros: 35\n",
      "  Sense: minimize\n",
      "# ----------------------------------------------------------\n",
      "#   Solver Information\n",
      "# ----------------------------------------------------------\n",
      "Solver: \n",
      "- Status: ok\n",
      "  Return code: 0\n",
      "  Message: Model was solved to optimality (subject to tolerances), and an optimal solution is available.\n",
      "  Termination condition: optimal\n",
      "  Termination message: Model was solved to optimality (subject to tolerances), and an optimal solution is available.\n",
      "  Wall time: 0.015628814697265625\n",
      "  Error rc: 0\n",
      "  Time: 0.28122997283935547\n",
      "# ----------------------------------------------------------\n",
      "#   Solution Information\n",
      "# ----------------------------------------------------------\n",
      "Solution: \n",
      "- number of solutions: 0\n",
      "  number of solutions displayed: 0\n"
     ]
    },
    {
     "name": "stderr",
     "output_type": "stream",
     "text": [
      "INFO:pypsa.pf:Slack bus for sub-network 0 is bus\n",
      "INFO:pypsa.opf:Performed preliminary steps\n",
      "INFO:pypsa.opf:Building pyomo model using `angles` formulation\n",
      "WARNING:pypsa.opf:The following generators have both investment optimisation and unit commitment:\n",
      "Index(['gas', 'bio'], dtype='object')\n",
      "Currently PyPSA cannot do both these functions, so PyPSA is choosing investment optimisation for these generators.\n",
      "INFO:pypsa.opf:Solving model using gurobi\n",
      "INFO:pypsa.opf:Optimization successful\n"
     ]
    },
    {
     "name": "stdout",
     "output_type": "stream",
     "text": [
      "# ==========================================================\n",
      "# = Solver Results                                         =\n",
      "# ==========================================================\n",
      "# ----------------------------------------------------------\n",
      "#   Problem Information\n",
      "# ----------------------------------------------------------\n",
      "Problem: \n",
      "- Name: x13\n",
      "  Lower bound: 6630.0\n",
      "  Upper bound: 6630.0\n",
      "  Number of objectives: 1\n",
      "  Number of constraints: 18\n",
      "  Number of variables: 13\n",
      "  Number of binary variables: 2\n",
      "  Number of integer variables: 2\n",
      "  Number of continuous variables: 11\n",
      "  Number of nonzeros: 35\n",
      "  Sense: minimize\n",
      "# ----------------------------------------------------------\n",
      "#   Solver Information\n",
      "# ----------------------------------------------------------\n",
      "Solver: \n",
      "- Status: ok\n",
      "  Return code: 0\n",
      "  Message: Model was solved to optimality (subject to tolerances), and an optimal solution is available.\n",
      "  Termination condition: optimal\n",
      "  Termination message: Model was solved to optimality (subject to tolerances), and an optimal solution is available.\n",
      "  Wall time: 0.0\n",
      "  Error rc: 0\n",
      "  Time: 0.24998164176940918\n",
      "# ----------------------------------------------------------\n",
      "#   Solution Information\n",
      "# ----------------------------------------------------------\n",
      "Solution: \n",
      "- number of solutions: 0\n",
      "  number of solutions displayed: 0\n"
     ]
    }
   ],
   "source": [
    "network = MGA_solver(network,0.01)"
   ]
  },
  {
   "cell_type": "markdown",
   "metadata": {},
   "source": [
    "#### Displaying solutions "
   ]
  },
  {
   "cell_type": "code",
   "execution_count": 14,
   "metadata": {},
   "outputs": [
    {
     "name": "stdout",
     "output_type": "stream",
     "text": [
      "solution  1\n",
      "     coal  gas     bio\n",
      "0  4000.0  0.0  2000.0\n",
      "1  1200.0  0.0     0.0\n",
      "solution  2\n",
      "     coal    gas     bio\n",
      "0  4000.0  570.0  1430.0\n",
      "1  1200.0    0.0     0.0\n",
      "solution  3\n",
      "     coal  gas     bio\n",
      "0  4000.0  0.0  2000.0\n",
      "1   820.0  0.0   380.0\n"
     ]
    }
   ],
   "source": [
    "for i in range(len(network.solutions)):\n",
    "    print('solution ',i+1)\n",
    "    print(network.solutions[i].generators_t.p)"
   ]
  },
  {
   "cell_type": "code",
   "execution_count": 15,
   "metadata": {},
   "outputs": [
    {
     "data": {
      "image/png": "[encoded data removed]",
      "text/plain": [
       "<Figure size 432x288 with 1 Axes>"
      ]
     },
     "metadata": {},
     "output_type": "display_data"
    },
    {
     "data": {
      "image/png": "[encoded data removed]",
      "text/plain": [
       "<Figure size 432x288 with 1 Axes>"
      ]
     },
     "metadata": {},
     "output_type": "display_data"
    },
    {
     "data": {
      "image/png": "[encoded data removed]",
      "text/plain": [
       "<Figure size 432x288 with 1 Axes>"
      ]
     },
     "metadata": {},
     "output_type": "display_data"
    }
   ],
   "source": [
    "for solution in network.solutions:\n",
    "    plot_generator_mix(solution) "
   ]
  },
  {
   "cell_type": "code",
   "execution_count": null,
   "metadata": {},
   "outputs": [],
   "source": []
  },
  {
   "cell_type": "code",
   "execution_count": null,
   "metadata": {},
   "outputs": [],
   "source": []
  },
  {
   "cell_type": "code",
   "execution_count": null,
   "metadata": {},
   "outputs": [],
   "source": []
  },
  {
   "cell_type": "code",
   "execution_count": null,
   "metadata": {},
   "outputs": [],
   "source": []
  },
  {
   "cell_type": "code",
   "execution_count": null,
   "metadata": {},
   "outputs": [],
   "source": []
  }
 ],
 "metadata": {
  "kernelspec": {
   "display_name": "Python 3",
   "language": "python",
   "name": "python3"
  },
  "language_info": {
   "codemirror_mode": {
    "name": "ipython",
    "version": 3
   },
   "file_extension": ".py",
   "mimetype": "text/x-python",
   "name": "python",
   "nbconvert_exporter": "python",
   "pygments_lexer": "ipython3",
   "version": "3.7.3"
  },
  "varInspector": {
   "cols": {
    "lenName": 16,
    "lenType": 16,
    "lenVar": 40
   },
   "kernels_config": {
    "python": {
     "delete_cmd_postfix": "",
     "delete_cmd_prefix": "del ",
     "library": "var_list.py",
     "varRefreshCmd": "print(var_dic_list())"
    },
    "r": {
     "delete_cmd_postfix": ") ",
     "delete_cmd_prefix": "rm(",
     "library": "var_list.r",
     "varRefreshCmd": "cat(var_dic_list()) "
    }
   },
   "position": {
    "height": "458.85px",
    "left": "2231px",
    "right": "20px",
    "top": "1116px",
    "width": "350px"
   },
   "types_to_exclude": [
    "module",
    "function",
    "builtin_function_or_method",
    "instance",
    "_Feature"
   ],
   "window_display": true
  }
 },
 "nbformat": 4,
 "nbformat_minor": 2
}
